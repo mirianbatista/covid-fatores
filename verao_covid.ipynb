{
  "nbformat": 4,
  "nbformat_minor": 0,
  "metadata": {
    "colab": {
      "name": "verao-covid.ipynb",
      "provenance": [],
      "collapsed_sections": [],
      "include_colab_link": true
    },
    "kernelspec": {
      "display_name": "Python 3",
      "name": "python3"
    },
    "language_info": {
      "name": "python"
    }
  },
  "cells": [
    {
      "cell_type": "markdown",
      "metadata": {
        "id": "view-in-github",
        "colab_type": "text"
      },
      "source": [
        "<a href=\"https://colab.research.google.com/github/mirianbatista/covid-fatores/blob/master/verao_covid.ipynb\" target=\"_parent\"><img src=\"https://colab.research.google.com/assets/colab-badge.svg\" alt=\"Open In Colab\"/></a>"
      ]
    },
    {
      "cell_type": "code",
      "metadata": {
        "id": "7iHxis_WcAOZ"
      },
      "source": [
        "import requests\n",
        "import io\n",
        "import gzip\n",
        "import pandas as pd\n",
        "import seaborn as sns; sns.set_theme(style=\"whitegrid\")"
      ],
      "execution_count": null,
      "outputs": []
    },
    {
      "cell_type": "code",
      "metadata": {
        "id": "G0IDdDMOcSI4"
      },
      "source": [
        "url = \"https://data.brasil.io/dataset/covid19/caso_full.csv.gz\"\n",
        "response = requests.get(url)\n",
        "bytes_io = io.BytesIO(response.content)\n",
        "with gzip.open(bytes_io, 'rt') as read_file:\n",
        "    covid = pd.read_csv(read_file, parse_dates=[\"date\"], dtype={\"city_ibge_code\": str})"
      ],
      "execution_count": null,
      "outputs": []
    },
    {
      "cell_type": "code",
      "metadata": {
        "id": "qpBzAepucUpV"
      },
      "source": [
        "cols = \"MUNICIPIO\",\"COD_IBGE\",\"CLUSTER\"\n",
        "cidades_turisticas = pd.read_excel('https://github.com/mirianbatista/idhm-pb/blob/master/RELATORIO_CATEGORIZACAO_2019-Portal.xls?raw=true', usecols=cols, dtype={\"COD_IBGE\": str})\n",
        "cidades = cidades_turisticas.MUNICIPIO.to_list()"
      ],
      "execution_count": null,
      "outputs": []
    },
    {
      "cell_type": "code",
      "metadata": {
        "colab": {
          "base_uri": "https://localhost:8080/",
          "height": 49
        },
        "id": "UR6ZZUy0JX3M",
        "outputId": "b665a14a-2324-4b98-96ee-2203afd8ebb3"
      },
      "source": [
        "cidades_turisticas[cidades_turisticas.isna().any(axis=1)]"
      ],
      "execution_count": null,
      "outputs": [
        {
          "output_type": "execute_result",
          "data": {
            "text/html": [
              "<div>\n",
              "<style scoped>\n",
              "    .dataframe tbody tr th:only-of-type {\n",
              "        vertical-align: middle;\n",
              "    }\n",
              "\n",
              "    .dataframe tbody tr th {\n",
              "        vertical-align: top;\n",
              "    }\n",
              "\n",
              "    .dataframe thead th {\n",
              "        text-align: right;\n",
              "    }\n",
              "</style>\n",
              "<table border=\"1\" class=\"dataframe\">\n",
              "  <thead>\n",
              "    <tr style=\"text-align: right;\">\n",
              "      <th></th>\n",
              "      <th>MUNICIPIO</th>\n",
              "      <th>COD_IBGE</th>\n",
              "      <th>CLUSTER</th>\n",
              "    </tr>\n",
              "  </thead>\n",
              "  <tbody>\n",
              "  </tbody>\n",
              "</table>\n",
              "</div>"
            ],
            "text/plain": [
              "Empty DataFrame\n",
              "Columns: [MUNICIPIO, COD_IBGE, CLUSTER]\n",
              "Index: []"
            ]
          },
          "metadata": {
            "tags": []
          },
          "execution_count": 4
        }
      ]
    },
    {
      "cell_type": "code",
      "metadata": {
        "colab": {
          "base_uri": "https://localhost:8080/"
        },
        "id": "eGp0dc_7FvJU",
        "outputId": "532fb097-3304-45e7-a1bc-9cdcebfb12a4"
      },
      "source": [
        "covid_cidades_turisticas = covid.loc[covid['city'].isin(cidades)]\n",
        "covid_cidades_turisticas.info()"
      ],
      "execution_count": null,
      "outputs": [
        {
          "output_type": "stream",
          "text": [
            "<class 'pandas.core.frame.DataFrame'>\n",
            "Int64Index: 918261 entries, 0 to 1809422\n",
            "Data columns (total 18 columns):\n",
            " #   Column                                         Non-Null Count   Dtype         \n",
            "---  ------                                         --------------   -----         \n",
            " 0   city                                           918261 non-null  object        \n",
            " 1   city_ibge_code                                 918261 non-null  object        \n",
            " 2   date                                           918261 non-null  datetime64[ns]\n",
            " 3   epidemiological_week                           918261 non-null  int64         \n",
            " 4   estimated_population                           918261 non-null  float64       \n",
            " 5   estimated_population_2019                      918261 non-null  float64       \n",
            " 6   is_last                                        918261 non-null  bool          \n",
            " 7   is_repeated                                    918261 non-null  bool          \n",
            " 8   last_available_confirmed                       918261 non-null  int64         \n",
            " 9   last_available_confirmed_per_100k_inhabitants  912135 non-null  float64       \n",
            " 10  last_available_date                            918261 non-null  object        \n",
            " 11  last_available_death_rate                      918261 non-null  float64       \n",
            " 12  last_available_deaths                          918261 non-null  int64         \n",
            " 13  order_for_place                                918261 non-null  int64         \n",
            " 14  place_type                                     918261 non-null  object        \n",
            " 15  state                                          918261 non-null  object        \n",
            " 16  new_confirmed                                  918261 non-null  int64         \n",
            " 17  new_deaths                                     918261 non-null  int64         \n",
            "dtypes: bool(2), datetime64[ns](1), float64(4), int64(6), object(5)\n",
            "memory usage: 120.8+ MB\n"
          ],
          "name": "stdout"
        }
      ]
    },
    {
      "cell_type": "code",
      "metadata": {
        "colab": {
          "base_uri": "https://localhost:8080/"
        },
        "id": "jcO5inF0JTPW",
        "outputId": "cfbc8029-b23d-4c89-c502-a2cda8a640f9"
      },
      "source": [
        "covid_cidades_turisticas.fillna(0, inplace=True)"
      ],
      "execution_count": null,
      "outputs": [
        {
          "output_type": "stream",
          "text": [
            "/usr/local/lib/python3.7/dist-packages/pandas/core/frame.py:4327: SettingWithCopyWarning: \n",
            "A value is trying to be set on a copy of a slice from a DataFrame\n",
            "\n",
            "See the caveats in the documentation: https://pandas.pydata.org/pandas-docs/stable/user_guide/indexing.html#returning-a-view-versus-a-copy\n",
            "  downcast=downcast,\n"
          ],
          "name": "stderr"
        }
      ]
    },
    {
      "cell_type": "code",
      "metadata": {
        "id": "TfYW37dNcDuU"
      },
      "source": [
        "covid_tur = pd.merge(covid_cidades_turisticas, cidades_turisticas, left_on=\"city_ibge_code\", right_on=\"COD_IBGE\", how=\"left\").dropna(subset=['CLUSTER'])"
      ],
      "execution_count": null,
      "outputs": []
    },
    {
      "cell_type": "code",
      "metadata": {
        "id": "OsYg5kzyC3f8"
      },
      "source": [
        "def aumento_percentual(t0, t1):\n",
        "  return (t1-t0)/t0 if t0 != 0 else 0\n",
        "\n",
        "def calcula_aumento_relativo(df, x_col, date_col, from_date, to_date):\n",
        "    from_x = int(df[df[date_col] == from_date][x_col])\n",
        "    to_x = int(df[df[date_col] == to_date][x_col])\n",
        "    abs_dif = to_x - from_x\n",
        "    relative_dif = aumento_percentual(from_x, to_x)\n",
        "    return {f'{x_col}_from': from_x, f'{x_col}_to': to_x, 'dif': abs_dif,'relative_dif': relative_dif}"
      ],
      "execution_count": null,
      "outputs": []
    },
    {
      "cell_type": "code",
      "metadata": {
        "id": "PGoYpu0rT-wX",
        "colab": {
          "base_uri": "https://localhost:8080/",
          "height": 419
        },
        "outputId": "e28a982e-416a-437b-ec21-7ca868ac9f3e"
      },
      "source": [
        "covid_tur_aumento = covid_tur.groupby(['city_ibge_code', 'estimated_population']).apply(calcula_aumento_relativo, x_col='last_available_deaths', date_col='date', from_date='2020-12-17', to_date='2021-03-16').to_frame()\n",
        "covid_tur_aumento.rename(columns={0: \"explodir\"}, inplace=True)\n",
        "covid_tur_aumento = covid_tur_aumento['explodir'].apply(pd.Series)\n",
        "covid_tur_aumento.reset_index(inplace=True)\n",
        "covid_tur_aumento.sort_values(by='relative_dif', ascending=False)"
      ],
      "execution_count": null,
      "outputs": [
        {
          "output_type": "execute_result",
          "data": {
            "text/html": [
              "<div>\n",
              "<style scoped>\n",
              "    .dataframe tbody tr th:only-of-type {\n",
              "        vertical-align: middle;\n",
              "    }\n",
              "\n",
              "    .dataframe tbody tr th {\n",
              "        vertical-align: top;\n",
              "    }\n",
              "\n",
              "    .dataframe thead th {\n",
              "        text-align: right;\n",
              "    }\n",
              "</style>\n",
              "<table border=\"1\" class=\"dataframe\">\n",
              "  <thead>\n",
              "    <tr style=\"text-align: right;\">\n",
              "      <th></th>\n",
              "      <th>city_ibge_code</th>\n",
              "      <th>estimated_population</th>\n",
              "      <th>last_available_deaths_from</th>\n",
              "      <th>last_available_deaths_to</th>\n",
              "      <th>dif</th>\n",
              "      <th>relative_dif</th>\n",
              "    </tr>\n",
              "  </thead>\n",
              "  <tbody>\n",
              "    <tr>\n",
              "      <th>1783</th>\n",
              "      <td>4106506</td>\n",
              "      <td>20580.0</td>\n",
              "      <td>2.0</td>\n",
              "      <td>39.0</td>\n",
              "      <td>37.0</td>\n",
              "      <td>18.500000</td>\n",
              "    </tr>\n",
              "    <tr>\n",
              "      <th>1235</th>\n",
              "      <td>3170503</td>\n",
              "      <td>10345.0</td>\n",
              "      <td>1.0</td>\n",
              "      <td>13.0</td>\n",
              "      <td>12.0</td>\n",
              "      <td>12.000000</td>\n",
              "    </tr>\n",
              "    <tr>\n",
              "      <th>2009</th>\n",
              "      <td>4206652</td>\n",
              "      <td>4698.0</td>\n",
              "      <td>1.0</td>\n",
              "      <td>13.0</td>\n",
              "      <td>12.0</td>\n",
              "      <td>12.000000</td>\n",
              "    </tr>\n",
              "    <tr>\n",
              "      <th>733</th>\n",
              "      <td>2923605</td>\n",
              "      <td>21695.0</td>\n",
              "      <td>1.0</td>\n",
              "      <td>12.0</td>\n",
              "      <td>11.0</td>\n",
              "      <td>11.000000</td>\n",
              "    </tr>\n",
              "    <tr>\n",
              "      <th>1075</th>\n",
              "      <td>3145109</td>\n",
              "      <td>16832.0</td>\n",
              "      <td>1.0</td>\n",
              "      <td>12.0</td>\n",
              "      <td>11.0</td>\n",
              "      <td>11.000000</td>\n",
              "    </tr>\n",
              "    <tr>\n",
              "      <th>...</th>\n",
              "      <td>...</td>\n",
              "      <td>...</td>\n",
              "      <td>...</td>\n",
              "      <td>...</td>\n",
              "      <td>...</td>\n",
              "      <td>...</td>\n",
              "    </tr>\n",
              "    <tr>\n",
              "      <th>2273</th>\n",
              "      <td>4311270</td>\n",
              "      <td>1607.0</td>\n",
              "      <td>0.0</td>\n",
              "      <td>4.0</td>\n",
              "      <td>4.0</td>\n",
              "      <td>0.000000</td>\n",
              "    </tr>\n",
              "    <tr>\n",
              "      <th>576</th>\n",
              "      <td>2706448</td>\n",
              "      <td>13332.0</td>\n",
              "      <td>11.0</td>\n",
              "      <td>11.0</td>\n",
              "      <td>0.0</td>\n",
              "      <td>0.000000</td>\n",
              "    </tr>\n",
              "    <tr>\n",
              "      <th>735</th>\n",
              "      <td>2923902</td>\n",
              "      <td>9686.0</td>\n",
              "      <td>19.0</td>\n",
              "      <td>18.0</td>\n",
              "      <td>-1.0</td>\n",
              "      <td>-0.052632</td>\n",
              "    </tr>\n",
              "    <tr>\n",
              "      <th>193</th>\n",
              "      <td>2102705</td>\n",
              "      <td>22117.0</td>\n",
              "      <td>4.0</td>\n",
              "      <td>3.0</td>\n",
              "      <td>-1.0</td>\n",
              "      <td>-0.250000</td>\n",
              "    </tr>\n",
              "    <tr>\n",
              "      <th>2073</th>\n",
              "      <td>4214300</td>\n",
              "      <td>2887.0</td>\n",
              "      <td>3.0</td>\n",
              "      <td>2.0</td>\n",
              "      <td>-1.0</td>\n",
              "      <td>-0.333333</td>\n",
              "    </tr>\n",
              "  </tbody>\n",
              "</table>\n",
              "<p>2668 rows × 6 columns</p>\n",
              "</div>"
            ],
            "text/plain": [
              "     city_ibge_code  estimated_population  ...   dif  relative_dif\n",
              "1783        4106506               20580.0  ...  37.0     18.500000\n",
              "1235        3170503               10345.0  ...  12.0     12.000000\n",
              "2009        4206652                4698.0  ...  12.0     12.000000\n",
              "733         2923605               21695.0  ...  11.0     11.000000\n",
              "1075        3145109               16832.0  ...  11.0     11.000000\n",
              "...             ...                   ...  ...   ...           ...\n",
              "2273        4311270                1607.0  ...   4.0      0.000000\n",
              "576         2706448               13332.0  ...   0.0      0.000000\n",
              "735         2923902                9686.0  ...  -1.0     -0.052632\n",
              "193         2102705               22117.0  ...  -1.0     -0.250000\n",
              "2073        4214300                2887.0  ...  -1.0     -0.333333\n",
              "\n",
              "[2668 rows x 6 columns]"
            ]
          },
          "metadata": {
            "tags": []
          },
          "execution_count": 9
        }
      ]
    },
    {
      "cell_type": "code",
      "metadata": {
        "colab": {
          "base_uri": "https://localhost:8080/",
          "height": 419
        },
        "id": "W_ZvzKCRX082",
        "outputId": "389c5892-5107-478a-bf6f-d27bc638638d"
      },
      "source": [
        "covid_tur_aumento_categorias = pd.merge(covid_tur_aumento, cidades_turisticas, left_on=\"city_ibge_code\", right_on=\"COD_IBGE\", how=\"left\")\n",
        "covid_tur_aumento_categorias = covid_tur_aumento_categorias[covid_tur_aumento_categorias.estimated_population >= 10000]\n",
        "covid_tur_aumento_categorias"
      ],
      "execution_count": null,
      "outputs": [
        {
          "output_type": "execute_result",
          "data": {
            "text/html": [
              "<div>\n",
              "<style scoped>\n",
              "    .dataframe tbody tr th:only-of-type {\n",
              "        vertical-align: middle;\n",
              "    }\n",
              "\n",
              "    .dataframe tbody tr th {\n",
              "        vertical-align: top;\n",
              "    }\n",
              "\n",
              "    .dataframe thead th {\n",
              "        text-align: right;\n",
              "    }\n",
              "</style>\n",
              "<table border=\"1\" class=\"dataframe\">\n",
              "  <thead>\n",
              "    <tr style=\"text-align: right;\">\n",
              "      <th></th>\n",
              "      <th>city_ibge_code</th>\n",
              "      <th>estimated_population</th>\n",
              "      <th>last_available_deaths_from</th>\n",
              "      <th>last_available_deaths_to</th>\n",
              "      <th>dif</th>\n",
              "      <th>relative_dif</th>\n",
              "      <th>MUNICIPIO</th>\n",
              "      <th>COD_IBGE</th>\n",
              "      <th>CLUSTER</th>\n",
              "    </tr>\n",
              "  </thead>\n",
              "  <tbody>\n",
              "    <tr>\n",
              "      <th>0</th>\n",
              "      <td>1100023</td>\n",
              "      <td>109523.0</td>\n",
              "      <td>120.0</td>\n",
              "      <td>240.0</td>\n",
              "      <td>120.0</td>\n",
              "      <td>1.000000</td>\n",
              "      <td>Ariquemes</td>\n",
              "      <td>1100023</td>\n",
              "      <td>C</td>\n",
              "    </tr>\n",
              "    <tr>\n",
              "      <th>2</th>\n",
              "      <td>1100049</td>\n",
              "      <td>85893.0</td>\n",
              "      <td>51.0</td>\n",
              "      <td>118.0</td>\n",
              "      <td>67.0</td>\n",
              "      <td>1.313725</td>\n",
              "      <td>Cacoal</td>\n",
              "      <td>1100049</td>\n",
              "      <td>B</td>\n",
              "    </tr>\n",
              "    <tr>\n",
              "      <th>3</th>\n",
              "      <td>1100056</td>\n",
              "      <td>16204.0</td>\n",
              "      <td>6.0</td>\n",
              "      <td>17.0</td>\n",
              "      <td>11.0</td>\n",
              "      <td>1.833333</td>\n",
              "      <td>Cerejeiras</td>\n",
              "      <td>1100056</td>\n",
              "      <td>D</td>\n",
              "    </tr>\n",
              "    <tr>\n",
              "      <th>4</th>\n",
              "      <td>1100064</td>\n",
              "      <td>15544.0</td>\n",
              "      <td>4.0</td>\n",
              "      <td>11.0</td>\n",
              "      <td>7.0</td>\n",
              "      <td>1.750000</td>\n",
              "      <td>Colorado do Oeste</td>\n",
              "      <td>1100064</td>\n",
              "      <td>D</td>\n",
              "    </tr>\n",
              "    <tr>\n",
              "      <th>5</th>\n",
              "      <td>1100080</td>\n",
              "      <td>18798.0</td>\n",
              "      <td>7.0</td>\n",
              "      <td>12.0</td>\n",
              "      <td>5.0</td>\n",
              "      <td>0.714286</td>\n",
              "      <td>Costa Marques</td>\n",
              "      <td>1100080</td>\n",
              "      <td>D</td>\n",
              "    </tr>\n",
              "    <tr>\n",
              "      <th>...</th>\n",
              "      <td>...</td>\n",
              "      <td>...</td>\n",
              "      <td>...</td>\n",
              "      <td>...</td>\n",
              "      <td>...</td>\n",
              "      <td>...</td>\n",
              "      <td>...</td>\n",
              "      <td>...</td>\n",
              "      <td>...</td>\n",
              "    </tr>\n",
              "    <tr>\n",
              "      <th>2660</th>\n",
              "      <td>5221403</td>\n",
              "      <td>129823.0</td>\n",
              "      <td>172.0</td>\n",
              "      <td>230.0</td>\n",
              "      <td>58.0</td>\n",
              "      <td>0.337209</td>\n",
              "      <td>Trindade</td>\n",
              "      <td>5221403</td>\n",
              "      <td>B</td>\n",
              "    </tr>\n",
              "    <tr>\n",
              "      <th>2662</th>\n",
              "      <td>5221601</td>\n",
              "      <td>40840.0</td>\n",
              "      <td>30.0</td>\n",
              "      <td>47.0</td>\n",
              "      <td>17.0</td>\n",
              "      <td>0.566667</td>\n",
              "      <td>Uruaçu</td>\n",
              "      <td>5221601</td>\n",
              "      <td>B</td>\n",
              "    </tr>\n",
              "    <tr>\n",
              "      <th>2664</th>\n",
              "      <td>5221858</td>\n",
              "      <td>172135.0</td>\n",
              "      <td>135.0</td>\n",
              "      <td>187.0</td>\n",
              "      <td>52.0</td>\n",
              "      <td>0.385185</td>\n",
              "      <td>Valparaíso de Goiás</td>\n",
              "      <td>5221858</td>\n",
              "      <td>D</td>\n",
              "    </tr>\n",
              "    <tr>\n",
              "      <th>2665</th>\n",
              "      <td>5222005</td>\n",
              "      <td>13977.0</td>\n",
              "      <td>4.0</td>\n",
              "      <td>8.0</td>\n",
              "      <td>4.0</td>\n",
              "      <td>1.000000</td>\n",
              "      <td>Vianópolis</td>\n",
              "      <td>5222005</td>\n",
              "      <td>D</td>\n",
              "    </tr>\n",
              "    <tr>\n",
              "      <th>2667</th>\n",
              "      <td>5300108</td>\n",
              "      <td>3055149.0</td>\n",
              "      <td>3781.0</td>\n",
              "      <td>4716.0</td>\n",
              "      <td>935.0</td>\n",
              "      <td>0.247289</td>\n",
              "      <td>Brasília</td>\n",
              "      <td>5300108</td>\n",
              "      <td>A</td>\n",
              "    </tr>\n",
              "  </tbody>\n",
              "</table>\n",
              "<p>1782 rows × 9 columns</p>\n",
              "</div>"
            ],
            "text/plain": [
              "     city_ibge_code  estimated_population  ...  COD_IBGE  CLUSTER\n",
              "0           1100023              109523.0  ...   1100023        C\n",
              "2           1100049               85893.0  ...   1100049        B\n",
              "3           1100056               16204.0  ...   1100056        D\n",
              "4           1100064               15544.0  ...   1100064        D\n",
              "5           1100080               18798.0  ...   1100080        D\n",
              "...             ...                   ...  ...       ...      ...\n",
              "2660        5221403              129823.0  ...   5221403        B\n",
              "2662        5221601               40840.0  ...   5221601        B\n",
              "2664        5221858              172135.0  ...   5221858        D\n",
              "2665        5222005               13977.0  ...   5222005        D\n",
              "2667        5300108             3055149.0  ...   5300108        A\n",
              "\n",
              "[1782 rows x 9 columns]"
            ]
          },
          "metadata": {
            "tags": []
          },
          "execution_count": 10
        }
      ]
    },
    {
      "cell_type": "code",
      "metadata": {
        "colab": {
          "base_uri": "https://localhost:8080/",
          "height": 289
        },
        "id": "3sbUC9yX0IsG",
        "outputId": "e333738e-ab14-44ce-aa91-f5a4e654e6be"
      },
      "source": [
        "categorias = pd.concat([covid_tur_aumento_categorias.groupby('CLUSTER').agg(\n",
        "    n_cities=('city_ibge_code','count'),\n",
        "    population_mean=('estimated_population','mean'),\n",
        "    population_median=('estimated_population','median'),\n",
        "    last_available_deaths_from_mean=('last_available_deaths_from','mean'),\n",
        "    last_available_deaths_from_median=('last_available_deaths_from','median'),\n",
        "    last_available_deaths_to_mean=('last_available_deaths_to','mean'),\n",
        "    last_available_deaths_to_median=('last_available_deaths_to','median'),    \n",
        "    dif_mean=('dif','mean'),\n",
        "    dif_median=('dif','median'),\n",
        "    relative_dif_mean=('relative_dif','mean'),\n",
        "    relative_dif_median=('relative_dif','median')\n",
        "),(covid_tur_aumento_categorias.groupby('CLUSTER').apply(lambda x: pd.np.average(x.relative_dif, weights=x.estimated_population)).rename('relative_dif_average'))], axis=1)\n",
        "categorias"
      ],
      "execution_count": null,
      "outputs": [
        {
          "output_type": "stream",
          "text": [
            "/usr/local/lib/python3.7/dist-packages/ipykernel_launcher.py:13: FutureWarning: The pandas.np module is deprecated and will be removed from pandas in a future version. Import numpy directly instead\n",
            "  del sys.path[0]\n"
          ],
          "name": "stderr"
        },
        {
          "output_type": "execute_result",
          "data": {
            "text/html": [
              "<div>\n",
              "<style scoped>\n",
              "    .dataframe tbody tr th:only-of-type {\n",
              "        vertical-align: middle;\n",
              "    }\n",
              "\n",
              "    .dataframe tbody tr th {\n",
              "        vertical-align: top;\n",
              "    }\n",
              "\n",
              "    .dataframe thead th {\n",
              "        text-align: right;\n",
              "    }\n",
              "</style>\n",
              "<table border=\"1\" class=\"dataframe\">\n",
              "  <thead>\n",
              "    <tr style=\"text-align: right;\">\n",
              "      <th></th>\n",
              "      <th>n_cities</th>\n",
              "      <th>population_mean</th>\n",
              "      <th>population_median</th>\n",
              "      <th>last_available_deaths_from_mean</th>\n",
              "      <th>last_available_deaths_from_median</th>\n",
              "      <th>last_available_deaths_to_mean</th>\n",
              "      <th>last_available_deaths_to_median</th>\n",
              "      <th>dif_mean</th>\n",
              "      <th>dif_median</th>\n",
              "      <th>relative_dif_mean</th>\n",
              "      <th>relative_dif_median</th>\n",
              "      <th>relative_dif_average</th>\n",
              "    </tr>\n",
              "    <tr>\n",
              "      <th>CLUSTER</th>\n",
              "      <th></th>\n",
              "      <th></th>\n",
              "      <th></th>\n",
              "      <th></th>\n",
              "      <th></th>\n",
              "      <th></th>\n",
              "      <th></th>\n",
              "      <th></th>\n",
              "      <th></th>\n",
              "      <th></th>\n",
              "      <th></th>\n",
              "      <th></th>\n",
              "    </tr>\n",
              "  </thead>\n",
              "  <tbody>\n",
              "    <tr>\n",
              "      <th>A</th>\n",
              "      <td>61</td>\n",
              "      <td>953133.065574</td>\n",
              "      <td>413418.0</td>\n",
              "      <td>1245.852459</td>\n",
              "      <td>450.0</td>\n",
              "      <td>1803.098361</td>\n",
              "      <td>694.0</td>\n",
              "      <td>557.245902</td>\n",
              "      <td>255.0</td>\n",
              "      <td>0.589027</td>\n",
              "      <td>0.536103</td>\n",
              "      <td>0.468361</td>\n",
              "    </tr>\n",
              "    <tr>\n",
              "      <th>B</th>\n",
              "      <td>247</td>\n",
              "      <td>177728.704453</td>\n",
              "      <td>118516.0</td>\n",
              "      <td>154.076923</td>\n",
              "      <td>82.0</td>\n",
              "      <td>241.538462</td>\n",
              "      <td>134.0</td>\n",
              "      <td>87.461538</td>\n",
              "      <td>57.0</td>\n",
              "      <td>0.796403</td>\n",
              "      <td>0.573864</td>\n",
              "      <td>0.693121</td>\n",
              "    </tr>\n",
              "    <tr>\n",
              "      <th>C</th>\n",
              "      <td>440</td>\n",
              "      <td>68916.186364</td>\n",
              "      <td>46332.5</td>\n",
              "      <td>53.400000</td>\n",
              "      <td>28.5</td>\n",
              "      <td>83.895455</td>\n",
              "      <td>47.0</td>\n",
              "      <td>30.495455</td>\n",
              "      <td>18.0</td>\n",
              "      <td>0.853009</td>\n",
              "      <td>0.635939</td>\n",
              "      <td>0.717212</td>\n",
              "    </tr>\n",
              "    <tr>\n",
              "      <th>D</th>\n",
              "      <td>965</td>\n",
              "      <td>26081.930570</td>\n",
              "      <td>19148.0</td>\n",
              "      <td>15.727461</td>\n",
              "      <td>9.0</td>\n",
              "      <td>25.517098</td>\n",
              "      <td>17.0</td>\n",
              "      <td>9.789637</td>\n",
              "      <td>7.0</td>\n",
              "      <td>1.041423</td>\n",
              "      <td>0.680851</td>\n",
              "      <td>0.902755</td>\n",
              "    </tr>\n",
              "    <tr>\n",
              "      <th>E</th>\n",
              "      <td>69</td>\n",
              "      <td>18080.014493</td>\n",
              "      <td>14446.0</td>\n",
              "      <td>9.753623</td>\n",
              "      <td>7.0</td>\n",
              "      <td>15.463768</td>\n",
              "      <td>12.0</td>\n",
              "      <td>5.710145</td>\n",
              "      <td>3.0</td>\n",
              "      <td>0.791551</td>\n",
              "      <td>0.450000</td>\n",
              "      <td>0.763206</td>\n",
              "    </tr>\n",
              "  </tbody>\n",
              "</table>\n",
              "</div>"
            ],
            "text/plain": [
              "         n_cities  population_mean  ...  relative_dif_median  relative_dif_average\n",
              "CLUSTER                             ...                                           \n",
              "A              61    953133.065574  ...             0.536103              0.468361\n",
              "B             247    177728.704453  ...             0.573864              0.693121\n",
              "C             440     68916.186364  ...             0.635939              0.717212\n",
              "D             965     26081.930570  ...             0.680851              0.902755\n",
              "E              69     18080.014493  ...             0.450000              0.763206\n",
              "\n",
              "[5 rows x 12 columns]"
            ]
          },
          "metadata": {
            "tags": []
          },
          "execution_count": 11
        }
      ]
    },
    {
      "cell_type": "code",
      "metadata": {
        "colab": {
          "base_uri": "https://localhost:8080/",
          "height": 285
        },
        "id": "KTfRVSKYYY2U",
        "outputId": "0a1b8ac5-114e-480a-ec0d-5f060384fa5d"
      },
      "source": [
        "ax = sns.boxplot(x=\"CLUSTER\", y=\"last_available_deaths_to\", data=covid_tur_aumento_categorias, showfliers = False)"
      ],
      "execution_count": null,
      "outputs": [
        {
          "output_type": "display_data",
          "data": {
            "image/png": "[encoded data removed]",
            "text/plain": [
              "<Figure size 432x288 with 1 Axes>"
            ]
          },
          "metadata": {
            "tags": [],
            "needs_background": "light"
          }
        }
      ]
    },
    {
      "cell_type": "code",
      "metadata": {
        "colab": {
          "base_uri": "https://localhost:8080/",
          "height": 285
        },
        "id": "HU8iIOXklZFd",
        "outputId": "6f388f84-5a11-47f5-9cbd-1d031d1e8929"
      },
      "source": [
        "ax = sns.boxplot(x=\"CLUSTER\", y=\"relative_dif\", data=covid_tur_aumento_categorias, showfliers = False)"
      ],
      "execution_count": null,
      "outputs": [
        {
          "output_type": "display_data",
          "data": {
            "image/png": "[encoded data removed]",
            "text/plain": [
              "<Figure size 432x288 with 1 Axes>"
            ]
          },
          "metadata": {
            "tags": [],
            "needs_background": "light"
          }
        }
      ]
    },
    {
      "cell_type": "code",
      "metadata": {
        "colab": {
          "base_uri": "https://localhost:8080/",
          "height": 285
        },
        "id": "AknU60tl32xW",
        "outputId": "f19d8b49-ead2-466a-fe24-2c40f4f2c1f8"
      },
      "source": [
        "ax = sns.boxplot(x=\"CLUSTER\", y=\"dif\", data=covid_tur_aumento_categorias, showfliers = False)"
      ],
      "execution_count": null,
      "outputs": [
        {
          "output_type": "display_data",
          "data": {
            "image/png": "[encoded data removed]",
            "text/plain": [
              "<Figure size 432x288 with 1 Axes>"
            ]
          },
          "metadata": {
            "tags": [],
            "needs_background": "light"
          }
        }
      ]
    }
  ]
}