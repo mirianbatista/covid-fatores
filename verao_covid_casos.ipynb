{
  "nbformat": 4,
  "nbformat_minor": 0,
  "metadata": {
    "colab": {
      "name": "verao-covid-casos.ipynb",
      "provenance": [],
      "collapsed_sections": [],
      "include_colab_link": true
    },
    "kernelspec": {
      "display_name": "Python 3",
      "name": "python3"
    },
    "language_info": {
      "name": "python"
    }
  },
  "cells": [
    {
      "cell_type": "markdown",
      "metadata": {
        "id": "view-in-github",
        "colab_type": "text"
      },
      "source": [
        "<a href=\"https://colab.research.google.com/github/mirianbatista/covid-fatores/blob/master/verao_covid_casos.ipynb\" target=\"_parent\"><img src=\"https://colab.research.google.com/assets/colab-badge.svg\" alt=\"Open In Colab\"/></a>"
      ]
    },
    {
      "cell_type": "code",
      "metadata": {
        "id": "7iHxis_WcAOZ"
      },
      "source": [
        "import requests\n",
        "import io\n",
        "import gzip\n",
        "import pandas as pd\n",
        "import seaborn as sns; sns.set_theme(style=\"whitegrid\")"
      ],
      "execution_count": null,
      "outputs": []
    },
    {
      "cell_type": "code",
      "metadata": {
        "id": "G0IDdDMOcSI4"
      },
      "source": [
        "url = \"https://data.brasil.io/dataset/covid19/caso_full.csv.gz\"\n",
        "response = requests.get(url)\n",
        "bytes_io = io.BytesIO(response.content)\n",
        "with gzip.open(bytes_io, 'rt') as read_file:\n",
        "    covid = pd.read_csv(read_file, parse_dates=[\"date\"], dtype={\"city_ibge_code\": str})"
      ],
      "execution_count": null,
      "outputs": []
    },
    {
      "cell_type": "code",
      "metadata": {
        "id": "qpBzAepucUpV"
      },
      "source": [
        "cols = \"MUNICIPIO\",\"COD_IBGE\",\"CLUSTER\",\"UF\",\"ARRECADACAO\",\"QUANTIDADE_VISITAS_ESTIMADAS_ NACIONAL\"\n",
        "cidades_turisticas = pd.read_excel('https://github.com/mirianbatista/covid-fatores/blob/master/RELATORIO_CATEGORIZACAO_2019-Portal.xls?raw=true', usecols=cols, dtype={\"COD_IBGE\": str})\n",
        "cidades = cidades_turisticas.MUNICIPIO.to_list()"
      ],
      "execution_count": null,
      "outputs": []
    },
    {
      "cell_type": "code",
      "metadata": {
        "colab": {
          "base_uri": "https://localhost:8080/",
          "height": 48
        },
        "id": "UR6ZZUy0JX3M",
        "outputId": "88ca21e6-fa48-45dc-c09c-6bd1ed02667c"
      },
      "source": [
        "cidades_turisticas[cidades_turisticas.isna().any(axis=1)]"
      ],
      "execution_count": null,
      "outputs": [
        {
          "output_type": "execute_result",
          "data": {
            "text/html": [
              "<div>\n",
              "<style scoped>\n",
              "    .dataframe tbody tr th:only-of-type {\n",
              "        vertical-align: middle;\n",
              "    }\n",
              "\n",
              "    .dataframe tbody tr th {\n",
              "        vertical-align: top;\n",
              "    }\n",
              "\n",
              "    .dataframe thead th {\n",
              "        text-align: right;\n",
              "    }\n",
              "</style>\n",
              "<table border=\"1\" class=\"dataframe\">\n",
              "  <thead>\n",
              "    <tr style=\"text-align: right;\">\n",
              "      <th></th>\n",
              "      <th>UF</th>\n",
              "      <th>MUNICIPIO</th>\n",
              "      <th>COD_IBGE</th>\n",
              "      <th>QUANTIDADE_VISITAS_ESTIMADAS_ NACIONAL</th>\n",
              "      <th>ARRECADACAO</th>\n",
              "      <th>CLUSTER</th>\n",
              "    </tr>\n",
              "  </thead>\n",
              "  <tbody>\n",
              "  </tbody>\n",
              "</table>\n",
              "</div>"
            ],
            "text/plain": [
              "Empty DataFrame\n",
              "Columns: [UF, MUNICIPIO, COD_IBGE, QUANTIDADE_VISITAS_ESTIMADAS_ NACIONAL, ARRECADACAO, CLUSTER]\n",
              "Index: []"
            ]
          },
          "metadata": {
            "tags": []
          },
          "execution_count": 4
        }
      ]
    },
    {
      "cell_type": "code",
      "metadata": {
        "colab": {
          "base_uri": "https://localhost:8080/"
        },
        "id": "eGp0dc_7FvJU",
        "outputId": "169803c1-1e2c-45a9-c927-78f78b7c6d21"
      },
      "source": [
        "covid_cidades_turisticas = covid.loc[covid['city'].isin(cidades)]\n",
        "covid_cidades_turisticas.info()"
      ],
      "execution_count": null,
      "outputs": [
        {
          "output_type": "stream",
          "text": [
            "<class 'pandas.core.frame.DataFrame'>\n",
            "Int64Index: 1182025 entries, 0 to 2337326\n",
            "Data columns (total 18 columns):\n",
            " #   Column                                         Non-Null Count    Dtype         \n",
            "---  ------                                         --------------    -----         \n",
            " 0   city                                           1182025 non-null  object        \n",
            " 1   city_ibge_code                                 1182025 non-null  object        \n",
            " 2   date                                           1182025 non-null  datetime64[ns]\n",
            " 3   epidemiological_week                           1182025 non-null  int64         \n",
            " 4   estimated_population                           1182025 non-null  float64       \n",
            " 5   estimated_population_2019                      1182025 non-null  float64       \n",
            " 6   is_last                                        1182025 non-null  bool          \n",
            " 7   is_repeated                                    1182025 non-null  bool          \n",
            " 8   last_available_confirmed                       1182025 non-null  int64         \n",
            " 9   last_available_confirmed_per_100k_inhabitants  1175899 non-null  float64       \n",
            " 10  last_available_date                            1182025 non-null  object        \n",
            " 11  last_available_death_rate                      1182025 non-null  float64       \n",
            " 12  last_available_deaths                          1182025 non-null  int64         \n",
            " 13  order_for_place                                1182025 non-null  int64         \n",
            " 14  place_type                                     1182025 non-null  object        \n",
            " 15  state                                          1182025 non-null  object        \n",
            " 16  new_confirmed                                  1182025 non-null  int64         \n",
            " 17  new_deaths                                     1182025 non-null  int64         \n",
            "dtypes: bool(2), datetime64[ns](1), float64(4), int64(6), object(5)\n",
            "memory usage: 155.6+ MB\n"
          ],
          "name": "stdout"
        }
      ]
    },
    {
      "cell_type": "code",
      "metadata": {
        "colab": {
          "base_uri": "https://localhost:8080/"
        },
        "id": "jcO5inF0JTPW",
        "outputId": "33cae6bc-f687-475f-ae45-05bf661b1b7c"
      },
      "source": [
        "covid_cidades_turisticas.fillna(0, inplace=True)"
      ],
      "execution_count": null,
      "outputs": [
        {
          "output_type": "stream",
          "text": [
            "/usr/local/lib/python3.7/dist-packages/pandas/core/frame.py:4327: SettingWithCopyWarning: \n",
            "A value is trying to be set on a copy of a slice from a DataFrame\n",
            "\n",
            "See the caveats in the documentation: https://pandas.pydata.org/pandas-docs/stable/user_guide/indexing.html#returning-a-view-versus-a-copy\n",
            "  downcast=downcast,\n"
          ],
          "name": "stderr"
        }
      ]
    },
    {
      "cell_type": "code",
      "metadata": {
        "id": "TfYW37dNcDuU"
      },
      "source": [
        "covid_tur = pd.merge(covid_cidades_turisticas, cidades_turisticas, left_on=\"city_ibge_code\", right_on=\"COD_IBGE\", how=\"left\").dropna(subset=['CLUSTER'])\n",
        "covid_tur = covid_tur[covid_tur.estimated_population >= 20000]"
      ],
      "execution_count": null,
      "outputs": []
    },
    {
      "cell_type": "code",
      "metadata": {
        "id": "OsYg5kzyC3f8"
      },
      "source": [
        "def aumento_percentual(t0, t1):\n",
        "  return (t1-t0)/t0 if t0 != 0 else 0\n",
        "\n",
        "def calcula_aumento_relativo(df, x_col, date_col, from_date, to_date):\n",
        "    from_x = int(df[df[date_col] == from_date][x_col])\n",
        "    to_x = int(df[df[date_col] == to_date][x_col])\n",
        "    abs_dif = to_x - from_x\n",
        "    relative_dif = aumento_percentual(from_x, to_x)\n",
        "    return {f'{x_col}_from': from_x, f'{x_col}_to': to_x, 'dif': abs_dif,'relative_dif': relative_dif}"
      ],
      "execution_count": null,
      "outputs": []
    },
    {
      "cell_type": "code",
      "metadata": {
        "id": "PGoYpu0rT-wX",
        "colab": {
          "base_uri": "https://localhost:8080/",
          "height": 414
        },
        "outputId": "9a87997f-9ccc-4573-89d8-93376591ec88"
      },
      "source": [
        "covid_tur_aumento = covid_tur.groupby(['city_ibge_code', 'estimated_population']).apply(calcula_aumento_relativo, x_col='last_available_confirmed', date_col='date', from_date='2020-12-17', to_date='2021-03-16').to_frame()\n",
        "covid_tur_aumento.rename(columns={0: \"explodir\"}, inplace=True)\n",
        "covid_tur_aumento = covid_tur_aumento['explodir'].apply(pd.Series)\n",
        "covid_tur_aumento.reset_index(inplace=True)\n",
        "covid_tur_aumento.sort_values(by='relative_dif', ascending=False)"
      ],
      "execution_count": null,
      "outputs": [
        {
          "output_type": "execute_result",
          "data": {
            "text/html": [
              "<div>\n",
              "<style scoped>\n",
              "    .dataframe tbody tr th:only-of-type {\n",
              "        vertical-align: middle;\n",
              "    }\n",
              "\n",
              "    .dataframe tbody tr th {\n",
              "        vertical-align: top;\n",
              "    }\n",
              "\n",
              "    .dataframe thead th {\n",
              "        text-align: right;\n",
              "    }\n",
              "</style>\n",
              "<table border=\"1\" class=\"dataframe\">\n",
              "  <thead>\n",
              "    <tr style=\"text-align: right;\">\n",
              "      <th></th>\n",
              "      <th>city_ibge_code</th>\n",
              "      <th>estimated_population</th>\n",
              "      <th>last_available_confirmed_from</th>\n",
              "      <th>last_available_confirmed_to</th>\n",
              "      <th>dif</th>\n",
              "      <th>relative_dif</th>\n",
              "    </tr>\n",
              "  </thead>\n",
              "  <tbody>\n",
              "    <tr>\n",
              "      <th>527</th>\n",
              "      <td>3154002</td>\n",
              "      <td>23711.0</td>\n",
              "      <td>212.0</td>\n",
              "      <td>1147.0</td>\n",
              "      <td>935.0</td>\n",
              "      <td>4.410377</td>\n",
              "    </tr>\n",
              "    <tr>\n",
              "      <th>1029</th>\n",
              "      <td>4315305</td>\n",
              "      <td>22607.0</td>\n",
              "      <td>96.0</td>\n",
              "      <td>489.0</td>\n",
              "      <td>393.0</td>\n",
              "      <td>4.093750</td>\n",
              "    </tr>\n",
              "    <tr>\n",
              "      <th>754</th>\n",
              "      <td>3527405</td>\n",
              "      <td>21886.0</td>\n",
              "      <td>122.0</td>\n",
              "      <td>539.0</td>\n",
              "      <td>417.0</td>\n",
              "      <td>3.418033</td>\n",
              "    </tr>\n",
              "    <tr>\n",
              "      <th>462</th>\n",
              "      <td>3121605</td>\n",
              "      <td>47825.0</td>\n",
              "      <td>277.0</td>\n",
              "      <td>1201.0</td>\n",
              "      <td>924.0</td>\n",
              "      <td>3.335740</td>\n",
              "    </tr>\n",
              "    <tr>\n",
              "      <th>817</th>\n",
              "      <td>3550100</td>\n",
              "      <td>41123.0</td>\n",
              "      <td>427.0</td>\n",
              "      <td>1851.0</td>\n",
              "      <td>1424.0</td>\n",
              "      <td>3.334895</td>\n",
              "    </tr>\n",
              "    <tr>\n",
              "      <th>...</th>\n",
              "      <td>...</td>\n",
              "      <td>...</td>\n",
              "      <td>...</td>\n",
              "      <td>...</td>\n",
              "      <td>...</td>\n",
              "      <td>...</td>\n",
              "    </tr>\n",
              "    <tr>\n",
              "      <th>114</th>\n",
              "      <td>2105104</td>\n",
              "      <td>27269.0</td>\n",
              "      <td>214.0</td>\n",
              "      <td>217.0</td>\n",
              "      <td>3.0</td>\n",
              "      <td>0.014019</td>\n",
              "    </tr>\n",
              "    <tr>\n",
              "      <th>96</th>\n",
              "      <td>2100907</td>\n",
              "      <td>46771.0</td>\n",
              "      <td>589.0</td>\n",
              "      <td>596.0</td>\n",
              "      <td>7.0</td>\n",
              "      <td>0.011885</td>\n",
              "    </tr>\n",
              "    <tr>\n",
              "      <th>109</th>\n",
              "      <td>2103406</td>\n",
              "      <td>49621.0</td>\n",
              "      <td>1580.0</td>\n",
              "      <td>1591.0</td>\n",
              "      <td>11.0</td>\n",
              "      <td>0.006962</td>\n",
              "    </tr>\n",
              "    <tr>\n",
              "      <th>77</th>\n",
              "      <td>1508035</td>\n",
              "      <td>31257.0</td>\n",
              "      <td>589.0</td>\n",
              "      <td>593.0</td>\n",
              "      <td>4.0</td>\n",
              "      <td>0.006791</td>\n",
              "    </tr>\n",
              "    <tr>\n",
              "      <th>95</th>\n",
              "      <td>2100204</td>\n",
              "      <td>22112.0</td>\n",
              "      <td>202.0</td>\n",
              "      <td>203.0</td>\n",
              "      <td>1.0</td>\n",
              "      <td>0.004950</td>\n",
              "    </tr>\n",
              "  </tbody>\n",
              "</table>\n",
              "<p>1155 rows × 6 columns</p>\n",
              "</div>"
            ],
            "text/plain": [
              "     city_ibge_code  estimated_population  ...     dif  relative_dif\n",
              "527         3154002               23711.0  ...   935.0      4.410377\n",
              "1029        4315305               22607.0  ...   393.0      4.093750\n",
              "754         3527405               21886.0  ...   417.0      3.418033\n",
              "462         3121605               47825.0  ...   924.0      3.335740\n",
              "817         3550100               41123.0  ...  1424.0      3.334895\n",
              "...             ...                   ...  ...     ...           ...\n",
              "114         2105104               27269.0  ...     3.0      0.014019\n",
              "96          2100907               46771.0  ...     7.0      0.011885\n",
              "109         2103406               49621.0  ...    11.0      0.006962\n",
              "77          1508035               31257.0  ...     4.0      0.006791\n",
              "95          2100204               22112.0  ...     1.0      0.004950\n",
              "\n",
              "[1155 rows x 6 columns]"
            ]
          },
          "metadata": {
            "tags": []
          },
          "execution_count": 9
        }
      ]
    },
    {
      "cell_type": "code",
      "metadata": {
        "colab": {
          "base_uri": "https://localhost:8080/",
          "height": 517
        },
        "id": "W_ZvzKCRX082",
        "outputId": "3a73e2cd-461f-4f87-8a6b-65563513cc23"
      },
      "source": [
        "covid_tur_aumento_categorias = pd.merge(covid_tur_aumento, cidades_turisticas, left_on=\"city_ibge_code\", right_on=\"COD_IBGE\", how=\"left\")\n",
        "covid_tur_aumento_categorias"
      ],
      "execution_count": null,
      "outputs": [
        {
          "output_type": "execute_result",
          "data": {
            "text/html": [
              "<div>\n",
              "<style scoped>\n",
              "    .dataframe tbody tr th:only-of-type {\n",
              "        vertical-align: middle;\n",
              "    }\n",
              "\n",
              "    .dataframe tbody tr th {\n",
              "        vertical-align: top;\n",
              "    }\n",
              "\n",
              "    .dataframe thead th {\n",
              "        text-align: right;\n",
              "    }\n",
              "</style>\n",
              "<table border=\"1\" class=\"dataframe\">\n",
              "  <thead>\n",
              "    <tr style=\"text-align: right;\">\n",
              "      <th></th>\n",
              "      <th>city_ibge_code</th>\n",
              "      <th>estimated_population</th>\n",
              "      <th>last_available_confirmed_from</th>\n",
              "      <th>last_available_confirmed_to</th>\n",
              "      <th>dif</th>\n",
              "      <th>relative_dif</th>\n",
              "      <th>UF</th>\n",
              "      <th>MUNICIPIO</th>\n",
              "      <th>COD_IBGE</th>\n",
              "      <th>QUANTIDADE_VISITAS_ESTIMADAS_ NACIONAL</th>\n",
              "      <th>ARRECADACAO</th>\n",
              "      <th>CLUSTER</th>\n",
              "    </tr>\n",
              "  </thead>\n",
              "  <tbody>\n",
              "    <tr>\n",
              "      <th>0</th>\n",
              "      <td>1100023</td>\n",
              "      <td>109523.0</td>\n",
              "      <td>6997.0</td>\n",
              "      <td>14166.0</td>\n",
              "      <td>7169.0</td>\n",
              "      <td>1.024582</td>\n",
              "      <td>RO</td>\n",
              "      <td>Ariquemes</td>\n",
              "      <td>1100023</td>\n",
              "      <td>3371</td>\n",
              "      <td>739140</td>\n",
              "      <td>C</td>\n",
              "    </tr>\n",
              "    <tr>\n",
              "      <th>1</th>\n",
              "      <td>1100049</td>\n",
              "      <td>85893.0</td>\n",
              "      <td>3512.0</td>\n",
              "      <td>8352.0</td>\n",
              "      <td>4840.0</td>\n",
              "      <td>1.378132</td>\n",
              "      <td>RO</td>\n",
              "      <td>Cacoal</td>\n",
              "      <td>1100049</td>\n",
              "      <td>98548</td>\n",
              "      <td>866406</td>\n",
              "      <td>B</td>\n",
              "    </tr>\n",
              "    <tr>\n",
              "      <th>2</th>\n",
              "      <td>1100106</td>\n",
              "      <td>46556.0</td>\n",
              "      <td>3513.0</td>\n",
              "      <td>4858.0</td>\n",
              "      <td>1345.0</td>\n",
              "      <td>0.382864</td>\n",
              "      <td>RO</td>\n",
              "      <td>Guajará-Mirim</td>\n",
              "      <td>1100106</td>\n",
              "      <td>34819</td>\n",
              "      <td>72309</td>\n",
              "      <td>C</td>\n",
              "    </tr>\n",
              "    <tr>\n",
              "      <th>3</th>\n",
              "      <td>1100155</td>\n",
              "      <td>35737.0</td>\n",
              "      <td>1527.0</td>\n",
              "      <td>2705.0</td>\n",
              "      <td>1178.0</td>\n",
              "      <td>0.771447</td>\n",
              "      <td>RO</td>\n",
              "      <td>Ouro Preto do Oeste</td>\n",
              "      <td>1100155</td>\n",
              "      <td>9645</td>\n",
              "      <td>0</td>\n",
              "      <td>C</td>\n",
              "    </tr>\n",
              "    <tr>\n",
              "      <th>4</th>\n",
              "      <td>1100189</td>\n",
              "      <td>36881.0</td>\n",
              "      <td>869.0</td>\n",
              "      <td>3279.0</td>\n",
              "      <td>2410.0</td>\n",
              "      <td>2.773303</td>\n",
              "      <td>RO</td>\n",
              "      <td>Pimenta Bueno</td>\n",
              "      <td>1100189</td>\n",
              "      <td>29225</td>\n",
              "      <td>0</td>\n",
              "      <td>C</td>\n",
              "    </tr>\n",
              "    <tr>\n",
              "      <th>...</th>\n",
              "      <td>...</td>\n",
              "      <td>...</td>\n",
              "      <td>...</td>\n",
              "      <td>...</td>\n",
              "      <td>...</td>\n",
              "      <td>...</td>\n",
              "      <td>...</td>\n",
              "      <td>...</td>\n",
              "      <td>...</td>\n",
              "      <td>...</td>\n",
              "      <td>...</td>\n",
              "      <td>...</td>\n",
              "    </tr>\n",
              "    <tr>\n",
              "      <th>1150</th>\n",
              "      <td>5220603</td>\n",
              "      <td>20816.0</td>\n",
              "      <td>413.0</td>\n",
              "      <td>864.0</td>\n",
              "      <td>451.0</td>\n",
              "      <td>1.092010</td>\n",
              "      <td>GO</td>\n",
              "      <td>Silvânia</td>\n",
              "      <td>5220603</td>\n",
              "      <td>12425</td>\n",
              "      <td>0</td>\n",
              "      <td>D</td>\n",
              "    </tr>\n",
              "    <tr>\n",
              "      <th>1151</th>\n",
              "      <td>5221403</td>\n",
              "      <td>129823.0</td>\n",
              "      <td>3992.0</td>\n",
              "      <td>5659.0</td>\n",
              "      <td>1667.0</td>\n",
              "      <td>0.417585</td>\n",
              "      <td>GO</td>\n",
              "      <td>Trindade</td>\n",
              "      <td>5221403</td>\n",
              "      <td>193242</td>\n",
              "      <td>546770</td>\n",
              "      <td>B</td>\n",
              "    </tr>\n",
              "    <tr>\n",
              "      <th>1152</th>\n",
              "      <td>5221601</td>\n",
              "      <td>40840.0</td>\n",
              "      <td>1256.0</td>\n",
              "      <td>2424.0</td>\n",
              "      <td>1168.0</td>\n",
              "      <td>0.929936</td>\n",
              "      <td>GO</td>\n",
              "      <td>Uruaçu</td>\n",
              "      <td>5221601</td>\n",
              "      <td>215680</td>\n",
              "      <td>375239</td>\n",
              "      <td>B</td>\n",
              "    </tr>\n",
              "    <tr>\n",
              "      <th>1153</th>\n",
              "      <td>5221858</td>\n",
              "      <td>172135.0</td>\n",
              "      <td>7981.0</td>\n",
              "      <td>9342.0</td>\n",
              "      <td>1361.0</td>\n",
              "      <td>0.170530</td>\n",
              "      <td>GO</td>\n",
              "      <td>Valparaíso de Goiás</td>\n",
              "      <td>5221858</td>\n",
              "      <td>3064</td>\n",
              "      <td>746468</td>\n",
              "      <td>D</td>\n",
              "    </tr>\n",
              "    <tr>\n",
              "      <th>1154</th>\n",
              "      <td>5300108</td>\n",
              "      <td>3055149.0</td>\n",
              "      <td>212333.0</td>\n",
              "      <td>281710.0</td>\n",
              "      <td>69377.0</td>\n",
              "      <td>0.326737</td>\n",
              "      <td>DF</td>\n",
              "      <td>Brasília</td>\n",
              "      <td>5300108</td>\n",
              "      <td>4332053</td>\n",
              "      <td>59764674</td>\n",
              "      <td>A</td>\n",
              "    </tr>\n",
              "  </tbody>\n",
              "</table>\n",
              "<p>1155 rows × 12 columns</p>\n",
              "</div>"
            ],
            "text/plain": [
              "     city_ibge_code  estimated_population  ...  ARRECADACAO  CLUSTER\n",
              "0           1100023              109523.0  ...       739140        C\n",
              "1           1100049               85893.0  ...       866406        B\n",
              "2           1100106               46556.0  ...        72309        C\n",
              "3           1100155               35737.0  ...            0        C\n",
              "4           1100189               36881.0  ...            0        C\n",
              "...             ...                   ...  ...          ...      ...\n",
              "1150        5220603               20816.0  ...            0        D\n",
              "1151        5221403              129823.0  ...       546770        B\n",
              "1152        5221601               40840.0  ...       375239        B\n",
              "1153        5221858              172135.0  ...       746468        D\n",
              "1154        5300108             3055149.0  ...     59764674        A\n",
              "\n",
              "[1155 rows x 12 columns]"
            ]
          },
          "metadata": {
            "tags": []
          },
          "execution_count": 10
        }
      ]
    },
    {
      "cell_type": "code",
      "metadata": {
        "colab": {
          "base_uri": "https://localhost:8080/",
          "height": 301
        },
        "id": "Dz3ifwVPSU6k",
        "outputId": "b3adce2a-11f4-46a5-bdc5-3d5c2a8d96b9"
      },
      "source": [
        "ax = sns.boxplot(x=\"CLUSTER\", y=\"last_available_confirmed_to\", data=covid_tur_aumento_categorias, showfliers = False).set_title(\"Mortalidade em dezembro de 2020\")"
      ],
      "execution_count": null,
      "outputs": [
        {
          "output_type": "display_data",
          "data": {
            "image/png": "[encoded data removed]",
            "text/plain": [
              "<Figure size 432x288 with 1 Axes>"
            ]
          },
          "metadata": {
            "tags": [],
            "needs_background": "light"
          }
        }
      ]
    },
    {
      "cell_type": "code",
      "metadata": {
        "colab": {
          "base_uri": "https://localhost:8080/",
          "height": 301
        },
        "id": "HU8iIOXklZFd",
        "outputId": "e9b65e37-9fec-4bc4-9f02-ea47f9f9819c"
      },
      "source": [
        "ax = sns.boxplot(x=\"CLUSTER\", y=\"relative_dif\", data=covid_tur_aumento_categorias, showfliers = False).set_title(\"Percentual de aumento entre dezembro/20 e março/21\")"
      ],
      "execution_count": null,
      "outputs": [
        {
          "output_type": "display_data",
          "data": {
            "image/png": "[encoded data removed]",
            "text/plain": [
              "<Figure size 432x288 with 1 Axes>"
            ]
          },
          "metadata": {
            "tags": [],
            "needs_background": "light"
          }
        }
      ]
    },
    {
      "cell_type": "code",
      "metadata": {
        "colab": {
          "base_uri": "https://localhost:8080/",
          "height": 301
        },
        "id": "AknU60tl32xW",
        "outputId": "f9915742-879b-428a-f6cd-a68b100e94a6"
      },
      "source": [
        "ax = sns.boxplot(x=\"CLUSTER\", y=\"dif\", data=covid_tur_aumento_categorias, showfliers = False).set_title(\"Aumento absoluto entre dezembro/20 e março/21\")"
      ],
      "execution_count": null,
      "outputs": [
        {
          "output_type": "display_data",
          "data": {
            "image/png": "[encoded data removed]",
            "text/plain": [
              "<Figure size 432x288 with 1 Axes>"
            ]
          },
          "metadata": {
            "tags": [],
            "needs_background": "light"
          }
        }
      ]
    },
    {
      "cell_type": "code",
      "metadata": {
        "colab": {
          "base_uri": "https://localhost:8080/"
        },
        "id": "3sbUC9yX0IsG",
        "outputId": "75559290-8aa2-412c-caec-31bb66a12430"
      },
      "source": [
        "categorias = pd.concat([covid_tur_aumento_categorias.groupby('CLUSTER').agg(\n",
        "    n_cities=('city_ibge_code','count'),\n",
        "    population_mean=('estimated_population','mean'),\n",
        "    population_median=('estimated_population','median'),\n",
        "    last_available_confirmed_from_mean=('last_available_confirmed_from','mean'),\n",
        "    last_available_confirmed_from_median=('last_available_confirmed_from','median'),\n",
        "    last_available_confirmed_to_mean=('last_available_confirmed_to','mean'),\n",
        "    last_available_confirmed_to_median=('last_available_confirmed_to','median'),    \n",
        "    dif_mean=('dif','mean'),\n",
        "    dif_median=('dif','median'),\n",
        "    relative_dif_mean=('relative_dif','mean'),\n",
        "    relative_dif_median=('relative_dif','median')\n",
        "),(covid_tur_aumento_categorias.groupby('CLUSTER').apply(lambda x: pd.np.average(x.relative_dif, weights=x.estimated_population)).rename('relative_dif_average'))], axis=1)"
      ],
      "execution_count": null,
      "outputs": [
        {
          "output_type": "stream",
          "text": [
            "/usr/local/lib/python3.7/dist-packages/ipykernel_launcher.py:13: FutureWarning: The pandas.np module is deprecated and will be removed from pandas in a future version. Import numpy directly instead\n",
            "  del sys.path[0]\n"
          ],
          "name": "stderr"
        }
      ]
    },
    {
      "cell_type": "code",
      "metadata": {
        "colab": {
          "base_uri": "https://localhost:8080/",
          "height": 222
        },
        "id": "tmSX26_ken_4",
        "outputId": "5ce95d90-bac9-492c-8ca5-95e20c851f54"
      },
      "source": [
        "categorias.reset_index(inplace=True)\n",
        "categorias"
      ],
      "execution_count": null,
      "outputs": [
        {
          "output_type": "execute_result",
          "data": {
            "text/html": [
              "<div>\n",
              "<style scoped>\n",
              "    .dataframe tbody tr th:only-of-type {\n",
              "        vertical-align: middle;\n",
              "    }\n",
              "\n",
              "    .dataframe tbody tr th {\n",
              "        vertical-align: top;\n",
              "    }\n",
              "\n",
              "    .dataframe thead th {\n",
              "        text-align: right;\n",
              "    }\n",
              "</style>\n",
              "<table border=\"1\" class=\"dataframe\">\n",
              "  <thead>\n",
              "    <tr style=\"text-align: right;\">\n",
              "      <th></th>\n",
              "      <th>CLUSTER</th>\n",
              "      <th>n_cities</th>\n",
              "      <th>population_mean</th>\n",
              "      <th>population_median</th>\n",
              "      <th>last_available_confirmed_from_mean</th>\n",
              "      <th>last_available_confirmed_from_median</th>\n",
              "      <th>last_available_confirmed_to_mean</th>\n",
              "      <th>last_available_confirmed_to_median</th>\n",
              "      <th>dif_mean</th>\n",
              "      <th>dif_median</th>\n",
              "      <th>relative_dif_mean</th>\n",
              "      <th>relative_dif_median</th>\n",
              "      <th>relative_dif_average</th>\n",
              "    </tr>\n",
              "  </thead>\n",
              "  <tbody>\n",
              "    <tr>\n",
              "      <th>0</th>\n",
              "      <td>A</td>\n",
              "      <td>59</td>\n",
              "      <td>984885.593220</td>\n",
              "      <td>419652.0</td>\n",
              "      <td>37681.423729</td>\n",
              "      <td>26053.0</td>\n",
              "      <td>59503.237288</td>\n",
              "      <td>37875.0</td>\n",
              "      <td>21821.813559</td>\n",
              "      <td>12379.0</td>\n",
              "      <td>0.705813</td>\n",
              "      <td>0.634128</td>\n",
              "      <td>0.599793</td>\n",
              "    </tr>\n",
              "    <tr>\n",
              "      <th>1</th>\n",
              "      <td>B</td>\n",
              "      <td>238</td>\n",
              "      <td>183898.054622</td>\n",
              "      <td>123057.0</td>\n",
              "      <td>6416.794118</td>\n",
              "      <td>4224.5</td>\n",
              "      <td>10775.386555</td>\n",
              "      <td>7562.0</td>\n",
              "      <td>4358.592437</td>\n",
              "      <td>3245.5</td>\n",
              "      <td>0.825626</td>\n",
              "      <td>0.708757</td>\n",
              "      <td>0.737972</td>\n",
              "    </tr>\n",
              "    <tr>\n",
              "      <th>2</th>\n",
              "      <td>C</td>\n",
              "      <td>397</td>\n",
              "      <td>74728.382872</td>\n",
              "      <td>51338.0</td>\n",
              "      <td>2444.753149</td>\n",
              "      <td>1647.0</td>\n",
              "      <td>4084.395466</td>\n",
              "      <td>2981.0</td>\n",
              "      <td>1639.642317</td>\n",
              "      <td>1168.0</td>\n",
              "      <td>0.833700</td>\n",
              "      <td>0.713062</td>\n",
              "      <td>0.764513</td>\n",
              "    </tr>\n",
              "    <tr>\n",
              "      <th>3</th>\n",
              "      <td>D</td>\n",
              "      <td>450</td>\n",
              "      <td>39418.280000</td>\n",
              "      <td>30428.5</td>\n",
              "      <td>1145.031111</td>\n",
              "      <td>836.5</td>\n",
              "      <td>1910.448889</td>\n",
              "      <td>1480.0</td>\n",
              "      <td>765.417778</td>\n",
              "      <td>585.0</td>\n",
              "      <td>0.830198</td>\n",
              "      <td>0.681011</td>\n",
              "      <td>0.765202</td>\n",
              "    </tr>\n",
              "    <tr>\n",
              "      <th>4</th>\n",
              "      <td>E</td>\n",
              "      <td>11</td>\n",
              "      <td>39515.181818</td>\n",
              "      <td>24382.0</td>\n",
              "      <td>1061.363636</td>\n",
              "      <td>774.0</td>\n",
              "      <td>1639.272727</td>\n",
              "      <td>1044.0</td>\n",
              "      <td>577.909091</td>\n",
              "      <td>237.0</td>\n",
              "      <td>0.530522</td>\n",
              "      <td>0.361656</td>\n",
              "      <td>0.667365</td>\n",
              "    </tr>\n",
              "  </tbody>\n",
              "</table>\n",
              "</div>"
            ],
            "text/plain": [
              "  CLUSTER  n_cities  ...  relative_dif_median  relative_dif_average\n",
              "0       A        59  ...             0.634128              0.599793\n",
              "1       B       238  ...             0.708757              0.737972\n",
              "2       C       397  ...             0.713062              0.764513\n",
              "3       D       450  ...             0.681011              0.765202\n",
              "4       E        11  ...             0.361656              0.667365\n",
              "\n",
              "[5 rows x 13 columns]"
            ]
          },
          "metadata": {
            "tags": []
          },
          "execution_count": 15
        }
      ]
    },
    {
      "cell_type": "code",
      "metadata": {
        "colab": {
          "base_uri": "https://localhost:8080/",
          "height": 301
        },
        "id": "hDERvqNAUIkq",
        "outputId": "54cdc5bd-882d-4d8b-e207-05b6185ca0df"
      },
      "source": [
        "ax = sns.boxplot(x=\"CLUSTER\", y=\"relative_dif_average\", data=categorias, showfliers = False).set_title(\"Aumento considerando tamanho entre dezembro/20 e março/21\")"
      ],
      "execution_count": null,
      "outputs": [
        {
          "output_type": "display_data",
          "data": {
            "image/png": "[encoded data removed]",
            "text/plain": [
              "<Figure size 432x288 with 1 Axes>"
            ]
          },
          "metadata": {
            "tags": [],
            "needs_background": "light"
          }
        }
      ]
    },
    {
      "cell_type": "markdown",
      "metadata": {
        "id": "54xU8c2-o7cO"
      },
      "source": [
        "**Métricas em ordem decrescente**"
      ]
    },
    {
      "cell_type": "code",
      "metadata": {
        "colab": {
          "base_uri": "https://localhost:8080/",
          "height": 202
        },
        "id": "Vqf_Fbj-Nc3o",
        "outputId": "2b3355e0-3d93-495f-f919-175e7c67bbed"
      },
      "source": [
        "mediana_aumento_mortalidade_abs = categorias.sort_values(ascending=False, by=\"dif_median\")\n",
        "mediana_aumento_mortalidade_abs[[\"CLUSTER\",\"dif_median\"]]"
      ],
      "execution_count": null,
      "outputs": [
        {
          "output_type": "execute_result",
          "data": {
            "text/html": [
              "<div>\n",
              "<style scoped>\n",
              "    .dataframe tbody tr th:only-of-type {\n",
              "        vertical-align: middle;\n",
              "    }\n",
              "\n",
              "    .dataframe tbody tr th {\n",
              "        vertical-align: top;\n",
              "    }\n",
              "\n",
              "    .dataframe thead th {\n",
              "        text-align: right;\n",
              "    }\n",
              "</style>\n",
              "<table border=\"1\" class=\"dataframe\">\n",
              "  <thead>\n",
              "    <tr style=\"text-align: right;\">\n",
              "      <th></th>\n",
              "      <th>CLUSTER</th>\n",
              "      <th>dif_median</th>\n",
              "    </tr>\n",
              "  </thead>\n",
              "  <tbody>\n",
              "    <tr>\n",
              "      <th>0</th>\n",
              "      <td>A</td>\n",
              "      <td>12379.0</td>\n",
              "    </tr>\n",
              "    <tr>\n",
              "      <th>1</th>\n",
              "      <td>B</td>\n",
              "      <td>3245.5</td>\n",
              "    </tr>\n",
              "    <tr>\n",
              "      <th>2</th>\n",
              "      <td>C</td>\n",
              "      <td>1168.0</td>\n",
              "    </tr>\n",
              "    <tr>\n",
              "      <th>3</th>\n",
              "      <td>D</td>\n",
              "      <td>585.0</td>\n",
              "    </tr>\n",
              "    <tr>\n",
              "      <th>4</th>\n",
              "      <td>E</td>\n",
              "      <td>237.0</td>\n",
              "    </tr>\n",
              "  </tbody>\n",
              "</table>\n",
              "</div>"
            ],
            "text/plain": [
              "  CLUSTER  dif_median\n",
              "0       A     12379.0\n",
              "1       B      3245.5\n",
              "2       C      1168.0\n",
              "3       D       585.0\n",
              "4       E       237.0"
            ]
          },
          "metadata": {
            "tags": []
          },
          "execution_count": 17
        }
      ]
    },
    {
      "cell_type": "code",
      "metadata": {
        "colab": {
          "base_uri": "https://localhost:8080/",
          "height": 202
        },
        "id": "HAnPZn_5tfFH",
        "outputId": "e9f4640e-475b-452a-af22-810e692e95bd"
      },
      "source": [
        "mediana_aumento_mortalidade_rel = categorias.sort_values(ascending=False, by=\"relative_dif_median\")\n",
        "mediana_aumento_mortalidade_rel[[\"CLUSTER\",\"relative_dif_median\"]]"
      ],
      "execution_count": null,
      "outputs": [
        {
          "output_type": "execute_result",
          "data": {
            "text/html": [
              "<div>\n",
              "<style scoped>\n",
              "    .dataframe tbody tr th:only-of-type {\n",
              "        vertical-align: middle;\n",
              "    }\n",
              "\n",
              "    .dataframe tbody tr th {\n",
              "        vertical-align: top;\n",
              "    }\n",
              "\n",
              "    .dataframe thead th {\n",
              "        text-align: right;\n",
              "    }\n",
              "</style>\n",
              "<table border=\"1\" class=\"dataframe\">\n",
              "  <thead>\n",
              "    <tr style=\"text-align: right;\">\n",
              "      <th></th>\n",
              "      <th>CLUSTER</th>\n",
              "      <th>relative_dif_median</th>\n",
              "    </tr>\n",
              "  </thead>\n",
              "  <tbody>\n",
              "    <tr>\n",
              "      <th>2</th>\n",
              "      <td>C</td>\n",
              "      <td>0.713062</td>\n",
              "    </tr>\n",
              "    <tr>\n",
              "      <th>1</th>\n",
              "      <td>B</td>\n",
              "      <td>0.708757</td>\n",
              "    </tr>\n",
              "    <tr>\n",
              "      <th>3</th>\n",
              "      <td>D</td>\n",
              "      <td>0.681011</td>\n",
              "    </tr>\n",
              "    <tr>\n",
              "      <th>0</th>\n",
              "      <td>A</td>\n",
              "      <td>0.634128</td>\n",
              "    </tr>\n",
              "    <tr>\n",
              "      <th>4</th>\n",
              "      <td>E</td>\n",
              "      <td>0.361656</td>\n",
              "    </tr>\n",
              "  </tbody>\n",
              "</table>\n",
              "</div>"
            ],
            "text/plain": [
              "  CLUSTER  relative_dif_median\n",
              "2       C             0.713062\n",
              "1       B             0.708757\n",
              "3       D             0.681011\n",
              "0       A             0.634128\n",
              "4       E             0.361656"
            ]
          },
          "metadata": {
            "tags": []
          },
          "execution_count": 18
        }
      ]
    },
    {
      "cell_type": "code",
      "metadata": {
        "colab": {
          "base_uri": "https://localhost:8080/",
          "height": 202
        },
        "id": "6qEmLZRiet3V",
        "outputId": "589d20f8-f9cd-4c6e-a0cd-6387332b3d72"
      },
      "source": [
        "aumento_considerando_populacao = categorias.sort_values(ascending=False, by=\"relative_dif_average\")\n",
        "aumento_considerando_populacao[[\"CLUSTER\",\"relative_dif_average\"]]"
      ],
      "execution_count": null,
      "outputs": [
        {
          "output_type": "execute_result",
          "data": {
            "text/html": [
              "<div>\n",
              "<style scoped>\n",
              "    .dataframe tbody tr th:only-of-type {\n",
              "        vertical-align: middle;\n",
              "    }\n",
              "\n",
              "    .dataframe tbody tr th {\n",
              "        vertical-align: top;\n",
              "    }\n",
              "\n",
              "    .dataframe thead th {\n",
              "        text-align: right;\n",
              "    }\n",
              "</style>\n",
              "<table border=\"1\" class=\"dataframe\">\n",
              "  <thead>\n",
              "    <tr style=\"text-align: right;\">\n",
              "      <th></th>\n",
              "      <th>CLUSTER</th>\n",
              "      <th>relative_dif_average</th>\n",
              "    </tr>\n",
              "  </thead>\n",
              "  <tbody>\n",
              "    <tr>\n",
              "      <th>3</th>\n",
              "      <td>D</td>\n",
              "      <td>0.765202</td>\n",
              "    </tr>\n",
              "    <tr>\n",
              "      <th>2</th>\n",
              "      <td>C</td>\n",
              "      <td>0.764513</td>\n",
              "    </tr>\n",
              "    <tr>\n",
              "      <th>1</th>\n",
              "      <td>B</td>\n",
              "      <td>0.737972</td>\n",
              "    </tr>\n",
              "    <tr>\n",
              "      <th>4</th>\n",
              "      <td>E</td>\n",
              "      <td>0.667365</td>\n",
              "    </tr>\n",
              "    <tr>\n",
              "      <th>0</th>\n",
              "      <td>A</td>\n",
              "      <td>0.599793</td>\n",
              "    </tr>\n",
              "  </tbody>\n",
              "</table>\n",
              "</div>"
            ],
            "text/plain": [
              "  CLUSTER  relative_dif_average\n",
              "3       D              0.765202\n",
              "2       C              0.764513\n",
              "1       B              0.737972\n",
              "4       E              0.667365\n",
              "0       A              0.599793"
            ]
          },
          "metadata": {
            "tags": []
          },
          "execution_count": 19
        }
      ]
    },
    {
      "cell_type": "code",
      "metadata": {
        "colab": {
          "base_uri": "https://localhost:8080/",
          "height": 263
        },
        "id": "iEUlySprHgKh",
        "outputId": "d4847b99-02bf-4dda-9994-5f7a6e154c67"
      },
      "source": [
        "covid_tur_aumento_categorias.groupby('CLUSTER')['UF'].value_counts().to_frame().unstack()"
      ],
      "execution_count": null,
      "outputs": [
        {
          "output_type": "execute_result",
          "data": {
            "text/html": [
              "<div>\n",
              "<style scoped>\n",
              "    .dataframe tbody tr th:only-of-type {\n",
              "        vertical-align: middle;\n",
              "    }\n",
              "\n",
              "    .dataframe tbody tr th {\n",
              "        vertical-align: top;\n",
              "    }\n",
              "\n",
              "    .dataframe thead tr th {\n",
              "        text-align: left;\n",
              "    }\n",
              "\n",
              "    .dataframe thead tr:last-of-type th {\n",
              "        text-align: right;\n",
              "    }\n",
              "</style>\n",
              "<table border=\"1\" class=\"dataframe\">\n",
              "  <thead>\n",
              "    <tr>\n",
              "      <th></th>\n",
              "      <th colspan=\"27\" halign=\"left\">UF</th>\n",
              "    </tr>\n",
              "    <tr>\n",
              "      <th>UF</th>\n",
              "      <th>AC</th>\n",
              "      <th>AL</th>\n",
              "      <th>AM</th>\n",
              "      <th>AP</th>\n",
              "      <th>BA</th>\n",
              "      <th>CE</th>\n",
              "      <th>DF</th>\n",
              "      <th>ES</th>\n",
              "      <th>GO</th>\n",
              "      <th>MA</th>\n",
              "      <th>MG</th>\n",
              "      <th>MS</th>\n",
              "      <th>MT</th>\n",
              "      <th>PA</th>\n",
              "      <th>PB</th>\n",
              "      <th>PE</th>\n",
              "      <th>PI</th>\n",
              "      <th>PR</th>\n",
              "      <th>RJ</th>\n",
              "      <th>RN</th>\n",
              "      <th>RO</th>\n",
              "      <th>RR</th>\n",
              "      <th>RS</th>\n",
              "      <th>SC</th>\n",
              "      <th>SE</th>\n",
              "      <th>SP</th>\n",
              "      <th>TO</th>\n",
              "    </tr>\n",
              "    <tr>\n",
              "      <th>CLUSTER</th>\n",
              "      <th></th>\n",
              "      <th></th>\n",
              "      <th></th>\n",
              "      <th></th>\n",
              "      <th></th>\n",
              "      <th></th>\n",
              "      <th></th>\n",
              "      <th></th>\n",
              "      <th></th>\n",
              "      <th></th>\n",
              "      <th></th>\n",
              "      <th></th>\n",
              "      <th></th>\n",
              "      <th></th>\n",
              "      <th></th>\n",
              "      <th></th>\n",
              "      <th></th>\n",
              "      <th></th>\n",
              "      <th></th>\n",
              "      <th></th>\n",
              "      <th></th>\n",
              "      <th></th>\n",
              "      <th></th>\n",
              "      <th></th>\n",
              "      <th></th>\n",
              "      <th></th>\n",
              "      <th></th>\n",
              "    </tr>\n",
              "  </thead>\n",
              "  <tbody>\n",
              "    <tr>\n",
              "      <th>A</th>\n",
              "      <td>1.0</td>\n",
              "      <td>2.0</td>\n",
              "      <td>1.0</td>\n",
              "      <td>1.0</td>\n",
              "      <td>4.0</td>\n",
              "      <td>2.0</td>\n",
              "      <td>1.0</td>\n",
              "      <td>1.0</td>\n",
              "      <td>2.0</td>\n",
              "      <td>1.0</td>\n",
              "      <td>3.0</td>\n",
              "      <td>1.0</td>\n",
              "      <td>1.0</td>\n",
              "      <td>1.0</td>\n",
              "      <td>1.0</td>\n",
              "      <td>2.0</td>\n",
              "      <td>1.0</td>\n",
              "      <td>3.0</td>\n",
              "      <td>7.0</td>\n",
              "      <td>1.0</td>\n",
              "      <td>1.0</td>\n",
              "      <td>1.0</td>\n",
              "      <td>2.0</td>\n",
              "      <td>5.0</td>\n",
              "      <td>1.0</td>\n",
              "      <td>11.0</td>\n",
              "      <td>1.0</td>\n",
              "    </tr>\n",
              "    <tr>\n",
              "      <th>B</th>\n",
              "      <td>NaN</td>\n",
              "      <td>1.0</td>\n",
              "      <td>NaN</td>\n",
              "      <td>NaN</td>\n",
              "      <td>19.0</td>\n",
              "      <td>12.0</td>\n",
              "      <td>NaN</td>\n",
              "      <td>11.0</td>\n",
              "      <td>12.0</td>\n",
              "      <td>4.0</td>\n",
              "      <td>27.0</td>\n",
              "      <td>5.0</td>\n",
              "      <td>8.0</td>\n",
              "      <td>6.0</td>\n",
              "      <td>2.0</td>\n",
              "      <td>10.0</td>\n",
              "      <td>2.0</td>\n",
              "      <td>14.0</td>\n",
              "      <td>17.0</td>\n",
              "      <td>2.0</td>\n",
              "      <td>2.0</td>\n",
              "      <td>NaN</td>\n",
              "      <td>21.0</td>\n",
              "      <td>15.0</td>\n",
              "      <td>NaN</td>\n",
              "      <td>46.0</td>\n",
              "      <td>2.0</td>\n",
              "    </tr>\n",
              "    <tr>\n",
              "      <th>C</th>\n",
              "      <td>2.0</td>\n",
              "      <td>6.0</td>\n",
              "      <td>9.0</td>\n",
              "      <td>2.0</td>\n",
              "      <td>25.0</td>\n",
              "      <td>23.0</td>\n",
              "      <td>NaN</td>\n",
              "      <td>9.0</td>\n",
              "      <td>14.0</td>\n",
              "      <td>8.0</td>\n",
              "      <td>50.0</td>\n",
              "      <td>10.0</td>\n",
              "      <td>14.0</td>\n",
              "      <td>16.0</td>\n",
              "      <td>4.0</td>\n",
              "      <td>10.0</td>\n",
              "      <td>4.0</td>\n",
              "      <td>26.0</td>\n",
              "      <td>20.0</td>\n",
              "      <td>10.0</td>\n",
              "      <td>4.0</td>\n",
              "      <td>NaN</td>\n",
              "      <td>29.0</td>\n",
              "      <td>18.0</td>\n",
              "      <td>6.0</td>\n",
              "      <td>73.0</td>\n",
              "      <td>5.0</td>\n",
              "    </tr>\n",
              "    <tr>\n",
              "      <th>D</th>\n",
              "      <td>3.0</td>\n",
              "      <td>16.0</td>\n",
              "      <td>9.0</td>\n",
              "      <td>1.0</td>\n",
              "      <td>30.0</td>\n",
              "      <td>15.0</td>\n",
              "      <td>NaN</td>\n",
              "      <td>9.0</td>\n",
              "      <td>6.0</td>\n",
              "      <td>19.0</td>\n",
              "      <td>52.0</td>\n",
              "      <td>5.0</td>\n",
              "      <td>7.0</td>\n",
              "      <td>21.0</td>\n",
              "      <td>16.0</td>\n",
              "      <td>38.0</td>\n",
              "      <td>3.0</td>\n",
              "      <td>32.0</td>\n",
              "      <td>16.0</td>\n",
              "      <td>9.0</td>\n",
              "      <td>3.0</td>\n",
              "      <td>1.0</td>\n",
              "      <td>41.0</td>\n",
              "      <td>17.0</td>\n",
              "      <td>13.0</td>\n",
              "      <td>67.0</td>\n",
              "      <td>1.0</td>\n",
              "    </tr>\n",
              "    <tr>\n",
              "      <th>E</th>\n",
              "      <td>NaN</td>\n",
              "      <td>2.0</td>\n",
              "      <td>NaN</td>\n",
              "      <td>NaN</td>\n",
              "      <td>3.0</td>\n",
              "      <td>1.0</td>\n",
              "      <td>NaN</td>\n",
              "      <td>NaN</td>\n",
              "      <td>NaN</td>\n",
              "      <td>NaN</td>\n",
              "      <td>2.0</td>\n",
              "      <td>NaN</td>\n",
              "      <td>NaN</td>\n",
              "      <td>NaN</td>\n",
              "      <td>NaN</td>\n",
              "      <td>1.0</td>\n",
              "      <td>NaN</td>\n",
              "      <td>NaN</td>\n",
              "      <td>NaN</td>\n",
              "      <td>NaN</td>\n",
              "      <td>NaN</td>\n",
              "      <td>NaN</td>\n",
              "      <td>NaN</td>\n",
              "      <td>1.0</td>\n",
              "      <td>NaN</td>\n",
              "      <td>1.0</td>\n",
              "      <td>NaN</td>\n",
              "    </tr>\n",
              "  </tbody>\n",
              "</table>\n",
              "</div>"
            ],
            "text/plain": [
              "          UF                              ...                                  \n",
              "UF        AC    AL   AM   AP    BA    CE  ...   RR    RS    SC    SE    SP   TO\n",
              "CLUSTER                                   ...                                  \n",
              "A        1.0   2.0  1.0  1.0   4.0   2.0  ...  1.0   2.0   5.0   1.0  11.0  1.0\n",
              "B        NaN   1.0  NaN  NaN  19.0  12.0  ...  NaN  21.0  15.0   NaN  46.0  2.0\n",
              "C        2.0   6.0  9.0  2.0  25.0  23.0  ...  NaN  29.0  18.0   6.0  73.0  5.0\n",
              "D        3.0  16.0  9.0  1.0  30.0  15.0  ...  1.0  41.0  17.0  13.0  67.0  1.0\n",
              "E        NaN   2.0  NaN  NaN   3.0   1.0  ...  NaN   NaN   1.0   NaN   1.0  NaN\n",
              "\n",
              "[5 rows x 27 columns]"
            ]
          },
          "metadata": {
            "tags": []
          },
          "execution_count": 20
        }
      ]
    },
    {
      "cell_type": "markdown",
      "metadata": {
        "id": "vZXgMpmoS6JN"
      },
      "source": [
        "http://dados.turismo.gov.br/categorizacao\n"
      ]
    },
    {
      "cell_type": "code",
      "metadata": {
        "id": "uF5Eqe44KHfB"
      },
      "source": [
        ""
      ],
      "execution_count": null,
      "outputs": []
    },
    {
      "cell_type": "code",
      "metadata": {
        "id": "0Wr0qdLdKHW6"
      },
      "source": [
        ""
      ],
      "execution_count": null,
      "outputs": []
    },
    {
      "cell_type": "code",
      "metadata": {
        "id": "uIGRaoefKHKs"
      },
      "source": [
        ""
      ],
      "execution_count": null,
      "outputs": []
    },
    {
      "cell_type": "code",
      "metadata": {
        "id": "INXHkn77KHHh"
      },
      "source": [
        ""
      ],
      "execution_count": null,
      "outputs": []
    },
    {
      "cell_type": "markdown",
      "metadata": {
        "id": "_AnBbksoMokz"
      },
      "source": [
        "# **Entre 17 de dezembro de 2020 e 16 de janeiro de 2021**"
      ]
    },
    {
      "cell_type": "code",
      "metadata": {
        "colab": {
          "base_uri": "https://localhost:8080/",
          "height": 414
        },
        "id": "7ORnLKDCO6R3",
        "outputId": "8fc7b495-3ac8-4349-f00c-77df15e675b2"
      },
      "source": [
        "covid_tur_aumento = covid_tur.groupby(['city_ibge_code', 'estimated_population']).apply(calcula_aumento_relativo, x_col='last_available_confirmed', date_col='date', from_date='2020-12-17', to_date='2021-01-16').to_frame()\n",
        "covid_tur_aumento.rename(columns={0: \"explodir\"}, inplace=True)\n",
        "covid_tur_aumento = covid_tur_aumento['explodir'].apply(pd.Series)\n",
        "covid_tur_aumento.reset_index(inplace=True)\n",
        "covid_tur_aumento.sort_values(by='relative_dif', ascending=False)"
      ],
      "execution_count": null,
      "outputs": [
        {
          "output_type": "execute_result",
          "data": {
            "text/html": [
              "<div>\n",
              "<style scoped>\n",
              "    .dataframe tbody tr th:only-of-type {\n",
              "        vertical-align: middle;\n",
              "    }\n",
              "\n",
              "    .dataframe tbody tr th {\n",
              "        vertical-align: top;\n",
              "    }\n",
              "\n",
              "    .dataframe thead th {\n",
              "        text-align: right;\n",
              "    }\n",
              "</style>\n",
              "<table border=\"1\" class=\"dataframe\">\n",
              "  <thead>\n",
              "    <tr style=\"text-align: right;\">\n",
              "      <th></th>\n",
              "      <th>city_ibge_code</th>\n",
              "      <th>estimated_population</th>\n",
              "      <th>last_available_confirmed_from</th>\n",
              "      <th>last_available_confirmed_to</th>\n",
              "      <th>dif</th>\n",
              "      <th>relative_dif</th>\n",
              "    </tr>\n",
              "  </thead>\n",
              "  <tbody>\n",
              "    <tr>\n",
              "      <th>527</th>\n",
              "      <td>3154002</td>\n",
              "      <td>23711.0</td>\n",
              "      <td>212.0</td>\n",
              "      <td>573.0</td>\n",
              "      <td>361.0</td>\n",
              "      <td>1.702830</td>\n",
              "    </tr>\n",
              "    <tr>\n",
              "      <th>623</th>\n",
              "      <td>3303856</td>\n",
              "      <td>27858.0</td>\n",
              "      <td>327.0</td>\n",
              "      <td>760.0</td>\n",
              "      <td>433.0</td>\n",
              "      <td>1.324159</td>\n",
              "    </tr>\n",
              "    <tr>\n",
              "      <th>817</th>\n",
              "      <td>3550100</td>\n",
              "      <td>41123.0</td>\n",
              "      <td>427.0</td>\n",
              "      <td>954.0</td>\n",
              "      <td>527.0</td>\n",
              "      <td>1.234192</td>\n",
              "    </tr>\n",
              "    <tr>\n",
              "      <th>4</th>\n",
              "      <td>1100189</td>\n",
              "      <td>36881.0</td>\n",
              "      <td>869.0</td>\n",
              "      <td>1772.0</td>\n",
              "      <td>903.0</td>\n",
              "      <td>1.039125</td>\n",
              "    </tr>\n",
              "    <tr>\n",
              "      <th>1022</th>\n",
              "      <td>4313904</td>\n",
              "      <td>44128.0</td>\n",
              "      <td>989.0</td>\n",
              "      <td>2010.0</td>\n",
              "      <td>1021.0</td>\n",
              "      <td>1.032356</td>\n",
              "    </tr>\n",
              "    <tr>\n",
              "      <th>...</th>\n",
              "      <td>...</td>\n",
              "      <td>...</td>\n",
              "      <td>...</td>\n",
              "      <td>...</td>\n",
              "      <td>...</td>\n",
              "      <td>...</td>\n",
              "    </tr>\n",
              "    <tr>\n",
              "      <th>110</th>\n",
              "      <td>2103703</td>\n",
              "      <td>32626.0</td>\n",
              "      <td>639.0</td>\n",
              "      <td>639.0</td>\n",
              "      <td>0.0</td>\n",
              "      <td>0.000000</td>\n",
              "    </tr>\n",
              "    <tr>\n",
              "      <th>495</th>\n",
              "      <td>3141405</td>\n",
              "      <td>20759.0</td>\n",
              "      <td>306.0</td>\n",
              "      <td>306.0</td>\n",
              "      <td>0.0</td>\n",
              "      <td>0.000000</td>\n",
              "    </tr>\n",
              "    <tr>\n",
              "      <th>525</th>\n",
              "      <td>3152204</td>\n",
              "      <td>37864.0</td>\n",
              "      <td>651.0</td>\n",
              "      <td>651.0</td>\n",
              "      <td>0.0</td>\n",
              "      <td>0.000000</td>\n",
              "    </tr>\n",
              "    <tr>\n",
              "      <th>107</th>\n",
              "      <td>2103174</td>\n",
              "      <td>21840.0</td>\n",
              "      <td>634.0</td>\n",
              "      <td>634.0</td>\n",
              "      <td>0.0</td>\n",
              "      <td>0.000000</td>\n",
              "    </tr>\n",
              "    <tr>\n",
              "      <th>96</th>\n",
              "      <td>2100907</td>\n",
              "      <td>46771.0</td>\n",
              "      <td>589.0</td>\n",
              "      <td>589.0</td>\n",
              "      <td>0.0</td>\n",
              "      <td>0.000000</td>\n",
              "    </tr>\n",
              "  </tbody>\n",
              "</table>\n",
              "<p>1155 rows × 6 columns</p>\n",
              "</div>"
            ],
            "text/plain": [
              "     city_ibge_code  estimated_population  ...     dif  relative_dif\n",
              "527         3154002               23711.0  ...   361.0      1.702830\n",
              "623         3303856               27858.0  ...   433.0      1.324159\n",
              "817         3550100               41123.0  ...   527.0      1.234192\n",
              "4           1100189               36881.0  ...   903.0      1.039125\n",
              "1022        4313904               44128.0  ...  1021.0      1.032356\n",
              "...             ...                   ...  ...     ...           ...\n",
              "110         2103703               32626.0  ...     0.0      0.000000\n",
              "495         3141405               20759.0  ...     0.0      0.000000\n",
              "525         3152204               37864.0  ...     0.0      0.000000\n",
              "107         2103174               21840.0  ...     0.0      0.000000\n",
              "96          2100907               46771.0  ...     0.0      0.000000\n",
              "\n",
              "[1155 rows x 6 columns]"
            ]
          },
          "metadata": {
            "tags": []
          },
          "execution_count": 21
        }
      ]
    },
    {
      "cell_type": "code",
      "metadata": {
        "colab": {
          "base_uri": "https://localhost:8080/",
          "height": 517
        },
        "id": "qdrsWNbhO6SS",
        "outputId": "25211b36-eb8c-4af3-e790-8c34293a8352"
      },
      "source": [
        "covid_tur_aumento_categorias = pd.merge(covid_tur_aumento, cidades_turisticas, left_on=\"city_ibge_code\", right_on=\"COD_IBGE\", how=\"left\")\n",
        "covid_tur_aumento_categorias"
      ],
      "execution_count": null,
      "outputs": [
        {
          "output_type": "execute_result",
          "data": {
            "text/html": [
              "<div>\n",
              "<style scoped>\n",
              "    .dataframe tbody tr th:only-of-type {\n",
              "        vertical-align: middle;\n",
              "    }\n",
              "\n",
              "    .dataframe tbody tr th {\n",
              "        vertical-align: top;\n",
              "    }\n",
              "\n",
              "    .dataframe thead th {\n",
              "        text-align: right;\n",
              "    }\n",
              "</style>\n",
              "<table border=\"1\" class=\"dataframe\">\n",
              "  <thead>\n",
              "    <tr style=\"text-align: right;\">\n",
              "      <th></th>\n",
              "      <th>city_ibge_code</th>\n",
              "      <th>estimated_population</th>\n",
              "      <th>last_available_confirmed_from</th>\n",
              "      <th>last_available_confirmed_to</th>\n",
              "      <th>dif</th>\n",
              "      <th>relative_dif</th>\n",
              "      <th>UF</th>\n",
              "      <th>MUNICIPIO</th>\n",
              "      <th>COD_IBGE</th>\n",
              "      <th>QUANTIDADE_VISITAS_ESTIMADAS_ NACIONAL</th>\n",
              "      <th>ARRECADACAO</th>\n",
              "      <th>CLUSTER</th>\n",
              "    </tr>\n",
              "  </thead>\n",
              "  <tbody>\n",
              "    <tr>\n",
              "      <th>0</th>\n",
              "      <td>1100023</td>\n",
              "      <td>109523.0</td>\n",
              "      <td>6997.0</td>\n",
              "      <td>8937.0</td>\n",
              "      <td>1940.0</td>\n",
              "      <td>0.277262</td>\n",
              "      <td>RO</td>\n",
              "      <td>Ariquemes</td>\n",
              "      <td>1100023</td>\n",
              "      <td>3371</td>\n",
              "      <td>739140</td>\n",
              "      <td>C</td>\n",
              "    </tr>\n",
              "    <tr>\n",
              "      <th>1</th>\n",
              "      <td>1100049</td>\n",
              "      <td>85893.0</td>\n",
              "      <td>3512.0</td>\n",
              "      <td>5153.0</td>\n",
              "      <td>1641.0</td>\n",
              "      <td>0.467255</td>\n",
              "      <td>RO</td>\n",
              "      <td>Cacoal</td>\n",
              "      <td>1100049</td>\n",
              "      <td>98548</td>\n",
              "      <td>866406</td>\n",
              "      <td>B</td>\n",
              "    </tr>\n",
              "    <tr>\n",
              "      <th>2</th>\n",
              "      <td>1100106</td>\n",
              "      <td>46556.0</td>\n",
              "      <td>3513.0</td>\n",
              "      <td>3821.0</td>\n",
              "      <td>308.0</td>\n",
              "      <td>0.087674</td>\n",
              "      <td>RO</td>\n",
              "      <td>Guajará-Mirim</td>\n",
              "      <td>1100106</td>\n",
              "      <td>34819</td>\n",
              "      <td>72309</td>\n",
              "      <td>C</td>\n",
              "    </tr>\n",
              "    <tr>\n",
              "      <th>3</th>\n",
              "      <td>1100155</td>\n",
              "      <td>35737.0</td>\n",
              "      <td>1527.0</td>\n",
              "      <td>1869.0</td>\n",
              "      <td>342.0</td>\n",
              "      <td>0.223969</td>\n",
              "      <td>RO</td>\n",
              "      <td>Ouro Preto do Oeste</td>\n",
              "      <td>1100155</td>\n",
              "      <td>9645</td>\n",
              "      <td>0</td>\n",
              "      <td>C</td>\n",
              "    </tr>\n",
              "    <tr>\n",
              "      <th>4</th>\n",
              "      <td>1100189</td>\n",
              "      <td>36881.0</td>\n",
              "      <td>869.0</td>\n",
              "      <td>1772.0</td>\n",
              "      <td>903.0</td>\n",
              "      <td>1.039125</td>\n",
              "      <td>RO</td>\n",
              "      <td>Pimenta Bueno</td>\n",
              "      <td>1100189</td>\n",
              "      <td>29225</td>\n",
              "      <td>0</td>\n",
              "      <td>C</td>\n",
              "    </tr>\n",
              "    <tr>\n",
              "      <th>...</th>\n",
              "      <td>...</td>\n",
              "      <td>...</td>\n",
              "      <td>...</td>\n",
              "      <td>...</td>\n",
              "      <td>...</td>\n",
              "      <td>...</td>\n",
              "      <td>...</td>\n",
              "      <td>...</td>\n",
              "      <td>...</td>\n",
              "      <td>...</td>\n",
              "      <td>...</td>\n",
              "      <td>...</td>\n",
              "    </tr>\n",
              "    <tr>\n",
              "      <th>1150</th>\n",
              "      <td>5220603</td>\n",
              "      <td>20816.0</td>\n",
              "      <td>413.0</td>\n",
              "      <td>463.0</td>\n",
              "      <td>50.0</td>\n",
              "      <td>0.121065</td>\n",
              "      <td>GO</td>\n",
              "      <td>Silvânia</td>\n",
              "      <td>5220603</td>\n",
              "      <td>12425</td>\n",
              "      <td>0</td>\n",
              "      <td>D</td>\n",
              "    </tr>\n",
              "    <tr>\n",
              "      <th>1151</th>\n",
              "      <td>5221403</td>\n",
              "      <td>129823.0</td>\n",
              "      <td>3992.0</td>\n",
              "      <td>4281.0</td>\n",
              "      <td>289.0</td>\n",
              "      <td>0.072395</td>\n",
              "      <td>GO</td>\n",
              "      <td>Trindade</td>\n",
              "      <td>5221403</td>\n",
              "      <td>193242</td>\n",
              "      <td>546770</td>\n",
              "      <td>B</td>\n",
              "    </tr>\n",
              "    <tr>\n",
              "      <th>1152</th>\n",
              "      <td>5221601</td>\n",
              "      <td>40840.0</td>\n",
              "      <td>1256.0</td>\n",
              "      <td>1476.0</td>\n",
              "      <td>220.0</td>\n",
              "      <td>0.175159</td>\n",
              "      <td>GO</td>\n",
              "      <td>Uruaçu</td>\n",
              "      <td>5221601</td>\n",
              "      <td>215680</td>\n",
              "      <td>375239</td>\n",
              "      <td>B</td>\n",
              "    </tr>\n",
              "    <tr>\n",
              "      <th>1153</th>\n",
              "      <td>5221858</td>\n",
              "      <td>172135.0</td>\n",
              "      <td>7981.0</td>\n",
              "      <td>8306.0</td>\n",
              "      <td>325.0</td>\n",
              "      <td>0.040722</td>\n",
              "      <td>GO</td>\n",
              "      <td>Valparaíso de Goiás</td>\n",
              "      <td>5221858</td>\n",
              "      <td>3064</td>\n",
              "      <td>746468</td>\n",
              "      <td>D</td>\n",
              "    </tr>\n",
              "    <tr>\n",
              "      <th>1154</th>\n",
              "      <td>5300108</td>\n",
              "      <td>3055149.0</td>\n",
              "      <td>212333.0</td>\n",
              "      <td>230900.0</td>\n",
              "      <td>18567.0</td>\n",
              "      <td>0.087443</td>\n",
              "      <td>DF</td>\n",
              "      <td>Brasília</td>\n",
              "      <td>5300108</td>\n",
              "      <td>4332053</td>\n",
              "      <td>59764674</td>\n",
              "      <td>A</td>\n",
              "    </tr>\n",
              "  </tbody>\n",
              "</table>\n",
              "<p>1155 rows × 12 columns</p>\n",
              "</div>"
            ],
            "text/plain": [
              "     city_ibge_code  estimated_population  ...  ARRECADACAO  CLUSTER\n",
              "0           1100023              109523.0  ...       739140        C\n",
              "1           1100049               85893.0  ...       866406        B\n",
              "2           1100106               46556.0  ...        72309        C\n",
              "3           1100155               35737.0  ...            0        C\n",
              "4           1100189               36881.0  ...            0        C\n",
              "...             ...                   ...  ...          ...      ...\n",
              "1150        5220603               20816.0  ...            0        D\n",
              "1151        5221403              129823.0  ...       546770        B\n",
              "1152        5221601               40840.0  ...       375239        B\n",
              "1153        5221858              172135.0  ...       746468        D\n",
              "1154        5300108             3055149.0  ...     59764674        A\n",
              "\n",
              "[1155 rows x 12 columns]"
            ]
          },
          "metadata": {
            "tags": []
          },
          "execution_count": 22
        }
      ]
    },
    {
      "cell_type": "code",
      "metadata": {
        "colab": {
          "base_uri": "https://localhost:8080/",
          "height": 301
        },
        "id": "tBnt6Hw2O6ST",
        "outputId": "8b5f6b86-9fe3-4f3a-deab-affa18cd738d"
      },
      "source": [
        "ax = sns.boxplot(x=\"CLUSTER\", y=\"last_available_confirmed_to\", data=covid_tur_aumento_categorias, showfliers = False).set_title(\"Mortalidade em 17 de dezembro de 2020\")"
      ],
      "execution_count": null,
      "outputs": [
        {
          "output_type": "display_data",
          "data": {
            "image/png": "[encoded data removed]",
            "text/plain": [
              "<Figure size 432x288 with 1 Axes>"
            ]
          },
          "metadata": {
            "tags": [],
            "needs_background": "light"
          }
        }
      ]
    },
    {
      "cell_type": "code",
      "metadata": {
        "colab": {
          "base_uri": "https://localhost:8080/",
          "height": 301
        },
        "id": "5ZKVso-mO6SV",
        "outputId": "56c27031-1fa3-40b0-bc73-3d1a03298d17"
      },
      "source": [
        "ax = sns.boxplot(x=\"CLUSTER\", y=\"relative_dif\", data=covid_tur_aumento_categorias, showfliers = False).set_title(\"Percentual de aumento entre 17 de dezembro de 2020 e 16 de janeiro de 2021\")"
      ],
      "execution_count": null,
      "outputs": [
        {
          "output_type": "display_data",
          "data": {
            "image/png": "[encoded data removed]",
            "text/plain": [
              "<Figure size 432x288 with 1 Axes>"
            ]
          },
          "metadata": {
            "tags": [],
            "needs_background": "light"
          }
        }
      ]
    },
    {
      "cell_type": "code",
      "metadata": {
        "colab": {
          "base_uri": "https://localhost:8080/",
          "height": 301
        },
        "id": "uxgoL4P8O6SW",
        "outputId": "5b965d4e-3aee-4b28-924a-08717494721f"
      },
      "source": [
        "ax = sns.boxplot(x=\"CLUSTER\", y=\"dif\", data=covid_tur_aumento_categorias, showfliers = False).set_title(\"Aumento absoluto entre 17 de dezembro de 2020 e 16 de janeiro de 2021\")"
      ],
      "execution_count": null,
      "outputs": [
        {
          "output_type": "display_data",
          "data": {
            "image/png": "[encoded data removed]",
            "text/plain": [
              "<Figure size 432x288 with 1 Axes>"
            ]
          },
          "metadata": {
            "tags": [],
            "needs_background": "light"
          }
        }
      ]
    },
    {
      "cell_type": "code",
      "metadata": {
        "colab": {
          "base_uri": "https://localhost:8080/"
        },
        "id": "i30U0erAO6SX",
        "outputId": "22065b9a-8a0b-4ff2-bc07-8924f13020dd"
      },
      "source": [
        "categorias = pd.concat([covid_tur_aumento_categorias.groupby('CLUSTER').agg(\n",
        "    n_cities=('city_ibge_code','count'),\n",
        "    population_mean=('estimated_population','mean'),\n",
        "    population_median=('estimated_population','median'),\n",
        "    last_available_confirmeds_from_mean=('last_available_confirmed_from','mean'),\n",
        "    last_available_confirmed_from_median=('last_available_confirmed_from','median'),\n",
        "    last_available_confirmed_to_mean=('last_available_confirmed_to','mean'),\n",
        "    last_available_confirmed_to_median=('last_available_confirmed_to','median'),    \n",
        "    dif_mean=('dif','mean'),\n",
        "    dif_median=('dif','median'),\n",
        "    relative_dif_mean=('relative_dif','mean'),\n",
        "    relative_dif_median=('relative_dif','median')\n",
        "),(covid_tur_aumento_categorias.groupby('CLUSTER').apply(lambda x: pd.np.average(x.relative_dif, weights=x.estimated_population)).rename('relative_dif_average'))], axis=1)"
      ],
      "execution_count": null,
      "outputs": [
        {
          "output_type": "stream",
          "text": [
            "/usr/local/lib/python3.7/dist-packages/ipykernel_launcher.py:13: FutureWarning: The pandas.np module is deprecated and will be removed from pandas in a future version. Import numpy directly instead\n",
            "  del sys.path[0]\n"
          ],
          "name": "stderr"
        }
      ]
    },
    {
      "cell_type": "code",
      "metadata": {
        "colab": {
          "base_uri": "https://localhost:8080/",
          "height": 222
        },
        "id": "GqdjL-hzO6SY",
        "outputId": "3084eb87-20cb-491f-a7f2-4e16964e538c"
      },
      "source": [
        "categorias.reset_index(inplace=True)\n",
        "categorias"
      ],
      "execution_count": null,
      "outputs": [
        {
          "output_type": "execute_result",
          "data": {
            "text/html": [
              "<div>\n",
              "<style scoped>\n",
              "    .dataframe tbody tr th:only-of-type {\n",
              "        vertical-align: middle;\n",
              "    }\n",
              "\n",
              "    .dataframe tbody tr th {\n",
              "        vertical-align: top;\n",
              "    }\n",
              "\n",
              "    .dataframe thead th {\n",
              "        text-align: right;\n",
              "    }\n",
              "</style>\n",
              "<table border=\"1\" class=\"dataframe\">\n",
              "  <thead>\n",
              "    <tr style=\"text-align: right;\">\n",
              "      <th></th>\n",
              "      <th>CLUSTER</th>\n",
              "      <th>n_cities</th>\n",
              "      <th>population_mean</th>\n",
              "      <th>population_median</th>\n",
              "      <th>last_available_confirmeds_from_mean</th>\n",
              "      <th>last_available_confirmed_from_median</th>\n",
              "      <th>last_available_confirmed_to_mean</th>\n",
              "      <th>last_available_confirmed_to_median</th>\n",
              "      <th>dif_mean</th>\n",
              "      <th>dif_median</th>\n",
              "      <th>relative_dif_mean</th>\n",
              "      <th>relative_dif_median</th>\n",
              "      <th>relative_dif_average</th>\n",
              "    </tr>\n",
              "  </thead>\n",
              "  <tbody>\n",
              "    <tr>\n",
              "      <th>0</th>\n",
              "      <td>A</td>\n",
              "      <td>59</td>\n",
              "      <td>984885.593220</td>\n",
              "      <td>419652.0</td>\n",
              "      <td>37681.423729</td>\n",
              "      <td>26053.0</td>\n",
              "      <td>44001.762712</td>\n",
              "      <td>30897.0</td>\n",
              "      <td>6320.338983</td>\n",
              "      <td>3248.0</td>\n",
              "      <td>0.197560</td>\n",
              "      <td>0.165606</td>\n",
              "      <td>0.172642</td>\n",
              "    </tr>\n",
              "    <tr>\n",
              "      <th>1</th>\n",
              "      <td>B</td>\n",
              "      <td>238</td>\n",
              "      <td>183898.054622</td>\n",
              "      <td>123057.0</td>\n",
              "      <td>6416.794118</td>\n",
              "      <td>4224.5</td>\n",
              "      <td>7793.613445</td>\n",
              "      <td>5114.5</td>\n",
              "      <td>1376.819328</td>\n",
              "      <td>891.0</td>\n",
              "      <td>0.247918</td>\n",
              "      <td>0.210345</td>\n",
              "      <td>0.231662</td>\n",
              "    </tr>\n",
              "    <tr>\n",
              "      <th>2</th>\n",
              "      <td>C</td>\n",
              "      <td>397</td>\n",
              "      <td>74728.382872</td>\n",
              "      <td>51338.0</td>\n",
              "      <td>2444.753149</td>\n",
              "      <td>1647.0</td>\n",
              "      <td>2926.745592</td>\n",
              "      <td>2040.0</td>\n",
              "      <td>481.992443</td>\n",
              "      <td>335.0</td>\n",
              "      <td>0.247910</td>\n",
              "      <td>0.196170</td>\n",
              "      <td>0.222747</td>\n",
              "    </tr>\n",
              "    <tr>\n",
              "      <th>3</th>\n",
              "      <td>D</td>\n",
              "      <td>450</td>\n",
              "      <td>39418.280000</td>\n",
              "      <td>30428.5</td>\n",
              "      <td>1145.031111</td>\n",
              "      <td>836.5</td>\n",
              "      <td>1376.431111</td>\n",
              "      <td>1038.0</td>\n",
              "      <td>231.400000</td>\n",
              "      <td>156.5</td>\n",
              "      <td>0.241997</td>\n",
              "      <td>0.185249</td>\n",
              "      <td>0.226801</td>\n",
              "    </tr>\n",
              "    <tr>\n",
              "      <th>4</th>\n",
              "      <td>E</td>\n",
              "      <td>11</td>\n",
              "      <td>39515.181818</td>\n",
              "      <td>24382.0</td>\n",
              "      <td>1061.363636</td>\n",
              "      <td>774.0</td>\n",
              "      <td>1217.090909</td>\n",
              "      <td>852.0</td>\n",
              "      <td>155.727273</td>\n",
              "      <td>76.0</td>\n",
              "      <td>0.124089</td>\n",
              "      <td>0.101813</td>\n",
              "      <td>0.179050</td>\n",
              "    </tr>\n",
              "  </tbody>\n",
              "</table>\n",
              "</div>"
            ],
            "text/plain": [
              "  CLUSTER  n_cities  ...  relative_dif_median  relative_dif_average\n",
              "0       A        59  ...             0.165606              0.172642\n",
              "1       B       238  ...             0.210345              0.231662\n",
              "2       C       397  ...             0.196170              0.222747\n",
              "3       D       450  ...             0.185249              0.226801\n",
              "4       E        11  ...             0.101813              0.179050\n",
              "\n",
              "[5 rows x 13 columns]"
            ]
          },
          "metadata": {
            "tags": []
          },
          "execution_count": 27
        }
      ]
    },
    {
      "cell_type": "code",
      "metadata": {
        "colab": {
          "base_uri": "https://localhost:8080/",
          "height": 301
        },
        "id": "f-MpA33JUsp-",
        "outputId": "b3b8bc2c-2302-4927-897e-ba846154f165"
      },
      "source": [
        "ax = sns.boxplot(x=\"CLUSTER\", y=\"relative_dif_average\", data=categorias, showfliers = False).set_title(\"Aumento considerando tamanho entre 17 de dezembro de 2020 e 16 de janeiro de 2021\")"
      ],
      "execution_count": null,
      "outputs": [
        {
          "output_type": "display_data",
          "data": {
            "image/png": "[encoded data removed]",
            "text/plain": [
              "<Figure size 432x288 with 1 Axes>"
            ]
          },
          "metadata": {
            "tags": [],
            "needs_background": "light"
          }
        }
      ]
    },
    {
      "cell_type": "markdown",
      "metadata": {
        "id": "nLJtSZmvO6SZ"
      },
      "source": [
        "**Métricas em ordem decrescente**"
      ]
    },
    {
      "cell_type": "code",
      "metadata": {
        "colab": {
          "base_uri": "https://localhost:8080/",
          "height": 202
        },
        "id": "jth0B26tO6SZ",
        "outputId": "09e5fc22-8afb-4185-8e94-e266b554ae4c"
      },
      "source": [
        "mediana_aumento_mortalidade_abs = categorias.sort_values(ascending=False, by=\"dif_median\")\n",
        "mediana_aumento_mortalidade_abs[[\"CLUSTER\",\"dif_median\"]]"
      ],
      "execution_count": null,
      "outputs": [
        {
          "output_type": "execute_result",
          "data": {
            "text/html": [
              "<div>\n",
              "<style scoped>\n",
              "    .dataframe tbody tr th:only-of-type {\n",
              "        vertical-align: middle;\n",
              "    }\n",
              "\n",
              "    .dataframe tbody tr th {\n",
              "        vertical-align: top;\n",
              "    }\n",
              "\n",
              "    .dataframe thead th {\n",
              "        text-align: right;\n",
              "    }\n",
              "</style>\n",
              "<table border=\"1\" class=\"dataframe\">\n",
              "  <thead>\n",
              "    <tr style=\"text-align: right;\">\n",
              "      <th></th>\n",
              "      <th>CLUSTER</th>\n",
              "      <th>dif_median</th>\n",
              "    </tr>\n",
              "  </thead>\n",
              "  <tbody>\n",
              "    <tr>\n",
              "      <th>0</th>\n",
              "      <td>A</td>\n",
              "      <td>3248.0</td>\n",
              "    </tr>\n",
              "    <tr>\n",
              "      <th>1</th>\n",
              "      <td>B</td>\n",
              "      <td>891.0</td>\n",
              "    </tr>\n",
              "    <tr>\n",
              "      <th>2</th>\n",
              "      <td>C</td>\n",
              "      <td>335.0</td>\n",
              "    </tr>\n",
              "    <tr>\n",
              "      <th>3</th>\n",
              "      <td>D</td>\n",
              "      <td>156.5</td>\n",
              "    </tr>\n",
              "    <tr>\n",
              "      <th>4</th>\n",
              "      <td>E</td>\n",
              "      <td>76.0</td>\n",
              "    </tr>\n",
              "  </tbody>\n",
              "</table>\n",
              "</div>"
            ],
            "text/plain": [
              "  CLUSTER  dif_median\n",
              "0       A      3248.0\n",
              "1       B       891.0\n",
              "2       C       335.0\n",
              "3       D       156.5\n",
              "4       E        76.0"
            ]
          },
          "metadata": {
            "tags": []
          },
          "execution_count": 29
        }
      ]
    },
    {
      "cell_type": "code",
      "metadata": {
        "colab": {
          "base_uri": "https://localhost:8080/",
          "height": 202
        },
        "id": "62Xc_NA8O6Sa",
        "outputId": "9d8ea986-13c1-4e87-e39f-377bd54ca50e"
      },
      "source": [
        "mediana_aumento_mortalidade_rel = categorias.sort_values(ascending=False, by=\"relative_dif_median\")\n",
        "mediana_aumento_mortalidade_rel[[\"CLUSTER\",\"relative_dif_median\"]]"
      ],
      "execution_count": null,
      "outputs": [
        {
          "output_type": "execute_result",
          "data": {
            "text/html": [
              "<div>\n",
              "<style scoped>\n",
              "    .dataframe tbody tr th:only-of-type {\n",
              "        vertical-align: middle;\n",
              "    }\n",
              "\n",
              "    .dataframe tbody tr th {\n",
              "        vertical-align: top;\n",
              "    }\n",
              "\n",
              "    .dataframe thead th {\n",
              "        text-align: right;\n",
              "    }\n",
              "</style>\n",
              "<table border=\"1\" class=\"dataframe\">\n",
              "  <thead>\n",
              "    <tr style=\"text-align: right;\">\n",
              "      <th></th>\n",
              "      <th>CLUSTER</th>\n",
              "      <th>relative_dif_median</th>\n",
              "    </tr>\n",
              "  </thead>\n",
              "  <tbody>\n",
              "    <tr>\n",
              "      <th>1</th>\n",
              "      <td>B</td>\n",
              "      <td>0.210345</td>\n",
              "    </tr>\n",
              "    <tr>\n",
              "      <th>2</th>\n",
              "      <td>C</td>\n",
              "      <td>0.196170</td>\n",
              "    </tr>\n",
              "    <tr>\n",
              "      <th>3</th>\n",
              "      <td>D</td>\n",
              "      <td>0.185249</td>\n",
              "    </tr>\n",
              "    <tr>\n",
              "      <th>0</th>\n",
              "      <td>A</td>\n",
              "      <td>0.165606</td>\n",
              "    </tr>\n",
              "    <tr>\n",
              "      <th>4</th>\n",
              "      <td>E</td>\n",
              "      <td>0.101813</td>\n",
              "    </tr>\n",
              "  </tbody>\n",
              "</table>\n",
              "</div>"
            ],
            "text/plain": [
              "  CLUSTER  relative_dif_median\n",
              "1       B             0.210345\n",
              "2       C             0.196170\n",
              "3       D             0.185249\n",
              "0       A             0.165606\n",
              "4       E             0.101813"
            ]
          },
          "metadata": {
            "tags": []
          },
          "execution_count": 30
        }
      ]
    },
    {
      "cell_type": "code",
      "metadata": {
        "colab": {
          "base_uri": "https://localhost:8080/",
          "height": 202
        },
        "id": "ltOmQIpDO6Sa",
        "outputId": "6e0a3178-134e-4a9f-c022-99401224db48"
      },
      "source": [
        "aumento_considerando_populacao = categorias.sort_values(ascending=False, by=\"relative_dif_average\")\n",
        "aumento_considerando_populacao[[\"CLUSTER\",\"relative_dif_average\"]]"
      ],
      "execution_count": null,
      "outputs": [
        {
          "output_type": "execute_result",
          "data": {
            "text/html": [
              "<div>\n",
              "<style scoped>\n",
              "    .dataframe tbody tr th:only-of-type {\n",
              "        vertical-align: middle;\n",
              "    }\n",
              "\n",
              "    .dataframe tbody tr th {\n",
              "        vertical-align: top;\n",
              "    }\n",
              "\n",
              "    .dataframe thead th {\n",
              "        text-align: right;\n",
              "    }\n",
              "</style>\n",
              "<table border=\"1\" class=\"dataframe\">\n",
              "  <thead>\n",
              "    <tr style=\"text-align: right;\">\n",
              "      <th></th>\n",
              "      <th>CLUSTER</th>\n",
              "      <th>relative_dif_average</th>\n",
              "    </tr>\n",
              "  </thead>\n",
              "  <tbody>\n",
              "    <tr>\n",
              "      <th>1</th>\n",
              "      <td>B</td>\n",
              "      <td>0.231662</td>\n",
              "    </tr>\n",
              "    <tr>\n",
              "      <th>3</th>\n",
              "      <td>D</td>\n",
              "      <td>0.226801</td>\n",
              "    </tr>\n",
              "    <tr>\n",
              "      <th>2</th>\n",
              "      <td>C</td>\n",
              "      <td>0.222747</td>\n",
              "    </tr>\n",
              "    <tr>\n",
              "      <th>4</th>\n",
              "      <td>E</td>\n",
              "      <td>0.179050</td>\n",
              "    </tr>\n",
              "    <tr>\n",
              "      <th>0</th>\n",
              "      <td>A</td>\n",
              "      <td>0.172642</td>\n",
              "    </tr>\n",
              "  </tbody>\n",
              "</table>\n",
              "</div>"
            ],
            "text/plain": [
              "  CLUSTER  relative_dif_average\n",
              "1       B              0.231662\n",
              "3       D              0.226801\n",
              "2       C              0.222747\n",
              "4       E              0.179050\n",
              "0       A              0.172642"
            ]
          },
          "metadata": {
            "tags": []
          },
          "execution_count": 31
        }
      ]
    },
    {
      "cell_type": "code",
      "metadata": {
        "id": "trj4NpBrO7bI"
      },
      "source": [
        ""
      ],
      "execution_count": null,
      "outputs": []
    },
    {
      "cell_type": "code",
      "metadata": {
        "id": "G9mzVrYDO7e6"
      },
      "source": [
        ""
      ],
      "execution_count": null,
      "outputs": []
    },
    {
      "cell_type": "code",
      "metadata": {
        "id": "4_3PI-q9O7h7"
      },
      "source": [
        ""
      ],
      "execution_count": null,
      "outputs": []
    },
    {
      "cell_type": "code",
      "metadata": {
        "id": "EgTgU14lO7l9"
      },
      "source": [
        ""
      ],
      "execution_count": null,
      "outputs": []
    },
    {
      "cell_type": "markdown",
      "metadata": {
        "id": "t_DbDxbHO8Eh"
      },
      "source": [
        "# **Entre 17 de janeiro de 2021 e 16 de fevereiro de 2021**"
      ]
    },
    {
      "cell_type": "code",
      "metadata": {
        "colab": {
          "base_uri": "https://localhost:8080/",
          "height": 414
        },
        "id": "FkhzaqW1O_ts",
        "outputId": "571624af-8ba7-4de1-9324-9d7db180d8c7"
      },
      "source": [
        "covid_tur_aumento = covid_tur.groupby(['city_ibge_code', 'estimated_population']).apply(calcula_aumento_relativo, x_col='last_available_confirmed', date_col='date', from_date='2021-01-17', to_date='2021-02-16').to_frame()\n",
        "covid_tur_aumento.rename(columns={0: \"explodir\"}, inplace=True)\n",
        "covid_tur_aumento = covid_tur_aumento['explodir'].apply(pd.Series)\n",
        "covid_tur_aumento.reset_index(inplace=True)\n",
        "covid_tur_aumento.sort_values(by='relative_dif', ascending=False)"
      ],
      "execution_count": null,
      "outputs": [
        {
          "output_type": "execute_result",
          "data": {
            "text/html": [
              "<div>\n",
              "<style scoped>\n",
              "    .dataframe tbody tr th:only-of-type {\n",
              "        vertical-align: middle;\n",
              "    }\n",
              "\n",
              "    .dataframe tbody tr th {\n",
              "        vertical-align: top;\n",
              "    }\n",
              "\n",
              "    .dataframe thead th {\n",
              "        text-align: right;\n",
              "    }\n",
              "</style>\n",
              "<table border=\"1\" class=\"dataframe\">\n",
              "  <thead>\n",
              "    <tr style=\"text-align: right;\">\n",
              "      <th></th>\n",
              "      <th>city_ibge_code</th>\n",
              "      <th>estimated_population</th>\n",
              "      <th>last_available_confirmed_from</th>\n",
              "      <th>last_available_confirmed_to</th>\n",
              "      <th>dif</th>\n",
              "      <th>relative_dif</th>\n",
              "    </tr>\n",
              "  </thead>\n",
              "  <tbody>\n",
              "    <tr>\n",
              "      <th>484</th>\n",
              "      <td>3135803</td>\n",
              "      <td>25474.0</td>\n",
              "      <td>240.0</td>\n",
              "      <td>747.0</td>\n",
              "      <td>507.0</td>\n",
              "      <td>2.112500</td>\n",
              "    </tr>\n",
              "    <tr>\n",
              "      <th>754</th>\n",
              "      <td>3527405</td>\n",
              "      <td>21886.0</td>\n",
              "      <td>189.0</td>\n",
              "      <td>427.0</td>\n",
              "      <td>238.0</td>\n",
              "      <td>1.259259</td>\n",
              "    </tr>\n",
              "    <tr>\n",
              "      <th>495</th>\n",
              "      <td>3141405</td>\n",
              "      <td>20759.0</td>\n",
              "      <td>306.0</td>\n",
              "      <td>595.0</td>\n",
              "      <td>289.0</td>\n",
              "      <td>0.944444</td>\n",
              "    </tr>\n",
              "    <tr>\n",
              "      <th>462</th>\n",
              "      <td>3121605</td>\n",
              "      <td>47825.0</td>\n",
              "      <td>488.0</td>\n",
              "      <td>910.0</td>\n",
              "      <td>422.0</td>\n",
              "      <td>0.864754</td>\n",
              "    </tr>\n",
              "    <tr>\n",
              "      <th>501</th>\n",
              "      <td>3144102</td>\n",
              "      <td>20545.0</td>\n",
              "      <td>276.0</td>\n",
              "      <td>502.0</td>\n",
              "      <td>226.0</td>\n",
              "      <td>0.818841</td>\n",
              "    </tr>\n",
              "    <tr>\n",
              "      <th>...</th>\n",
              "      <td>...</td>\n",
              "      <td>...</td>\n",
              "      <td>...</td>\n",
              "      <td>...</td>\n",
              "      <td>...</td>\n",
              "      <td>...</td>\n",
              "    </tr>\n",
              "    <tr>\n",
              "      <th>521</th>\n",
              "      <td>3151404</td>\n",
              "      <td>28215.0</td>\n",
              "      <td>306.0</td>\n",
              "      <td>306.0</td>\n",
              "      <td>0.0</td>\n",
              "      <td>0.000000</td>\n",
              "    </tr>\n",
              "    <tr>\n",
              "      <th>1044</th>\n",
              "      <td>4318507</td>\n",
              "      <td>27721.0</td>\n",
              "      <td>491.0</td>\n",
              "      <td>491.0</td>\n",
              "      <td>0.0</td>\n",
              "      <td>0.000000</td>\n",
              "    </tr>\n",
              "    <tr>\n",
              "      <th>95</th>\n",
              "      <td>2100204</td>\n",
              "      <td>22112.0</td>\n",
              "      <td>202.0</td>\n",
              "      <td>202.0</td>\n",
              "      <td>0.0</td>\n",
              "      <td>0.000000</td>\n",
              "    </tr>\n",
              "    <tr>\n",
              "      <th>96</th>\n",
              "      <td>2100907</td>\n",
              "      <td>46771.0</td>\n",
              "      <td>589.0</td>\n",
              "      <td>589.0</td>\n",
              "      <td>0.0</td>\n",
              "      <td>0.000000</td>\n",
              "    </tr>\n",
              "    <tr>\n",
              "      <th>287</th>\n",
              "      <td>2614204</td>\n",
              "      <td>46361.0</td>\n",
              "      <td>487.0</td>\n",
              "      <td>480.0</td>\n",
              "      <td>-7.0</td>\n",
              "      <td>-0.014374</td>\n",
              "    </tr>\n",
              "  </tbody>\n",
              "</table>\n",
              "<p>1155 rows × 6 columns</p>\n",
              "</div>"
            ],
            "text/plain": [
              "     city_ibge_code  estimated_population  ...    dif  relative_dif\n",
              "484         3135803               25474.0  ...  507.0      2.112500\n",
              "754         3527405               21886.0  ...  238.0      1.259259\n",
              "495         3141405               20759.0  ...  289.0      0.944444\n",
              "462         3121605               47825.0  ...  422.0      0.864754\n",
              "501         3144102               20545.0  ...  226.0      0.818841\n",
              "...             ...                   ...  ...    ...           ...\n",
              "521         3151404               28215.0  ...    0.0      0.000000\n",
              "1044        4318507               27721.0  ...    0.0      0.000000\n",
              "95          2100204               22112.0  ...    0.0      0.000000\n",
              "96          2100907               46771.0  ...    0.0      0.000000\n",
              "287         2614204               46361.0  ...   -7.0     -0.014374\n",
              "\n",
              "[1155 rows x 6 columns]"
            ]
          },
          "metadata": {
            "tags": []
          },
          "execution_count": 32
        }
      ]
    },
    {
      "cell_type": "code",
      "metadata": {
        "colab": {
          "base_uri": "https://localhost:8080/",
          "height": 517
        },
        "id": "0NIf47aZO_tt",
        "outputId": "c281a94a-8ac2-48eb-c84d-156ecd4fc766"
      },
      "source": [
        "covid_tur_aumento_categorias = pd.merge(covid_tur_aumento, cidades_turisticas, left_on=\"city_ibge_code\", right_on=\"COD_IBGE\", how=\"left\")\n",
        "covid_tur_aumento_categorias"
      ],
      "execution_count": null,
      "outputs": [
        {
          "output_type": "execute_result",
          "data": {
            "text/html": [
              "<div>\n",
              "<style scoped>\n",
              "    .dataframe tbody tr th:only-of-type {\n",
              "        vertical-align: middle;\n",
              "    }\n",
              "\n",
              "    .dataframe tbody tr th {\n",
              "        vertical-align: top;\n",
              "    }\n",
              "\n",
              "    .dataframe thead th {\n",
              "        text-align: right;\n",
              "    }\n",
              "</style>\n",
              "<table border=\"1\" class=\"dataframe\">\n",
              "  <thead>\n",
              "    <tr style=\"text-align: right;\">\n",
              "      <th></th>\n",
              "      <th>city_ibge_code</th>\n",
              "      <th>estimated_population</th>\n",
              "      <th>last_available_confirmed_from</th>\n",
              "      <th>last_available_confirmed_to</th>\n",
              "      <th>dif</th>\n",
              "      <th>relative_dif</th>\n",
              "      <th>UF</th>\n",
              "      <th>MUNICIPIO</th>\n",
              "      <th>COD_IBGE</th>\n",
              "      <th>QUANTIDADE_VISITAS_ESTIMADAS_ NACIONAL</th>\n",
              "      <th>ARRECADACAO</th>\n",
              "      <th>CLUSTER</th>\n",
              "    </tr>\n",
              "  </thead>\n",
              "  <tbody>\n",
              "    <tr>\n",
              "      <th>0</th>\n",
              "      <td>1100023</td>\n",
              "      <td>109523.0</td>\n",
              "      <td>9010.0</td>\n",
              "      <td>11186.0</td>\n",
              "      <td>2176.0</td>\n",
              "      <td>0.241509</td>\n",
              "      <td>RO</td>\n",
              "      <td>Ariquemes</td>\n",
              "      <td>1100023</td>\n",
              "      <td>3371</td>\n",
              "      <td>739140</td>\n",
              "      <td>C</td>\n",
              "    </tr>\n",
              "    <tr>\n",
              "      <th>1</th>\n",
              "      <td>1100049</td>\n",
              "      <td>85893.0</td>\n",
              "      <td>5190.0</td>\n",
              "      <td>7523.0</td>\n",
              "      <td>2333.0</td>\n",
              "      <td>0.449518</td>\n",
              "      <td>RO</td>\n",
              "      <td>Cacoal</td>\n",
              "      <td>1100049</td>\n",
              "      <td>98548</td>\n",
              "      <td>866406</td>\n",
              "      <td>B</td>\n",
              "    </tr>\n",
              "    <tr>\n",
              "      <th>2</th>\n",
              "      <td>1100106</td>\n",
              "      <td>46556.0</td>\n",
              "      <td>3822.0</td>\n",
              "      <td>4506.0</td>\n",
              "      <td>684.0</td>\n",
              "      <td>0.178964</td>\n",
              "      <td>RO</td>\n",
              "      <td>Guajará-Mirim</td>\n",
              "      <td>1100106</td>\n",
              "      <td>34819</td>\n",
              "      <td>72309</td>\n",
              "      <td>C</td>\n",
              "    </tr>\n",
              "    <tr>\n",
              "      <th>3</th>\n",
              "      <td>1100155</td>\n",
              "      <td>35737.0</td>\n",
              "      <td>1897.0</td>\n",
              "      <td>2351.0</td>\n",
              "      <td>454.0</td>\n",
              "      <td>0.239325</td>\n",
              "      <td>RO</td>\n",
              "      <td>Ouro Preto do Oeste</td>\n",
              "      <td>1100155</td>\n",
              "      <td>9645</td>\n",
              "      <td>0</td>\n",
              "      <td>C</td>\n",
              "    </tr>\n",
              "    <tr>\n",
              "      <th>4</th>\n",
              "      <td>1100189</td>\n",
              "      <td>36881.0</td>\n",
              "      <td>1772.0</td>\n",
              "      <td>2711.0</td>\n",
              "      <td>939.0</td>\n",
              "      <td>0.529910</td>\n",
              "      <td>RO</td>\n",
              "      <td>Pimenta Bueno</td>\n",
              "      <td>1100189</td>\n",
              "      <td>29225</td>\n",
              "      <td>0</td>\n",
              "      <td>C</td>\n",
              "    </tr>\n",
              "    <tr>\n",
              "      <th>...</th>\n",
              "      <td>...</td>\n",
              "      <td>...</td>\n",
              "      <td>...</td>\n",
              "      <td>...</td>\n",
              "      <td>...</td>\n",
              "      <td>...</td>\n",
              "      <td>...</td>\n",
              "      <td>...</td>\n",
              "      <td>...</td>\n",
              "      <td>...</td>\n",
              "      <td>...</td>\n",
              "      <td>...</td>\n",
              "    </tr>\n",
              "    <tr>\n",
              "      <th>1150</th>\n",
              "      <td>5220603</td>\n",
              "      <td>20816.0</td>\n",
              "      <td>463.0</td>\n",
              "      <td>607.0</td>\n",
              "      <td>144.0</td>\n",
              "      <td>0.311015</td>\n",
              "      <td>GO</td>\n",
              "      <td>Silvânia</td>\n",
              "      <td>5220603</td>\n",
              "      <td>12425</td>\n",
              "      <td>0</td>\n",
              "      <td>D</td>\n",
              "    </tr>\n",
              "    <tr>\n",
              "      <th>1151</th>\n",
              "      <td>5221403</td>\n",
              "      <td>129823.0</td>\n",
              "      <td>4281.0</td>\n",
              "      <td>4903.0</td>\n",
              "      <td>622.0</td>\n",
              "      <td>0.145293</td>\n",
              "      <td>GO</td>\n",
              "      <td>Trindade</td>\n",
              "      <td>5221403</td>\n",
              "      <td>193242</td>\n",
              "      <td>546770</td>\n",
              "      <td>B</td>\n",
              "    </tr>\n",
              "    <tr>\n",
              "      <th>1152</th>\n",
              "      <td>5221601</td>\n",
              "      <td>40840.0</td>\n",
              "      <td>1476.0</td>\n",
              "      <td>1721.0</td>\n",
              "      <td>245.0</td>\n",
              "      <td>0.165989</td>\n",
              "      <td>GO</td>\n",
              "      <td>Uruaçu</td>\n",
              "      <td>5221601</td>\n",
              "      <td>215680</td>\n",
              "      <td>375239</td>\n",
              "      <td>B</td>\n",
              "    </tr>\n",
              "    <tr>\n",
              "      <th>1153</th>\n",
              "      <td>5221858</td>\n",
              "      <td>172135.0</td>\n",
              "      <td>8313.0</td>\n",
              "      <td>8779.0</td>\n",
              "      <td>466.0</td>\n",
              "      <td>0.056057</td>\n",
              "      <td>GO</td>\n",
              "      <td>Valparaíso de Goiás</td>\n",
              "      <td>5221858</td>\n",
              "      <td>3064</td>\n",
              "      <td>746468</td>\n",
              "      <td>D</td>\n",
              "    </tr>\n",
              "    <tr>\n",
              "      <th>1154</th>\n",
              "      <td>5300108</td>\n",
              "      <td>3055149.0</td>\n",
              "      <td>231305.0</td>\n",
              "      <td>250753.0</td>\n",
              "      <td>19448.0</td>\n",
              "      <td>0.084079</td>\n",
              "      <td>DF</td>\n",
              "      <td>Brasília</td>\n",
              "      <td>5300108</td>\n",
              "      <td>4332053</td>\n",
              "      <td>59764674</td>\n",
              "      <td>A</td>\n",
              "    </tr>\n",
              "  </tbody>\n",
              "</table>\n",
              "<p>1155 rows × 12 columns</p>\n",
              "</div>"
            ],
            "text/plain": [
              "     city_ibge_code  estimated_population  ...  ARRECADACAO  CLUSTER\n",
              "0           1100023              109523.0  ...       739140        C\n",
              "1           1100049               85893.0  ...       866406        B\n",
              "2           1100106               46556.0  ...        72309        C\n",
              "3           1100155               35737.0  ...            0        C\n",
              "4           1100189               36881.0  ...            0        C\n",
              "...             ...                   ...  ...          ...      ...\n",
              "1150        5220603               20816.0  ...            0        D\n",
              "1151        5221403              129823.0  ...       546770        B\n",
              "1152        5221601               40840.0  ...       375239        B\n",
              "1153        5221858              172135.0  ...       746468        D\n",
              "1154        5300108             3055149.0  ...     59764674        A\n",
              "\n",
              "[1155 rows x 12 columns]"
            ]
          },
          "metadata": {
            "tags": []
          },
          "execution_count": 33
        }
      ]
    },
    {
      "cell_type": "code",
      "metadata": {
        "colab": {
          "base_uri": "https://localhost:8080/",
          "height": 301
        },
        "id": "emuBq18KO_tu",
        "outputId": "6359999e-19ef-489a-c9d7-cf22567160e3"
      },
      "source": [
        "ax = sns.boxplot(x=\"CLUSTER\", y=\"last_available_confirmed_to\", data=covid_tur_aumento_categorias, showfliers = False).set_title(\"Mortalidade em janeiro de 2021\")"
      ],
      "execution_count": null,
      "outputs": [
        {
          "output_type": "display_data",
          "data": {
            "image/png": "[encoded data removed]",
            "text/plain": [
              "<Figure size 432x288 with 1 Axes>"
            ]
          },
          "metadata": {
            "tags": [],
            "needs_background": "light"
          }
        }
      ]
    },
    {
      "cell_type": "code",
      "metadata": {
        "colab": {
          "base_uri": "https://localhost:8080/",
          "height": 301
        },
        "id": "wVlhg9ZoO_tv",
        "outputId": "195326f6-7e3d-42cf-c75b-c385abcbcf1d"
      },
      "source": [
        "ax = sns.boxplot(x=\"CLUSTER\", y=\"relative_dif\", data=covid_tur_aumento_categorias, showfliers = False).set_title(\"Percentual de aumento entre 17 de janeiro de 2021 e 16 de fevereiro de 2021\")"
      ],
      "execution_count": null,
      "outputs": [
        {
          "output_type": "display_data",
          "data": {
            "image/png": "[encoded data removed]",
            "text/plain": [
              "<Figure size 432x288 with 1 Axes>"
            ]
          },
          "metadata": {
            "tags": [],
            "needs_background": "light"
          }
        }
      ]
    },
    {
      "cell_type": "code",
      "metadata": {
        "colab": {
          "base_uri": "https://localhost:8080/",
          "height": 301
        },
        "id": "V3e4SWv-O_tw",
        "outputId": "a7166ef3-cdc6-4292-d1d9-6f678398e885"
      },
      "source": [
        "ax = sns.boxplot(x=\"CLUSTER\", y=\"dif\", data=covid_tur_aumento_categorias, showfliers = False).set_title(\"Aumento absoluto entre 17 de janeiro de 2021 e 16 de fevereiro de 2021\")"
      ],
      "execution_count": null,
      "outputs": [
        {
          "output_type": "display_data",
          "data": {
            "image/png": "[encoded data removed]",
            "text/plain": [
              "<Figure size 432x288 with 1 Axes>"
            ]
          },
          "metadata": {
            "tags": [],
            "needs_background": "light"
          }
        }
      ]
    },
    {
      "cell_type": "code",
      "metadata": {
        "colab": {
          "base_uri": "https://localhost:8080/"
        },
        "id": "Eap8QqOUO_tw",
        "outputId": "c0d01bbd-abc4-4462-a536-347326077c22"
      },
      "source": [
        "categorias = pd.concat([covid_tur_aumento_categorias.groupby('CLUSTER').agg(\n",
        "    n_cities=('city_ibge_code','count'),\n",
        "    population_mean=('estimated_population','mean'),\n",
        "    population_median=('estimated_population','median'),\n",
        "    last_available_confirmed_from_mean=('last_available_confirmed_from','mean'),\n",
        "    last_available_confirmed_from_median=('last_available_confirmed_from','median'),\n",
        "    last_available_confirmed_to_mean=('last_available_confirmed_to','mean'),\n",
        "    last_available_confirmed_to_median=('last_available_confirmed_to','median'),    \n",
        "    dif_mean=('dif','mean'),\n",
        "    dif_median=('dif','median'),\n",
        "    relative_dif_mean=('relative_dif','mean'),\n",
        "    relative_dif_median=('relative_dif','median')\n",
        "),(covid_tur_aumento_categorias.groupby('CLUSTER').apply(lambda x: pd.np.average(x.relative_dif, weights=x.estimated_population)).rename('relative_dif_average'))], axis=1)"
      ],
      "execution_count": null,
      "outputs": [
        {
          "output_type": "stream",
          "text": [
            "/usr/local/lib/python3.7/dist-packages/ipykernel_launcher.py:13: FutureWarning: The pandas.np module is deprecated and will be removed from pandas in a future version. Import numpy directly instead\n",
            "  del sys.path[0]\n"
          ],
          "name": "stderr"
        }
      ]
    },
    {
      "cell_type": "code",
      "metadata": {
        "colab": {
          "base_uri": "https://localhost:8080/",
          "height": 222
        },
        "id": "-l_KUJtuO_tx",
        "outputId": "3b8235fd-e6d7-4bf3-9679-d168d2e6046f"
      },
      "source": [
        "categorias.reset_index(inplace=True)\n",
        "categorias"
      ],
      "execution_count": null,
      "outputs": [
        {
          "output_type": "execute_result",
          "data": {
            "text/html": [
              "<div>\n",
              "<style scoped>\n",
              "    .dataframe tbody tr th:only-of-type {\n",
              "        vertical-align: middle;\n",
              "    }\n",
              "\n",
              "    .dataframe tbody tr th {\n",
              "        vertical-align: top;\n",
              "    }\n",
              "\n",
              "    .dataframe thead th {\n",
              "        text-align: right;\n",
              "    }\n",
              "</style>\n",
              "<table border=\"1\" class=\"dataframe\">\n",
              "  <thead>\n",
              "    <tr style=\"text-align: right;\">\n",
              "      <th></th>\n",
              "      <th>CLUSTER</th>\n",
              "      <th>n_cities</th>\n",
              "      <th>population_mean</th>\n",
              "      <th>population_median</th>\n",
              "      <th>last_available_confirmed_from_mean</th>\n",
              "      <th>last_available_confirmed_from_median</th>\n",
              "      <th>last_available_confirmed_to_mean</th>\n",
              "      <th>last_available_confirmed_to_median</th>\n",
              "      <th>dif_mean</th>\n",
              "      <th>dif_median</th>\n",
              "      <th>relative_dif_mean</th>\n",
              "      <th>relative_dif_median</th>\n",
              "      <th>relative_dif_average</th>\n",
              "    </tr>\n",
              "  </thead>\n",
              "  <tbody>\n",
              "    <tr>\n",
              "      <th>0</th>\n",
              "      <td>A</td>\n",
              "      <td>59</td>\n",
              "      <td>984885.593220</td>\n",
              "      <td>419652.0</td>\n",
              "      <td>44155.406780</td>\n",
              "      <td>31026.0</td>\n",
              "      <td>51245.525424</td>\n",
              "      <td>33819.0</td>\n",
              "      <td>7090.118644</td>\n",
              "      <td>3762.0</td>\n",
              "      <td>0.202229</td>\n",
              "      <td>0.162640</td>\n",
              "      <td>0.167841</td>\n",
              "    </tr>\n",
              "    <tr>\n",
              "      <th>1</th>\n",
              "      <td>B</td>\n",
              "      <td>238</td>\n",
              "      <td>183898.054622</td>\n",
              "      <td>123057.0</td>\n",
              "      <td>7824.084034</td>\n",
              "      <td>5131.5</td>\n",
              "      <td>9233.953782</td>\n",
              "      <td>6230.5</td>\n",
              "      <td>1409.869748</td>\n",
              "      <td>994.0</td>\n",
              "      <td>0.208870</td>\n",
              "      <td>0.178601</td>\n",
              "      <td>0.190637</td>\n",
              "    </tr>\n",
              "    <tr>\n",
              "      <th>2</th>\n",
              "      <td>C</td>\n",
              "      <td>397</td>\n",
              "      <td>74728.382872</td>\n",
              "      <td>51338.0</td>\n",
              "      <td>2937.355164</td>\n",
              "      <td>2059.0</td>\n",
              "      <td>3474.335013</td>\n",
              "      <td>2521.0</td>\n",
              "      <td>536.979849</td>\n",
              "      <td>348.0</td>\n",
              "      <td>0.206635</td>\n",
              "      <td>0.178964</td>\n",
              "      <td>0.202071</td>\n",
              "    </tr>\n",
              "    <tr>\n",
              "      <th>3</th>\n",
              "      <td>D</td>\n",
              "      <td>450</td>\n",
              "      <td>39418.280000</td>\n",
              "      <td>30428.5</td>\n",
              "      <td>1381.653333</td>\n",
              "      <td>1049.0</td>\n",
              "      <td>1620.808889</td>\n",
              "      <td>1279.0</td>\n",
              "      <td>239.155556</td>\n",
              "      <td>188.0</td>\n",
              "      <td>0.205877</td>\n",
              "      <td>0.160382</td>\n",
              "      <td>0.190751</td>\n",
              "    </tr>\n",
              "    <tr>\n",
              "      <th>4</th>\n",
              "      <td>E</td>\n",
              "      <td>11</td>\n",
              "      <td>39515.181818</td>\n",
              "      <td>24382.0</td>\n",
              "      <td>1217.909091</td>\n",
              "      <td>853.0</td>\n",
              "      <td>1432.727273</td>\n",
              "      <td>941.0</td>\n",
              "      <td>214.818182</td>\n",
              "      <td>96.0</td>\n",
              "      <td>0.177464</td>\n",
              "      <td>0.139004</td>\n",
              "      <td>0.204877</td>\n",
              "    </tr>\n",
              "  </tbody>\n",
              "</table>\n",
              "</div>"
            ],
            "text/plain": [
              "  CLUSTER  n_cities  ...  relative_dif_median  relative_dif_average\n",
              "0       A        59  ...             0.162640              0.167841\n",
              "1       B       238  ...             0.178601              0.190637\n",
              "2       C       397  ...             0.178964              0.202071\n",
              "3       D       450  ...             0.160382              0.190751\n",
              "4       E        11  ...             0.139004              0.204877\n",
              "\n",
              "[5 rows x 13 columns]"
            ]
          },
          "metadata": {
            "tags": []
          },
          "execution_count": 38
        }
      ]
    },
    {
      "cell_type": "code",
      "metadata": {
        "colab": {
          "base_uri": "https://localhost:8080/",
          "height": 301
        },
        "id": "6AUbHvjtUwE1",
        "outputId": "f6e6cf43-058c-493f-b16a-242b111e7072"
      },
      "source": [
        "ax = sns.boxplot(x=\"CLUSTER\", y=\"relative_dif_average\", data=categorias, showfliers = False).set_title(\"Aumento considerando tamanho entre 17 de janeiro de 2021 e 16 de fevereiro de 2021\")"
      ],
      "execution_count": null,
      "outputs": [
        {
          "output_type": "display_data",
          "data": {
            "image/png": "[encoded data removed]",
            "text/plain": [
              "<Figure size 432x288 with 1 Axes>"
            ]
          },
          "metadata": {
            "tags": [],
            "needs_background": "light"
          }
        }
      ]
    },
    {
      "cell_type": "markdown",
      "metadata": {
        "id": "vfiOLcewO_ty"
      },
      "source": [
        "**Métricas em ordem decrescente**"
      ]
    },
    {
      "cell_type": "code",
      "metadata": {
        "colab": {
          "base_uri": "https://localhost:8080/",
          "height": 202
        },
        "id": "wjfzpEEeO_tz",
        "outputId": "d634c6dc-fc2a-44b6-884b-d4ea169771f3"
      },
      "source": [
        "mediana_aumento_mortalidade_abs = categorias.sort_values(ascending=False, by=\"dif_median\")\n",
        "mediana_aumento_mortalidade_abs[[\"CLUSTER\",\"dif_median\"]]"
      ],
      "execution_count": null,
      "outputs": [
        {
          "output_type": "execute_result",
          "data": {
            "text/html": [
              "<div>\n",
              "<style scoped>\n",
              "    .dataframe tbody tr th:only-of-type {\n",
              "        vertical-align: middle;\n",
              "    }\n",
              "\n",
              "    .dataframe tbody tr th {\n",
              "        vertical-align: top;\n",
              "    }\n",
              "\n",
              "    .dataframe thead th {\n",
              "        text-align: right;\n",
              "    }\n",
              "</style>\n",
              "<table border=\"1\" class=\"dataframe\">\n",
              "  <thead>\n",
              "    <tr style=\"text-align: right;\">\n",
              "      <th></th>\n",
              "      <th>CLUSTER</th>\n",
              "      <th>dif_median</th>\n",
              "    </tr>\n",
              "  </thead>\n",
              "  <tbody>\n",
              "    <tr>\n",
              "      <th>0</th>\n",
              "      <td>A</td>\n",
              "      <td>3762.0</td>\n",
              "    </tr>\n",
              "    <tr>\n",
              "      <th>1</th>\n",
              "      <td>B</td>\n",
              "      <td>994.0</td>\n",
              "    </tr>\n",
              "    <tr>\n",
              "      <th>2</th>\n",
              "      <td>C</td>\n",
              "      <td>348.0</td>\n",
              "    </tr>\n",
              "    <tr>\n",
              "      <th>3</th>\n",
              "      <td>D</td>\n",
              "      <td>188.0</td>\n",
              "    </tr>\n",
              "    <tr>\n",
              "      <th>4</th>\n",
              "      <td>E</td>\n",
              "      <td>96.0</td>\n",
              "    </tr>\n",
              "  </tbody>\n",
              "</table>\n",
              "</div>"
            ],
            "text/plain": [
              "  CLUSTER  dif_median\n",
              "0       A      3762.0\n",
              "1       B       994.0\n",
              "2       C       348.0\n",
              "3       D       188.0\n",
              "4       E        96.0"
            ]
          },
          "metadata": {
            "tags": []
          },
          "execution_count": 40
        }
      ]
    },
    {
      "cell_type": "code",
      "metadata": {
        "colab": {
          "base_uri": "https://localhost:8080/",
          "height": 202
        },
        "id": "AVWs0umLO_t0",
        "outputId": "6ef04985-2d14-4bba-a190-f266f0a2fc29"
      },
      "source": [
        "mediana_aumento_mortalidade_rel = categorias.sort_values(ascending=False, by=\"relative_dif_median\")\n",
        "mediana_aumento_mortalidade_rel[[\"CLUSTER\",\"relative_dif_median\"]]"
      ],
      "execution_count": null,
      "outputs": [
        {
          "output_type": "execute_result",
          "data": {
            "text/html": [
              "<div>\n",
              "<style scoped>\n",
              "    .dataframe tbody tr th:only-of-type {\n",
              "        vertical-align: middle;\n",
              "    }\n",
              "\n",
              "    .dataframe tbody tr th {\n",
              "        vertical-align: top;\n",
              "    }\n",
              "\n",
              "    .dataframe thead th {\n",
              "        text-align: right;\n",
              "    }\n",
              "</style>\n",
              "<table border=\"1\" class=\"dataframe\">\n",
              "  <thead>\n",
              "    <tr style=\"text-align: right;\">\n",
              "      <th></th>\n",
              "      <th>CLUSTER</th>\n",
              "      <th>relative_dif_median</th>\n",
              "    </tr>\n",
              "  </thead>\n",
              "  <tbody>\n",
              "    <tr>\n",
              "      <th>2</th>\n",
              "      <td>C</td>\n",
              "      <td>0.178964</td>\n",
              "    </tr>\n",
              "    <tr>\n",
              "      <th>1</th>\n",
              "      <td>B</td>\n",
              "      <td>0.178601</td>\n",
              "    </tr>\n",
              "    <tr>\n",
              "      <th>0</th>\n",
              "      <td>A</td>\n",
              "      <td>0.162640</td>\n",
              "    </tr>\n",
              "    <tr>\n",
              "      <th>3</th>\n",
              "      <td>D</td>\n",
              "      <td>0.160382</td>\n",
              "    </tr>\n",
              "    <tr>\n",
              "      <th>4</th>\n",
              "      <td>E</td>\n",
              "      <td>0.139004</td>\n",
              "    </tr>\n",
              "  </tbody>\n",
              "</table>\n",
              "</div>"
            ],
            "text/plain": [
              "  CLUSTER  relative_dif_median\n",
              "2       C             0.178964\n",
              "1       B             0.178601\n",
              "0       A             0.162640\n",
              "3       D             0.160382\n",
              "4       E             0.139004"
            ]
          },
          "metadata": {
            "tags": []
          },
          "execution_count": 41
        }
      ]
    },
    {
      "cell_type": "code",
      "metadata": {
        "colab": {
          "base_uri": "https://localhost:8080/",
          "height": 202
        },
        "id": "JgghFredO_t1",
        "outputId": "13355e64-00b6-4b0c-bf42-7bd1449836e1"
      },
      "source": [
        "aumento_considerando_populacao = categorias.sort_values(ascending=False, by=\"relative_dif_average\")\n",
        "aumento_considerando_populacao[[\"CLUSTER\",\"relative_dif_average\"]]"
      ],
      "execution_count": null,
      "outputs": [
        {
          "output_type": "execute_result",
          "data": {
            "text/html": [
              "<div>\n",
              "<style scoped>\n",
              "    .dataframe tbody tr th:only-of-type {\n",
              "        vertical-align: middle;\n",
              "    }\n",
              "\n",
              "    .dataframe tbody tr th {\n",
              "        vertical-align: top;\n",
              "    }\n",
              "\n",
              "    .dataframe thead th {\n",
              "        text-align: right;\n",
              "    }\n",
              "</style>\n",
              "<table border=\"1\" class=\"dataframe\">\n",
              "  <thead>\n",
              "    <tr style=\"text-align: right;\">\n",
              "      <th></th>\n",
              "      <th>CLUSTER</th>\n",
              "      <th>relative_dif_average</th>\n",
              "    </tr>\n",
              "  </thead>\n",
              "  <tbody>\n",
              "    <tr>\n",
              "      <th>4</th>\n",
              "      <td>E</td>\n",
              "      <td>0.204877</td>\n",
              "    </tr>\n",
              "    <tr>\n",
              "      <th>2</th>\n",
              "      <td>C</td>\n",
              "      <td>0.202071</td>\n",
              "    </tr>\n",
              "    <tr>\n",
              "      <th>3</th>\n",
              "      <td>D</td>\n",
              "      <td>0.190751</td>\n",
              "    </tr>\n",
              "    <tr>\n",
              "      <th>1</th>\n",
              "      <td>B</td>\n",
              "      <td>0.190637</td>\n",
              "    </tr>\n",
              "    <tr>\n",
              "      <th>0</th>\n",
              "      <td>A</td>\n",
              "      <td>0.167841</td>\n",
              "    </tr>\n",
              "  </tbody>\n",
              "</table>\n",
              "</div>"
            ],
            "text/plain": [
              "  CLUSTER  relative_dif_average\n",
              "4       E              0.204877\n",
              "2       C              0.202071\n",
              "3       D              0.190751\n",
              "1       B              0.190637\n",
              "0       A              0.167841"
            ]
          },
          "metadata": {
            "tags": []
          },
          "execution_count": 42
        }
      ]
    },
    {
      "cell_type": "code",
      "metadata": {
        "id": "tuelq-EZPAp3"
      },
      "source": [
        ""
      ],
      "execution_count": null,
      "outputs": []
    },
    {
      "cell_type": "code",
      "metadata": {
        "id": "raFvS06RPAxw"
      },
      "source": [
        ""
      ],
      "execution_count": null,
      "outputs": []
    },
    {
      "cell_type": "code",
      "metadata": {
        "id": "i6AG4ci8PA63"
      },
      "source": [
        ""
      ],
      "execution_count": null,
      "outputs": []
    },
    {
      "cell_type": "code",
      "metadata": {
        "id": "VTUTrmfoPBEV"
      },
      "source": [
        ""
      ],
      "execution_count": null,
      "outputs": []
    },
    {
      "cell_type": "markdown",
      "metadata": {
        "id": "NeEbXUlMPBV2"
      },
      "source": [
        "# **Entre 17 de fevereiro de 2021 e 16 de março de 2021**"
      ]
    },
    {
      "cell_type": "code",
      "metadata": {
        "colab": {
          "base_uri": "https://localhost:8080/",
          "height": 414
        },
        "id": "bz76Q4EBPErB",
        "outputId": "3a076722-89db-4fb1-bcfe-08a755f67da5"
      },
      "source": [
        "covid_tur_aumento = covid_tur.groupby(['city_ibge_code', 'estimated_population']).apply(calcula_aumento_relativo, x_col='last_available_confirmed', date_col='date', from_date='2021-02-17', to_date='2021-03-16').to_frame()\n",
        "covid_tur_aumento.rename(columns={0: \"explodir\"}, inplace=True)\n",
        "covid_tur_aumento = covid_tur_aumento['explodir'].apply(pd.Series)\n",
        "covid_tur_aumento.reset_index(inplace=True)\n",
        "covid_tur_aumento.sort_values(by='relative_dif', ascending=False)"
      ],
      "execution_count": null,
      "outputs": [
        {
          "output_type": "execute_result",
          "data": {
            "text/html": [
              "<div>\n",
              "<style scoped>\n",
              "    .dataframe tbody tr th:only-of-type {\n",
              "        vertical-align: middle;\n",
              "    }\n",
              "\n",
              "    .dataframe tbody tr th {\n",
              "        vertical-align: top;\n",
              "    }\n",
              "\n",
              "    .dataframe thead th {\n",
              "        text-align: right;\n",
              "    }\n",
              "</style>\n",
              "<table border=\"1\" class=\"dataframe\">\n",
              "  <thead>\n",
              "    <tr style=\"text-align: right;\">\n",
              "      <th></th>\n",
              "      <th>city_ibge_code</th>\n",
              "      <th>estimated_population</th>\n",
              "      <th>last_available_confirmed_from</th>\n",
              "      <th>last_available_confirmed_to</th>\n",
              "      <th>dif</th>\n",
              "      <th>relative_dif</th>\n",
              "    </tr>\n",
              "  </thead>\n",
              "  <tbody>\n",
              "    <tr>\n",
              "      <th>1029</th>\n",
              "      <td>4315305</td>\n",
              "      <td>22607.0</td>\n",
              "      <td>117.0</td>\n",
              "      <td>489.0</td>\n",
              "      <td>372.0</td>\n",
              "      <td>3.179487</td>\n",
              "    </tr>\n",
              "    <tr>\n",
              "      <th>449</th>\n",
              "      <td>3114402</td>\n",
              "      <td>21268.0</td>\n",
              "      <td>168.0</td>\n",
              "      <td>441.0</td>\n",
              "      <td>273.0</td>\n",
              "      <td>1.625000</td>\n",
              "    </tr>\n",
              "    <tr>\n",
              "      <th>1014</th>\n",
              "      <td>4311007</td>\n",
              "      <td>26500.0</td>\n",
              "      <td>536.0</td>\n",
              "      <td>1106.0</td>\n",
              "      <td>570.0</td>\n",
              "      <td>1.063433</td>\n",
              "    </tr>\n",
              "    <tr>\n",
              "      <th>1026</th>\n",
              "      <td>4314605</td>\n",
              "      <td>20704.0</td>\n",
              "      <td>178.0</td>\n",
              "      <td>316.0</td>\n",
              "      <td>138.0</td>\n",
              "      <td>0.775281</td>\n",
              "    </tr>\n",
              "    <tr>\n",
              "      <th>1018</th>\n",
              "      <td>4313201</td>\n",
              "      <td>21536.0</td>\n",
              "      <td>1090.0</td>\n",
              "      <td>1900.0</td>\n",
              "      <td>810.0</td>\n",
              "      <td>0.743119</td>\n",
              "    </tr>\n",
              "    <tr>\n",
              "      <th>...</th>\n",
              "      <td>...</td>\n",
              "      <td>...</td>\n",
              "      <td>...</td>\n",
              "      <td>...</td>\n",
              "      <td>...</td>\n",
              "      <td>...</td>\n",
              "    </tr>\n",
              "    <tr>\n",
              "      <th>102</th>\n",
              "      <td>2101905</td>\n",
              "      <td>21299.0</td>\n",
              "      <td>264.0</td>\n",
              "      <td>265.0</td>\n",
              "      <td>1.0</td>\n",
              "      <td>0.003788</td>\n",
              "    </tr>\n",
              "    <tr>\n",
              "      <th>111</th>\n",
              "      <td>2104057</td>\n",
              "      <td>42527.0</td>\n",
              "      <td>3140.0</td>\n",
              "      <td>3150.0</td>\n",
              "      <td>10.0</td>\n",
              "      <td>0.003185</td>\n",
              "    </tr>\n",
              "    <tr>\n",
              "      <th>109</th>\n",
              "      <td>2103406</td>\n",
              "      <td>49621.0</td>\n",
              "      <td>1590.0</td>\n",
              "      <td>1591.0</td>\n",
              "      <td>1.0</td>\n",
              "      <td>0.000629</td>\n",
              "    </tr>\n",
              "    <tr>\n",
              "      <th>77</th>\n",
              "      <td>1508035</td>\n",
              "      <td>31257.0</td>\n",
              "      <td>593.0</td>\n",
              "      <td>593.0</td>\n",
              "      <td>0.0</td>\n",
              "      <td>0.000000</td>\n",
              "    </tr>\n",
              "    <tr>\n",
              "      <th>25</th>\n",
              "      <td>1302553</td>\n",
              "      <td>33049.0</td>\n",
              "      <td>1407.0</td>\n",
              "      <td>1347.0</td>\n",
              "      <td>-60.0</td>\n",
              "      <td>-0.042644</td>\n",
              "    </tr>\n",
              "  </tbody>\n",
              "</table>\n",
              "<p>1155 rows × 6 columns</p>\n",
              "</div>"
            ],
            "text/plain": [
              "     city_ibge_code  estimated_population  ...    dif  relative_dif\n",
              "1029        4315305               22607.0  ...  372.0      3.179487\n",
              "449         3114402               21268.0  ...  273.0      1.625000\n",
              "1014        4311007               26500.0  ...  570.0      1.063433\n",
              "1026        4314605               20704.0  ...  138.0      0.775281\n",
              "1018        4313201               21536.0  ...  810.0      0.743119\n",
              "...             ...                   ...  ...    ...           ...\n",
              "102         2101905               21299.0  ...    1.0      0.003788\n",
              "111         2104057               42527.0  ...   10.0      0.003185\n",
              "109         2103406               49621.0  ...    1.0      0.000629\n",
              "77          1508035               31257.0  ...    0.0      0.000000\n",
              "25          1302553               33049.0  ...  -60.0     -0.042644\n",
              "\n",
              "[1155 rows x 6 columns]"
            ]
          },
          "metadata": {
            "tags": []
          },
          "execution_count": 43
        }
      ]
    },
    {
      "cell_type": "code",
      "metadata": {
        "colab": {
          "base_uri": "https://localhost:8080/",
          "height": 517
        },
        "id": "J-4V_kloPErB",
        "outputId": "9cb42667-7ba0-4902-d140-c7a789bd7485"
      },
      "source": [
        "covid_tur_aumento_categorias = pd.merge(covid_tur_aumento, cidades_turisticas, left_on=\"city_ibge_code\", right_on=\"COD_IBGE\", how=\"left\")\n",
        "covid_tur_aumento_categorias"
      ],
      "execution_count": null,
      "outputs": [
        {
          "output_type": "execute_result",
          "data": {
            "text/html": [
              "<div>\n",
              "<style scoped>\n",
              "    .dataframe tbody tr th:only-of-type {\n",
              "        vertical-align: middle;\n",
              "    }\n",
              "\n",
              "    .dataframe tbody tr th {\n",
              "        vertical-align: top;\n",
              "    }\n",
              "\n",
              "    .dataframe thead th {\n",
              "        text-align: right;\n",
              "    }\n",
              "</style>\n",
              "<table border=\"1\" class=\"dataframe\">\n",
              "  <thead>\n",
              "    <tr style=\"text-align: right;\">\n",
              "      <th></th>\n",
              "      <th>city_ibge_code</th>\n",
              "      <th>estimated_population</th>\n",
              "      <th>last_available_confirmed_from</th>\n",
              "      <th>last_available_confirmed_to</th>\n",
              "      <th>dif</th>\n",
              "      <th>relative_dif</th>\n",
              "      <th>UF</th>\n",
              "      <th>MUNICIPIO</th>\n",
              "      <th>COD_IBGE</th>\n",
              "      <th>QUANTIDADE_VISITAS_ESTIMADAS_ NACIONAL</th>\n",
              "      <th>ARRECADACAO</th>\n",
              "      <th>CLUSTER</th>\n",
              "    </tr>\n",
              "  </thead>\n",
              "  <tbody>\n",
              "    <tr>\n",
              "      <th>0</th>\n",
              "      <td>1100023</td>\n",
              "      <td>109523.0</td>\n",
              "      <td>11275.0</td>\n",
              "      <td>14166.0</td>\n",
              "      <td>2891.0</td>\n",
              "      <td>0.256408</td>\n",
              "      <td>RO</td>\n",
              "      <td>Ariquemes</td>\n",
              "      <td>1100023</td>\n",
              "      <td>3371</td>\n",
              "      <td>739140</td>\n",
              "      <td>C</td>\n",
              "    </tr>\n",
              "    <tr>\n",
              "      <th>1</th>\n",
              "      <td>1100049</td>\n",
              "      <td>85893.0</td>\n",
              "      <td>7557.0</td>\n",
              "      <td>8352.0</td>\n",
              "      <td>795.0</td>\n",
              "      <td>0.105200</td>\n",
              "      <td>RO</td>\n",
              "      <td>Cacoal</td>\n",
              "      <td>1100049</td>\n",
              "      <td>98548</td>\n",
              "      <td>866406</td>\n",
              "      <td>B</td>\n",
              "    </tr>\n",
              "    <tr>\n",
              "      <th>2</th>\n",
              "      <td>1100106</td>\n",
              "      <td>46556.0</td>\n",
              "      <td>4537.0</td>\n",
              "      <td>4858.0</td>\n",
              "      <td>321.0</td>\n",
              "      <td>0.070752</td>\n",
              "      <td>RO</td>\n",
              "      <td>Guajará-Mirim</td>\n",
              "      <td>1100106</td>\n",
              "      <td>34819</td>\n",
              "      <td>72309</td>\n",
              "      <td>C</td>\n",
              "    </tr>\n",
              "    <tr>\n",
              "      <th>3</th>\n",
              "      <td>1100155</td>\n",
              "      <td>35737.0</td>\n",
              "      <td>2361.0</td>\n",
              "      <td>2705.0</td>\n",
              "      <td>344.0</td>\n",
              "      <td>0.145701</td>\n",
              "      <td>RO</td>\n",
              "      <td>Ouro Preto do Oeste</td>\n",
              "      <td>1100155</td>\n",
              "      <td>9645</td>\n",
              "      <td>0</td>\n",
              "      <td>C</td>\n",
              "    </tr>\n",
              "    <tr>\n",
              "      <th>4</th>\n",
              "      <td>1100189</td>\n",
              "      <td>36881.0</td>\n",
              "      <td>2757.0</td>\n",
              "      <td>3279.0</td>\n",
              "      <td>522.0</td>\n",
              "      <td>0.189336</td>\n",
              "      <td>RO</td>\n",
              "      <td>Pimenta Bueno</td>\n",
              "      <td>1100189</td>\n",
              "      <td>29225</td>\n",
              "      <td>0</td>\n",
              "      <td>C</td>\n",
              "    </tr>\n",
              "    <tr>\n",
              "      <th>...</th>\n",
              "      <td>...</td>\n",
              "      <td>...</td>\n",
              "      <td>...</td>\n",
              "      <td>...</td>\n",
              "      <td>...</td>\n",
              "      <td>...</td>\n",
              "      <td>...</td>\n",
              "      <td>...</td>\n",
              "      <td>...</td>\n",
              "      <td>...</td>\n",
              "      <td>...</td>\n",
              "      <td>...</td>\n",
              "    </tr>\n",
              "    <tr>\n",
              "      <th>1150</th>\n",
              "      <td>5220603</td>\n",
              "      <td>20816.0</td>\n",
              "      <td>611.0</td>\n",
              "      <td>864.0</td>\n",
              "      <td>253.0</td>\n",
              "      <td>0.414075</td>\n",
              "      <td>GO</td>\n",
              "      <td>Silvânia</td>\n",
              "      <td>5220603</td>\n",
              "      <td>12425</td>\n",
              "      <td>0</td>\n",
              "      <td>D</td>\n",
              "    </tr>\n",
              "    <tr>\n",
              "      <th>1151</th>\n",
              "      <td>5221403</td>\n",
              "      <td>129823.0</td>\n",
              "      <td>4904.0</td>\n",
              "      <td>5659.0</td>\n",
              "      <td>755.0</td>\n",
              "      <td>0.153956</td>\n",
              "      <td>GO</td>\n",
              "      <td>Trindade</td>\n",
              "      <td>5221403</td>\n",
              "      <td>193242</td>\n",
              "      <td>546770</td>\n",
              "      <td>B</td>\n",
              "    </tr>\n",
              "    <tr>\n",
              "      <th>1152</th>\n",
              "      <td>5221601</td>\n",
              "      <td>40840.0</td>\n",
              "      <td>1722.0</td>\n",
              "      <td>2424.0</td>\n",
              "      <td>702.0</td>\n",
              "      <td>0.407666</td>\n",
              "      <td>GO</td>\n",
              "      <td>Uruaçu</td>\n",
              "      <td>5221601</td>\n",
              "      <td>215680</td>\n",
              "      <td>375239</td>\n",
              "      <td>B</td>\n",
              "    </tr>\n",
              "    <tr>\n",
              "      <th>1153</th>\n",
              "      <td>5221858</td>\n",
              "      <td>172135.0</td>\n",
              "      <td>8806.0</td>\n",
              "      <td>9342.0</td>\n",
              "      <td>536.0</td>\n",
              "      <td>0.060868</td>\n",
              "      <td>GO</td>\n",
              "      <td>Valparaíso de Goiás</td>\n",
              "      <td>5221858</td>\n",
              "      <td>3064</td>\n",
              "      <td>746468</td>\n",
              "      <td>D</td>\n",
              "    </tr>\n",
              "    <tr>\n",
              "      <th>1154</th>\n",
              "      <td>5300108</td>\n",
              "      <td>3055149.0</td>\n",
              "      <td>251291.0</td>\n",
              "      <td>281710.0</td>\n",
              "      <td>30419.0</td>\n",
              "      <td>0.121051</td>\n",
              "      <td>DF</td>\n",
              "      <td>Brasília</td>\n",
              "      <td>5300108</td>\n",
              "      <td>4332053</td>\n",
              "      <td>59764674</td>\n",
              "      <td>A</td>\n",
              "    </tr>\n",
              "  </tbody>\n",
              "</table>\n",
              "<p>1155 rows × 12 columns</p>\n",
              "</div>"
            ],
            "text/plain": [
              "     city_ibge_code  estimated_population  ...  ARRECADACAO  CLUSTER\n",
              "0           1100023              109523.0  ...       739140        C\n",
              "1           1100049               85893.0  ...       866406        B\n",
              "2           1100106               46556.0  ...        72309        C\n",
              "3           1100155               35737.0  ...            0        C\n",
              "4           1100189               36881.0  ...            0        C\n",
              "...             ...                   ...  ...          ...      ...\n",
              "1150        5220603               20816.0  ...            0        D\n",
              "1151        5221403              129823.0  ...       546770        B\n",
              "1152        5221601               40840.0  ...       375239        B\n",
              "1153        5221858              172135.0  ...       746468        D\n",
              "1154        5300108             3055149.0  ...     59764674        A\n",
              "\n",
              "[1155 rows x 12 columns]"
            ]
          },
          "metadata": {
            "tags": []
          },
          "execution_count": 44
        }
      ]
    },
    {
      "cell_type": "code",
      "metadata": {
        "colab": {
          "base_uri": "https://localhost:8080/",
          "height": 301
        },
        "id": "rewvMAR1PErC",
        "outputId": "38350146-5651-47d6-b365-48bba0d8d17e"
      },
      "source": [
        "ax = sns.boxplot(x=\"CLUSTER\", y=\"last_available_confirmed_to\", data=covid_tur_aumento_categorias, showfliers = False).set_title(\"Mortalidade em fevereiro de 2021\")"
      ],
      "execution_count": null,
      "outputs": [
        {
          "output_type": "display_data",
          "data": {
            "image/png": "[encoded data removed]",
            "text/plain": [
              "<Figure size 432x288 with 1 Axes>"
            ]
          },
          "metadata": {
            "tags": [],
            "needs_background": "light"
          }
        }
      ]
    },
    {
      "cell_type": "code",
      "metadata": {
        "colab": {
          "base_uri": "https://localhost:8080/",
          "height": 301
        },
        "id": "VkZVGJedPErC",
        "outputId": "d7a63470-6d84-404a-f7a6-2430bd776430"
      },
      "source": [
        "ax = sns.boxplot(x=\"CLUSTER\", y=\"relative_dif\", data=covid_tur_aumento_categorias, showfliers = False).set_title(\"Percentual de aumento entre 17 de fevereiro de 2021 e 16 de março de 2021\")"
      ],
      "execution_count": null,
      "outputs": [
        {
          "output_type": "display_data",
          "data": {
            "image/png": "[encoded data removed]",
            "text/plain": [
              "<Figure size 432x288 with 1 Axes>"
            ]
          },
          "metadata": {
            "tags": [],
            "needs_background": "light"
          }
        }
      ]
    },
    {
      "cell_type": "code",
      "metadata": {
        "colab": {
          "base_uri": "https://localhost:8080/",
          "height": 301
        },
        "id": "n21JJs-tPErD",
        "outputId": "58b533d9-44c0-486c-88c7-84118132924d"
      },
      "source": [
        "ax = sns.boxplot(x=\"CLUSTER\", y=\"dif\", data=covid_tur_aumento_categorias, showfliers = False).set_title(\"Aumento absoluto entre 17 de fevereiro de 2021 e 16 de março de 2021\")"
      ],
      "execution_count": null,
      "outputs": [
        {
          "output_type": "display_data",
          "data": {
            "image/png": "[encoded data removed]",
            "text/plain": [
              "<Figure size 432x288 with 1 Axes>"
            ]
          },
          "metadata": {
            "tags": [],
            "needs_background": "light"
          }
        }
      ]
    },
    {
      "cell_type": "code",
      "metadata": {
        "colab": {
          "base_uri": "https://localhost:8080/"
        },
        "id": "-LXKNVuNPErD",
        "outputId": "700f0b67-c3b3-4006-ec92-109424b9725a"
      },
      "source": [
        "categorias = pd.concat([covid_tur_aumento_categorias.groupby('CLUSTER').agg(\n",
        "    n_cities=('city_ibge_code','count'),\n",
        "    population_mean=('estimated_population','mean'),\n",
        "    population_median=('estimated_population','median'),\n",
        "    last_available_confirmed_from_mean=('last_available_confirmed_from','mean'),\n",
        "    last_available_confirmed_from_median=('last_available_confirmed_from','median'),\n",
        "    last_available_confirmed_to_mean=('last_available_confirmed_to','mean'),\n",
        "    last_available_confirmed_to_median=('last_available_confirmed_to','median'),    \n",
        "    dif_mean=('dif','mean'),\n",
        "    dif_median=('dif','median'),\n",
        "    relative_dif_mean=('relative_dif','mean'),\n",
        "    relative_dif_median=('relative_dif','median')\n",
        "),(covid_tur_aumento_categorias.groupby('CLUSTER').apply(lambda x: pd.np.average(x.relative_dif, weights=x.estimated_population)).rename('relative_dif_average'))], axis=1)"
      ],
      "execution_count": null,
      "outputs": [
        {
          "output_type": "stream",
          "text": [
            "/usr/local/lib/python3.7/dist-packages/ipykernel_launcher.py:13: FutureWarning: The pandas.np module is deprecated and will be removed from pandas in a future version. Import numpy directly instead\n",
            "  del sys.path[0]\n"
          ],
          "name": "stderr"
        }
      ]
    },
    {
      "cell_type": "code",
      "metadata": {
        "colab": {
          "base_uri": "https://localhost:8080/",
          "height": 222
        },
        "id": "Wyu-q0blPErE",
        "outputId": "00be496a-367d-43d7-e15e-008dc712da76"
      },
      "source": [
        "categorias.reset_index(inplace=True)\n",
        "categorias"
      ],
      "execution_count": null,
      "outputs": [
        {
          "output_type": "execute_result",
          "data": {
            "text/html": [
              "<div>\n",
              "<style scoped>\n",
              "    .dataframe tbody tr th:only-of-type {\n",
              "        vertical-align: middle;\n",
              "    }\n",
              "\n",
              "    .dataframe tbody tr th {\n",
              "        vertical-align: top;\n",
              "    }\n",
              "\n",
              "    .dataframe thead th {\n",
              "        text-align: right;\n",
              "    }\n",
              "</style>\n",
              "<table border=\"1\" class=\"dataframe\">\n",
              "  <thead>\n",
              "    <tr style=\"text-align: right;\">\n",
              "      <th></th>\n",
              "      <th>CLUSTER</th>\n",
              "      <th>n_cities</th>\n",
              "      <th>population_mean</th>\n",
              "      <th>population_median</th>\n",
              "      <th>last_available_confirmed_from_mean</th>\n",
              "      <th>last_available_confirmed_from_median</th>\n",
              "      <th>last_available_confirmed_to_mean</th>\n",
              "      <th>last_available_confirmed_to_median</th>\n",
              "      <th>dif_mean</th>\n",
              "      <th>dif_median</th>\n",
              "      <th>relative_dif_mean</th>\n",
              "      <th>relative_dif_median</th>\n",
              "      <th>relative_dif_average</th>\n",
              "    </tr>\n",
              "  </thead>\n",
              "  <tbody>\n",
              "    <tr>\n",
              "      <th>0</th>\n",
              "      <td>A</td>\n",
              "      <td>59</td>\n",
              "      <td>984885.593220</td>\n",
              "      <td>419652.0</td>\n",
              "      <td>51502.237288</td>\n",
              "      <td>33924.0</td>\n",
              "      <td>59503.237288</td>\n",
              "      <td>37875.0</td>\n",
              "      <td>8001.000000</td>\n",
              "      <td>4778.0</td>\n",
              "      <td>0.166424</td>\n",
              "      <td>0.146877</td>\n",
              "      <td>0.154261</td>\n",
              "    </tr>\n",
              "    <tr>\n",
              "      <th>1</th>\n",
              "      <td>B</td>\n",
              "      <td>238</td>\n",
              "      <td>183898.054622</td>\n",
              "      <td>123057.0</td>\n",
              "      <td>9279.882353</td>\n",
              "      <td>6282.5</td>\n",
              "      <td>10775.386555</td>\n",
              "      <td>7562.0</td>\n",
              "      <td>1495.504202</td>\n",
              "      <td>1136.5</td>\n",
              "      <td>0.182713</td>\n",
              "      <td>0.150571</td>\n",
              "      <td>0.161526</td>\n",
              "    </tr>\n",
              "    <tr>\n",
              "      <th>2</th>\n",
              "      <td>C</td>\n",
              "      <td>397</td>\n",
              "      <td>74728.382872</td>\n",
              "      <td>51338.0</td>\n",
              "      <td>3489.362720</td>\n",
              "      <td>2540.0</td>\n",
              "      <td>4084.395466</td>\n",
              "      <td>2981.0</td>\n",
              "      <td>595.032746</td>\n",
              "      <td>381.0</td>\n",
              "      <td>0.187485</td>\n",
              "      <td>0.160928</td>\n",
              "      <td>0.173948</td>\n",
              "    </tr>\n",
              "    <tr>\n",
              "      <th>3</th>\n",
              "      <td>D</td>\n",
              "      <td>450</td>\n",
              "      <td>39418.280000</td>\n",
              "      <td>30428.5</td>\n",
              "      <td>1628.517778</td>\n",
              "      <td>1282.0</td>\n",
              "      <td>1910.448889</td>\n",
              "      <td>1480.0</td>\n",
              "      <td>281.931111</td>\n",
              "      <td>188.5</td>\n",
              "      <td>0.186404</td>\n",
              "      <td>0.147678</td>\n",
              "      <td>0.175145</td>\n",
              "    </tr>\n",
              "    <tr>\n",
              "      <th>4</th>\n",
              "      <td>E</td>\n",
              "      <td>11</td>\n",
              "      <td>39515.181818</td>\n",
              "      <td>24382.0</td>\n",
              "      <td>1440.181818</td>\n",
              "      <td>941.0</td>\n",
              "      <td>1639.272727</td>\n",
              "      <td>1044.0</td>\n",
              "      <td>199.090909</td>\n",
              "      <td>111.0</td>\n",
              "      <td>0.127974</td>\n",
              "      <td>0.136364</td>\n",
              "      <td>0.149633</td>\n",
              "    </tr>\n",
              "  </tbody>\n",
              "</table>\n",
              "</div>"
            ],
            "text/plain": [
              "  CLUSTER  n_cities  ...  relative_dif_median  relative_dif_average\n",
              "0       A        59  ...             0.146877              0.154261\n",
              "1       B       238  ...             0.150571              0.161526\n",
              "2       C       397  ...             0.160928              0.173948\n",
              "3       D       450  ...             0.147678              0.175145\n",
              "4       E        11  ...             0.136364              0.149633\n",
              "\n",
              "[5 rows x 13 columns]"
            ]
          },
          "metadata": {
            "tags": []
          },
          "execution_count": 49
        }
      ]
    },
    {
      "cell_type": "code",
      "metadata": {
        "colab": {
          "base_uri": "https://localhost:8080/",
          "height": 301
        },
        "id": "n7nDQuc8UzsU",
        "outputId": "b8a3c319-8bd4-4109-cd35-2819b4b2852f"
      },
      "source": [
        "ax = sns.boxplot(x=\"CLUSTER\", y=\"relative_dif_average\", data=categorias, showfliers = False).set_title(\"Aumento considerando tamanho entre 17 de fevereiro de 2021 e 16 de março de 2021\")"
      ],
      "execution_count": null,
      "outputs": [
        {
          "output_type": "display_data",
          "data": {
            "image/png": "[encoded data removed]",
            "text/plain": [
              "<Figure size 432x288 with 1 Axes>"
            ]
          },
          "metadata": {
            "tags": [],
            "needs_background": "light"
          }
        }
      ]
    },
    {
      "cell_type": "markdown",
      "metadata": {
        "id": "LMD9QRdOPErE"
      },
      "source": [
        "**Métricas em ordem decrescente**"
      ]
    },
    {
      "cell_type": "code",
      "metadata": {
        "colab": {
          "base_uri": "https://localhost:8080/",
          "height": 202
        },
        "id": "vxvIFmSFPErE",
        "outputId": "d737cf4e-d9db-4160-922b-903ac8af190c"
      },
      "source": [
        "mediana_aumento_mortalidade_abs = categorias.sort_values(ascending=False, by=\"dif_median\")\n",
        "mediana_aumento_mortalidade_abs[[\"CLUSTER\",\"dif_median\"]]"
      ],
      "execution_count": null,
      "outputs": [
        {
          "output_type": "execute_result",
          "data": {
            "text/html": [
              "<div>\n",
              "<style scoped>\n",
              "    .dataframe tbody tr th:only-of-type {\n",
              "        vertical-align: middle;\n",
              "    }\n",
              "\n",
              "    .dataframe tbody tr th {\n",
              "        vertical-align: top;\n",
              "    }\n",
              "\n",
              "    .dataframe thead th {\n",
              "        text-align: right;\n",
              "    }\n",
              "</style>\n",
              "<table border=\"1\" class=\"dataframe\">\n",
              "  <thead>\n",
              "    <tr style=\"text-align: right;\">\n",
              "      <th></th>\n",
              "      <th>CLUSTER</th>\n",
              "      <th>dif_median</th>\n",
              "    </tr>\n",
              "  </thead>\n",
              "  <tbody>\n",
              "    <tr>\n",
              "      <th>0</th>\n",
              "      <td>A</td>\n",
              "      <td>4778.0</td>\n",
              "    </tr>\n",
              "    <tr>\n",
              "      <th>1</th>\n",
              "      <td>B</td>\n",
              "      <td>1136.5</td>\n",
              "    </tr>\n",
              "    <tr>\n",
              "      <th>2</th>\n",
              "      <td>C</td>\n",
              "      <td>381.0</td>\n",
              "    </tr>\n",
              "    <tr>\n",
              "      <th>3</th>\n",
              "      <td>D</td>\n",
              "      <td>188.5</td>\n",
              "    </tr>\n",
              "    <tr>\n",
              "      <th>4</th>\n",
              "      <td>E</td>\n",
              "      <td>111.0</td>\n",
              "    </tr>\n",
              "  </tbody>\n",
              "</table>\n",
              "</div>"
            ],
            "text/plain": [
              "  CLUSTER  dif_median\n",
              "0       A      4778.0\n",
              "1       B      1136.5\n",
              "2       C       381.0\n",
              "3       D       188.5\n",
              "4       E       111.0"
            ]
          },
          "metadata": {
            "tags": []
          },
          "execution_count": 51
        }
      ]
    },
    {
      "cell_type": "code",
      "metadata": {
        "colab": {
          "base_uri": "https://localhost:8080/",
          "height": 202
        },
        "id": "h1vHzTI6PErF",
        "outputId": "f3b1ee66-964b-434b-8317-b32f289bdad9"
      },
      "source": [
        "mediana_aumento_mortalidade_rel = categorias.sort_values(ascending=False, by=\"relative_dif_median\")\n",
        "mediana_aumento_mortalidade_rel[[\"CLUSTER\",\"relative_dif_median\"]]"
      ],
      "execution_count": null,
      "outputs": [
        {
          "output_type": "execute_result",
          "data": {
            "text/html": [
              "<div>\n",
              "<style scoped>\n",
              "    .dataframe tbody tr th:only-of-type {\n",
              "        vertical-align: middle;\n",
              "    }\n",
              "\n",
              "    .dataframe tbody tr th {\n",
              "        vertical-align: top;\n",
              "    }\n",
              "\n",
              "    .dataframe thead th {\n",
              "        text-align: right;\n",
              "    }\n",
              "</style>\n",
              "<table border=\"1\" class=\"dataframe\">\n",
              "  <thead>\n",
              "    <tr style=\"text-align: right;\">\n",
              "      <th></th>\n",
              "      <th>CLUSTER</th>\n",
              "      <th>relative_dif_median</th>\n",
              "    </tr>\n",
              "  </thead>\n",
              "  <tbody>\n",
              "    <tr>\n",
              "      <th>2</th>\n",
              "      <td>C</td>\n",
              "      <td>0.160928</td>\n",
              "    </tr>\n",
              "    <tr>\n",
              "      <th>1</th>\n",
              "      <td>B</td>\n",
              "      <td>0.150571</td>\n",
              "    </tr>\n",
              "    <tr>\n",
              "      <th>3</th>\n",
              "      <td>D</td>\n",
              "      <td>0.147678</td>\n",
              "    </tr>\n",
              "    <tr>\n",
              "      <th>0</th>\n",
              "      <td>A</td>\n",
              "      <td>0.146877</td>\n",
              "    </tr>\n",
              "    <tr>\n",
              "      <th>4</th>\n",
              "      <td>E</td>\n",
              "      <td>0.136364</td>\n",
              "    </tr>\n",
              "  </tbody>\n",
              "</table>\n",
              "</div>"
            ],
            "text/plain": [
              "  CLUSTER  relative_dif_median\n",
              "2       C             0.160928\n",
              "1       B             0.150571\n",
              "3       D             0.147678\n",
              "0       A             0.146877\n",
              "4       E             0.136364"
            ]
          },
          "metadata": {
            "tags": []
          },
          "execution_count": 52
        }
      ]
    },
    {
      "cell_type": "code",
      "metadata": {
        "colab": {
          "base_uri": "https://localhost:8080/",
          "height": 202
        },
        "id": "f7H1-YUTPErG",
        "outputId": "dd486402-797b-4e1b-d67f-86d1511d02f9"
      },
      "source": [
        "aumento_considerando_populacao = categorias.sort_values(ascending=False, by=\"relative_dif_average\")\n",
        "aumento_considerando_populacao[[\"CLUSTER\",\"relative_dif_average\"]]"
      ],
      "execution_count": null,
      "outputs": [
        {
          "output_type": "execute_result",
          "data": {
            "text/html": [
              "<div>\n",
              "<style scoped>\n",
              "    .dataframe tbody tr th:only-of-type {\n",
              "        vertical-align: middle;\n",
              "    }\n",
              "\n",
              "    .dataframe tbody tr th {\n",
              "        vertical-align: top;\n",
              "    }\n",
              "\n",
              "    .dataframe thead th {\n",
              "        text-align: right;\n",
              "    }\n",
              "</style>\n",
              "<table border=\"1\" class=\"dataframe\">\n",
              "  <thead>\n",
              "    <tr style=\"text-align: right;\">\n",
              "      <th></th>\n",
              "      <th>CLUSTER</th>\n",
              "      <th>relative_dif_average</th>\n",
              "    </tr>\n",
              "  </thead>\n",
              "  <tbody>\n",
              "    <tr>\n",
              "      <th>3</th>\n",
              "      <td>D</td>\n",
              "      <td>0.175145</td>\n",
              "    </tr>\n",
              "    <tr>\n",
              "      <th>2</th>\n",
              "      <td>C</td>\n",
              "      <td>0.173948</td>\n",
              "    </tr>\n",
              "    <tr>\n",
              "      <th>1</th>\n",
              "      <td>B</td>\n",
              "      <td>0.161526</td>\n",
              "    </tr>\n",
              "    <tr>\n",
              "      <th>0</th>\n",
              "      <td>A</td>\n",
              "      <td>0.154261</td>\n",
              "    </tr>\n",
              "    <tr>\n",
              "      <th>4</th>\n",
              "      <td>E</td>\n",
              "      <td>0.149633</td>\n",
              "    </tr>\n",
              "  </tbody>\n",
              "</table>\n",
              "</div>"
            ],
            "text/plain": [
              "  CLUSTER  relative_dif_average\n",
              "3       D              0.175145\n",
              "2       C              0.173948\n",
              "1       B              0.161526\n",
              "0       A              0.154261\n",
              "4       E              0.149633"
            ]
          },
          "metadata": {
            "tags": []
          },
          "execution_count": 53
        }
      ]
    }
  ]
}