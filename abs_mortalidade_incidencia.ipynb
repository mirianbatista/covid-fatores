{
  "nbformat": 4,
  "nbformat_minor": 0,
  "metadata": {
    "colab": {
      "name": "abs_mortalidade-incidencia.ipynb",
      "provenance": [],
      "collapsed_sections": [],
      "include_colab_link": true
    },
    "kernelspec": {
      "display_name": "Python 3",
      "name": "python3"
    }
  },
  "cells": [
    {
      "cell_type": "markdown",
      "metadata": {
        "id": "view-in-github",
        "colab_type": "text"
      },
      "source": [
        "<a href=\"https://colab.research.google.com/github/mirianbatista/covid-fatores/blob/master/abs_mortalidade_incidencia.ipynb\" target=\"_parent\"><img src=\"https://colab.research.google.com/assets/colab-badge.svg\" alt=\"Open In Colab\"/></a>"
      ]
    },
    {
      "cell_type": "code",
      "metadata": {
        "id": "rFVWHzzEB6VC"
      },
      "source": [
        "import pandas as pd\n",
        "import requests\n",
        "import io\n",
        "import gzip\n",
        "from sklearn.model_selection import train_test_split\n",
        "from sklearn.linear_model import LinearRegression\n",
        "from sklearn.metrics import mean_squared_error, r2_score\n",
        "import plotly.graph_objects as go\n",
        "import seaborn as sns"
      ],
      "execution_count": null,
      "outputs": []
    },
    {
      "cell_type": "code",
      "metadata": {
        "id": "9-zUpR8yDqHT"
      },
      "source": [
        "url = \"https://data.brasil.io/dataset/covid19/caso_full.csv.gz\"\n",
        "cols = \"place_type\",\"city_ibge_code\", \"date\",\"last_available_death_rate\", \"dt\"\n",
        "response = requests.get(url)\n",
        "bytes_io = io.BytesIO(response.content)\n",
        "with gzip.open(bytes_io, 'rt') as read_file:\n",
        "    covid = pd.read_csv(read_file, parse_dates=[\"date\"], dtype={\"city_ibge_code\": str})\n",
        "covid = covid.loc[(covid['place_type'].eq('city') & covid['date'].eq('2021-02-21'))]"
      ],
      "execution_count": null,
      "outputs": []
    },
    {
      "cell_type": "code",
      "metadata": {
        "id": "MharwwgD-vpb"
      },
      "source": [
        "username = 'mirianbatista'\n",
        "token = '2e37c8d3f68aafa0eb690aa00bb94fb1e1998ccb'\n",
        "github_session = requests.Session()\n",
        "github_session.auth = (username, token)\n",
        "url = \"https://raw.githubusercontent.com/mirianbatista/tcc/master/Social%20Distancing%20Index%20by%20Cities%202202.csv?token=AEB5Z3ZV7EMVXIYSLJP6BQLAHVFXU\" \n",
        "download = github_session.get(url).content\n",
        "mob = pd.read_csv(io.StringIO(download.decode('utf-8')), parse_dates=[\"dt\"])\n",
        "\n",
        "codmun = pd.read_csv(\"https://raw.githubusercontent.com/kelvins/Municipios-Brasileiros/main/csv/municipios.csv\", \n",
        "                     usecols=[\"codigo_ibge\", \"nome\", \"codigo_uf\", \"capital\"], dtype={\"codigo_ibge\": str})\n",
        "mobcod = pd.merge(mob, codmun, left_on=\"city_name\", right_on=\"nome\", how=\"left\")\n",
        "mobcod = mobcod[mobcod.dt == '2021-02-21']"
      ],
      "execution_count": null,
      "outputs": []
    },
    {
      "cell_type": "code",
      "metadata": {
        "colab": {
          "base_uri": "https://localhost:8080/"
        },
        "id": "39_U3BSUPF45",
        "outputId": "c089279f-df13-4bd7-dee4-ff5ab41cad0c"
      },
      "source": [
        "mobcod.info()"
      ],
      "execution_count": null,
      "outputs": [
        {
          "output_type": "stream",
          "text": [
            "<class 'pandas.core.frame.DataFrame'>\n",
            "Int64Index: 1731 entries, 0 to 1730\n",
            "Data columns (total 8 columns):\n",
            " #   Column       Non-Null Count  Dtype         \n",
            "---  ------       --------------  -----         \n",
            " 0   state_name   1731 non-null   object        \n",
            " 1   city_name    1731 non-null   object        \n",
            " 2   isolated     1731 non-null   float64       \n",
            " 3   dt           1731 non-null   datetime64[ns]\n",
            " 4   codigo_ibge  1718 non-null   object        \n",
            " 5   nome         1718 non-null   object        \n",
            " 6   capital      1718 non-null   float64       \n",
            " 7   codigo_uf    1718 non-null   float64       \n",
            "dtypes: datetime64[ns](1), float64(3), object(4)\n",
            "memory usage: 121.7+ KB\n"
          ],
          "name": "stdout"
        }
      ]
    },
    {
      "cell_type": "code",
      "metadata": {
        "id": "9ohQfxuAPo-R"
      },
      "source": [
        "mobcod.dropna(inplace=True)"
      ],
      "execution_count": null,
      "outputs": []
    },
    {
      "cell_type": "code",
      "metadata": {
        "id": "my2NbLVw_yX5"
      },
      "source": [
        "indicadores = 'ANO', 'Codmun7', 'UF', 'Município', 'ESPVIDA', 'FECTOT', 'MORT1', 'SOBRE60', 'T_ENV', 'E_ANOSESTUDO', 'T_ANALF11A14', 'T_ANALF25M', 'T_ATRASO_0_BASICO', 'T_ATRASO_2_BASICO', 'T_FLPRE', 'T_FLSUPER', 'T_FREQSUPER1517', 'T_SUPER25M', 'T_MED25M', 'GINI', 'PIND', 'PINDCRI', 'PMPOB', 'PMPOBCRI', 'RDPC', 'CPR', 'EMP', 'P_AGRO', 'P_COM', 'P_CONSTR', 'P_EXTR', 'P_FORMAL', 'P_FUND', 'P_MED', 'P_SERV', 'P_SIUP', 'P_SUPER', 'T_DES2529', 'TRABCC', 'TRABPUB', 'TRABSC', 'T_AGUA', 'T_BANAGUA', 'T_DENS', 'T_LIXO', 'T_LUZ', 'AGUA_ESGOTO', 'PAREDE', 'T_CRIFUNDIN_TODOS', 'T_FORA4A5', 'T_FORA6A14', 'T_FUNDIN_TODOS', 'T_FUNDIN_TODOS_MMEIO', 'T_FUNDIN18MINF', 'T_M10A14CF', 'T_M15A17CF', 'T_MULCHEFEFIF014', 'T_NESTUDA_NTRAB_MMEIO', 'T_OCUPDESLOC_1', 'T_RMAXIDOSO', 'T_SLUZ', 'IDHM', 'IDHM_E', 'IDHM_L', 'IDHM_R' \n",
        "idhm = pd.read_excel('https://github.com/mirianbatista/idhm-pb/blob/master/atlas2013_dadosbrutos_pt.xlsx?raw=true', \n",
        "                     sheet_name=1, usecols = indicadores, dtype = {'Codmun7':str})\n",
        "idhm = idhm.loc[(idhm['ANO']) == 2010]"
      ],
      "execution_count": null,
      "outputs": []
    },
    {
      "cell_type": "code",
      "metadata": {
        "colab": {
          "base_uri": "https://localhost:8080/"
        },
        "id": "DOpyiEROIk2u",
        "outputId": "488413ca-aa7b-4762-83a6-8bc02d3292a0"
      },
      "source": [
        "covid_mob = pd.merge(mobcod, covid, left_on=[\"codigo_ibge\", \"dt\"], right_on=[\"city_ibge_code\", \"date\"], how=\"left\")\n",
        "covid_mob_idhm = pd.merge(covid_mob, idhm, left_on=\"codigo_ibge\", right_on=\"Codmun7\", how=\"left\")\n",
        "covid_mob_idhm.info()"
      ],
      "execution_count": null,
      "outputs": [
        {
          "output_type": "stream",
          "text": [
            "<class 'pandas.core.frame.DataFrame'>\n",
            "Int64Index: 1718 entries, 0 to 1717\n",
            "Data columns (total 91 columns):\n",
            " #   Column                                         Non-Null Count  Dtype         \n",
            "---  ------                                         --------------  -----         \n",
            " 0   state_name                                     1718 non-null   object        \n",
            " 1   city_name                                      1718 non-null   object        \n",
            " 2   isolated                                       1718 non-null   float64       \n",
            " 3   dt                                             1718 non-null   datetime64[ns]\n",
            " 4   codigo_ibge                                    1718 non-null   object        \n",
            " 5   nome                                           1718 non-null   object        \n",
            " 6   capital                                        1718 non-null   float64       \n",
            " 7   codigo_uf                                      1718 non-null   float64       \n",
            " 8   city                                           1718 non-null   object        \n",
            " 9   city_ibge_code                                 1718 non-null   object        \n",
            " 10  date                                           1718 non-null   datetime64[ns]\n",
            " 11  epidemiological_week                           1718 non-null   int64         \n",
            " 12  estimated_population                           1718 non-null   float64       \n",
            " 13  estimated_population_2019                      1718 non-null   float64       \n",
            " 14  is_last                                        1718 non-null   bool          \n",
            " 15  is_repeated                                    1718 non-null   bool          \n",
            " 16  last_available_confirmed                       1718 non-null   int64         \n",
            " 17  last_available_confirmed_per_100k_inhabitants  1718 non-null   float64       \n",
            " 18  last_available_date                            1718 non-null   object        \n",
            " 19  last_available_death_rate                      1718 non-null   float64       \n",
            " 20  last_available_deaths                          1718 non-null   int64         \n",
            " 21  order_for_place                                1718 non-null   int64         \n",
            " 22  place_type                                     1718 non-null   object        \n",
            " 23  state                                          1718 non-null   object        \n",
            " 24  new_confirmed                                  1718 non-null   int64         \n",
            " 25  new_deaths                                     1718 non-null   int64         \n",
            " 26  ANO                                            1718 non-null   int64         \n",
            " 27  UF                                             1718 non-null   int64         \n",
            " 28  Codmun7                                        1718 non-null   object        \n",
            " 29  Município                                      1718 non-null   object        \n",
            " 30  ESPVIDA                                        1718 non-null   float64       \n",
            " 31  FECTOT                                         1718 non-null   float64       \n",
            " 32  MORT1                                          1718 non-null   float64       \n",
            " 33  SOBRE60                                        1718 non-null   float64       \n",
            " 34  T_ENV                                          1718 non-null   float64       \n",
            " 35  E_ANOSESTUDO                                   1718 non-null   float64       \n",
            " 36  T_ANALF11A14                                   1718 non-null   float64       \n",
            " 37  T_ANALF25M                                     1718 non-null   float64       \n",
            " 38  T_ATRASO_0_BASICO                              1718 non-null   float64       \n",
            " 39  T_ATRASO_2_BASICO                              1718 non-null   float64       \n",
            " 40  T_FLPRE                                        1718 non-null   float64       \n",
            " 41  T_FLSUPER                                      1718 non-null   float64       \n",
            " 42  T_FREQSUPER1517                                1718 non-null   float64       \n",
            " 43  T_MED25M                                       1718 non-null   float64       \n",
            " 44  T_SUPER25M                                     1718 non-null   float64       \n",
            " 45  GINI                                           1718 non-null   float64       \n",
            " 46  PIND                                           1718 non-null   float64       \n",
            " 47  PINDCRI                                        1718 non-null   float64       \n",
            " 48  PMPOB                                          1718 non-null   float64       \n",
            " 49  PMPOBCRI                                       1718 non-null   float64       \n",
            " 50  RDPC                                           1718 non-null   float64       \n",
            " 51  CPR                                            1718 non-null   float64       \n",
            " 52  EMP                                            1718 non-null   float64       \n",
            " 53  P_AGRO                                         1718 non-null   float64       \n",
            " 54  P_COM                                          1718 non-null   float64       \n",
            " 55  P_CONSTR                                       1718 non-null   float64       \n",
            " 56  P_EXTR                                         1718 non-null   float64       \n",
            " 57  P_FORMAL                                       1718 non-null   float64       \n",
            " 58  P_FUND                                         1718 non-null   float64       \n",
            " 59  P_MED                                          1718 non-null   float64       \n",
            " 60  P_SERV                                         1718 non-null   float64       \n",
            " 61  P_SIUP                                         1718 non-null   float64       \n",
            " 62  P_SUPER                                        1718 non-null   float64       \n",
            " 63  T_DES2529                                      1718 non-null   float64       \n",
            " 64  TRABCC                                         1718 non-null   float64       \n",
            " 65  TRABPUB                                        1718 non-null   float64       \n",
            " 66  TRABSC                                         1718 non-null   float64       \n",
            " 67  T_AGUA                                         1718 non-null   float64       \n",
            " 68  T_BANAGUA                                      1718 non-null   float64       \n",
            " 69  T_DENS                                         1718 non-null   float64       \n",
            " 70  T_LIXO                                         1718 non-null   float64       \n",
            " 71  T_LUZ                                          1718 non-null   float64       \n",
            " 72  AGUA_ESGOTO                                    1718 non-null   float64       \n",
            " 73  PAREDE                                         1718 non-null   float64       \n",
            " 74  T_CRIFUNDIN_TODOS                              1718 non-null   float64       \n",
            " 75  T_FORA4A5                                      1718 non-null   float64       \n",
            " 76  T_FORA6A14                                     1718 non-null   float64       \n",
            " 77  T_FUNDIN_TODOS                                 1718 non-null   float64       \n",
            " 78  T_FUNDIN_TODOS_MMEIO                           1718 non-null   float64       \n",
            " 79  T_FUNDIN18MINF                                 1718 non-null   float64       \n",
            " 80  T_M10A14CF                                     1718 non-null   float64       \n",
            " 81  T_M15A17CF                                     1718 non-null   float64       \n",
            " 82  T_MULCHEFEFIF014                               1718 non-null   float64       \n",
            " 83  T_NESTUDA_NTRAB_MMEIO                          1718 non-null   float64       \n",
            " 84  T_OCUPDESLOC_1                                 1718 non-null   float64       \n",
            " 85  T_RMAXIDOSO                                    1718 non-null   float64       \n",
            " 86  T_SLUZ                                         1718 non-null   float64       \n",
            " 87  IDHM                                           1718 non-null   float64       \n",
            " 88  IDHM_E                                         1718 non-null   float64       \n",
            " 89  IDHM_L                                         1718 non-null   float64       \n",
            " 90  IDHM_R                                         1718 non-null   float64       \n",
            "dtypes: bool(2), datetime64[ns](2), float64(68), int64(8), object(11)\n",
            "memory usage: 1.2+ MB\n"
          ],
          "name": "stdout"
        }
      ]
    },
    {
      "cell_type": "code",
      "metadata": {
        "colab": {
          "base_uri": "https://localhost:8080/",
          "height": 406
        },
        "id": "LAR322IJRhcm",
        "outputId": "b6944b88-1c07-48f6-f767-f06d8d19cd5f"
      },
      "source": [
        "covid_mob_idhm = covid_mob_idhm.loc[(covid_mob_idhm['estimated_population_2019'] > 100000)] \n",
        "covid_mob_idhm.city_name.value_counts().to_frame()"
      ],
      "execution_count": null,
      "outputs": [
        {
          "output_type": "execute_result",
          "data": {
            "text/html": [
              "<div>\n",
              "<style scoped>\n",
              "    .dataframe tbody tr th:only-of-type {\n",
              "        vertical-align: middle;\n",
              "    }\n",
              "\n",
              "    .dataframe tbody tr th {\n",
              "        vertical-align: top;\n",
              "    }\n",
              "\n",
              "    .dataframe thead th {\n",
              "        text-align: right;\n",
              "    }\n",
              "</style>\n",
              "<table border=\"1\" class=\"dataframe\">\n",
              "  <thead>\n",
              "    <tr style=\"text-align: right;\">\n",
              "      <th></th>\n",
              "      <th>city_name</th>\n",
              "    </tr>\n",
              "  </thead>\n",
              "  <tbody>\n",
              "    <tr>\n",
              "      <th>Santa Luzia</th>\n",
              "      <td>3</td>\n",
              "    </tr>\n",
              "    <tr>\n",
              "      <th>Palmas</th>\n",
              "      <td>2</td>\n",
              "    </tr>\n",
              "    <tr>\n",
              "      <th>Cascavel</th>\n",
              "      <td>2</td>\n",
              "    </tr>\n",
              "    <tr>\n",
              "      <th>Rio Claro</th>\n",
              "      <td>2</td>\n",
              "    </tr>\n",
              "    <tr>\n",
              "      <th>São Gonçalo do Amarante</th>\n",
              "      <td>2</td>\n",
              "    </tr>\n",
              "    <tr>\n",
              "      <th>...</th>\n",
              "      <td>...</td>\n",
              "    </tr>\n",
              "    <tr>\n",
              "      <th>Belo Horizonte</th>\n",
              "      <td>1</td>\n",
              "    </tr>\n",
              "    <tr>\n",
              "      <th>Poços de Caldas</th>\n",
              "      <td>1</td>\n",
              "    </tr>\n",
              "    <tr>\n",
              "      <th>Teresina</th>\n",
              "      <td>1</td>\n",
              "    </tr>\n",
              "    <tr>\n",
              "      <th>Barra Mansa</th>\n",
              "      <td>1</td>\n",
              "    </tr>\n",
              "    <tr>\n",
              "      <th>Angra dos Reis</th>\n",
              "      <td>1</td>\n",
              "    </tr>\n",
              "  </tbody>\n",
              "</table>\n",
              "<p>322 rows × 1 columns</p>\n",
              "</div>"
            ],
            "text/plain": [
              "                         city_name\n",
              "Santa Luzia                      3\n",
              "Palmas                           2\n",
              "Cascavel                         2\n",
              "Rio Claro                        2\n",
              "São Gonçalo do Amarante          2\n",
              "...                            ...\n",
              "Belo Horizonte                   1\n",
              "Poços de Caldas                  1\n",
              "Teresina                         1\n",
              "Barra Mansa                      1\n",
              "Angra dos Reis                   1\n",
              "\n",
              "[322 rows x 1 columns]"
            ]
          },
          "metadata": {
            "tags": []
          },
          "execution_count": 41
        }
      ]
    },
    {
      "cell_type": "code",
      "metadata": {
        "colab": {
          "base_uri": "https://localhost:8080/",
          "height": 542
        },
        "id": "OK28nrxi-wO-",
        "outputId": "67d75431-adea-4e80-ae1e-9f1c8e6abd54"
      },
      "source": [
        "corr_abs = covid_mob_idhm.corr().loc['last_available_death_rate'].abs().sort_values(ascending=False).to_frame().reset_index().rename(columns = {'index': 'indicador'})[:12]\n",
        "fig = go.Figure(data=go.Scatter(x=corr_abs['last_available_death_rate'], y=corr_abs['indicador'], mode='markers')) \n",
        "fig.update_layout(title=\"Indicadores do IDHM e de mobilidade de maior correlação com mortalidade de COVID-19\")\n",
        "fig.show()"
      ],
      "execution_count": null,
      "outputs": [
        {
          "output_type": "display_data",
          "data": {
            "text/html": [
              "<html>\n",
              "<head><meta charset=\"utf-8\" /></head>\n",
              "<body>\n",
              "    <div>\n",
              "            <script src=\"https://cdnjs.cloudflare.com/ajax/libs/mathjax/2.7.5/MathJax.js?config=TeX-AMS-MML_SVG\"></script><script type=\"text/javascript\">if (window.MathJax) {MathJax.Hub.Config({SVG: {font: \"STIX-Web\"}});}</script>\n",
              "                <script type=\"text/javascript\">window.PlotlyConfig = {MathJaxConfig: 'local'};</script>\n",
              "        <script src=\"https://cdn.plot.ly/plotly-latest.min.js\"></script>    \n",
              "            <div id=\"53e5ce2e-bbfd-464e-9cb6-137d34870f9b\" class=\"plotly-graph-div\" style=\"height:525px; width:100%;\"></div>\n",
              "            <script type=\"text/javascript\">\n",
              "                \n",
              "                    window.PLOTLYENV=window.PLOTLYENV || {};\n",
              "                    \n",
              "                if (document.getElementById(\"53e5ce2e-bbfd-464e-9cb6-137d34870f9b\")) {\n",
              "                    Plotly.newPlot(\n",
              "                        '53e5ce2e-bbfd-464e-9cb6-137d34870f9b',\n",
              "                        [{\"mode\": \"markers\", \"type\": \"scatter\", \"x\": [1.0, 0.587443530306904, 0.4867495506955385, 0.4100216311438309, 0.3776487030715693, 0.3315864095816212, 0.3117140975108755, 0.2804535842058305, 0.28024919262117726, 0.2381194357350669, 0.23317811009045236, 0.22272973178291133], \"y\": [\"last_available_death_rate\", \"last_available_confirmed_per_100k_inhabitants\", \"T_OCUPDESLOC_1\", \"T_DES2529\", \"EMP\", \"T_DENS\", \"T_LIXO\", \"T_FLSUPER\", \"T_FREQSUPER1517\", \"T_NESTUDA_NTRAB_MMEIO\", \"T_SUPER25M\", \"IDHM_R\"]}],\n",
              "                        {\"template\": {\"data\": {\"bar\": [{\"error_x\": {\"color\": \"#2a3f5f\"}, \"error_y\": {\"color\": \"#2a3f5f\"}, \"marker\": {\"line\": {\"color\": \"#E5ECF6\", \"width\": 0.5}}, \"type\": \"bar\"}], \"barpolar\": [{\"marker\": {\"line\": {\"color\": \"#E5ECF6\", \"width\": 0.5}}, \"type\": \"barpolar\"}], \"carpet\": [{\"aaxis\": {\"endlinecolor\": \"#2a3f5f\", \"gridcolor\": \"white\", \"linecolor\": \"white\", \"minorgridcolor\": \"white\", \"startlinecolor\": \"#2a3f5f\"}, \"baxis\": {\"endlinecolor\": \"#2a3f5f\", \"gridcolor\": \"white\", \"linecolor\": \"white\", \"minorgridcolor\": \"white\", \"startlinecolor\": \"#2a3f5f\"}, \"type\": \"carpet\"}], \"choropleth\": [{\"colorbar\": {\"outlinewidth\": 0, \"ticks\": \"\"}, \"type\": \"choropleth\"}], \"contour\": [{\"colorbar\": {\"outlinewidth\": 0, \"ticks\": \"\"}, \"colorscale\": [[0.0, \"#0d0887\"], [0.1111111111111111, \"#46039f\"], [0.2222222222222222, \"#7201a8\"], [0.3333333333333333, \"#9c179e\"], [0.4444444444444444, \"#bd3786\"], [0.5555555555555556, \"#d8576b\"], [0.6666666666666666, \"#ed7953\"], [0.7777777777777778, \"#fb9f3a\"], [0.8888888888888888, \"#fdca26\"], [1.0, \"#f0f921\"]], \"type\": \"contour\"}], \"contourcarpet\": [{\"colorbar\": {\"outlinewidth\": 0, \"ticks\": \"\"}, \"type\": \"contourcarpet\"}], \"heatmap\": [{\"colorbar\": {\"outlinewidth\": 0, \"ticks\": \"\"}, \"colorscale\": [[0.0, \"#0d0887\"], [0.1111111111111111, \"#46039f\"], [0.2222222222222222, \"#7201a8\"], [0.3333333333333333, \"#9c179e\"], [0.4444444444444444, \"#bd3786\"], [0.5555555555555556, \"#d8576b\"], [0.6666666666666666, \"#ed7953\"], [0.7777777777777778, \"#fb9f3a\"], [0.8888888888888888, \"#fdca26\"], [1.0, \"#f0f921\"]], \"type\": \"heatmap\"}], \"heatmapgl\": [{\"colorbar\": {\"outlinewidth\": 0, \"ticks\": \"\"}, \"colorscale\": [[0.0, \"#0d0887\"], [0.1111111111111111, \"#46039f\"], [0.2222222222222222, \"#7201a8\"], [0.3333333333333333, \"#9c179e\"], [0.4444444444444444, \"#bd3786\"], [0.5555555555555556, \"#d8576b\"], [0.6666666666666666, \"#ed7953\"], [0.7777777777777778, \"#fb9f3a\"], [0.8888888888888888, \"#fdca26\"], [1.0, \"#f0f921\"]], \"type\": \"heatmapgl\"}], \"histogram\": [{\"marker\": {\"colorbar\": {\"outlinewidth\": 0, \"ticks\": \"\"}}, \"type\": \"histogram\"}], \"histogram2d\": [{\"colorbar\": {\"outlinewidth\": 0, \"ticks\": \"\"}, \"colorscale\": [[0.0, \"#0d0887\"], [0.1111111111111111, \"#46039f\"], [0.2222222222222222, \"#7201a8\"], [0.3333333333333333, \"#9c179e\"], [0.4444444444444444, \"#bd3786\"], [0.5555555555555556, \"#d8576b\"], [0.6666666666666666, \"#ed7953\"], [0.7777777777777778, \"#fb9f3a\"], [0.8888888888888888, \"#fdca26\"], [1.0, \"#f0f921\"]], \"type\": \"histogram2d\"}], \"histogram2dcontour\": [{\"colorbar\": {\"outlinewidth\": 0, \"ticks\": \"\"}, \"colorscale\": [[0.0, \"#0d0887\"], [0.1111111111111111, \"#46039f\"], [0.2222222222222222, \"#7201a8\"], [0.3333333333333333, \"#9c179e\"], [0.4444444444444444, \"#bd3786\"], [0.5555555555555556, \"#d8576b\"], [0.6666666666666666, \"#ed7953\"], [0.7777777777777778, \"#fb9f3a\"], [0.8888888888888888, \"#fdca26\"], [1.0, \"#f0f921\"]], \"type\": \"histogram2dcontour\"}], \"mesh3d\": [{\"colorbar\": {\"outlinewidth\": 0, \"ticks\": \"\"}, \"type\": \"mesh3d\"}], \"parcoords\": [{\"line\": {\"colorbar\": {\"outlinewidth\": 0, \"ticks\": \"\"}}, \"type\": \"parcoords\"}], \"pie\": [{\"automargin\": true, \"type\": \"pie\"}], \"scatter\": [{\"marker\": {\"colorbar\": {\"outlinewidth\": 0, \"ticks\": \"\"}}, \"type\": \"scatter\"}], \"scatter3d\": [{\"line\": {\"colorbar\": {\"outlinewidth\": 0, \"ticks\": \"\"}}, \"marker\": {\"colorbar\": {\"outlinewidth\": 0, \"ticks\": \"\"}}, \"type\": \"scatter3d\"}], \"scattercarpet\": [{\"marker\": {\"colorbar\": {\"outlinewidth\": 0, \"ticks\": \"\"}}, \"type\": \"scattercarpet\"}], \"scattergeo\": [{\"marker\": {\"colorbar\": {\"outlinewidth\": 0, \"ticks\": \"\"}}, \"type\": \"scattergeo\"}], \"scattergl\": [{\"marker\": {\"colorbar\": {\"outlinewidth\": 0, \"ticks\": \"\"}}, \"type\": \"scattergl\"}], \"scattermapbox\": [{\"marker\": {\"colorbar\": {\"outlinewidth\": 0, \"ticks\": \"\"}}, \"type\": \"scattermapbox\"}], \"scatterpolar\": [{\"marker\": {\"colorbar\": {\"outlinewidth\": 0, \"ticks\": \"\"}}, \"type\": \"scatterpolar\"}], \"scatterpolargl\": [{\"marker\": {\"colorbar\": {\"outlinewidth\": 0, \"ticks\": \"\"}}, \"type\": \"scatterpolargl\"}], \"scatterternary\": [{\"marker\": {\"colorbar\": {\"outlinewidth\": 0, \"ticks\": \"\"}}, \"type\": \"scatterternary\"}], \"surface\": [{\"colorbar\": {\"outlinewidth\": 0, \"ticks\": \"\"}, \"colorscale\": [[0.0, \"#0d0887\"], [0.1111111111111111, \"#46039f\"], [0.2222222222222222, \"#7201a8\"], [0.3333333333333333, \"#9c179e\"], [0.4444444444444444, \"#bd3786\"], [0.5555555555555556, \"#d8576b\"], [0.6666666666666666, \"#ed7953\"], [0.7777777777777778, \"#fb9f3a\"], [0.8888888888888888, \"#fdca26\"], [1.0, \"#f0f921\"]], \"type\": \"surface\"}], \"table\": [{\"cells\": {\"fill\": {\"color\": \"#EBF0F8\"}, \"line\": {\"color\": \"white\"}}, \"header\": {\"fill\": {\"color\": \"#C8D4E3\"}, \"line\": {\"color\": \"white\"}}, \"type\": \"table\"}]}, \"layout\": {\"annotationdefaults\": {\"arrowcolor\": \"#2a3f5f\", \"arrowhead\": 0, \"arrowwidth\": 1}, \"coloraxis\": {\"colorbar\": {\"outlinewidth\": 0, \"ticks\": \"\"}}, \"colorscale\": {\"diverging\": [[0, \"#8e0152\"], [0.1, \"#c51b7d\"], [0.2, \"#de77ae\"], [0.3, \"#f1b6da\"], [0.4, \"#fde0ef\"], [0.5, \"#f7f7f7\"], [0.6, \"#e6f5d0\"], [0.7, \"#b8e186\"], [0.8, \"#7fbc41\"], [0.9, \"#4d9221\"], [1, \"#276419\"]], \"sequential\": [[0.0, \"#0d0887\"], [0.1111111111111111, \"#46039f\"], [0.2222222222222222, \"#7201a8\"], [0.3333333333333333, \"#9c179e\"], [0.4444444444444444, \"#bd3786\"], [0.5555555555555556, \"#d8576b\"], [0.6666666666666666, \"#ed7953\"], [0.7777777777777778, \"#fb9f3a\"], [0.8888888888888888, \"#fdca26\"], [1.0, \"#f0f921\"]], \"sequentialminus\": [[0.0, \"#0d0887\"], [0.1111111111111111, \"#46039f\"], [0.2222222222222222, \"#7201a8\"], [0.3333333333333333, \"#9c179e\"], [0.4444444444444444, \"#bd3786\"], [0.5555555555555556, \"#d8576b\"], [0.6666666666666666, \"#ed7953\"], [0.7777777777777778, \"#fb9f3a\"], [0.8888888888888888, \"#fdca26\"], [1.0, \"#f0f921\"]]}, \"colorway\": [\"#636efa\", \"#EF553B\", \"#00cc96\", \"#ab63fa\", \"#FFA15A\", \"#19d3f3\", \"#FF6692\", \"#B6E880\", \"#FF97FF\", \"#FECB52\"], \"font\": {\"color\": \"#2a3f5f\"}, \"geo\": {\"bgcolor\": \"white\", \"lakecolor\": \"white\", \"landcolor\": \"#E5ECF6\", \"showlakes\": true, \"showland\": true, \"subunitcolor\": \"white\"}, \"hoverlabel\": {\"align\": \"left\"}, \"hovermode\": \"closest\", \"mapbox\": {\"style\": \"light\"}, \"paper_bgcolor\": \"white\", \"plot_bgcolor\": \"#E5ECF6\", \"polar\": {\"angularaxis\": {\"gridcolor\": \"white\", \"linecolor\": \"white\", \"ticks\": \"\"}, \"bgcolor\": \"#E5ECF6\", \"radialaxis\": {\"gridcolor\": \"white\", \"linecolor\": \"white\", \"ticks\": \"\"}}, \"scene\": {\"xaxis\": {\"backgroundcolor\": \"#E5ECF6\", \"gridcolor\": \"white\", \"gridwidth\": 2, \"linecolor\": \"white\", \"showbackground\": true, \"ticks\": \"\", \"zerolinecolor\": \"white\"}, \"yaxis\": {\"backgroundcolor\": \"#E5ECF6\", \"gridcolor\": \"white\", \"gridwidth\": 2, \"linecolor\": \"white\", \"showbackground\": true, \"ticks\": \"\", \"zerolinecolor\": \"white\"}, \"zaxis\": {\"backgroundcolor\": \"#E5ECF6\", \"gridcolor\": \"white\", \"gridwidth\": 2, \"linecolor\": \"white\", \"showbackground\": true, \"ticks\": \"\", \"zerolinecolor\": \"white\"}}, \"shapedefaults\": {\"line\": {\"color\": \"#2a3f5f\"}}, \"ternary\": {\"aaxis\": {\"gridcolor\": \"white\", \"linecolor\": \"white\", \"ticks\": \"\"}, \"baxis\": {\"gridcolor\": \"white\", \"linecolor\": \"white\", \"ticks\": \"\"}, \"bgcolor\": \"#E5ECF6\", \"caxis\": {\"gridcolor\": \"white\", \"linecolor\": \"white\", \"ticks\": \"\"}}, \"title\": {\"x\": 0.05}, \"xaxis\": {\"automargin\": true, \"gridcolor\": \"white\", \"linecolor\": \"white\", \"ticks\": \"\", \"title\": {\"standoff\": 15}, \"zerolinecolor\": \"white\", \"zerolinewidth\": 2}, \"yaxis\": {\"automargin\": true, \"gridcolor\": \"white\", \"linecolor\": \"white\", \"ticks\": \"\", \"title\": {\"standoff\": 15}, \"zerolinecolor\": \"white\", \"zerolinewidth\": 2}}}, \"title\": {\"text\": \"Indicadores do IDHM e de mobilidade de maior correla\\u00e7\\u00e3o com mortalidade de COVID-19\"}},\n",
              "                        {\"responsive\": true}\n",
              "                    ).then(function(){\n",
              "                            \n",
              "var gd = document.getElementById('53e5ce2e-bbfd-464e-9cb6-137d34870f9b');\n",
              "var x = new MutationObserver(function (mutations, observer) {{\n",
              "        var display = window.getComputedStyle(gd).display;\n",
              "        if (!display || display === 'none') {{\n",
              "            console.log([gd, 'removed!']);\n",
              "            Plotly.purge(gd);\n",
              "            observer.disconnect();\n",
              "        }}\n",
              "}});\n",
              "\n",
              "// Listen for the removal of the full notebook cells\n",
              "var notebookContainer = gd.closest('#notebook-container');\n",
              "if (notebookContainer) {{\n",
              "    x.observe(notebookContainer, {childList: true});\n",
              "}}\n",
              "\n",
              "// Listen for the clearing of the current output cell\n",
              "var outputEl = gd.closest('.output');\n",
              "if (outputEl) {{\n",
              "    x.observe(outputEl, {childList: true});\n",
              "}}\n",
              "\n",
              "                        })\n",
              "                };\n",
              "                \n",
              "            </script>\n",
              "        </div>\n",
              "</body>\n",
              "</html>"
            ]
          },
          "metadata": {
            "tags": []
          }
        }
      ]
    },
    {
      "cell_type": "code",
      "metadata": {
        "colab": {
          "base_uri": "https://localhost:8080/",
          "height": 407
        },
        "id": "jHsAea7GSm0-",
        "outputId": "f96d1262-1596-44dc-d91d-d6dc3a28f56b"
      },
      "source": [
        "corr_abs"
      ],
      "execution_count": null,
      "outputs": [
        {
          "output_type": "execute_result",
          "data": {
            "text/html": [
              "<div>\n",
              "<style scoped>\n",
              "    .dataframe tbody tr th:only-of-type {\n",
              "        vertical-align: middle;\n",
              "    }\n",
              "\n",
              "    .dataframe tbody tr th {\n",
              "        vertical-align: top;\n",
              "    }\n",
              "\n",
              "    .dataframe thead th {\n",
              "        text-align: right;\n",
              "    }\n",
              "</style>\n",
              "<table border=\"1\" class=\"dataframe\">\n",
              "  <thead>\n",
              "    <tr style=\"text-align: right;\">\n",
              "      <th></th>\n",
              "      <th>indicador</th>\n",
              "      <th>last_available_death_rate</th>\n",
              "    </tr>\n",
              "  </thead>\n",
              "  <tbody>\n",
              "    <tr>\n",
              "      <th>0</th>\n",
              "      <td>last_available_death_rate</td>\n",
              "      <td>1.000000</td>\n",
              "    </tr>\n",
              "    <tr>\n",
              "      <th>1</th>\n",
              "      <td>last_available_confirmed_per_100k_inhabitants</td>\n",
              "      <td>0.587444</td>\n",
              "    </tr>\n",
              "    <tr>\n",
              "      <th>2</th>\n",
              "      <td>T_OCUPDESLOC_1</td>\n",
              "      <td>0.486750</td>\n",
              "    </tr>\n",
              "    <tr>\n",
              "      <th>3</th>\n",
              "      <td>T_DES2529</td>\n",
              "      <td>0.410022</td>\n",
              "    </tr>\n",
              "    <tr>\n",
              "      <th>4</th>\n",
              "      <td>EMP</td>\n",
              "      <td>0.377649</td>\n",
              "    </tr>\n",
              "    <tr>\n",
              "      <th>5</th>\n",
              "      <td>T_DENS</td>\n",
              "      <td>0.331586</td>\n",
              "    </tr>\n",
              "    <tr>\n",
              "      <th>6</th>\n",
              "      <td>T_LIXO</td>\n",
              "      <td>0.311714</td>\n",
              "    </tr>\n",
              "    <tr>\n",
              "      <th>7</th>\n",
              "      <td>T_FLSUPER</td>\n",
              "      <td>0.280454</td>\n",
              "    </tr>\n",
              "    <tr>\n",
              "      <th>8</th>\n",
              "      <td>T_FREQSUPER1517</td>\n",
              "      <td>0.280249</td>\n",
              "    </tr>\n",
              "    <tr>\n",
              "      <th>9</th>\n",
              "      <td>T_NESTUDA_NTRAB_MMEIO</td>\n",
              "      <td>0.238119</td>\n",
              "    </tr>\n",
              "    <tr>\n",
              "      <th>10</th>\n",
              "      <td>T_SUPER25M</td>\n",
              "      <td>0.233178</td>\n",
              "    </tr>\n",
              "    <tr>\n",
              "      <th>11</th>\n",
              "      <td>IDHM_R</td>\n",
              "      <td>0.222730</td>\n",
              "    </tr>\n",
              "  </tbody>\n",
              "</table>\n",
              "</div>"
            ],
            "text/plain": [
              "                                        indicador  last_available_death_rate\n",
              "0                       last_available_death_rate                   1.000000\n",
              "1   last_available_confirmed_per_100k_inhabitants                   0.587444\n",
              "2                                  T_OCUPDESLOC_1                   0.486750\n",
              "3                                       T_DES2529                   0.410022\n",
              "4                                             EMP                   0.377649\n",
              "5                                          T_DENS                   0.331586\n",
              "6                                          T_LIXO                   0.311714\n",
              "7                                       T_FLSUPER                   0.280454\n",
              "8                                 T_FREQSUPER1517                   0.280249\n",
              "9                           T_NESTUDA_NTRAB_MMEIO                   0.238119\n",
              "10                                     T_SUPER25M                   0.233178\n",
              "11                                         IDHM_R                   0.222730"
            ]
          },
          "metadata": {
            "tags": []
          },
          "execution_count": 47
        }
      ]
    },
    {
      "cell_type": "code",
      "metadata": {
        "colab": {
          "base_uri": "https://localhost:8080/"
        },
        "id": "BzrNNlu7SsYl",
        "outputId": "6cc50763-71e2-46fb-f692-00d1158b88f5"
      },
      "source": [
        "corr_abs.drop(corr_abs.loc[(corr_abs['indicador'] == \"last_available_death_rate\")].index, inplace=True)\n",
        "corr_abs.drop(corr_abs.loc[(corr_abs['indicador'] == \"last_available_confirmed_per_100k_inhabitants\")].index, inplace=True)\n",
        "corr_absl = corr_abs.indicador.to_list()\n",
        "corr_absl"
      ],
      "execution_count": null,
      "outputs": [
        {
          "output_type": "execute_result",
          "data": {
            "text/plain": [
              "['T_OCUPDESLOC_1',\n",
              " 'T_DES2529',\n",
              " 'EMP',\n",
              " 'T_DENS',\n",
              " 'T_LIXO',\n",
              " 'T_FLSUPER',\n",
              " 'T_FREQSUPER1517',\n",
              " 'T_NESTUDA_NTRAB_MMEIO',\n",
              " 'T_SUPER25M',\n",
              " 'IDHM_R']"
            ]
          },
          "metadata": {
            "tags": []
          },
          "execution_count": 48
        }
      ]
    },
    {
      "cell_type": "code",
      "metadata": {
        "id": "vWsL75BG0A4s",
        "colab": {
          "base_uri": "https://localhost:8080/",
          "height": 406
        },
        "outputId": "ddea0cdd-d947-4689-bf82-ab68b4bbd68b"
      },
      "source": [
        "corr_absoluta = covid_mob_idhm[covid_mob_idhm.columns.intersection(corr_absl)]\n",
        "corr_absoluta"
      ],
      "execution_count": null,
      "outputs": [
        {
          "output_type": "execute_result",
          "data": {
            "text/html": [
              "<div>\n",
              "<style scoped>\n",
              "    .dataframe tbody tr th:only-of-type {\n",
              "        vertical-align: middle;\n",
              "    }\n",
              "\n",
              "    .dataframe tbody tr th {\n",
              "        vertical-align: top;\n",
              "    }\n",
              "\n",
              "    .dataframe thead th {\n",
              "        text-align: right;\n",
              "    }\n",
              "</style>\n",
              "<table border=\"1\" class=\"dataframe\">\n",
              "  <thead>\n",
              "    <tr style=\"text-align: right;\">\n",
              "      <th></th>\n",
              "      <th>T_FLSUPER</th>\n",
              "      <th>T_FREQSUPER1517</th>\n",
              "      <th>T_SUPER25M</th>\n",
              "      <th>EMP</th>\n",
              "      <th>T_DES2529</th>\n",
              "      <th>T_DENS</th>\n",
              "      <th>T_LIXO</th>\n",
              "      <th>T_NESTUDA_NTRAB_MMEIO</th>\n",
              "      <th>T_OCUPDESLOC_1</th>\n",
              "      <th>IDHM_R</th>\n",
              "    </tr>\n",
              "  </thead>\n",
              "  <tbody>\n",
              "    <tr>\n",
              "      <th>1</th>\n",
              "      <td>20.60</td>\n",
              "      <td>3.08</td>\n",
              "      <td>17.22</td>\n",
              "      <td>3.34</td>\n",
              "      <td>6.87</td>\n",
              "      <td>20.70</td>\n",
              "      <td>99.80</td>\n",
              "      <td>5.08</td>\n",
              "      <td>0.89</td>\n",
              "      <td>0.790</td>\n",
              "    </tr>\n",
              "    <tr>\n",
              "      <th>7</th>\n",
              "      <td>22.74</td>\n",
              "      <td>1.56</td>\n",
              "      <td>18.49</td>\n",
              "      <td>3.46</td>\n",
              "      <td>8.48</td>\n",
              "      <td>18.54</td>\n",
              "      <td>99.32</td>\n",
              "      <td>6.33</td>\n",
              "      <td>0.87</td>\n",
              "      <td>0.807</td>\n",
              "    </tr>\n",
              "    <tr>\n",
              "      <th>11</th>\n",
              "      <td>19.82</td>\n",
              "      <td>1.55</td>\n",
              "      <td>19.11</td>\n",
              "      <td>2.78</td>\n",
              "      <td>13.96</td>\n",
              "      <td>25.78</td>\n",
              "      <td>97.67</td>\n",
              "      <td>12.63</td>\n",
              "      <td>1.71</td>\n",
              "      <td>0.798</td>\n",
              "    </tr>\n",
              "    <tr>\n",
              "      <th>16</th>\n",
              "      <td>13.00</td>\n",
              "      <td>1.39</td>\n",
              "      <td>4.99</td>\n",
              "      <td>0.51</td>\n",
              "      <td>7.70</td>\n",
              "      <td>35.09</td>\n",
              "      <td>99.86</td>\n",
              "      <td>5.47</td>\n",
              "      <td>0.93</td>\n",
              "      <td>0.720</td>\n",
              "    </tr>\n",
              "    <tr>\n",
              "      <th>23</th>\n",
              "      <td>17.99</td>\n",
              "      <td>0.93</td>\n",
              "      <td>14.86</td>\n",
              "      <td>3.39</td>\n",
              "      <td>4.60</td>\n",
              "      <td>18.17</td>\n",
              "      <td>99.76</td>\n",
              "      <td>3.56</td>\n",
              "      <td>0.21</td>\n",
              "      <td>0.767</td>\n",
              "    </tr>\n",
              "    <tr>\n",
              "      <th>...</th>\n",
              "      <td>...</td>\n",
              "      <td>...</td>\n",
              "      <td>...</td>\n",
              "      <td>...</td>\n",
              "      <td>...</td>\n",
              "      <td>...</td>\n",
              "      <td>...</td>\n",
              "      <td>...</td>\n",
              "      <td>...</td>\n",
              "      <td>...</td>\n",
              "    </tr>\n",
              "    <tr>\n",
              "      <th>1698</th>\n",
              "      <td>5.61</td>\n",
              "      <td>0.23</td>\n",
              "      <td>2.90</td>\n",
              "      <td>0.44</td>\n",
              "      <td>7.10</td>\n",
              "      <td>27.50</td>\n",
              "      <td>98.21</td>\n",
              "      <td>9.72</td>\n",
              "      <td>5.21</td>\n",
              "      <td>0.673</td>\n",
              "    </tr>\n",
              "    <tr>\n",
              "      <th>1700</th>\n",
              "      <td>16.94</td>\n",
              "      <td>2.26</td>\n",
              "      <td>10.35</td>\n",
              "      <td>2.26</td>\n",
              "      <td>6.71</td>\n",
              "      <td>20.45</td>\n",
              "      <td>99.12</td>\n",
              "      <td>4.97</td>\n",
              "      <td>0.74</td>\n",
              "      <td>0.768</td>\n",
              "    </tr>\n",
              "    <tr>\n",
              "      <th>1704</th>\n",
              "      <td>25.86</td>\n",
              "      <td>2.64</td>\n",
              "      <td>19.07</td>\n",
              "      <td>4.01</td>\n",
              "      <td>6.73</td>\n",
              "      <td>15.65</td>\n",
              "      <td>98.67</td>\n",
              "      <td>4.51</td>\n",
              "      <td>0.62</td>\n",
              "      <td>0.789</td>\n",
              "    </tr>\n",
              "    <tr>\n",
              "      <th>1711</th>\n",
              "      <td>18.90</td>\n",
              "      <td>1.76</td>\n",
              "      <td>23.54</td>\n",
              "      <td>6.20</td>\n",
              "      <td>8.18</td>\n",
              "      <td>34.90</td>\n",
              "      <td>99.48</td>\n",
              "      <td>5.42</td>\n",
              "      <td>1.21</td>\n",
              "      <td>0.876</td>\n",
              "    </tr>\n",
              "    <tr>\n",
              "      <th>1712</th>\n",
              "      <td>11.75</td>\n",
              "      <td>0.97</td>\n",
              "      <td>12.75</td>\n",
              "      <td>1.29</td>\n",
              "      <td>8.44</td>\n",
              "      <td>31.27</td>\n",
              "      <td>98.83</td>\n",
              "      <td>6.20</td>\n",
              "      <td>0.73</td>\n",
              "      <td>0.792</td>\n",
              "    </tr>\n",
              "  </tbody>\n",
              "</table>\n",
              "<p>329 rows × 10 columns</p>\n",
              "</div>"
            ],
            "text/plain": [
              "      T_FLSUPER  T_FREQSUPER1517  ...  T_OCUPDESLOC_1  IDHM_R\n",
              "1         20.60             3.08  ...            0.89   0.790\n",
              "7         22.74             1.56  ...            0.87   0.807\n",
              "11        19.82             1.55  ...            1.71   0.798\n",
              "16        13.00             1.39  ...            0.93   0.720\n",
              "23        17.99             0.93  ...            0.21   0.767\n",
              "...         ...              ...  ...             ...     ...\n",
              "1698       5.61             0.23  ...            5.21   0.673\n",
              "1700      16.94             2.26  ...            0.74   0.768\n",
              "1704      25.86             2.64  ...            0.62   0.789\n",
              "1711      18.90             1.76  ...            1.21   0.876\n",
              "1712      11.75             0.97  ...            0.73   0.792\n",
              "\n",
              "[329 rows x 10 columns]"
            ]
          },
          "metadata": {
            "tags": []
          },
          "execution_count": 49
        }
      ]
    },
    {
      "cell_type": "code",
      "metadata": {
        "id": "Tsfju4sZTUAF"
      },
      "source": [
        "mortalidade = covid_mob_idhm.last_available_death_rate"
      ],
      "execution_count": null,
      "outputs": []
    },
    {
      "cell_type": "code",
      "metadata": {
        "id": "WauJi5arLa3a"
      },
      "source": [
        "xtrain, xtest, ytrain, ytest = train_test_split(corr_absoluta, mortalidade, test_size=0.4, random_state=42)"
      ],
      "execution_count": null,
      "outputs": []
    },
    {
      "cell_type": "code",
      "metadata": {
        "id": "XOlIn7IMND4g",
        "colab": {
          "base_uri": "https://localhost:8080/"
        },
        "outputId": "e3306027-2645-4322-9c61-92d67bfc2f4e"
      },
      "source": [
        "linreg = LinearRegression()\n",
        "linreg.fit(xtrain, ytrain)\n",
        "print('linear model coeff (w): {}'\n",
        ".format(linreg.coef_))\n",
        "print('linear model intercept (b): {:.3f}'\n",
        ".format(linreg.intercept_))\n",
        "print('R-squared score (training): {:.3f}'\n",
        ".format(linreg.score(xtrain, ytrain)))\n",
        "print('R-squared score (test): {:.3f}'\n",
        ".format(linreg.score(xtest, ytest)))"
      ],
      "execution_count": null,
      "outputs": [
        {
          "output_type": "stream",
          "text": [
            "linear model coeff (w): [ 0.00022387 -0.00235199 -0.00114198 -0.00052434  0.00212293  0.00015226\n",
            " -0.00149869 -0.00085054  0.0037249   0.12605205]\n",
            "linear model intercept (b): 0.076\n",
            "R-squared score (training): 0.395\n",
            "R-squared score (test): -0.031\n"
          ],
          "name": "stdout"
        }
      ]
    },
    {
      "cell_type": "code",
      "metadata": {
        "id": "3SAqFu1oABd_",
        "colab": {
          "base_uri": "https://localhost:8080/"
        },
        "outputId": "a5b41601-d86a-49ba-cc05-76c8e6c1acc1"
      },
      "source": [
        "pred = linreg.predict(xtest)\n",
        "print('Mean squared error: %.2f'\n",
        "      % mean_squared_error(ytest, pred))\n",
        "print('Coefficient of determination: %.2f'\n",
        "      % r2_score(ytest, pred))"
      ],
      "execution_count": null,
      "outputs": [
        {
          "output_type": "stream",
          "text": [
            "Mean squared error: 0.00\n",
            "Coefficient of determination: -0.03\n"
          ],
          "name": "stdout"
        }
      ]
    },
    {
      "cell_type": "code",
      "metadata": {
        "id": "VH1t5_tVBbX2",
        "colab": {
          "base_uri": "https://localhost:8080/",
          "height": 542
        },
        "outputId": "5c438071-b4e9-4de9-de2a-d5d7eb1f4e52"
      },
      "source": [
        "fig = go.Figure(data=go.Scatter(x=ytest, y=pred, mode='markers')) \n",
        "fig.update_layout(title=\"Valores reais e previstos de correlação absoluta com mortalidade de COVID-19\")\n",
        "fig.show()"
      ],
      "execution_count": null,
      "outputs": [
        {
          "output_type": "display_data",
          "data": {
            "text/html": [
              "<html>\n",
              "<head><meta charset=\"utf-8\" /></head>\n",
              "<body>\n",
              "    <div>\n",
              "            <script src=\"https://cdnjs.cloudflare.com/ajax/libs/mathjax/2.7.5/MathJax.js?config=TeX-AMS-MML_SVG\"></script><script type=\"text/javascript\">if (window.MathJax) {MathJax.Hub.Config({SVG: {font: \"STIX-Web\"}});}</script>\n",
              "                <script type=\"text/javascript\">window.PlotlyConfig = {MathJaxConfig: 'local'};</script>\n",
              "        <script src=\"https://cdn.plot.ly/plotly-latest.min.js\"></script>    \n",
              "            <div id=\"6a7066a5-cf33-48c3-83cb-86c2fb4bcecc\" class=\"plotly-graph-div\" style=\"height:525px; width:100%;\"></div>\n",
              "            <script type=\"text/javascript\">\n",
              "                \n",
              "                    window.PLOTLYENV=window.PLOTLYENV || {};\n",
              "                    \n",
              "                if (document.getElementById(\"6a7066a5-cf33-48c3-83cb-86c2fb4bcecc\")) {\n",
              "                    Plotly.newPlot(\n",
              "                        '6a7066a5-cf33-48c3-83cb-86c2fb4bcecc',\n",
              "                        [{\"mode\": \"markers\", \"type\": \"scatter\", \"x\": [0.0247, 0.0198, 0.0479, 0.0385, 0.0221, 0.0108, 0.0287, 0.0219, 0.0298, 0.040999999999999995, 0.0127, 0.0185, 0.0191, 0.034, 0.0115, 0.0197, 0.0268, 0.0145, 0.0168, 0.0841, 0.0185, 0.059000000000000004, 0.0269, 0.0098, 0.0345, 0.0296, 0.032, 0.0359, 0.0252, 0.0242, 0.012, 0.0303, 0.0165, 0.0148, 0.0255, 0.0223, 0.0256, 0.0147, 0.0372, 0.048, 0.0266, 0.0306, 0.0084, 0.0151, 0.0182, 0.0345, 0.0318, 0.0151, 0.0593, 0.0531, 0.0222, 0.0128, 0.0158, 0.0149, 0.0158, 0.0205, 0.0203, 0.032, 0.0439, 0.0135, 0.0312, 0.0118, 0.011000000000000001, 0.0257, 0.0304, 0.0292, 0.0378, 0.0137, 0.0082, 0.0157, 0.0333, 0.0148, 0.0225, 0.0171, 0.0196, 0.013999999999999999, 0.0469, 0.0309, 0.0081, 0.0294, 0.0252, 0.0262, 0.0269, 0.0327, 0.0128, 0.0191, 0.0352, 0.0546, 0.0404, 0.0244, 0.0232, 0.0188, 0.0264, 0.0707, 0.0311, 0.0896, 0.0275, 0.0337, 0.0412, 0.0225, 0.0284, 0.0398, 0.0152, 0.0268, 0.0192, 0.0203, 0.0228, 0.0441, 0.0265, 0.0119, 0.0067, 0.0246, 0.0421, 0.0079, 0.0182, 0.0329, 0.0175, 0.0285, 0.0235, 0.0081, 0.0345, 0.0345, 0.0372, 0.0215, 0.0128, 0.0273, 0.0093, 0.0359, 0.0435, 0.0177, 0.0288, 0.0237], \"y\": [0.02530269494947493, 0.046474980576441866, 0.05221657810688615, 0.017491189918694153, 0.030711542965699265, 0.028124240344739232, 0.014516948020349668, 0.0321363450155293, 0.019025335232385476, 0.029662464728364882, 0.02260026503729949, 0.02112415142678857, 0.045279799049761704, 0.027403825748364516, 0.016148934959231753, 0.028447822808389492, 0.029102473610701993, 0.018658297294569, 0.038777674156321315, 0.054940405470537704, 0.03800509905846908, 0.057881925919837596, 0.02247577904768845, 0.014549041277804167, 0.04003513602550626, 0.06429455469722968, 0.03389966352943638, 0.04841881646053671, 0.06693574687247954, 0.019011913389325535, 0.017092619612101886, 0.033376894937266144, 0.03476204313489786, 0.02408367487846011, 0.027066045428496582, 0.02832032388386828, 0.033158494940192504, 0.027818584844779046, 0.03720110287140832, 0.033264066186199606, 0.03805141376949142, 0.03697056294125192, 0.013690372613859011, 0.012371556784037466, 0.020195655087222195, 0.04003513602550626, 0.02279236994932951, 0.020157407246180523, 0.03635770371837198, 0.044805817601661344, 0.02673613428611843, 0.030042607365608556, 0.01996219478909929, 0.022257729973432894, 0.0247617402929277, 0.03587875532663838, 0.013310836033696025, 0.04884159330827695, 0.03808713838607804, 0.03402218336880472, 0.031509895815198044, 0.013665544131945859, 0.006622081589918283, 0.016791741829999304, 0.01821291358671981, 0.012375607749852538, 0.037112616063171344, 0.019090080790102715, 0.010225635563265917, 0.04368622389770892, 0.023004269523309653, 0.016763936621247505, 0.014955783580945445, 0.032934356945594045, 0.025090786550849203, 0.029398741592502595, 0.03480341489605915, 0.030611146655620314, 0.033806910209813135, 0.01733822762185301, 0.021449253979024224, 0.03496005740144387, 0.019518014152749535, 0.028740280441044458, 0.01052493935208873, 0.02288797251857616, 0.02281767412023765, 0.035006347321334785, 0.04405293585778179, 0.014905205347680292, 0.028739680589736152, 0.03546329572096475, 0.02117955653884329, 0.08650029088499812, 0.04423612202918269, 0.03404139088369276, 0.021430662339382844, 0.01231647218295795, 0.030801161987660447, 0.026996043698718053, 0.05548952126304044, 0.021029161551231065, 0.028127302856771064, 0.07053713532993114, 0.03045930792310804, 0.019039611288688627, 0.01619212542483811, 0.026986544695883588, 0.016258520053164083, 0.012317440495883111, 0.024673433485064206, 0.04145401559460021, 0.029814136984835427, 0.01633861769159163, 0.034808617314955714, 0.03294328638158463, 0.015514156950751923, 0.018699017494161724, 0.029900327351276013, 0.027162454322611274, 0.03573309454212399, 0.04003513602550626, 0.03720110287140832, 0.02849615350223883, 0.02230782877240603, 0.014497771550855215, 0.03527249460548991, 0.02479443285259872, 0.02677725951757423, 0.01677431459394714, 0.019285807231433832, 0.018616384531360552]}],\n",
              "                        {\"template\": {\"data\": {\"bar\": [{\"error_x\": {\"color\": \"#2a3f5f\"}, \"error_y\": {\"color\": \"#2a3f5f\"}, \"marker\": {\"line\": {\"color\": \"#E5ECF6\", \"width\": 0.5}}, \"type\": \"bar\"}], \"barpolar\": [{\"marker\": {\"line\": {\"color\": \"#E5ECF6\", \"width\": 0.5}}, \"type\": \"barpolar\"}], \"carpet\": [{\"aaxis\": {\"endlinecolor\": \"#2a3f5f\", \"gridcolor\": \"white\", \"linecolor\": \"white\", \"minorgridcolor\": \"white\", \"startlinecolor\": \"#2a3f5f\"}, \"baxis\": {\"endlinecolor\": \"#2a3f5f\", \"gridcolor\": \"white\", \"linecolor\": \"white\", \"minorgridcolor\": \"white\", \"startlinecolor\": \"#2a3f5f\"}, \"type\": \"carpet\"}], \"choropleth\": [{\"colorbar\": {\"outlinewidth\": 0, \"ticks\": \"\"}, \"type\": \"choropleth\"}], \"contour\": [{\"colorbar\": {\"outlinewidth\": 0, \"ticks\": \"\"}, \"colorscale\": [[0.0, \"#0d0887\"], [0.1111111111111111, \"#46039f\"], [0.2222222222222222, \"#7201a8\"], [0.3333333333333333, \"#9c179e\"], [0.4444444444444444, \"#bd3786\"], [0.5555555555555556, \"#d8576b\"], [0.6666666666666666, \"#ed7953\"], [0.7777777777777778, \"#fb9f3a\"], [0.8888888888888888, \"#fdca26\"], [1.0, \"#f0f921\"]], \"type\": \"contour\"}], \"contourcarpet\": [{\"colorbar\": {\"outlinewidth\": 0, \"ticks\": \"\"}, \"type\": \"contourcarpet\"}], \"heatmap\": [{\"colorbar\": {\"outlinewidth\": 0, \"ticks\": \"\"}, \"colorscale\": [[0.0, \"#0d0887\"], [0.1111111111111111, \"#46039f\"], [0.2222222222222222, \"#7201a8\"], [0.3333333333333333, \"#9c179e\"], [0.4444444444444444, \"#bd3786\"], [0.5555555555555556, \"#d8576b\"], [0.6666666666666666, \"#ed7953\"], [0.7777777777777778, \"#fb9f3a\"], [0.8888888888888888, \"#fdca26\"], [1.0, \"#f0f921\"]], \"type\": \"heatmap\"}], \"heatmapgl\": [{\"colorbar\": {\"outlinewidth\": 0, \"ticks\": \"\"}, \"colorscale\": [[0.0, \"#0d0887\"], [0.1111111111111111, \"#46039f\"], [0.2222222222222222, \"#7201a8\"], [0.3333333333333333, \"#9c179e\"], [0.4444444444444444, \"#bd3786\"], [0.5555555555555556, \"#d8576b\"], [0.6666666666666666, \"#ed7953\"], [0.7777777777777778, \"#fb9f3a\"], [0.8888888888888888, \"#fdca26\"], [1.0, \"#f0f921\"]], \"type\": \"heatmapgl\"}], \"histogram\": [{\"marker\": {\"colorbar\": {\"outlinewidth\": 0, \"ticks\": \"\"}}, \"type\": \"histogram\"}], \"histogram2d\": [{\"colorbar\": {\"outlinewidth\": 0, \"ticks\": \"\"}, \"colorscale\": [[0.0, \"#0d0887\"], [0.1111111111111111, \"#46039f\"], [0.2222222222222222, \"#7201a8\"], [0.3333333333333333, \"#9c179e\"], [0.4444444444444444, \"#bd3786\"], [0.5555555555555556, \"#d8576b\"], [0.6666666666666666, \"#ed7953\"], [0.7777777777777778, \"#fb9f3a\"], [0.8888888888888888, \"#fdca26\"], [1.0, \"#f0f921\"]], \"type\": \"histogram2d\"}], \"histogram2dcontour\": [{\"colorbar\": {\"outlinewidth\": 0, \"ticks\": \"\"}, \"colorscale\": [[0.0, \"#0d0887\"], [0.1111111111111111, \"#46039f\"], [0.2222222222222222, \"#7201a8\"], [0.3333333333333333, \"#9c179e\"], [0.4444444444444444, \"#bd3786\"], [0.5555555555555556, \"#d8576b\"], [0.6666666666666666, \"#ed7953\"], [0.7777777777777778, \"#fb9f3a\"], [0.8888888888888888, \"#fdca26\"], [1.0, \"#f0f921\"]], \"type\": \"histogram2dcontour\"}], \"mesh3d\": [{\"colorbar\": {\"outlinewidth\": 0, \"ticks\": \"\"}, \"type\": \"mesh3d\"}], \"parcoords\": [{\"line\": {\"colorbar\": {\"outlinewidth\": 0, \"ticks\": \"\"}}, \"type\": \"parcoords\"}], \"pie\": [{\"automargin\": true, \"type\": \"pie\"}], \"scatter\": [{\"marker\": {\"colorbar\": {\"outlinewidth\": 0, \"ticks\": \"\"}}, \"type\": \"scatter\"}], \"scatter3d\": [{\"line\": {\"colorbar\": {\"outlinewidth\": 0, \"ticks\": \"\"}}, \"marker\": {\"colorbar\": {\"outlinewidth\": 0, \"ticks\": \"\"}}, \"type\": \"scatter3d\"}], \"scattercarpet\": [{\"marker\": {\"colorbar\": {\"outlinewidth\": 0, \"ticks\": \"\"}}, \"type\": \"scattercarpet\"}], \"scattergeo\": [{\"marker\": {\"colorbar\": {\"outlinewidth\": 0, \"ticks\": \"\"}}, \"type\": \"scattergeo\"}], \"scattergl\": [{\"marker\": {\"colorbar\": {\"outlinewidth\": 0, \"ticks\": \"\"}}, \"type\": \"scattergl\"}], \"scattermapbox\": [{\"marker\": {\"colorbar\": {\"outlinewidth\": 0, \"ticks\": \"\"}}, \"type\": \"scattermapbox\"}], \"scatterpolar\": [{\"marker\": {\"colorbar\": {\"outlinewidth\": 0, \"ticks\": \"\"}}, \"type\": \"scatterpolar\"}], \"scatterpolargl\": [{\"marker\": {\"colorbar\": {\"outlinewidth\": 0, \"ticks\": \"\"}}, \"type\": \"scatterpolargl\"}], \"scatterternary\": [{\"marker\": {\"colorbar\": {\"outlinewidth\": 0, \"ticks\": \"\"}}, \"type\": \"scatterternary\"}], \"surface\": [{\"colorbar\": {\"outlinewidth\": 0, \"ticks\": \"\"}, \"colorscale\": [[0.0, \"#0d0887\"], [0.1111111111111111, \"#46039f\"], [0.2222222222222222, \"#7201a8\"], [0.3333333333333333, \"#9c179e\"], [0.4444444444444444, \"#bd3786\"], [0.5555555555555556, \"#d8576b\"], [0.6666666666666666, \"#ed7953\"], [0.7777777777777778, \"#fb9f3a\"], [0.8888888888888888, \"#fdca26\"], [1.0, \"#f0f921\"]], \"type\": \"surface\"}], \"table\": [{\"cells\": {\"fill\": {\"color\": \"#EBF0F8\"}, \"line\": {\"color\": \"white\"}}, \"header\": {\"fill\": {\"color\": \"#C8D4E3\"}, \"line\": {\"color\": \"white\"}}, \"type\": \"table\"}]}, \"layout\": {\"annotationdefaults\": {\"arrowcolor\": \"#2a3f5f\", \"arrowhead\": 0, \"arrowwidth\": 1}, \"coloraxis\": {\"colorbar\": {\"outlinewidth\": 0, \"ticks\": \"\"}}, \"colorscale\": {\"diverging\": [[0, \"#8e0152\"], [0.1, \"#c51b7d\"], [0.2, \"#de77ae\"], [0.3, \"#f1b6da\"], [0.4, \"#fde0ef\"], [0.5, \"#f7f7f7\"], [0.6, \"#e6f5d0\"], [0.7, \"#b8e186\"], [0.8, \"#7fbc41\"], [0.9, \"#4d9221\"], [1, \"#276419\"]], \"sequential\": [[0.0, \"#0d0887\"], [0.1111111111111111, \"#46039f\"], [0.2222222222222222, \"#7201a8\"], [0.3333333333333333, \"#9c179e\"], [0.4444444444444444, \"#bd3786\"], [0.5555555555555556, \"#d8576b\"], [0.6666666666666666, \"#ed7953\"], [0.7777777777777778, \"#fb9f3a\"], [0.8888888888888888, \"#fdca26\"], [1.0, \"#f0f921\"]], \"sequentialminus\": [[0.0, \"#0d0887\"], [0.1111111111111111, \"#46039f\"], [0.2222222222222222, \"#7201a8\"], [0.3333333333333333, \"#9c179e\"], [0.4444444444444444, \"#bd3786\"], [0.5555555555555556, \"#d8576b\"], [0.6666666666666666, \"#ed7953\"], [0.7777777777777778, \"#fb9f3a\"], [0.8888888888888888, \"#fdca26\"], [1.0, \"#f0f921\"]]}, \"colorway\": [\"#636efa\", \"#EF553B\", \"#00cc96\", \"#ab63fa\", \"#FFA15A\", \"#19d3f3\", \"#FF6692\", \"#B6E880\", \"#FF97FF\", \"#FECB52\"], \"font\": {\"color\": \"#2a3f5f\"}, \"geo\": {\"bgcolor\": \"white\", \"lakecolor\": \"white\", \"landcolor\": \"#E5ECF6\", \"showlakes\": true, \"showland\": true, \"subunitcolor\": \"white\"}, \"hoverlabel\": {\"align\": \"left\"}, \"hovermode\": \"closest\", \"mapbox\": {\"style\": \"light\"}, \"paper_bgcolor\": \"white\", \"plot_bgcolor\": \"#E5ECF6\", \"polar\": {\"angularaxis\": {\"gridcolor\": \"white\", \"linecolor\": \"white\", \"ticks\": \"\"}, \"bgcolor\": \"#E5ECF6\", \"radialaxis\": {\"gridcolor\": \"white\", \"linecolor\": \"white\", \"ticks\": \"\"}}, \"scene\": {\"xaxis\": {\"backgroundcolor\": \"#E5ECF6\", \"gridcolor\": \"white\", \"gridwidth\": 2, \"linecolor\": \"white\", \"showbackground\": true, \"ticks\": \"\", \"zerolinecolor\": \"white\"}, \"yaxis\": {\"backgroundcolor\": \"#E5ECF6\", \"gridcolor\": \"white\", \"gridwidth\": 2, \"linecolor\": \"white\", \"showbackground\": true, \"ticks\": \"\", \"zerolinecolor\": \"white\"}, \"zaxis\": {\"backgroundcolor\": \"#E5ECF6\", \"gridcolor\": \"white\", \"gridwidth\": 2, \"linecolor\": \"white\", \"showbackground\": true, \"ticks\": \"\", \"zerolinecolor\": \"white\"}}, \"shapedefaults\": {\"line\": {\"color\": \"#2a3f5f\"}}, \"ternary\": {\"aaxis\": {\"gridcolor\": \"white\", \"linecolor\": \"white\", \"ticks\": \"\"}, \"baxis\": {\"gridcolor\": \"white\", \"linecolor\": \"white\", \"ticks\": \"\"}, \"bgcolor\": \"#E5ECF6\", \"caxis\": {\"gridcolor\": \"white\", \"linecolor\": \"white\", \"ticks\": \"\"}}, \"title\": {\"x\": 0.05}, \"xaxis\": {\"automargin\": true, \"gridcolor\": \"white\", \"linecolor\": \"white\", \"ticks\": \"\", \"title\": {\"standoff\": 15}, \"zerolinecolor\": \"white\", \"zerolinewidth\": 2}, \"yaxis\": {\"automargin\": true, \"gridcolor\": \"white\", \"linecolor\": \"white\", \"ticks\": \"\", \"title\": {\"standoff\": 15}, \"zerolinecolor\": \"white\", \"zerolinewidth\": 2}}}, \"title\": {\"text\": \"Valores reais e previstos de correla\\u00e7\\u00e3o absoluta com mortalidade de COVID-19\"}},\n",
              "                        {\"responsive\": true}\n",
              "                    ).then(function(){\n",
              "                            \n",
              "var gd = document.getElementById('6a7066a5-cf33-48c3-83cb-86c2fb4bcecc');\n",
              "var x = new MutationObserver(function (mutations, observer) {{\n",
              "        var display = window.getComputedStyle(gd).display;\n",
              "        if (!display || display === 'none') {{\n",
              "            console.log([gd, 'removed!']);\n",
              "            Plotly.purge(gd);\n",
              "            observer.disconnect();\n",
              "        }}\n",
              "}});\n",
              "\n",
              "// Listen for the removal of the full notebook cells\n",
              "var notebookContainer = gd.closest('#notebook-container');\n",
              "if (notebookContainer) {{\n",
              "    x.observe(notebookContainer, {childList: true});\n",
              "}}\n",
              "\n",
              "// Listen for the clearing of the current output cell\n",
              "var outputEl = gd.closest('.output');\n",
              "if (outputEl) {{\n",
              "    x.observe(outputEl, {childList: true});\n",
              "}}\n",
              "\n",
              "                        })\n",
              "                };\n",
              "                \n",
              "            </script>\n",
              "        </div>\n",
              "</body>\n",
              "</html>"
            ]
          },
          "metadata": {
            "tags": []
          }
        }
      ]
    },
    {
      "cell_type": "code",
      "metadata": {
        "id": "CeoPCmB8Byiu",
        "colab": {
          "base_uri": "https://localhost:8080/",
          "height": 383
        },
        "outputId": "45e9c134-713a-43c9-91b4-1f54bc6e7525"
      },
      "source": [
        "df_corr_abs = pd.DataFrame ({'Real': ytest, 'Previsto': pred}) \n",
        "sns.lmplot(x=\"Real\", y=\"Previsto\", data=df_corr_abs);"
      ],
      "execution_count": null,
      "outputs": [
        {
          "output_type": "display_data",
          "data": {
            "image/png": "[encoded data removed]",
            "text/plain": [
              "<Figure size 360x360 with 1 Axes>"
            ]
          },
          "metadata": {
            "tags": [],
            "needs_background": "light"
          }
        }
      ]
    },
    {
      "cell_type": "code",
      "metadata": {
        "id": "CQCJPsd9GOvJ",
        "colab": {
          "base_uri": "https://localhost:8080/",
          "height": 542
        },
        "outputId": "e28fd672-7506-4097-f27f-8ed5d7b2cd39"
      },
      "source": [
        "corr_abs_incidencia = covid_mob_idhm.corr().loc['last_available_confirmed_per_100k_inhabitants'].abs().sort_values(ascending=False).to_frame().reset_index().rename(columns = {'index': 'indicador'})[:12]\n",
        "fig = go.Figure(data=go.Scatter(x=corr_abs_incidencia['last_available_confirmed_per_100k_inhabitants'], y=corr_abs_incidencia['indicador'], mode='markers')) \n",
        "fig.update_layout(title=\"Indicadores do IDHM e de mobilidade de maior correlação com incidência de COVID-19\")\n",
        "fig.show()"
      ],
      "execution_count": null,
      "outputs": [
        {
          "output_type": "display_data",
          "data": {
            "text/html": [
              "<html>\n",
              "<head><meta charset=\"utf-8\" /></head>\n",
              "<body>\n",
              "    <div>\n",
              "            <script src=\"https://cdnjs.cloudflare.com/ajax/libs/mathjax/2.7.5/MathJax.js?config=TeX-AMS-MML_SVG\"></script><script type=\"text/javascript\">if (window.MathJax) {MathJax.Hub.Config({SVG: {font: \"STIX-Web\"}});}</script>\n",
              "                <script type=\"text/javascript\">window.PlotlyConfig = {MathJaxConfig: 'local'};</script>\n",
              "        <script src=\"https://cdn.plot.ly/plotly-latest.min.js\"></script>    \n",
              "            <div id=\"8bb0a097-8490-4619-a353-bd94bd7afc18\" class=\"plotly-graph-div\" style=\"height:525px; width:100%;\"></div>\n",
              "            <script type=\"text/javascript\">\n",
              "                \n",
              "                    window.PLOTLYENV=window.PLOTLYENV || {};\n",
              "                    \n",
              "                if (document.getElementById(\"8bb0a097-8490-4619-a353-bd94bd7afc18\")) {\n",
              "                    Plotly.newPlot(\n",
              "                        '8bb0a097-8490-4619-a353-bd94bd7afc18',\n",
              "                        [{\"mode\": \"markers\", \"type\": \"scatter\", \"x\": [1.0, 0.587443530306904, 0.47378140651644246, 0.4409717722959863, 0.4401878730970069, 0.43486171574665666, 0.36818464453296396, 0.35902336907453164, 0.35727125979553254, 0.3486530649186827, 0.34637358807647983, 0.3027969299204548], \"y\": [\"last_available_confirmed_per_100k_inhabitants\", \"last_available_death_rate\", \"T_FREQSUPER1517\", \"T_OCUPDESLOC_1\", \"T_FLSUPER\", \"EMP\", \"T_SUPER25M\", \"T_DES2529\", \"IDHM_R\", \"RDPC\", \"P_SUPER\", \"T_DENS\"]}],\n",
              "                        {\"template\": {\"data\": {\"bar\": [{\"error_x\": {\"color\": \"#2a3f5f\"}, \"error_y\": {\"color\": \"#2a3f5f\"}, \"marker\": {\"line\": {\"color\": \"#E5ECF6\", \"width\": 0.5}}, \"type\": \"bar\"}], \"barpolar\": [{\"marker\": {\"line\": {\"color\": \"#E5ECF6\", \"width\": 0.5}}, \"type\": \"barpolar\"}], \"carpet\": [{\"aaxis\": {\"endlinecolor\": \"#2a3f5f\", \"gridcolor\": \"white\", \"linecolor\": \"white\", \"minorgridcolor\": \"white\", \"startlinecolor\": \"#2a3f5f\"}, \"baxis\": {\"endlinecolor\": \"#2a3f5f\", \"gridcolor\": \"white\", \"linecolor\": \"white\", \"minorgridcolor\": \"white\", \"startlinecolor\": \"#2a3f5f\"}, \"type\": \"carpet\"}], \"choropleth\": [{\"colorbar\": {\"outlinewidth\": 0, \"ticks\": \"\"}, \"type\": \"choropleth\"}], \"contour\": [{\"colorbar\": {\"outlinewidth\": 0, \"ticks\": \"\"}, \"colorscale\": [[0.0, \"#0d0887\"], [0.1111111111111111, \"#46039f\"], [0.2222222222222222, \"#7201a8\"], [0.3333333333333333, \"#9c179e\"], [0.4444444444444444, \"#bd3786\"], [0.5555555555555556, \"#d8576b\"], [0.6666666666666666, \"#ed7953\"], [0.7777777777777778, \"#fb9f3a\"], [0.8888888888888888, \"#fdca26\"], [1.0, \"#f0f921\"]], \"type\": \"contour\"}], \"contourcarpet\": [{\"colorbar\": {\"outlinewidth\": 0, \"ticks\": \"\"}, \"type\": \"contourcarpet\"}], \"heatmap\": [{\"colorbar\": {\"outlinewidth\": 0, \"ticks\": \"\"}, \"colorscale\": [[0.0, \"#0d0887\"], [0.1111111111111111, \"#46039f\"], [0.2222222222222222, \"#7201a8\"], [0.3333333333333333, \"#9c179e\"], [0.4444444444444444, \"#bd3786\"], [0.5555555555555556, \"#d8576b\"], [0.6666666666666666, \"#ed7953\"], [0.7777777777777778, \"#fb9f3a\"], [0.8888888888888888, \"#fdca26\"], [1.0, \"#f0f921\"]], \"type\": \"heatmap\"}], \"heatmapgl\": [{\"colorbar\": {\"outlinewidth\": 0, \"ticks\": \"\"}, \"colorscale\": [[0.0, \"#0d0887\"], [0.1111111111111111, \"#46039f\"], [0.2222222222222222, \"#7201a8\"], [0.3333333333333333, \"#9c179e\"], [0.4444444444444444, \"#bd3786\"], [0.5555555555555556, \"#d8576b\"], [0.6666666666666666, \"#ed7953\"], [0.7777777777777778, \"#fb9f3a\"], [0.8888888888888888, \"#fdca26\"], [1.0, \"#f0f921\"]], \"type\": \"heatmapgl\"}], \"histogram\": [{\"marker\": {\"colorbar\": {\"outlinewidth\": 0, \"ticks\": \"\"}}, \"type\": \"histogram\"}], \"histogram2d\": [{\"colorbar\": {\"outlinewidth\": 0, \"ticks\": \"\"}, \"colorscale\": [[0.0, \"#0d0887\"], [0.1111111111111111, \"#46039f\"], [0.2222222222222222, \"#7201a8\"], [0.3333333333333333, \"#9c179e\"], [0.4444444444444444, \"#bd3786\"], [0.5555555555555556, \"#d8576b\"], [0.6666666666666666, \"#ed7953\"], [0.7777777777777778, \"#fb9f3a\"], [0.8888888888888888, \"#fdca26\"], [1.0, \"#f0f921\"]], \"type\": \"histogram2d\"}], \"histogram2dcontour\": [{\"colorbar\": {\"outlinewidth\": 0, \"ticks\": \"\"}, \"colorscale\": [[0.0, \"#0d0887\"], [0.1111111111111111, \"#46039f\"], [0.2222222222222222, \"#7201a8\"], [0.3333333333333333, \"#9c179e\"], [0.4444444444444444, \"#bd3786\"], [0.5555555555555556, \"#d8576b\"], [0.6666666666666666, \"#ed7953\"], [0.7777777777777778, \"#fb9f3a\"], [0.8888888888888888, \"#fdca26\"], [1.0, \"#f0f921\"]], \"type\": \"histogram2dcontour\"}], \"mesh3d\": [{\"colorbar\": {\"outlinewidth\": 0, \"ticks\": \"\"}, \"type\": \"mesh3d\"}], \"parcoords\": [{\"line\": {\"colorbar\": {\"outlinewidth\": 0, \"ticks\": \"\"}}, \"type\": \"parcoords\"}], \"pie\": [{\"automargin\": true, \"type\": \"pie\"}], \"scatter\": [{\"marker\": {\"colorbar\": {\"outlinewidth\": 0, \"ticks\": \"\"}}, \"type\": \"scatter\"}], \"scatter3d\": [{\"line\": {\"colorbar\": {\"outlinewidth\": 0, \"ticks\": \"\"}}, \"marker\": {\"colorbar\": {\"outlinewidth\": 0, \"ticks\": \"\"}}, \"type\": \"scatter3d\"}], \"scattercarpet\": [{\"marker\": {\"colorbar\": {\"outlinewidth\": 0, \"ticks\": \"\"}}, \"type\": \"scattercarpet\"}], \"scattergeo\": [{\"marker\": {\"colorbar\": {\"outlinewidth\": 0, \"ticks\": \"\"}}, \"type\": \"scattergeo\"}], \"scattergl\": [{\"marker\": {\"colorbar\": {\"outlinewidth\": 0, \"ticks\": \"\"}}, \"type\": \"scattergl\"}], \"scattermapbox\": [{\"marker\": {\"colorbar\": {\"outlinewidth\": 0, \"ticks\": \"\"}}, \"type\": \"scattermapbox\"}], \"scatterpolar\": [{\"marker\": {\"colorbar\": {\"outlinewidth\": 0, \"ticks\": \"\"}}, \"type\": \"scatterpolar\"}], \"scatterpolargl\": [{\"marker\": {\"colorbar\": {\"outlinewidth\": 0, \"ticks\": \"\"}}, \"type\": \"scatterpolargl\"}], \"scatterternary\": [{\"marker\": {\"colorbar\": {\"outlinewidth\": 0, \"ticks\": \"\"}}, \"type\": \"scatterternary\"}], \"surface\": [{\"colorbar\": {\"outlinewidth\": 0, \"ticks\": \"\"}, \"colorscale\": [[0.0, \"#0d0887\"], [0.1111111111111111, \"#46039f\"], [0.2222222222222222, \"#7201a8\"], [0.3333333333333333, \"#9c179e\"], [0.4444444444444444, \"#bd3786\"], [0.5555555555555556, \"#d8576b\"], [0.6666666666666666, \"#ed7953\"], [0.7777777777777778, \"#fb9f3a\"], [0.8888888888888888, \"#fdca26\"], [1.0, \"#f0f921\"]], \"type\": \"surface\"}], \"table\": [{\"cells\": {\"fill\": {\"color\": \"#EBF0F8\"}, \"line\": {\"color\": \"white\"}}, \"header\": {\"fill\": {\"color\": \"#C8D4E3\"}, \"line\": {\"color\": \"white\"}}, \"type\": \"table\"}]}, \"layout\": {\"annotationdefaults\": {\"arrowcolor\": \"#2a3f5f\", \"arrowhead\": 0, \"arrowwidth\": 1}, \"coloraxis\": {\"colorbar\": {\"outlinewidth\": 0, \"ticks\": \"\"}}, \"colorscale\": {\"diverging\": [[0, \"#8e0152\"], [0.1, \"#c51b7d\"], [0.2, \"#de77ae\"], [0.3, \"#f1b6da\"], [0.4, \"#fde0ef\"], [0.5, \"#f7f7f7\"], [0.6, \"#e6f5d0\"], [0.7, \"#b8e186\"], [0.8, \"#7fbc41\"], [0.9, \"#4d9221\"], [1, \"#276419\"]], \"sequential\": [[0.0, \"#0d0887\"], [0.1111111111111111, \"#46039f\"], [0.2222222222222222, \"#7201a8\"], [0.3333333333333333, \"#9c179e\"], [0.4444444444444444, \"#bd3786\"], [0.5555555555555556, \"#d8576b\"], [0.6666666666666666, \"#ed7953\"], [0.7777777777777778, \"#fb9f3a\"], [0.8888888888888888, \"#fdca26\"], [1.0, \"#f0f921\"]], \"sequentialminus\": [[0.0, \"#0d0887\"], [0.1111111111111111, \"#46039f\"], [0.2222222222222222, \"#7201a8\"], [0.3333333333333333, \"#9c179e\"], [0.4444444444444444, \"#bd3786\"], [0.5555555555555556, \"#d8576b\"], [0.6666666666666666, \"#ed7953\"], [0.7777777777777778, \"#fb9f3a\"], [0.8888888888888888, \"#fdca26\"], [1.0, \"#f0f921\"]]}, \"colorway\": [\"#636efa\", \"#EF553B\", \"#00cc96\", \"#ab63fa\", \"#FFA15A\", \"#19d3f3\", \"#FF6692\", \"#B6E880\", \"#FF97FF\", \"#FECB52\"], \"font\": {\"color\": \"#2a3f5f\"}, \"geo\": {\"bgcolor\": \"white\", \"lakecolor\": \"white\", \"landcolor\": \"#E5ECF6\", \"showlakes\": true, \"showland\": true, \"subunitcolor\": \"white\"}, \"hoverlabel\": {\"align\": \"left\"}, \"hovermode\": \"closest\", \"mapbox\": {\"style\": \"light\"}, \"paper_bgcolor\": \"white\", \"plot_bgcolor\": \"#E5ECF6\", \"polar\": {\"angularaxis\": {\"gridcolor\": \"white\", \"linecolor\": \"white\", \"ticks\": \"\"}, \"bgcolor\": \"#E5ECF6\", \"radialaxis\": {\"gridcolor\": \"white\", \"linecolor\": \"white\", \"ticks\": \"\"}}, \"scene\": {\"xaxis\": {\"backgroundcolor\": \"#E5ECF6\", \"gridcolor\": \"white\", \"gridwidth\": 2, \"linecolor\": \"white\", \"showbackground\": true, \"ticks\": \"\", \"zerolinecolor\": \"white\"}, \"yaxis\": {\"backgroundcolor\": \"#E5ECF6\", \"gridcolor\": \"white\", \"gridwidth\": 2, \"linecolor\": \"white\", \"showbackground\": true, \"ticks\": \"\", \"zerolinecolor\": \"white\"}, \"zaxis\": {\"backgroundcolor\": \"#E5ECF6\", \"gridcolor\": \"white\", \"gridwidth\": 2, \"linecolor\": \"white\", \"showbackground\": true, \"ticks\": \"\", \"zerolinecolor\": \"white\"}}, \"shapedefaults\": {\"line\": {\"color\": \"#2a3f5f\"}}, \"ternary\": {\"aaxis\": {\"gridcolor\": \"white\", \"linecolor\": \"white\", \"ticks\": \"\"}, \"baxis\": {\"gridcolor\": \"white\", \"linecolor\": \"white\", \"ticks\": \"\"}, \"bgcolor\": \"#E5ECF6\", \"caxis\": {\"gridcolor\": \"white\", \"linecolor\": \"white\", \"ticks\": \"\"}}, \"title\": {\"x\": 0.05}, \"xaxis\": {\"automargin\": true, \"gridcolor\": \"white\", \"linecolor\": \"white\", \"ticks\": \"\", \"title\": {\"standoff\": 15}, \"zerolinecolor\": \"white\", \"zerolinewidth\": 2}, \"yaxis\": {\"automargin\": true, \"gridcolor\": \"white\", \"linecolor\": \"white\", \"ticks\": \"\", \"title\": {\"standoff\": 15}, \"zerolinecolor\": \"white\", \"zerolinewidth\": 2}}}, \"title\": {\"text\": \"Indicadores do IDHM e de mobilidade de maior correla\\u00e7\\u00e3o com incid\\u00eancia de COVID-19\"}},\n",
              "                        {\"responsive\": true}\n",
              "                    ).then(function(){\n",
              "                            \n",
              "var gd = document.getElementById('8bb0a097-8490-4619-a353-bd94bd7afc18');\n",
              "var x = new MutationObserver(function (mutations, observer) {{\n",
              "        var display = window.getComputedStyle(gd).display;\n",
              "        if (!display || display === 'none') {{\n",
              "            console.log([gd, 'removed!']);\n",
              "            Plotly.purge(gd);\n",
              "            observer.disconnect();\n",
              "        }}\n",
              "}});\n",
              "\n",
              "// Listen for the removal of the full notebook cells\n",
              "var notebookContainer = gd.closest('#notebook-container');\n",
              "if (notebookContainer) {{\n",
              "    x.observe(notebookContainer, {childList: true});\n",
              "}}\n",
              "\n",
              "// Listen for the clearing of the current output cell\n",
              "var outputEl = gd.closest('.output');\n",
              "if (outputEl) {{\n",
              "    x.observe(outputEl, {childList: true});\n",
              "}}\n",
              "\n",
              "                        })\n",
              "                };\n",
              "                \n",
              "            </script>\n",
              "        </div>\n",
              "</body>\n",
              "</html>"
            ]
          },
          "metadata": {
            "tags": []
          }
        }
      ]
    },
    {
      "cell_type": "code",
      "metadata": {
        "colab": {
          "base_uri": "https://localhost:8080/",
          "height": 347
        },
        "id": "QUMQMVwUUsji",
        "outputId": "cb89f4d6-fb2e-456a-90c0-3d70abad45fe"
      },
      "source": [
        "corr_abs_incidencia"
      ],
      "execution_count": null,
      "outputs": [
        {
          "output_type": "execute_result",
          "data": {
            "text/html": [
              "<div>\n",
              "<style scoped>\n",
              "    .dataframe tbody tr th:only-of-type {\n",
              "        vertical-align: middle;\n",
              "    }\n",
              "\n",
              "    .dataframe tbody tr th {\n",
              "        vertical-align: top;\n",
              "    }\n",
              "\n",
              "    .dataframe thead th {\n",
              "        text-align: right;\n",
              "    }\n",
              "</style>\n",
              "<table border=\"1\" class=\"dataframe\">\n",
              "  <thead>\n",
              "    <tr style=\"text-align: right;\">\n",
              "      <th></th>\n",
              "      <th>indicador</th>\n",
              "      <th>last_available_confirmed_per_100k_inhabitants</th>\n",
              "    </tr>\n",
              "  </thead>\n",
              "  <tbody>\n",
              "    <tr>\n",
              "      <th>2</th>\n",
              "      <td>T_FREQSUPER1517</td>\n",
              "      <td>0.473781</td>\n",
              "    </tr>\n",
              "    <tr>\n",
              "      <th>3</th>\n",
              "      <td>T_OCUPDESLOC_1</td>\n",
              "      <td>0.440972</td>\n",
              "    </tr>\n",
              "    <tr>\n",
              "      <th>4</th>\n",
              "      <td>T_FLSUPER</td>\n",
              "      <td>0.440188</td>\n",
              "    </tr>\n",
              "    <tr>\n",
              "      <th>5</th>\n",
              "      <td>EMP</td>\n",
              "      <td>0.434862</td>\n",
              "    </tr>\n",
              "    <tr>\n",
              "      <th>6</th>\n",
              "      <td>T_SUPER25M</td>\n",
              "      <td>0.368185</td>\n",
              "    </tr>\n",
              "    <tr>\n",
              "      <th>7</th>\n",
              "      <td>T_DES2529</td>\n",
              "      <td>0.359023</td>\n",
              "    </tr>\n",
              "    <tr>\n",
              "      <th>8</th>\n",
              "      <td>IDHM_R</td>\n",
              "      <td>0.357271</td>\n",
              "    </tr>\n",
              "    <tr>\n",
              "      <th>9</th>\n",
              "      <td>RDPC</td>\n",
              "      <td>0.348653</td>\n",
              "    </tr>\n",
              "    <tr>\n",
              "      <th>10</th>\n",
              "      <td>P_SUPER</td>\n",
              "      <td>0.346374</td>\n",
              "    </tr>\n",
              "    <tr>\n",
              "      <th>11</th>\n",
              "      <td>T_DENS</td>\n",
              "      <td>0.302797</td>\n",
              "    </tr>\n",
              "  </tbody>\n",
              "</table>\n",
              "</div>"
            ],
            "text/plain": [
              "          indicador  last_available_confirmed_per_100k_inhabitants\n",
              "2   T_FREQSUPER1517                                       0.473781\n",
              "3    T_OCUPDESLOC_1                                       0.440972\n",
              "4         T_FLSUPER                                       0.440188\n",
              "5               EMP                                       0.434862\n",
              "6        T_SUPER25M                                       0.368185\n",
              "7         T_DES2529                                       0.359023\n",
              "8            IDHM_R                                       0.357271\n",
              "9              RDPC                                       0.348653\n",
              "10          P_SUPER                                       0.346374\n",
              "11           T_DENS                                       0.302797"
            ]
          },
          "metadata": {
            "tags": []
          },
          "execution_count": 69
        }
      ]
    },
    {
      "cell_type": "code",
      "metadata": {
        "colab": {
          "base_uri": "https://localhost:8080/"
        },
        "id": "KDs8AanzVa3U",
        "outputId": "3a955aba-e5f3-43c5-e901-8d8b765475f7"
      },
      "source": [
        "corr_abs_incidencia.drop(corr_abs_incidencia.loc[(corr_abs_incidencia['indicador'] == \"last_available_death_rate\")].index, inplace=True)\n",
        "corr_abs_incidencia.drop(corr_abs_incidencia.loc[(corr_abs_incidencia['indicador'] == \"last_available_confirmed_per_100k_inhabitants\")].index, inplace=True)\n",
        "corr_absl_incidencia = corr_abs_incidencia.indicador.to_list()\n",
        "corr_absl_incidencia"
      ],
      "execution_count": null,
      "outputs": [
        {
          "output_type": "execute_result",
          "data": {
            "text/plain": [
              "['T_FREQSUPER1517',\n",
              " 'T_OCUPDESLOC_1',\n",
              " 'T_FLSUPER',\n",
              " 'EMP',\n",
              " 'T_SUPER25M',\n",
              " 'T_DES2529',\n",
              " 'IDHM_R',\n",
              " 'RDPC',\n",
              " 'P_SUPER',\n",
              " 'T_DENS']"
            ]
          },
          "metadata": {
            "tags": []
          },
          "execution_count": 66
        }
      ]
    },
    {
      "cell_type": "code",
      "metadata": {
        "id": "N8cBNz1dWBUU"
      },
      "source": [
        "#fazer a regressao linear de incidência"
      ],
      "execution_count": null,
      "outputs": []
    }
  ]
}