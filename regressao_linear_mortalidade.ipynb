{
  "nbformat": 4,
  "nbformat_minor": 0,
  "metadata": {
    "colab": {
      "name": "regressao-linear-mortalidade.ipynb",
      "provenance": [],
      "collapsed_sections": [],
      "authorship_tag": "ABX9TyNfgEOH77aO6jgxmig2BAm3",
      "include_colab_link": true
    },
    "kernelspec": {
      "name": "python3",
      "display_name": "Python 3"
    }
  },
  "cells": [
    {
      "cell_type": "markdown",
      "metadata": {
        "id": "view-in-github",
        "colab_type": "text"
      },
      "source": [
        "<a href=\"https://colab.research.google.com/github/mirianbatista/covid-fatores/blob/master/regressao_linear_mortalidade.ipynb\" target=\"_parent\"><img src=\"https://colab.research.google.com/assets/colab-badge.svg\" alt=\"Open In Colab\"/></a>"
      ]
    },
    {
      "cell_type": "code",
      "metadata": {
        "id": "TMEGspqnC8ek"
      },
      "source": [
        "import pandas as pd\n",
        "import requests\n",
        "import io\n",
        "import gzip\n",
        "from sklearn.model_selection import train_test_split\n",
        "from sklearn.linear_model import LinearRegression\n",
        "from sklearn.metrics import mean_squared_error, r2_score\n",
        "import plotly.graph_objects as go\n",
        "import seaborn as sns"
      ],
      "execution_count": null,
      "outputs": []
    },
    {
      "cell_type": "code",
      "metadata": {
        "id": "Tip46VmsDw2b"
      },
      "source": [
        "indicadores = 'ANO', 'Codmun7', 'UF', 'Município', 'ESPVIDA', 'FECTOT', 'MORT1', 'SOBRE60', 'T_ENV', 'E_ANOSESTUDO', 'T_ANALF11A14', 'T_ANALF25M', 'T_ATRASO_0_BASICO', 'T_ATRASO_2_BASICO', 'T_FLPRE', 'T_FLSUPER', 'T_FREQSUPER1517', 'T_SUPER25M', 'T_MED25M', 'GINI', 'PIND', 'PINDCRI', 'PMPOB', 'PMPOBCRI', 'RDPC', 'CPR', 'EMP', 'P_AGRO', 'P_COM', 'P_CONSTR', 'P_EXTR', 'P_FORMAL', 'P_FUND', 'P_MED', 'P_SERV', 'P_SIUP', 'P_SUPER', 'T_DES2529', 'TRABCC', 'TRABPUB', 'TRABSC', 'T_AGUA', 'T_BANAGUA', 'T_DENS', 'T_LIXO', 'T_LUZ', 'AGUA_ESGOTO', 'PAREDE', 'T_CRIFUNDIN_TODOS', 'T_FORA4A5', 'T_FORA6A14', 'T_FUNDIN_TODOS', 'T_FUNDIN_TODOS_MMEIO', 'T_FUNDIN18MINF', 'T_M10A14CF', 'T_M15A17CF', 'T_MULCHEFEFIF014', 'T_NESTUDA_NTRAB_MMEIO', 'T_OCUPDESLOC_1', 'T_RMAXIDOSO', 'T_SLUZ', 'HOMEMTOT', 'MULHERTOT', 'pesoRUR', 'pesotot', 'pesourb', 'POP', 'IDHM', 'IDHM_E', 'IDHM_L', 'IDHM_R' \n",
        "idhm = pd.read_excel('https://github.com/mirianbatista/idhm-pb/blob/master/atlas2013_dadosbrutos_pt.xlsx?raw=true', sheet_name=1, #usecols = indicadores, \n",
        "                     dtype = {'UF': str, 'Codmun7':str}) \n",
        "#idhmpb = idhm.groupby(idhm['UF']).get_group('25').loc[(idhm['ANO'] == 2010)] "
      ],
      "execution_count": null,
      "outputs": []
    },
    {
      "cell_type": "code",
      "metadata": {
        "colab": {
          "base_uri": "https://localhost:8080/"
        },
        "id": "OaCjRU-VOXa8",
        "outputId": "f014dbda-3450-4d0f-9d17-01478d7125f4"
      },
      "source": [
        "idhm.info()"
      ],
      "execution_count": null,
      "outputs": [
        {
          "output_type": "stream",
          "text": [
            "<class 'pandas.core.frame.DataFrame'>\n",
            "RangeIndex: 16695 entries, 0 to 16694\n",
            "Columns: 237 entries, ANO to IDHM_R\n",
            "dtypes: float64(167), int64(67), object(3)\n",
            "memory usage: 30.2+ MB\n"
          ],
          "name": "stdout"
        }
      ]
    },
    {
      "cell_type": "code",
      "metadata": {
        "id": "sQZcCJkbD6Sx",
        "colab": {
          "base_uri": "https://localhost:8080/",
          "height": 414
        },
        "outputId": "a3004834-afb7-4430-e885-d57491ae0067"
      },
      "source": [
        "url = \"https://data.brasil.io/dataset/covid19/caso_full.csv.gz\"\n",
        "cols = 'city','city_ibge_code','date','estimated_population_2019','last_available_death_rate'\n",
        "response = requests.get(url)\n",
        "bytes_io = io.BytesIO(response.content)\n",
        "with gzip.open(bytes_io, 'rt') as read_file:\n",
        "    covid = pd.read_csv(read_file, usecols=cols, parse_dates=[\"date\"], dtype={\"city_ibge_code\": str})\n",
        "covid = covid[covid.date == max(covid.date)]\n",
        "covid"
      ],
      "execution_count": null,
      "outputs": [
        {
          "output_type": "execute_result",
          "data": {
            "text/html": [
              "<div>\n",
              "<style scoped>\n",
              "    .dataframe tbody tr th:only-of-type {\n",
              "        vertical-align: middle;\n",
              "    }\n",
              "\n",
              "    .dataframe tbody tr th {\n",
              "        vertical-align: top;\n",
              "    }\n",
              "\n",
              "    .dataframe thead th {\n",
              "        text-align: right;\n",
              "    }\n",
              "</style>\n",
              "<table border=\"1\" class=\"dataframe\">\n",
              "  <thead>\n",
              "    <tr style=\"text-align: right;\">\n",
              "      <th></th>\n",
              "      <th>city</th>\n",
              "      <th>city_ibge_code</th>\n",
              "      <th>date</th>\n",
              "      <th>estimated_population_2019</th>\n",
              "      <th>last_available_death_rate</th>\n",
              "    </tr>\n",
              "  </thead>\n",
              "  <tbody>\n",
              "    <tr>\n",
              "      <th>9457</th>\n",
              "      <td>Acrelândia</td>\n",
              "      <td>1200013</td>\n",
              "      <td>2021-06-10</td>\n",
              "      <td>15256.0</td>\n",
              "      <td>0.0212</td>\n",
              "    </tr>\n",
              "    <tr>\n",
              "      <th>9458</th>\n",
              "      <td>Assis Brasil</td>\n",
              "      <td>1200054</td>\n",
              "      <td>2021-06-10</td>\n",
              "      <td>7417.0</td>\n",
              "      <td>0.0144</td>\n",
              "    </tr>\n",
              "    <tr>\n",
              "      <th>9459</th>\n",
              "      <td>Brasiléia</td>\n",
              "      <td>1200104</td>\n",
              "      <td>2021-06-10</td>\n",
              "      <td>26278.0</td>\n",
              "      <td>0.0137</td>\n",
              "    </tr>\n",
              "    <tr>\n",
              "      <th>9460</th>\n",
              "      <td>Bujari</td>\n",
              "      <td>1200138</td>\n",
              "      <td>2021-06-10</td>\n",
              "      <td>10266.0</td>\n",
              "      <td>0.0152</td>\n",
              "    </tr>\n",
              "    <tr>\n",
              "      <th>9461</th>\n",
              "      <td>Capixaba</td>\n",
              "      <td>1200179</td>\n",
              "      <td>2021-06-10</td>\n",
              "      <td>11733.0</td>\n",
              "      <td>0.0265</td>\n",
              "    </tr>\n",
              "    <tr>\n",
              "      <th>...</th>\n",
              "      <td>...</td>\n",
              "      <td>...</td>\n",
              "      <td>...</td>\n",
              "      <td>...</td>\n",
              "      <td>...</td>\n",
              "    </tr>\n",
              "    <tr>\n",
              "      <th>2225003</th>\n",
              "      <td>Tupirama</td>\n",
              "      <td>1721257</td>\n",
              "      <td>2021-06-10</td>\n",
              "      <td>1891.0</td>\n",
              "      <td>0.0139</td>\n",
              "    </tr>\n",
              "    <tr>\n",
              "      <th>2225004</th>\n",
              "      <td>Tupiratins</td>\n",
              "      <td>1721307</td>\n",
              "      <td>2021-06-10</td>\n",
              "      <td>2671.0</td>\n",
              "      <td>0.0108</td>\n",
              "    </tr>\n",
              "    <tr>\n",
              "      <th>2225005</th>\n",
              "      <td>Wanderlândia</td>\n",
              "      <td>1722081</td>\n",
              "      <td>2021-06-10</td>\n",
              "      <td>11683.0</td>\n",
              "      <td>0.0149</td>\n",
              "    </tr>\n",
              "    <tr>\n",
              "      <th>2225006</th>\n",
              "      <td>Xambioá</td>\n",
              "      <td>1722107</td>\n",
              "      <td>2021-06-10</td>\n",
              "      <td>11540.0</td>\n",
              "      <td>0.0129</td>\n",
              "    </tr>\n",
              "    <tr>\n",
              "      <th>2225007</th>\n",
              "      <td>NaN</td>\n",
              "      <td>17</td>\n",
              "      <td>2021-06-10</td>\n",
              "      <td>1572866.0</td>\n",
              "      <td>0.0161</td>\n",
              "    </tr>\n",
              "  </tbody>\n",
              "</table>\n",
              "<p>5616 rows × 5 columns</p>\n",
              "</div>"
            ],
            "text/plain": [
              "                 city  ... last_available_death_rate\n",
              "9457       Acrelândia  ...                    0.0212\n",
              "9458     Assis Brasil  ...                    0.0144\n",
              "9459        Brasiléia  ...                    0.0137\n",
              "9460           Bujari  ...                    0.0152\n",
              "9461         Capixaba  ...                    0.0265\n",
              "...               ...  ...                       ...\n",
              "2225003      Tupirama  ...                    0.0139\n",
              "2225004    Tupiratins  ...                    0.0108\n",
              "2225005  Wanderlândia  ...                    0.0149\n",
              "2225006       Xambioá  ...                    0.0129\n",
              "2225007           NaN  ...                    0.0161\n",
              "\n",
              "[5616 rows x 5 columns]"
            ]
          },
          "metadata": {
            "tags": []
          },
          "execution_count": 4
        }
      ]
    },
    {
      "cell_type": "code",
      "metadata": {
        "colab": {
          "base_uri": "https://localhost:8080/",
          "height": 334
        },
        "id": "7oIkN1AL4qrW",
        "outputId": "5cb908a3-e69a-494b-e1af-7c91b8932b71"
      },
      "source": [
        "idhmcovid = pd.merge(idhm, covid, left_on=\"Codmun7\", right_on=\"city_ibge_code\", how=\"left\") \n",
        "idhmcovid = idhmcovid.loc[(idhmcovid['estimated_population_2019'] > 100000) & (idhmcovid['ANO'] == 2010)].dropna()\n",
        "idhmcovid.head()"
      ],
      "execution_count": null,
      "outputs": [
        {
          "output_type": "execute_result",
          "data": {
            "text/html": [
              "<div>\n",
              "<style scoped>\n",
              "    .dataframe tbody tr th:only-of-type {\n",
              "        vertical-align: middle;\n",
              "    }\n",
              "\n",
              "    .dataframe tbody tr th {\n",
              "        vertical-align: top;\n",
              "    }\n",
              "\n",
              "    .dataframe thead th {\n",
              "        text-align: right;\n",
              "    }\n",
              "</style>\n",
              "<table border=\"1\" class=\"dataframe\">\n",
              "  <thead>\n",
              "    <tr style=\"text-align: right;\">\n",
              "      <th></th>\n",
              "      <th>ANO</th>\n",
              "      <th>UF</th>\n",
              "      <th>Codmun6</th>\n",
              "      <th>Codmun7</th>\n",
              "      <th>Município</th>\n",
              "      <th>ESPVIDA</th>\n",
              "      <th>FECTOT</th>\n",
              "      <th>MORT1</th>\n",
              "      <th>MORT5</th>\n",
              "      <th>RAZDEP</th>\n",
              "      <th>SOBRE40</th>\n",
              "      <th>SOBRE60</th>\n",
              "      <th>T_ENV</th>\n",
              "      <th>E_ANOSESTUDO</th>\n",
              "      <th>T_ANALF11A14</th>\n",
              "      <th>T_ANALF15A17</th>\n",
              "      <th>T_ANALF15M</th>\n",
              "      <th>T_ANALF18A24</th>\n",
              "      <th>T_ANALF18M</th>\n",
              "      <th>T_ANALF25A29</th>\n",
              "      <th>T_ANALF25M</th>\n",
              "      <th>T_ATRASO_0_BASICO</th>\n",
              "      <th>T_ATRASO_0_FUND</th>\n",
              "      <th>T_ATRASO_0_MED</th>\n",
              "      <th>T_ATRASO_1_BASICO</th>\n",
              "      <th>T_ATRASO_1_FUND</th>\n",
              "      <th>T_ATRASO_1_MED</th>\n",
              "      <th>T_ATRASO_2_BASICO</th>\n",
              "      <th>T_ATRASO_2_FUND</th>\n",
              "      <th>T_ATRASO_2_MED</th>\n",
              "      <th>T_FBBAS</th>\n",
              "      <th>T_FBFUND</th>\n",
              "      <th>T_FBMED</th>\n",
              "      <th>T_FBPRE</th>\n",
              "      <th>T_FBSUPER</th>\n",
              "      <th>T_FLBAS</th>\n",
              "      <th>T_FLFUND</th>\n",
              "      <th>T_FLMED</th>\n",
              "      <th>T_FLPRE</th>\n",
              "      <th>T_FLSUPER</th>\n",
              "      <th>...</th>\n",
              "      <th>peso13</th>\n",
              "      <th>PESO15</th>\n",
              "      <th>peso1517</th>\n",
              "      <th>PESO1524</th>\n",
              "      <th>PESO1618</th>\n",
              "      <th>PESO18</th>\n",
              "      <th>Peso1820</th>\n",
              "      <th>PESO1824</th>\n",
              "      <th>Peso1921</th>\n",
              "      <th>PESO25</th>\n",
              "      <th>peso4</th>\n",
              "      <th>peso5</th>\n",
              "      <th>peso6</th>\n",
              "      <th>PESO610</th>\n",
              "      <th>Peso617</th>\n",
              "      <th>PESO65</th>\n",
              "      <th>PESOM1014</th>\n",
              "      <th>PESOM1517</th>\n",
              "      <th>PESOM15M</th>\n",
              "      <th>PESOM25M</th>\n",
              "      <th>pesoRUR</th>\n",
              "      <th>pesotot</th>\n",
              "      <th>pesourb</th>\n",
              "      <th>PIA</th>\n",
              "      <th>PIA1014</th>\n",
              "      <th>PIA1517</th>\n",
              "      <th>PIA18M</th>\n",
              "      <th>POP</th>\n",
              "      <th>POPT</th>\n",
              "      <th>I_ESCOLARIDADE</th>\n",
              "      <th>I_FREQ_PROP</th>\n",
              "      <th>IDHM</th>\n",
              "      <th>IDHM_E</th>\n",
              "      <th>IDHM_L</th>\n",
              "      <th>IDHM_R</th>\n",
              "      <th>city</th>\n",
              "      <th>city_ibge_code</th>\n",
              "      <th>date</th>\n",
              "      <th>estimated_population_2019</th>\n",
              "      <th>last_available_death_rate</th>\n",
              "    </tr>\n",
              "  </thead>\n",
              "  <tbody>\n",
              "    <tr>\n",
              "      <th>11131</th>\n",
              "      <td>2010</td>\n",
              "      <td>11</td>\n",
              "      <td>110002</td>\n",
              "      <td>1100023</td>\n",
              "      <td>ARIQUEMES</td>\n",
              "      <td>73.36</td>\n",
              "      <td>1.91</td>\n",
              "      <td>19.20</td>\n",
              "      <td>20.53</td>\n",
              "      <td>46.68</td>\n",
              "      <td>96.12</td>\n",
              "      <td>87.69</td>\n",
              "      <td>4.36</td>\n",
              "      <td>9.18</td>\n",
              "      <td>1.55</td>\n",
              "      <td>1.09</td>\n",
              "      <td>7.90</td>\n",
              "      <td>1.13</td>\n",
              "      <td>8.53</td>\n",
              "      <td>1.89</td>\n",
              "      <td>10.48</td>\n",
              "      <td>58.43</td>\n",
              "      <td>60.96</td>\n",
              "      <td>72.93</td>\n",
              "      <td>22.22</td>\n",
              "      <td>22.30</td>\n",
              "      <td>23.11</td>\n",
              "      <td>19.35</td>\n",
              "      <td>16.74</td>\n",
              "      <td>3.96</td>\n",
              "      <td>94.78</td>\n",
              "      <td>106.62</td>\n",
              "      <td>58.77</td>\n",
              "      <td>46.92</td>\n",
              "      <td>27.95</td>\n",
              "      <td>85.46</td>\n",
              "      <td>91.31</td>\n",
              "      <td>37.07</td>\n",
              "      <td>40.96</td>\n",
              "      <td>12.91</td>\n",
              "      <td>...</td>\n",
              "      <td>4270</td>\n",
              "      <td>65521</td>\n",
              "      <td>5497</td>\n",
              "      <td>18019</td>\n",
              "      <td>5420</td>\n",
              "      <td>60024</td>\n",
              "      <td>5330</td>\n",
              "      <td>12522</td>\n",
              "      <td>5360</td>\n",
              "      <td>47502</td>\n",
              "      <td>1522</td>\n",
              "      <td>1565</td>\n",
              "      <td>1564</td>\n",
              "      <td>8593</td>\n",
              "      <td>19709</td>\n",
              "      <td>3943</td>\n",
              "      <td>4515</td>\n",
              "      <td>2739</td>\n",
              "      <td>32552</td>\n",
              "      <td>23467</td>\n",
              "      <td>13828</td>\n",
              "      <td>90353</td>\n",
              "      <td>76525</td>\n",
              "      <td>74725.0</td>\n",
              "      <td>9256.0</td>\n",
              "      <td>5256.0</td>\n",
              "      <td>60213.0</td>\n",
              "      <td>89766</td>\n",
              "      <td>88730</td>\n",
              "      <td>0.514</td>\n",
              "      <td>0.648</td>\n",
              "      <td>0.702</td>\n",
              "      <td>0.600</td>\n",
              "      <td>0.806</td>\n",
              "      <td>0.716</td>\n",
              "      <td>Ariquemes</td>\n",
              "      <td>1100023</td>\n",
              "      <td>2021-06-10</td>\n",
              "      <td>107863.0</td>\n",
              "      <td>0.0220</td>\n",
              "    </tr>\n",
              "    <tr>\n",
              "      <th>11141</th>\n",
              "      <td>2010</td>\n",
              "      <td>11</td>\n",
              "      <td>110012</td>\n",
              "      <td>1100122</td>\n",
              "      <td>JI-PARANÁ</td>\n",
              "      <td>73.60</td>\n",
              "      <td>2.26</td>\n",
              "      <td>16.20</td>\n",
              "      <td>17.43</td>\n",
              "      <td>43.98</td>\n",
              "      <td>96.11</td>\n",
              "      <td>87.67</td>\n",
              "      <td>5.05</td>\n",
              "      <td>9.95</td>\n",
              "      <td>1.35</td>\n",
              "      <td>1.00</td>\n",
              "      <td>7.79</td>\n",
              "      <td>1.20</td>\n",
              "      <td>8.38</td>\n",
              "      <td>1.57</td>\n",
              "      <td>10.18</td>\n",
              "      <td>64.76</td>\n",
              "      <td>70.99</td>\n",
              "      <td>67.15</td>\n",
              "      <td>18.81</td>\n",
              "      <td>16.60</td>\n",
              "      <td>25.40</td>\n",
              "      <td>16.43</td>\n",
              "      <td>12.41</td>\n",
              "      <td>7.45</td>\n",
              "      <td>97.29</td>\n",
              "      <td>109.08</td>\n",
              "      <td>67.27</td>\n",
              "      <td>47.06</td>\n",
              "      <td>27.38</td>\n",
              "      <td>87.51</td>\n",
              "      <td>91.15</td>\n",
              "      <td>45.02</td>\n",
              "      <td>42.60</td>\n",
              "      <td>12.65</td>\n",
              "      <td>...</td>\n",
              "      <td>5500</td>\n",
              "      <td>86875</td>\n",
              "      <td>6976</td>\n",
              "      <td>22945</td>\n",
              "      <td>6839</td>\n",
              "      <td>79899</td>\n",
              "      <td>6734</td>\n",
              "      <td>15969</td>\n",
              "      <td>6792</td>\n",
              "      <td>63930</td>\n",
              "      <td>1909</td>\n",
              "      <td>1939</td>\n",
              "      <td>1912</td>\n",
              "      <td>9976</td>\n",
              "      <td>23290</td>\n",
              "      <td>5887</td>\n",
              "      <td>5317</td>\n",
              "      <td>3491</td>\n",
              "      <td>44200</td>\n",
              "      <td>32591</td>\n",
              "      <td>11752</td>\n",
              "      <td>116610</td>\n",
              "      <td>104858</td>\n",
              "      <td>97571.0</td>\n",
              "      <td>10727.0</td>\n",
              "      <td>7195.0</td>\n",
              "      <td>79649.0</td>\n",
              "      <td>115896</td>\n",
              "      <td>115322</td>\n",
              "      <td>0.532</td>\n",
              "      <td>0.664</td>\n",
              "      <td>0.714</td>\n",
              "      <td>0.617</td>\n",
              "      <td>0.810</td>\n",
              "      <td>0.728</td>\n",
              "      <td>Ji-Paraná</td>\n",
              "      <td>1100122</td>\n",
              "      <td>2021-06-10</td>\n",
              "      <td>128969.0</td>\n",
              "      <td>0.0293</td>\n",
              "    </tr>\n",
              "    <tr>\n",
              "      <th>11146</th>\n",
              "      <td>2010</td>\n",
              "      <td>11</td>\n",
              "      <td>110020</td>\n",
              "      <td>1100205</td>\n",
              "      <td>PORTO VELHO</td>\n",
              "      <td>74.14</td>\n",
              "      <td>2.13</td>\n",
              "      <td>15.52</td>\n",
              "      <td>16.60</td>\n",
              "      <td>42.97</td>\n",
              "      <td>96.42</td>\n",
              "      <td>88.56</td>\n",
              "      <td>3.52</td>\n",
              "      <td>8.99</td>\n",
              "      <td>1.85</td>\n",
              "      <td>1.28</td>\n",
              "      <td>5.10</td>\n",
              "      <td>1.20</td>\n",
              "      <td>5.43</td>\n",
              "      <td>1.66</td>\n",
              "      <td>6.62</td>\n",
              "      <td>56.08</td>\n",
              "      <td>60.78</td>\n",
              "      <td>66.98</td>\n",
              "      <td>21.49</td>\n",
              "      <td>21.56</td>\n",
              "      <td>23.51</td>\n",
              "      <td>22.43</td>\n",
              "      <td>17.66</td>\n",
              "      <td>9.51</td>\n",
              "      <td>96.90</td>\n",
              "      <td>111.14</td>\n",
              "      <td>57.31</td>\n",
              "      <td>51.70</td>\n",
              "      <td>33.41</td>\n",
              "      <td>84.89</td>\n",
              "      <td>90.61</td>\n",
              "      <td>34.79</td>\n",
              "      <td>43.16</td>\n",
              "      <td>15.84</td>\n",
              "      <td>...</td>\n",
              "      <td>21460</td>\n",
              "      <td>314653</td>\n",
              "      <td>25250</td>\n",
              "      <td>88605</td>\n",
              "      <td>25001</td>\n",
              "      <td>289403</td>\n",
              "      <td>25816</td>\n",
              "      <td>63355</td>\n",
              "      <td>26638</td>\n",
              "      <td>226048</td>\n",
              "      <td>7011</td>\n",
              "      <td>7389</td>\n",
              "      <td>7151</td>\n",
              "      <td>38049</td>\n",
              "      <td>87846</td>\n",
              "      <td>15099</td>\n",
              "      <td>20462</td>\n",
              "      <td>12641</td>\n",
              "      <td>154878</td>\n",
              "      <td>111516</td>\n",
              "      <td>37794</td>\n",
              "      <td>428527</td>\n",
              "      <td>390733</td>\n",
              "      <td>356826.0</td>\n",
              "      <td>41256.0</td>\n",
              "      <td>25331.0</td>\n",
              "      <td>290239.0</td>\n",
              "      <td>422555</td>\n",
              "      <td>419354</td>\n",
              "      <td>0.619</td>\n",
              "      <td>0.647</td>\n",
              "      <td>0.736</td>\n",
              "      <td>0.638</td>\n",
              "      <td>0.819</td>\n",
              "      <td>0.764</td>\n",
              "      <td>Porto Velho</td>\n",
              "      <td>1100205</td>\n",
              "      <td>2021-06-10</td>\n",
              "      <td>529544.0</td>\n",
              "      <td>0.0303</td>\n",
              "    </tr>\n",
              "    <tr>\n",
              "      <th>11196</th>\n",
              "      <td>2010</td>\n",
              "      <td>12</td>\n",
              "      <td>120040</td>\n",
              "      <td>1200401</td>\n",
              "      <td>RIO BRANCO</td>\n",
              "      <td>72.85</td>\n",
              "      <td>2.06</td>\n",
              "      <td>20.03</td>\n",
              "      <td>21.37</td>\n",
              "      <td>50.39</td>\n",
              "      <td>95.37</td>\n",
              "      <td>86.48</td>\n",
              "      <td>4.31</td>\n",
              "      <td>9.72</td>\n",
              "      <td>2.48</td>\n",
              "      <td>1.81</td>\n",
              "      <td>9.03</td>\n",
              "      <td>2.35</td>\n",
              "      <td>9.71</td>\n",
              "      <td>3.44</td>\n",
              "      <td>11.76</td>\n",
              "      <td>66.87</td>\n",
              "      <td>69.08</td>\n",
              "      <td>74.31</td>\n",
              "      <td>18.68</td>\n",
              "      <td>17.53</td>\n",
              "      <td>21.36</td>\n",
              "      <td>14.45</td>\n",
              "      <td>13.39</td>\n",
              "      <td>4.33</td>\n",
              "      <td>94.30</td>\n",
              "      <td>102.38</td>\n",
              "      <td>70.68</td>\n",
              "      <td>57.85</td>\n",
              "      <td>36.59</td>\n",
              "      <td>84.44</td>\n",
              "      <td>89.88</td>\n",
              "      <td>45.78</td>\n",
              "      <td>51.05</td>\n",
              "      <td>15.18</td>\n",
              "      <td>...</td>\n",
              "      <td>18320</td>\n",
              "      <td>237875</td>\n",
              "      <td>20631</td>\n",
              "      <td>67915</td>\n",
              "      <td>20163</td>\n",
              "      <td>217244</td>\n",
              "      <td>20134</td>\n",
              "      <td>47284</td>\n",
              "      <td>20168</td>\n",
              "      <td>169960</td>\n",
              "      <td>6302</td>\n",
              "      <td>6307</td>\n",
              "      <td>6248</td>\n",
              "      <td>33067</td>\n",
              "      <td>75361</td>\n",
              "      <td>14480</td>\n",
              "      <td>17760</td>\n",
              "      <td>10629</td>\n",
              "      <td>123995</td>\n",
              "      <td>88970</td>\n",
              "      <td>27493</td>\n",
              "      <td>336038</td>\n",
              "      <td>308545</td>\n",
              "      <td>273669.0</td>\n",
              "      <td>35699.0</td>\n",
              "      <td>20942.0</td>\n",
              "      <td>217028.0</td>\n",
              "      <td>333052</td>\n",
              "      <td>328655</td>\n",
              "      <td>0.607</td>\n",
              "      <td>0.690</td>\n",
              "      <td>0.727</td>\n",
              "      <td>0.661</td>\n",
              "      <td>0.798</td>\n",
              "      <td>0.729</td>\n",
              "      <td>Rio Branco</td>\n",
              "      <td>1200401</td>\n",
              "      <td>2021-06-10</td>\n",
              "      <td>407319.0</td>\n",
              "      <td>0.0278</td>\n",
              "    </tr>\n",
              "    <tr>\n",
              "      <th>11232</th>\n",
              "      <td>2010</td>\n",
              "      <td>13</td>\n",
              "      <td>130190</td>\n",
              "      <td>1301902</td>\n",
              "      <td>ITACOATIARA</td>\n",
              "      <td>73.66</td>\n",
              "      <td>2.84</td>\n",
              "      <td>15.31</td>\n",
              "      <td>16.39</td>\n",
              "      <td>68.47</td>\n",
              "      <td>96.19</td>\n",
              "      <td>87.71</td>\n",
              "      <td>5.03</td>\n",
              "      <td>8.76</td>\n",
              "      <td>5.66</td>\n",
              "      <td>2.37</td>\n",
              "      <td>9.12</td>\n",
              "      <td>2.68</td>\n",
              "      <td>9.94</td>\n",
              "      <td>3.41</td>\n",
              "      <td>11.96</td>\n",
              "      <td>53.75</td>\n",
              "      <td>57.56</td>\n",
              "      <td>67.03</td>\n",
              "      <td>20.76</td>\n",
              "      <td>20.51</td>\n",
              "      <td>24.04</td>\n",
              "      <td>25.49</td>\n",
              "      <td>21.93</td>\n",
              "      <td>8.93</td>\n",
              "      <td>104.53</td>\n",
              "      <td>115.77</td>\n",
              "      <td>67.74</td>\n",
              "      <td>32.20</td>\n",
              "      <td>16.99</td>\n",
              "      <td>86.25</td>\n",
              "      <td>90.63</td>\n",
              "      <td>33.19</td>\n",
              "      <td>25.48</td>\n",
              "      <td>6.75</td>\n",
              "      <td>...</td>\n",
              "      <td>5848</td>\n",
              "      <td>55914</td>\n",
              "      <td>6046</td>\n",
              "      <td>16880</td>\n",
              "      <td>5582</td>\n",
              "      <td>49868</td>\n",
              "      <td>4754</td>\n",
              "      <td>10834</td>\n",
              "      <td>4544</td>\n",
              "      <td>39034</td>\n",
              "      <td>2030</td>\n",
              "      <td>2087</td>\n",
              "      <td>2049</td>\n",
              "      <td>10630</td>\n",
              "      <td>23316</td>\n",
              "      <td>4369</td>\n",
              "      <td>5321</td>\n",
              "      <td>2977</td>\n",
              "      <td>27247</td>\n",
              "      <td>18956</td>\n",
              "      <td>28682</td>\n",
              "      <td>86839</td>\n",
              "      <td>58157</td>\n",
              "      <td>66688.0</td>\n",
              "      <td>10748.0</td>\n",
              "      <td>5853.0</td>\n",
              "      <td>50087.0</td>\n",
              "      <td>86395</td>\n",
              "      <td>82711</td>\n",
              "      <td>0.463</td>\n",
              "      <td>0.573</td>\n",
              "      <td>0.644</td>\n",
              "      <td>0.534</td>\n",
              "      <td>0.811</td>\n",
              "      <td>0.618</td>\n",
              "      <td>Itacoatiara</td>\n",
              "      <td>1301902</td>\n",
              "      <td>2021-06-10</td>\n",
              "      <td>101337.0</td>\n",
              "      <td>0.0348</td>\n",
              "    </tr>\n",
              "  </tbody>\n",
              "</table>\n",
              "<p>5 rows × 242 columns</p>\n",
              "</div>"
            ],
            "text/plain": [
              "        ANO  UF  ...  estimated_population_2019 last_available_death_rate\n",
              "11131  2010  11  ...                   107863.0                    0.0220\n",
              "11141  2010  11  ...                   128969.0                    0.0293\n",
              "11146  2010  11  ...                   529544.0                    0.0303\n",
              "11196  2010  12  ...                   407319.0                    0.0278\n",
              "11232  2010  13  ...                   101337.0                    0.0348\n",
              "\n",
              "[5 rows x 242 columns]"
            ]
          },
          "metadata": {
            "tags": []
          },
          "execution_count": 5
        }
      ]
    },
    {
      "cell_type": "code",
      "metadata": {
        "colab": {
          "base_uri": "https://localhost:8080/",
          "height": 324
        },
        "id": "qcXIJsY25eGy",
        "outputId": "89173515-08b6-4e96-d928-fd7f34503769"
      },
      "source": [
        "correlacao_positiva = idhmcovid.corr().loc['last_available_death_rate'].sort_values(ascending=False).to_frame().reset_index().rename(columns = {'index': 'indicador'})[:10]\n",
        "correlacao_positiva.drop(correlacao_positiva.loc[(correlacao_positiva['indicador'] == \"last_available_death_rate\")].index, inplace=True)\n",
        "correlacao_positiva"
      ],
      "execution_count": null,
      "outputs": [
        {
          "output_type": "execute_result",
          "data": {
            "text/html": [
              "<div>\n",
              "<style scoped>\n",
              "    .dataframe tbody tr th:only-of-type {\n",
              "        vertical-align: middle;\n",
              "    }\n",
              "\n",
              "    .dataframe tbody tr th {\n",
              "        vertical-align: top;\n",
              "    }\n",
              "\n",
              "    .dataframe thead th {\n",
              "        text-align: right;\n",
              "    }\n",
              "</style>\n",
              "<table border=\"1\" class=\"dataframe\">\n",
              "  <thead>\n",
              "    <tr style=\"text-align: right;\">\n",
              "      <th></th>\n",
              "      <th>indicador</th>\n",
              "      <th>last_available_death_rate</th>\n",
              "    </tr>\n",
              "  </thead>\n",
              "  <tbody>\n",
              "    <tr>\n",
              "      <th>1</th>\n",
              "      <td>T_OCUPDESLOC_1</td>\n",
              "      <td>0.425033</td>\n",
              "    </tr>\n",
              "    <tr>\n",
              "      <th>2</th>\n",
              "      <td>T_DES1824</td>\n",
              "      <td>0.337421</td>\n",
              "    </tr>\n",
              "    <tr>\n",
              "      <th>3</th>\n",
              "      <td>T_DES2529</td>\n",
              "      <td>0.305640</td>\n",
              "    </tr>\n",
              "    <tr>\n",
              "      <th>4</th>\n",
              "      <td>T_DES18M</td>\n",
              "      <td>0.301964</td>\n",
              "    </tr>\n",
              "    <tr>\n",
              "      <th>5</th>\n",
              "      <td>T_DES</td>\n",
              "      <td>0.290561</td>\n",
              "    </tr>\n",
              "    <tr>\n",
              "      <th>6</th>\n",
              "      <td>T_DENS</td>\n",
              "      <td>0.286769</td>\n",
              "    </tr>\n",
              "    <tr>\n",
              "      <th>7</th>\n",
              "      <td>T_FREQ15A17</td>\n",
              "      <td>0.264851</td>\n",
              "    </tr>\n",
              "    <tr>\n",
              "      <th>8</th>\n",
              "      <td>T_DES1014</td>\n",
              "      <td>0.234836</td>\n",
              "    </tr>\n",
              "    <tr>\n",
              "      <th>9</th>\n",
              "      <td>P_SERV</td>\n",
              "      <td>0.230764</td>\n",
              "    </tr>\n",
              "  </tbody>\n",
              "</table>\n",
              "</div>"
            ],
            "text/plain": [
              "        indicador  last_available_death_rate\n",
              "1  T_OCUPDESLOC_1                   0.425033\n",
              "2       T_DES1824                   0.337421\n",
              "3       T_DES2529                   0.305640\n",
              "4        T_DES18M                   0.301964\n",
              "5           T_DES                   0.290561\n",
              "6          T_DENS                   0.286769\n",
              "7     T_FREQ15A17                   0.264851\n",
              "8       T_DES1014                   0.234836\n",
              "9          P_SERV                   0.230764"
            ]
          },
          "metadata": {
            "tags": []
          },
          "execution_count": 6
        }
      ]
    },
    {
      "cell_type": "code",
      "metadata": {
        "colab": {
          "base_uri": "https://localhost:8080/"
        },
        "id": "pJqIP19z9mqs",
        "outputId": "b903d74b-ad38-4875-a129-b10299e658ed"
      },
      "source": [
        "corr_posit = correlacao_positiva.indicador.to_list()\n",
        "corr_posit"
      ],
      "execution_count": null,
      "outputs": [
        {
          "output_type": "execute_result",
          "data": {
            "text/plain": [
              "['T_OCUPDESLOC_1',\n",
              " 'T_DES1824',\n",
              " 'T_DES2529',\n",
              " 'T_DES18M',\n",
              " 'T_DES',\n",
              " 'T_DENS',\n",
              " 'T_FREQ15A17',\n",
              " 'T_DES1014',\n",
              " 'P_SERV']"
            ]
          },
          "metadata": {
            "tags": []
          },
          "execution_count": 7
        }
      ]
    },
    {
      "cell_type": "code",
      "metadata": {
        "id": "ApB5JqWOP6zs",
        "colab": {
          "base_uri": "https://localhost:8080/"
        },
        "outputId": "0a2747e0-bab3-4633-c738-49429fbc122a"
      },
      "source": [
        "corr_negat"
      ],
      "execution_count": null,
      "outputs": [
        {
          "output_type": "execute_result",
          "data": {
            "text/plain": [
              "['T_ATIV1517',\n",
              " 'T_LIXO',\n",
              " 'EMP',\n",
              " 'T_ATIV18M',\n",
              " 'T_ATIV',\n",
              " 'T_FREQSUPER1517',\n",
              " 'SOBRE40',\n",
              " 'T_ATIV1824',\n",
              " 'T_ATIV2529',\n",
              " 'THEILtrab']"
            ]
          },
          "metadata": {
            "tags": []
          },
          "execution_count": 27
        }
      ]
    },
    {
      "cell_type": "code",
      "metadata": {
        "colab": {
          "base_uri": "https://localhost:8080/",
          "height": 414
        },
        "id": "WBO_wfYT9kvo",
        "outputId": "e49ccec7-1149-496b-8ec8-b4b1f7963ac5"
      },
      "source": [
        "corr_positiva = idhmcovid[idhmcovid.columns.intersection(corr_posit)]\n",
        "corr_positiva"
      ],
      "execution_count": null,
      "outputs": [
        {
          "output_type": "execute_result",
          "data": {
            "text/html": [
              "<div>\n",
              "<style scoped>\n",
              "    .dataframe tbody tr th:only-of-type {\n",
              "        vertical-align: middle;\n",
              "    }\n",
              "\n",
              "    .dataframe tbody tr th {\n",
              "        vertical-align: top;\n",
              "    }\n",
              "\n",
              "    .dataframe thead th {\n",
              "        text-align: right;\n",
              "    }\n",
              "</style>\n",
              "<table border=\"1\" class=\"dataframe\">\n",
              "  <thead>\n",
              "    <tr style=\"text-align: right;\">\n",
              "      <th></th>\n",
              "      <th>T_FREQ15A17</th>\n",
              "      <th>P_SERV</th>\n",
              "      <th>T_DES</th>\n",
              "      <th>T_DES1014</th>\n",
              "      <th>T_DES1824</th>\n",
              "      <th>T_DES18M</th>\n",
              "      <th>T_DES2529</th>\n",
              "      <th>T_DENS</th>\n",
              "      <th>T_OCUPDESLOC_1</th>\n",
              "    </tr>\n",
              "  </thead>\n",
              "  <tbody>\n",
              "    <tr>\n",
              "      <th>11131</th>\n",
              "      <td>76.42</td>\n",
              "      <td>40.06</td>\n",
              "      <td>5.11</td>\n",
              "      <td>11.63</td>\n",
              "      <td>7.78</td>\n",
              "      <td>4.57</td>\n",
              "      <td>5.85</td>\n",
              "      <td>27.15</td>\n",
              "      <td>0.16</td>\n",
              "    </tr>\n",
              "    <tr>\n",
              "      <th>11141</th>\n",
              "      <td>83.89</td>\n",
              "      <td>43.14</td>\n",
              "      <td>6.22</td>\n",
              "      <td>17.36</td>\n",
              "      <td>9.54</td>\n",
              "      <td>5.16</td>\n",
              "      <td>6.54</td>\n",
              "      <td>23.30</td>\n",
              "      <td>0.41</td>\n",
              "    </tr>\n",
              "    <tr>\n",
              "      <th>11146</th>\n",
              "      <td>82.02</td>\n",
              "      <td>49.35</td>\n",
              "      <td>6.23</td>\n",
              "      <td>16.37</td>\n",
              "      <td>10.94</td>\n",
              "      <td>5.61</td>\n",
              "      <td>6.39</td>\n",
              "      <td>36.73</td>\n",
              "      <td>0.76</td>\n",
              "    </tr>\n",
              "    <tr>\n",
              "      <th>11196</th>\n",
              "      <td>81.54</td>\n",
              "      <td>55.38</td>\n",
              "      <td>9.94</td>\n",
              "      <td>31.04</td>\n",
              "      <td>19.22</td>\n",
              "      <td>8.77</td>\n",
              "      <td>10.48</td>\n",
              "      <td>39.42</td>\n",
              "      <td>0.75</td>\n",
              "    </tr>\n",
              "    <tr>\n",
              "      <th>11232</th>\n",
              "      <td>83.17</td>\n",
              "      <td>36.85</td>\n",
              "      <td>9.35</td>\n",
              "      <td>9.08</td>\n",
              "      <td>17.68</td>\n",
              "      <td>8.72</td>\n",
              "      <td>9.34</td>\n",
              "      <td>59.14</td>\n",
              "      <td>1.08</td>\n",
              "    </tr>\n",
              "    <tr>\n",
              "      <th>...</th>\n",
              "      <td>...</td>\n",
              "      <td>...</td>\n",
              "      <td>...</td>\n",
              "      <td>...</td>\n",
              "      <td>...</td>\n",
              "      <td>...</td>\n",
              "      <td>...</td>\n",
              "      <td>...</td>\n",
              "      <td>...</td>\n",
              "    </tr>\n",
              "    <tr>\n",
              "      <th>16645</th>\n",
              "      <td>79.19</td>\n",
              "      <td>40.57</td>\n",
              "      <td>6.08</td>\n",
              "      <td>19.18</td>\n",
              "      <td>10.76</td>\n",
              "      <td>5.18</td>\n",
              "      <td>5.45</td>\n",
              "      <td>20.25</td>\n",
              "      <td>0.24</td>\n",
              "    </tr>\n",
              "    <tr>\n",
              "      <th>16671</th>\n",
              "      <td>81.09</td>\n",
              "      <td>48.29</td>\n",
              "      <td>8.09</td>\n",
              "      <td>19.37</td>\n",
              "      <td>13.70</td>\n",
              "      <td>7.02</td>\n",
              "      <td>7.01</td>\n",
              "      <td>29.94</td>\n",
              "      <td>3.66</td>\n",
              "    </tr>\n",
              "    <tr>\n",
              "      <th>16680</th>\n",
              "      <td>78.61</td>\n",
              "      <td>43.11</td>\n",
              "      <td>6.67</td>\n",
              "      <td>26.03</td>\n",
              "      <td>11.22</td>\n",
              "      <td>5.77</td>\n",
              "      <td>4.82</td>\n",
              "      <td>22.12</td>\n",
              "      <td>2.23</td>\n",
              "    </tr>\n",
              "    <tr>\n",
              "      <th>16688</th>\n",
              "      <td>87.44</td>\n",
              "      <td>56.14</td>\n",
              "      <td>7.99</td>\n",
              "      <td>27.76</td>\n",
              "      <td>14.23</td>\n",
              "      <td>6.56</td>\n",
              "      <td>7.45</td>\n",
              "      <td>28.09</td>\n",
              "      <td>2.36</td>\n",
              "    </tr>\n",
              "    <tr>\n",
              "      <th>16694</th>\n",
              "      <td>88.43</td>\n",
              "      <td>62.48</td>\n",
              "      <td>8.58</td>\n",
              "      <td>33.40</td>\n",
              "      <td>16.92</td>\n",
              "      <td>7.58</td>\n",
              "      <td>8.86</td>\n",
              "      <td>23.48</td>\n",
              "      <td>1.40</td>\n",
              "    </tr>\n",
              "  </tbody>\n",
              "</table>\n",
              "<p>324 rows × 9 columns</p>\n",
              "</div>"
            ],
            "text/plain": [
              "       T_FREQ15A17  P_SERV  T_DES  ...  T_DES2529  T_DENS  T_OCUPDESLOC_1\n",
              "11131        76.42   40.06   5.11  ...       5.85   27.15            0.16\n",
              "11141        83.89   43.14   6.22  ...       6.54   23.30            0.41\n",
              "11146        82.02   49.35   6.23  ...       6.39   36.73            0.76\n",
              "11196        81.54   55.38   9.94  ...      10.48   39.42            0.75\n",
              "11232        83.17   36.85   9.35  ...       9.34   59.14            1.08\n",
              "...            ...     ...    ...  ...        ...     ...             ...\n",
              "16645        79.19   40.57   6.08  ...       5.45   20.25            0.24\n",
              "16671        81.09   48.29   8.09  ...       7.01   29.94            3.66\n",
              "16680        78.61   43.11   6.67  ...       4.82   22.12            2.23\n",
              "16688        87.44   56.14   7.99  ...       7.45   28.09            2.36\n",
              "16694        88.43   62.48   8.58  ...       8.86   23.48            1.40\n",
              "\n",
              "[324 rows x 9 columns]"
            ]
          },
          "metadata": {
            "tags": []
          },
          "execution_count": 8
        }
      ]
    },
    {
      "cell_type": "code",
      "metadata": {
        "id": "wyUO4AFJEfQB"
      },
      "source": [
        "mortalidade = idhmcovid.last_available_death_rate"
      ],
      "execution_count": null,
      "outputs": []
    },
    {
      "cell_type": "code",
      "metadata": {
        "id": "ye5DOSzMFxJ6"
      },
      "source": [
        "xtrain_corr_positiva, xtest_corr_positiva, ytrain_corr_positiva, ytest_corr_positiva = train_test_split(corr_positiva, mortalidade, test_size=0.4, random_state=42)"
      ],
      "execution_count": null,
      "outputs": []
    },
    {
      "cell_type": "code",
      "metadata": {
        "id": "bEzDwJeCG0Ge",
        "colab": {
          "base_uri": "https://localhost:8080/"
        },
        "outputId": "7258b427-57af-46c6-8579-979d8fae990c"
      },
      "source": [
        "linreg_corr_positiva = LinearRegression()\n",
        "linreg_corr_positiva.fit(xtrain_corr_positiva, ytrain_corr_positiva)\n",
        "print('linear model coeff (w): {}'\n",
        ".format(linreg_corr_positiva.coef_))\n",
        "print('linear model intercept (b): {:.3f}'\n",
        ".format(linreg_corr_positiva.intercept_))\n",
        "print('R-squared score (training): {:.3f}'\n",
        ".format(linreg_corr_positiva.score(xtrain_corr_positiva, ytrain_corr_positiva)))\n",
        "print('R-squared score (test): {:.3f}'\n",
        ".format(linreg_corr_positiva.score(xtest_corr_positiva, ytest_corr_positiva)))"
      ],
      "execution_count": null,
      "outputs": [
        {
          "output_type": "stream",
          "text": [
            "linear model coeff (w): [ 7.67257771e-04  6.44492061e-05 -2.42628285e-02  6.41166634e-04\n",
            "  1.94073896e-03  1.97253017e-02  6.42141620e-04  2.08346780e-04\n",
            "  6.37992570e-03]\n",
            "linear model intercept (b): -0.046\n",
            "R-squared score (training): 0.367\n",
            "R-squared score (test): -0.089\n"
          ],
          "name": "stdout"
        }
      ]
    },
    {
      "cell_type": "code",
      "metadata": {
        "id": "Fh6_1k9hG0Oe",
        "colab": {
          "base_uri": "https://localhost:8080/"
        },
        "outputId": "9e474846-3964-40dd-8add-8e462dfa8e56"
      },
      "source": [
        "ipred_corr_positiva = linreg_corr_positiva.predict(xtest_corr_positiva)\n",
        "print('Mean squared error: %.2f'\n",
        "      % mean_squared_error(ytest_corr_positiva, ipred_corr_positiva))\n",
        "print('Coefficient of determination: %.2f'\n",
        "      % r2_score(ytest_corr_positiva, ipred_corr_positiva))"
      ],
      "execution_count": null,
      "outputs": [
        {
          "output_type": "stream",
          "text": [
            "Mean squared error: 0.00\n",
            "Coefficient of determination: -0.09\n"
          ],
          "name": "stdout"
        }
      ]
    },
    {
      "cell_type": "code",
      "metadata": {
        "id": "LuvqQ5j3G0Q7",
        "colab": {
          "base_uri": "https://localhost:8080/",
          "height": 542
        },
        "outputId": "fc12e665-dc1a-49ee-8f72-af80daa33f42"
      },
      "source": [
        "fig = go.Figure(data=go.Scatter(x=ytest_corr_positiva, y=ipred_corr_positiva, mode='markers')) \n",
        "fig.update_layout(title=\"Valores reais e previstos de correlação positiva de mortalidade de COVID-19\")\n",
        "fig.show()"
      ],
      "execution_count": null,
      "outputs": [
        {
          "output_type": "display_data",
          "data": {
            "text/html": [
              "<html>\n",
              "<head><meta charset=\"utf-8\" /></head>\n",
              "<body>\n",
              "    <div>\n",
              "            <script src=\"https://cdnjs.cloudflare.com/ajax/libs/mathjax/2.7.5/MathJax.js?config=TeX-AMS-MML_SVG\"></script><script type=\"text/javascript\">if (window.MathJax) {MathJax.Hub.Config({SVG: {font: \"STIX-Web\"}});}</script>\n",
              "                <script type=\"text/javascript\">window.PlotlyConfig = {MathJaxConfig: 'local'};</script>\n",
              "        <script src=\"https://cdn.plot.ly/plotly-latest.min.js\"></script>    \n",
              "            <div id=\"33bc2b8a-c51e-4c02-bd44-12b017d3a654\" class=\"plotly-graph-div\" style=\"height:525px; width:100%;\"></div>\n",
              "            <script type=\"text/javascript\">\n",
              "                \n",
              "                    window.PLOTLYENV=window.PLOTLYENV || {};\n",
              "                    \n",
              "                if (document.getElementById(\"33bc2b8a-c51e-4c02-bd44-12b017d3a654\")) {\n",
              "                    Plotly.newPlot(\n",
              "                        '33bc2b8a-c51e-4c02-bd44-12b017d3a654',\n",
              "                        [{\"mode\": \"markers\", \"type\": \"scatter\", \"x\": [0.0209, 0.0165, 0.061, 0.0213, 0.0266, 0.014, 0.0503, 0.0468, 0.0162, 0.0682, 0.0398, 0.0314, 0.0335, 0.0198, 0.0447, 0.0163, 0.0273, 0.0348, 0.0373, 0.0507, 0.0253, 0.0155, 0.0196, 0.0192, 0.026, 0.0294, 0.033, 0.0255, 0.0493, 0.025, 0.0257, 0.0303, 0.0391, 0.0355, 0.0272, 0.036, 0.0294, 0.065, 0.0323, 0.0324, 0.0275, 0.0128, 0.0332, 0.024, 0.0269, 0.0252, 0.0304, 0.0371, 0.0377, 0.0509, 0.0194, 0.0234, 0.0159, 0.03, 0.0166, 0.04, 0.0298, 0.029, 0.0278, 0.025, 0.0261, 0.0469, 0.0211, 0.0157, 0.0301, 0.0187, 0.0338, 0.0262, 0.0192, 0.0279, 0.0285, 0.0164, 0.0431, 0.0314, 0.0474, 0.0437, 0.0313, 0.0212, 0.0291, 0.044, 0.0356, 0.0202, 0.0475, 0.0351, 0.0386, 0.0113, 0.0335, 0.0584, 0.0309, 0.0356, 0.0574, 0.0385, 0.0495, 0.0119, 0.0384, 0.0175, 0.022, 0.0113, 0.0198, 0.0245, 0.0262, 0.0274, 0.0378, 0.019, 0.0332, 0.0467, 0.0288, 0.0245, 0.0164, 0.0256, 0.0243, 0.0248, 0.0505, 0.0464, 0.0285, 0.0168, 0.0167, 0.0258, 0.0892, 0.0286, 0.0243, 0.027, 0.0315, 0.0349, 0.0424, 0.0557, 0.0381, 0.0538, 0.0183, 0.0091], \"y\": [0.01611433123071762, 0.04257900411038077, 0.04698578229621734, 0.018617542367240066, 0.018029846294354925, 0.015577191915314315, 0.060474084923259695, 0.02321077162724789, 0.012989653376008853, 0.0651585746885886, 0.034225070154150224, 0.03320032737103407, 0.024389179564864756, 0.03469493928858545, 0.04055272826339317, 0.022549285503045892, 0.02128336388872818, 0.04986233900332316, 0.029792950877426304, 0.0479909125295031, 0.03165963672875414, 0.017527104646012946, 0.02600741293149767, 0.0326233046476894, 0.02965893306328638, 0.07552289166484835, 0.029872835712383645, 0.02348743123306258, 0.057282375481598306, 0.014142222336630442, 0.04930658184188117, 0.031405787237831835, 0.00965829132397053, 0.015622361861682463, 0.027658839561901218, 0.04021890004626986, 0.0454596518770053, 0.048142664486129895, 0.020594312783408196, 0.041258478138401077, 0.03091103698294482, 0.027943920716837566, 0.027389275135499623, 0.016271503224465085, 0.03074175725782618, 0.0159149278699545, 0.028032253173176543, 0.04009648809987782, 0.054014917581873954, 0.03580205984605552, 0.02819781285345229, 0.030428916996159343, 0.03451937362237977, 0.06304137446853969, 0.017684641791548626, 0.0218347374197645, 0.026742176705522362, 0.02860753395274935, 0.02855971617120532, 0.0233761426139246, 0.02138131442729007, 0.04232846230081213, 0.016685789079246234, 0.023459441482479644, 0.019844524956180533, 0.048630515915058216, 0.03611177857238126, 0.031073321024573185, 0.01247038352983746, 0.036151278674222055, 0.024602952598388038, 0.02718835268077161, 0.03157994009471025, 0.030582583510967744, 0.034092007701565084, 0.02914961577894263, 0.02289099173756127, 0.030780087269418353, 0.03179103851984128, 0.029584058898461336, 0.042439452934225054, 0.037770635793036154, 0.03081625357889558, 0.019939552893260513, 0.04463042342961598, 0.01575743962323522, 0.0759952545001936, 0.06850287832699017, 0.01989105499338522, 0.04469273170908474, 0.04409603725343699, 0.026352654768217902, 0.04401896657789727, 0.012618814922818362, 0.02007098456759889, 0.029831544829251343, 0.029840172067685987, 0.024643920767300133, 0.02895781823304739, 0.03656901030201013, 0.03679046753783486, 0.0491510765196602, 0.03333542957703325, 0.017138043533403306, 0.04551213717265586, 0.04809338869752975, 0.024566257162418483, 0.01326365476421048, 0.030441601105985087, 0.03840573314265717, 0.027402213662563006, 0.011747491447475444, 0.04370669737962291, 0.054899198947900886, 0.028546404015600386, 0.02485500691296636, 0.025118254338665484, 0.0336982155534872, 0.06661512197933708, 0.04632876266985767, 0.0349046229483038, 0.052964992012273886, -0.0003599197000233034, 0.05631266403231141, 0.03160081207313826, 0.08841595866239932, 0.028896650542870793, 0.026361542690153873, 0.0038273863915695913, 0.011161975476984567]}],\n",
              "                        {\"template\": {\"data\": {\"bar\": [{\"error_x\": {\"color\": \"#2a3f5f\"}, \"error_y\": {\"color\": \"#2a3f5f\"}, \"marker\": {\"line\": {\"color\": \"#E5ECF6\", \"width\": 0.5}}, \"type\": \"bar\"}], \"barpolar\": [{\"marker\": {\"line\": {\"color\": \"#E5ECF6\", \"width\": 0.5}}, \"type\": \"barpolar\"}], \"carpet\": [{\"aaxis\": {\"endlinecolor\": \"#2a3f5f\", \"gridcolor\": \"white\", \"linecolor\": \"white\", \"minorgridcolor\": \"white\", \"startlinecolor\": \"#2a3f5f\"}, \"baxis\": {\"endlinecolor\": \"#2a3f5f\", \"gridcolor\": \"white\", \"linecolor\": \"white\", \"minorgridcolor\": \"white\", \"startlinecolor\": \"#2a3f5f\"}, \"type\": \"carpet\"}], \"choropleth\": [{\"colorbar\": {\"outlinewidth\": 0, \"ticks\": \"\"}, \"type\": \"choropleth\"}], \"contour\": [{\"colorbar\": {\"outlinewidth\": 0, \"ticks\": \"\"}, \"colorscale\": [[0.0, \"#0d0887\"], [0.1111111111111111, \"#46039f\"], [0.2222222222222222, \"#7201a8\"], [0.3333333333333333, \"#9c179e\"], [0.4444444444444444, \"#bd3786\"], [0.5555555555555556, \"#d8576b\"], [0.6666666666666666, \"#ed7953\"], [0.7777777777777778, \"#fb9f3a\"], [0.8888888888888888, \"#fdca26\"], [1.0, \"#f0f921\"]], \"type\": \"contour\"}], \"contourcarpet\": [{\"colorbar\": {\"outlinewidth\": 0, \"ticks\": \"\"}, \"type\": \"contourcarpet\"}], \"heatmap\": [{\"colorbar\": {\"outlinewidth\": 0, \"ticks\": \"\"}, \"colorscale\": [[0.0, \"#0d0887\"], [0.1111111111111111, \"#46039f\"], [0.2222222222222222, \"#7201a8\"], [0.3333333333333333, \"#9c179e\"], [0.4444444444444444, \"#bd3786\"], [0.5555555555555556, \"#d8576b\"], [0.6666666666666666, \"#ed7953\"], [0.7777777777777778, \"#fb9f3a\"], [0.8888888888888888, \"#fdca26\"], [1.0, \"#f0f921\"]], \"type\": \"heatmap\"}], \"heatmapgl\": [{\"colorbar\": {\"outlinewidth\": 0, \"ticks\": \"\"}, \"colorscale\": [[0.0, \"#0d0887\"], [0.1111111111111111, \"#46039f\"], [0.2222222222222222, \"#7201a8\"], [0.3333333333333333, \"#9c179e\"], [0.4444444444444444, \"#bd3786\"], [0.5555555555555556, \"#d8576b\"], [0.6666666666666666, \"#ed7953\"], [0.7777777777777778, \"#fb9f3a\"], [0.8888888888888888, \"#fdca26\"], [1.0, \"#f0f921\"]], \"type\": \"heatmapgl\"}], \"histogram\": [{\"marker\": {\"colorbar\": {\"outlinewidth\": 0, \"ticks\": \"\"}}, \"type\": \"histogram\"}], \"histogram2d\": [{\"colorbar\": {\"outlinewidth\": 0, \"ticks\": \"\"}, \"colorscale\": [[0.0, \"#0d0887\"], [0.1111111111111111, \"#46039f\"], [0.2222222222222222, \"#7201a8\"], [0.3333333333333333, \"#9c179e\"], [0.4444444444444444, \"#bd3786\"], [0.5555555555555556, \"#d8576b\"], [0.6666666666666666, \"#ed7953\"], [0.7777777777777778, \"#fb9f3a\"], [0.8888888888888888, \"#fdca26\"], [1.0, \"#f0f921\"]], \"type\": \"histogram2d\"}], \"histogram2dcontour\": [{\"colorbar\": {\"outlinewidth\": 0, \"ticks\": \"\"}, \"colorscale\": [[0.0, \"#0d0887\"], [0.1111111111111111, \"#46039f\"], [0.2222222222222222, \"#7201a8\"], [0.3333333333333333, \"#9c179e\"], [0.4444444444444444, \"#bd3786\"], [0.5555555555555556, \"#d8576b\"], [0.6666666666666666, \"#ed7953\"], [0.7777777777777778, \"#fb9f3a\"], [0.8888888888888888, \"#fdca26\"], [1.0, \"#f0f921\"]], \"type\": \"histogram2dcontour\"}], \"mesh3d\": [{\"colorbar\": {\"outlinewidth\": 0, \"ticks\": \"\"}, \"type\": \"mesh3d\"}], \"parcoords\": [{\"line\": {\"colorbar\": {\"outlinewidth\": 0, \"ticks\": \"\"}}, \"type\": \"parcoords\"}], \"pie\": [{\"automargin\": true, \"type\": \"pie\"}], \"scatter\": [{\"marker\": {\"colorbar\": {\"outlinewidth\": 0, \"ticks\": \"\"}}, \"type\": \"scatter\"}], \"scatter3d\": [{\"line\": {\"colorbar\": {\"outlinewidth\": 0, \"ticks\": \"\"}}, \"marker\": {\"colorbar\": {\"outlinewidth\": 0, \"ticks\": \"\"}}, \"type\": \"scatter3d\"}], \"scattercarpet\": [{\"marker\": {\"colorbar\": {\"outlinewidth\": 0, \"ticks\": \"\"}}, \"type\": \"scattercarpet\"}], \"scattergeo\": [{\"marker\": {\"colorbar\": {\"outlinewidth\": 0, \"ticks\": \"\"}}, \"type\": \"scattergeo\"}], \"scattergl\": [{\"marker\": {\"colorbar\": {\"outlinewidth\": 0, \"ticks\": \"\"}}, \"type\": \"scattergl\"}], \"scattermapbox\": [{\"marker\": {\"colorbar\": {\"outlinewidth\": 0, \"ticks\": \"\"}}, \"type\": \"scattermapbox\"}], \"scatterpolar\": [{\"marker\": {\"colorbar\": {\"outlinewidth\": 0, \"ticks\": \"\"}}, \"type\": \"scatterpolar\"}], \"scatterpolargl\": [{\"marker\": {\"colorbar\": {\"outlinewidth\": 0, \"ticks\": \"\"}}, \"type\": \"scatterpolargl\"}], \"scatterternary\": [{\"marker\": {\"colorbar\": {\"outlinewidth\": 0, \"ticks\": \"\"}}, \"type\": \"scatterternary\"}], \"surface\": [{\"colorbar\": {\"outlinewidth\": 0, \"ticks\": \"\"}, \"colorscale\": [[0.0, \"#0d0887\"], [0.1111111111111111, \"#46039f\"], [0.2222222222222222, \"#7201a8\"], [0.3333333333333333, \"#9c179e\"], [0.4444444444444444, \"#bd3786\"], [0.5555555555555556, \"#d8576b\"], [0.6666666666666666, \"#ed7953\"], [0.7777777777777778, \"#fb9f3a\"], [0.8888888888888888, \"#fdca26\"], [1.0, \"#f0f921\"]], \"type\": \"surface\"}], \"table\": [{\"cells\": {\"fill\": {\"color\": \"#EBF0F8\"}, \"line\": {\"color\": \"white\"}}, \"header\": {\"fill\": {\"color\": \"#C8D4E3\"}, \"line\": {\"color\": \"white\"}}, \"type\": \"table\"}]}, \"layout\": {\"annotationdefaults\": {\"arrowcolor\": \"#2a3f5f\", \"arrowhead\": 0, \"arrowwidth\": 1}, \"coloraxis\": {\"colorbar\": {\"outlinewidth\": 0, \"ticks\": \"\"}}, \"colorscale\": {\"diverging\": [[0, \"#8e0152\"], [0.1, \"#c51b7d\"], [0.2, \"#de77ae\"], [0.3, \"#f1b6da\"], [0.4, \"#fde0ef\"], [0.5, \"#f7f7f7\"], [0.6, \"#e6f5d0\"], [0.7, \"#b8e186\"], [0.8, \"#7fbc41\"], [0.9, \"#4d9221\"], [1, \"#276419\"]], \"sequential\": [[0.0, \"#0d0887\"], [0.1111111111111111, \"#46039f\"], [0.2222222222222222, \"#7201a8\"], [0.3333333333333333, \"#9c179e\"], [0.4444444444444444, \"#bd3786\"], [0.5555555555555556, \"#d8576b\"], [0.6666666666666666, \"#ed7953\"], [0.7777777777777778, \"#fb9f3a\"], [0.8888888888888888, \"#fdca26\"], [1.0, \"#f0f921\"]], \"sequentialminus\": [[0.0, \"#0d0887\"], [0.1111111111111111, \"#46039f\"], [0.2222222222222222, \"#7201a8\"], [0.3333333333333333, \"#9c179e\"], [0.4444444444444444, \"#bd3786\"], [0.5555555555555556, \"#d8576b\"], [0.6666666666666666, \"#ed7953\"], [0.7777777777777778, \"#fb9f3a\"], [0.8888888888888888, \"#fdca26\"], [1.0, \"#f0f921\"]]}, \"colorway\": [\"#636efa\", \"#EF553B\", \"#00cc96\", \"#ab63fa\", \"#FFA15A\", \"#19d3f3\", \"#FF6692\", \"#B6E880\", \"#FF97FF\", \"#FECB52\"], \"font\": {\"color\": \"#2a3f5f\"}, \"geo\": {\"bgcolor\": \"white\", \"lakecolor\": \"white\", \"landcolor\": \"#E5ECF6\", \"showlakes\": true, \"showland\": true, \"subunitcolor\": \"white\"}, \"hoverlabel\": {\"align\": \"left\"}, \"hovermode\": \"closest\", \"mapbox\": {\"style\": \"light\"}, \"paper_bgcolor\": \"white\", \"plot_bgcolor\": \"#E5ECF6\", \"polar\": {\"angularaxis\": {\"gridcolor\": \"white\", \"linecolor\": \"white\", \"ticks\": \"\"}, \"bgcolor\": \"#E5ECF6\", \"radialaxis\": {\"gridcolor\": \"white\", \"linecolor\": \"white\", \"ticks\": \"\"}}, \"scene\": {\"xaxis\": {\"backgroundcolor\": \"#E5ECF6\", \"gridcolor\": \"white\", \"gridwidth\": 2, \"linecolor\": \"white\", \"showbackground\": true, \"ticks\": \"\", \"zerolinecolor\": \"white\"}, \"yaxis\": {\"backgroundcolor\": \"#E5ECF6\", \"gridcolor\": \"white\", \"gridwidth\": 2, \"linecolor\": \"white\", \"showbackground\": true, \"ticks\": \"\", \"zerolinecolor\": \"white\"}, \"zaxis\": {\"backgroundcolor\": \"#E5ECF6\", \"gridcolor\": \"white\", \"gridwidth\": 2, \"linecolor\": \"white\", \"showbackground\": true, \"ticks\": \"\", \"zerolinecolor\": \"white\"}}, \"shapedefaults\": {\"line\": {\"color\": \"#2a3f5f\"}}, \"ternary\": {\"aaxis\": {\"gridcolor\": \"white\", \"linecolor\": \"white\", \"ticks\": \"\"}, \"baxis\": {\"gridcolor\": \"white\", \"linecolor\": \"white\", \"ticks\": \"\"}, \"bgcolor\": \"#E5ECF6\", \"caxis\": {\"gridcolor\": \"white\", \"linecolor\": \"white\", \"ticks\": \"\"}}, \"title\": {\"x\": 0.05}, \"xaxis\": {\"automargin\": true, \"gridcolor\": \"white\", \"linecolor\": \"white\", \"ticks\": \"\", \"title\": {\"standoff\": 15}, \"zerolinecolor\": \"white\", \"zerolinewidth\": 2}, \"yaxis\": {\"automargin\": true, \"gridcolor\": \"white\", \"linecolor\": \"white\", \"ticks\": \"\", \"title\": {\"standoff\": 15}, \"zerolinecolor\": \"white\", \"zerolinewidth\": 2}}}, \"title\": {\"text\": \"Valores reais e previstos de correla\\u00e7\\u00e3o positiva de mortalidade de COVID-19\"}},\n",
              "                        {\"responsive\": true}\n",
              "                    ).then(function(){\n",
              "                            \n",
              "var gd = document.getElementById('33bc2b8a-c51e-4c02-bd44-12b017d3a654');\n",
              "var x = new MutationObserver(function (mutations, observer) {{\n",
              "        var display = window.getComputedStyle(gd).display;\n",
              "        if (!display || display === 'none') {{\n",
              "            console.log([gd, 'removed!']);\n",
              "            Plotly.purge(gd);\n",
              "            observer.disconnect();\n",
              "        }}\n",
              "}});\n",
              "\n",
              "// Listen for the removal of the full notebook cells\n",
              "var notebookContainer = gd.closest('#notebook-container');\n",
              "if (notebookContainer) {{\n",
              "    x.observe(notebookContainer, {childList: true});\n",
              "}}\n",
              "\n",
              "// Listen for the clearing of the current output cell\n",
              "var outputEl = gd.closest('.output');\n",
              "if (outputEl) {{\n",
              "    x.observe(outputEl, {childList: true});\n",
              "}}\n",
              "\n",
              "                        })\n",
              "                };\n",
              "                \n",
              "            </script>\n",
              "        </div>\n",
              "</body>\n",
              "</html>"
            ]
          },
          "metadata": {
            "tags": []
          }
        }
      ]
    },
    {
      "cell_type": "code",
      "metadata": {
        "id": "RMJTOy55IKZU",
        "colab": {
          "base_uri": "https://localhost:8080/",
          "height": 383
        },
        "outputId": "4bbf4419-e8f3-45c8-bd8f-7d0834cf57a5"
      },
      "source": [
        "df_corr_positiva = pd.DataFrame ({'Real': ytest_corr_positiva, 'Previsto': ipred_corr_positiva}) \n",
        "sns.lmplot(x=\"Real\", y=\"Previsto\", data=df_corr_positiva);"
      ],
      "execution_count": null,
      "outputs": [
        {
          "output_type": "display_data",
          "data": {
            "image/png": "[encoded data removed]",
            "text/plain": [
              "<Figure size 360x360 with 1 Axes>"
            ]
          },
          "metadata": {
            "tags": [],
            "needs_background": "light"
          }
        }
      ]
    },
    {
      "cell_type": "code",
      "metadata": {
        "id": "6LyE2EUdFJhB"
      },
      "source": [
        "correlacao_negativa = idhmcovid.corr().loc['last_available_death_rate'].sort_values().to_frame().reset_index().rename(columns = {'index': 'indicador'})[:10]\n",
        "corr_negat = correlacao_negativa.indicador.to_list()\n",
        "corr_negativa = idhmcovid[idhmcovid.columns.intersection(corr_negat)]"
      ],
      "execution_count": null,
      "outputs": []
    },
    {
      "cell_type": "code",
      "metadata": {
        "id": "7uiM_o4zIKXD"
      },
      "source": [
        "xtrain_corr_negativa, xtest_corr_negativa, ytrain_corr_negativa, ytest_corr_negativa = train_test_split(corr_negativa, mortalidade, test_size=0.4, random_state=42)"
      ],
      "execution_count": null,
      "outputs": []
    },
    {
      "cell_type": "code",
      "metadata": {
        "id": "wHpZ-_DGIKUj",
        "colab": {
          "base_uri": "https://localhost:8080/"
        },
        "outputId": "a0b8ad7c-34be-4abd-d1d8-265fbff2a2f1"
      },
      "source": [
        "linreg_corr_negativa = LinearRegression()\n",
        "linreg_corr_negativa.fit(xtrain_corr_negativa, ytrain_corr_negativa)\n",
        "print('linear model coeff (w): {}'\n",
        ".format(linreg_corr_negativa.coef_))\n",
        "print('linear model intercept (b): {:.3f}'\n",
        ".format(linreg_corr_negativa.intercept_))\n",
        "print('R-squared score (training): {:.3f}'\n",
        ".format(linreg_corr_negativa.score(xtrain_corr_negativa, ytrain_corr_negativa)))\n",
        "print('R-squared score (test): {:.3f}'\n",
        ".format(linreg_corr_negativa.score(xtest_corr_negativa, ytest_corr_negativa)))"
      ],
      "execution_count": null,
      "outputs": [
        {
          "output_type": "stream",
          "text": [
            "linear model coeff (w): [-0.00205347 -0.00138596 -0.00376474  0.00703023 -0.00146108 -0.00017861\n",
            " -0.00506786 -0.00041997 -0.05673792 -0.00180283]\n",
            "linear model intercept (b): 0.456\n",
            "R-squared score (training): 0.410\n",
            "R-squared score (test): -0.235\n"
          ],
          "name": "stdout"
        }
      ]
    },
    {
      "cell_type": "code",
      "metadata": {
        "id": "fbkuLjA6G0NP",
        "colab": {
          "base_uri": "https://localhost:8080/"
        },
        "outputId": "4c690c7f-0ac1-4ab7-b4e1-c2ac605d007e"
      },
      "source": [
        "ipred_corr_negativa = linreg_corr_negativa.predict(xtest_corr_negativa)\n",
        "print('Mean squared error: %.2f'\n",
        "      % mean_squared_error(ytest_corr_negativa, ipred_corr_negativa))\n",
        "print('Coefficient of determination: %.2f'\n",
        "      % r2_score(ytest_corr_negativa, ipred_corr_negativa))"
      ],
      "execution_count": null,
      "outputs": [
        {
          "output_type": "stream",
          "text": [
            "Mean squared error: 0.00\n",
            "Coefficient of determination: -0.24\n"
          ],
          "name": "stdout"
        }
      ]
    },
    {
      "cell_type": "code",
      "metadata": {
        "id": "Rs8RUuM6IqUR",
        "colab": {
          "base_uri": "https://localhost:8080/",
          "height": 542
        },
        "outputId": "7e4693fa-5e2b-4c03-8d2a-ea9af9d96147"
      },
      "source": [
        "fig = go.Figure(data=go.Scatter(x=ytest_corr_negativa, y=ipred_corr_negativa, mode='markers')) \n",
        "fig.update_layout(title=\"Valores reais e previstos de correlação negativa de mortalidade de COVID-19\")\n",
        "fig.show()"
      ],
      "execution_count": null,
      "outputs": [
        {
          "output_type": "display_data",
          "data": {
            "text/html": [
              "<html>\n",
              "<head><meta charset=\"utf-8\" /></head>\n",
              "<body>\n",
              "    <div>\n",
              "            <script src=\"https://cdnjs.cloudflare.com/ajax/libs/mathjax/2.7.5/MathJax.js?config=TeX-AMS-MML_SVG\"></script><script type=\"text/javascript\">if (window.MathJax) {MathJax.Hub.Config({SVG: {font: \"STIX-Web\"}});}</script>\n",
              "                <script type=\"text/javascript\">window.PlotlyConfig = {MathJaxConfig: 'local'};</script>\n",
              "        <script src=\"https://cdn.plot.ly/plotly-latest.min.js\"></script>    \n",
              "            <div id=\"fb3e9b43-a383-4dca-9442-552a4f4e6c6e\" class=\"plotly-graph-div\" style=\"height:525px; width:100%;\"></div>\n",
              "            <script type=\"text/javascript\">\n",
              "                \n",
              "                    window.PLOTLYENV=window.PLOTLYENV || {};\n",
              "                    \n",
              "                if (document.getElementById(\"fb3e9b43-a383-4dca-9442-552a4f4e6c6e\")) {\n",
              "                    Plotly.newPlot(\n",
              "                        'fb3e9b43-a383-4dca-9442-552a4f4e6c6e',\n",
              "                        [{\"mode\": \"markers\", \"type\": \"scatter\", \"x\": [0.0209, 0.0165, 0.061, 0.0213, 0.0266, 0.014, 0.0503, 0.0468, 0.0162, 0.0682, 0.0398, 0.0314, 0.0335, 0.0198, 0.0447, 0.0163, 0.0273, 0.0348, 0.0373, 0.0507, 0.0253, 0.0155, 0.0196, 0.0192, 0.026, 0.0294, 0.033, 0.0255, 0.0493, 0.025, 0.0257, 0.0303, 0.0391, 0.0355, 0.0272, 0.036, 0.0294, 0.065, 0.0323, 0.0324, 0.0275, 0.0128, 0.0332, 0.024, 0.0269, 0.0252, 0.0304, 0.0371, 0.0377, 0.0509, 0.0194, 0.0234, 0.0159, 0.03, 0.0166, 0.04, 0.0298, 0.029, 0.0278, 0.025, 0.0261, 0.0469, 0.0211, 0.0157, 0.0301, 0.0187, 0.0338, 0.0262, 0.0192, 0.0279, 0.0285, 0.0164, 0.0431, 0.0314, 0.0474, 0.0437, 0.0313, 0.0212, 0.0291, 0.044, 0.0356, 0.0202, 0.0475, 0.0351, 0.0386, 0.0113, 0.0335, 0.0584, 0.0309, 0.0356, 0.0574, 0.0385, 0.0495, 0.0119, 0.0384, 0.0175, 0.022, 0.0113, 0.0198, 0.0245, 0.0262, 0.0274, 0.0378, 0.019, 0.0332, 0.0467, 0.0288, 0.0245, 0.0164, 0.0256, 0.0243, 0.0248, 0.0505, 0.0464, 0.0285, 0.0168, 0.0167, 0.0258, 0.0892, 0.0286, 0.0243, 0.027, 0.0315, 0.0349, 0.0424, 0.0557, 0.0381, 0.0538, 0.0183, 0.0091], \"y\": [0.027505871927343772, 0.0384171077083586, 0.04898749574472672, 0.030041625916052972, 0.033699453316162864, 0.03328332943870427, 0.04279221013611334, 0.03443828185595793, 0.014007603773053878, 0.06904718441704727, 0.033735307915287394, 0.03688988346151295, 0.036148348827939936, 0.02593581907773912, 0.03847436359815376, 0.021299936852114065, 0.028528998500090497, 0.05089497125872644, 0.024309101710330072, 0.026778564560185236, 0.02361497025344006, 0.01755761810567108, 0.020496446381175926, 0.03727664545904641, 0.03447174097433936, 0.0685647104799938, 0.02565093602404489, 0.040403174825037746, 0.04258008926287704, 0.021254067792407016, 0.06122464220963014, 0.029765464030461875, 0.023639505746985867, 0.024756661474700237, 0.018810476492184314, 0.019562747547496984, 0.028134145004658884, 0.046601519952413906, 0.03377665251459444, 0.04432386619321965, 0.03182651807010961, 0.03627522397271965, 0.03372409041490054, 0.015442256910787933, 0.0427438551138935, 0.030008190881415153, 0.03429807845003019, 0.02581602494074725, 0.06387258603773743, 0.03890002531943115, 0.042850636924906205, 0.030716693968093678, 0.01570249961968373, 0.045776765645560547, 0.024859734697004754, 0.03514707527754046, 0.03161187226110168, 0.04008248831788286, 0.027934569467965575, 0.02972125720440827, 0.03277906497859728, 0.021550093011397542, 0.02526123157515603, 0.036942668466843076, 0.024825524419919698, 0.028902581045696818, 0.04168317874516708, 0.026404456999978954, 0.04042904426823729, 0.049565690375983684, 0.028913255849320363, 0.029279782880694216, 0.029458673701722837, 0.03746457566397199, 0.030480713329882336, 0.03924735636251481, 0.03242709384124076, 0.036210447229607534, 0.033096135274003013, 0.03114155281997899, 0.043459272116183834, 0.03508494486887814, 0.04131177602708064, 0.026279005349422735, 0.04866296021894728, 0.015879875963411783, 0.0774651138633563, 0.05139156410640899, 0.008757935572118958, 0.017149890181718863, 0.03048497401696182, 0.031042794082315084, 0.02406009379452867, 0.032593100428176536, 0.021128030614916415, 0.027501183189185152, 0.03236095711087128, 0.029686303311153295, 0.027647369369549923, 0.038981579627226925, 0.04784417131102714, 0.04486648384594494, 0.034580396820878545, 0.011160635923573303, 0.05369457240562481, 0.05180869539003646, 0.022364545703766336, 0.03236788609154395, 0.015424329772699696, -0.008451201843322709, 0.04270375093571799, 0.01731066354122157, 0.0497587151792529, 0.0698125514106605, 0.03815424250425281, 0.03170654469222434, 0.02084819831524748, 0.028431012471497652, 0.05937872203873862, 0.02751600392930975, 0.03336442688490082, 0.039067518148707236, 0.014515305400066292, 0.040887161266987215, 0.019955184821327188, 0.07399594713984664, 0.029605640089753305, 0.05123184716561102, 0.008047812235484952, 0.04337063550777692]}],\n",
              "                        {\"template\": {\"data\": {\"bar\": [{\"error_x\": {\"color\": \"#2a3f5f\"}, \"error_y\": {\"color\": \"#2a3f5f\"}, \"marker\": {\"line\": {\"color\": \"#E5ECF6\", \"width\": 0.5}}, \"type\": \"bar\"}], \"barpolar\": [{\"marker\": {\"line\": {\"color\": \"#E5ECF6\", \"width\": 0.5}}, \"type\": \"barpolar\"}], \"carpet\": [{\"aaxis\": {\"endlinecolor\": \"#2a3f5f\", \"gridcolor\": \"white\", \"linecolor\": \"white\", \"minorgridcolor\": \"white\", \"startlinecolor\": \"#2a3f5f\"}, \"baxis\": {\"endlinecolor\": \"#2a3f5f\", \"gridcolor\": \"white\", \"linecolor\": \"white\", \"minorgridcolor\": \"white\", \"startlinecolor\": \"#2a3f5f\"}, \"type\": \"carpet\"}], \"choropleth\": [{\"colorbar\": {\"outlinewidth\": 0, \"ticks\": \"\"}, \"type\": \"choropleth\"}], \"contour\": [{\"colorbar\": {\"outlinewidth\": 0, \"ticks\": \"\"}, \"colorscale\": [[0.0, \"#0d0887\"], [0.1111111111111111, \"#46039f\"], [0.2222222222222222, \"#7201a8\"], [0.3333333333333333, \"#9c179e\"], [0.4444444444444444, \"#bd3786\"], [0.5555555555555556, \"#d8576b\"], [0.6666666666666666, \"#ed7953\"], [0.7777777777777778, \"#fb9f3a\"], [0.8888888888888888, \"#fdca26\"], [1.0, \"#f0f921\"]], \"type\": \"contour\"}], \"contourcarpet\": [{\"colorbar\": {\"outlinewidth\": 0, \"ticks\": \"\"}, \"type\": \"contourcarpet\"}], \"heatmap\": [{\"colorbar\": {\"outlinewidth\": 0, \"ticks\": \"\"}, \"colorscale\": [[0.0, \"#0d0887\"], [0.1111111111111111, \"#46039f\"], [0.2222222222222222, \"#7201a8\"], [0.3333333333333333, \"#9c179e\"], [0.4444444444444444, \"#bd3786\"], [0.5555555555555556, \"#d8576b\"], [0.6666666666666666, \"#ed7953\"], [0.7777777777777778, \"#fb9f3a\"], [0.8888888888888888, \"#fdca26\"], [1.0, \"#f0f921\"]], \"type\": \"heatmap\"}], \"heatmapgl\": [{\"colorbar\": {\"outlinewidth\": 0, \"ticks\": \"\"}, \"colorscale\": [[0.0, \"#0d0887\"], [0.1111111111111111, \"#46039f\"], [0.2222222222222222, \"#7201a8\"], [0.3333333333333333, \"#9c179e\"], [0.4444444444444444, \"#bd3786\"], [0.5555555555555556, \"#d8576b\"], [0.6666666666666666, \"#ed7953\"], [0.7777777777777778, \"#fb9f3a\"], [0.8888888888888888, \"#fdca26\"], [1.0, \"#f0f921\"]], \"type\": \"heatmapgl\"}], \"histogram\": [{\"marker\": {\"colorbar\": {\"outlinewidth\": 0, \"ticks\": \"\"}}, \"type\": \"histogram\"}], \"histogram2d\": [{\"colorbar\": {\"outlinewidth\": 0, \"ticks\": \"\"}, \"colorscale\": [[0.0, \"#0d0887\"], [0.1111111111111111, \"#46039f\"], [0.2222222222222222, \"#7201a8\"], [0.3333333333333333, \"#9c179e\"], [0.4444444444444444, \"#bd3786\"], [0.5555555555555556, \"#d8576b\"], [0.6666666666666666, \"#ed7953\"], [0.7777777777777778, \"#fb9f3a\"], [0.8888888888888888, \"#fdca26\"], [1.0, \"#f0f921\"]], \"type\": \"histogram2d\"}], \"histogram2dcontour\": [{\"colorbar\": {\"outlinewidth\": 0, \"ticks\": \"\"}, \"colorscale\": [[0.0, \"#0d0887\"], [0.1111111111111111, \"#46039f\"], [0.2222222222222222, \"#7201a8\"], [0.3333333333333333, \"#9c179e\"], [0.4444444444444444, \"#bd3786\"], [0.5555555555555556, \"#d8576b\"], [0.6666666666666666, \"#ed7953\"], [0.7777777777777778, \"#fb9f3a\"], [0.8888888888888888, \"#fdca26\"], [1.0, \"#f0f921\"]], \"type\": \"histogram2dcontour\"}], \"mesh3d\": [{\"colorbar\": {\"outlinewidth\": 0, \"ticks\": \"\"}, \"type\": \"mesh3d\"}], \"parcoords\": [{\"line\": {\"colorbar\": {\"outlinewidth\": 0, \"ticks\": \"\"}}, \"type\": \"parcoords\"}], \"pie\": [{\"automargin\": true, \"type\": \"pie\"}], \"scatter\": [{\"marker\": {\"colorbar\": {\"outlinewidth\": 0, \"ticks\": \"\"}}, \"type\": \"scatter\"}], \"scatter3d\": [{\"line\": {\"colorbar\": {\"outlinewidth\": 0, \"ticks\": \"\"}}, \"marker\": {\"colorbar\": {\"outlinewidth\": 0, \"ticks\": \"\"}}, \"type\": \"scatter3d\"}], \"scattercarpet\": [{\"marker\": {\"colorbar\": {\"outlinewidth\": 0, \"ticks\": \"\"}}, \"type\": \"scattercarpet\"}], \"scattergeo\": [{\"marker\": {\"colorbar\": {\"outlinewidth\": 0, \"ticks\": \"\"}}, \"type\": \"scattergeo\"}], \"scattergl\": [{\"marker\": {\"colorbar\": {\"outlinewidth\": 0, \"ticks\": \"\"}}, \"type\": \"scattergl\"}], \"scattermapbox\": [{\"marker\": {\"colorbar\": {\"outlinewidth\": 0, \"ticks\": \"\"}}, \"type\": \"scattermapbox\"}], \"scatterpolar\": [{\"marker\": {\"colorbar\": {\"outlinewidth\": 0, \"ticks\": \"\"}}, \"type\": \"scatterpolar\"}], \"scatterpolargl\": [{\"marker\": {\"colorbar\": {\"outlinewidth\": 0, \"ticks\": \"\"}}, \"type\": \"scatterpolargl\"}], \"scatterternary\": [{\"marker\": {\"colorbar\": {\"outlinewidth\": 0, \"ticks\": \"\"}}, \"type\": \"scatterternary\"}], \"surface\": [{\"colorbar\": {\"outlinewidth\": 0, \"ticks\": \"\"}, \"colorscale\": [[0.0, \"#0d0887\"], [0.1111111111111111, \"#46039f\"], [0.2222222222222222, \"#7201a8\"], [0.3333333333333333, \"#9c179e\"], [0.4444444444444444, \"#bd3786\"], [0.5555555555555556, \"#d8576b\"], [0.6666666666666666, \"#ed7953\"], [0.7777777777777778, \"#fb9f3a\"], [0.8888888888888888, \"#fdca26\"], [1.0, \"#f0f921\"]], \"type\": \"surface\"}], \"table\": [{\"cells\": {\"fill\": {\"color\": \"#EBF0F8\"}, \"line\": {\"color\": \"white\"}}, \"header\": {\"fill\": {\"color\": \"#C8D4E3\"}, \"line\": {\"color\": \"white\"}}, \"type\": \"table\"}]}, \"layout\": {\"annotationdefaults\": {\"arrowcolor\": \"#2a3f5f\", \"arrowhead\": 0, \"arrowwidth\": 1}, \"coloraxis\": {\"colorbar\": {\"outlinewidth\": 0, \"ticks\": \"\"}}, \"colorscale\": {\"diverging\": [[0, \"#8e0152\"], [0.1, \"#c51b7d\"], [0.2, \"#de77ae\"], [0.3, \"#f1b6da\"], [0.4, \"#fde0ef\"], [0.5, \"#f7f7f7\"], [0.6, \"#e6f5d0\"], [0.7, \"#b8e186\"], [0.8, \"#7fbc41\"], [0.9, \"#4d9221\"], [1, \"#276419\"]], \"sequential\": [[0.0, \"#0d0887\"], [0.1111111111111111, \"#46039f\"], [0.2222222222222222, \"#7201a8\"], [0.3333333333333333, \"#9c179e\"], [0.4444444444444444, \"#bd3786\"], [0.5555555555555556, \"#d8576b\"], [0.6666666666666666, \"#ed7953\"], [0.7777777777777778, \"#fb9f3a\"], [0.8888888888888888, \"#fdca26\"], [1.0, \"#f0f921\"]], \"sequentialminus\": [[0.0, \"#0d0887\"], [0.1111111111111111, \"#46039f\"], [0.2222222222222222, \"#7201a8\"], [0.3333333333333333, \"#9c179e\"], [0.4444444444444444, \"#bd3786\"], [0.5555555555555556, \"#d8576b\"], [0.6666666666666666, \"#ed7953\"], [0.7777777777777778, \"#fb9f3a\"], [0.8888888888888888, \"#fdca26\"], [1.0, \"#f0f921\"]]}, \"colorway\": [\"#636efa\", \"#EF553B\", \"#00cc96\", \"#ab63fa\", \"#FFA15A\", \"#19d3f3\", \"#FF6692\", \"#B6E880\", \"#FF97FF\", \"#FECB52\"], \"font\": {\"color\": \"#2a3f5f\"}, \"geo\": {\"bgcolor\": \"white\", \"lakecolor\": \"white\", \"landcolor\": \"#E5ECF6\", \"showlakes\": true, \"showland\": true, \"subunitcolor\": \"white\"}, \"hoverlabel\": {\"align\": \"left\"}, \"hovermode\": \"closest\", \"mapbox\": {\"style\": \"light\"}, \"paper_bgcolor\": \"white\", \"plot_bgcolor\": \"#E5ECF6\", \"polar\": {\"angularaxis\": {\"gridcolor\": \"white\", \"linecolor\": \"white\", \"ticks\": \"\"}, \"bgcolor\": \"#E5ECF6\", \"radialaxis\": {\"gridcolor\": \"white\", \"linecolor\": \"white\", \"ticks\": \"\"}}, \"scene\": {\"xaxis\": {\"backgroundcolor\": \"#E5ECF6\", \"gridcolor\": \"white\", \"gridwidth\": 2, \"linecolor\": \"white\", \"showbackground\": true, \"ticks\": \"\", \"zerolinecolor\": \"white\"}, \"yaxis\": {\"backgroundcolor\": \"#E5ECF6\", \"gridcolor\": \"white\", \"gridwidth\": 2, \"linecolor\": \"white\", \"showbackground\": true, \"ticks\": \"\", \"zerolinecolor\": \"white\"}, \"zaxis\": {\"backgroundcolor\": \"#E5ECF6\", \"gridcolor\": \"white\", \"gridwidth\": 2, \"linecolor\": \"white\", \"showbackground\": true, \"ticks\": \"\", \"zerolinecolor\": \"white\"}}, \"shapedefaults\": {\"line\": {\"color\": \"#2a3f5f\"}}, \"ternary\": {\"aaxis\": {\"gridcolor\": \"white\", \"linecolor\": \"white\", \"ticks\": \"\"}, \"baxis\": {\"gridcolor\": \"white\", \"linecolor\": \"white\", \"ticks\": \"\"}, \"bgcolor\": \"#E5ECF6\", \"caxis\": {\"gridcolor\": \"white\", \"linecolor\": \"white\", \"ticks\": \"\"}}, \"title\": {\"x\": 0.05}, \"xaxis\": {\"automargin\": true, \"gridcolor\": \"white\", \"linecolor\": \"white\", \"ticks\": \"\", \"title\": {\"standoff\": 15}, \"zerolinecolor\": \"white\", \"zerolinewidth\": 2}, \"yaxis\": {\"automargin\": true, \"gridcolor\": \"white\", \"linecolor\": \"white\", \"ticks\": \"\", \"title\": {\"standoff\": 15}, \"zerolinecolor\": \"white\", \"zerolinewidth\": 2}}}, \"title\": {\"text\": \"Valores reais e previstos de correla\\u00e7\\u00e3o negativa de mortalidade de COVID-19\"}},\n",
              "                        {\"responsive\": true}\n",
              "                    ).then(function(){\n",
              "                            \n",
              "var gd = document.getElementById('fb3e9b43-a383-4dca-9442-552a4f4e6c6e');\n",
              "var x = new MutationObserver(function (mutations, observer) {{\n",
              "        var display = window.getComputedStyle(gd).display;\n",
              "        if (!display || display === 'none') {{\n",
              "            console.log([gd, 'removed!']);\n",
              "            Plotly.purge(gd);\n",
              "            observer.disconnect();\n",
              "        }}\n",
              "}});\n",
              "\n",
              "// Listen for the removal of the full notebook cells\n",
              "var notebookContainer = gd.closest('#notebook-container');\n",
              "if (notebookContainer) {{\n",
              "    x.observe(notebookContainer, {childList: true});\n",
              "}}\n",
              "\n",
              "// Listen for the clearing of the current output cell\n",
              "var outputEl = gd.closest('.output');\n",
              "if (outputEl) {{\n",
              "    x.observe(outputEl, {childList: true});\n",
              "}}\n",
              "\n",
              "                        })\n",
              "                };\n",
              "                \n",
              "            </script>\n",
              "        </div>\n",
              "</body>\n",
              "</html>"
            ]
          },
          "metadata": {
            "tags": []
          }
        }
      ]
    },
    {
      "cell_type": "code",
      "metadata": {
        "id": "AdVn0qKkIvmE",
        "colab": {
          "base_uri": "https://localhost:8080/",
          "height": 401
        },
        "outputId": "2aa95e3c-ac2e-494b-c973-a51de9b11cd9"
      },
      "source": [
        "df_corr_negativa = pd.DataFrame ({'Real': ytest_corr_negativa, 'Previsto': ipred_corr_negativa}) \n",
        "sns.lmplot(x=\"Real\", y=\"Previsto\", data=df_corr_negativa)"
      ],
      "execution_count": null,
      "outputs": [
        {
          "output_type": "execute_result",
          "data": {
            "text/plain": [
              "<seaborn.axisgrid.FacetGrid at 0x7fe954a23ad0>"
            ]
          },
          "metadata": {
            "tags": []
          },
          "execution_count": 20
        },
        {
          "output_type": "display_data",
          "data": {
            "image/png": "[encoded data removed]",
            "text/plain": [
              "<Figure size 360x360 with 1 Axes>"
            ]
          },
          "metadata": {
            "tags": [],
            "needs_background": "light"
          }
        }
      ]
    },
    {
      "cell_type": "code",
      "metadata": {
        "id": "SCxvQ0HZ-NPw"
      },
      "source": [
        "corr_posit_negat = corr_posit + corr_negat\n",
        "corr_pos_neg = idhmcovid[idhmcovid.columns.intersection(corr_posit_negat)]"
      ],
      "execution_count": null,
      "outputs": []
    },
    {
      "cell_type": "code",
      "metadata": {
        "id": "PJsDtEVnmM1W"
      },
      "source": [
        "xtrain_corr_pos_neg, xtest_corr_pos_neg, ytrain_corr_pos_neg, ytest_corr_pos_neg = train_test_split(corr_pos_neg, mortalidade, test_size=0.4, random_state=42)"
      ],
      "execution_count": null,
      "outputs": []
    },
    {
      "cell_type": "code",
      "metadata": {
        "id": "KRBmBdtImZ10",
        "colab": {
          "base_uri": "https://localhost:8080/"
        },
        "outputId": "7eadff7a-7d30-467d-941e-ec94c456a414"
      },
      "source": [
        "linreg_corr_pos_neg = LinearRegression()\n",
        "linreg_corr_pos_neg.fit(xtrain_corr_pos_neg, ytrain_corr_pos_neg)\n",
        "print('linear model coeff (w): {}'\n",
        ".format(linreg_corr_pos_neg.coef_))\n",
        "print('linear model intercept (b): {:.3f}'\n",
        ".format(linreg_corr_pos_neg.intercept_))\n",
        "print('R-squared score (training): {:.3f}'\n",
        ".format(linreg_corr_pos_neg.score(xtrain_corr_pos_neg, ytrain_corr_pos_neg)))\n",
        "print('R-squared score (test): {:.3f}'\n",
        ".format(linreg_corr_pos_neg.score(xtest_corr_pos_neg, ytest_corr_pos_neg)))"
      ],
      "execution_count": null,
      "outputs": [
        {
          "output_type": "stream",
          "text": [
            "linear model coeff (w): [-2.22316184e-03  5.62959625e-05 -4.02339252e-04 -1.45593003e-03\n",
            "  5.60675840e-04  7.33351226e-03 -6.66964618e-04  7.27688592e-04\n",
            " -6.28320383e-03 -2.72144403e-04 -1.51189161e-02  2.19847999e-04\n",
            "  1.09391616e-03  1.30587555e-02  6.29368476e-04 -4.44945459e-02\n",
            "  8.22876238e-04 -2.00057773e-03  1.86738046e-03]\n",
            "linear model intercept (b): 0.388\n",
            "R-squared score (training): 0.514\n",
            "R-squared score (test): -0.129\n"
          ],
          "name": "stdout"
        }
      ]
    },
    {
      "cell_type": "code",
      "metadata": {
        "id": "f7Q6ylHQm6ow",
        "colab": {
          "base_uri": "https://localhost:8080/"
        },
        "outputId": "810cd4fe-beb1-42ca-c17a-aa655eb91b42"
      },
      "source": [
        "pred_corr_pos_neg = linreg_corr_pos_neg.predict(xtest_corr_pos_neg)\n",
        "print('Mean squared error: %.2f'\n",
        "      % mean_squared_error(ytest_corr_pos_neg, pred_corr_pos_neg))\n",
        "print('Coefficient of determination: %.2f'\n",
        "      % r2_score(ytest_corr_pos_neg, pred_corr_pos_neg))"
      ],
      "execution_count": null,
      "outputs": [
        {
          "output_type": "stream",
          "text": [
            "Mean squared error: 0.00\n",
            "Coefficient of determination: -0.13\n"
          ],
          "name": "stdout"
        }
      ]
    },
    {
      "cell_type": "code",
      "metadata": {
        "id": "9skuAKJAnMpi",
        "colab": {
          "base_uri": "https://localhost:8080/",
          "height": 542
        },
        "outputId": "b1428d53-b057-4ff6-bb2a-f301d3ceecf3"
      },
      "source": [
        "fig = go.Figure(data=go.Scatter(x=ytest_corr_pos_neg, y=pred_corr_pos_neg, mode='markers')) \n",
        "fig.update_layout(title=\"Valores reais e previstos das 20 maiores correlações de mortalidade de COVID-19\")\n",
        "fig.show()"
      ],
      "execution_count": null,
      "outputs": [
        {
          "output_type": "display_data",
          "data": {
            "text/html": [
              "<html>\n",
              "<head><meta charset=\"utf-8\" /></head>\n",
              "<body>\n",
              "    <div>\n",
              "            <script src=\"https://cdnjs.cloudflare.com/ajax/libs/mathjax/2.7.5/MathJax.js?config=TeX-AMS-MML_SVG\"></script><script type=\"text/javascript\">if (window.MathJax) {MathJax.Hub.Config({SVG: {font: \"STIX-Web\"}});}</script>\n",
              "                <script type=\"text/javascript\">window.PlotlyConfig = {MathJaxConfig: 'local'};</script>\n",
              "        <script src=\"https://cdn.plot.ly/plotly-latest.min.js\"></script>    \n",
              "            <div id=\"2f3b22e8-5e03-470f-bca4-03876ad5d285\" class=\"plotly-graph-div\" style=\"height:525px; width:100%;\"></div>\n",
              "            <script type=\"text/javascript\">\n",
              "                \n",
              "                    window.PLOTLYENV=window.PLOTLYENV || {};\n",
              "                    \n",
              "                if (document.getElementById(\"2f3b22e8-5e03-470f-bca4-03876ad5d285\")) {\n",
              "                    Plotly.newPlot(\n",
              "                        '2f3b22e8-5e03-470f-bca4-03876ad5d285',\n",
              "                        [{\"mode\": \"markers\", \"type\": \"scatter\", \"x\": [0.0209, 0.0165, 0.061, 0.0213, 0.0266, 0.014, 0.0503, 0.0468, 0.0162, 0.0682, 0.0398, 0.0314, 0.0335, 0.0198, 0.0447, 0.0163, 0.0273, 0.0348, 0.0373, 0.0507, 0.0253, 0.0155, 0.0196, 0.0192, 0.026, 0.0294, 0.033, 0.0255, 0.0493, 0.025, 0.0257, 0.0303, 0.0391, 0.0355, 0.0272, 0.036, 0.0294, 0.065, 0.0323, 0.0324, 0.0275, 0.0128, 0.0332, 0.024, 0.0269, 0.0252, 0.0304, 0.0371, 0.0377, 0.0509, 0.0194, 0.0234, 0.0159, 0.03, 0.0166, 0.04, 0.0298, 0.029, 0.0278, 0.025, 0.0261, 0.0469, 0.0211, 0.0157, 0.0301, 0.0187, 0.0338, 0.0262, 0.0192, 0.0279, 0.0285, 0.0164, 0.0431, 0.0314, 0.0474, 0.0437, 0.0313, 0.0212, 0.0291, 0.044, 0.0356, 0.0202, 0.0475, 0.0351, 0.0386, 0.0113, 0.0335, 0.0584, 0.0309, 0.0356, 0.0574, 0.0385, 0.0495, 0.0119, 0.0384, 0.0175, 0.022, 0.0113, 0.0198, 0.0245, 0.0262, 0.0274, 0.0378, 0.019, 0.0332, 0.0467, 0.0288, 0.0245, 0.0164, 0.0256, 0.0243, 0.0248, 0.0505, 0.0464, 0.0285, 0.0168, 0.0167, 0.0258, 0.0892, 0.0286, 0.0243, 0.027, 0.0315, 0.0349, 0.0424, 0.0557, 0.0381, 0.0538, 0.0183, 0.0091], \"y\": [0.014648681925805374, 0.029145320138239783, 0.0508516108625246, 0.027650869544416645, 0.035214833984278215, 0.025965518272160648, 0.057592894320668275, 0.047660187415058786, 0.006136001228073229, 0.07725575048170064, 0.03562723979485721, 0.03475372730249976, 0.03544267021601777, 0.028427003362337278, 0.04817541449248758, 0.017082911544528512, 0.022999213825303122, 0.04684882772816934, 0.016765204963487323, 0.03416188708815737, 0.01843506678883783, 0.014269431157381829, 0.02463654851533953, 0.042759511272408124, 0.02817636139394314, 0.07763852766870588, 0.030656918648843734, 0.03437844168590426, 0.04567862610771284, 0.015420113938378777, 0.06310365792040662, 0.03667321206311086, 0.017726066420225062, 0.021377585055710746, 0.024438985818289016, 0.03051840534755229, 0.025996160765341836, 0.04394864881249333, 0.02273193784402522, 0.04300786616124885, 0.031050246761522293, 0.03087506987864741, 0.03281080136093484, 0.004877814153755489, 0.039338434700576685, 0.026108962696710147, 0.03208924129161794, 0.03585469609140485, 0.05557098570344249, 0.030379496224179958, 0.03261208366336277, 0.026825806748716652, 0.02264642266961614, 0.04606849960299758, 0.011491167472055086, 0.026452250142783795, 0.028220975030123552, 0.03352861677817509, 0.022866407053942273, 0.02382286097109676, 0.01984950370693067, 0.04081449361613965, 0.020496412789586693, 0.026032081954421027, 0.019583443530234834, 0.02897043771436164, 0.04939014077055304, 0.02763157672355554, 0.026008936884175937, 0.04131617359467388, 0.022225268725492298, 0.031708020148476346, 0.030914462435953083, 0.034528886607217646, 0.0397906379134369, 0.030766638001277713, 0.02867139150131609, 0.028809223348181756, 0.029167537841844005, 0.039231745932855056, 0.04762822911892184, 0.037102727953092274, 0.04495220152592039, 0.017834245417916006, 0.05201329119766662, 0.017329458389987562, 0.09055139239372267, 0.06252149400692214, 0.007708981272848914, 0.031186315101289108, 0.04366893499711094, 0.022104064090674502, 0.029525594346586692, 0.020756045172615367, 0.019857775129089095, 0.025141543474705652, 0.0303605742865678, 0.02883198505182638, 0.02631450736313179, 0.04184301721299716, 0.046197264430774154, 0.04554992426173565, 0.03548548297256193, 0.005332544706766751, 0.05789474910408804, 0.04943141638954174, 0.018268849678160892, 0.022315693570298833, 0.010955188831886897, 0.0028654240579254475, 0.04430328331058886, 0.0057657690377747595, 0.04589836822761467, 0.07361080240386281, 0.031205814233508655, 0.022432412762258824, 0.015764778285806413, 0.031515108698526695, 0.06760048352114295, 0.032105277994358916, 0.03309682114967272, 0.05374756782886464, 0.017590154612791342, 0.0424016989217062, 0.02858148964764312, 0.08222489364302699, 0.025491774880401996, 0.048445740789424596, 0.012498603912470707, 0.018333735098787496]}],\n",
              "                        {\"template\": {\"data\": {\"bar\": [{\"error_x\": {\"color\": \"#2a3f5f\"}, \"error_y\": {\"color\": \"#2a3f5f\"}, \"marker\": {\"line\": {\"color\": \"#E5ECF6\", \"width\": 0.5}}, \"type\": \"bar\"}], \"barpolar\": [{\"marker\": {\"line\": {\"color\": \"#E5ECF6\", \"width\": 0.5}}, \"type\": \"barpolar\"}], \"carpet\": [{\"aaxis\": {\"endlinecolor\": \"#2a3f5f\", \"gridcolor\": \"white\", \"linecolor\": \"white\", \"minorgridcolor\": \"white\", \"startlinecolor\": \"#2a3f5f\"}, \"baxis\": {\"endlinecolor\": \"#2a3f5f\", \"gridcolor\": \"white\", \"linecolor\": \"white\", \"minorgridcolor\": \"white\", \"startlinecolor\": \"#2a3f5f\"}, \"type\": \"carpet\"}], \"choropleth\": [{\"colorbar\": {\"outlinewidth\": 0, \"ticks\": \"\"}, \"type\": \"choropleth\"}], \"contour\": [{\"colorbar\": {\"outlinewidth\": 0, \"ticks\": \"\"}, \"colorscale\": [[0.0, \"#0d0887\"], [0.1111111111111111, \"#46039f\"], [0.2222222222222222, \"#7201a8\"], [0.3333333333333333, \"#9c179e\"], [0.4444444444444444, \"#bd3786\"], [0.5555555555555556, \"#d8576b\"], [0.6666666666666666, \"#ed7953\"], [0.7777777777777778, \"#fb9f3a\"], [0.8888888888888888, \"#fdca26\"], [1.0, \"#f0f921\"]], \"type\": \"contour\"}], \"contourcarpet\": [{\"colorbar\": {\"outlinewidth\": 0, \"ticks\": \"\"}, \"type\": \"contourcarpet\"}], \"heatmap\": [{\"colorbar\": {\"outlinewidth\": 0, \"ticks\": \"\"}, \"colorscale\": [[0.0, \"#0d0887\"], [0.1111111111111111, \"#46039f\"], [0.2222222222222222, \"#7201a8\"], [0.3333333333333333, \"#9c179e\"], [0.4444444444444444, \"#bd3786\"], [0.5555555555555556, \"#d8576b\"], [0.6666666666666666, \"#ed7953\"], [0.7777777777777778, \"#fb9f3a\"], [0.8888888888888888, \"#fdca26\"], [1.0, \"#f0f921\"]], \"type\": \"heatmap\"}], \"heatmapgl\": [{\"colorbar\": {\"outlinewidth\": 0, \"ticks\": \"\"}, \"colorscale\": [[0.0, \"#0d0887\"], [0.1111111111111111, \"#46039f\"], [0.2222222222222222, \"#7201a8\"], [0.3333333333333333, \"#9c179e\"], [0.4444444444444444, \"#bd3786\"], [0.5555555555555556, \"#d8576b\"], [0.6666666666666666, \"#ed7953\"], [0.7777777777777778, \"#fb9f3a\"], [0.8888888888888888, \"#fdca26\"], [1.0, \"#f0f921\"]], \"type\": \"heatmapgl\"}], \"histogram\": [{\"marker\": {\"colorbar\": {\"outlinewidth\": 0, \"ticks\": \"\"}}, \"type\": \"histogram\"}], \"histogram2d\": [{\"colorbar\": {\"outlinewidth\": 0, \"ticks\": \"\"}, \"colorscale\": [[0.0, \"#0d0887\"], [0.1111111111111111, \"#46039f\"], [0.2222222222222222, \"#7201a8\"], [0.3333333333333333, \"#9c179e\"], [0.4444444444444444, \"#bd3786\"], [0.5555555555555556, \"#d8576b\"], [0.6666666666666666, \"#ed7953\"], [0.7777777777777778, \"#fb9f3a\"], [0.8888888888888888, \"#fdca26\"], [1.0, \"#f0f921\"]], \"type\": \"histogram2d\"}], \"histogram2dcontour\": [{\"colorbar\": {\"outlinewidth\": 0, \"ticks\": \"\"}, \"colorscale\": [[0.0, \"#0d0887\"], [0.1111111111111111, \"#46039f\"], [0.2222222222222222, \"#7201a8\"], [0.3333333333333333, \"#9c179e\"], [0.4444444444444444, \"#bd3786\"], [0.5555555555555556, \"#d8576b\"], [0.6666666666666666, \"#ed7953\"], [0.7777777777777778, \"#fb9f3a\"], [0.8888888888888888, \"#fdca26\"], [1.0, \"#f0f921\"]], \"type\": \"histogram2dcontour\"}], \"mesh3d\": [{\"colorbar\": {\"outlinewidth\": 0, \"ticks\": \"\"}, \"type\": \"mesh3d\"}], \"parcoords\": [{\"line\": {\"colorbar\": {\"outlinewidth\": 0, \"ticks\": \"\"}}, \"type\": \"parcoords\"}], \"pie\": [{\"automargin\": true, \"type\": \"pie\"}], \"scatter\": [{\"marker\": {\"colorbar\": {\"outlinewidth\": 0, \"ticks\": \"\"}}, \"type\": \"scatter\"}], \"scatter3d\": [{\"line\": {\"colorbar\": {\"outlinewidth\": 0, \"ticks\": \"\"}}, \"marker\": {\"colorbar\": {\"outlinewidth\": 0, \"ticks\": \"\"}}, \"type\": \"scatter3d\"}], \"scattercarpet\": [{\"marker\": {\"colorbar\": {\"outlinewidth\": 0, \"ticks\": \"\"}}, \"type\": \"scattercarpet\"}], \"scattergeo\": [{\"marker\": {\"colorbar\": {\"outlinewidth\": 0, \"ticks\": \"\"}}, \"type\": \"scattergeo\"}], \"scattergl\": [{\"marker\": {\"colorbar\": {\"outlinewidth\": 0, \"ticks\": \"\"}}, \"type\": \"scattergl\"}], \"scattermapbox\": [{\"marker\": {\"colorbar\": {\"outlinewidth\": 0, \"ticks\": \"\"}}, \"type\": \"scattermapbox\"}], \"scatterpolar\": [{\"marker\": {\"colorbar\": {\"outlinewidth\": 0, \"ticks\": \"\"}}, \"type\": \"scatterpolar\"}], \"scatterpolargl\": [{\"marker\": {\"colorbar\": {\"outlinewidth\": 0, \"ticks\": \"\"}}, \"type\": \"scatterpolargl\"}], \"scatterternary\": [{\"marker\": {\"colorbar\": {\"outlinewidth\": 0, \"ticks\": \"\"}}, \"type\": \"scatterternary\"}], \"surface\": [{\"colorbar\": {\"outlinewidth\": 0, \"ticks\": \"\"}, \"colorscale\": [[0.0, \"#0d0887\"], [0.1111111111111111, \"#46039f\"], [0.2222222222222222, \"#7201a8\"], [0.3333333333333333, \"#9c179e\"], [0.4444444444444444, \"#bd3786\"], [0.5555555555555556, \"#d8576b\"], [0.6666666666666666, \"#ed7953\"], [0.7777777777777778, \"#fb9f3a\"], [0.8888888888888888, \"#fdca26\"], [1.0, \"#f0f921\"]], \"type\": \"surface\"}], \"table\": [{\"cells\": {\"fill\": {\"color\": \"#EBF0F8\"}, \"line\": {\"color\": \"white\"}}, \"header\": {\"fill\": {\"color\": \"#C8D4E3\"}, \"line\": {\"color\": \"white\"}}, \"type\": \"table\"}]}, \"layout\": {\"annotationdefaults\": {\"arrowcolor\": \"#2a3f5f\", \"arrowhead\": 0, \"arrowwidth\": 1}, \"coloraxis\": {\"colorbar\": {\"outlinewidth\": 0, \"ticks\": \"\"}}, \"colorscale\": {\"diverging\": [[0, \"#8e0152\"], [0.1, \"#c51b7d\"], [0.2, \"#de77ae\"], [0.3, \"#f1b6da\"], [0.4, \"#fde0ef\"], [0.5, \"#f7f7f7\"], [0.6, \"#e6f5d0\"], [0.7, \"#b8e186\"], [0.8, \"#7fbc41\"], [0.9, \"#4d9221\"], [1, \"#276419\"]], \"sequential\": [[0.0, \"#0d0887\"], [0.1111111111111111, \"#46039f\"], [0.2222222222222222, \"#7201a8\"], [0.3333333333333333, \"#9c179e\"], [0.4444444444444444, \"#bd3786\"], [0.5555555555555556, \"#d8576b\"], [0.6666666666666666, \"#ed7953\"], [0.7777777777777778, \"#fb9f3a\"], [0.8888888888888888, \"#fdca26\"], [1.0, \"#f0f921\"]], \"sequentialminus\": [[0.0, \"#0d0887\"], [0.1111111111111111, \"#46039f\"], [0.2222222222222222, \"#7201a8\"], [0.3333333333333333, \"#9c179e\"], [0.4444444444444444, \"#bd3786\"], [0.5555555555555556, \"#d8576b\"], [0.6666666666666666, \"#ed7953\"], [0.7777777777777778, \"#fb9f3a\"], [0.8888888888888888, \"#fdca26\"], [1.0, \"#f0f921\"]]}, \"colorway\": [\"#636efa\", \"#EF553B\", \"#00cc96\", \"#ab63fa\", \"#FFA15A\", \"#19d3f3\", \"#FF6692\", \"#B6E880\", \"#FF97FF\", \"#FECB52\"], \"font\": {\"color\": \"#2a3f5f\"}, \"geo\": {\"bgcolor\": \"white\", \"lakecolor\": \"white\", \"landcolor\": \"#E5ECF6\", \"showlakes\": true, \"showland\": true, \"subunitcolor\": \"white\"}, \"hoverlabel\": {\"align\": \"left\"}, \"hovermode\": \"closest\", \"mapbox\": {\"style\": \"light\"}, \"paper_bgcolor\": \"white\", \"plot_bgcolor\": \"#E5ECF6\", \"polar\": {\"angularaxis\": {\"gridcolor\": \"white\", \"linecolor\": \"white\", \"ticks\": \"\"}, \"bgcolor\": \"#E5ECF6\", \"radialaxis\": {\"gridcolor\": \"white\", \"linecolor\": \"white\", \"ticks\": \"\"}}, \"scene\": {\"xaxis\": {\"backgroundcolor\": \"#E5ECF6\", \"gridcolor\": \"white\", \"gridwidth\": 2, \"linecolor\": \"white\", \"showbackground\": true, \"ticks\": \"\", \"zerolinecolor\": \"white\"}, \"yaxis\": {\"backgroundcolor\": \"#E5ECF6\", \"gridcolor\": \"white\", \"gridwidth\": 2, \"linecolor\": \"white\", \"showbackground\": true, \"ticks\": \"\", \"zerolinecolor\": \"white\"}, \"zaxis\": {\"backgroundcolor\": \"#E5ECF6\", \"gridcolor\": \"white\", \"gridwidth\": 2, \"linecolor\": \"white\", \"showbackground\": true, \"ticks\": \"\", \"zerolinecolor\": \"white\"}}, \"shapedefaults\": {\"line\": {\"color\": \"#2a3f5f\"}}, \"ternary\": {\"aaxis\": {\"gridcolor\": \"white\", \"linecolor\": \"white\", \"ticks\": \"\"}, \"baxis\": {\"gridcolor\": \"white\", \"linecolor\": \"white\", \"ticks\": \"\"}, \"bgcolor\": \"#E5ECF6\", \"caxis\": {\"gridcolor\": \"white\", \"linecolor\": \"white\", \"ticks\": \"\"}}, \"title\": {\"x\": 0.05}, \"xaxis\": {\"automargin\": true, \"gridcolor\": \"white\", \"linecolor\": \"white\", \"ticks\": \"\", \"title\": {\"standoff\": 15}, \"zerolinecolor\": \"white\", \"zerolinewidth\": 2}, \"yaxis\": {\"automargin\": true, \"gridcolor\": \"white\", \"linecolor\": \"white\", \"ticks\": \"\", \"title\": {\"standoff\": 15}, \"zerolinecolor\": \"white\", \"zerolinewidth\": 2}}}, \"title\": {\"text\": \"Valores reais e previstos das 20 maiores correla\\u00e7\\u00f5es de mortalidade de COVID-19\"}},\n",
              "                        {\"responsive\": true}\n",
              "                    ).then(function(){\n",
              "                            \n",
              "var gd = document.getElementById('2f3b22e8-5e03-470f-bca4-03876ad5d285');\n",
              "var x = new MutationObserver(function (mutations, observer) {{\n",
              "        var display = window.getComputedStyle(gd).display;\n",
              "        if (!display || display === 'none') {{\n",
              "            console.log([gd, 'removed!']);\n",
              "            Plotly.purge(gd);\n",
              "            observer.disconnect();\n",
              "        }}\n",
              "}});\n",
              "\n",
              "// Listen for the removal of the full notebook cells\n",
              "var notebookContainer = gd.closest('#notebook-container');\n",
              "if (notebookContainer) {{\n",
              "    x.observe(notebookContainer, {childList: true});\n",
              "}}\n",
              "\n",
              "// Listen for the clearing of the current output cell\n",
              "var outputEl = gd.closest('.output');\n",
              "if (outputEl) {{\n",
              "    x.observe(outputEl, {childList: true});\n",
              "}}\n",
              "\n",
              "                        })\n",
              "                };\n",
              "                \n",
              "            </script>\n",
              "        </div>\n",
              "</body>\n",
              "</html>"
            ]
          },
          "metadata": {
            "tags": []
          }
        }
      ]
    },
    {
      "cell_type": "code",
      "metadata": {
        "id": "p36mO72qnbpN",
        "colab": {
          "base_uri": "https://localhost:8080/",
          "height": 401
        },
        "outputId": "9e283a4e-fd0c-4687-e1b7-7d485444092f"
      },
      "source": [
        "df_corr_pos_neg = pd.DataFrame ({'Real': ytest_corr_pos_neg, 'Previsto': pred_corr_pos_neg}) \n",
        "sns.lmplot(x=\"Real\", y=\"Previsto\", data=df_corr_pos_neg)"
      ],
      "execution_count": null,
      "outputs": [
        {
          "output_type": "execute_result",
          "data": {
            "text/plain": [
              "<seaborn.axisgrid.FacetGrid at 0x7fe9581635d0>"
            ]
          },
          "metadata": {
            "tags": []
          },
          "execution_count": 26
        },
        {
          "output_type": "display_data",
          "data": {
            "image/png": "[encoded data removed]",
            "text/plain": [
              "<Figure size 360x360 with 1 Axes>"
            ]
          },
          "metadata": {
            "tags": [],
            "needs_background": "light"
          }
        }
      ]
    }
  ]
}