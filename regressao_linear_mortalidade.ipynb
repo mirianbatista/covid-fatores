{
  "nbformat": 4,
  "nbformat_minor": 0,
  "metadata": {
    "colab": {
      "name": "regressao-linear-mortalidade.ipynb",
      "provenance": [],
      "collapsed_sections": [],
      "include_colab_link": true
    },
    "kernelspec": {
      "name": "python3",
      "display_name": "Python 3"
    }
  },
  "cells": [
    {
      "cell_type": "markdown",
      "metadata": {
        "id": "view-in-github",
        "colab_type": "text"
      },
      "source": [
        "<a href=\"https://colab.research.google.com/github/mirianbatista/covid-fatores/blob/master/regressao_linear_mortalidade.ipynb\" target=\"_parent\"><img src=\"https://colab.research.google.com/assets/colab-badge.svg\" alt=\"Open In Colab\"/></a>"
      ]
    },
    {
      "cell_type": "code",
      "metadata": {
        "id": "TMEGspqnC8ek"
      },
      "source": [
        "import pandas as pd\n",
        "import requests\n",
        "import io\n",
        "import gzip\n",
        "from sklearn.model_selection import train_test_split\n",
        "from sklearn.linear_model import LinearRegression\n",
        "from sklearn.metrics import mean_squared_error, r2_score\n",
        "import plotly.graph_objects as go\n",
        "import seaborn as sns"
      ],
      "execution_count": 1,
      "outputs": []
    },
    {
      "cell_type": "code",
      "metadata": {
        "id": "Tip46VmsDw2b"
      },
      "source": [
        "idhm = pd.read_excel('https://github.com/mirianbatista/idhm-pb/blob/master/atlas2013_dadosbrutos_pt.xlsx?raw=true', sheet_name=1, dtype = {'UF': str, 'Codmun7':str}) "
      ],
      "execution_count": 2,
      "outputs": []
    },
    {
      "cell_type": "code",
      "metadata": {
        "colab": {
          "base_uri": "https://localhost:8080/",
          "height": 414
        },
        "id": "hvuFrKGDMHYv",
        "outputId": "6e0c596a-cf54-4c5b-827c-7f16d3f3d2f9"
      },
      "source": [
        "url = \"https://data.brasil.io/dataset/covid19/caso_full.csv.gz\"\n",
        "cols = 'city','city_ibge_code','date','estimated_population_2019','last_available_death_rate'\n",
        "response = requests.get(url)\n",
        "bytes_io = io.BytesIO(response.content)\n",
        "with gzip.open(bytes_io, 'rt') as read_file:\n",
        "    covid = pd.read_csv(read_file, usecols=cols, parse_dates=[\"date\"], dtype={\"city_ibge_code\": str})\n",
        "covid = covid[covid.date == max(covid.date)]\n",
        "covid"
      ],
      "execution_count": 3,
      "outputs": [
        {
          "output_type": "execute_result",
          "data": {
            "text/html": [
              "<div>\n",
              "<style scoped>\n",
              "    .dataframe tbody tr th:only-of-type {\n",
              "        vertical-align: middle;\n",
              "    }\n",
              "\n",
              "    .dataframe tbody tr th {\n",
              "        vertical-align: top;\n",
              "    }\n",
              "\n",
              "    .dataframe thead th {\n",
              "        text-align: right;\n",
              "    }\n",
              "</style>\n",
              "<table border=\"1\" class=\"dataframe\">\n",
              "  <thead>\n",
              "    <tr style=\"text-align: right;\">\n",
              "      <th></th>\n",
              "      <th>city</th>\n",
              "      <th>city_ibge_code</th>\n",
              "      <th>date</th>\n",
              "      <th>estimated_population_2019</th>\n",
              "      <th>last_available_death_rate</th>\n",
              "    </tr>\n",
              "  </thead>\n",
              "  <tbody>\n",
              "    <tr>\n",
              "      <th>9802</th>\n",
              "      <td>Acrelândia</td>\n",
              "      <td>1200013</td>\n",
              "      <td>2021-06-25</td>\n",
              "      <td>15256.0</td>\n",
              "      <td>0.0220</td>\n",
              "    </tr>\n",
              "    <tr>\n",
              "      <th>9803</th>\n",
              "      <td>Assis Brasil</td>\n",
              "      <td>1200054</td>\n",
              "      <td>2021-06-25</td>\n",
              "      <td>7417.0</td>\n",
              "      <td>0.0138</td>\n",
              "    </tr>\n",
              "    <tr>\n",
              "      <th>9804</th>\n",
              "      <td>Brasiléia</td>\n",
              "      <td>1200104</td>\n",
              "      <td>2021-06-25</td>\n",
              "      <td>26278.0</td>\n",
              "      <td>0.0134</td>\n",
              "    </tr>\n",
              "    <tr>\n",
              "      <th>9805</th>\n",
              "      <td>Bujari</td>\n",
              "      <td>1200138</td>\n",
              "      <td>2021-06-25</td>\n",
              "      <td>10266.0</td>\n",
              "      <td>0.0150</td>\n",
              "    </tr>\n",
              "    <tr>\n",
              "      <th>9806</th>\n",
              "      <td>Capixaba</td>\n",
              "      <td>1200179</td>\n",
              "      <td>2021-06-25</td>\n",
              "      <td>11733.0</td>\n",
              "      <td>0.0261</td>\n",
              "    </tr>\n",
              "    <tr>\n",
              "      <th>...</th>\n",
              "      <td>...</td>\n",
              "      <td>...</td>\n",
              "      <td>...</td>\n",
              "      <td>...</td>\n",
              "      <td>...</td>\n",
              "    </tr>\n",
              "    <tr>\n",
              "      <th>2309243</th>\n",
              "      <td>Tupirama</td>\n",
              "      <td>1721257</td>\n",
              "      <td>2021-06-25</td>\n",
              "      <td>1891.0</td>\n",
              "      <td>0.0121</td>\n",
              "    </tr>\n",
              "    <tr>\n",
              "      <th>2309244</th>\n",
              "      <td>Tupiratins</td>\n",
              "      <td>1721307</td>\n",
              "      <td>2021-06-25</td>\n",
              "      <td>2671.0</td>\n",
              "      <td>0.0190</td>\n",
              "    </tr>\n",
              "    <tr>\n",
              "      <th>2309245</th>\n",
              "      <td>Wanderlândia</td>\n",
              "      <td>1722081</td>\n",
              "      <td>2021-06-25</td>\n",
              "      <td>11683.0</td>\n",
              "      <td>0.0170</td>\n",
              "    </tr>\n",
              "    <tr>\n",
              "      <th>2309246</th>\n",
              "      <td>Xambioá</td>\n",
              "      <td>1722107</td>\n",
              "      <td>2021-06-25</td>\n",
              "      <td>11540.0</td>\n",
              "      <td>0.0130</td>\n",
              "    </tr>\n",
              "    <tr>\n",
              "      <th>2309247</th>\n",
              "      <td>NaN</td>\n",
              "      <td>17</td>\n",
              "      <td>2021-06-25</td>\n",
              "      <td>1572866.0</td>\n",
              "      <td>0.0161</td>\n",
              "    </tr>\n",
              "  </tbody>\n",
              "</table>\n",
              "<p>5616 rows × 5 columns</p>\n",
              "</div>"
            ],
            "text/plain": [
              "                 city  ... last_available_death_rate\n",
              "9802       Acrelândia  ...                    0.0220\n",
              "9803     Assis Brasil  ...                    0.0138\n",
              "9804        Brasiléia  ...                    0.0134\n",
              "9805           Bujari  ...                    0.0150\n",
              "9806         Capixaba  ...                    0.0261\n",
              "...               ...  ...                       ...\n",
              "2309243      Tupirama  ...                    0.0121\n",
              "2309244    Tupiratins  ...                    0.0190\n",
              "2309245  Wanderlândia  ...                    0.0170\n",
              "2309246       Xambioá  ...                    0.0130\n",
              "2309247           NaN  ...                    0.0161\n",
              "\n",
              "[5616 rows x 5 columns]"
            ]
          },
          "metadata": {
            "tags": []
          },
          "execution_count": 3
        }
      ]
    },
    {
      "cell_type": "code",
      "metadata": {
        "colab": {
          "base_uri": "https://localhost:8080/",
          "height": 351
        },
        "id": "7oIkN1AL4qrW",
        "outputId": "9ddaffe3-10b4-472d-9b79-d975d407d418"
      },
      "source": [
        "idhmcovid = pd.merge(idhm, covid, left_on=\"Codmun7\", right_on=\"city_ibge_code\", how=\"left\") \n",
        "idhmcovid = idhmcovid.loc[(idhmcovid['estimated_population_2019'] > 20000) & (idhmcovid['ANO'] == 2010)].dropna()\n",
        "idhmcovid.head()"
      ],
      "execution_count": 4,
      "outputs": [
        {
          "output_type": "execute_result",
          "data": {
            "text/html": [
              "<div>\n",
              "<style scoped>\n",
              "    .dataframe tbody tr th:only-of-type {\n",
              "        vertical-align: middle;\n",
              "    }\n",
              "\n",
              "    .dataframe tbody tr th {\n",
              "        vertical-align: top;\n",
              "    }\n",
              "\n",
              "    .dataframe thead th {\n",
              "        text-align: right;\n",
              "    }\n",
              "</style>\n",
              "<table border=\"1\" class=\"dataframe\">\n",
              "  <thead>\n",
              "    <tr style=\"text-align: right;\">\n",
              "      <th></th>\n",
              "      <th>ANO</th>\n",
              "      <th>UF</th>\n",
              "      <th>Codmun6</th>\n",
              "      <th>Codmun7</th>\n",
              "      <th>Município</th>\n",
              "      <th>ESPVIDA</th>\n",
              "      <th>FECTOT</th>\n",
              "      <th>MORT1</th>\n",
              "      <th>MORT5</th>\n",
              "      <th>RAZDEP</th>\n",
              "      <th>SOBRE40</th>\n",
              "      <th>SOBRE60</th>\n",
              "      <th>T_ENV</th>\n",
              "      <th>E_ANOSESTUDO</th>\n",
              "      <th>T_ANALF11A14</th>\n",
              "      <th>T_ANALF15A17</th>\n",
              "      <th>T_ANALF15M</th>\n",
              "      <th>T_ANALF18A24</th>\n",
              "      <th>T_ANALF18M</th>\n",
              "      <th>T_ANALF25A29</th>\n",
              "      <th>T_ANALF25M</th>\n",
              "      <th>T_ATRASO_0_BASICO</th>\n",
              "      <th>T_ATRASO_0_FUND</th>\n",
              "      <th>T_ATRASO_0_MED</th>\n",
              "      <th>T_ATRASO_1_BASICO</th>\n",
              "      <th>T_ATRASO_1_FUND</th>\n",
              "      <th>T_ATRASO_1_MED</th>\n",
              "      <th>T_ATRASO_2_BASICO</th>\n",
              "      <th>T_ATRASO_2_FUND</th>\n",
              "      <th>T_ATRASO_2_MED</th>\n",
              "      <th>T_FBBAS</th>\n",
              "      <th>T_FBFUND</th>\n",
              "      <th>T_FBMED</th>\n",
              "      <th>T_FBPRE</th>\n",
              "      <th>T_FBSUPER</th>\n",
              "      <th>T_FLBAS</th>\n",
              "      <th>T_FLFUND</th>\n",
              "      <th>T_FLMED</th>\n",
              "      <th>T_FLPRE</th>\n",
              "      <th>T_FLSUPER</th>\n",
              "      <th>...</th>\n",
              "      <th>peso13</th>\n",
              "      <th>PESO15</th>\n",
              "      <th>peso1517</th>\n",
              "      <th>PESO1524</th>\n",
              "      <th>PESO1618</th>\n",
              "      <th>PESO18</th>\n",
              "      <th>Peso1820</th>\n",
              "      <th>PESO1824</th>\n",
              "      <th>Peso1921</th>\n",
              "      <th>PESO25</th>\n",
              "      <th>peso4</th>\n",
              "      <th>peso5</th>\n",
              "      <th>peso6</th>\n",
              "      <th>PESO610</th>\n",
              "      <th>Peso617</th>\n",
              "      <th>PESO65</th>\n",
              "      <th>PESOM1014</th>\n",
              "      <th>PESOM1517</th>\n",
              "      <th>PESOM15M</th>\n",
              "      <th>PESOM25M</th>\n",
              "      <th>pesoRUR</th>\n",
              "      <th>pesotot</th>\n",
              "      <th>pesourb</th>\n",
              "      <th>PIA</th>\n",
              "      <th>PIA1014</th>\n",
              "      <th>PIA1517</th>\n",
              "      <th>PIA18M</th>\n",
              "      <th>POP</th>\n",
              "      <th>POPT</th>\n",
              "      <th>I_ESCOLARIDADE</th>\n",
              "      <th>I_FREQ_PROP</th>\n",
              "      <th>IDHM</th>\n",
              "      <th>IDHM_E</th>\n",
              "      <th>IDHM_L</th>\n",
              "      <th>IDHM_R</th>\n",
              "      <th>city</th>\n",
              "      <th>city_ibge_code</th>\n",
              "      <th>date</th>\n",
              "      <th>estimated_population_2019</th>\n",
              "      <th>last_available_death_rate</th>\n",
              "    </tr>\n",
              "  </thead>\n",
              "  <tbody>\n",
              "    <tr>\n",
              "      <th>11130</th>\n",
              "      <td>2010</td>\n",
              "      <td>11</td>\n",
              "      <td>110001</td>\n",
              "      <td>1100015</td>\n",
              "      <td>ALTA FLORESTA D'OESTE</td>\n",
              "      <td>70.75</td>\n",
              "      <td>2.24</td>\n",
              "      <td>23.8</td>\n",
              "      <td>25.49</td>\n",
              "      <td>47.37</td>\n",
              "      <td>94.50</td>\n",
              "      <td>83.18</td>\n",
              "      <td>5.84</td>\n",
              "      <td>8.67</td>\n",
              "      <td>1.22</td>\n",
              "      <td>1.52</td>\n",
              "      <td>11.99</td>\n",
              "      <td>1.68</td>\n",
              "      <td>13.00</td>\n",
              "      <td>2.72</td>\n",
              "      <td>15.76</td>\n",
              "      <td>57.62</td>\n",
              "      <td>63.21</td>\n",
              "      <td>66.39</td>\n",
              "      <td>20.36</td>\n",
              "      <td>18.97</td>\n",
              "      <td>25.81</td>\n",
              "      <td>22.03</td>\n",
              "      <td>17.82</td>\n",
              "      <td>7.79</td>\n",
              "      <td>90.45</td>\n",
              "      <td>107.69</td>\n",
              "      <td>45.99</td>\n",
              "      <td>35.40</td>\n",
              "      <td>21.23</td>\n",
              "      <td>85.25</td>\n",
              "      <td>92.88</td>\n",
              "      <td>34.60</td>\n",
              "      <td>34.15</td>\n",
              "      <td>10.50</td>\n",
              "      <td>...</td>\n",
              "      <td>1140</td>\n",
              "      <td>17976</td>\n",
              "      <td>1577</td>\n",
              "      <td>4788</td>\n",
              "      <td>1536</td>\n",
              "      <td>16399</td>\n",
              "      <td>1497</td>\n",
              "      <td>3211</td>\n",
              "      <td>1433</td>\n",
              "      <td>13188</td>\n",
              "      <td>399</td>\n",
              "      <td>429</td>\n",
              "      <td>413</td>\n",
              "      <td>2196</td>\n",
              "      <td>5170</td>\n",
              "      <td>1425</td>\n",
              "      <td>1145</td>\n",
              "      <td>747</td>\n",
              "      <td>8605</td>\n",
              "      <td>6284</td>\n",
              "      <td>10422</td>\n",
              "      <td>24392</td>\n",
              "      <td>13970</td>\n",
              "      <td>20434.0</td>\n",
              "      <td>2401.0</td>\n",
              "      <td>1602.0</td>\n",
              "      <td>16431.0</td>\n",
              "      <td>24097</td>\n",
              "      <td>22429</td>\n",
              "      <td>0.368</td>\n",
              "      <td>0.629</td>\n",
              "      <td>0.641</td>\n",
              "      <td>0.526</td>\n",
              "      <td>0.763</td>\n",
              "      <td>0.657</td>\n",
              "      <td>Alta Floresta D'Oeste</td>\n",
              "      <td>1100015</td>\n",
              "      <td>2021-06-25</td>\n",
              "      <td>22945.0</td>\n",
              "      <td>0.0165</td>\n",
              "    </tr>\n",
              "    <tr>\n",
              "      <th>11131</th>\n",
              "      <td>2010</td>\n",
              "      <td>11</td>\n",
              "      <td>110002</td>\n",
              "      <td>1100023</td>\n",
              "      <td>ARIQUEMES</td>\n",
              "      <td>73.36</td>\n",
              "      <td>1.91</td>\n",
              "      <td>19.2</td>\n",
              "      <td>20.53</td>\n",
              "      <td>46.68</td>\n",
              "      <td>96.12</td>\n",
              "      <td>87.69</td>\n",
              "      <td>4.36</td>\n",
              "      <td>9.18</td>\n",
              "      <td>1.55</td>\n",
              "      <td>1.09</td>\n",
              "      <td>7.90</td>\n",
              "      <td>1.13</td>\n",
              "      <td>8.53</td>\n",
              "      <td>1.89</td>\n",
              "      <td>10.48</td>\n",
              "      <td>58.43</td>\n",
              "      <td>60.96</td>\n",
              "      <td>72.93</td>\n",
              "      <td>22.22</td>\n",
              "      <td>22.30</td>\n",
              "      <td>23.11</td>\n",
              "      <td>19.35</td>\n",
              "      <td>16.74</td>\n",
              "      <td>3.96</td>\n",
              "      <td>94.78</td>\n",
              "      <td>106.62</td>\n",
              "      <td>58.77</td>\n",
              "      <td>46.92</td>\n",
              "      <td>27.95</td>\n",
              "      <td>85.46</td>\n",
              "      <td>91.31</td>\n",
              "      <td>37.07</td>\n",
              "      <td>40.96</td>\n",
              "      <td>12.91</td>\n",
              "      <td>...</td>\n",
              "      <td>4270</td>\n",
              "      <td>65521</td>\n",
              "      <td>5497</td>\n",
              "      <td>18019</td>\n",
              "      <td>5420</td>\n",
              "      <td>60024</td>\n",
              "      <td>5330</td>\n",
              "      <td>12522</td>\n",
              "      <td>5360</td>\n",
              "      <td>47502</td>\n",
              "      <td>1522</td>\n",
              "      <td>1565</td>\n",
              "      <td>1564</td>\n",
              "      <td>8593</td>\n",
              "      <td>19709</td>\n",
              "      <td>3943</td>\n",
              "      <td>4515</td>\n",
              "      <td>2739</td>\n",
              "      <td>32552</td>\n",
              "      <td>23467</td>\n",
              "      <td>13828</td>\n",
              "      <td>90353</td>\n",
              "      <td>76525</td>\n",
              "      <td>74725.0</td>\n",
              "      <td>9256.0</td>\n",
              "      <td>5256.0</td>\n",
              "      <td>60213.0</td>\n",
              "      <td>89766</td>\n",
              "      <td>88730</td>\n",
              "      <td>0.514</td>\n",
              "      <td>0.648</td>\n",
              "      <td>0.702</td>\n",
              "      <td>0.600</td>\n",
              "      <td>0.806</td>\n",
              "      <td>0.716</td>\n",
              "      <td>Ariquemes</td>\n",
              "      <td>1100023</td>\n",
              "      <td>2021-06-25</td>\n",
              "      <td>107863.0</td>\n",
              "      <td>0.0215</td>\n",
              "    </tr>\n",
              "    <tr>\n",
              "      <th>11133</th>\n",
              "      <td>2010</td>\n",
              "      <td>11</td>\n",
              "      <td>110004</td>\n",
              "      <td>1100049</td>\n",
              "      <td>CACOAL</td>\n",
              "      <td>74.27</td>\n",
              "      <td>1.90</td>\n",
              "      <td>14.3</td>\n",
              "      <td>15.38</td>\n",
              "      <td>43.79</td>\n",
              "      <td>96.41</td>\n",
              "      <td>88.56</td>\n",
              "      <td>5.57</td>\n",
              "      <td>9.74</td>\n",
              "      <td>1.01</td>\n",
              "      <td>0.80</td>\n",
              "      <td>8.29</td>\n",
              "      <td>0.93</td>\n",
              "      <td>8.94</td>\n",
              "      <td>1.57</td>\n",
              "      <td>10.95</td>\n",
              "      <td>66.69</td>\n",
              "      <td>71.14</td>\n",
              "      <td>71.07</td>\n",
              "      <td>17.74</td>\n",
              "      <td>16.28</td>\n",
              "      <td>21.60</td>\n",
              "      <td>15.57</td>\n",
              "      <td>12.58</td>\n",
              "      <td>7.33</td>\n",
              "      <td>100.81</td>\n",
              "      <td>108.09</td>\n",
              "      <td>80.94</td>\n",
              "      <td>54.45</td>\n",
              "      <td>38.23</td>\n",
              "      <td>88.24</td>\n",
              "      <td>93.02</td>\n",
              "      <td>43.97</td>\n",
              "      <td>51.33</td>\n",
              "      <td>17.45</td>\n",
              "      <td>...</td>\n",
              "      <td>3455</td>\n",
              "      <td>58893</td>\n",
              "      <td>4729</td>\n",
              "      <td>15592</td>\n",
              "      <td>4770</td>\n",
              "      <td>54164</td>\n",
              "      <td>4617</td>\n",
              "      <td>10863</td>\n",
              "      <td>4634</td>\n",
              "      <td>43301</td>\n",
              "      <td>1180</td>\n",
              "      <td>1218</td>\n",
              "      <td>1216</td>\n",
              "      <td>6454</td>\n",
              "      <td>15675</td>\n",
              "      <td>4378</td>\n",
              "      <td>3708</td>\n",
              "      <td>2333</td>\n",
              "      <td>29758</td>\n",
              "      <td>21922</td>\n",
              "      <td>16653</td>\n",
              "      <td>78574</td>\n",
              "      <td>61921</td>\n",
              "      <td>66376.0</td>\n",
              "      <td>7473.0</td>\n",
              "      <td>4547.0</td>\n",
              "      <td>54356.0</td>\n",
              "      <td>78141</td>\n",
              "      <td>76876</td>\n",
              "      <td>0.488</td>\n",
              "      <td>0.698</td>\n",
              "      <td>0.718</td>\n",
              "      <td>0.620</td>\n",
              "      <td>0.821</td>\n",
              "      <td>0.727</td>\n",
              "      <td>Cacoal</td>\n",
              "      <td>1100049</td>\n",
              "      <td>2021-06-25</td>\n",
              "      <td>85359.0</td>\n",
              "      <td>0.0205</td>\n",
              "    </tr>\n",
              "    <tr>\n",
              "      <th>11138</th>\n",
              "      <td>2010</td>\n",
              "      <td>11</td>\n",
              "      <td>110009</td>\n",
              "      <td>1100098</td>\n",
              "      <td>ESPIGÃO D'OESTE</td>\n",
              "      <td>74.15</td>\n",
              "      <td>2.22</td>\n",
              "      <td>15.4</td>\n",
              "      <td>16.47</td>\n",
              "      <td>46.83</td>\n",
              "      <td>96.41</td>\n",
              "      <td>88.54</td>\n",
              "      <td>5.21</td>\n",
              "      <td>9.55</td>\n",
              "      <td>2.17</td>\n",
              "      <td>1.28</td>\n",
              "      <td>11.33</td>\n",
              "      <td>1.11</td>\n",
              "      <td>12.18</td>\n",
              "      <td>2.54</td>\n",
              "      <td>14.87</td>\n",
              "      <td>65.19</td>\n",
              "      <td>70.26</td>\n",
              "      <td>66.35</td>\n",
              "      <td>18.72</td>\n",
              "      <td>17.42</td>\n",
              "      <td>28.68</td>\n",
              "      <td>16.09</td>\n",
              "      <td>12.32</td>\n",
              "      <td>4.97</td>\n",
              "      <td>97.47</td>\n",
              "      <td>106.42</td>\n",
              "      <td>71.24</td>\n",
              "      <td>32.47</td>\n",
              "      <td>18.67</td>\n",
              "      <td>86.99</td>\n",
              "      <td>92.12</td>\n",
              "      <td>38.96</td>\n",
              "      <td>30.29</td>\n",
              "      <td>9.83</td>\n",
              "      <td>...</td>\n",
              "      <td>1392</td>\n",
              "      <td>20934</td>\n",
              "      <td>1639</td>\n",
              "      <td>5407</td>\n",
              "      <td>1617</td>\n",
              "      <td>19295</td>\n",
              "      <td>1647</td>\n",
              "      <td>3768</td>\n",
              "      <td>1645</td>\n",
              "      <td>15527</td>\n",
              "      <td>501</td>\n",
              "      <td>519</td>\n",
              "      <td>459</td>\n",
              "      <td>2492</td>\n",
              "      <td>5866</td>\n",
              "      <td>1496</td>\n",
              "      <td>1399</td>\n",
              "      <td>830</td>\n",
              "      <td>10260</td>\n",
              "      <td>7564</td>\n",
              "      <td>8119</td>\n",
              "      <td>28729</td>\n",
              "      <td>20610</td>\n",
              "      <td>23897.0</td>\n",
              "      <td>2849.0</td>\n",
              "      <td>1653.0</td>\n",
              "      <td>19395.0</td>\n",
              "      <td>28510</td>\n",
              "      <td>27791</td>\n",
              "      <td>0.402</td>\n",
              "      <td>0.619</td>\n",
              "      <td>0.672</td>\n",
              "      <td>0.536</td>\n",
              "      <td>0.819</td>\n",
              "      <td>0.691</td>\n",
              "      <td>Espigão D'Oeste</td>\n",
              "      <td>1100098</td>\n",
              "      <td>2021-06-25</td>\n",
              "      <td>32374.0</td>\n",
              "      <td>0.0186</td>\n",
              "    </tr>\n",
              "    <tr>\n",
              "      <th>11139</th>\n",
              "      <td>2010</td>\n",
              "      <td>11</td>\n",
              "      <td>110010</td>\n",
              "      <td>1100106</td>\n",
              "      <td>GUAJARÁ-MIRIM</td>\n",
              "      <td>74.39</td>\n",
              "      <td>2.61</td>\n",
              "      <td>14.8</td>\n",
              "      <td>15.92</td>\n",
              "      <td>56.67</td>\n",
              "      <td>96.53</td>\n",
              "      <td>88.88</td>\n",
              "      <td>4.82</td>\n",
              "      <td>8.17</td>\n",
              "      <td>2.20</td>\n",
              "      <td>1.77</td>\n",
              "      <td>8.06</td>\n",
              "      <td>1.99</td>\n",
              "      <td>8.70</td>\n",
              "      <td>2.78</td>\n",
              "      <td>10.47</td>\n",
              "      <td>48.13</td>\n",
              "      <td>51.27</td>\n",
              "      <td>66.81</td>\n",
              "      <td>25.26</td>\n",
              "      <td>26.82</td>\n",
              "      <td>24.91</td>\n",
              "      <td>26.61</td>\n",
              "      <td>21.91</td>\n",
              "      <td>8.27</td>\n",
              "      <td>96.87</td>\n",
              "      <td>107.88</td>\n",
              "      <td>61.70</td>\n",
              "      <td>43.87</td>\n",
              "      <td>17.32</td>\n",
              "      <td>85.03</td>\n",
              "      <td>91.06</td>\n",
              "      <td>31.72</td>\n",
              "      <td>40.96</td>\n",
              "      <td>5.66</td>\n",
              "      <td>...</td>\n",
              "      <td>2346</td>\n",
              "      <td>27975</td>\n",
              "      <td>2595</td>\n",
              "      <td>7875</td>\n",
              "      <td>2513</td>\n",
              "      <td>25380</td>\n",
              "      <td>2382</td>\n",
              "      <td>5280</td>\n",
              "      <td>2264</td>\n",
              "      <td>20100</td>\n",
              "      <td>814</td>\n",
              "      <td>847</td>\n",
              "      <td>834</td>\n",
              "      <td>4403</td>\n",
              "      <td>9694</td>\n",
              "      <td>2006</td>\n",
              "      <td>2161</td>\n",
              "      <td>1334</td>\n",
              "      <td>13993</td>\n",
              "      <td>10094</td>\n",
              "      <td>6449</td>\n",
              "      <td>41656</td>\n",
              "      <td>35207</td>\n",
              "      <td>33017.0</td>\n",
              "      <td>4602.0</td>\n",
              "      <td>2575.0</td>\n",
              "      <td>25841.0</td>\n",
              "      <td>39928</td>\n",
              "      <td>38203</td>\n",
              "      <td>0.486</td>\n",
              "      <td>0.537</td>\n",
              "      <td>0.657</td>\n",
              "      <td>0.519</td>\n",
              "      <td>0.823</td>\n",
              "      <td>0.663</td>\n",
              "      <td>Guajará-Mirim</td>\n",
              "      <td>1100106</td>\n",
              "      <td>2021-06-25</td>\n",
              "      <td>46174.0</td>\n",
              "      <td>0.0403</td>\n",
              "    </tr>\n",
              "  </tbody>\n",
              "</table>\n",
              "<p>5 rows × 242 columns</p>\n",
              "</div>"
            ],
            "text/plain": [
              "        ANO  UF  ...  estimated_population_2019 last_available_death_rate\n",
              "11130  2010  11  ...                    22945.0                    0.0165\n",
              "11131  2010  11  ...                   107863.0                    0.0215\n",
              "11133  2010  11  ...                    85359.0                    0.0205\n",
              "11138  2010  11  ...                    32374.0                    0.0186\n",
              "11139  2010  11  ...                    46174.0                    0.0403\n",
              "\n",
              "[5 rows x 242 columns]"
            ]
          },
          "metadata": {
            "tags": []
          },
          "execution_count": 4
        }
      ]
    },
    {
      "cell_type": "code",
      "metadata": {
        "colab": {
          "base_uri": "https://localhost:8080/",
          "height": 324
        },
        "id": "qcXIJsY25eGy",
        "outputId": "866e337c-717b-416b-82c1-57ecd6f40c22"
      },
      "source": [
        "correlacao_positiva = idhmcovid.corr().loc['last_available_death_rate'].sort_values(ascending=False).to_frame().reset_index().rename(columns = {'index': 'indicador'})[:10]\n",
        "correlacao_positiva.drop(correlacao_positiva.loc[(correlacao_positiva['indicador'] == \"last_available_death_rate\")].index, inplace=True)\n",
        "correlacao_positiva"
      ],
      "execution_count": 5,
      "outputs": [
        {
          "output_type": "execute_result",
          "data": {
            "text/html": [
              "<div>\n",
              "<style scoped>\n",
              "    .dataframe tbody tr th:only-of-type {\n",
              "        vertical-align: middle;\n",
              "    }\n",
              "\n",
              "    .dataframe tbody tr th {\n",
              "        vertical-align: top;\n",
              "    }\n",
              "\n",
              "    .dataframe thead th {\n",
              "        text-align: right;\n",
              "    }\n",
              "</style>\n",
              "<table border=\"1\" class=\"dataframe\">\n",
              "  <thead>\n",
              "    <tr style=\"text-align: right;\">\n",
              "      <th></th>\n",
              "      <th>indicador</th>\n",
              "      <th>last_available_death_rate</th>\n",
              "    </tr>\n",
              "  </thead>\n",
              "  <tbody>\n",
              "    <tr>\n",
              "      <th>1</th>\n",
              "      <td>T_DES1517</td>\n",
              "      <td>0.240230</td>\n",
              "    </tr>\n",
              "    <tr>\n",
              "      <th>2</th>\n",
              "      <td>P_SERV</td>\n",
              "      <td>0.235086</td>\n",
              "    </tr>\n",
              "    <tr>\n",
              "      <th>3</th>\n",
              "      <td>T_DES1824</td>\n",
              "      <td>0.211307</td>\n",
              "    </tr>\n",
              "    <tr>\n",
              "      <th>4</th>\n",
              "      <td>T_DES1014</td>\n",
              "      <td>0.194236</td>\n",
              "    </tr>\n",
              "    <tr>\n",
              "      <th>5</th>\n",
              "      <td>T_DES</td>\n",
              "      <td>0.183132</td>\n",
              "    </tr>\n",
              "    <tr>\n",
              "      <th>6</th>\n",
              "      <td>T_DES18M</td>\n",
              "      <td>0.178465</td>\n",
              "    </tr>\n",
              "    <tr>\n",
              "      <th>7</th>\n",
              "      <td>T_FUND25M</td>\n",
              "      <td>0.167246</td>\n",
              "    </tr>\n",
              "    <tr>\n",
              "      <th>8</th>\n",
              "      <td>P_MED</td>\n",
              "      <td>0.163721</td>\n",
              "    </tr>\n",
              "    <tr>\n",
              "      <th>9</th>\n",
              "      <td>P_FUND</td>\n",
              "      <td>0.159737</td>\n",
              "    </tr>\n",
              "  </tbody>\n",
              "</table>\n",
              "</div>"
            ],
            "text/plain": [
              "   indicador  last_available_death_rate\n",
              "1  T_DES1517                   0.240230\n",
              "2     P_SERV                   0.235086\n",
              "3  T_DES1824                   0.211307\n",
              "4  T_DES1014                   0.194236\n",
              "5      T_DES                   0.183132\n",
              "6   T_DES18M                   0.178465\n",
              "7  T_FUND25M                   0.167246\n",
              "8      P_MED                   0.163721\n",
              "9     P_FUND                   0.159737"
            ]
          },
          "metadata": {
            "tags": []
          },
          "execution_count": 5
        }
      ]
    },
    {
      "cell_type": "code",
      "metadata": {
        "colab": {
          "base_uri": "https://localhost:8080/",
          "height": 324
        },
        "id": "jf3u3N6UuXkI",
        "outputId": "4e9d3f78-9288-47b0-aa25-2487590874a3"
      },
      "source": [
        "correlacao_positiva = idhmcovid.corr(method='spearman').loc['last_available_death_rate'].sort_values(ascending=False).to_frame().reset_index().rename(columns = {'index': 'indicador'})[:10]\n",
        "correlacao_positiva.drop(correlacao_positiva.loc[(correlacao_positiva['indicador'] == \"last_available_death_rate\")].index, inplace=True)\n",
        "correlacao_positiva"
      ],
      "execution_count": 6,
      "outputs": [
        {
          "output_type": "execute_result",
          "data": {
            "text/html": [
              "<div>\n",
              "<style scoped>\n",
              "    .dataframe tbody tr th:only-of-type {\n",
              "        vertical-align: middle;\n",
              "    }\n",
              "\n",
              "    .dataframe tbody tr th {\n",
              "        vertical-align: top;\n",
              "    }\n",
              "\n",
              "    .dataframe thead th {\n",
              "        text-align: right;\n",
              "    }\n",
              "</style>\n",
              "<table border=\"1\" class=\"dataframe\">\n",
              "  <thead>\n",
              "    <tr style=\"text-align: right;\">\n",
              "      <th></th>\n",
              "      <th>indicador</th>\n",
              "      <th>last_available_death_rate</th>\n",
              "    </tr>\n",
              "  </thead>\n",
              "  <tbody>\n",
              "    <tr>\n",
              "      <th>1</th>\n",
              "      <td>HOMEM70A74</td>\n",
              "      <td>0.276295</td>\n",
              "    </tr>\n",
              "    <tr>\n",
              "      <th>2</th>\n",
              "      <td>HOMEM65A69</td>\n",
              "      <td>0.274757</td>\n",
              "    </tr>\n",
              "    <tr>\n",
              "      <th>3</th>\n",
              "      <td>HOMEM60A64</td>\n",
              "      <td>0.270877</td>\n",
              "    </tr>\n",
              "    <tr>\n",
              "      <th>4</th>\n",
              "      <td>HOMEM75A79</td>\n",
              "      <td>0.268582</td>\n",
              "    </tr>\n",
              "    <tr>\n",
              "      <th>5</th>\n",
              "      <td>MULH65A69</td>\n",
              "      <td>0.261598</td>\n",
              "    </tr>\n",
              "    <tr>\n",
              "      <th>6</th>\n",
              "      <td>HOMEM55A59</td>\n",
              "      <td>0.261011</td>\n",
              "    </tr>\n",
              "    <tr>\n",
              "      <th>7</th>\n",
              "      <td>T_DES1517</td>\n",
              "      <td>0.260534</td>\n",
              "    </tr>\n",
              "    <tr>\n",
              "      <th>8</th>\n",
              "      <td>MULH60A64</td>\n",
              "      <td>0.259250</td>\n",
              "    </tr>\n",
              "    <tr>\n",
              "      <th>9</th>\n",
              "      <td>MULH55A59</td>\n",
              "      <td>0.258749</td>\n",
              "    </tr>\n",
              "  </tbody>\n",
              "</table>\n",
              "</div>"
            ],
            "text/plain": [
              "    indicador  last_available_death_rate\n",
              "1  HOMEM70A74                   0.276295\n",
              "2  HOMEM65A69                   0.274757\n",
              "3  HOMEM60A64                   0.270877\n",
              "4  HOMEM75A79                   0.268582\n",
              "5   MULH65A69                   0.261598\n",
              "6  HOMEM55A59                   0.261011\n",
              "7   T_DES1517                   0.260534\n",
              "8   MULH60A64                   0.259250\n",
              "9   MULH55A59                   0.258749"
            ]
          },
          "metadata": {
            "tags": []
          },
          "execution_count": 6
        }
      ]
    },
    {
      "cell_type": "code",
      "metadata": {
        "colab": {
          "base_uri": "https://localhost:8080/"
        },
        "id": "pJqIP19z9mqs",
        "outputId": "40212cf5-cfd2-477a-8e37-dc8bf235c4e4"
      },
      "source": [
        "corr_posit = correlacao_positiva.indicador.to_list()\n",
        "corr_posit"
      ],
      "execution_count": 7,
      "outputs": [
        {
          "output_type": "execute_result",
          "data": {
            "text/plain": [
              "['HOMEM70A74',\n",
              " 'HOMEM65A69',\n",
              " 'HOMEM60A64',\n",
              " 'HOMEM75A79',\n",
              " 'MULH65A69',\n",
              " 'HOMEM55A59',\n",
              " 'T_DES1517',\n",
              " 'MULH60A64',\n",
              " 'MULH55A59']"
            ]
          },
          "metadata": {
            "tags": []
          },
          "execution_count": 7
        }
      ]
    },
    {
      "cell_type": "code",
      "metadata": {
        "colab": {
          "base_uri": "https://localhost:8080/",
          "height": 414
        },
        "id": "WBO_wfYT9kvo",
        "outputId": "7a8d5978-71d4-4dc0-babb-5b72e7ee40b9"
      },
      "source": [
        "corr_positiva = idhmcovid[idhmcovid.columns.intersection(corr_posit)]\n",
        "corr_positiva"
      ],
      "execution_count": 8,
      "outputs": [
        {
          "output_type": "execute_result",
          "data": {
            "text/html": [
              "<div>\n",
              "<style scoped>\n",
              "    .dataframe tbody tr th:only-of-type {\n",
              "        vertical-align: middle;\n",
              "    }\n",
              "\n",
              "    .dataframe tbody tr th {\n",
              "        vertical-align: top;\n",
              "    }\n",
              "\n",
              "    .dataframe thead th {\n",
              "        text-align: right;\n",
              "    }\n",
              "</style>\n",
              "<table border=\"1\" class=\"dataframe\">\n",
              "  <thead>\n",
              "    <tr style=\"text-align: right;\">\n",
              "      <th></th>\n",
              "      <th>T_DES1517</th>\n",
              "      <th>HOMEM55A59</th>\n",
              "      <th>HOMEM60A64</th>\n",
              "      <th>HOMEM65A69</th>\n",
              "      <th>HOMEM70A74</th>\n",
              "      <th>HOMEM75A79</th>\n",
              "      <th>MULH55A59</th>\n",
              "      <th>MULH60A64</th>\n",
              "      <th>MULH65A69</th>\n",
              "    </tr>\n",
              "  </thead>\n",
              "  <tbody>\n",
              "    <tr>\n",
              "      <th>11130</th>\n",
              "      <td>23.16</td>\n",
              "      <td>489</td>\n",
              "      <td>351</td>\n",
              "      <td>301</td>\n",
              "      <td>239</td>\n",
              "      <td>154</td>\n",
              "      <td>431</td>\n",
              "      <td>311</td>\n",
              "      <td>264</td>\n",
              "    </tr>\n",
              "    <tr>\n",
              "      <th>11131</th>\n",
              "      <td>15.50</td>\n",
              "      <td>1515</td>\n",
              "      <td>1110</td>\n",
              "      <td>788</td>\n",
              "      <td>607</td>\n",
              "      <td>374</td>\n",
              "      <td>1484</td>\n",
              "      <td>1041</td>\n",
              "      <td>735</td>\n",
              "    </tr>\n",
              "    <tr>\n",
              "      <th>11133</th>\n",
              "      <td>17.20</td>\n",
              "      <td>1436</td>\n",
              "      <td>1081</td>\n",
              "      <td>746</td>\n",
              "      <td>612</td>\n",
              "      <td>385</td>\n",
              "      <td>1427</td>\n",
              "      <td>1008</td>\n",
              "      <td>795</td>\n",
              "    </tr>\n",
              "    <tr>\n",
              "      <th>11138</th>\n",
              "      <td>11.33</td>\n",
              "      <td>535</td>\n",
              "      <td>413</td>\n",
              "      <td>299</td>\n",
              "      <td>201</td>\n",
              "      <td>147</td>\n",
              "      <td>499</td>\n",
              "      <td>384</td>\n",
              "      <td>282</td>\n",
              "    </tr>\n",
              "    <tr>\n",
              "      <th>11139</th>\n",
              "      <td>12.95</td>\n",
              "      <td>624</td>\n",
              "      <td>506</td>\n",
              "      <td>353</td>\n",
              "      <td>276</td>\n",
              "      <td>184</td>\n",
              "      <td>636</td>\n",
              "      <td>526</td>\n",
              "      <td>347</td>\n",
              "    </tr>\n",
              "    <tr>\n",
              "      <th>...</th>\n",
              "      <td>...</td>\n",
              "      <td>...</td>\n",
              "      <td>...</td>\n",
              "      <td>...</td>\n",
              "      <td>...</td>\n",
              "      <td>...</td>\n",
              "      <td>...</td>\n",
              "      <td>...</td>\n",
              "      <td>...</td>\n",
              "    </tr>\n",
              "    <tr>\n",
              "      <th>16673</th>\n",
              "      <td>14.94</td>\n",
              "      <td>442</td>\n",
              "      <td>336</td>\n",
              "      <td>275</td>\n",
              "      <td>198</td>\n",
              "      <td>145</td>\n",
              "      <td>394</td>\n",
              "      <td>329</td>\n",
              "      <td>262</td>\n",
              "    </tr>\n",
              "    <tr>\n",
              "      <th>16680</th>\n",
              "      <td>20.84</td>\n",
              "      <td>1859</td>\n",
              "      <td>1451</td>\n",
              "      <td>1107</td>\n",
              "      <td>811</td>\n",
              "      <td>521</td>\n",
              "      <td>2148</td>\n",
              "      <td>1688</td>\n",
              "      <td>1184</td>\n",
              "    </tr>\n",
              "    <tr>\n",
              "      <th>16685</th>\n",
              "      <td>7.07</td>\n",
              "      <td>792</td>\n",
              "      <td>651</td>\n",
              "      <td>482</td>\n",
              "      <td>389</td>\n",
              "      <td>286</td>\n",
              "      <td>810</td>\n",
              "      <td>672</td>\n",
              "      <td>544</td>\n",
              "    </tr>\n",
              "    <tr>\n",
              "      <th>16688</th>\n",
              "      <td>46.76</td>\n",
              "      <td>1714</td>\n",
              "      <td>1210</td>\n",
              "      <td>728</td>\n",
              "      <td>500</td>\n",
              "      <td>312</td>\n",
              "      <td>1848</td>\n",
              "      <td>1185</td>\n",
              "      <td>847</td>\n",
              "    </tr>\n",
              "    <tr>\n",
              "      <th>16694</th>\n",
              "      <td>38.64</td>\n",
              "      <td>43033</td>\n",
              "      <td>30889</td>\n",
              "      <td>21160</td>\n",
              "      <td>15759</td>\n",
              "      <td>8885</td>\n",
              "      <td>52544</td>\n",
              "      <td>39078</td>\n",
              "      <td>26915</td>\n",
              "    </tr>\n",
              "  </tbody>\n",
              "</table>\n",
              "<p>1774 rows × 9 columns</p>\n",
              "</div>"
            ],
            "text/plain": [
              "       T_DES1517  HOMEM55A59  HOMEM60A64  ...  MULH55A59  MULH60A64  MULH65A69\n",
              "11130      23.16         489         351  ...        431        311        264\n",
              "11131      15.50        1515        1110  ...       1484       1041        735\n",
              "11133      17.20        1436        1081  ...       1427       1008        795\n",
              "11138      11.33         535         413  ...        499        384        282\n",
              "11139      12.95         624         506  ...        636        526        347\n",
              "...          ...         ...         ...  ...        ...        ...        ...\n",
              "16673      14.94         442         336  ...        394        329        262\n",
              "16680      20.84        1859        1451  ...       2148       1688       1184\n",
              "16685       7.07         792         651  ...        810        672        544\n",
              "16688      46.76        1714        1210  ...       1848       1185        847\n",
              "16694      38.64       43033       30889  ...      52544      39078      26915\n",
              "\n",
              "[1774 rows x 9 columns]"
            ]
          },
          "metadata": {
            "tags": []
          },
          "execution_count": 8
        }
      ]
    },
    {
      "cell_type": "code",
      "metadata": {
        "id": "wyUO4AFJEfQB"
      },
      "source": [
        "mortalidade = idhmcovid.last_available_death_rate"
      ],
      "execution_count": 9,
      "outputs": []
    },
    {
      "cell_type": "code",
      "metadata": {
        "id": "ye5DOSzMFxJ6"
      },
      "source": [
        "xtrain_corr_positiva, xtest_corr_positiva, ytrain_corr_positiva, ytest_corr_positiva = train_test_split(corr_positiva, mortalidade, test_size=0.4, random_state=42)"
      ],
      "execution_count": 10,
      "outputs": []
    },
    {
      "cell_type": "code",
      "metadata": {
        "id": "bEzDwJeCG0Ge",
        "colab": {
          "base_uri": "https://localhost:8080/"
        },
        "outputId": "2adaf4ff-d70f-4cf7-82ae-3dcd3e47fff5"
      },
      "source": [
        "linreg_corr_positiva = LinearRegression()\n",
        "linreg_corr_positiva.fit(xtrain_corr_positiva, ytrain_corr_positiva)\n",
        "print('linear model coeff (w): {}'\n",
        ".format(linreg_corr_positiva.coef_))\n",
        "print('linear model intercept (b): {:.3f}'\n",
        ".format(linreg_corr_positiva.intercept_))\n",
        "print('R-squared score (training): {:.3f}'\n",
        ".format(linreg_corr_positiva.score(xtrain_corr_positiva, ytrain_corr_positiva)))\n",
        "print('R-squared score (test): {:.3f}'\n",
        ".format(linreg_corr_positiva.score(xtest_corr_positiva, ytest_corr_positiva)))"
      ],
      "execution_count": 11,
      "outputs": [
        {
          "output_type": "stream",
          "text": [
            "linear model coeff (w): [ 2.86892569e-04 -9.59118376e-07  1.37670061e-05  7.24133357e-06\n",
            "  1.87356333e-06 -1.71527843e-05 -1.00895903e-05 -4.35460041e-07\n",
            "  5.67220141e-06]\n",
            "linear model intercept (b): 0.017\n",
            "R-squared score (training): 0.113\n",
            "R-squared score (test): 0.001\n"
          ],
          "name": "stdout"
        }
      ]
    },
    {
      "cell_type": "code",
      "metadata": {
        "id": "Fh6_1k9hG0Oe",
        "colab": {
          "base_uri": "https://localhost:8080/"
        },
        "outputId": "d5c7ce83-a868-4b53-93b7-64515e74704b"
      },
      "source": [
        "ipred_corr_positiva = linreg_corr_positiva.predict(xtest_corr_positiva)\n",
        "print('Mean squared error: %.2f'\n",
        "      % mean_squared_error(ytest_corr_positiva, ipred_corr_positiva))\n",
        "print('Coefficient of determination: %.2f'\n",
        "      % r2_score(ytest_corr_positiva, ipred_corr_positiva))"
      ],
      "execution_count": 12,
      "outputs": [
        {
          "output_type": "stream",
          "text": [
            "Mean squared error: 0.00\n",
            "Coefficient of determination: 0.00\n"
          ],
          "name": "stdout"
        }
      ]
    },
    {
      "cell_type": "code",
      "metadata": {
        "id": "LuvqQ5j3G0Q7",
        "colab": {
          "base_uri": "https://localhost:8080/",
          "height": 542
        },
        "outputId": "601e95c7-3b20-432a-9398-955eb030794c"
      },
      "source": [
        "fig = go.Figure(data=go.Scatter(x=ytest_corr_positiva, y=ipred_corr_positiva, mode='markers')) \n",
        "fig.update_layout(title=\"Valores reais e previstos de correlação positiva de mortalidade de COVID-19\")\n",
        "fig.show()"
      ],
      "execution_count": 13,
      "outputs": [
        {
          "output_type": "display_data",
          "data": {
            "text/html": [
              "<html>\n",
              "<head><meta charset=\"utf-8\" /></head>\n",
              "<body>\n",
              "    <div>\n",
              "            <script src=\"https://cdnjs.cloudflare.com/ajax/libs/mathjax/2.7.5/MathJax.js?config=TeX-AMS-MML_SVG\"></script><script type=\"text/javascript\">if (window.MathJax) {MathJax.Hub.Config({SVG: {font: \"STIX-Web\"}});}</script>\n",
              "                <script type=\"text/javascript\">window.PlotlyConfig = {MathJaxConfig: 'local'};</script>\n",
              "        <script src=\"https://cdn.plot.ly/plotly-latest.min.js\"></script>    \n",
              "            <div id=\"d61013dd-f143-4ad8-ace8-46cafd463f81\" class=\"plotly-graph-div\" style=\"height:525px; width:100%;\"></div>\n",
              "            <script type=\"text/javascript\">\n",
              "                \n",
              "                    window.PLOTLYENV=window.PLOTLYENV || {};\n",
              "                    \n",
              "                if (document.getElementById(\"d61013dd-f143-4ad8-ace8-46cafd463f81\")) {\n",
              "                    Plotly.newPlot(\n",
              "                        'd61013dd-f143-4ad8-ace8-46cafd463f81',\n",
              "                        [{\"mode\": \"markers\", \"type\": \"scatter\", \"x\": [0.0328, 0.0148, 0.0228, 0.0136, 0.0382, 0.0186, 0.0251, 0.0244, 0.0181, 0.015, 0.0301, 0.0311, 0.0085, 0.0204, 0.0273, 0.0289, 0.0336, 0.0169, 0.0228, 0.0218, 0.0131, 0.041, 0.0095, 0.0106, 0.0279, 0.0344, 0.0314, 0.0183, 0.0131, 0.0327, 0.0135, 0.0408, 0.017, 0.0151, 0.0111, 0.0229, 0.0186, 0.0197, 0.0219, 0.0228, 0.0121, 0.02, 0.0599, 0.0131, 0.0161, 0.0125, 0.0273, 0.0358, 0.0341, 0.0274, 0.0432, 0.0188, 0.0109, 0.0219, 0.0147, 0.0205, 0.0234, 0.0194, 0.0561, 0.0177, 0.0244, 0.0444, 0.0626, 0.0186, 0.0378, 0.054, 0.0347, 0.0252, 0.0189, 0.0298, 0.0212, 0.0339, 0.0132, 0.0094, 0.0209, 0.0444, 0.0255, 0.0153, 0.0223, 0.0218, 0.0293, 0.0234, 0.0147, 0.0296, 0.0125, 0.026, 0.023, 0.049, 0.0351, 0.036, 0.0239, 0.0204, 0.0127, 0.0272, 0.0152, 0.0172, 0.0207, 0.1596, 0.0143, 0.0469, 0.0248, 0.0359, 0.0306, 0.0234, 0.0306, 0.0149, 0.0247, 0.0141, 0.0259, 0.0929, 0.0162, 0.0461, 0.0414, 0.0327, 0.0146, 0.0232, 0.0144, 0.0263, 0.029, 0.0199, 0.0221, 0.0274, 0.029, 0.0113, 0.0074, 0.0339, 0.047, 0.0323, 0.031, 0.012, 0.0247, 0.0201, 0.0078, 0.0155, 0.0254, 0.016, 0.0313, 0.033, 0.0238, 0.018, 0.0195, 0.0376, 0.0247, 0.0218, 0.0275, 0.0182, 0.0139, 0.0259, 0.009, 0.0162, 0.0719, 0.0222, 0.0204, 0.0162, 0.0158, 0.0351, 0.0315, 0.0628, 0.0168, 0.0111, 0.0252, 0.0275, 0.0227, 0.0331, 0.0331, 0.0114, 0.0648, 0.023, 0.0103, 0.0208, 0.0117, 0.0178, 0.0256, 0.0245, 0.0197, 0.0131, 0.0092, 0.0342, 0.0215, 0.0454, 0.0259, 0.0218, 0.0292, 0.0223, 0.0693, 0.0168, 0.0259, 0.0337, 0.011, 0.0199, 0.0276, 0.0179, 0.0192, 0.022, 0.0236, 0.0257, 0.0126, 0.0037, 0.0296, 0.0199, 0.0188, 0.02, 0.0281, 0.0215, 0.0193, 0.0275, 0.0276, 0.0144, 0.0338, 0.0369, 0.0174, 0.0173, 0.0146, 0.0216, 0.0292, 0.0154, 0.016, 0.0223, 0.0327, 0.0256, 0.039, 0.0139, 0.0075, 0.0113, 0.027, 0.0391, 0.0135, 0.0231, 0.0357, 0.0299, 0.0355, 0.0216, 0.0308, 0.0526, 0.0369, 0.0214, 0.0333, 0.0209, 0.0333, 0.0141, 0.0193, 0.0184, 0.0126, 0.0242, 0.0315, 0.0439, 0.0287, 0.0343, 0.0194, 0.021, 0.0246, 0.0112, 0.015, 0.0271, 0.0111, 0.0275, 0.0234, 0.0131, 0.0318, 0.0262, 0.0483, 0.0192, 0.0209, 0.0327, 0.0266, 0.0357, 0.0227, 0.0105, 0.02, 0.242, 0.0198, 0.0282, 0.0362, 0.0175, 0.0471, 0.0166, 0.005, 0.025, 0.0108, 0.0219, 0.0121, 0.0229, 0.018, 0.0247, 0.0341, 0.0197, 0.0258, 0.0292, 0.0148, 0.0287, 0.0287, 0.0121, 0.0046, 0.0222, 0.023, 0.0303, 0.0207, 0.029, 0.0277, 0.0266, 0.0325, 0.0456, 0.0159, 0.0203, 0.0163, 0.0067, 0.0193, 0.0213, 0.0349, 0.0365, 0.0233, 0.0127, 0.0255, 0.031, 0.0149, 0.0309, 0.0295, 0.0223, 0.0169, 0.0388, 0.0194, 0.0283, 0.0237, 0.0331, 0.0262, 0.0291, 0.015, 0.0302, 0.0277, 0.0231, 0.0355, 0.0112, 0.0134, 0.0238, 0.009, 0.0211, 0.0347, 0.0541, 0.0256, 0.0132, 0.0318, 0.0379, 0.0262, 0.0226, 0.0058, 0.023, 0.0201, 0.0194, 0.0227, 0.0105, 0.0275, 0.0228, 0.0435, 0.0455, 0.0219, 0.0722, 0.0405, 0.0211, 0.0283, 0.0226, 0.028, 0.0167, 0.0425, 0.0135, 0.0364, 0.0238, 0.0617, 0.0199, 0.0113, 0.0271, 0.0279, 0.0388, 0.0296, 0.0423, 0.0165, 0.0225, 0.0384, 0.0355, 0.0268, 0.0474, 0.0086, 0.0185, 0.0565, 0.0091, 0.0255, 0.0128, 0.0323, 0.0525, 0.0057, 0.0229, 0.0133, 0.0201, 0.0304, 0.011, 0.0129, 0.0319, 0.0458, 0.0272, 0.0057, 0.0134, 0.0406, 0.0267, 0.0239, 0.0121, 0.0396, 0.0288, 0.0244, 0.0223, 0.0549, 0.0278, 0.0203, 0.0651, 0.0161, 0.0207, 0.0194, 0.0251, 0.0196, 0.0329, 0.023, 0.0621, 0.0274, 0.0401, 0.077, 0.0056, 0.0757, 0.0193, 0.012, 0.0407, 0.018, 0.0169, 0.0273, 0.0108, 0.0207, 0.0285, 0.075, 0.0138, 0.0783, 0.0197, 0.0153, 0.023, 0.0324, 0.0153, 0.0406, 0.0376, 0.0305, 0.0325, 0.015, 0.0099, 0.0345, 0.0316, 0.0262, 0.0315, 0.0186, 0.0095, 0.0458, 0.0277, 0.029, 0.0152, 0.0294, 0.0168, 0.0178, 0.0144, 0.0198, 0.0208, 0.042, 0.0482, 0.0157, 0.0094, 0.0501, 0.0394, 0.0375, 0.0199, 0.0264, 0.0253, 0.0254, 0.0318, 0.038, 0.0299, 0.0324, 0.0244, 0.0298, 0.0841, 0.0131, 0.0275, 0.0218, 0.0102, 0.0216, 0.013, 0.0163, 0.0277, 0.0308, 0.0209, 0.0265, 0.0206, 0.0078, 0.0122, 0.0276, 0.0417, 0.012, 0.0164, 0.0108, 0.043, 0.0103, 0.0454, 0.0248, 0.0155, 0.024, 0.0162, 0.0299, 0.0348, 0.0116, 0.0217, 0.0202, 0.0181, 0.0137, 0.0189, 0.0395, 0.0238, 0.0311, 0.0308, 0.0316, 0.0246, 0.0308, 0.0325, 0.0493, 0.0125, 0.0132, 0.0253, 0.0232, 0.0214, 0.0479, 0.0139, 0.0223, 0.034, 0.0344, 0.0291, 0.024, 0.0114, 0.0165, 0.0328, 0.0829, 0.0107, 0.0224, 0.0603, 0.0166, 0.0175, 0.0217, 0.0154, 0.022, 0.0258, 0.0209, 0.0186, 0.0107, 0.0223, 0.0132, 0.0267, 0.0298, 0.013, 0.0124, 0.0412, 0.0348, 0.0218, 0.0152, 0.0283, 0.0255, 0.0127, 0.0185, 0.0478, 0.0246, 0.0362, 0.0179, 0.0244, 0.0178, 0.0232, 0.0201, 0.0142, 0.0395, 0.0186, 0.024, 0.0231, 0.0293, 0.01, 0.0137, 0.0161, 0.0133, 0.0219, 0.0131, 0.0251, 0.0131, 0.0345, 0.0367, 0.0251, 0.0164, 0.0203, 0.0131, 0.0193, 0.0393, 0.0362, 0.0192, 0.0307, 0.0253, 0.0256, 0.0198, 0.0509, 0.0134, 0.0191, 0.0247, 0.0112, 0.0485, 0.0364, 0.0135, 0.0393, 0.0199, 0.0247, 0.0262, 0.0282, 0.0271, 0.0301, 0.0106, 0.0292, 0.0392, 0.0261, 0.0143, 0.0191, 0.0278, 0.0161, 0.0212, 0.0205, 0.0323, 0.0158, 0.0249, 0.0159, 0.0155, 0.0264, 0.0163, 0.0212, 0.0209, 0.0207, 0.0164, 0.0166, 0.0159, 0.0189, 0.0362, 0.025, 0.032, 0.0355, 0.0597, 0.0356, 0.0288, 0.047, 0.0171, 0.0157, 0.025, 0.029, 0.0296, 0.0476, 0.021, 0.0247, 0.0175, 0.0238, 0.0299, 0.0291, 0.0672, 0.0167, 0.0201, 0.0233, 0.0245, 0.0171, 0.017, 0.0106, 0.0219, 0.025, 0.0189, 0.0217, 0.0215, 0.014, 0.0128, 0.0118, 0.0192, 0.0221, 0.0293, 0.0248, 0.0243, 0.0192, 0.0375, 0.0336, 0.0138, 0.0247, 0.0198, 0.0105, 0.0216, 0.0516, 0.0311, 0.0302, 0.0297, 0.0359, 0.0129, 0.0406, 0.0184, 0.008, 0.0248, 0.0248, 0.0383, 0.0218, 0.0205, 0.0062, 0.0182, 0.0283, 0.0175, 0.0137], \"y\": [0.03197057445334421, 0.02180449731065279, 0.031566429044519305, 0.01896773513504469, 0.030167179678530782, 0.02588952010363234, 0.018921633034581414, 0.026179352340464625, 0.025371818663138514, 0.02396063986108967, 0.03235338067592075, 0.026486784485491813, 0.027165508851710065, 0.022547868883108557, 0.020758237524491435, 0.03830428114810668, 0.029146592723901545, 0.023346519198888, 0.026641628232699294, 0.02359460801326921, 0.024597331384043197, 0.02787450073902803, 0.026419114046897473, 0.020348794683636415, 0.022079167930191657, 0.02913828903855444, 0.02107128512375485, 0.027395001458122924, 0.020283982921206978, 0.028420745593163585, 0.028818085492961713, 0.024334740722457646, 0.025855676327043477, 0.02656569687815029, 0.025427598792158355, 0.03771258684304869, 0.026553533625410162, 0.03030085949390858, 0.02261382560054588, 0.026923321849695658, 0.023979107348094313, 0.02264050501534903, 0.03846519127585735, 0.0226296884511233, 0.023587426698905074, 0.0272696106715027, 0.029762737337940576, 0.02910286028822415, 0.04161190963954137, 0.023838831129924826, 0.024097288425893627, 0.02377142029744577, 0.024549373980724015, 0.0286176595969051, 0.0196623430642829, 0.0267399066474587, 0.024042920661122562, 0.028651336764675458, 0.030443467694826712, 0.024345207699264813, 0.025565874007728362, 0.02624458748254981, 0.027883407003761886, 0.024226478308725756, 0.03168407593084446, 0.02525481215785485, 0.026358783508652096, 0.02701502435776345, 0.026986442378811606, 0.033284030704229264, 0.021594247750762005, 0.02071389612779534, 0.02761971104237751, 0.026773161476026583, 0.0225649122862851, 0.028781365645924158, 0.021938315731177677, 0.02173584344554126, 0.023324350854724896, 0.028419956223569187, 0.022588561441823717, 0.025631135715752294, 0.023501331421462178, 0.025105798779022703, 0.023368826080760262, 0.02713057893451464, 0.027719198928141883, 0.03022162189089594, 0.02535868351706268, 0.02937557269762938, 0.023217107808466635, 0.028438534546840706, 0.020770458408306096, 0.023514249564802962, 0.024434494097944293, 0.027083572536198863, 0.028431599949486526, 0.03549274742759946, 0.02226484234973728, 0.03603612964702638, 0.028855867246087442, 0.03165092278473851, 0.0243501980787666, 0.02053318657356496, 0.025907696841859583, 0.024229528097696153, 0.027347491989728467, 0.02879843924986962, 0.03011523777542168, 0.033000378659661773, 0.029512333717397816, 0.03132319990235919, 0.02584989912396531, 0.021178327763608413, 0.025848821180769276, 0.03132864325085191, 0.020744131857499362, 0.03478593051899199, 0.04363626746899118, 0.021257851098548414, 0.022912708852387106, 0.028029041607077865, 0.023688434912732856, 0.02485634037994445, 0.025258059521116333, 0.025107724885008252, 0.030018527818131857, 0.030653084736979357, 0.02210934698824259, 0.02398697390295244, 0.027430773638092022, 0.022778909601249463, 0.02314080545215032, 0.025261631672464473, 0.02203492383442102, 0.03467514288968852, 0.024395446885837238, 0.024457839771932888, 0.019276192137660113, 0.024573550111261215, 0.029228431857893544, 0.023444988294237773, 0.02682119048566442, 0.027301669119511034, 0.02481329960827971, 0.025378684585047797, 0.023843581441623556, 0.025034559554356496, 0.020982940837341566, 0.02530722206990192, 0.021080913104392633, 0.02531651176805219, 0.02523308273867831, 0.020469230529051793, 0.02576829485228952, 0.021891119037242626, 0.0241860962801804, 0.03117324146607742, 0.027849426474400682, 0.02584427337804629, 0.025270969644862373, 0.030750035787490478, 0.02388472374856142, 0.020926778886701834, 0.025557460046165145, 0.021690424922419987, 0.021437214162842333, 0.026329302478045255, 0.024920216972317104, 0.024690261048083244, 0.022866810009639, 0.02898174220575322, 0.022631822286215495, 0.024196250036640245, 0.02393264659094938, 0.02680532579967404, 0.03336972781373758, 0.028604081312154084, 0.02707015068891503, 0.03435777474708539, 0.0278084175418939, 0.021401453290619925, 0.031318161051264524, 0.0277658164117965, 0.02412972686760935, 0.023057878076073866, 0.02212095551896897, 0.027822834061106905, 0.02372683644678846, 0.024945622977716075, 0.029501859233884892, 0.024187227160528624, 0.02908534090333095, 0.0256245820936822, 0.026441372369934376, 0.02405478024821371, 0.025450603858372202, 0.020011580478547498, 0.020671442929064816, 0.022813838915626515, 0.023564293904266464, 0.02342841868870351, 0.02652298860153789, 0.02631979379567939, 0.019829756972134897, 0.02302721628540095, 0.02172327857332828, 0.025235875296677812, 0.025938214749237853, 0.061342931718445924, 0.027135025600032493, 0.026380837739774107, 0.023606065091869965, 0.025677361635220164, 0.02555044671834094, 0.021213607586842594, 0.02574969195150967, 0.021937108790632945, 0.028373502280680522, 0.024331069100077686, 0.028068840095851182, 0.02165071509546146, 0.019751214233954484, 0.026831384782888913, 0.024020381449258617, 0.12788672265339368, 0.02054846309286107, 0.02663424236452723, 0.032309513417136546, 0.028768668136672466, 0.025297804763977975, 0.021164010707271863, 0.04109952104137329, 0.024045462685451713, 0.021672658179745057, 0.022241398829332425, 0.031005725009199122, 0.027049942346152725, 0.022758697831563153, 0.021893846770522342, 0.02625568233093486, 0.022040000895854492, 0.0235135454673294, 0.02881792877359474, 0.023876600687787117, 0.03851092325158521, 0.024863450668449326, 0.035969243163892044, 0.02163489146655818, 0.02491795072493428, 0.042225120297341275, 0.027244759303491784, 0.025729499684567975, 0.028252608162363444, 0.025376007859899605, 0.02504710565459926, 0.031068014754614792, 0.030117940661009236, 0.028502859091373532, 0.02278533655065065, 0.021293970011535157, 0.032590270287984655, 0.02689415596861281, 0.030646322936792904, 0.025117994896955757, 0.030442661812460962, 0.023018524006620845, 0.02306561593680157, 0.028688257354033235, 0.02490391056475065, 0.024616170606969138, 0.03274488607553824, 0.028573917366613202, 0.026224341379979012, 0.025578196842507627, 0.02508087771202921, 0.024417190031145217, 0.033412831903693735, 0.022722305108191357, 0.023361301477767365, 0.03014099760184031, 0.02595746135904903, 0.0259405781696916, 0.029610401491635414, 0.04692769145430976, 0.03305508152957319, 0.028617696555717727, 0.02887906262046668, 0.02296414804910555, 0.030576171658012033, 0.025367138770754562, 0.023896239987892386, 0.02588474164369605, 0.023501096100839246, 0.02306839916683088, 0.02889575431736706, 0.027410883471268598, 0.030912799977585267, 0.025416681770079722, 0.030243235487597796, 0.021594481432492027, 0.02052186661449104, 0.026358420296319643, 0.03327970758569569, 0.026313418645761297, 0.02402149432456755, 0.02709345292756355, 0.022933299043005607, 0.02971920195273671, 0.025162926684590314, 0.02951493265397062, 0.023336207423107526, 0.03150774715391687, 0.029822401535359987, 0.02186686950249424, 0.025680363418875262, 0.031782595817893354, 0.022126223462653527, 0.025870819332109374, 0.029920831390393858, 0.023331056403348597, 0.023705590571184383, 0.024973072722885754, 0.025875789623352526, 0.02705207034772121, 0.0269752046669238, 0.031963177550733135, 0.023191707824119674, 0.03193557825968129, 0.022604938161396748, 0.030578092411438964, 0.023396765674618146, 0.02522830512767686, 0.02512789592262972, 0.02772583619469022, 0.03130235668073623, 0.028687492468949277, 0.037486425703329516, 0.030057468220149153, 0.019879221217431277, 0.028411911511270305, 0.026020778147465562, 0.032354496406356056, 0.024509452596192523, 0.021074311470265176, 0.023102268094339927, 0.0313198008922839, 0.02943099108065708, 0.026772200327875494, 0.024281489922632984, 0.02541679302927937, 0.024798145319002526, 0.021993553051228125, 0.021223629565784254, 0.019713408036781704, 0.02202631163459737, 0.02976346746660678, 0.026416734394983408, 0.026721241681106102, 0.02471642591710365, 0.027564617817436028, 0.027907190224080506, 0.03158225357663373, 0.022216149119621064, 0.023908142436815882, 0.02522802941681493, 0.024128722412022748, 0.02880585952842561, 0.02714731453972912, 0.029105223945123115, 0.03766512534342106, 0.022821259441197242, 0.025375297791435353, 0.027375769202220606, 0.02642544285088818, 0.029130738922394935, 0.026055737584919934, 0.025837678714885515, 0.026515315689599295, 0.031648559350650106, 0.022954522388204, 0.027339762335500006, 0.025565469349336574, 0.022090973551291332, 0.024892286247901553, 0.02424653034977716, 0.022563271283054808, 0.03842863617882458, 0.022424426752196348, 0.025051942496965223, 0.023001925915742988, 0.02592026730847688, 0.02390016592408916, 0.021378096167144818, 0.024485096999869012, 0.02618805564090814, 0.030919241717238782, 0.03240619343234674, 0.01949339229640535, 0.023907766793337764, 0.027939412705289917, 0.027361286504998656, 0.019549194012979904, 0.024246000494403827, 0.054477449497432114, 0.02431884439201871, 0.027622094568075704, 0.025947317587685058, 0.028347343989924337, 0.031107874291030256, 0.02694314306808453, 0.030752159883244944, 0.021889163709344853, 0.028171664466089517, 0.029717070340766368, 0.03402896234414341, 0.027589673908308316, 0.03392929200446933, 0.025210851749443288, 0.03296810275792335, 0.02733555472553648, 0.030857680451398688, 0.023661163060324078, 0.02207766802291632, 0.02004417677808497, 0.022096651883026133, 0.0260459821963651, 0.02987774680295007, 0.030075582715951208, 0.03864364848264995, 0.026754332903985295, 0.02521899251857973, 0.02424453913135065, 0.02286755923104276, 0.02284120898998295, 0.0267458059779603, 0.028013403833007586, 0.027770992207287938, 0.023731967951588814, 0.02548017577112981, 0.03143772084493815, 0.020387439444478427, 0.0302217032817252, 0.024341731140181705, 0.030561797246908006, 0.030233554389758995, 0.023157542433690455, 0.02610907705650229, 0.030082889042855866, 0.026665437070491745, 0.025213226505285777, 0.03296641405908389, 0.025451272193057598, 0.020968203249884316, 0.02995900014437964, 0.028953423058157526, 0.02326751863111834, 0.02542952705947054, 0.01981254280250256, 0.01933384978384087, 0.026293824860743015, 0.024017168742769296, 0.023562614065611852, 0.025781497340207342, 0.029698467198290654, 0.026355849148729984, 0.026301627068945732, 0.021177655084919006, 0.03437710326626514, 0.037797171289536975, 0.02441245414138612, 0.028906732199968733, 0.023232187194973452, 0.026924436199266613, 0.02834292776731335, 0.029652282338285398, 0.03307070846750954, 0.02544194985591062, 0.032623662780423626, 0.02493951159343436, 0.02159658701887718, 0.027189360789187038, 0.035333944432188846, 0.023352452171241517, 0.02528085364373432, 0.02149026830309035, 0.026749096200279612, 0.02767686374930676, 0.02216897866274742, 0.02179382221962653, 0.024112002624077897, 0.026674009953421063, 0.028146840598427782, 0.030157107761493884, 0.020440457386397173, 0.023981745177036606, 0.027791659012448088, 0.02860073283612974, 0.02266973545750729, 0.025360897068700646, 0.024762859034322272, 0.03452865880845281, 0.023398230833216578, 0.035411315535607474, 0.028254682981647804, 0.031383590557206346, 0.02437626179391371, 0.0246265840651387, 0.021061468859072514, 0.024084060470940208, 0.028266044849237247, 0.02538985329666011, 0.02385146929300328, 0.026562550071263572, 0.028684690603583834, 0.027552656701362966, 0.02870547847889921, 0.026968942216232767, 0.02680237668357218, 0.0219120723872701, 0.026192853755825432, 0.030043463663390495, 0.025912809973112953, 0.021749456934068365, 0.030366465092472848, 0.024848121998144825, 0.0271159228145865, 0.024887349034109708, 0.02018359883424667, 0.025849724486327413, 0.05352592561100306, 0.02426828963190153, 0.027256630154420126, 0.029393392795851, 0.024779983345375872, 0.029012950024167664, 0.030606392213610625, 0.022467768780627943, 0.02331394150610992, 0.02375003647140493, 0.026178807543162964, 0.02190990482036997, 0.029242798541461446, 0.026222896549526198, 0.024636892812384497, 0.026484212794103974, 0.02783913594969601, 0.025788420134441367, 0.0332285275885209, 0.02926128397370568, 0.021609038123837795, 0.02400795667264551, 0.024555482084541926, 0.03243482811784431, 0.02450396687886048, 0.02871656206244591, 0.02575490931858232, 0.02638923426537782, 0.026914857624573164, 0.02452570092969724, 0.025372446066691718, 0.028713217248006136, 0.023158599320250463, 0.04190451019055047, 0.01963905261774631, 0.02427004505395227, 0.02476759158567863, 0.025741025852673606, 0.03451732129327348, 0.02900780401952774, 0.03298958074162784, 0.02965614956762814, 0.026076863004293103, 0.021079857005341405, 0.02267937934930031, 0.025041273064715354, 0.034130703751727956, 0.019412535452544885, 0.032894441254265716, 0.03871624679982724, 0.03869672204413174, 0.023873998313994962, 0.02505541031898351, 0.024551640330358365, 0.024792349808038683, 0.02710710895221346, 0.025469137840556228, 0.02342131116266914, 0.023412865753947118, 0.02318292533862015, 0.024356059656754726, 0.027701431091123083, 0.02205882666935642, 0.021940330665820414, 0.022591247674372168, 0.027578925919080684, 0.025286520001318095, 0.03199279050894385, 0.022765249436748115, 0.02893733911480457, 0.03339686861050923, 0.023227435105575053, 0.025052906788964963, 0.021804231424238835, 0.028037153199278762, 0.026424575268441216, 0.024104258841393836, 0.02671271915611515, 0.04354946663377472, 0.025087262601513838, 0.027171012287002822, 0.02893818553603824, 0.03105674882790362, 0.026634972146988255, 0.03178734336700986, 0.033715805487928206, 0.027086207847028556, 0.0234381962954342, 0.024319190310514428, 0.03506161172885401, 0.02489288793977845, 0.022111429524532288, 0.02767455639412442, 0.027466594417525872, 0.019608805860963304, 0.027435097289595735, 0.03218118359506391, 0.022149123394647946, 0.031352314391786276, 0.02415102393017872, 0.023600439153113082, 0.025264050313317365, 0.028417250877233267, 0.027783819271490644, 0.020547875883249928, 0.02558201032024737, 0.02055171006963359, 0.02693361861251252, 0.022488453395787904, 0.021930566207503867, 0.03391941460583882, 0.0260869778680485, 0.027657915467930335, 0.03650058152911127, 0.02386587045459348, 0.026926442793493034, 0.02663273442360504, 0.028156680044927947, 0.023558127438827535, 0.029084096515276554, 0.02765985632375999, 0.02630302237564731, 0.03382625088209314, 0.022632928567533007, 0.02691214129720042, 0.030153408733632373, 0.028926125604214727, 0.021704688622441883, 0.024296593283531467, 0.024663117926514884, 0.02905934681610798, 0.021193090922806503, 0.031525983534549044, 0.024483860228871914, 0.023043973237799564, 0.026261003783365187, 0.021802675497271478, 0.024909965473164087, 0.025086139124513764, 0.02531127206461479, 0.025052333884008824, 0.023427538035667134, 0.025333138344079856, 0.02349296800708827, 0.030157682984572498, 0.021388209644620217, 0.0229832584827728, 0.02864695895011829, 0.03581336210603465, 0.0236546478216249, 0.033572557042896044, 0.026630068771468594, 0.03342682601325321, 0.026155819922171933, 0.019713561425008415, 0.033294910601562505, 0.020201485967976753, 0.023109809632582745, 0.02491127231126788, 0.026018634334160684, 0.02498271269825996, 0.028451837846717756, 0.02627951149031022, 0.02315773562761302, 0.021808031839092364, 0.031926816091009405, 0.021259995490093164, 0.03242571584704906, 0.0255270460466803, 0.02359411120314812, 0.02459904992088855, 0.02679297563759181, 0.027007934328739425, 0.029291173825525645, 0.025490359286908515, 0.030257410701681715, 0.02225204399524748, 0.020514653719968922, 0.02630806915550552, 0.025338963328980064]}],\n",
              "                        {\"template\": {\"data\": {\"bar\": [{\"error_x\": {\"color\": \"#2a3f5f\"}, \"error_y\": {\"color\": \"#2a3f5f\"}, \"marker\": {\"line\": {\"color\": \"#E5ECF6\", \"width\": 0.5}}, \"type\": \"bar\"}], \"barpolar\": [{\"marker\": {\"line\": {\"color\": \"#E5ECF6\", \"width\": 0.5}}, \"type\": \"barpolar\"}], \"carpet\": [{\"aaxis\": {\"endlinecolor\": \"#2a3f5f\", \"gridcolor\": \"white\", \"linecolor\": \"white\", \"minorgridcolor\": \"white\", \"startlinecolor\": \"#2a3f5f\"}, \"baxis\": {\"endlinecolor\": \"#2a3f5f\", \"gridcolor\": \"white\", \"linecolor\": \"white\", \"minorgridcolor\": \"white\", \"startlinecolor\": \"#2a3f5f\"}, \"type\": \"carpet\"}], \"choropleth\": [{\"colorbar\": {\"outlinewidth\": 0, \"ticks\": \"\"}, \"type\": \"choropleth\"}], \"contour\": [{\"colorbar\": {\"outlinewidth\": 0, \"ticks\": \"\"}, \"colorscale\": [[0.0, \"#0d0887\"], [0.1111111111111111, \"#46039f\"], [0.2222222222222222, \"#7201a8\"], [0.3333333333333333, \"#9c179e\"], [0.4444444444444444, \"#bd3786\"], [0.5555555555555556, \"#d8576b\"], [0.6666666666666666, \"#ed7953\"], [0.7777777777777778, \"#fb9f3a\"], [0.8888888888888888, \"#fdca26\"], [1.0, \"#f0f921\"]], \"type\": \"contour\"}], \"contourcarpet\": [{\"colorbar\": {\"outlinewidth\": 0, \"ticks\": \"\"}, \"type\": \"contourcarpet\"}], \"heatmap\": [{\"colorbar\": {\"outlinewidth\": 0, \"ticks\": \"\"}, \"colorscale\": [[0.0, \"#0d0887\"], [0.1111111111111111, \"#46039f\"], [0.2222222222222222, \"#7201a8\"], [0.3333333333333333, \"#9c179e\"], [0.4444444444444444, \"#bd3786\"], [0.5555555555555556, \"#d8576b\"], [0.6666666666666666, \"#ed7953\"], [0.7777777777777778, \"#fb9f3a\"], [0.8888888888888888, \"#fdca26\"], [1.0, \"#f0f921\"]], \"type\": \"heatmap\"}], \"heatmapgl\": [{\"colorbar\": {\"outlinewidth\": 0, \"ticks\": \"\"}, \"colorscale\": [[0.0, \"#0d0887\"], [0.1111111111111111, \"#46039f\"], [0.2222222222222222, \"#7201a8\"], [0.3333333333333333, \"#9c179e\"], [0.4444444444444444, \"#bd3786\"], [0.5555555555555556, \"#d8576b\"], [0.6666666666666666, \"#ed7953\"], [0.7777777777777778, \"#fb9f3a\"], [0.8888888888888888, \"#fdca26\"], [1.0, \"#f0f921\"]], \"type\": \"heatmapgl\"}], \"histogram\": [{\"marker\": {\"colorbar\": {\"outlinewidth\": 0, \"ticks\": \"\"}}, \"type\": \"histogram\"}], \"histogram2d\": [{\"colorbar\": {\"outlinewidth\": 0, \"ticks\": \"\"}, \"colorscale\": [[0.0, \"#0d0887\"], [0.1111111111111111, \"#46039f\"], [0.2222222222222222, \"#7201a8\"], [0.3333333333333333, \"#9c179e\"], [0.4444444444444444, \"#bd3786\"], [0.5555555555555556, \"#d8576b\"], [0.6666666666666666, \"#ed7953\"], [0.7777777777777778, \"#fb9f3a\"], [0.8888888888888888, \"#fdca26\"], [1.0, \"#f0f921\"]], \"type\": \"histogram2d\"}], \"histogram2dcontour\": [{\"colorbar\": {\"outlinewidth\": 0, \"ticks\": \"\"}, \"colorscale\": [[0.0, \"#0d0887\"], [0.1111111111111111, \"#46039f\"], [0.2222222222222222, \"#7201a8\"], [0.3333333333333333, \"#9c179e\"], [0.4444444444444444, \"#bd3786\"], [0.5555555555555556, \"#d8576b\"], [0.6666666666666666, \"#ed7953\"], [0.7777777777777778, \"#fb9f3a\"], [0.8888888888888888, \"#fdca26\"], [1.0, \"#f0f921\"]], \"type\": \"histogram2dcontour\"}], \"mesh3d\": [{\"colorbar\": {\"outlinewidth\": 0, \"ticks\": \"\"}, \"type\": \"mesh3d\"}], \"parcoords\": [{\"line\": {\"colorbar\": {\"outlinewidth\": 0, \"ticks\": \"\"}}, \"type\": \"parcoords\"}], \"pie\": [{\"automargin\": true, \"type\": \"pie\"}], \"scatter\": [{\"marker\": {\"colorbar\": {\"outlinewidth\": 0, \"ticks\": \"\"}}, \"type\": \"scatter\"}], \"scatter3d\": [{\"line\": {\"colorbar\": {\"outlinewidth\": 0, \"ticks\": \"\"}}, \"marker\": {\"colorbar\": {\"outlinewidth\": 0, \"ticks\": \"\"}}, \"type\": \"scatter3d\"}], \"scattercarpet\": [{\"marker\": {\"colorbar\": {\"outlinewidth\": 0, \"ticks\": \"\"}}, \"type\": \"scattercarpet\"}], \"scattergeo\": [{\"marker\": {\"colorbar\": {\"outlinewidth\": 0, \"ticks\": \"\"}}, \"type\": \"scattergeo\"}], \"scattergl\": [{\"marker\": {\"colorbar\": {\"outlinewidth\": 0, \"ticks\": \"\"}}, \"type\": \"scattergl\"}], \"scattermapbox\": [{\"marker\": {\"colorbar\": {\"outlinewidth\": 0, \"ticks\": \"\"}}, \"type\": \"scattermapbox\"}], \"scatterpolar\": [{\"marker\": {\"colorbar\": {\"outlinewidth\": 0, \"ticks\": \"\"}}, \"type\": \"scatterpolar\"}], \"scatterpolargl\": [{\"marker\": {\"colorbar\": {\"outlinewidth\": 0, \"ticks\": \"\"}}, \"type\": \"scatterpolargl\"}], \"scatterternary\": [{\"marker\": {\"colorbar\": {\"outlinewidth\": 0, \"ticks\": \"\"}}, \"type\": \"scatterternary\"}], \"surface\": [{\"colorbar\": {\"outlinewidth\": 0, \"ticks\": \"\"}, \"colorscale\": [[0.0, \"#0d0887\"], [0.1111111111111111, \"#46039f\"], [0.2222222222222222, \"#7201a8\"], [0.3333333333333333, \"#9c179e\"], [0.4444444444444444, \"#bd3786\"], [0.5555555555555556, \"#d8576b\"], [0.6666666666666666, \"#ed7953\"], [0.7777777777777778, \"#fb9f3a\"], [0.8888888888888888, \"#fdca26\"], [1.0, \"#f0f921\"]], \"type\": \"surface\"}], \"table\": [{\"cells\": {\"fill\": {\"color\": \"#EBF0F8\"}, \"line\": {\"color\": \"white\"}}, \"header\": {\"fill\": {\"color\": \"#C8D4E3\"}, \"line\": {\"color\": \"white\"}}, \"type\": \"table\"}]}, \"layout\": {\"annotationdefaults\": {\"arrowcolor\": \"#2a3f5f\", \"arrowhead\": 0, \"arrowwidth\": 1}, \"coloraxis\": {\"colorbar\": {\"outlinewidth\": 0, \"ticks\": \"\"}}, \"colorscale\": {\"diverging\": [[0, \"#8e0152\"], [0.1, \"#c51b7d\"], [0.2, \"#de77ae\"], [0.3, \"#f1b6da\"], [0.4, \"#fde0ef\"], [0.5, \"#f7f7f7\"], [0.6, \"#e6f5d0\"], [0.7, \"#b8e186\"], [0.8, \"#7fbc41\"], [0.9, \"#4d9221\"], [1, \"#276419\"]], \"sequential\": [[0.0, \"#0d0887\"], [0.1111111111111111, \"#46039f\"], [0.2222222222222222, \"#7201a8\"], [0.3333333333333333, \"#9c179e\"], [0.4444444444444444, \"#bd3786\"], [0.5555555555555556, \"#d8576b\"], [0.6666666666666666, \"#ed7953\"], [0.7777777777777778, \"#fb9f3a\"], [0.8888888888888888, \"#fdca26\"], [1.0, \"#f0f921\"]], \"sequentialminus\": [[0.0, \"#0d0887\"], [0.1111111111111111, \"#46039f\"], [0.2222222222222222, \"#7201a8\"], [0.3333333333333333, \"#9c179e\"], [0.4444444444444444, \"#bd3786\"], [0.5555555555555556, \"#d8576b\"], [0.6666666666666666, \"#ed7953\"], [0.7777777777777778, \"#fb9f3a\"], [0.8888888888888888, \"#fdca26\"], [1.0, \"#f0f921\"]]}, \"colorway\": [\"#636efa\", \"#EF553B\", \"#00cc96\", \"#ab63fa\", \"#FFA15A\", \"#19d3f3\", \"#FF6692\", \"#B6E880\", \"#FF97FF\", \"#FECB52\"], \"font\": {\"color\": \"#2a3f5f\"}, \"geo\": {\"bgcolor\": \"white\", \"lakecolor\": \"white\", \"landcolor\": \"#E5ECF6\", \"showlakes\": true, \"showland\": true, \"subunitcolor\": \"white\"}, \"hoverlabel\": {\"align\": \"left\"}, \"hovermode\": \"closest\", \"mapbox\": {\"style\": \"light\"}, \"paper_bgcolor\": \"white\", \"plot_bgcolor\": \"#E5ECF6\", \"polar\": {\"angularaxis\": {\"gridcolor\": \"white\", \"linecolor\": \"white\", \"ticks\": \"\"}, \"bgcolor\": \"#E5ECF6\", \"radialaxis\": {\"gridcolor\": \"white\", \"linecolor\": \"white\", \"ticks\": \"\"}}, \"scene\": {\"xaxis\": {\"backgroundcolor\": \"#E5ECF6\", \"gridcolor\": \"white\", \"gridwidth\": 2, \"linecolor\": \"white\", \"showbackground\": true, \"ticks\": \"\", \"zerolinecolor\": \"white\"}, \"yaxis\": {\"backgroundcolor\": \"#E5ECF6\", \"gridcolor\": \"white\", \"gridwidth\": 2, \"linecolor\": \"white\", \"showbackground\": true, \"ticks\": \"\", \"zerolinecolor\": \"white\"}, \"zaxis\": {\"backgroundcolor\": \"#E5ECF6\", \"gridcolor\": \"white\", \"gridwidth\": 2, \"linecolor\": \"white\", \"showbackground\": true, \"ticks\": \"\", \"zerolinecolor\": \"white\"}}, \"shapedefaults\": {\"line\": {\"color\": \"#2a3f5f\"}}, \"ternary\": {\"aaxis\": {\"gridcolor\": \"white\", \"linecolor\": \"white\", \"ticks\": \"\"}, \"baxis\": {\"gridcolor\": \"white\", \"linecolor\": \"white\", \"ticks\": \"\"}, \"bgcolor\": \"#E5ECF6\", \"caxis\": {\"gridcolor\": \"white\", \"linecolor\": \"white\", \"ticks\": \"\"}}, \"title\": {\"x\": 0.05}, \"xaxis\": {\"automargin\": true, \"gridcolor\": \"white\", \"linecolor\": \"white\", \"ticks\": \"\", \"title\": {\"standoff\": 15}, \"zerolinecolor\": \"white\", \"zerolinewidth\": 2}, \"yaxis\": {\"automargin\": true, \"gridcolor\": \"white\", \"linecolor\": \"white\", \"ticks\": \"\", \"title\": {\"standoff\": 15}, \"zerolinecolor\": \"white\", \"zerolinewidth\": 2}}}, \"title\": {\"text\": \"Valores reais e previstos de correla\\u00e7\\u00e3o positiva de mortalidade de COVID-19\"}},\n",
              "                        {\"responsive\": true}\n",
              "                    ).then(function(){\n",
              "                            \n",
              "var gd = document.getElementById('d61013dd-f143-4ad8-ace8-46cafd463f81');\n",
              "var x = new MutationObserver(function (mutations, observer) {{\n",
              "        var display = window.getComputedStyle(gd).display;\n",
              "        if (!display || display === 'none') {{\n",
              "            console.log([gd, 'removed!']);\n",
              "            Plotly.purge(gd);\n",
              "            observer.disconnect();\n",
              "        }}\n",
              "}});\n",
              "\n",
              "// Listen for the removal of the full notebook cells\n",
              "var notebookContainer = gd.closest('#notebook-container');\n",
              "if (notebookContainer) {{\n",
              "    x.observe(notebookContainer, {childList: true});\n",
              "}}\n",
              "\n",
              "// Listen for the clearing of the current output cell\n",
              "var outputEl = gd.closest('.output');\n",
              "if (outputEl) {{\n",
              "    x.observe(outputEl, {childList: true});\n",
              "}}\n",
              "\n",
              "                        })\n",
              "                };\n",
              "                \n",
              "            </script>\n",
              "        </div>\n",
              "</body>\n",
              "</html>"
            ]
          },
          "metadata": {
            "tags": []
          }
        }
      ]
    },
    {
      "cell_type": "code",
      "metadata": {
        "id": "RMJTOy55IKZU",
        "colab": {
          "base_uri": "https://localhost:8080/",
          "height": 383
        },
        "outputId": "e4fa88e7-9932-49d6-edd4-3995ac6c710f"
      },
      "source": [
        "df_corr_positiva = pd.DataFrame ({'Real': ytest_corr_positiva, 'Previsto': ipred_corr_positiva}) \n",
        "sns.lmplot(x=\"Real\", y=\"Previsto\", data=df_corr_positiva);"
      ],
      "execution_count": 14,
      "outputs": [
        {
          "output_type": "display_data",
          "data": {
            "image/png": "[encoded data removed]",
            "text/plain": [
              "<Figure size 360x360 with 1 Axes>"
            ]
          },
          "metadata": {
            "tags": [],
            "needs_background": "light"
          }
        }
      ]
    },
    {
      "cell_type": "code",
      "metadata": {
        "colab": {
          "base_uri": "https://localhost:8080/",
          "height": 355
        },
        "id": "LVYGOpVSvXHl",
        "outputId": "cb4cf385-6e44-4d33-ae9d-e112e57a9ae8"
      },
      "source": [
        "correlacao_negativa = idhmcovid.corr().loc['last_available_death_rate'].sort_values().to_frame().reset_index().rename(columns = {'index': 'indicador'})[:10]\n",
        "correlacao_negativa"
      ],
      "execution_count": 15,
      "outputs": [
        {
          "output_type": "execute_result",
          "data": {
            "text/html": [
              "<div>\n",
              "<style scoped>\n",
              "    .dataframe tbody tr th:only-of-type {\n",
              "        vertical-align: middle;\n",
              "    }\n",
              "\n",
              "    .dataframe tbody tr th {\n",
              "        vertical-align: top;\n",
              "    }\n",
              "\n",
              "    .dataframe thead th {\n",
              "        text-align: right;\n",
              "    }\n",
              "</style>\n",
              "<table border=\"1\" class=\"dataframe\">\n",
              "  <thead>\n",
              "    <tr style=\"text-align: right;\">\n",
              "      <th></th>\n",
              "      <th>indicador</th>\n",
              "      <th>last_available_death_rate</th>\n",
              "    </tr>\n",
              "  </thead>\n",
              "  <tbody>\n",
              "    <tr>\n",
              "      <th>0</th>\n",
              "      <td>T_ATIV1517</td>\n",
              "      <td>-0.231833</td>\n",
              "    </tr>\n",
              "    <tr>\n",
              "      <th>1</th>\n",
              "      <td>T_ATIV1014</td>\n",
              "      <td>-0.214419</td>\n",
              "    </tr>\n",
              "    <tr>\n",
              "      <th>2</th>\n",
              "      <td>P_AGRO</td>\n",
              "      <td>-0.189300</td>\n",
              "    </tr>\n",
              "    <tr>\n",
              "      <th>3</th>\n",
              "      <td>THEILtrab</td>\n",
              "      <td>-0.156065</td>\n",
              "    </tr>\n",
              "    <tr>\n",
              "      <th>4</th>\n",
              "      <td>T_FUNDIN_TODOS</td>\n",
              "      <td>-0.142199</td>\n",
              "    </tr>\n",
              "    <tr>\n",
              "      <th>5</th>\n",
              "      <td>T_CRIFUNDIN_TODOS</td>\n",
              "      <td>-0.141121</td>\n",
              "    </tr>\n",
              "    <tr>\n",
              "      <th>6</th>\n",
              "      <td>REN0</td>\n",
              "      <td>-0.135171</td>\n",
              "    </tr>\n",
              "    <tr>\n",
              "      <th>7</th>\n",
              "      <td>REN1</td>\n",
              "      <td>-0.132616</td>\n",
              "    </tr>\n",
              "    <tr>\n",
              "      <th>8</th>\n",
              "      <td>T_FUNDIN18MINF</td>\n",
              "      <td>-0.129264</td>\n",
              "    </tr>\n",
              "    <tr>\n",
              "      <th>9</th>\n",
              "      <td>T_SLUZ</td>\n",
              "      <td>-0.117727</td>\n",
              "    </tr>\n",
              "  </tbody>\n",
              "</table>\n",
              "</div>"
            ],
            "text/plain": [
              "           indicador  last_available_death_rate\n",
              "0         T_ATIV1517                  -0.231833\n",
              "1         T_ATIV1014                  -0.214419\n",
              "2             P_AGRO                  -0.189300\n",
              "3          THEILtrab                  -0.156065\n",
              "4     T_FUNDIN_TODOS                  -0.142199\n",
              "5  T_CRIFUNDIN_TODOS                  -0.141121\n",
              "6               REN0                  -0.135171\n",
              "7               REN1                  -0.132616\n",
              "8     T_FUNDIN18MINF                  -0.129264\n",
              "9             T_SLUZ                  -0.117727"
            ]
          },
          "metadata": {
            "tags": []
          },
          "execution_count": 15
        }
      ]
    },
    {
      "cell_type": "code",
      "metadata": {
        "id": "6LyE2EUdFJhB",
        "colab": {
          "base_uri": "https://localhost:8080/",
          "height": 355
        },
        "outputId": "8c101dcf-14d5-417e-a469-39f76922a71a"
      },
      "source": [
        "correlacao_negativa = idhmcovid.corr(method='spearman').loc['last_available_death_rate'].sort_values().to_frame().reset_index().rename(columns = {'index': 'indicador'})[:10]\n",
        "correlacao_negativa"
      ],
      "execution_count": 16,
      "outputs": [
        {
          "output_type": "execute_result",
          "data": {
            "text/html": [
              "<div>\n",
              "<style scoped>\n",
              "    .dataframe tbody tr th:only-of-type {\n",
              "        vertical-align: middle;\n",
              "    }\n",
              "\n",
              "    .dataframe tbody tr th {\n",
              "        vertical-align: top;\n",
              "    }\n",
              "\n",
              "    .dataframe thead th {\n",
              "        text-align: right;\n",
              "    }\n",
              "</style>\n",
              "<table border=\"1\" class=\"dataframe\">\n",
              "  <thead>\n",
              "    <tr style=\"text-align: right;\">\n",
              "      <th></th>\n",
              "      <th>indicador</th>\n",
              "      <th>last_available_death_rate</th>\n",
              "    </tr>\n",
              "  </thead>\n",
              "  <tbody>\n",
              "    <tr>\n",
              "      <th>0</th>\n",
              "      <td>T_ATIV1014</td>\n",
              "      <td>-0.270599</td>\n",
              "    </tr>\n",
              "    <tr>\n",
              "      <th>1</th>\n",
              "      <td>P_AGRO</td>\n",
              "      <td>-0.246177</td>\n",
              "    </tr>\n",
              "    <tr>\n",
              "      <th>2</th>\n",
              "      <td>REN0</td>\n",
              "      <td>-0.242714</td>\n",
              "    </tr>\n",
              "    <tr>\n",
              "      <th>3</th>\n",
              "      <td>T_ATIV1517</td>\n",
              "      <td>-0.190833</td>\n",
              "    </tr>\n",
              "    <tr>\n",
              "      <th>4</th>\n",
              "      <td>T_SLUZ</td>\n",
              "      <td>-0.176086</td>\n",
              "    </tr>\n",
              "    <tr>\n",
              "      <th>5</th>\n",
              "      <td>T_CRIFUNDIN_TODOS</td>\n",
              "      <td>-0.170322</td>\n",
              "    </tr>\n",
              "    <tr>\n",
              "      <th>6</th>\n",
              "      <td>T_FUNDIN_TODOS</td>\n",
              "      <td>-0.164937</td>\n",
              "    </tr>\n",
              "    <tr>\n",
              "      <th>7</th>\n",
              "      <td>REN1</td>\n",
              "      <td>-0.163958</td>\n",
              "    </tr>\n",
              "    <tr>\n",
              "      <th>8</th>\n",
              "      <td>THEILtrab</td>\n",
              "      <td>-0.157473</td>\n",
              "    </tr>\n",
              "    <tr>\n",
              "      <th>9</th>\n",
              "      <td>T_FUNDIN18MINF</td>\n",
              "      <td>-0.145453</td>\n",
              "    </tr>\n",
              "  </tbody>\n",
              "</table>\n",
              "</div>"
            ],
            "text/plain": [
              "           indicador  last_available_death_rate\n",
              "0         T_ATIV1014                  -0.270599\n",
              "1             P_AGRO                  -0.246177\n",
              "2               REN0                  -0.242714\n",
              "3         T_ATIV1517                  -0.190833\n",
              "4             T_SLUZ                  -0.176086\n",
              "5  T_CRIFUNDIN_TODOS                  -0.170322\n",
              "6     T_FUNDIN_TODOS                  -0.164937\n",
              "7               REN1                  -0.163958\n",
              "8          THEILtrab                  -0.157473\n",
              "9     T_FUNDIN18MINF                  -0.145453"
            ]
          },
          "metadata": {
            "tags": []
          },
          "execution_count": 16
        }
      ]
    },
    {
      "cell_type": "code",
      "metadata": {
        "id": "TtNB48YAuhwH"
      },
      "source": [
        "corr_negat = correlacao_negativa.indicador.to_list()\n",
        "corr_negativa = idhmcovid[idhmcovid.columns.intersection(corr_negat)]"
      ],
      "execution_count": 17,
      "outputs": []
    },
    {
      "cell_type": "code",
      "metadata": {
        "id": "7uiM_o4zIKXD"
      },
      "source": [
        "xtrain_corr_negativa, xtest_corr_negativa, ytrain_corr_negativa, ytest_corr_negativa = train_test_split(corr_negativa, mortalidade, test_size=0.4, random_state=42)"
      ],
      "execution_count": 18,
      "outputs": []
    },
    {
      "cell_type": "code",
      "metadata": {
        "id": "wHpZ-_DGIKUj",
        "colab": {
          "base_uri": "https://localhost:8080/"
        },
        "outputId": "cb64a6b9-b684-439f-ce6b-2bc44ef5200c"
      },
      "source": [
        "linreg_corr_negativa = LinearRegression()\n",
        "linreg_corr_negativa.fit(xtrain_corr_negativa, ytrain_corr_negativa)\n",
        "print('linear model coeff (w): {}'\n",
        ".format(linreg_corr_negativa.coef_))\n",
        "print('linear model intercept (b): {:.3f}'\n",
        ".format(linreg_corr_negativa.intercept_))\n",
        "print('R-squared score (training): {:.3f}'\n",
        ".format(linreg_corr_negativa.score(xtrain_corr_negativa, ytrain_corr_negativa)))\n",
        "print('R-squared score (test): {:.3f}'\n",
        ".format(linreg_corr_negativa.score(xtest_corr_negativa, ytest_corr_negativa)))"
      ],
      "execution_count": 19,
      "outputs": [
        {
          "output_type": "stream",
          "text": [
            "linear model coeff (w): [-2.13701260e-04  6.37106121e-05  4.80311262e-05  3.04153435e-04\n",
            " -5.02487968e-04 -1.71995016e-02 -7.65485458e-04  8.25155907e-04\n",
            "  4.85813281e-06 -2.17737914e-04]\n",
            "linear model intercept (b): 0.051\n",
            "R-squared score (training): 0.135\n",
            "R-squared score (test): 0.093\n"
          ],
          "name": "stdout"
        }
      ]
    },
    {
      "cell_type": "code",
      "metadata": {
        "id": "fbkuLjA6G0NP",
        "colab": {
          "base_uri": "https://localhost:8080/"
        },
        "outputId": "cfc688c9-6982-4f9d-b0f6-ea37cf7546e9"
      },
      "source": [
        "ipred_corr_negativa = linreg_corr_negativa.predict(xtest_corr_negativa)\n",
        "print('Mean squared error: %.2f'\n",
        "      % mean_squared_error(ytest_corr_negativa, ipred_corr_negativa))\n",
        "print('Coefficient of determination: %.2f'\n",
        "      % r2_score(ytest_corr_negativa, ipred_corr_negativa))"
      ],
      "execution_count": 20,
      "outputs": [
        {
          "output_type": "stream",
          "text": [
            "Mean squared error: 0.00\n",
            "Coefficient of determination: 0.09\n"
          ],
          "name": "stdout"
        }
      ]
    },
    {
      "cell_type": "code",
      "metadata": {
        "id": "Rs8RUuM6IqUR",
        "colab": {
          "base_uri": "https://localhost:8080/",
          "height": 542
        },
        "outputId": "91b40bac-243d-4606-a6aa-104c62d069f6"
      },
      "source": [
        "fig = go.Figure(data=go.Scatter(x=ytest_corr_negativa, y=ipred_corr_negativa, mode='markers')) \n",
        "fig.update_layout(title=\"Valores reais e previstos de correlação negativa de mortalidade de COVID-19\")\n",
        "fig.show()"
      ],
      "execution_count": 21,
      "outputs": [
        {
          "output_type": "display_data",
          "data": {
            "text/html": [
              "<html>\n",
              "<head><meta charset=\"utf-8\" /></head>\n",
              "<body>\n",
              "    <div>\n",
              "            <script src=\"https://cdnjs.cloudflare.com/ajax/libs/mathjax/2.7.5/MathJax.js?config=TeX-AMS-MML_SVG\"></script><script type=\"text/javascript\">if (window.MathJax) {MathJax.Hub.Config({SVG: {font: \"STIX-Web\"}});}</script>\n",
              "                <script type=\"text/javascript\">window.PlotlyConfig = {MathJaxConfig: 'local'};</script>\n",
              "        <script src=\"https://cdn.plot.ly/plotly-latest.min.js\"></script>    \n",
              "            <div id=\"c07a22eb-252a-436e-a936-4725c40d86ba\" class=\"plotly-graph-div\" style=\"height:525px; width:100%;\"></div>\n",
              "            <script type=\"text/javascript\">\n",
              "                \n",
              "                    window.PLOTLYENV=window.PLOTLYENV || {};\n",
              "                    \n",
              "                if (document.getElementById(\"c07a22eb-252a-436e-a936-4725c40d86ba\")) {\n",
              "                    Plotly.newPlot(\n",
              "                        'c07a22eb-252a-436e-a936-4725c40d86ba',\n",
              "                        [{\"mode\": \"markers\", \"type\": \"scatter\", \"x\": [0.0328, 0.0148, 0.0228, 0.0136, 0.0382, 0.0186, 0.0251, 0.0244, 0.0181, 0.015, 0.0301, 0.0311, 0.0085, 0.0204, 0.0273, 0.0289, 0.0336, 0.0169, 0.0228, 0.0218, 0.0131, 0.041, 0.0095, 0.0106, 0.0279, 0.0344, 0.0314, 0.0183, 0.0131, 0.0327, 0.0135, 0.0408, 0.017, 0.0151, 0.0111, 0.0229, 0.0186, 0.0197, 0.0219, 0.0228, 0.0121, 0.02, 0.0599, 0.0131, 0.0161, 0.0125, 0.0273, 0.0358, 0.0341, 0.0274, 0.0432, 0.0188, 0.0109, 0.0219, 0.0147, 0.0205, 0.0234, 0.0194, 0.0561, 0.0177, 0.0244, 0.0444, 0.0626, 0.0186, 0.0378, 0.054, 0.0347, 0.0252, 0.0189, 0.0298, 0.0212, 0.0339, 0.0132, 0.0094, 0.0209, 0.0444, 0.0255, 0.0153, 0.0223, 0.0218, 0.0293, 0.0234, 0.0147, 0.0296, 0.0125, 0.026, 0.023, 0.049, 0.0351, 0.036, 0.0239, 0.0204, 0.0127, 0.0272, 0.0152, 0.0172, 0.0207, 0.1596, 0.0143, 0.0469, 0.0248, 0.0359, 0.0306, 0.0234, 0.0306, 0.0149, 0.0247, 0.0141, 0.0259, 0.0929, 0.0162, 0.0461, 0.0414, 0.0327, 0.0146, 0.0232, 0.0144, 0.0263, 0.029, 0.0199, 0.0221, 0.0274, 0.029, 0.0113, 0.0074, 0.0339, 0.047, 0.0323, 0.031, 0.012, 0.0247, 0.0201, 0.0078, 0.0155, 0.0254, 0.016, 0.0313, 0.033, 0.0238, 0.018, 0.0195, 0.0376, 0.0247, 0.0218, 0.0275, 0.0182, 0.0139, 0.0259, 0.009, 0.0162, 0.0719, 0.0222, 0.0204, 0.0162, 0.0158, 0.0351, 0.0315, 0.0628, 0.0168, 0.0111, 0.0252, 0.0275, 0.0227, 0.0331, 0.0331, 0.0114, 0.0648, 0.023, 0.0103, 0.0208, 0.0117, 0.0178, 0.0256, 0.0245, 0.0197, 0.0131, 0.0092, 0.0342, 0.0215, 0.0454, 0.0259, 0.0218, 0.0292, 0.0223, 0.0693, 0.0168, 0.0259, 0.0337, 0.011, 0.0199, 0.0276, 0.0179, 0.0192, 0.022, 0.0236, 0.0257, 0.0126, 0.0037, 0.0296, 0.0199, 0.0188, 0.02, 0.0281, 0.0215, 0.0193, 0.0275, 0.0276, 0.0144, 0.0338, 0.0369, 0.0174, 0.0173, 0.0146, 0.0216, 0.0292, 0.0154, 0.016, 0.0223, 0.0327, 0.0256, 0.039, 0.0139, 0.0075, 0.0113, 0.027, 0.0391, 0.0135, 0.0231, 0.0357, 0.0299, 0.0355, 0.0216, 0.0308, 0.0526, 0.0369, 0.0214, 0.0333, 0.0209, 0.0333, 0.0141, 0.0193, 0.0184, 0.0126, 0.0242, 0.0315, 0.0439, 0.0287, 0.0343, 0.0194, 0.021, 0.0246, 0.0112, 0.015, 0.0271, 0.0111, 0.0275, 0.0234, 0.0131, 0.0318, 0.0262, 0.0483, 0.0192, 0.0209, 0.0327, 0.0266, 0.0357, 0.0227, 0.0105, 0.02, 0.242, 0.0198, 0.0282, 0.0362, 0.0175, 0.0471, 0.0166, 0.005, 0.025, 0.0108, 0.0219, 0.0121, 0.0229, 0.018, 0.0247, 0.0341, 0.0197, 0.0258, 0.0292, 0.0148, 0.0287, 0.0287, 0.0121, 0.0046, 0.0222, 0.023, 0.0303, 0.0207, 0.029, 0.0277, 0.0266, 0.0325, 0.0456, 0.0159, 0.0203, 0.0163, 0.0067, 0.0193, 0.0213, 0.0349, 0.0365, 0.0233, 0.0127, 0.0255, 0.031, 0.0149, 0.0309, 0.0295, 0.0223, 0.0169, 0.0388, 0.0194, 0.0283, 0.0237, 0.0331, 0.0262, 0.0291, 0.015, 0.0302, 0.0277, 0.0231, 0.0355, 0.0112, 0.0134, 0.0238, 0.009, 0.0211, 0.0347, 0.0541, 0.0256, 0.0132, 0.0318, 0.0379, 0.0262, 0.0226, 0.0058, 0.023, 0.0201, 0.0194, 0.0227, 0.0105, 0.0275, 0.0228, 0.0435, 0.0455, 0.0219, 0.0722, 0.0405, 0.0211, 0.0283, 0.0226, 0.028, 0.0167, 0.0425, 0.0135, 0.0364, 0.0238, 0.0617, 0.0199, 0.0113, 0.0271, 0.0279, 0.0388, 0.0296, 0.0423, 0.0165, 0.0225, 0.0384, 0.0355, 0.0268, 0.0474, 0.0086, 0.0185, 0.0565, 0.0091, 0.0255, 0.0128, 0.0323, 0.0525, 0.0057, 0.0229, 0.0133, 0.0201, 0.0304, 0.011, 0.0129, 0.0319, 0.0458, 0.0272, 0.0057, 0.0134, 0.0406, 0.0267, 0.0239, 0.0121, 0.0396, 0.0288, 0.0244, 0.0223, 0.0549, 0.0278, 0.0203, 0.0651, 0.0161, 0.0207, 0.0194, 0.0251, 0.0196, 0.0329, 0.023, 0.0621, 0.0274, 0.0401, 0.077, 0.0056, 0.0757, 0.0193, 0.012, 0.0407, 0.018, 0.0169, 0.0273, 0.0108, 0.0207, 0.0285, 0.075, 0.0138, 0.0783, 0.0197, 0.0153, 0.023, 0.0324, 0.0153, 0.0406, 0.0376, 0.0305, 0.0325, 0.015, 0.0099, 0.0345, 0.0316, 0.0262, 0.0315, 0.0186, 0.0095, 0.0458, 0.0277, 0.029, 0.0152, 0.0294, 0.0168, 0.0178, 0.0144, 0.0198, 0.0208, 0.042, 0.0482, 0.0157, 0.0094, 0.0501, 0.0394, 0.0375, 0.0199, 0.0264, 0.0253, 0.0254, 0.0318, 0.038, 0.0299, 0.0324, 0.0244, 0.0298, 0.0841, 0.0131, 0.0275, 0.0218, 0.0102, 0.0216, 0.013, 0.0163, 0.0277, 0.0308, 0.0209, 0.0265, 0.0206, 0.0078, 0.0122, 0.0276, 0.0417, 0.012, 0.0164, 0.0108, 0.043, 0.0103, 0.0454, 0.0248, 0.0155, 0.024, 0.0162, 0.0299, 0.0348, 0.0116, 0.0217, 0.0202, 0.0181, 0.0137, 0.0189, 0.0395, 0.0238, 0.0311, 0.0308, 0.0316, 0.0246, 0.0308, 0.0325, 0.0493, 0.0125, 0.0132, 0.0253, 0.0232, 0.0214, 0.0479, 0.0139, 0.0223, 0.034, 0.0344, 0.0291, 0.024, 0.0114, 0.0165, 0.0328, 0.0829, 0.0107, 0.0224, 0.0603, 0.0166, 0.0175, 0.0217, 0.0154, 0.022, 0.0258, 0.0209, 0.0186, 0.0107, 0.0223, 0.0132, 0.0267, 0.0298, 0.013, 0.0124, 0.0412, 0.0348, 0.0218, 0.0152, 0.0283, 0.0255, 0.0127, 0.0185, 0.0478, 0.0246, 0.0362, 0.0179, 0.0244, 0.0178, 0.0232, 0.0201, 0.0142, 0.0395, 0.0186, 0.024, 0.0231, 0.0293, 0.01, 0.0137, 0.0161, 0.0133, 0.0219, 0.0131, 0.0251, 0.0131, 0.0345, 0.0367, 0.0251, 0.0164, 0.0203, 0.0131, 0.0193, 0.0393, 0.0362, 0.0192, 0.0307, 0.0253, 0.0256, 0.0198, 0.0509, 0.0134, 0.0191, 0.0247, 0.0112, 0.0485, 0.0364, 0.0135, 0.0393, 0.0199, 0.0247, 0.0262, 0.0282, 0.0271, 0.0301, 0.0106, 0.0292, 0.0392, 0.0261, 0.0143, 0.0191, 0.0278, 0.0161, 0.0212, 0.0205, 0.0323, 0.0158, 0.0249, 0.0159, 0.0155, 0.0264, 0.0163, 0.0212, 0.0209, 0.0207, 0.0164, 0.0166, 0.0159, 0.0189, 0.0362, 0.025, 0.032, 0.0355, 0.0597, 0.0356, 0.0288, 0.047, 0.0171, 0.0157, 0.025, 0.029, 0.0296, 0.0476, 0.021, 0.0247, 0.0175, 0.0238, 0.0299, 0.0291, 0.0672, 0.0167, 0.0201, 0.0233, 0.0245, 0.0171, 0.017, 0.0106, 0.0219, 0.025, 0.0189, 0.0217, 0.0215, 0.014, 0.0128, 0.0118, 0.0192, 0.0221, 0.0293, 0.0248, 0.0243, 0.0192, 0.0375, 0.0336, 0.0138, 0.0247, 0.0198, 0.0105, 0.0216, 0.0516, 0.0311, 0.0302, 0.0297, 0.0359, 0.0129, 0.0406, 0.0184, 0.008, 0.0248, 0.0248, 0.0383, 0.0218, 0.0205, 0.0062, 0.0182, 0.0283, 0.0175, 0.0137], \"y\": [0.02918959411861389, 0.01848019856874686, 0.02767708776241736, 0.028951937541187578, 0.03586690360058653, 0.025887244867262037, 0.03412835370083024, 0.021769239444106147, 0.02263210685494789, 0.02492841611418129, 0.028161275282341837, 0.03182937072031092, 0.020132958321824383, 0.029773836432025046, 0.017994328886767053, 0.031288705267133114, 0.026322972200061717, 0.028117644185534255, 0.0214869368767953, 0.02205549255810875, 0.02399378836521587, 0.034063600114796214, 0.027888611492675554, 0.01185143489018902, 0.03211483354515521, 0.03131551721912876, 0.024391968668425933, 0.031245802651793518, 0.013267473915946522, 0.03577967732541161, 0.01957105828821066, 0.02442288888099926, 0.02714962703175603, 0.028513483341302676, 0.03001128119158697, 0.02510317340511873, 0.019698222746573138, 0.024905519889160396, 0.014736867227795894, 0.03620681055033071, 0.02776505008091294, 0.018281260508352624, 0.036677567198072976, 0.02551487818862851, 0.025529860890454767, 0.03572172375169362, 0.02860325098911725, 0.027810235257450754, 0.04011008823893248, 0.023995966898140573, 0.02610846182303269, 0.02882547872435313, 0.016841271052680094, 0.016522559391347932, 0.020406111707380437, 0.022149634336107716, 0.02261176073517647, 0.02822124039740743, 0.030719853728099537, 0.030305125979107436, 0.02732632940303951, 0.02719327622166837, 0.024640596983619048, 0.02190647458245943, 0.03440425291196732, 0.02773099122735889, 0.028150296069510295, 0.018309882469368884, 0.023554069571446345, 0.030927021422711216, 0.024490857336774842, 0.0215060969791307, 0.03458300489643924, 0.0317305558960984, 0.027703877890218824, 0.024618120390853957, 0.018601876059414227, 0.02219533084664117, 0.021405165730772387, 0.02722515164022243, 0.020146948931301065, 0.022416944404919543, 0.026435846554899448, 0.030110782630313047, 0.026475855163823354, 0.03626678308794789, 0.021953961881773516, 0.037469111358016755, 0.024137377759059348, 0.031306122941824506, 0.025258015267496284, 0.02204269992561236, 0.01651873974058237, 0.023307744753811338, 0.02075440095200798, 0.029394480552396206, 0.027342479917681198, 0.036380785693490555, 0.01859642966793948, 0.032520873414478554, 0.03168523470542489, 0.03220875221270207, 0.031771337937322675, 0.020012014690663247, 0.021700601740787077, 0.02864976217397444, 0.022128035983488104, 0.02103236665217593, 0.02824227460343189, 0.03591047700006461, 0.016236345682573747, 0.03898776121419348, 0.03367158255589013, 0.027184221515860477, 0.028341901734491602, 0.029191573402243858, 0.018589964975870607, 0.024996426514328925, 0.030901057753715877, 0.022837471318313485, 0.019985406193364696, 0.029197329115401655, 0.017498637904337144, 0.01689294140772183, 0.021328762392194042, 0.026667059815854544, 0.03149874726041442, 0.03418263872315795, 0.019574571855062034, 0.027071392315052668, 0.02642635233502921, 0.023508293963406746, 0.019932013039213416, 0.02944424562667508, 0.03551990127457981, 0.03556060189436304, 0.026395681002198225, 0.02417993460067151, 0.019819016059259294, 0.02623905177034634, 0.03215733281089897, 0.017624821643772, 0.02444804554796836, 0.018716449232913983, 0.026139658110048553, 0.03308714721599174, 0.021916010779663517, 0.01694738942660609, 0.029643002929815015, 0.028580635952495756, 0.03327458893619767, 0.032239315519960135, 0.02472690756968788, 0.018756045327543817, 0.02682602913499257, 0.029194222551688135, 0.021506295651462254, 0.019214774919975017, 0.02830963938244075, 0.018793136905295417, 0.03410284385364072, 0.02801133751899141, 0.029155043300142607, 0.028840569596573877, 0.03195380285407662, 0.03190751659788046, 0.023249517341454987, 0.029312351452869187, 0.028490272169789877, 0.02956420626533423, 0.023860767599191885, 0.028720766122772395, 0.030170475910366798, 0.03292879067382604, 0.018224211436421757, 0.026192793839941376, 0.015012589393305228, 0.028985893286680362, 0.027641338331741868, 0.03258520086757034, 0.027278082858090143, 0.025230389954957452, 0.03259262728835799, 0.02979483954035498, 0.02945003528922214, 0.028441405663371534, 0.01856707422639268, 0.027334321767015137, 0.027172385497486594, 0.027679271796810054, 0.03655639662086714, 0.02009647951437469, 0.022752733557027626, 0.02400583387743992, 0.03579433337074159, 0.026194045459046595, 0.027944293363351313, 0.02075710949876263, 0.02412688318440785, 0.02508948056132748, 0.027306411664169354, 0.026434955509463072, 0.023059283248644723, 0.030145861951649776, 0.02073552079940431, 0.018554264769355566, 0.016108167022702922, 0.03271318978977032, 0.021782751364763993, 0.029350585728473315, 0.025237882900071482, 0.02304813720947232, 0.025499592916553487, 0.025001151947023056, 0.025540692848251466, 0.020928132508080417, 0.025234239217981656, 0.028946410347443736, 0.02831505883763541, 0.017703574756611426, 0.024529639555877537, 0.022367270292138846, 0.026219416493129952, 0.02092039935804959, 0.02320374155277372, 0.027700193871335096, 0.021738605381877444, 0.023549344894838, 0.03204747335429734, 0.02918319170119635, 0.02453448019394631, 0.023585446346528677, 0.02809041868236902, 0.037231266160718736, 0.025565780062148782, 0.02328565758576991, 0.0319432825973711, 0.031102471565886365, 0.026099753415028275, 0.029953631694509424, 0.02464535606084691, 0.013883078503141945, 0.025698637084046076, 0.027461412075228873, 0.023873175167339482, 0.03498393489026344, 0.03187733983114623, 0.03557057166158131, 0.02687096054117258, 0.025357803578486608, 0.028330536475084822, 0.0335712979117742, 0.03107134997528289, 0.0376766722685209, 0.030228788452239155, 0.026806310006738422, 0.02534756036574375, 0.03554409655225865, 0.029302916686274223, 0.021665056682355563, 0.02775539756471383, 0.02806136634273287, 0.02464946617400152, 0.03904119159500818, 0.027501317576936603, 0.03308710370012756, 0.01660717248473146, 0.025501901845236905, 0.02544773829383085, 0.03679274249685242, 0.02959629851584673, 0.032659195795956, 0.028933622916675002, 0.01970306156215622, 0.03087200776135144, 0.019579532722026123, 0.019748458383148593, 0.036220046605049884, 0.02462637356524946, 0.02362725375260197, 0.026340214411071337, 0.026917166522802353, 0.023931849800801385, 0.02798703990520133, 0.028806493171144584, 0.028484884184391185, 0.031377647568677114, 0.032020314091276474, 0.020219970695129992, 0.02717413067711833, 0.02165924841917103, 0.021994728477847766, 0.031069905332092147, 0.024517199939284202, 0.024256375642531337, 0.02909207771155958, 0.027191052614881882, 0.031062814713948766, 0.021729774468509804, 0.030478112344680106, 0.021831391726909906, 0.020004541654350783, 0.02488222582914184, 0.025550735500332853, 0.02199580076851824, 0.03335006568306044, 0.02831317173612144, 0.022362027335674245, 0.03290259424638266, 0.03218124095608308, 0.027113162897608525, 0.0219515300335836, 0.02882548293807662, 0.023223802306255457, 0.021464887194715034, 0.026290509665224584, 0.03241416266465618, 0.021206143181809477, 0.03100463800478334, 0.02127400214789254, 0.025519274005200883, 0.029940248777558395, 0.026506000373794077, 0.022308365167157482, 0.02404122709344236, 0.02499290842777875, 0.030311598983314255, 0.028398483065479443, 0.03293363610107684, 0.02673462071025264, 0.0332062884658469, 0.01129281692663759, 0.019964087889842587, 0.018137900222362217, 0.025859895747948374, 0.032271899333093115, 0.03189993271293623, 0.03143370721392949, 0.026486914073957396, 0.01668859716362267, 0.0338170698340554, 0.02348024969804298, 0.03262973056904523, 0.026908701178763043, 0.021178021334044728, 0.02055628952324458, 0.032902085162614975, 0.028959038628165137, 0.03597157630793128, 0.023817355849777604, 0.02826259552017378, 0.02453298787325089, 0.018139653098039804, 0.02705498134134989, 0.02350855102049101, 0.026653792798506964, 0.032509333624127446, 0.029375153692945064, 0.030430983112112286, 0.031550768206823246, 0.031723916113169194, 0.027853865412224416, 0.03372798980790254, 0.02938545253152501, 0.026439496838663794, 0.028281932473183502, 0.02199582265821599, 0.031311286287091844, 0.03462615543950985, 0.03676908563016994, 0.02529988525957938, 0.02480316045496924, 0.028837128188444635, 0.02998539981585035, 0.026250299069232836, 0.029426120304179612, 0.029016316667443403, 0.024473855206386154, 0.024566203480266488, 0.030656696468081706, 0.026494676894535798, 0.024416255918358287, 0.020074611183876018, 0.024153110496969006, 0.02789168461956358, 0.023415766936261434, 0.03056424248902052, 0.03155600339219787, 0.018540194040263122, 0.022454833863414122, 0.02492284926482253, 0.02724663968646427, 0.03040122964334239, 0.017586666747791878, 0.03866589383000402, 0.022533160805031646, 0.030639938427640925, 0.030409248508916388, 0.019905596381075523, 0.017118479272639202, 0.027008358609590354, 0.022696261275844867, 0.020236419894468526, 0.013924949784969234, 0.028615555346868115, 0.024657399845749783, 0.03382943390149951, 0.032286757587372844, 0.03692629302327559, 0.03372095822786533, 0.028018152684079506, 0.030880881339518412, 0.017450797233146915, 0.021499266747264722, 0.03146483466909826, 0.0359183285836526, 0.023562409000573416, 0.032155396489835675, 0.023852187621428707, 0.032854402894053905, 0.020703312761900555, 0.03376008932465301, 0.037951930485366464, 0.031111815588204528, 0.03631908777648388, 0.025253398222496636, 0.026706256270857053, 0.027455903520837186, 0.03141180084669567, 0.02568326695074994, 0.020275274791205028, 0.024084741825853382, 0.03267037152210455, 0.031589223884131955, 0.03235336513556343, 0.02325313840166604, 0.036572939356653456, 0.031588438470544114, 0.026540748419419995, 0.030486685555034185, 0.03633756700021181, 0.026178022709159834, 0.023391119668660216, 0.025493084646511545, 0.029196789342838068, 0.035805976129880936, 0.020982589710455385, 0.02688040788394774, 0.02963880111906233, 0.03355723791797066, 0.0289528945529462, 0.029628593993524778, 0.021629017683354502, 0.006371721846188859, 0.037982486188451625, 0.03276939625189684, 0.029454369584132056, 0.020275028472285118, 0.024727074162925026, 0.023460081314700707, 0.021586617198611806, 0.023381183190302357, 0.02924744634543936, 0.03328473155185312, 0.034219559432907526, 0.028923937194289324, 0.02698762840507623, 0.015155587294736247, 0.032772917638425145, 0.03247480959503889, 0.029457469450868936, 0.021727250604049418, 0.034390537442320915, 0.029669416474001342, 0.026627205745839364, 0.024902917221149568, 0.03627885455733573, 0.026344436241901196, 0.03098089478109731, 0.022324019732173364, 0.02037822794627903, 0.03578570471706415, 0.027587997513800092, 0.02619849405021214, 0.021868267337956167, 0.01811748625074648, 0.03412778066243201, 0.026233235396786007, 0.022109839133625263, 0.020836545979064036, 0.021659570984692244, 0.029110492237805846, 0.026843659936630997, 0.025186136884042552, 0.019470565067247383, 0.015478125538349569, 0.029164692989078485, 0.02650760664117381, 0.020673119471865748, 0.026673590271770405, 0.02146704640926158, 0.028536059859316655, 0.026843199403665082, 0.0367923965084985, 0.030096011888470955, 0.02844554356594645, 0.02474796725776709, 0.027805950035108887, 0.02230678131431775, 0.03110103190701294, 0.023764864166321148, 0.02871419511145657, 0.02478653080801713, 0.022570492279474972, 0.02897781094497153, 0.031157403886698853, 0.022527354034854785, 0.022781222679266043, 0.03600867986451194, 0.02317521801736096, 0.026598067163423497, 0.027709310873236904, 0.030529238464539723, 0.03306915209694525, 0.03459999360546939, 0.027166883025319246, 0.01986116593389864, 0.028796853230912828, 0.024609221644608114, 0.019524330063515415, 0.0327281075530685, 0.02589923276383942, 0.023238658505075838, 0.03452790120556794, 0.021270791017216552, 0.029091131746162048, 0.033995317926735824, 0.02278467735899213, 0.0261218413122265, 0.015463802778737573, 0.025601854009365686, 0.02074203187202381, 0.02666134821008186, 0.021077927065652848, 0.027348552415450585, 0.02929226520330692, 0.028788437426792577, 0.033378416395827726, 0.027277815976524174, 0.03236980810899138, 0.02899273119140473, 0.029738282368389317, 0.03166885109104945, 0.034721415774411665, 0.015190260168725121, 0.033313080078795174, 0.02598539585317133, 0.027925184748772074, 0.02670838783665494, 0.025116489926437155, 0.021851137541984027, 0.03193788416878176, 0.023505843219065164, 0.028728949692452016, 0.016987121259074353, 0.026193647104541293, 0.025725721230549177, 0.025550417168848285, 0.026026157257146538, 0.030901483845047383, 0.034357414962328234, 0.03059508882230273, 0.02575843273505187, 0.027313148697189926, 0.03061481866774468, 0.03255787482564106, 0.033964870471518555, 0.023796662022507454, 0.02696666912341544, 0.032261250627837884, 0.0315884498369047, 0.033293650112851875, 0.02409703282091568, 0.02606384577861298, 0.022651505606270075, 0.030712952738501078, 0.025099666542492887, 0.021964839150013425, 0.014133195784483799, 0.021246249624860263, 0.023376457321723377, 0.027670485018674057, 0.017066363018456897, 0.029814900536502303, 0.022218276135099715, 0.03106403231526767, 0.02338397753051962, 0.03739774304134891, 0.022683145516653982, 0.03313392321735888, 0.022427348595049735, 0.02225458855816798, 0.023926777504139726, 0.025565200981253835, 0.02611231608290027, 0.026057349856678402, 0.02465422301635686, 0.023042803433864303, 0.032027859268401696, 0.03154138882459356, 0.026540614113876544, 0.030919421099438096, 0.029631349273438173, 0.03149052492487813, 0.034992452086748685, 0.026917861644366995, 0.03151967800638582, 0.019014694386014254, 0.02080984756519967, 0.03081860382115185, 0.020856163550733255, 0.01949957956593431, 0.028075659524564478, 0.028943130066739466, 0.029434089599499027, 0.03181563314706944, 0.03749230732862846, 0.023722722087973838, 0.0307689229304075, 0.023664074541215673, 0.023213775045742437, 0.01792013193669953, 0.02431596967707042, 0.029771778316863284, 0.018601451111606576, 0.025124687148147258, 0.02355820271550649, 0.02966624550269109, 0.02328617720087145, 0.025846608988544805, 0.027361816458556266, 0.02593290608306992, 0.025333382899329165, 0.027628139194053512, 0.023039045368230177, 0.021957429226348527, 0.031143613376806722, 0.02924269606608726, 0.022695116442519522, 0.025575551310602254, 0.027276599467708076, 0.02286763784614589, 0.02683389585964541, 0.020975162117185697, 0.03382162116033202, 0.031558030726341446, 0.02713501756589742, 0.020608244841683478, 0.026218670362847384, 0.02595567507205713, 0.02779140587079453, 0.012801447920299018, 0.03717916535774875, 0.021059447696183432, 0.027898879949553205, 0.033000135066504496, 0.02231984741616255, 0.01761165429381903, 0.026524885032853017, 0.02552328164751994, 0.02560085984471469, 0.01436230362085602, 0.030085587909518312, 0.020804254055024285, 0.03650113133037738, 0.017122106165304636, 0.02000064992966564, 0.02951901303433667, 0.027943490366978758, 0.023028628941725214, 0.031862905496103044, 0.027865897325541504, 0.03139252392675547, 0.02616847807865551, 0.021405711927462916, 0.030550498089040482, 0.026469394253612416, 0.018285945860048614, 0.025978949454076968, 0.030336025013146146, 0.030140529879240027, 0.03273787806225878, 0.02439909857396976, 0.021228913536747905, 0.01561519478224125, 0.03308519906089191, 0.015468442447461109, 0.03336011370945892, 0.026333360788059874, 0.026973975063077627, 0.0281747067744779, 0.021187316139385143, 0.020253509552048018, 0.025456942000551985, 0.019386947643864373, 0.03303644044294656, 0.032830959450303315, 0.020375602720965443, 0.03440407738518019, 0.022350063462656573]}],\n",
              "                        {\"template\": {\"data\": {\"bar\": [{\"error_x\": {\"color\": \"#2a3f5f\"}, \"error_y\": {\"color\": \"#2a3f5f\"}, \"marker\": {\"line\": {\"color\": \"#E5ECF6\", \"width\": 0.5}}, \"type\": \"bar\"}], \"barpolar\": [{\"marker\": {\"line\": {\"color\": \"#E5ECF6\", \"width\": 0.5}}, \"type\": \"barpolar\"}], \"carpet\": [{\"aaxis\": {\"endlinecolor\": \"#2a3f5f\", \"gridcolor\": \"white\", \"linecolor\": \"white\", \"minorgridcolor\": \"white\", \"startlinecolor\": \"#2a3f5f\"}, \"baxis\": {\"endlinecolor\": \"#2a3f5f\", \"gridcolor\": \"white\", \"linecolor\": \"white\", \"minorgridcolor\": \"white\", \"startlinecolor\": \"#2a3f5f\"}, \"type\": \"carpet\"}], \"choropleth\": [{\"colorbar\": {\"outlinewidth\": 0, \"ticks\": \"\"}, \"type\": \"choropleth\"}], \"contour\": [{\"colorbar\": {\"outlinewidth\": 0, \"ticks\": \"\"}, \"colorscale\": [[0.0, \"#0d0887\"], [0.1111111111111111, \"#46039f\"], [0.2222222222222222, \"#7201a8\"], [0.3333333333333333, \"#9c179e\"], [0.4444444444444444, \"#bd3786\"], [0.5555555555555556, \"#d8576b\"], [0.6666666666666666, \"#ed7953\"], [0.7777777777777778, \"#fb9f3a\"], [0.8888888888888888, \"#fdca26\"], [1.0, \"#f0f921\"]], \"type\": \"contour\"}], \"contourcarpet\": [{\"colorbar\": {\"outlinewidth\": 0, \"ticks\": \"\"}, \"type\": \"contourcarpet\"}], \"heatmap\": [{\"colorbar\": {\"outlinewidth\": 0, \"ticks\": \"\"}, \"colorscale\": [[0.0, \"#0d0887\"], [0.1111111111111111, \"#46039f\"], [0.2222222222222222, \"#7201a8\"], [0.3333333333333333, \"#9c179e\"], [0.4444444444444444, \"#bd3786\"], [0.5555555555555556, \"#d8576b\"], [0.6666666666666666, \"#ed7953\"], [0.7777777777777778, \"#fb9f3a\"], [0.8888888888888888, \"#fdca26\"], [1.0, \"#f0f921\"]], \"type\": \"heatmap\"}], \"heatmapgl\": [{\"colorbar\": {\"outlinewidth\": 0, \"ticks\": \"\"}, \"colorscale\": [[0.0, \"#0d0887\"], [0.1111111111111111, \"#46039f\"], [0.2222222222222222, \"#7201a8\"], [0.3333333333333333, \"#9c179e\"], [0.4444444444444444, \"#bd3786\"], [0.5555555555555556, \"#d8576b\"], [0.6666666666666666, \"#ed7953\"], [0.7777777777777778, \"#fb9f3a\"], [0.8888888888888888, \"#fdca26\"], [1.0, \"#f0f921\"]], \"type\": \"heatmapgl\"}], \"histogram\": [{\"marker\": {\"colorbar\": {\"outlinewidth\": 0, \"ticks\": \"\"}}, \"type\": \"histogram\"}], \"histogram2d\": [{\"colorbar\": {\"outlinewidth\": 0, \"ticks\": \"\"}, \"colorscale\": [[0.0, \"#0d0887\"], [0.1111111111111111, \"#46039f\"], [0.2222222222222222, \"#7201a8\"], [0.3333333333333333, \"#9c179e\"], [0.4444444444444444, \"#bd3786\"], [0.5555555555555556, \"#d8576b\"], [0.6666666666666666, \"#ed7953\"], [0.7777777777777778, \"#fb9f3a\"], [0.8888888888888888, \"#fdca26\"], [1.0, \"#f0f921\"]], \"type\": \"histogram2d\"}], \"histogram2dcontour\": [{\"colorbar\": {\"outlinewidth\": 0, \"ticks\": \"\"}, \"colorscale\": [[0.0, \"#0d0887\"], [0.1111111111111111, \"#46039f\"], [0.2222222222222222, \"#7201a8\"], [0.3333333333333333, \"#9c179e\"], [0.4444444444444444, \"#bd3786\"], [0.5555555555555556, \"#d8576b\"], [0.6666666666666666, \"#ed7953\"], [0.7777777777777778, \"#fb9f3a\"], [0.8888888888888888, \"#fdca26\"], [1.0, \"#f0f921\"]], \"type\": \"histogram2dcontour\"}], \"mesh3d\": [{\"colorbar\": {\"outlinewidth\": 0, \"ticks\": \"\"}, \"type\": \"mesh3d\"}], \"parcoords\": [{\"line\": {\"colorbar\": {\"outlinewidth\": 0, \"ticks\": \"\"}}, \"type\": \"parcoords\"}], \"pie\": [{\"automargin\": true, \"type\": \"pie\"}], \"scatter\": [{\"marker\": {\"colorbar\": {\"outlinewidth\": 0, \"ticks\": \"\"}}, \"type\": \"scatter\"}], \"scatter3d\": [{\"line\": {\"colorbar\": {\"outlinewidth\": 0, \"ticks\": \"\"}}, \"marker\": {\"colorbar\": {\"outlinewidth\": 0, \"ticks\": \"\"}}, \"type\": \"scatter3d\"}], \"scattercarpet\": [{\"marker\": {\"colorbar\": {\"outlinewidth\": 0, \"ticks\": \"\"}}, \"type\": \"scattercarpet\"}], \"scattergeo\": [{\"marker\": {\"colorbar\": {\"outlinewidth\": 0, \"ticks\": \"\"}}, \"type\": \"scattergeo\"}], \"scattergl\": [{\"marker\": {\"colorbar\": {\"outlinewidth\": 0, \"ticks\": \"\"}}, \"type\": \"scattergl\"}], \"scattermapbox\": [{\"marker\": {\"colorbar\": {\"outlinewidth\": 0, \"ticks\": \"\"}}, \"type\": \"scattermapbox\"}], \"scatterpolar\": [{\"marker\": {\"colorbar\": {\"outlinewidth\": 0, \"ticks\": \"\"}}, \"type\": \"scatterpolar\"}], \"scatterpolargl\": [{\"marker\": {\"colorbar\": {\"outlinewidth\": 0, \"ticks\": \"\"}}, \"type\": \"scatterpolargl\"}], \"scatterternary\": [{\"marker\": {\"colorbar\": {\"outlinewidth\": 0, \"ticks\": \"\"}}, \"type\": \"scatterternary\"}], \"surface\": [{\"colorbar\": {\"outlinewidth\": 0, \"ticks\": \"\"}, \"colorscale\": [[0.0, \"#0d0887\"], [0.1111111111111111, \"#46039f\"], [0.2222222222222222, \"#7201a8\"], [0.3333333333333333, \"#9c179e\"], [0.4444444444444444, \"#bd3786\"], [0.5555555555555556, \"#d8576b\"], [0.6666666666666666, \"#ed7953\"], [0.7777777777777778, \"#fb9f3a\"], [0.8888888888888888, \"#fdca26\"], [1.0, \"#f0f921\"]], \"type\": \"surface\"}], \"table\": [{\"cells\": {\"fill\": {\"color\": \"#EBF0F8\"}, \"line\": {\"color\": \"white\"}}, \"header\": {\"fill\": {\"color\": \"#C8D4E3\"}, \"line\": {\"color\": \"white\"}}, \"type\": \"table\"}]}, \"layout\": {\"annotationdefaults\": {\"arrowcolor\": \"#2a3f5f\", \"arrowhead\": 0, \"arrowwidth\": 1}, \"coloraxis\": {\"colorbar\": {\"outlinewidth\": 0, \"ticks\": \"\"}}, \"colorscale\": {\"diverging\": [[0, \"#8e0152\"], [0.1, \"#c51b7d\"], [0.2, \"#de77ae\"], [0.3, \"#f1b6da\"], [0.4, \"#fde0ef\"], [0.5, \"#f7f7f7\"], [0.6, \"#e6f5d0\"], [0.7, \"#b8e186\"], [0.8, \"#7fbc41\"], [0.9, \"#4d9221\"], [1, \"#276419\"]], \"sequential\": [[0.0, \"#0d0887\"], [0.1111111111111111, \"#46039f\"], [0.2222222222222222, \"#7201a8\"], [0.3333333333333333, \"#9c179e\"], [0.4444444444444444, \"#bd3786\"], [0.5555555555555556, \"#d8576b\"], [0.6666666666666666, \"#ed7953\"], [0.7777777777777778, \"#fb9f3a\"], [0.8888888888888888, \"#fdca26\"], [1.0, \"#f0f921\"]], \"sequentialminus\": [[0.0, \"#0d0887\"], [0.1111111111111111, \"#46039f\"], [0.2222222222222222, \"#7201a8\"], [0.3333333333333333, \"#9c179e\"], [0.4444444444444444, \"#bd3786\"], [0.5555555555555556, \"#d8576b\"], [0.6666666666666666, \"#ed7953\"], [0.7777777777777778, \"#fb9f3a\"], [0.8888888888888888, \"#fdca26\"], [1.0, \"#f0f921\"]]}, \"colorway\": [\"#636efa\", \"#EF553B\", \"#00cc96\", \"#ab63fa\", \"#FFA15A\", \"#19d3f3\", \"#FF6692\", \"#B6E880\", \"#FF97FF\", \"#FECB52\"], \"font\": {\"color\": \"#2a3f5f\"}, \"geo\": {\"bgcolor\": \"white\", \"lakecolor\": \"white\", \"landcolor\": \"#E5ECF6\", \"showlakes\": true, \"showland\": true, \"subunitcolor\": \"white\"}, \"hoverlabel\": {\"align\": \"left\"}, \"hovermode\": \"closest\", \"mapbox\": {\"style\": \"light\"}, \"paper_bgcolor\": \"white\", \"plot_bgcolor\": \"#E5ECF6\", \"polar\": {\"angularaxis\": {\"gridcolor\": \"white\", \"linecolor\": \"white\", \"ticks\": \"\"}, \"bgcolor\": \"#E5ECF6\", \"radialaxis\": {\"gridcolor\": \"white\", \"linecolor\": \"white\", \"ticks\": \"\"}}, \"scene\": {\"xaxis\": {\"backgroundcolor\": \"#E5ECF6\", \"gridcolor\": \"white\", \"gridwidth\": 2, \"linecolor\": \"white\", \"showbackground\": true, \"ticks\": \"\", \"zerolinecolor\": \"white\"}, \"yaxis\": {\"backgroundcolor\": \"#E5ECF6\", \"gridcolor\": \"white\", \"gridwidth\": 2, \"linecolor\": \"white\", \"showbackground\": true, \"ticks\": \"\", \"zerolinecolor\": \"white\"}, \"zaxis\": {\"backgroundcolor\": \"#E5ECF6\", \"gridcolor\": \"white\", \"gridwidth\": 2, \"linecolor\": \"white\", \"showbackground\": true, \"ticks\": \"\", \"zerolinecolor\": \"white\"}}, \"shapedefaults\": {\"line\": {\"color\": \"#2a3f5f\"}}, \"ternary\": {\"aaxis\": {\"gridcolor\": \"white\", \"linecolor\": \"white\", \"ticks\": \"\"}, \"baxis\": {\"gridcolor\": \"white\", \"linecolor\": \"white\", \"ticks\": \"\"}, \"bgcolor\": \"#E5ECF6\", \"caxis\": {\"gridcolor\": \"white\", \"linecolor\": \"white\", \"ticks\": \"\"}}, \"title\": {\"x\": 0.05}, \"xaxis\": {\"automargin\": true, \"gridcolor\": \"white\", \"linecolor\": \"white\", \"ticks\": \"\", \"title\": {\"standoff\": 15}, \"zerolinecolor\": \"white\", \"zerolinewidth\": 2}, \"yaxis\": {\"automargin\": true, \"gridcolor\": \"white\", \"linecolor\": \"white\", \"ticks\": \"\", \"title\": {\"standoff\": 15}, \"zerolinecolor\": \"white\", \"zerolinewidth\": 2}}}, \"title\": {\"text\": \"Valores reais e previstos de correla\\u00e7\\u00e3o negativa de mortalidade de COVID-19\"}},\n",
              "                        {\"responsive\": true}\n",
              "                    ).then(function(){\n",
              "                            \n",
              "var gd = document.getElementById('c07a22eb-252a-436e-a936-4725c40d86ba');\n",
              "var x = new MutationObserver(function (mutations, observer) {{\n",
              "        var display = window.getComputedStyle(gd).display;\n",
              "        if (!display || display === 'none') {{\n",
              "            console.log([gd, 'removed!']);\n",
              "            Plotly.purge(gd);\n",
              "            observer.disconnect();\n",
              "        }}\n",
              "}});\n",
              "\n",
              "// Listen for the removal of the full notebook cells\n",
              "var notebookContainer = gd.closest('#notebook-container');\n",
              "if (notebookContainer) {{\n",
              "    x.observe(notebookContainer, {childList: true});\n",
              "}}\n",
              "\n",
              "// Listen for the clearing of the current output cell\n",
              "var outputEl = gd.closest('.output');\n",
              "if (outputEl) {{\n",
              "    x.observe(outputEl, {childList: true});\n",
              "}}\n",
              "\n",
              "                        })\n",
              "                };\n",
              "                \n",
              "            </script>\n",
              "        </div>\n",
              "</body>\n",
              "</html>"
            ]
          },
          "metadata": {
            "tags": []
          }
        }
      ]
    },
    {
      "cell_type": "code",
      "metadata": {
        "id": "AdVn0qKkIvmE",
        "colab": {
          "base_uri": "https://localhost:8080/",
          "height": 401
        },
        "outputId": "562f3eac-6883-410e-8774-988315838f64"
      },
      "source": [
        "df_corr_negativa = pd.DataFrame ({'Real': ytest_corr_negativa, 'Previsto': ipred_corr_negativa}) \n",
        "sns.lmplot(x=\"Real\", y=\"Previsto\", data=df_corr_negativa)"
      ],
      "execution_count": 22,
      "outputs": [
        {
          "output_type": "execute_result",
          "data": {
            "text/plain": [
              "<seaborn.axisgrid.FacetGrid at 0x7f8ada572950>"
            ]
          },
          "metadata": {
            "tags": []
          },
          "execution_count": 22
        },
        {
          "output_type": "display_data",
          "data": {
            "image/png": "[encoded data removed]",
            "text/plain": [
              "<Figure size 360x360 with 1 Axes>"
            ]
          },
          "metadata": {
            "tags": [],
            "needs_background": "light"
          }
        }
      ]
    },
    {
      "cell_type": "code",
      "metadata": {
        "colab": {
          "base_uri": "https://localhost:8080/",
          "height": 414
        },
        "id": "0d5qMSpeBA5x",
        "outputId": "116e581e-97f9-4fe9-aadc-a6939effc35b"
      },
      "source": [
        "idhmcovid_cor_abs = idhmcovid.corr(method='spearman').abs()\n",
        "correlacao_abs = idhmcovid_cor_abs.loc['last_available_death_rate'].sort_values(ascending=False).to_frame().reset_index().rename(columns = {'index': 'indicador'})[1:101]\n",
        "correlacao_abs"
      ],
      "execution_count": 23,
      "outputs": [
        {
          "output_type": "execute_result",
          "data": {
            "text/html": [
              "<div>\n",
              "<style scoped>\n",
              "    .dataframe tbody tr th:only-of-type {\n",
              "        vertical-align: middle;\n",
              "    }\n",
              "\n",
              "    .dataframe tbody tr th {\n",
              "        vertical-align: top;\n",
              "    }\n",
              "\n",
              "    .dataframe thead th {\n",
              "        text-align: right;\n",
              "    }\n",
              "</style>\n",
              "<table border=\"1\" class=\"dataframe\">\n",
              "  <thead>\n",
              "    <tr style=\"text-align: right;\">\n",
              "      <th></th>\n",
              "      <th>indicador</th>\n",
              "      <th>last_available_death_rate</th>\n",
              "    </tr>\n",
              "  </thead>\n",
              "  <tbody>\n",
              "    <tr>\n",
              "      <th>1</th>\n",
              "      <td>HOMEM70A74</td>\n",
              "      <td>0.276295</td>\n",
              "    </tr>\n",
              "    <tr>\n",
              "      <th>2</th>\n",
              "      <td>HOMEM65A69</td>\n",
              "      <td>0.274757</td>\n",
              "    </tr>\n",
              "    <tr>\n",
              "      <th>3</th>\n",
              "      <td>HOMEM60A64</td>\n",
              "      <td>0.270877</td>\n",
              "    </tr>\n",
              "    <tr>\n",
              "      <th>4</th>\n",
              "      <td>T_ATIV1014</td>\n",
              "      <td>0.270599</td>\n",
              "    </tr>\n",
              "    <tr>\n",
              "      <th>5</th>\n",
              "      <td>HOMEM75A79</td>\n",
              "      <td>0.268582</td>\n",
              "    </tr>\n",
              "    <tr>\n",
              "      <th>...</th>\n",
              "      <td>...</td>\n",
              "      <td>...</td>\n",
              "    </tr>\n",
              "    <tr>\n",
              "      <th>96</th>\n",
              "      <td>T_FREQ15A17</td>\n",
              "      <td>0.152744</td>\n",
              "    </tr>\n",
              "    <tr>\n",
              "      <th>97</th>\n",
              "      <td>T_DES18M</td>\n",
              "      <td>0.151861</td>\n",
              "    </tr>\n",
              "    <tr>\n",
              "      <th>98</th>\n",
              "      <td>RMPOB</td>\n",
              "      <td>0.147391</td>\n",
              "    </tr>\n",
              "    <tr>\n",
              "      <th>99</th>\n",
              "      <td>IDHM_E</td>\n",
              "      <td>0.145912</td>\n",
              "    </tr>\n",
              "    <tr>\n",
              "      <th>100</th>\n",
              "      <td>T_FUNDIN18MINF</td>\n",
              "      <td>0.145453</td>\n",
              "    </tr>\n",
              "  </tbody>\n",
              "</table>\n",
              "<p>100 rows × 2 columns</p>\n",
              "</div>"
            ],
            "text/plain": [
              "          indicador  last_available_death_rate\n",
              "1        HOMEM70A74                   0.276295\n",
              "2        HOMEM65A69                   0.274757\n",
              "3        HOMEM60A64                   0.270877\n",
              "4        T_ATIV1014                   0.270599\n",
              "5        HOMEM75A79                   0.268582\n",
              "..              ...                        ...\n",
              "96      T_FREQ15A17                   0.152744\n",
              "97         T_DES18M                   0.151861\n",
              "98            RMPOB                   0.147391\n",
              "99           IDHM_E                   0.145912\n",
              "100  T_FUNDIN18MINF                   0.145453\n",
              "\n",
              "[100 rows x 2 columns]"
            ]
          },
          "metadata": {
            "tags": []
          },
          "execution_count": 23
        }
      ]
    },
    {
      "cell_type": "code",
      "metadata": {
        "id": "iBiyRP--F16e"
      },
      "source": [
        "idhmcovid_cor_abs_colin = idhmcovid_cor_abs[correlacao_abs['indicador']].unstack().sort_values(ascending=False).reset_index(name='correlation')\n",
        "idhmcovid_cor_abs_colin = idhmcovid_cor_abs_colin[idhmcovid_cor_abs_colin.correlation >= 0.8]\n",
        "idhmcovid_cor_abs_colin = pd.merge(idhmcovid_cor_abs_colin, correlacao_abs, left_on=\"level_0\", right_on=\"indicador\", how=\"right\").rename(columns = {'last_available_death_rate': 'cor_1'}).drop(columns='indicador')\n",
        "idhmcovid_cor_abs_colin = pd.merge(idhmcovid_cor_abs_colin, correlacao_abs, left_on=\"level_1\", right_on=\"indicador\", how=\"right\").rename(columns = {'last_available_death_rate': 'cor_2'}).drop(columns='indicador')\n",
        "idhmcovid_cor_abs_colin\n",
        "idhmcovid_cor_abs_colin = idhmcovid_cor_abs_colin[idhmcovid_cor_abs_colin.cor_1 > idhmcovid_cor_abs_colin.cor_2]\n",
        "idhmcovid_cor_abs_colin = idhmcovid_cor_abs_colin[idhmcovid_cor_abs_colin.level_0 != idhmcovid_cor_abs_colin.level_1]\n"
      ],
      "execution_count": 24,
      "outputs": []
    },
    {
      "cell_type": "code",
      "metadata": {
        "colab": {
          "base_uri": "https://localhost:8080/"
        },
        "id": "oMSSr6tmNQ03",
        "outputId": "315a4144-4e52-4d99-d030-38cb7150f47d"
      },
      "source": [
        "# Variáveis que podem sair da regressão por causa da multicolinearidade\n",
        "# Tem variáveis com forte correlação com elas e que possuem correlação mais forte com mortalidade\n",
        "import numpy as np\n",
        "idhmcovid_cor_abs_colin_cols = idhmcovid_cor_abs_colin.level_1.unique()\n",
        "idhmcovid_cor_abs_colin_cols = np.append(idhmcovid_cor_abs_colin_cols, 'T_SLUZ')\n",
        "idhmcovid_cor_abs_colin_cols"
      ],
      "execution_count": 25,
      "outputs": [
        {
          "output_type": "execute_result",
          "data": {
            "text/plain": [
              "array(['HOMEM65A69', 'HOMEM60A64', 'HOMEM75A79', 'MULH65A69',\n",
              "       'HOMEM55A59', 'MULH60A64', 'MULH55A59', 'MULH50A54', 'PESO65',\n",
              "       'pesourb', 'HOMEM50A54', 'MULH70A74', 'MULH45A49', 'P_AGRO',\n",
              "       'REN0', 'MULH40A44', 'PESO25', 'HOMEM45A49', 'MULH75A79',\n",
              "       'MULH35A39', 'PIA18M', 'PESO18', 'HOMEM40A44', 'PESOM25M',\n",
              "       'PESO15', 'PIA', 'POPT', 'HOMEM35A39', 'HOMENS80', 'pesotot',\n",
              "       'HOMEMTOT', 'MULHERTOT', 'POP', 'PESOM15M', 'MULH30A34',\n",
              "       'PESO1214', 'HOMEM30A34', 'estimated_population_2019', 'PESO1114',\n",
              "       'PESO1113', 'HOMEM10A14', 'peso1517', 'PIA1014', 'MULHER80',\n",
              "       'HOMEM15A19', 'MULH10A14', 'PIA1517', 'PESO1618', 'Peso617',\n",
              "       'HOMEM25A29', 'MULH15A19', 'PEA18M', 'PESOM1014', 'PESO1524',\n",
              "       'PESOM1517', 'Peso1820', 'PESO610', 'HOMEM5A9', 'MULH25A29',\n",
              "       'HOMEM20A24', 'MULH5A9', 'Peso1921', 'PEA', 'PESO1824', 'peso6',\n",
              "       'peso5', 'peso4', 'MULH0A4', 'peso13', 'MULH20A24', 'HOMEM0A4',\n",
              "       'peso1', 'T_AGUA', 'P_FUND', 'P_MED', 'TRABCC', 'T_FUND25M',\n",
              "       'T_CRIFUNDIN_TODOS', 'T_DES', 'T_FUNDIN_TODOS', 'T_FUND18M',\n",
              "       'I_ESCOLARIDADE', 'REN1', 'T_MED25M', 'T_MED18M', 'T_DES18M',\n",
              "       'RMPOB', 'IDHM_E', 'T_FUNDIN18MINF', 'T_SLUZ'], dtype=object)"
            ]
          },
          "metadata": {
            "tags": []
          },
          "execution_count": 25
        }
      ]
    },
    {
      "cell_type": "code",
      "metadata": {
        "id": "SCxvQ0HZ-NPw"
      },
      "source": [
        "corr_posit_negat = corr_posit + corr_negat\n",
        "corr_pos_neg = idhmcovid[idhmcovid.columns.intersection(corr_posit_negat)]"
      ],
      "execution_count": 26,
      "outputs": []
    },
    {
      "cell_type": "code",
      "metadata": {
        "colab": {
          "base_uri": "https://localhost:8080/",
          "height": 414
        },
        "id": "pgGbrBCxOGrc",
        "outputId": "03144654-c231-4413-b194-add1255d6144"
      },
      "source": [
        "corr_pos_neg = idhmcovid[correlacao_abs['indicador']].drop(columns=idhmcovid_cor_abs_colin_cols)\n",
        "corr_posit_negat = corr_pos_neg.columns\n",
        "corr_pos_neg"
      ],
      "execution_count": 27,
      "outputs": [
        {
          "output_type": "execute_result",
          "data": {
            "text/html": [
              "<div>\n",
              "<style scoped>\n",
              "    .dataframe tbody tr th:only-of-type {\n",
              "        vertical-align: middle;\n",
              "    }\n",
              "\n",
              "    .dataframe tbody tr th {\n",
              "        vertical-align: top;\n",
              "    }\n",
              "\n",
              "    .dataframe thead th {\n",
              "        text-align: right;\n",
              "    }\n",
              "</style>\n",
              "<table border=\"1\" class=\"dataframe\">\n",
              "  <thead>\n",
              "    <tr style=\"text-align: right;\">\n",
              "      <th></th>\n",
              "      <th>HOMEM70A74</th>\n",
              "      <th>T_ATIV1014</th>\n",
              "      <th>T_DES1517</th>\n",
              "      <th>P_SERV</th>\n",
              "      <th>T_DES1014</th>\n",
              "      <th>T_ATIV1517</th>\n",
              "      <th>T_DES1824</th>\n",
              "      <th>T_LUZ</th>\n",
              "      <th>THEILtrab</th>\n",
              "      <th>T_FREQ15A17</th>\n",
              "    </tr>\n",
              "  </thead>\n",
              "  <tbody>\n",
              "    <tr>\n",
              "      <th>11130</th>\n",
              "      <td>239</td>\n",
              "      <td>9.08</td>\n",
              "      <td>23.16</td>\n",
              "      <td>33.18</td>\n",
              "      <td>10.51</td>\n",
              "      <td>28.98</td>\n",
              "      <td>10.25</td>\n",
              "      <td>93.98</td>\n",
              "      <td>0.52</td>\n",
              "      <td>79.60</td>\n",
              "    </tr>\n",
              "    <tr>\n",
              "      <th>11131</th>\n",
              "      <td>607</td>\n",
              "      <td>7.89</td>\n",
              "      <td>15.50</td>\n",
              "      <td>40.06</td>\n",
              "      <td>11.63</td>\n",
              "      <td>33.66</td>\n",
              "      <td>7.78</td>\n",
              "      <td>98.58</td>\n",
              "      <td>0.44</td>\n",
              "      <td>76.42</td>\n",
              "    </tr>\n",
              "    <tr>\n",
              "      <th>11133</th>\n",
              "      <td>612</td>\n",
              "      <td>11.80</td>\n",
              "      <td>17.20</td>\n",
              "      <td>39.07</td>\n",
              "      <td>11.36</td>\n",
              "      <td>41.44</td>\n",
              "      <td>13.10</td>\n",
              "      <td>98.89</td>\n",
              "      <td>0.53</td>\n",
              "      <td>81.04</td>\n",
              "    </tr>\n",
              "    <tr>\n",
              "      <th>11138</th>\n",
              "      <td>201</td>\n",
              "      <td>20.64</td>\n",
              "      <td>11.33</td>\n",
              "      <td>31.45</td>\n",
              "      <td>4.05</td>\n",
              "      <td>46.22</td>\n",
              "      <td>10.04</td>\n",
              "      <td>96.70</td>\n",
              "      <td>0.43</td>\n",
              "      <td>75.91</td>\n",
              "    </tr>\n",
              "    <tr>\n",
              "      <th>11139</th>\n",
              "      <td>276</td>\n",
              "      <td>4.60</td>\n",
              "      <td>12.95</td>\n",
              "      <td>51.64</td>\n",
              "      <td>3.92</td>\n",
              "      <td>21.20</td>\n",
              "      <td>18.08</td>\n",
              "      <td>97.71</td>\n",
              "      <td>0.41</td>\n",
              "      <td>81.73</td>\n",
              "    </tr>\n",
              "    <tr>\n",
              "      <th>...</th>\n",
              "      <td>...</td>\n",
              "      <td>...</td>\n",
              "      <td>...</td>\n",
              "      <td>...</td>\n",
              "      <td>...</td>\n",
              "      <td>...</td>\n",
              "      <td>...</td>\n",
              "      <td>...</td>\n",
              "      <td>...</td>\n",
              "      <td>...</td>\n",
              "    </tr>\n",
              "    <tr>\n",
              "      <th>16673</th>\n",
              "      <td>198</td>\n",
              "      <td>12.03</td>\n",
              "      <td>14.94</td>\n",
              "      <td>40.25</td>\n",
              "      <td>0.00</td>\n",
              "      <td>41.64</td>\n",
              "      <td>6.43</td>\n",
              "      <td>99.58</td>\n",
              "      <td>0.47</td>\n",
              "      <td>86.24</td>\n",
              "    </tr>\n",
              "    <tr>\n",
              "      <th>16680</th>\n",
              "      <td>811</td>\n",
              "      <td>7.76</td>\n",
              "      <td>20.84</td>\n",
              "      <td>43.11</td>\n",
              "      <td>26.03</td>\n",
              "      <td>37.69</td>\n",
              "      <td>11.22</td>\n",
              "      <td>99.92</td>\n",
              "      <td>0.26</td>\n",
              "      <td>78.61</td>\n",
              "    </tr>\n",
              "    <tr>\n",
              "      <th>16685</th>\n",
              "      <td>389</td>\n",
              "      <td>10.90</td>\n",
              "      <td>7.07</td>\n",
              "      <td>41.06</td>\n",
              "      <td>4.63</td>\n",
              "      <td>42.52</td>\n",
              "      <td>9.82</td>\n",
              "      <td>99.76</td>\n",
              "      <td>0.61</td>\n",
              "      <td>83.73</td>\n",
              "    </tr>\n",
              "    <tr>\n",
              "      <th>16688</th>\n",
              "      <td>500</td>\n",
              "      <td>5.86</td>\n",
              "      <td>46.76</td>\n",
              "      <td>56.14</td>\n",
              "      <td>27.76</td>\n",
              "      <td>26.61</td>\n",
              "      <td>14.23</td>\n",
              "      <td>99.95</td>\n",
              "      <td>0.33</td>\n",
              "      <td>87.44</td>\n",
              "    </tr>\n",
              "    <tr>\n",
              "      <th>16694</th>\n",
              "      <td>15759</td>\n",
              "      <td>4.89</td>\n",
              "      <td>38.64</td>\n",
              "      <td>62.48</td>\n",
              "      <td>33.40</td>\n",
              "      <td>28.01</td>\n",
              "      <td>16.92</td>\n",
              "      <td>99.91</td>\n",
              "      <td>0.63</td>\n",
              "      <td>88.43</td>\n",
              "    </tr>\n",
              "  </tbody>\n",
              "</table>\n",
              "<p>1774 rows × 10 columns</p>\n",
              "</div>"
            ],
            "text/plain": [
              "       HOMEM70A74  T_ATIV1014  T_DES1517  ...  T_LUZ  THEILtrab  T_FREQ15A17\n",
              "11130         239        9.08      23.16  ...  93.98       0.52        79.60\n",
              "11131         607        7.89      15.50  ...  98.58       0.44        76.42\n",
              "11133         612       11.80      17.20  ...  98.89       0.53        81.04\n",
              "11138         201       20.64      11.33  ...  96.70       0.43        75.91\n",
              "11139         276        4.60      12.95  ...  97.71       0.41        81.73\n",
              "...           ...         ...        ...  ...    ...        ...          ...\n",
              "16673         198       12.03      14.94  ...  99.58       0.47        86.24\n",
              "16680         811        7.76      20.84  ...  99.92       0.26        78.61\n",
              "16685         389       10.90       7.07  ...  99.76       0.61        83.73\n",
              "16688         500        5.86      46.76  ...  99.95       0.33        87.44\n",
              "16694       15759        4.89      38.64  ...  99.91       0.63        88.43\n",
              "\n",
              "[1774 rows x 10 columns]"
            ]
          },
          "metadata": {
            "tags": []
          },
          "execution_count": 27
        }
      ]
    },
    {
      "cell_type": "code",
      "metadata": {
        "id": "zyxsPfzxnubr"
      },
      "source": [
        "xtrain_corr_pos_neg, xtest_corr_pos_neg, ytrain_corr_pos_neg, ytest_corr_pos_neg = train_test_split(corr_pos_neg, mortalidade, test_size=0.4, random_state=42)"
      ],
      "execution_count": 28,
      "outputs": []
    },
    {
      "cell_type": "code",
      "metadata": {
        "id": "KRBmBdtImZ10",
        "colab": {
          "base_uri": "https://localhost:8080/"
        },
        "outputId": "3b72ecbc-7e9a-4169-f65e-7dc33345edfd"
      },
      "source": [
        "linreg_corr_pos_neg = LinearRegression()\n",
        "linreg_corr_pos_neg.fit(corr_pos_neg, mortalidade)\n",
        "#linreg_corr_pos_neg.fit(xtrain_corr_pos_neg, ytrain_corr_pos_neg)\n",
        "print('linear model coeff (w): {}'\n",
        ".format(linreg_corr_pos_neg.coef_))\n",
        "print('linear model intercept (b): {:.3f}'\n",
        ".format(linreg_corr_pos_neg.intercept_))\n",
        "print('R-squared score (all data): {:.3f}'\n",
        ".format(linreg_corr_pos_neg.score(corr_pos_neg, mortalidade)))\n",
        "print('R-squared score (train): {:.3f}'\n",
        ".format(linreg_corr_pos_neg.score(xtrain_corr_pos_neg, ytrain_corr_pos_neg)))\n",
        "print('R-squared score (test): {:.3f}'\n",
        ".format(linreg_corr_pos_neg.score(xtest_corr_pos_neg, ytest_corr_pos_neg)))"
      ],
      "execution_count": 29,
      "outputs": [
        {
          "output_type": "stream",
          "text": [
            "linear model coeff (w): [ 4.63314889e-07  2.49382799e-04  4.53754332e-05  1.75981319e-04\n",
            "  5.64938567e-05 -3.33393627e-04  6.17863723e-05  1.67814545e-04\n",
            " -2.19870613e-02  6.99815366e-05]\n",
            "linear model intercept (b): 0.012\n",
            "R-squared score (all data): 0.128\n",
            "R-squared score (train): 0.158\n",
            "R-squared score (test): 0.086\n"
          ],
          "name": "stdout"
        }
      ]
    },
    {
      "cell_type": "code",
      "metadata": {
        "id": "I-Y-JH3HwobQ",
        "colab": {
          "base_uri": "https://localhost:8080/",
          "height": 355
        },
        "outputId": "ff9aa515-bcd7-4c73-886e-6a8c737a93a8"
      },
      "source": [
        "pd.DataFrame({'variavel': corr_posit_negat, 'coeficiente': linreg_corr_pos_neg.coef_}).sort_values('coeficiente', ascending=False)"
      ],
      "execution_count": 30,
      "outputs": [
        {
          "output_type": "execute_result",
          "data": {
            "text/html": [
              "<div>\n",
              "<style scoped>\n",
              "    .dataframe tbody tr th:only-of-type {\n",
              "        vertical-align: middle;\n",
              "    }\n",
              "\n",
              "    .dataframe tbody tr th {\n",
              "        vertical-align: top;\n",
              "    }\n",
              "\n",
              "    .dataframe thead th {\n",
              "        text-align: right;\n",
              "    }\n",
              "</style>\n",
              "<table border=\"1\" class=\"dataframe\">\n",
              "  <thead>\n",
              "    <tr style=\"text-align: right;\">\n",
              "      <th></th>\n",
              "      <th>variavel</th>\n",
              "      <th>coeficiente</th>\n",
              "    </tr>\n",
              "  </thead>\n",
              "  <tbody>\n",
              "    <tr>\n",
              "      <th>1</th>\n",
              "      <td>T_ATIV1014</td>\n",
              "      <td>2.493828e-04</td>\n",
              "    </tr>\n",
              "    <tr>\n",
              "      <th>3</th>\n",
              "      <td>P_SERV</td>\n",
              "      <td>1.759813e-04</td>\n",
              "    </tr>\n",
              "    <tr>\n",
              "      <th>7</th>\n",
              "      <td>T_LUZ</td>\n",
              "      <td>1.678145e-04</td>\n",
              "    </tr>\n",
              "    <tr>\n",
              "      <th>9</th>\n",
              "      <td>T_FREQ15A17</td>\n",
              "      <td>6.998154e-05</td>\n",
              "    </tr>\n",
              "    <tr>\n",
              "      <th>6</th>\n",
              "      <td>T_DES1824</td>\n",
              "      <td>6.178637e-05</td>\n",
              "    </tr>\n",
              "    <tr>\n",
              "      <th>4</th>\n",
              "      <td>T_DES1014</td>\n",
              "      <td>5.649386e-05</td>\n",
              "    </tr>\n",
              "    <tr>\n",
              "      <th>2</th>\n",
              "      <td>T_DES1517</td>\n",
              "      <td>4.537543e-05</td>\n",
              "    </tr>\n",
              "    <tr>\n",
              "      <th>0</th>\n",
              "      <td>HOMEM70A74</td>\n",
              "      <td>4.633149e-07</td>\n",
              "    </tr>\n",
              "    <tr>\n",
              "      <th>5</th>\n",
              "      <td>T_ATIV1517</td>\n",
              "      <td>-3.333936e-04</td>\n",
              "    </tr>\n",
              "    <tr>\n",
              "      <th>8</th>\n",
              "      <td>THEILtrab</td>\n",
              "      <td>-2.198706e-02</td>\n",
              "    </tr>\n",
              "  </tbody>\n",
              "</table>\n",
              "</div>"
            ],
            "text/plain": [
              "      variavel   coeficiente\n",
              "1   T_ATIV1014  2.493828e-04\n",
              "3       P_SERV  1.759813e-04\n",
              "7        T_LUZ  1.678145e-04\n",
              "9  T_FREQ15A17  6.998154e-05\n",
              "6    T_DES1824  6.178637e-05\n",
              "4    T_DES1014  5.649386e-05\n",
              "2    T_DES1517  4.537543e-05\n",
              "0   HOMEM70A74  4.633149e-07\n",
              "5   T_ATIV1517 -3.333936e-04\n",
              "8    THEILtrab -2.198706e-02"
            ]
          },
          "metadata": {
            "tags": []
          },
          "execution_count": 30
        }
      ]
    },
    {
      "cell_type": "code",
      "metadata": {
        "colab": {
          "base_uri": "https://localhost:8080/",
          "height": 78
        },
        "id": "vskEiJZs-5o8",
        "outputId": "83667db3-648d-48e0-867e-deccf0aa2745"
      },
      "source": [
        "from sklearn.model_selection import cross_validate\n",
        "from sklearn.model_selection import RepeatedKFold\n",
        "import matplotlib.pyplot as plt\n",
        "from sklearn.preprocessing import StandardScaler\n",
        "from sklearn.compose import make_column_transformer\n",
        "from sklearn.pipeline import make_pipeline\n",
        "\n",
        "X = corr_pos_neg\n",
        "y = mortalidade\n",
        "model = LinearRegression()\n",
        "\n",
        "preprocessor = make_column_transformer(\n",
        "    (StandardScaler(), corr_posit_negat),\n",
        "    remainder='passthrough'\n",
        ")\n",
        "\n",
        "model = make_pipeline(\n",
        "    preprocessor,\n",
        "    LinearRegression()\n",
        ")\n",
        "\n",
        "_ = model.fit(X, y)\n",
        "\n",
        "X_preprocessed = pd.DataFrame(\n",
        "    model.named_steps['columntransformer'].transform(X),\n",
        "    columns=corr_posit_negat\n",
        ")\n",
        "\n",
        "cv_model = cross_validate(\n",
        "    model, X, y, cv=RepeatedKFold(n_splits=5, n_repeats=5),\n",
        "    return_estimator=True, n_jobs=-1\n",
        ")\n",
        "\n",
        "coefs = pd.DataFrame(\n",
        "    [est.named_steps['linearregression'].coef_ * X_preprocessed.std(axis=0) for est in cv_model['estimator']], columns=corr_posit_negat\n",
        ")\n",
        "\n",
        "\n",
        "coefs1 = pd.DataFrame(\n",
        "    [model['linearregression'].coef_ * X_preprocessed.std(axis=0)], columns=corr_posit_negat\n",
        ")\n",
        "coefs1"
      ],
      "execution_count": 31,
      "outputs": [
        {
          "output_type": "execute_result",
          "data": {
            "text/html": [
              "<div>\n",
              "<style scoped>\n",
              "    .dataframe tbody tr th:only-of-type {\n",
              "        vertical-align: middle;\n",
              "    }\n",
              "\n",
              "    .dataframe tbody tr th {\n",
              "        vertical-align: top;\n",
              "    }\n",
              "\n",
              "    .dataframe thead th {\n",
              "        text-align: right;\n",
              "    }\n",
              "</style>\n",
              "<table border=\"1\" class=\"dataframe\">\n",
              "  <thead>\n",
              "    <tr style=\"text-align: right;\">\n",
              "      <th></th>\n",
              "      <th>HOMEM70A74</th>\n",
              "      <th>T_ATIV1014</th>\n",
              "      <th>T_DES1517</th>\n",
              "      <th>P_SERV</th>\n",
              "      <th>T_DES1014</th>\n",
              "      <th>T_ATIV1517</th>\n",
              "      <th>T_DES1824</th>\n",
              "      <th>T_LUZ</th>\n",
              "      <th>THEILtrab</th>\n",
              "      <th>T_FREQ15A17</th>\n",
              "    </tr>\n",
              "  </thead>\n",
              "  <tbody>\n",
              "    <tr>\n",
              "      <th>0</th>\n",
              "      <td>0.00141</td>\n",
              "      <td>0.001292</td>\n",
              "      <td>0.000469</td>\n",
              "      <td>0.001649</td>\n",
              "      <td>0.000724</td>\n",
              "      <td>-0.003309</td>\n",
              "      <td>0.000396</td>\n",
              "      <td>0.000924</td>\n",
              "      <td>-0.002531</td>\n",
              "      <td>0.000379</td>\n",
              "    </tr>\n",
              "  </tbody>\n",
              "</table>\n",
              "</div>"
            ],
            "text/plain": [
              "   HOMEM70A74  T_ATIV1014  T_DES1517  ...     T_LUZ  THEILtrab  T_FREQ15A17\n",
              "0     0.00141    0.001292   0.000469  ...  0.000924  -0.002531     0.000379\n",
              "\n",
              "[1 rows x 10 columns]"
            ]
          },
          "metadata": {
            "tags": []
          },
          "execution_count": 31
        }
      ]
    },
    {
      "cell_type": "code",
      "metadata": {
        "colab": {
          "base_uri": "https://localhost:8080/",
          "height": 444
        },
        "id": "LlocJx4_fZxp",
        "outputId": "c601916c-9fbc-4d75-926c-1c46ec6c4b2f"
      },
      "source": [
        "coefs1.plot(kind='barh', figsize=(9, 7))\n",
        "plt.title('Coefficient importance')\n",
        "plt.axvline(x=0, color='.5')\n",
        "plt.subplots_adjust(left=.3)"
      ],
      "execution_count": 32,
      "outputs": [
        {
          "output_type": "display_data",
          "data": {
            "image/png": "[encoded data removed]",
            "text/plain": [
              "<Figure size 648x504 with 1 Axes>"
            ]
          },
          "metadata": {
            "tags": [],
            "needs_background": "light"
          }
        }
      ]
    },
    {
      "cell_type": "markdown",
      "metadata": {
        "id": "g2-UzIYXMjud"
      },
      "source": [
        "**HOMEM70A74**: População masculina de 70 a 74 anos de idade\\\n",
        "**T_ATIV1014**: Taxa de atividade das pessoas de 10 a  14 anos de idade\\\n",
        "**T_DES1517**: Taxa de desocupação da população de 15 a 17 anos de idade\\\n",
        "**P_SERV**: Percentual dos ocupados no setor serviços\\\n",
        "**T_DES1014**: Taxa de desocupação da população de 10 a 14 anos de idade\\\n",
        "**T_ATIV1517**: Taxa de atividade das pessoas de 15 a  17 anos de idade\\\n",
        "**T_DES1824**: Taxa de desocupação da população de 18 a 24 anos de idade\\\n",
        "**T_LUZ**: Percentual da população que vive em domicílios com energia elétrica\\\n",
        "**THEILtrab**: Mede a desigualdade na distribuição de renda\\\n",
        "**T_FREQ15A17**: Taxa de atendimento escolar da população de 15 a 17 anos de idade \\\n",
        "\\\n",
        "descrição de todas as variáveis do IDHM: https://docs.google.com/spreadsheets/d/1CBN0-0Og-hRN-ovSAEbobgzhUxTZt3CoVsq1YMXpss4/edit?usp=sharing"
      ]
    },
    {
      "cell_type": "code",
      "metadata": {
        "colab": {
          "base_uri": "https://localhost:8080/",
          "height": 457
        },
        "id": "qSjQkRBVaIoj",
        "outputId": "d83fcc73-5ea7-4ef8-f069-dbfc8e856b82"
      },
      "source": [
        "plt.figure(figsize=(9, 7))\n",
        "sns.stripplot(data=coefs, orient='h', color='k', alpha=0.5)\n",
        "sns.boxplot(data=coefs, orient='h', color='cyan', saturation=0.5)\n",
        "plt.axvline(x=0, color='.5')\n",
        "plt.xlabel('Coefficient importance')\n",
        "plt.title('Coefficient importance and its variability')\n",
        "plt.subplots_adjust(left=.3)"
      ],
      "execution_count": 33,
      "outputs": [
        {
          "output_type": "display_data",
          "data": {
            "image/png": "[encoded data removed]",
            "text/plain": [
              "<Figure size 648x504 with 1 Axes>"
            ]
          },
          "metadata": {
            "tags": [],
            "needs_background": "light"
          }
        }
      ]
    },
    {
      "cell_type": "code",
      "metadata": {
        "colab": {
          "base_uri": "https://localhost:8080/"
        },
        "id": "ggaBGZrFhoxY",
        "outputId": "ddb5eff9-5135-4e39-930f-ed3c6b282e9b"
      },
      "source": [
        "pred_corr_pos_neg = model.predict(X)\n",
        "print('Mean squared error: %.2f'\n",
        "      % mean_squared_error(y, pred_corr_pos_neg))\n",
        "print('Coefficient of determination: %.2f'\n",
        "      % r2_score(y, pred_corr_pos_neg))"
      ],
      "execution_count": 34,
      "outputs": [
        {
          "output_type": "stream",
          "text": [
            "Mean squared error: 0.00\n",
            "Coefficient of determination: 0.13\n"
          ],
          "name": "stdout"
        }
      ]
    },
    {
      "cell_type": "code",
      "metadata": {
        "id": "f7Q6ylHQm6ow",
        "colab": {
          "base_uri": "https://localhost:8080/"
        },
        "outputId": "c9401b6c-3b62-42d3-c3fd-cf3a11a0078c"
      },
      "source": [
        "pred_corr_pos_neg = linreg_corr_pos_neg.predict(xtest_corr_pos_neg)\n",
        "print('Mean squared error: %.2f'\n",
        "      % mean_squared_error(ytest_corr_pos_neg, pred_corr_pos_neg))\n",
        "print('Coefficient of determination: %.2f'\n",
        "      % r2_score(ytest_corr_pos_neg, pred_corr_pos_neg))"
      ],
      "execution_count": 35,
      "outputs": [
        {
          "output_type": "stream",
          "text": [
            "Mean squared error: 0.00\n",
            "Coefficient of determination: 0.09\n"
          ],
          "name": "stdout"
        }
      ]
    },
    {
      "cell_type": "code",
      "metadata": {
        "colab": {
          "base_uri": "https://localhost:8080/"
        },
        "id": "d6EXfecwczDz",
        "outputId": "8842eac5-8c79-40bd-f6a5-67ed2004ca44"
      },
      "source": [
        "idhmcovid_cor_abs['T_LUZ'].sort_values()"
      ],
      "execution_count": 36,
      "outputs": [
        {
          "output_type": "execute_result",
          "data": {
            "text/plain": [
              "T_FLFUND    0.006834\n",
              "peso5       0.012235\n",
              "HOMEM5A9    0.012591\n",
              "peso6       0.013477\n",
              "MULH5A9     0.015080\n",
              "              ...   \n",
              "PIND        0.815893\n",
              "RDPC1       0.818364\n",
              "T_LUZ       1.000000\n",
              "T_SLUZ      1.000000\n",
              "ANO              NaN\n",
              "Name: T_LUZ, Length: 236, dtype: float64"
            ]
          },
          "metadata": {
            "tags": []
          },
          "execution_count": 36
        }
      ]
    },
    {
      "cell_type": "code",
      "metadata": {
        "id": "9skuAKJAnMpi",
        "colab": {
          "base_uri": "https://localhost:8080/",
          "height": 542
        },
        "outputId": "590bbf10-76be-4bd0-8cb3-f559fe7a55a6"
      },
      "source": [
        "fig = go.Figure(data=go.Scatter(x=ytest_corr_pos_neg, y=pred_corr_pos_neg, mode='markers')) \n",
        "fig.update_layout(title=\"Valores reais e previstos das 20 maiores correlações de mortalidade de COVID-19\")\n",
        "fig.show()"
      ],
      "execution_count": 37,
      "outputs": [
        {
          "output_type": "display_data",
          "data": {
            "text/html": [
              "<html>\n",
              "<head><meta charset=\"utf-8\" /></head>\n",
              "<body>\n",
              "    <div>\n",
              "            <script src=\"https://cdnjs.cloudflare.com/ajax/libs/mathjax/2.7.5/MathJax.js?config=TeX-AMS-MML_SVG\"></script><script type=\"text/javascript\">if (window.MathJax) {MathJax.Hub.Config({SVG: {font: \"STIX-Web\"}});}</script>\n",
              "                <script type=\"text/javascript\">window.PlotlyConfig = {MathJaxConfig: 'local'};</script>\n",
              "        <script src=\"https://cdn.plot.ly/plotly-latest.min.js\"></script>    \n",
              "            <div id=\"00138c96-a68d-48d8-9636-b59fb7c8e615\" class=\"plotly-graph-div\" style=\"height:525px; width:100%;\"></div>\n",
              "            <script type=\"text/javascript\">\n",
              "                \n",
              "                    window.PLOTLYENV=window.PLOTLYENV || {};\n",
              "                    \n",
              "                if (document.getElementById(\"00138c96-a68d-48d8-9636-b59fb7c8e615\")) {\n",
              "                    Plotly.newPlot(\n",
              "                        '00138c96-a68d-48d8-9636-b59fb7c8e615',\n",
              "                        [{\"mode\": \"markers\", \"type\": \"scatter\", \"x\": [0.0328, 0.0148, 0.0228, 0.0136, 0.0382, 0.0186, 0.0251, 0.0244, 0.0181, 0.015, 0.0301, 0.0311, 0.0085, 0.0204, 0.0273, 0.0289, 0.0336, 0.0169, 0.0228, 0.0218, 0.0131, 0.041, 0.0095, 0.0106, 0.0279, 0.0344, 0.0314, 0.0183, 0.0131, 0.0327, 0.0135, 0.0408, 0.017, 0.0151, 0.0111, 0.0229, 0.0186, 0.0197, 0.0219, 0.0228, 0.0121, 0.02, 0.0599, 0.0131, 0.0161, 0.0125, 0.0273, 0.0358, 0.0341, 0.0274, 0.0432, 0.0188, 0.0109, 0.0219, 0.0147, 0.0205, 0.0234, 0.0194, 0.0561, 0.0177, 0.0244, 0.0444, 0.0626, 0.0186, 0.0378, 0.054, 0.0347, 0.0252, 0.0189, 0.0298, 0.0212, 0.0339, 0.0132, 0.0094, 0.0209, 0.0444, 0.0255, 0.0153, 0.0223, 0.0218, 0.0293, 0.0234, 0.0147, 0.0296, 0.0125, 0.026, 0.023, 0.049, 0.0351, 0.036, 0.0239, 0.0204, 0.0127, 0.0272, 0.0152, 0.0172, 0.0207, 0.1596, 0.0143, 0.0469, 0.0248, 0.0359, 0.0306, 0.0234, 0.0306, 0.0149, 0.0247, 0.0141, 0.0259, 0.0929, 0.0162, 0.0461, 0.0414, 0.0327, 0.0146, 0.0232, 0.0144, 0.0263, 0.029, 0.0199, 0.0221, 0.0274, 0.029, 0.0113, 0.0074, 0.0339, 0.047, 0.0323, 0.031, 0.012, 0.0247, 0.0201, 0.0078, 0.0155, 0.0254, 0.016, 0.0313, 0.033, 0.0238, 0.018, 0.0195, 0.0376, 0.0247, 0.0218, 0.0275, 0.0182, 0.0139, 0.0259, 0.009, 0.0162, 0.0719, 0.0222, 0.0204, 0.0162, 0.0158, 0.0351, 0.0315, 0.0628, 0.0168, 0.0111, 0.0252, 0.0275, 0.0227, 0.0331, 0.0331, 0.0114, 0.0648, 0.023, 0.0103, 0.0208, 0.0117, 0.0178, 0.0256, 0.0245, 0.0197, 0.0131, 0.0092, 0.0342, 0.0215, 0.0454, 0.0259, 0.0218, 0.0292, 0.0223, 0.0693, 0.0168, 0.0259, 0.0337, 0.011, 0.0199, 0.0276, 0.0179, 0.0192, 0.022, 0.0236, 0.0257, 0.0126, 0.0037, 0.0296, 0.0199, 0.0188, 0.02, 0.0281, 0.0215, 0.0193, 0.0275, 0.0276, 0.0144, 0.0338, 0.0369, 0.0174, 0.0173, 0.0146, 0.0216, 0.0292, 0.0154, 0.016, 0.0223, 0.0327, 0.0256, 0.039, 0.0139, 0.0075, 0.0113, 0.027, 0.0391, 0.0135, 0.0231, 0.0357, 0.0299, 0.0355, 0.0216, 0.0308, 0.0526, 0.0369, 0.0214, 0.0333, 0.0209, 0.0333, 0.0141, 0.0193, 0.0184, 0.0126, 0.0242, 0.0315, 0.0439, 0.0287, 0.0343, 0.0194, 0.021, 0.0246, 0.0112, 0.015, 0.0271, 0.0111, 0.0275, 0.0234, 0.0131, 0.0318, 0.0262, 0.0483, 0.0192, 0.0209, 0.0327, 0.0266, 0.0357, 0.0227, 0.0105, 0.02, 0.242, 0.0198, 0.0282, 0.0362, 0.0175, 0.0471, 0.0166, 0.005, 0.025, 0.0108, 0.0219, 0.0121, 0.0229, 0.018, 0.0247, 0.0341, 0.0197, 0.0258, 0.0292, 0.0148, 0.0287, 0.0287, 0.0121, 0.0046, 0.0222, 0.023, 0.0303, 0.0207, 0.029, 0.0277, 0.0266, 0.0325, 0.0456, 0.0159, 0.0203, 0.0163, 0.0067, 0.0193, 0.0213, 0.0349, 0.0365, 0.0233, 0.0127, 0.0255, 0.031, 0.0149, 0.0309, 0.0295, 0.0223, 0.0169, 0.0388, 0.0194, 0.0283, 0.0237, 0.0331, 0.0262, 0.0291, 0.015, 0.0302, 0.0277, 0.0231, 0.0355, 0.0112, 0.0134, 0.0238, 0.009, 0.0211, 0.0347, 0.0541, 0.0256, 0.0132, 0.0318, 0.0379, 0.0262, 0.0226, 0.0058, 0.023, 0.0201, 0.0194, 0.0227, 0.0105, 0.0275, 0.0228, 0.0435, 0.0455, 0.0219, 0.0722, 0.0405, 0.0211, 0.0283, 0.0226, 0.028, 0.0167, 0.0425, 0.0135, 0.0364, 0.0238, 0.0617, 0.0199, 0.0113, 0.0271, 0.0279, 0.0388, 0.0296, 0.0423, 0.0165, 0.0225, 0.0384, 0.0355, 0.0268, 0.0474, 0.0086, 0.0185, 0.0565, 0.0091, 0.0255, 0.0128, 0.0323, 0.0525, 0.0057, 0.0229, 0.0133, 0.0201, 0.0304, 0.011, 0.0129, 0.0319, 0.0458, 0.0272, 0.0057, 0.0134, 0.0406, 0.0267, 0.0239, 0.0121, 0.0396, 0.0288, 0.0244, 0.0223, 0.0549, 0.0278, 0.0203, 0.0651, 0.0161, 0.0207, 0.0194, 0.0251, 0.0196, 0.0329, 0.023, 0.0621, 0.0274, 0.0401, 0.077, 0.0056, 0.0757, 0.0193, 0.012, 0.0407, 0.018, 0.0169, 0.0273, 0.0108, 0.0207, 0.0285, 0.075, 0.0138, 0.0783, 0.0197, 0.0153, 0.023, 0.0324, 0.0153, 0.0406, 0.0376, 0.0305, 0.0325, 0.015, 0.0099, 0.0345, 0.0316, 0.0262, 0.0315, 0.0186, 0.0095, 0.0458, 0.0277, 0.029, 0.0152, 0.0294, 0.0168, 0.0178, 0.0144, 0.0198, 0.0208, 0.042, 0.0482, 0.0157, 0.0094, 0.0501, 0.0394, 0.0375, 0.0199, 0.0264, 0.0253, 0.0254, 0.0318, 0.038, 0.0299, 0.0324, 0.0244, 0.0298, 0.0841, 0.0131, 0.0275, 0.0218, 0.0102, 0.0216, 0.013, 0.0163, 0.0277, 0.0308, 0.0209, 0.0265, 0.0206, 0.0078, 0.0122, 0.0276, 0.0417, 0.012, 0.0164, 0.0108, 0.043, 0.0103, 0.0454, 0.0248, 0.0155, 0.024, 0.0162, 0.0299, 0.0348, 0.0116, 0.0217, 0.0202, 0.0181, 0.0137, 0.0189, 0.0395, 0.0238, 0.0311, 0.0308, 0.0316, 0.0246, 0.0308, 0.0325, 0.0493, 0.0125, 0.0132, 0.0253, 0.0232, 0.0214, 0.0479, 0.0139, 0.0223, 0.034, 0.0344, 0.0291, 0.024, 0.0114, 0.0165, 0.0328, 0.0829, 0.0107, 0.0224, 0.0603, 0.0166, 0.0175, 0.0217, 0.0154, 0.022, 0.0258, 0.0209, 0.0186, 0.0107, 0.0223, 0.0132, 0.0267, 0.0298, 0.013, 0.0124, 0.0412, 0.0348, 0.0218, 0.0152, 0.0283, 0.0255, 0.0127, 0.0185, 0.0478, 0.0246, 0.0362, 0.0179, 0.0244, 0.0178, 0.0232, 0.0201, 0.0142, 0.0395, 0.0186, 0.024, 0.0231, 0.0293, 0.01, 0.0137, 0.0161, 0.0133, 0.0219, 0.0131, 0.0251, 0.0131, 0.0345, 0.0367, 0.0251, 0.0164, 0.0203, 0.0131, 0.0193, 0.0393, 0.0362, 0.0192, 0.0307, 0.0253, 0.0256, 0.0198, 0.0509, 0.0134, 0.0191, 0.0247, 0.0112, 0.0485, 0.0364, 0.0135, 0.0393, 0.0199, 0.0247, 0.0262, 0.0282, 0.0271, 0.0301, 0.0106, 0.0292, 0.0392, 0.0261, 0.0143, 0.0191, 0.0278, 0.0161, 0.0212, 0.0205, 0.0323, 0.0158, 0.0249, 0.0159, 0.0155, 0.0264, 0.0163, 0.0212, 0.0209, 0.0207, 0.0164, 0.0166, 0.0159, 0.0189, 0.0362, 0.025, 0.032, 0.0355, 0.0597, 0.0356, 0.0288, 0.047, 0.0171, 0.0157, 0.025, 0.029, 0.0296, 0.0476, 0.021, 0.0247, 0.0175, 0.0238, 0.0299, 0.0291, 0.0672, 0.0167, 0.0201, 0.0233, 0.0245, 0.0171, 0.017, 0.0106, 0.0219, 0.025, 0.0189, 0.0217, 0.0215, 0.014, 0.0128, 0.0118, 0.0192, 0.0221, 0.0293, 0.0248, 0.0243, 0.0192, 0.0375, 0.0336, 0.0138, 0.0247, 0.0198, 0.0105, 0.0216, 0.0516, 0.0311, 0.0302, 0.0297, 0.0359, 0.0129, 0.0406, 0.0184, 0.008, 0.0248, 0.0248, 0.0383, 0.0218, 0.0205, 0.0062, 0.0182, 0.0283, 0.0175, 0.0137], \"y\": [0.03043659239886292, 0.020115618078931072, 0.028391422834671644, 0.026462651404990857, 0.03600574883811126, 0.02609933816704378, 0.03286589186475767, 0.02469600991535683, 0.020833287165571403, 0.027219353557433705, 0.025150030871558024, 0.02804954860299718, 0.022926914313519453, 0.028923349286184327, 0.020794069167669297, 0.03209267321796157, 0.02581369063247082, 0.022723466559974148, 0.021456820246718154, 0.02311948472948229, 0.023558961641915656, 0.029591017451030772, 0.025793221600852387, 0.015075645189456047, 0.02957539938323777, 0.02911521693750347, 0.026170516143047634, 0.029311807173753666, 0.018859924196585935, 0.03235200280988408, 0.01916899998589327, 0.02307350642633967, 0.025052969317408906, 0.025482461196385968, 0.030202650124279577, 0.023684304230544823, 0.021398971989328497, 0.022711927781980393, 0.01732002915858713, 0.029026730306940557, 0.025780472490441735, 0.01742220229757871, 0.036322941650115, 0.025202466622762015, 0.025552735160371952, 0.03417459326009489, 0.02863126387946608, 0.02281480338034319, 0.03994415722816672, 0.0235649854178372, 0.026299277435602036, 0.028593149735822505, 0.017717213832058494, 0.015494390875533415, 0.017338728584463975, 0.022643763956612484, 0.019543023335929333, 0.024244783756996437, 0.032629216223652086, 0.027832274078728694, 0.02973157506459996, 0.027518102683480004, 0.02473276163399065, 0.020022143303835265, 0.03333196037161054, 0.025024928566116184, 0.0263345625970273, 0.020016508622527948, 0.024348834465574343, 0.030292411859841592, 0.025748950480384027, 0.020648457271194586, 0.03567881306278685, 0.032433444792940906, 0.028203047163712552, 0.02274084219582917, 0.019157136883312297, 0.02065734786560673, 0.02061453976019858, 0.024378112761792248, 0.018619596551802866, 0.022951151159863077, 0.022664088407500366, 0.03061268582100264, 0.024824397272913412, 0.036348469406613286, 0.024643033961520348, 0.035764473418733726, 0.022074886326872822, 0.03506367367508283, 0.023881238348952227, 0.02010077285853782, 0.017776725502130386, 0.023543768854732014, 0.017729529984589588, 0.03034534114120025, 0.027404613781471514, 0.03728135937086263, 0.021438559602620547, 0.037155952866915164, 0.02934353508013305, 0.03280397974655649, 0.02967440633962134, 0.022301451534697467, 0.018461909780238317, 0.029483106328716757, 0.026704086140812378, 0.023102300967495822, 0.03079742567264363, 0.03689183927505677, 0.013184249436965641, 0.040670629236541946, 0.029803243548457252, 0.021406214646820264, 0.023726067056532983, 0.027356000605591544, 0.017967500197229126, 0.02581101599582254, 0.0322697584450716, 0.02027480812923877, 0.02137636489722447, 0.03085315967278119, 0.01786026345535025, 0.016442107495032658, 0.020290032534913426, 0.023578081388234334, 0.028732281039618432, 0.03183737008491547, 0.021863085546135017, 0.026534509267633823, 0.02777670390824461, 0.02360155739303326, 0.020742290995782217, 0.02784602452634105, 0.03310450367872421, 0.037907028878119295, 0.02396777625146347, 0.023695226349076035, 0.018929697153382403, 0.024170335781675642, 0.029305400422161863, 0.018731146789111863, 0.024000790623220455, 0.018475742039670562, 0.025807549672402383, 0.03454567358637836, 0.023136716419880528, 0.01788579309583383, 0.02880583462906247, 0.027124675308099866, 0.0266462119515862, 0.028491682164259603, 0.024761292992976705, 0.016164360659727678, 0.025074488581733327, 0.027372622196721114, 0.021797224412166825, 0.016080411658408983, 0.025952812294666103, 0.022007333458036793, 0.0312324078414419, 0.0284912346204914, 0.025785796312169866, 0.025896111291805066, 0.03094944204865241, 0.02941758773790032, 0.020033616885335767, 0.02862586067292667, 0.03004900134294846, 0.027444330985047186, 0.023481198407742238, 0.02621949587377359, 0.028580390340321157, 0.03262514498626809, 0.01706259536885482, 0.02873463652828226, 0.014149290385319873, 0.027632157274575346, 0.02504004728147956, 0.03133203788663732, 0.027601980869779268, 0.023574114704296836, 0.031402081041019825, 0.02641510074692416, 0.027613321696250352, 0.026558740978222035, 0.0196666242743737, 0.022905114556019096, 0.024562539643680242, 0.026126755818770907, 0.03930599984725345, 0.02261743894288796, 0.02573659045386391, 0.023125858306892594, 0.03136893665722022, 0.02257724801946827, 0.02701733356455275, 0.01873701182764989, 0.02377258039129624, 0.02272793124993272, 0.022375199345613828, 0.026353932219301136, 0.023172326293004204, 0.028371290892227, 0.017502496792025403, 0.01625002270230288, 0.021297962721951086, 0.030356786435155617, 0.021221814472137602, 0.03631883989340733, 0.023156847907903247, 0.025119228252986188, 0.02129145054854578, 0.025464138561870412, 0.02200158885712092, 0.016573164632886085, 0.02585492682161965, 0.02683938845994313, 0.03891962123912397, 0.020926123845322303, 0.02473202218816907, 0.022187127916322456, 0.024299555338517076, 0.023043816791522426, 0.022815883043745662, 0.07277682145677751, 0.023582487942246655, 0.024206078225366696, 0.032445024352818916, 0.028702481334625454, 0.023219395839324558, 0.024267686957917298, 0.028398066493541277, 0.032724492652316424, 0.022970925189165763, 0.020867194303103, 0.03229407829687025, 0.031859354484900355, 0.024323322888175326, 0.029779019223547802, 0.025518703070775618, 0.017124741539194927, 0.026231142413043536, 0.026265619870532927, 0.02434473774972286, 0.03885726970813793, 0.027506676857462192, 0.03535399140275335, 0.02216926738558258, 0.02460668486930232, 0.029010032636163807, 0.027127921982184888, 0.029057124342586026, 0.03476433260100959, 0.027768047537334105, 0.0268046530805905, 0.027979782421953543, 0.033717821464008944, 0.029214169786536022, 0.019598186277449827, 0.02396839784826267, 0.03106495846025878, 0.025377363365458656, 0.03684295021168651, 0.022559372591801945, 0.03559533030808577, 0.016207430248924497, 0.025501288196512248, 0.02769388020607335, 0.03563954782903608, 0.028902229444285527, 0.02725421376948986, 0.026295073996711393, 0.023465544540977573, 0.03004435687380491, 0.02465591288991137, 0.021188778872228288, 0.039511870268763925, 0.025057666025307974, 0.022766172533655458, 0.024422036322326472, 0.026431542681631323, 0.02484140034877448, 0.02924830204902963, 0.03279754613824333, 0.027269891769700752, 0.02965106490262448, 0.030125501650336027, 0.018584376029751756, 0.02713480360637703, 0.02150157862544901, 0.02496504418709391, 0.03056075817049901, 0.02058886649484011, 0.022457216412379646, 0.026992094098973372, 0.025050925157394537, 0.030534522579074366, 0.01998108570311611, 0.028893704432085686, 0.02129600796704576, 0.018332473503099328, 0.0247793392975392, 0.02475648517646805, 0.019986426959932913, 0.02950383321603483, 0.02827643345657136, 0.0195779519887046, 0.0353758304235171, 0.03036668992153349, 0.026091423968312155, 0.020307481920155898, 0.030179038547357352, 0.024226517984979365, 0.019924058895653976, 0.026141892451616112, 0.03043410838117478, 0.02181637201541275, 0.030956730242208387, 0.02012237467918141, 0.02378175293404599, 0.03141246763896606, 0.027332096855963814, 0.020579023481606347, 0.02583308730034324, 0.02214676144837224, 0.033681230218837795, 0.02812873361242204, 0.035037697261602906, 0.0271747261544113, 0.03298749178851139, 0.01322573239791863, 0.01936764027279482, 0.022407465884899835, 0.023690596479341658, 0.032843083178842374, 0.029916986954135145, 0.03560680983049415, 0.029492507248400163, 0.017378314679431055, 0.034864204200967135, 0.024685663036051533, 0.032397701338849935, 0.02627473622882376, 0.0190462455991774, 0.01794339872748705, 0.03329307198562345, 0.02918444658932829, 0.029663694032325716, 0.018910334114991826, 0.025445975604954943, 0.02449128152115671, 0.01954950585354623, 0.0237326864179667, 0.02050757035243768, 0.023088382821168346, 0.03492171767399039, 0.03189482815744228, 0.028418172419545196, 0.03033343796533256, 0.026746095612793327, 0.025749868251152906, 0.032710209952405055, 0.027409792369651055, 0.026163217242302514, 0.025072035032284237, 0.026278422602648704, 0.031201889114741838, 0.029564992859741346, 0.0358103918451698, 0.028978738705941157, 0.02104528151116461, 0.02462781160997772, 0.028695492461076645, 0.026775624455855476, 0.02922797958367889, 0.026618271569511416, 0.02507681552193529, 0.022220428174848365, 0.03479282378267599, 0.02686271317492852, 0.02507762926747608, 0.020441153415263535, 0.022744097639024997, 0.025940777632569398, 0.022524323917954454, 0.027888281810258875, 0.0332793376854298, 0.02087022104053557, 0.02173959726034899, 0.02200978168344459, 0.029497450955652142, 0.027945147463857005, 0.013171081144358108, 0.03760709743634736, 0.02428644483842142, 0.03361256883043062, 0.028614784424540282, 0.01793031693873759, 0.021320025710264694, 0.02359911303830583, 0.02532232673940641, 0.015613883779449689, 0.01711744849936788, 0.03365369718330675, 0.02596552911925691, 0.033941248534967744, 0.03293014770968302, 0.03704749295160647, 0.03183881295068963, 0.028541830065853424, 0.0286222424982141, 0.023950441873594196, 0.02259112183673944, 0.031215332035528044, 0.035120970195976396, 0.02143191889305473, 0.03215217430032314, 0.0220992722491523, 0.03624406684142833, 0.019391785187638903, 0.033994287604732186, 0.03619525550354429, 0.0273423518027747, 0.03204973583840134, 0.021445899176336533, 0.027867321035905883, 0.026999760948263896, 0.0325736348681988, 0.02824806760930277, 0.022832864409260502, 0.02057702654748863, 0.03280264752043923, 0.031211611398070452, 0.029629625737299693, 0.023887000223842096, 0.03616669328687327, 0.02885500219770172, 0.02456032101848855, 0.031159457688303582, 0.03360947008555702, 0.026068735524495026, 0.02379684284227876, 0.026220596330765213, 0.028026389613394355, 0.035644704024538454, 0.02168776739563838, 0.025987030431726635, 0.03555752735437073, 0.03013946853671135, 0.026394439507890333, 0.030816496229999532, 0.022200853567242176, 0.011099681286260456, 0.03844077948769811, 0.03465026933654664, 0.028806578365920668, 0.02511037276196363, 0.023116437281825154, 0.02123709884485317, 0.018639551293530288, 0.022943900419515897, 0.027468322570683545, 0.032679833148114644, 0.03892770110431051, 0.021764935302381813, 0.027140701648980126, 0.017281401411713717, 0.0334928625141425, 0.0308423615948095, 0.028230561141270878, 0.024113179501936935, 0.02856832301810272, 0.02961794112403239, 0.026639661034801622, 0.02411721337657409, 0.03398819310517141, 0.02553090699631813, 0.028534733185260452, 0.023226982143379933, 0.018989852354485862, 0.03675294282385459, 0.031724819352674086, 0.025581449285200168, 0.02131348594327105, 0.017880643211768958, 0.03088085955817721, 0.027127494007654275, 0.02094194459380669, 0.020956360827894233, 0.01921134124949519, 0.021983893233919284, 0.024680726674613213, 0.025109624497597002, 0.018651688211997162, 0.020379056741332488, 0.02561594615208692, 0.026511414662889532, 0.02404992544412561, 0.02924594112637062, 0.023260229703035006, 0.028655673146938093, 0.024656397069834364, 0.03735562694281675, 0.027924042322757067, 0.027190156463725607, 0.020429415559998026, 0.03152344060604137, 0.018491606378503004, 0.02821353636041743, 0.027166475725530846, 0.026939626737604055, 0.021401940765117103, 0.020492722965229408, 0.026335048786396205, 0.02964807181384701, 0.024302955234028048, 0.021941768817768624, 0.03517892032621886, 0.02483402480370088, 0.026190290849676494, 0.02772765554781674, 0.02665573731334423, 0.03189567193116649, 0.03586131631825626, 0.02797446248327911, 0.022080203040978415, 0.026708948110499453, 0.0190104500161574, 0.021579463221897875, 0.035979265225441565, 0.027269609927803442, 0.02159208149296264, 0.03558193603392556, 0.021387692853840318, 0.02495801431773552, 0.03455328674295879, 0.02497478064214266, 0.027446151128965195, 0.016508301709887666, 0.02499694980126666, 0.020612423037196362, 0.02708181320800855, 0.021757315834871276, 0.02991832909913203, 0.02816676026111458, 0.025360003546224405, 0.029482518529193494, 0.027958446077996947, 0.03037422007807248, 0.0264359295720935, 0.027827366506531212, 0.02977465134753232, 0.034639681400538726, 0.016638501900765115, 0.0315961340812938, 0.02588200509378088, 0.028448346964641352, 0.027299656224306627, 0.023852485095643812, 0.022597904914310376, 0.027866407645400333, 0.023860614969951253, 0.032800691419397655, 0.016667859595596073, 0.025537510865697, 0.023474511939735217, 0.023609945045671696, 0.02852656532980398, 0.030710489207814107, 0.03632670671044188, 0.03226631799885767, 0.022908243301634594, 0.02337011126401877, 0.02566451637308441, 0.03319305901842481, 0.03110047042183664, 0.022146341258662786, 0.02604750988619288, 0.03250122251416138, 0.02929153037725061, 0.031651315775192174, 0.024826242854781556, 0.023500034928537375, 0.022730631908085858, 0.03051477346064336, 0.021835575896283488, 0.017813161608871822, 0.018372705123185607, 0.01943550461340936, 0.023244606087433485, 0.0250515870065404, 0.013307919101070003, 0.027202392387484686, 0.021656445361323585, 0.029446940020856238, 0.02384011127823564, 0.035967517234976314, 0.02340141187328322, 0.032337373514689134, 0.02266424376599352, 0.01979098176837345, 0.019651723330301234, 0.024554664024634756, 0.026006500166415272, 0.023382941102862348, 0.026499553688207667, 0.021143763681729162, 0.03526358706768349, 0.030706248058884777, 0.026516398651521226, 0.02984913015329565, 0.030657665441068238, 0.028162668788841723, 0.03658010452663986, 0.032580599878850806, 0.031028799844695962, 0.01830273956490461, 0.023993113638642267, 0.030484227524480365, 0.018605396044643695, 0.019263390577297215, 0.02868699671776305, 0.02836479497352458, 0.028315175155024033, 0.03352957227473148, 0.03246605674030353, 0.024736342377769553, 0.03225312994477184, 0.022892602224846632, 0.022891935481604585, 0.021236366455612873, 0.02428322793422165, 0.02830776331277536, 0.014363086045765293, 0.023842551733594074, 0.022213286286242147, 0.027583997128240306, 0.021993603386474478, 0.02209020502522909, 0.028362878966302574, 0.025734731211639487, 0.026072187971535266, 0.02937181624039998, 0.022860042775279844, 0.022253085239448384, 0.030606390974704807, 0.026508794996389785, 0.02368546800989265, 0.026941018908398225, 0.02699204288459358, 0.02258463850124165, 0.02972298685923097, 0.01932897333907168, 0.03000277365321953, 0.032403084897342, 0.028811248861174303, 0.019914365433822134, 0.02961564072243294, 0.024944346454101575, 0.026890132397370144, 0.014424035203377011, 0.034646220311706014, 0.021476016895470046, 0.023735628287828617, 0.03294578793455598, 0.02040216482297958, 0.02221327810501482, 0.027103546914784116, 0.025939470448988304, 0.027267810938672893, 0.018049086825660157, 0.030703221337800783, 0.022954656496609584, 0.0346576545264341, 0.02009276652447055, 0.024077363406363406, 0.030029270847369276, 0.02892468182720931, 0.020692375754759504, 0.029329502332518374, 0.028584985218529743, 0.03035590965310804, 0.025168576801704902, 0.023598385992855287, 0.02955285926398036, 0.026810887759025466, 0.022424625156511436, 0.01873488445756288, 0.029095039074418703, 0.02563319312317703, 0.03202340987471057, 0.022915559014846244, 0.021730558156169207, 0.015964838794431387, 0.03442335209740269, 0.013661999417132182, 0.0364507320499746, 0.023305186538217483, 0.024654330632094844, 0.02538497108880676, 0.02376581314889279, 0.024032902612445946, 0.027889418047139854, 0.01938065068905542, 0.033882882610103124, 0.029666285014477774, 0.014651021585230085, 0.028891148563742024, 0.02313388724311332]}],\n",
              "                        {\"template\": {\"data\": {\"bar\": [{\"error_x\": {\"color\": \"#2a3f5f\"}, \"error_y\": {\"color\": \"#2a3f5f\"}, \"marker\": {\"line\": {\"color\": \"#E5ECF6\", \"width\": 0.5}}, \"type\": \"bar\"}], \"barpolar\": [{\"marker\": {\"line\": {\"color\": \"#E5ECF6\", \"width\": 0.5}}, \"type\": \"barpolar\"}], \"carpet\": [{\"aaxis\": {\"endlinecolor\": \"#2a3f5f\", \"gridcolor\": \"white\", \"linecolor\": \"white\", \"minorgridcolor\": \"white\", \"startlinecolor\": \"#2a3f5f\"}, \"baxis\": {\"endlinecolor\": \"#2a3f5f\", \"gridcolor\": \"white\", \"linecolor\": \"white\", \"minorgridcolor\": \"white\", \"startlinecolor\": \"#2a3f5f\"}, \"type\": \"carpet\"}], \"choropleth\": [{\"colorbar\": {\"outlinewidth\": 0, \"ticks\": \"\"}, \"type\": \"choropleth\"}], \"contour\": [{\"colorbar\": {\"outlinewidth\": 0, \"ticks\": \"\"}, \"colorscale\": [[0.0, \"#0d0887\"], [0.1111111111111111, \"#46039f\"], [0.2222222222222222, \"#7201a8\"], [0.3333333333333333, \"#9c179e\"], [0.4444444444444444, \"#bd3786\"], [0.5555555555555556, \"#d8576b\"], [0.6666666666666666, \"#ed7953\"], [0.7777777777777778, \"#fb9f3a\"], [0.8888888888888888, \"#fdca26\"], [1.0, \"#f0f921\"]], \"type\": \"contour\"}], \"contourcarpet\": [{\"colorbar\": {\"outlinewidth\": 0, \"ticks\": \"\"}, \"type\": \"contourcarpet\"}], \"heatmap\": [{\"colorbar\": {\"outlinewidth\": 0, \"ticks\": \"\"}, \"colorscale\": [[0.0, \"#0d0887\"], [0.1111111111111111, \"#46039f\"], [0.2222222222222222, \"#7201a8\"], [0.3333333333333333, \"#9c179e\"], [0.4444444444444444, \"#bd3786\"], [0.5555555555555556, \"#d8576b\"], [0.6666666666666666, \"#ed7953\"], [0.7777777777777778, \"#fb9f3a\"], [0.8888888888888888, \"#fdca26\"], [1.0, \"#f0f921\"]], \"type\": \"heatmap\"}], \"heatmapgl\": [{\"colorbar\": {\"outlinewidth\": 0, \"ticks\": \"\"}, \"colorscale\": [[0.0, \"#0d0887\"], [0.1111111111111111, \"#46039f\"], [0.2222222222222222, \"#7201a8\"], [0.3333333333333333, \"#9c179e\"], [0.4444444444444444, \"#bd3786\"], [0.5555555555555556, \"#d8576b\"], [0.6666666666666666, \"#ed7953\"], [0.7777777777777778, \"#fb9f3a\"], [0.8888888888888888, \"#fdca26\"], [1.0, \"#f0f921\"]], \"type\": \"heatmapgl\"}], \"histogram\": [{\"marker\": {\"colorbar\": {\"outlinewidth\": 0, \"ticks\": \"\"}}, \"type\": \"histogram\"}], \"histogram2d\": [{\"colorbar\": {\"outlinewidth\": 0, \"ticks\": \"\"}, \"colorscale\": [[0.0, \"#0d0887\"], [0.1111111111111111, \"#46039f\"], [0.2222222222222222, \"#7201a8\"], [0.3333333333333333, \"#9c179e\"], [0.4444444444444444, \"#bd3786\"], [0.5555555555555556, \"#d8576b\"], [0.6666666666666666, \"#ed7953\"], [0.7777777777777778, \"#fb9f3a\"], [0.8888888888888888, \"#fdca26\"], [1.0, \"#f0f921\"]], \"type\": \"histogram2d\"}], \"histogram2dcontour\": [{\"colorbar\": {\"outlinewidth\": 0, \"ticks\": \"\"}, \"colorscale\": [[0.0, \"#0d0887\"], [0.1111111111111111, \"#46039f\"], [0.2222222222222222, \"#7201a8\"], [0.3333333333333333, \"#9c179e\"], [0.4444444444444444, \"#bd3786\"], [0.5555555555555556, \"#d8576b\"], [0.6666666666666666, \"#ed7953\"], [0.7777777777777778, \"#fb9f3a\"], [0.8888888888888888, \"#fdca26\"], [1.0, \"#f0f921\"]], \"type\": \"histogram2dcontour\"}], \"mesh3d\": [{\"colorbar\": {\"outlinewidth\": 0, \"ticks\": \"\"}, \"type\": \"mesh3d\"}], \"parcoords\": [{\"line\": {\"colorbar\": {\"outlinewidth\": 0, \"ticks\": \"\"}}, \"type\": \"parcoords\"}], \"pie\": [{\"automargin\": true, \"type\": \"pie\"}], \"scatter\": [{\"marker\": {\"colorbar\": {\"outlinewidth\": 0, \"ticks\": \"\"}}, \"type\": \"scatter\"}], \"scatter3d\": [{\"line\": {\"colorbar\": {\"outlinewidth\": 0, \"ticks\": \"\"}}, \"marker\": {\"colorbar\": {\"outlinewidth\": 0, \"ticks\": \"\"}}, \"type\": \"scatter3d\"}], \"scattercarpet\": [{\"marker\": {\"colorbar\": {\"outlinewidth\": 0, \"ticks\": \"\"}}, \"type\": \"scattercarpet\"}], \"scattergeo\": [{\"marker\": {\"colorbar\": {\"outlinewidth\": 0, \"ticks\": \"\"}}, \"type\": \"scattergeo\"}], \"scattergl\": [{\"marker\": {\"colorbar\": {\"outlinewidth\": 0, \"ticks\": \"\"}}, \"type\": \"scattergl\"}], \"scattermapbox\": [{\"marker\": {\"colorbar\": {\"outlinewidth\": 0, \"ticks\": \"\"}}, \"type\": \"scattermapbox\"}], \"scatterpolar\": [{\"marker\": {\"colorbar\": {\"outlinewidth\": 0, \"ticks\": \"\"}}, \"type\": \"scatterpolar\"}], \"scatterpolargl\": [{\"marker\": {\"colorbar\": {\"outlinewidth\": 0, \"ticks\": \"\"}}, \"type\": \"scatterpolargl\"}], \"scatterternary\": [{\"marker\": {\"colorbar\": {\"outlinewidth\": 0, \"ticks\": \"\"}}, \"type\": \"scatterternary\"}], \"surface\": [{\"colorbar\": {\"outlinewidth\": 0, \"ticks\": \"\"}, \"colorscale\": [[0.0, \"#0d0887\"], [0.1111111111111111, \"#46039f\"], [0.2222222222222222, \"#7201a8\"], [0.3333333333333333, \"#9c179e\"], [0.4444444444444444, \"#bd3786\"], [0.5555555555555556, \"#d8576b\"], [0.6666666666666666, \"#ed7953\"], [0.7777777777777778, \"#fb9f3a\"], [0.8888888888888888, \"#fdca26\"], [1.0, \"#f0f921\"]], \"type\": \"surface\"}], \"table\": [{\"cells\": {\"fill\": {\"color\": \"#EBF0F8\"}, \"line\": {\"color\": \"white\"}}, \"header\": {\"fill\": {\"color\": \"#C8D4E3\"}, \"line\": {\"color\": \"white\"}}, \"type\": \"table\"}]}, \"layout\": {\"annotationdefaults\": {\"arrowcolor\": \"#2a3f5f\", \"arrowhead\": 0, \"arrowwidth\": 1}, \"coloraxis\": {\"colorbar\": {\"outlinewidth\": 0, \"ticks\": \"\"}}, \"colorscale\": {\"diverging\": [[0, \"#8e0152\"], [0.1, \"#c51b7d\"], [0.2, \"#de77ae\"], [0.3, \"#f1b6da\"], [0.4, \"#fde0ef\"], [0.5, \"#f7f7f7\"], [0.6, \"#e6f5d0\"], [0.7, \"#b8e186\"], [0.8, \"#7fbc41\"], [0.9, \"#4d9221\"], [1, \"#276419\"]], \"sequential\": [[0.0, \"#0d0887\"], [0.1111111111111111, \"#46039f\"], [0.2222222222222222, \"#7201a8\"], [0.3333333333333333, \"#9c179e\"], [0.4444444444444444, \"#bd3786\"], [0.5555555555555556, \"#d8576b\"], [0.6666666666666666, \"#ed7953\"], [0.7777777777777778, \"#fb9f3a\"], [0.8888888888888888, \"#fdca26\"], [1.0, \"#f0f921\"]], \"sequentialminus\": [[0.0, \"#0d0887\"], [0.1111111111111111, \"#46039f\"], [0.2222222222222222, \"#7201a8\"], [0.3333333333333333, \"#9c179e\"], [0.4444444444444444, \"#bd3786\"], [0.5555555555555556, \"#d8576b\"], [0.6666666666666666, \"#ed7953\"], [0.7777777777777778, \"#fb9f3a\"], [0.8888888888888888, \"#fdca26\"], [1.0, \"#f0f921\"]]}, \"colorway\": [\"#636efa\", \"#EF553B\", \"#00cc96\", \"#ab63fa\", \"#FFA15A\", \"#19d3f3\", \"#FF6692\", \"#B6E880\", \"#FF97FF\", \"#FECB52\"], \"font\": {\"color\": \"#2a3f5f\"}, \"geo\": {\"bgcolor\": \"white\", \"lakecolor\": \"white\", \"landcolor\": \"#E5ECF6\", \"showlakes\": true, \"showland\": true, \"subunitcolor\": \"white\"}, \"hoverlabel\": {\"align\": \"left\"}, \"hovermode\": \"closest\", \"mapbox\": {\"style\": \"light\"}, \"paper_bgcolor\": \"white\", \"plot_bgcolor\": \"#E5ECF6\", \"polar\": {\"angularaxis\": {\"gridcolor\": \"white\", \"linecolor\": \"white\", \"ticks\": \"\"}, \"bgcolor\": \"#E5ECF6\", \"radialaxis\": {\"gridcolor\": \"white\", \"linecolor\": \"white\", \"ticks\": \"\"}}, \"scene\": {\"xaxis\": {\"backgroundcolor\": \"#E5ECF6\", \"gridcolor\": \"white\", \"gridwidth\": 2, \"linecolor\": \"white\", \"showbackground\": true, \"ticks\": \"\", \"zerolinecolor\": \"white\"}, \"yaxis\": {\"backgroundcolor\": \"#E5ECF6\", \"gridcolor\": \"white\", \"gridwidth\": 2, \"linecolor\": \"white\", \"showbackground\": true, \"ticks\": \"\", \"zerolinecolor\": \"white\"}, \"zaxis\": {\"backgroundcolor\": \"#E5ECF6\", \"gridcolor\": \"white\", \"gridwidth\": 2, \"linecolor\": \"white\", \"showbackground\": true, \"ticks\": \"\", \"zerolinecolor\": \"white\"}}, \"shapedefaults\": {\"line\": {\"color\": \"#2a3f5f\"}}, \"ternary\": {\"aaxis\": {\"gridcolor\": \"white\", \"linecolor\": \"white\", \"ticks\": \"\"}, \"baxis\": {\"gridcolor\": \"white\", \"linecolor\": \"white\", \"ticks\": \"\"}, \"bgcolor\": \"#E5ECF6\", \"caxis\": {\"gridcolor\": \"white\", \"linecolor\": \"white\", \"ticks\": \"\"}}, \"title\": {\"x\": 0.05}, \"xaxis\": {\"automargin\": true, \"gridcolor\": \"white\", \"linecolor\": \"white\", \"ticks\": \"\", \"title\": {\"standoff\": 15}, \"zerolinecolor\": \"white\", \"zerolinewidth\": 2}, \"yaxis\": {\"automargin\": true, \"gridcolor\": \"white\", \"linecolor\": \"white\", \"ticks\": \"\", \"title\": {\"standoff\": 15}, \"zerolinecolor\": \"white\", \"zerolinewidth\": 2}}}, \"title\": {\"text\": \"Valores reais e previstos das 20 maiores correla\\u00e7\\u00f5es de mortalidade de COVID-19\"}},\n",
              "                        {\"responsive\": true}\n",
              "                    ).then(function(){\n",
              "                            \n",
              "var gd = document.getElementById('00138c96-a68d-48d8-9636-b59fb7c8e615');\n",
              "var x = new MutationObserver(function (mutations, observer) {{\n",
              "        var display = window.getComputedStyle(gd).display;\n",
              "        if (!display || display === 'none') {{\n",
              "            console.log([gd, 'removed!']);\n",
              "            Plotly.purge(gd);\n",
              "            observer.disconnect();\n",
              "        }}\n",
              "}});\n",
              "\n",
              "// Listen for the removal of the full notebook cells\n",
              "var notebookContainer = gd.closest('#notebook-container');\n",
              "if (notebookContainer) {{\n",
              "    x.observe(notebookContainer, {childList: true});\n",
              "}}\n",
              "\n",
              "// Listen for the clearing of the current output cell\n",
              "var outputEl = gd.closest('.output');\n",
              "if (outputEl) {{\n",
              "    x.observe(outputEl, {childList: true});\n",
              "}}\n",
              "\n",
              "                        })\n",
              "                };\n",
              "                \n",
              "            </script>\n",
              "        </div>\n",
              "</body>\n",
              "</html>"
            ]
          },
          "metadata": {
            "tags": []
          }
        }
      ]
    },
    {
      "cell_type": "code",
      "metadata": {
        "id": "p36mO72qnbpN",
        "colab": {
          "base_uri": "https://localhost:8080/",
          "height": 401
        },
        "outputId": "add9056c-6cef-46e5-a1fa-6819eb95b4c1"
      },
      "source": [
        "df_corr_pos_neg = pd.DataFrame ({'Real': ytest_corr_pos_neg, 'Previsto': pred_corr_pos_neg}) \n",
        "sns.lmplot(x=\"Real\", y=\"Previsto\", data=df_corr_pos_neg)"
      ],
      "execution_count": 38,
      "outputs": [
        {
          "output_type": "execute_result",
          "data": {
            "text/plain": [
              "<seaborn.axisgrid.FacetGrid at 0x7f8ad86ec990>"
            ]
          },
          "metadata": {
            "tags": []
          },
          "execution_count": 38
        },
        {
          "output_type": "display_data",
          "data": {
            "image/png": "[encoded data removed]",
            "text/plain": [
              "<Figure size 360x360 with 1 Axes>"
            ]
          },
          "metadata": {
            "tags": [],
            "needs_background": "light"
          }
        }
      ]
    }
  ]
}