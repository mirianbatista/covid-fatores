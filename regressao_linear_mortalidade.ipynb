{
  "nbformat": 4,
  "nbformat_minor": 0,
  "metadata": {
    "colab": {
      "name": "regressao-linear-mortalidade.ipynb",
      "provenance": [],
      "collapsed_sections": [],
      "authorship_tag": "ABX9TyODJi32Ro8tnO8aMzwFKL0j",
      "include_colab_link": true
    },
    "kernelspec": {
      "name": "python3",
      "display_name": "Python 3"
    }
  },
  "cells": [
    {
      "cell_type": "markdown",
      "metadata": {
        "id": "view-in-github",
        "colab_type": "text"
      },
      "source": [
        "<a href=\"https://colab.research.google.com/github/mirianbatista/covid-fatores/blob/master/regressao_linear_mortalidade.ipynb\" target=\"_parent\"><img src=\"https://colab.research.google.com/assets/colab-badge.svg\" alt=\"Open In Colab\"/></a>"
      ]
    },
    {
      "cell_type": "code",
      "metadata": {
        "id": "TMEGspqnC8ek"
      },
      "source": [
        "import pandas as pd\n",
        "import requests\n",
        "import io\n",
        "import gzip\n",
        "from sklearn.model_selection import train_test_split\n",
        "from sklearn.linear_model import LinearRegression\n",
        "from sklearn.metrics import mean_squared_error, r2_score\n",
        "import plotly.graph_objects as go\n",
        "import seaborn as sns"
      ],
      "execution_count": null,
      "outputs": []
    },
    {
      "cell_type": "code",
      "metadata": {
        "id": "Tip46VmsDw2b"
      },
      "source": [
        "indicadores = 'ANO', 'Codmun7', 'UF', 'Município', 'ESPVIDA', 'FECTOT', 'MORT1', 'SOBRE60', 'T_ENV', 'E_ANOSESTUDO', 'T_ANALF11A14', 'T_ANALF25M', 'T_ATRASO_0_BASICO', 'T_ATRASO_2_BASICO', 'T_FLPRE', 'T_FLSUPER', 'T_FREQSUPER1517', 'T_SUPER25M', 'T_MED25M', 'GINI', 'PIND', 'PINDCRI', 'PMPOB', 'PMPOBCRI', 'RDPC', 'CPR', 'EMP', 'P_AGRO', 'P_COM', 'P_CONSTR', 'P_EXTR', 'P_FORMAL', 'P_FUND', 'P_MED', 'P_SERV', 'P_SIUP', 'P_SUPER', 'T_DES2529', 'TRABCC', 'TRABPUB', 'TRABSC', 'T_AGUA', 'T_BANAGUA', 'T_DENS', 'T_LIXO', 'T_LUZ', 'AGUA_ESGOTO', 'PAREDE', 'T_CRIFUNDIN_TODOS', 'T_FORA4A5', 'T_FORA6A14', 'T_FUNDIN_TODOS', 'T_FUNDIN_TODOS_MMEIO', 'T_FUNDIN18MINF', 'T_M10A14CF', 'T_M15A17CF', 'T_MULCHEFEFIF014', 'T_NESTUDA_NTRAB_MMEIO', 'T_OCUPDESLOC_1', 'T_RMAXIDOSO', 'T_SLUZ', 'IDHM', 'IDHM_E', 'IDHM_L', 'IDHM_R' \n",
        "idhm = pd.read_excel('https://github.com/mirianbatista/idhm-pb/blob/master/atlas2013_dadosbrutos_pt.xlsx?raw=true', sheet_name=1, usecols = indicadores, dtype = {'UF': str, 'Codmun7':str}) \n",
        "#idhmpb = idhm.groupby(idhm['UF']).get_group('25').loc[(idhm['ANO'] == 2010)] "
      ],
      "execution_count": null,
      "outputs": []
    },
    {
      "cell_type": "code",
      "metadata": {
        "id": "sQZcCJkbD6Sx",
        "colab": {
          "base_uri": "https://localhost:8080/",
          "height": 406
        },
        "outputId": "a6cae0df-a405-484d-a6c7-be9aec85e707"
      },
      "source": [
        "url = \"https://data.brasil.io/dataset/covid19/caso_full.csv.gz\"\n",
        "cols = 'city','city_ibge_code','date','estimated_population_2019','last_available_death_rate'\n",
        "response = requests.get(url)\n",
        "bytes_io = io.BytesIO(response.content)\n",
        "with gzip.open(bytes_io, 'rt') as read_file:\n",
        "    covid = pd.read_csv(read_file, usecols=cols, parse_dates=[\"date\"], dtype={\"city_ibge_code\": str})\n",
        "covid = covid[covid.date == max(covid.date)]\n",
        "covid"
      ],
      "execution_count": null,
      "outputs": [
        {
          "output_type": "execute_result",
          "data": {
            "text/html": [
              "<div>\n",
              "<style scoped>\n",
              "    .dataframe tbody tr th:only-of-type {\n",
              "        vertical-align: middle;\n",
              "    }\n",
              "\n",
              "    .dataframe tbody tr th {\n",
              "        vertical-align: top;\n",
              "    }\n",
              "\n",
              "    .dataframe thead th {\n",
              "        text-align: right;\n",
              "    }\n",
              "</style>\n",
              "<table border=\"1\" class=\"dataframe\">\n",
              "  <thead>\n",
              "    <tr style=\"text-align: right;\">\n",
              "      <th></th>\n",
              "      <th>city</th>\n",
              "      <th>city_ibge_code</th>\n",
              "      <th>date</th>\n",
              "      <th>estimated_population_2019</th>\n",
              "      <th>last_available_death_rate</th>\n",
              "    </tr>\n",
              "  </thead>\n",
              "  <tbody>\n",
              "    <tr>\n",
              "      <th>8560</th>\n",
              "      <td>Acrelândia</td>\n",
              "      <td>1200013</td>\n",
              "      <td>2021-05-02</td>\n",
              "      <td>15256.0</td>\n",
              "      <td>0.0180</td>\n",
              "    </tr>\n",
              "    <tr>\n",
              "      <th>8561</th>\n",
              "      <td>Assis Brasil</td>\n",
              "      <td>1200054</td>\n",
              "      <td>2021-05-02</td>\n",
              "      <td>7417.0</td>\n",
              "      <td>0.0138</td>\n",
              "    </tr>\n",
              "    <tr>\n",
              "      <th>8562</th>\n",
              "      <td>Brasiléia</td>\n",
              "      <td>1200104</td>\n",
              "      <td>2021-05-02</td>\n",
              "      <td>26278.0</td>\n",
              "      <td>0.0142</td>\n",
              "    </tr>\n",
              "    <tr>\n",
              "      <th>8563</th>\n",
              "      <td>Bujari</td>\n",
              "      <td>1200138</td>\n",
              "      <td>2021-05-02</td>\n",
              "      <td>10266.0</td>\n",
              "      <td>0.0122</td>\n",
              "    </tr>\n",
              "    <tr>\n",
              "      <th>8564</th>\n",
              "      <td>Capixaba</td>\n",
              "      <td>1200179</td>\n",
              "      <td>2021-05-02</td>\n",
              "      <td>11733.0</td>\n",
              "      <td>0.0264</td>\n",
              "    </tr>\n",
              "    <tr>\n",
              "      <th>...</th>\n",
              "      <td>...</td>\n",
              "      <td>...</td>\n",
              "      <td>...</td>\n",
              "      <td>...</td>\n",
              "      <td>...</td>\n",
              "    </tr>\n",
              "    <tr>\n",
              "      <th>2005979</th>\n",
              "      <td>Tupirama</td>\n",
              "      <td>1721257</td>\n",
              "      <td>2021-05-02</td>\n",
              "      <td>1891.0</td>\n",
              "      <td>0.0144</td>\n",
              "    </tr>\n",
              "    <tr>\n",
              "      <th>2005980</th>\n",
              "      <td>Tupiratins</td>\n",
              "      <td>1721307</td>\n",
              "      <td>2021-05-02</td>\n",
              "      <td>2671.0</td>\n",
              "      <td>0.0156</td>\n",
              "    </tr>\n",
              "    <tr>\n",
              "      <th>2005981</th>\n",
              "      <td>Wanderlândia</td>\n",
              "      <td>1722081</td>\n",
              "      <td>2021-05-02</td>\n",
              "      <td>11683.0</td>\n",
              "      <td>0.0140</td>\n",
              "    </tr>\n",
              "    <tr>\n",
              "      <th>2005982</th>\n",
              "      <td>Xambioá</td>\n",
              "      <td>1722107</td>\n",
              "      <td>2021-05-02</td>\n",
              "      <td>11540.0</td>\n",
              "      <td>0.0125</td>\n",
              "    </tr>\n",
              "    <tr>\n",
              "      <th>2005983</th>\n",
              "      <td>NaN</td>\n",
              "      <td>17</td>\n",
              "      <td>2021-05-02</td>\n",
              "      <td>1572866.0</td>\n",
              "      <td>0.0160</td>\n",
              "    </tr>\n",
              "  </tbody>\n",
              "</table>\n",
              "<p>5616 rows × 5 columns</p>\n",
              "</div>"
            ],
            "text/plain": [
              "                 city  ... last_available_death_rate\n",
              "8560       Acrelândia  ...                    0.0180\n",
              "8561     Assis Brasil  ...                    0.0138\n",
              "8562        Brasiléia  ...                    0.0142\n",
              "8563           Bujari  ...                    0.0122\n",
              "8564         Capixaba  ...                    0.0264\n",
              "...               ...  ...                       ...\n",
              "2005979      Tupirama  ...                    0.0144\n",
              "2005980    Tupiratins  ...                    0.0156\n",
              "2005981  Wanderlândia  ...                    0.0140\n",
              "2005982       Xambioá  ...                    0.0125\n",
              "2005983           NaN  ...                    0.0160\n",
              "\n",
              "[5616 rows x 5 columns]"
            ]
          },
          "metadata": {
            "tags": []
          },
          "execution_count": 16
        }
      ]
    },
    {
      "cell_type": "code",
      "metadata": {
        "colab": {
          "base_uri": "https://localhost:8080/",
          "height": 301
        },
        "id": "7oIkN1AL4qrW",
        "outputId": "2133199f-522b-42d1-d927-90b2c0dfd530"
      },
      "source": [
        "idhmcovid = pd.merge(idhm, covid, left_on=\"Codmun7\", right_on=\"city_ibge_code\", how=\"left\") \n",
        "idhmcovid = idhmcovid.loc[(idhmcovid['estimated_population_2019'] > 100000) & (idhmcovid['ANO'] == 2010)].dropna()\n",
        "idhmcovid.head()"
      ],
      "execution_count": null,
      "outputs": [
        {
          "output_type": "execute_result",
          "data": {
            "text/html": [
              "<div>\n",
              "<style scoped>\n",
              "    .dataframe tbody tr th:only-of-type {\n",
              "        vertical-align: middle;\n",
              "    }\n",
              "\n",
              "    .dataframe tbody tr th {\n",
              "        vertical-align: top;\n",
              "    }\n",
              "\n",
              "    .dataframe thead th {\n",
              "        text-align: right;\n",
              "    }\n",
              "</style>\n",
              "<table border=\"1\" class=\"dataframe\">\n",
              "  <thead>\n",
              "    <tr style=\"text-align: right;\">\n",
              "      <th></th>\n",
              "      <th>ANO</th>\n",
              "      <th>UF</th>\n",
              "      <th>Codmun7</th>\n",
              "      <th>Município</th>\n",
              "      <th>ESPVIDA</th>\n",
              "      <th>FECTOT</th>\n",
              "      <th>MORT1</th>\n",
              "      <th>SOBRE60</th>\n",
              "      <th>T_ENV</th>\n",
              "      <th>E_ANOSESTUDO</th>\n",
              "      <th>T_ANALF11A14</th>\n",
              "      <th>T_ANALF25M</th>\n",
              "      <th>T_ATRASO_0_BASICO</th>\n",
              "      <th>T_ATRASO_2_BASICO</th>\n",
              "      <th>T_FLPRE</th>\n",
              "      <th>T_FLSUPER</th>\n",
              "      <th>T_FREQSUPER1517</th>\n",
              "      <th>T_MED25M</th>\n",
              "      <th>T_SUPER25M</th>\n",
              "      <th>GINI</th>\n",
              "      <th>PIND</th>\n",
              "      <th>PINDCRI</th>\n",
              "      <th>PMPOB</th>\n",
              "      <th>PMPOBCRI</th>\n",
              "      <th>RDPC</th>\n",
              "      <th>CPR</th>\n",
              "      <th>EMP</th>\n",
              "      <th>P_AGRO</th>\n",
              "      <th>P_COM</th>\n",
              "      <th>P_CONSTR</th>\n",
              "      <th>P_EXTR</th>\n",
              "      <th>P_FORMAL</th>\n",
              "      <th>P_FUND</th>\n",
              "      <th>P_MED</th>\n",
              "      <th>P_SERV</th>\n",
              "      <th>P_SIUP</th>\n",
              "      <th>P_SUPER</th>\n",
              "      <th>T_DES2529</th>\n",
              "      <th>TRABCC</th>\n",
              "      <th>TRABPUB</th>\n",
              "      <th>TRABSC</th>\n",
              "      <th>T_AGUA</th>\n",
              "      <th>T_BANAGUA</th>\n",
              "      <th>T_DENS</th>\n",
              "      <th>T_LIXO</th>\n",
              "      <th>T_LUZ</th>\n",
              "      <th>AGUA_ESGOTO</th>\n",
              "      <th>PAREDE</th>\n",
              "      <th>T_CRIFUNDIN_TODOS</th>\n",
              "      <th>T_FORA4A5</th>\n",
              "      <th>T_FORA6A14</th>\n",
              "      <th>T_FUNDIN_TODOS</th>\n",
              "      <th>T_FUNDIN_TODOS_MMEIO</th>\n",
              "      <th>T_FUNDIN18MINF</th>\n",
              "      <th>T_M10A14CF</th>\n",
              "      <th>T_M15A17CF</th>\n",
              "      <th>T_MULCHEFEFIF014</th>\n",
              "      <th>T_NESTUDA_NTRAB_MMEIO</th>\n",
              "      <th>T_OCUPDESLOC_1</th>\n",
              "      <th>T_RMAXIDOSO</th>\n",
              "      <th>T_SLUZ</th>\n",
              "      <th>IDHM</th>\n",
              "      <th>IDHM_E</th>\n",
              "      <th>IDHM_L</th>\n",
              "      <th>IDHM_R</th>\n",
              "      <th>city</th>\n",
              "      <th>city_ibge_code</th>\n",
              "      <th>date</th>\n",
              "      <th>estimated_population_2019</th>\n",
              "      <th>last_available_death_rate</th>\n",
              "    </tr>\n",
              "  </thead>\n",
              "  <tbody>\n",
              "    <tr>\n",
              "      <th>11131</th>\n",
              "      <td>2010</td>\n",
              "      <td>11</td>\n",
              "      <td>1100023</td>\n",
              "      <td>ARIQUEMES</td>\n",
              "      <td>73.36</td>\n",
              "      <td>1.91</td>\n",
              "      <td>19.20</td>\n",
              "      <td>87.69</td>\n",
              "      <td>4.36</td>\n",
              "      <td>9.18</td>\n",
              "      <td>1.55</td>\n",
              "      <td>10.48</td>\n",
              "      <td>58.43</td>\n",
              "      <td>19.35</td>\n",
              "      <td>40.96</td>\n",
              "      <td>12.91</td>\n",
              "      <td>0.18</td>\n",
              "      <td>31.45</td>\n",
              "      <td>8.13</td>\n",
              "      <td>0.53</td>\n",
              "      <td>4.36</td>\n",
              "      <td>6.65</td>\n",
              "      <td>11.54</td>\n",
              "      <td>18.76</td>\n",
              "      <td>689.95</td>\n",
              "      <td>27.66</td>\n",
              "      <td>2.30</td>\n",
              "      <td>14.97</td>\n",
              "      <td>17.99</td>\n",
              "      <td>8.68</td>\n",
              "      <td>3.32</td>\n",
              "      <td>52.81</td>\n",
              "      <td>57.26</td>\n",
              "      <td>39.76</td>\n",
              "      <td>40.06</td>\n",
              "      <td>0.77</td>\n",
              "      <td>9.29</td>\n",
              "      <td>5.85</td>\n",
              "      <td>41.15</td>\n",
              "      <td>6.30</td>\n",
              "      <td>19.21</td>\n",
              "      <td>98.54</td>\n",
              "      <td>85.35</td>\n",
              "      <td>27.15</td>\n",
              "      <td>96.72</td>\n",
              "      <td>98.58</td>\n",
              "      <td>11.40</td>\n",
              "      <td>5.62</td>\n",
              "      <td>29.58</td>\n",
              "      <td>44.66</td>\n",
              "      <td>2.79</td>\n",
              "      <td>26.59</td>\n",
              "      <td>12.27</td>\n",
              "      <td>37.81</td>\n",
              "      <td>0.00</td>\n",
              "      <td>9.10</td>\n",
              "      <td>18.07</td>\n",
              "      <td>9.67</td>\n",
              "      <td>0.16</td>\n",
              "      <td>1.40</td>\n",
              "      <td>1.42</td>\n",
              "      <td>0.702</td>\n",
              "      <td>0.600</td>\n",
              "      <td>0.806</td>\n",
              "      <td>0.716</td>\n",
              "      <td>Ariquemes</td>\n",
              "      <td>1100023</td>\n",
              "      <td>2021-05-02</td>\n",
              "      <td>107863.0</td>\n",
              "      <td>0.0215</td>\n",
              "    </tr>\n",
              "    <tr>\n",
              "      <th>11141</th>\n",
              "      <td>2010</td>\n",
              "      <td>11</td>\n",
              "      <td>1100122</td>\n",
              "      <td>JI-PARANÁ</td>\n",
              "      <td>73.60</td>\n",
              "      <td>2.26</td>\n",
              "      <td>16.20</td>\n",
              "      <td>87.67</td>\n",
              "      <td>5.05</td>\n",
              "      <td>9.95</td>\n",
              "      <td>1.35</td>\n",
              "      <td>10.18</td>\n",
              "      <td>64.76</td>\n",
              "      <td>16.43</td>\n",
              "      <td>42.60</td>\n",
              "      <td>12.65</td>\n",
              "      <td>1.22</td>\n",
              "      <td>34.01</td>\n",
              "      <td>8.73</td>\n",
              "      <td>0.53</td>\n",
              "      <td>2.67</td>\n",
              "      <td>4.34</td>\n",
              "      <td>8.56</td>\n",
              "      <td>14.72</td>\n",
              "      <td>743.35</td>\n",
              "      <td>22.12</td>\n",
              "      <td>2.38</td>\n",
              "      <td>12.17</td>\n",
              "      <td>22.98</td>\n",
              "      <td>8.49</td>\n",
              "      <td>0.19</td>\n",
              "      <td>59.07</td>\n",
              "      <td>59.71</td>\n",
              "      <td>42.09</td>\n",
              "      <td>43.14</td>\n",
              "      <td>0.68</td>\n",
              "      <td>9.88</td>\n",
              "      <td>6.54</td>\n",
              "      <td>45.57</td>\n",
              "      <td>7.09</td>\n",
              "      <td>17.60</td>\n",
              "      <td>97.81</td>\n",
              "      <td>89.31</td>\n",
              "      <td>23.30</td>\n",
              "      <td>95.36</td>\n",
              "      <td>99.35</td>\n",
              "      <td>5.87</td>\n",
              "      <td>3.48</td>\n",
              "      <td>29.43</td>\n",
              "      <td>42.81</td>\n",
              "      <td>3.44</td>\n",
              "      <td>25.07</td>\n",
              "      <td>11.28</td>\n",
              "      <td>35.01</td>\n",
              "      <td>0.25</td>\n",
              "      <td>5.00</td>\n",
              "      <td>15.55</td>\n",
              "      <td>6.73</td>\n",
              "      <td>0.41</td>\n",
              "      <td>2.12</td>\n",
              "      <td>0.65</td>\n",
              "      <td>0.714</td>\n",
              "      <td>0.617</td>\n",
              "      <td>0.810</td>\n",
              "      <td>0.728</td>\n",
              "      <td>Ji-Paraná</td>\n",
              "      <td>1100122</td>\n",
              "      <td>2021-05-02</td>\n",
              "      <td>128969.0</td>\n",
              "      <td>0.0282</td>\n",
              "    </tr>\n",
              "    <tr>\n",
              "      <th>11146</th>\n",
              "      <td>2010</td>\n",
              "      <td>11</td>\n",
              "      <td>1100205</td>\n",
              "      <td>PORTO VELHO</td>\n",
              "      <td>74.14</td>\n",
              "      <td>2.13</td>\n",
              "      <td>15.52</td>\n",
              "      <td>88.56</td>\n",
              "      <td>3.52</td>\n",
              "      <td>8.99</td>\n",
              "      <td>1.85</td>\n",
              "      <td>6.62</td>\n",
              "      <td>56.08</td>\n",
              "      <td>22.43</td>\n",
              "      <td>43.16</td>\n",
              "      <td>15.84</td>\n",
              "      <td>1.48</td>\n",
              "      <td>43.12</td>\n",
              "      <td>12.21</td>\n",
              "      <td>0.56</td>\n",
              "      <td>2.64</td>\n",
              "      <td>4.30</td>\n",
              "      <td>7.95</td>\n",
              "      <td>13.61</td>\n",
              "      <td>929.19</td>\n",
              "      <td>21.60</td>\n",
              "      <td>1.20</td>\n",
              "      <td>6.27</td>\n",
              "      <td>15.38</td>\n",
              "      <td>12.82</td>\n",
              "      <td>0.54</td>\n",
              "      <td>65.48</td>\n",
              "      <td>66.77</td>\n",
              "      <td>49.95</td>\n",
              "      <td>49.35</td>\n",
              "      <td>1.84</td>\n",
              "      <td>13.47</td>\n",
              "      <td>6.39</td>\n",
              "      <td>50.22</td>\n",
              "      <td>11.07</td>\n",
              "      <td>14.04</td>\n",
              "      <td>92.87</td>\n",
              "      <td>72.14</td>\n",
              "      <td>36.73</td>\n",
              "      <td>95.67</td>\n",
              "      <td>98.20</td>\n",
              "      <td>17.76</td>\n",
              "      <td>3.41</td>\n",
              "      <td>23.82</td>\n",
              "      <td>32.74</td>\n",
              "      <td>5.48</td>\n",
              "      <td>19.05</td>\n",
              "      <td>7.93</td>\n",
              "      <td>26.48</td>\n",
              "      <td>1.05</td>\n",
              "      <td>8.04</td>\n",
              "      <td>17.06</td>\n",
              "      <td>6.99</td>\n",
              "      <td>0.76</td>\n",
              "      <td>0.75</td>\n",
              "      <td>1.80</td>\n",
              "      <td>0.736</td>\n",
              "      <td>0.638</td>\n",
              "      <td>0.819</td>\n",
              "      <td>0.764</td>\n",
              "      <td>Porto Velho</td>\n",
              "      <td>1100205</td>\n",
              "      <td>2021-05-02</td>\n",
              "      <td>529544.0</td>\n",
              "      <td>0.0300</td>\n",
              "    </tr>\n",
              "    <tr>\n",
              "      <th>11196</th>\n",
              "      <td>2010</td>\n",
              "      <td>12</td>\n",
              "      <td>1200401</td>\n",
              "      <td>RIO BRANCO</td>\n",
              "      <td>72.85</td>\n",
              "      <td>2.06</td>\n",
              "      <td>20.03</td>\n",
              "      <td>86.48</td>\n",
              "      <td>4.31</td>\n",
              "      <td>9.72</td>\n",
              "      <td>2.48</td>\n",
              "      <td>11.76</td>\n",
              "      <td>66.87</td>\n",
              "      <td>14.45</td>\n",
              "      <td>51.05</td>\n",
              "      <td>15.18</td>\n",
              "      <td>1.70</td>\n",
              "      <td>41.33</td>\n",
              "      <td>12.93</td>\n",
              "      <td>0.59</td>\n",
              "      <td>4.85</td>\n",
              "      <td>7.45</td>\n",
              "      <td>14.38</td>\n",
              "      <td>22.92</td>\n",
              "      <td>744.67</td>\n",
              "      <td>19.66</td>\n",
              "      <td>1.33</td>\n",
              "      <td>5.13</td>\n",
              "      <td>17.15</td>\n",
              "      <td>9.21</td>\n",
              "      <td>0.09</td>\n",
              "      <td>59.16</td>\n",
              "      <td>66.47</td>\n",
              "      <td>49.47</td>\n",
              "      <td>55.38</td>\n",
              "      <td>1.08</td>\n",
              "      <td>14.97</td>\n",
              "      <td>10.48</td>\n",
              "      <td>48.32</td>\n",
              "      <td>7.20</td>\n",
              "      <td>21.16</td>\n",
              "      <td>94.09</td>\n",
              "      <td>62.10</td>\n",
              "      <td>39.42</td>\n",
              "      <td>97.38</td>\n",
              "      <td>99.34</td>\n",
              "      <td>18.43</td>\n",
              "      <td>5.52</td>\n",
              "      <td>24.68</td>\n",
              "      <td>27.62</td>\n",
              "      <td>4.92</td>\n",
              "      <td>19.97</td>\n",
              "      <td>11.53</td>\n",
              "      <td>30.15</td>\n",
              "      <td>0.85</td>\n",
              "      <td>9.55</td>\n",
              "      <td>23.31</td>\n",
              "      <td>12.36</td>\n",
              "      <td>0.75</td>\n",
              "      <td>1.64</td>\n",
              "      <td>0.66</td>\n",
              "      <td>0.727</td>\n",
              "      <td>0.661</td>\n",
              "      <td>0.798</td>\n",
              "      <td>0.729</td>\n",
              "      <td>Rio Branco</td>\n",
              "      <td>1200401</td>\n",
              "      <td>2021-05-02</td>\n",
              "      <td>407319.0</td>\n",
              "      <td>0.0271</td>\n",
              "    </tr>\n",
              "    <tr>\n",
              "      <th>11232</th>\n",
              "      <td>2010</td>\n",
              "      <td>13</td>\n",
              "      <td>1301902</td>\n",
              "      <td>ITACOATIARA</td>\n",
              "      <td>73.66</td>\n",
              "      <td>2.84</td>\n",
              "      <td>15.31</td>\n",
              "      <td>87.71</td>\n",
              "      <td>5.03</td>\n",
              "      <td>8.76</td>\n",
              "      <td>5.66</td>\n",
              "      <td>11.96</td>\n",
              "      <td>53.75</td>\n",
              "      <td>25.49</td>\n",
              "      <td>25.48</td>\n",
              "      <td>6.75</td>\n",
              "      <td>1.38</td>\n",
              "      <td>28.55</td>\n",
              "      <td>5.88</td>\n",
              "      <td>0.59</td>\n",
              "      <td>17.45</td>\n",
              "      <td>23.24</td>\n",
              "      <td>36.60</td>\n",
              "      <td>47.38</td>\n",
              "      <td>373.71</td>\n",
              "      <td>31.61</td>\n",
              "      <td>0.53</td>\n",
              "      <td>28.31</td>\n",
              "      <td>16.30</td>\n",
              "      <td>6.70</td>\n",
              "      <td>0.00</td>\n",
              "      <td>32.14</td>\n",
              "      <td>51.63</td>\n",
              "      <td>34.41</td>\n",
              "      <td>36.85</td>\n",
              "      <td>0.79</td>\n",
              "      <td>6.96</td>\n",
              "      <td>9.34</td>\n",
              "      <td>22.12</td>\n",
              "      <td>6.35</td>\n",
              "      <td>26.83</td>\n",
              "      <td>78.88</td>\n",
              "      <td>62.11</td>\n",
              "      <td>59.14</td>\n",
              "      <td>97.62</td>\n",
              "      <td>92.63</td>\n",
              "      <td>24.77</td>\n",
              "      <td>8.24</td>\n",
              "      <td>33.31</td>\n",
              "      <td>35.39</td>\n",
              "      <td>4.93</td>\n",
              "      <td>29.28</td>\n",
              "      <td>21.70</td>\n",
              "      <td>48.84</td>\n",
              "      <td>1.05</td>\n",
              "      <td>14.01</td>\n",
              "      <td>35.04</td>\n",
              "      <td>17.93</td>\n",
              "      <td>1.08</td>\n",
              "      <td>3.78</td>\n",
              "      <td>7.37</td>\n",
              "      <td>0.644</td>\n",
              "      <td>0.534</td>\n",
              "      <td>0.811</td>\n",
              "      <td>0.618</td>\n",
              "      <td>Itacoatiara</td>\n",
              "      <td>1301902</td>\n",
              "      <td>2021-05-02</td>\n",
              "      <td>101337.0</td>\n",
              "      <td>0.0357</td>\n",
              "    </tr>\n",
              "  </tbody>\n",
              "</table>\n",
              "</div>"
            ],
            "text/plain": [
              "        ANO  UF  ... estimated_population_2019 last_available_death_rate\n",
              "11131  2010  11  ...                  107863.0                    0.0215\n",
              "11141  2010  11  ...                  128969.0                    0.0282\n",
              "11146  2010  11  ...                  529544.0                    0.0300\n",
              "11196  2010  12  ...                  407319.0                    0.0271\n",
              "11232  2010  13  ...                  101337.0                    0.0357\n",
              "\n",
              "[5 rows x 70 columns]"
            ]
          },
          "metadata": {
            "tags": []
          },
          "execution_count": 17
        }
      ]
    },
    {
      "cell_type": "code",
      "metadata": {
        "colab": {
          "base_uri": "https://localhost:8080/",
          "height": 317
        },
        "id": "qcXIJsY25eGy",
        "outputId": "2b73e4fe-09bd-4dac-fe3b-f89b1e412ba6"
      },
      "source": [
        "correlacao_positiva = idhmcovid.corr().loc['last_available_death_rate'].sort_values(ascending=False).to_frame().reset_index().rename(columns = {'index': 'indicador'})[:10]\n",
        "correlacao_positiva.drop(correlacao_positiva.loc[(correlacao_positiva['indicador'] == \"last_available_death_rate\")].index, inplace=True)\n",
        "correlacao_positiva"
      ],
      "execution_count": null,
      "outputs": [
        {
          "output_type": "execute_result",
          "data": {
            "text/html": [
              "<div>\n",
              "<style scoped>\n",
              "    .dataframe tbody tr th:only-of-type {\n",
              "        vertical-align: middle;\n",
              "    }\n",
              "\n",
              "    .dataframe tbody tr th {\n",
              "        vertical-align: top;\n",
              "    }\n",
              "\n",
              "    .dataframe thead th {\n",
              "        text-align: right;\n",
              "    }\n",
              "</style>\n",
              "<table border=\"1\" class=\"dataframe\">\n",
              "  <thead>\n",
              "    <tr style=\"text-align: right;\">\n",
              "      <th></th>\n",
              "      <th>indicador</th>\n",
              "      <th>last_available_death_rate</th>\n",
              "    </tr>\n",
              "  </thead>\n",
              "  <tbody>\n",
              "    <tr>\n",
              "      <th>1</th>\n",
              "      <td>T_OCUPDESLOC_1</td>\n",
              "      <td>0.439622</td>\n",
              "    </tr>\n",
              "    <tr>\n",
              "      <th>2</th>\n",
              "      <td>T_DES2529</td>\n",
              "      <td>0.332376</td>\n",
              "    </tr>\n",
              "    <tr>\n",
              "      <th>3</th>\n",
              "      <td>T_DENS</td>\n",
              "      <td>0.306719</td>\n",
              "    </tr>\n",
              "    <tr>\n",
              "      <th>4</th>\n",
              "      <td>P_SERV</td>\n",
              "      <td>0.223824</td>\n",
              "    </tr>\n",
              "    <tr>\n",
              "      <th>5</th>\n",
              "      <td>T_NESTUDA_NTRAB_MMEIO</td>\n",
              "      <td>0.171675</td>\n",
              "    </tr>\n",
              "    <tr>\n",
              "      <th>6</th>\n",
              "      <td>MORT1</td>\n",
              "      <td>0.132726</td>\n",
              "    </tr>\n",
              "    <tr>\n",
              "      <th>7</th>\n",
              "      <td>P_CONSTR</td>\n",
              "      <td>0.127965</td>\n",
              "    </tr>\n",
              "    <tr>\n",
              "      <th>8</th>\n",
              "      <td>estimated_population_2019</td>\n",
              "      <td>0.127116</td>\n",
              "    </tr>\n",
              "    <tr>\n",
              "      <th>9</th>\n",
              "      <td>TRABSC</td>\n",
              "      <td>0.114223</td>\n",
              "    </tr>\n",
              "  </tbody>\n",
              "</table>\n",
              "</div>"
            ],
            "text/plain": [
              "                   indicador  last_available_death_rate\n",
              "1             T_OCUPDESLOC_1                   0.439622\n",
              "2                  T_DES2529                   0.332376\n",
              "3                     T_DENS                   0.306719\n",
              "4                     P_SERV                   0.223824\n",
              "5      T_NESTUDA_NTRAB_MMEIO                   0.171675\n",
              "6                      MORT1                   0.132726\n",
              "7                   P_CONSTR                   0.127965\n",
              "8  estimated_population_2019                   0.127116\n",
              "9                     TRABSC                   0.114223"
            ]
          },
          "metadata": {
            "tags": []
          },
          "execution_count": 19
        }
      ]
    },
    {
      "cell_type": "code",
      "metadata": {
        "colab": {
          "base_uri": "https://localhost:8080/"
        },
        "id": "pJqIP19z9mqs",
        "outputId": "109b54d6-dab3-4f92-db83-b76a2177a949"
      },
      "source": [
        "corr_posit = correlacao_positiva.indicador.to_list()\n",
        "corr_posit"
      ],
      "execution_count": null,
      "outputs": [
        {
          "output_type": "execute_result",
          "data": {
            "text/plain": [
              "['T_OCUPDESLOC_1',\n",
              " 'T_DES2529',\n",
              " 'T_DENS',\n",
              " 'P_SERV',\n",
              " 'T_NESTUDA_NTRAB_MMEIO',\n",
              " 'MORT1',\n",
              " 'P_CONSTR',\n",
              " 'estimated_population_2019',\n",
              " 'TRABSC']"
            ]
          },
          "metadata": {
            "tags": []
          },
          "execution_count": 24
        }
      ]
    },
    {
      "cell_type": "code",
      "metadata": {
        "colab": {
          "base_uri": "https://localhost:8080/",
          "height": 406
        },
        "id": "WBO_wfYT9kvo",
        "outputId": "449be055-68a7-4af2-baa7-f44f3ec70a04"
      },
      "source": [
        "corr_positiva = idhmcovid[idhmcovid.columns.intersection(corr_posit)]\n",
        "corr_positiva"
      ],
      "execution_count": null,
      "outputs": [
        {
          "output_type": "execute_result",
          "data": {
            "text/html": [
              "<div>\n",
              "<style scoped>\n",
              "    .dataframe tbody tr th:only-of-type {\n",
              "        vertical-align: middle;\n",
              "    }\n",
              "\n",
              "    .dataframe tbody tr th {\n",
              "        vertical-align: top;\n",
              "    }\n",
              "\n",
              "    .dataframe thead th {\n",
              "        text-align: right;\n",
              "    }\n",
              "</style>\n",
              "<table border=\"1\" class=\"dataframe\">\n",
              "  <thead>\n",
              "    <tr style=\"text-align: right;\">\n",
              "      <th></th>\n",
              "      <th>MORT1</th>\n",
              "      <th>P_CONSTR</th>\n",
              "      <th>P_SERV</th>\n",
              "      <th>T_DES2529</th>\n",
              "      <th>TRABSC</th>\n",
              "      <th>T_DENS</th>\n",
              "      <th>T_NESTUDA_NTRAB_MMEIO</th>\n",
              "      <th>T_OCUPDESLOC_1</th>\n",
              "      <th>estimated_population_2019</th>\n",
              "    </tr>\n",
              "  </thead>\n",
              "  <tbody>\n",
              "    <tr>\n",
              "      <th>11131</th>\n",
              "      <td>19.20</td>\n",
              "      <td>8.68</td>\n",
              "      <td>40.06</td>\n",
              "      <td>5.85</td>\n",
              "      <td>19.21</td>\n",
              "      <td>27.15</td>\n",
              "      <td>9.67</td>\n",
              "      <td>0.16</td>\n",
              "      <td>107863.0</td>\n",
              "    </tr>\n",
              "    <tr>\n",
              "      <th>11141</th>\n",
              "      <td>16.20</td>\n",
              "      <td>8.49</td>\n",
              "      <td>43.14</td>\n",
              "      <td>6.54</td>\n",
              "      <td>17.60</td>\n",
              "      <td>23.30</td>\n",
              "      <td>6.73</td>\n",
              "      <td>0.41</td>\n",
              "      <td>128969.0</td>\n",
              "    </tr>\n",
              "    <tr>\n",
              "      <th>11146</th>\n",
              "      <td>15.52</td>\n",
              "      <td>12.82</td>\n",
              "      <td>49.35</td>\n",
              "      <td>6.39</td>\n",
              "      <td>14.04</td>\n",
              "      <td>36.73</td>\n",
              "      <td>6.99</td>\n",
              "      <td>0.76</td>\n",
              "      <td>529544.0</td>\n",
              "    </tr>\n",
              "    <tr>\n",
              "      <th>11196</th>\n",
              "      <td>20.03</td>\n",
              "      <td>9.21</td>\n",
              "      <td>55.38</td>\n",
              "      <td>10.48</td>\n",
              "      <td>21.16</td>\n",
              "      <td>39.42</td>\n",
              "      <td>12.36</td>\n",
              "      <td>0.75</td>\n",
              "      <td>407319.0</td>\n",
              "    </tr>\n",
              "    <tr>\n",
              "      <th>11232</th>\n",
              "      <td>15.31</td>\n",
              "      <td>6.70</td>\n",
              "      <td>36.85</td>\n",
              "      <td>9.34</td>\n",
              "      <td>26.83</td>\n",
              "      <td>59.14</td>\n",
              "      <td>17.93</td>\n",
              "      <td>1.08</td>\n",
              "      <td>101337.0</td>\n",
              "    </tr>\n",
              "    <tr>\n",
              "      <th>...</th>\n",
              "      <td>...</td>\n",
              "      <td>...</td>\n",
              "      <td>...</td>\n",
              "      <td>...</td>\n",
              "      <td>...</td>\n",
              "      <td>...</td>\n",
              "      <td>...</td>\n",
              "      <td>...</td>\n",
              "      <td>...</td>\n",
              "    </tr>\n",
              "    <tr>\n",
              "      <th>16645</th>\n",
              "      <td>11.68</td>\n",
              "      <td>7.99</td>\n",
              "      <td>40.57</td>\n",
              "      <td>5.45</td>\n",
              "      <td>18.62</td>\n",
              "      <td>20.25</td>\n",
              "      <td>5.87</td>\n",
              "      <td>0.24</td>\n",
              "      <td>235647.0</td>\n",
              "    </tr>\n",
              "    <tr>\n",
              "      <th>16671</th>\n",
              "      <td>13.70</td>\n",
              "      <td>13.51</td>\n",
              "      <td>48.29</td>\n",
              "      <td>7.01</td>\n",
              "      <td>22.36</td>\n",
              "      <td>29.94</td>\n",
              "      <td>8.75</td>\n",
              "      <td>3.66</td>\n",
              "      <td>115371.0</td>\n",
              "    </tr>\n",
              "    <tr>\n",
              "      <th>16680</th>\n",
              "      <td>11.78</td>\n",
              "      <td>10.39</td>\n",
              "      <td>43.11</td>\n",
              "      <td>4.82</td>\n",
              "      <td>23.41</td>\n",
              "      <td>22.12</td>\n",
              "      <td>9.93</td>\n",
              "      <td>2.23</td>\n",
              "      <td>127599.0</td>\n",
              "    </tr>\n",
              "    <tr>\n",
              "      <th>16688</th>\n",
              "      <td>14.83</td>\n",
              "      <td>11.45</td>\n",
              "      <td>56.14</td>\n",
              "      <td>7.45</td>\n",
              "      <td>17.22</td>\n",
              "      <td>28.09</td>\n",
              "      <td>7.72</td>\n",
              "      <td>2.36</td>\n",
              "      <td>168468.0</td>\n",
              "    </tr>\n",
              "    <tr>\n",
              "      <th>16694</th>\n",
              "      <td>14.01</td>\n",
              "      <td>6.28</td>\n",
              "      <td>62.48</td>\n",
              "      <td>8.86</td>\n",
              "      <td>14.77</td>\n",
              "      <td>23.48</td>\n",
              "      <td>5.13</td>\n",
              "      <td>1.40</td>\n",
              "      <td>3015268.0</td>\n",
              "    </tr>\n",
              "  </tbody>\n",
              "</table>\n",
              "<p>324 rows × 9 columns</p>\n",
              "</div>"
            ],
            "text/plain": [
              "       MORT1  P_CONSTR  ...  T_OCUPDESLOC_1  estimated_population_2019\n",
              "11131  19.20      8.68  ...            0.16                   107863.0\n",
              "11141  16.20      8.49  ...            0.41                   128969.0\n",
              "11146  15.52     12.82  ...            0.76                   529544.0\n",
              "11196  20.03      9.21  ...            0.75                   407319.0\n",
              "11232  15.31      6.70  ...            1.08                   101337.0\n",
              "...      ...       ...  ...             ...                        ...\n",
              "16645  11.68      7.99  ...            0.24                   235647.0\n",
              "16671  13.70     13.51  ...            3.66                   115371.0\n",
              "16680  11.78     10.39  ...            2.23                   127599.0\n",
              "16688  14.83     11.45  ...            2.36                   168468.0\n",
              "16694  14.01      6.28  ...            1.40                  3015268.0\n",
              "\n",
              "[324 rows x 9 columns]"
            ]
          },
          "metadata": {
            "tags": []
          },
          "execution_count": 25
        }
      ]
    },
    {
      "cell_type": "code",
      "metadata": {
        "id": "wyUO4AFJEfQB"
      },
      "source": [
        "mortalidade = idhmcovid.last_available_death_rate"
      ],
      "execution_count": null,
      "outputs": []
    },
    {
      "cell_type": "code",
      "metadata": {
        "id": "ye5DOSzMFxJ6"
      },
      "source": [
        "xtrain_corr_positiva, xtest_corr_positiva, ytrain_corr_positiva, ytest_corr_positiva = train_test_split(corr_positiva, mortalidade, test_size=0.4, random_state=42)"
      ],
      "execution_count": null,
      "outputs": []
    },
    {
      "cell_type": "code",
      "metadata": {
        "id": "bEzDwJeCG0Ge",
        "colab": {
          "base_uri": "https://localhost:8080/"
        },
        "outputId": "be0d32a2-8a27-4d41-8785-583b10de2513"
      },
      "source": [
        "linreg_corr_positiva = LinearRegression()\n",
        "linreg_corr_positiva.fit(xtrain_corr_positiva, ytrain_corr_positiva)\n",
        "print('linear model coeff (w): {}'\n",
        ".format(linreg_corr_positiva.coef_))\n",
        "print('linear model intercept (b): {:.3f}'\n",
        ".format(linreg_corr_positiva.intercept_))\n",
        "print('R-squared score (training): {:.3f}'\n",
        ".format(linreg_corr_positiva.score(xtrain_corr_positiva, ytrain_corr_positiva)))\n",
        "print('R-squared score (test): {:.3f}'\n",
        ".format(linreg_corr_positiva.score(xtest_corr_positiva, ytest_corr_positiva)))"
      ],
      "execution_count": null,
      "outputs": [
        {
          "output_type": "stream",
          "text": [
            "linear model coeff (w): [ 1.13704361e-03 -1.40966882e-03  4.77006302e-04  1.61701593e-03\n",
            " -5.52216629e-05  2.59340302e-04 -1.17982320e-03  5.68759257e-03\n",
            "  2.94573387e-11]\n",
            "linear model intercept (b): -0.011\n",
            "R-squared score (training): 0.297\n",
            "R-squared score (test): -0.050\n"
          ],
          "name": "stdout"
        }
      ]
    },
    {
      "cell_type": "code",
      "metadata": {
        "id": "Fh6_1k9hG0Oe",
        "colab": {
          "base_uri": "https://localhost:8080/"
        },
        "outputId": "2825fb14-1865-40cc-832e-2824a5aa2c9d"
      },
      "source": [
        "ipred_corr_positiva = linreg_corr_positiva.predict(xtest_corr_positiva)\n",
        "print('Mean squared error: %.2f'\n",
        "      % mean_squared_error(ytest_corr_positiva, ipred_corr_positiva))\n",
        "print('Coefficient of determination: %.2f'\n",
        "      % r2_score(ytest_corr_positiva, ipred_corr_positiva))"
      ],
      "execution_count": null,
      "outputs": [
        {
          "output_type": "stream",
          "text": [
            "Mean squared error: 0.00\n",
            "Coefficient of determination: -0.05\n"
          ],
          "name": "stdout"
        }
      ]
    },
    {
      "cell_type": "code",
      "metadata": {
        "id": "LuvqQ5j3G0Q7",
        "colab": {
          "base_uri": "https://localhost:8080/",
          "height": 542
        },
        "outputId": "d46739f9-8c56-49c1-ec28-acb67b72ba5b"
      },
      "source": [
        "fig = go.Figure(data=go.Scatter(x=ytest_corr_positiva, y=ipred_corr_positiva, mode='markers')) \n",
        "fig.update_layout(title=\"Valores reais e previstos de correlação positiva de mortalidade de COVID-19\")\n",
        "fig.show()"
      ],
      "execution_count": null,
      "outputs": [
        {
          "output_type": "display_data",
          "data": {
            "text/html": [
              "<html>\n",
              "<head><meta charset=\"utf-8\" /></head>\n",
              "<body>\n",
              "    <div>\n",
              "            <script src=\"https://cdnjs.cloudflare.com/ajax/libs/mathjax/2.7.5/MathJax.js?config=TeX-AMS-MML_SVG\"></script><script type=\"text/javascript\">if (window.MathJax) {MathJax.Hub.Config({SVG: {font: \"STIX-Web\"}});}</script>\n",
              "                <script type=\"text/javascript\">window.PlotlyConfig = {MathJaxConfig: 'local'};</script>\n",
              "        <script src=\"https://cdn.plot.ly/plotly-latest.min.js\"></script>    \n",
              "            <div id=\"4dc3cb22-6764-47a1-bee2-763dc56f8b90\" class=\"plotly-graph-div\" style=\"height:525px; width:100%;\"></div>\n",
              "            <script type=\"text/javascript\">\n",
              "                \n",
              "                    window.PLOTLYENV=window.PLOTLYENV || {};\n",
              "                    \n",
              "                if (document.getElementById(\"4dc3cb22-6764-47a1-bee2-763dc56f8b90\")) {\n",
              "                    Plotly.newPlot(\n",
              "                        '4dc3cb22-6764-47a1-bee2-763dc56f8b90',\n",
              "                        [{\"mode\": \"markers\", \"type\": \"scatter\", \"x\": [0.0212, 0.0183, 0.0522, 0.0222, 0.0247, 0.0144, 0.0449, 0.0451, 0.0144, 0.07, 0.0389, 0.0289, 0.032, 0.0191, 0.0411, 0.0145, 0.0258, 0.0294, 0.04, 0.0518, 0.0243, 0.0143, 0.0202, 0.0188, 0.0277, 0.0306, 0.0312, 0.0253, 0.0508, 0.0241, 0.0258, 0.0292, 0.0394, 0.0317, 0.024, 0.0372, 0.0296, 0.0645, 0.0233, 0.0303, 0.0233, 0.0121, 0.0342, 0.0205, 0.0281, 0.0191, 0.0286, 0.0361, 0.0387, 0.0445, 0.0194, 0.0193, 0.0159, 0.0315, 0.0142, 0.0394, 0.0292, 0.0282, 0.0271, 0.009000000000000001, 0.0193, 0.0466, 0.0251, 0.0134, 0.03, 0.0166, 0.031, 0.0198, 0.0194, 0.0272, 0.0281, 0.0157, 0.0393, 0.0311, 0.040999999999999995, 0.0443, 0.0267, 0.0198, 0.0249, 0.0419, 0.0344, 0.0196, 0.0419, 0.0344, 0.0349, 0.0112, 0.0286, 0.0698, 0.0284, 0.0352, 0.0568, 0.0352, 0.0482, 0.0112, 0.0327, 0.0173, 0.0217, 0.0126, 0.0188, 0.0248, 0.0224, 0.0254, 0.0352, 0.0178, 0.0318, 0.044000000000000004, 0.0214, 0.017, 0.015, 0.0251, 0.0245, 0.0248, 0.0354, 0.0452, 0.0273, 0.0158, 0.0158, 0.0261, 0.0873, 0.0283, 0.0227, 0.0286, 0.0312, 0.036000000000000004, 0.0409, 0.0585, 0.0306, 0.0472, 0.019, 0.0085], \"y\": [0.02434173860317769, 0.02501007803731574, 0.02710079611628991, 0.023561503155857977, 0.01798078889920473, 0.02687719674453448, 0.049780833815508546, 0.0280868327717832, 0.01401763580905483, 0.05379625719861813, 0.0338182481852914, 0.024614868126922033, 0.020902292086835743, 0.02507368032738063, 0.05094376385703049, 0.02643542378199361, 0.021467020536094047, 0.052877784834765136, 0.024194065878348235, 0.05482217029073277, 0.015943011229669502, 0.01761227579060039, 0.029233991497983197, 0.03749005353132156, 0.021155260971950952, 0.0710451188325267, 0.023688043624597747, 0.032062230513736835, 0.05617333664410789, 0.017775845270305242, 0.054708799270886475, 0.03039439044342055, 0.017151478323259164, 0.014847318619971253, 0.03501034758771641, 0.043760572109885876, 0.04269012799294422, 0.034290190066952296, 0.021576299117620164, 0.031073512723771443, 0.01831896068911303, 0.02583980664202088, 0.03821282615472045, 0.015009978386781773, 0.026923587465765245, 0.024599955622089345, 0.021604373110148498, 0.035794002136669695, 0.04104616653553306, 0.03114107109604832, 0.04009752573355257, 0.027070107798798704, 0.036648271839841144, 0.06391115903359526, 0.028257750991108853, 0.027519994229618767, 0.026515100709949925, 0.02808248255347951, 0.04082838417163531, 0.029415330344855044, 0.025399099886975716, 0.03417087335620643, 0.02424258341453648, 0.02270051634852307, 0.021121156047286253, 0.04760021575141883, 0.04533049561956504, 0.027311870480093932, 0.04032434331487194, 0.020822218056408923, 0.028860062857393926, 0.02312463052356408, 0.0264263599436394, 0.03089784855478328, 0.03689951253537948, 0.0214447192669616, 0.02202461010423594, 0.03403646207619807, 0.029597138079974245, 0.036432523374405605, 0.04098505258519175, 0.030559948572500516, 0.04026405547991883, 0.025961364667990518, 0.038145512177618045, 0.013966861359341151, 0.06644494965059841, 0.06386552984873609, 0.019076788088588165, 0.044444863143952844, 0.051519247827596946, 0.03471408415341393, 0.0370136532428825, 0.012068391303750554, 0.01714630546163398, 0.02241094345520605, 0.02570418449722748, 0.023841195117324077, 0.03250398251690745, 0.040191116147344275, 0.031499964038579784, 0.0304054014048125, 0.03437147655896824, 0.019049839570133974, 0.03941150753378687, 0.04440684998254713, 0.022957747183720567, 0.017059616755145293, 0.034309689547780686, 0.03939513408009868, 0.037588471685723227, 0.028700062625125505, 0.04368107442796465, 0.06653430060378357, 0.03137309363835306, 0.035649082158555175, 0.03482810465775453, 0.026670375829703788, 0.061260575902404836, 0.05734689412027543, 0.037118719853129874, 0.044388502885334025, 0.008883077947324687, 0.05431906943500885, 0.03622715439691544, 0.08532011760692759, 0.0328920197088822, 0.0333354083869011, 0.014303544573176116, 0.016050520282530654]}],\n",
              "                        {\"template\": {\"data\": {\"bar\": [{\"error_x\": {\"color\": \"#2a3f5f\"}, \"error_y\": {\"color\": \"#2a3f5f\"}, \"marker\": {\"line\": {\"color\": \"#E5ECF6\", \"width\": 0.5}}, \"type\": \"bar\"}], \"barpolar\": [{\"marker\": {\"line\": {\"color\": \"#E5ECF6\", \"width\": 0.5}}, \"type\": \"barpolar\"}], \"carpet\": [{\"aaxis\": {\"endlinecolor\": \"#2a3f5f\", \"gridcolor\": \"white\", \"linecolor\": \"white\", \"minorgridcolor\": \"white\", \"startlinecolor\": \"#2a3f5f\"}, \"baxis\": {\"endlinecolor\": \"#2a3f5f\", \"gridcolor\": \"white\", \"linecolor\": \"white\", \"minorgridcolor\": \"white\", \"startlinecolor\": \"#2a3f5f\"}, \"type\": \"carpet\"}], \"choropleth\": [{\"colorbar\": {\"outlinewidth\": 0, \"ticks\": \"\"}, \"type\": \"choropleth\"}], \"contour\": [{\"colorbar\": {\"outlinewidth\": 0, \"ticks\": \"\"}, \"colorscale\": [[0.0, \"#0d0887\"], [0.1111111111111111, \"#46039f\"], [0.2222222222222222, \"#7201a8\"], [0.3333333333333333, \"#9c179e\"], [0.4444444444444444, \"#bd3786\"], [0.5555555555555556, \"#d8576b\"], [0.6666666666666666, \"#ed7953\"], [0.7777777777777778, \"#fb9f3a\"], [0.8888888888888888, \"#fdca26\"], [1.0, \"#f0f921\"]], \"type\": \"contour\"}], \"contourcarpet\": [{\"colorbar\": {\"outlinewidth\": 0, \"ticks\": \"\"}, \"type\": \"contourcarpet\"}], \"heatmap\": [{\"colorbar\": {\"outlinewidth\": 0, \"ticks\": \"\"}, \"colorscale\": [[0.0, \"#0d0887\"], [0.1111111111111111, \"#46039f\"], [0.2222222222222222, \"#7201a8\"], [0.3333333333333333, \"#9c179e\"], [0.4444444444444444, \"#bd3786\"], [0.5555555555555556, \"#d8576b\"], [0.6666666666666666, \"#ed7953\"], [0.7777777777777778, \"#fb9f3a\"], [0.8888888888888888, \"#fdca26\"], [1.0, \"#f0f921\"]], \"type\": \"heatmap\"}], \"heatmapgl\": [{\"colorbar\": {\"outlinewidth\": 0, \"ticks\": \"\"}, \"colorscale\": [[0.0, \"#0d0887\"], [0.1111111111111111, \"#46039f\"], [0.2222222222222222, \"#7201a8\"], [0.3333333333333333, \"#9c179e\"], [0.4444444444444444, \"#bd3786\"], [0.5555555555555556, \"#d8576b\"], [0.6666666666666666, \"#ed7953\"], [0.7777777777777778, \"#fb9f3a\"], [0.8888888888888888, \"#fdca26\"], [1.0, \"#f0f921\"]], \"type\": \"heatmapgl\"}], \"histogram\": [{\"marker\": {\"colorbar\": {\"outlinewidth\": 0, \"ticks\": \"\"}}, \"type\": \"histogram\"}], \"histogram2d\": [{\"colorbar\": {\"outlinewidth\": 0, \"ticks\": \"\"}, \"colorscale\": [[0.0, \"#0d0887\"], [0.1111111111111111, \"#46039f\"], [0.2222222222222222, \"#7201a8\"], [0.3333333333333333, \"#9c179e\"], [0.4444444444444444, \"#bd3786\"], [0.5555555555555556, \"#d8576b\"], [0.6666666666666666, \"#ed7953\"], [0.7777777777777778, \"#fb9f3a\"], [0.8888888888888888, \"#fdca26\"], [1.0, \"#f0f921\"]], \"type\": \"histogram2d\"}], \"histogram2dcontour\": [{\"colorbar\": {\"outlinewidth\": 0, \"ticks\": \"\"}, \"colorscale\": [[0.0, \"#0d0887\"], [0.1111111111111111, \"#46039f\"], [0.2222222222222222, \"#7201a8\"], [0.3333333333333333, \"#9c179e\"], [0.4444444444444444, \"#bd3786\"], [0.5555555555555556, \"#d8576b\"], [0.6666666666666666, \"#ed7953\"], [0.7777777777777778, \"#fb9f3a\"], [0.8888888888888888, \"#fdca26\"], [1.0, \"#f0f921\"]], \"type\": \"histogram2dcontour\"}], \"mesh3d\": [{\"colorbar\": {\"outlinewidth\": 0, \"ticks\": \"\"}, \"type\": \"mesh3d\"}], \"parcoords\": [{\"line\": {\"colorbar\": {\"outlinewidth\": 0, \"ticks\": \"\"}}, \"type\": \"parcoords\"}], \"pie\": [{\"automargin\": true, \"type\": \"pie\"}], \"scatter\": [{\"marker\": {\"colorbar\": {\"outlinewidth\": 0, \"ticks\": \"\"}}, \"type\": \"scatter\"}], \"scatter3d\": [{\"line\": {\"colorbar\": {\"outlinewidth\": 0, \"ticks\": \"\"}}, \"marker\": {\"colorbar\": {\"outlinewidth\": 0, \"ticks\": \"\"}}, \"type\": \"scatter3d\"}], \"scattercarpet\": [{\"marker\": {\"colorbar\": {\"outlinewidth\": 0, \"ticks\": \"\"}}, \"type\": \"scattercarpet\"}], \"scattergeo\": [{\"marker\": {\"colorbar\": {\"outlinewidth\": 0, \"ticks\": \"\"}}, \"type\": \"scattergeo\"}], \"scattergl\": [{\"marker\": {\"colorbar\": {\"outlinewidth\": 0, \"ticks\": \"\"}}, \"type\": \"scattergl\"}], \"scattermapbox\": [{\"marker\": {\"colorbar\": {\"outlinewidth\": 0, \"ticks\": \"\"}}, \"type\": \"scattermapbox\"}], \"scatterpolar\": [{\"marker\": {\"colorbar\": {\"outlinewidth\": 0, \"ticks\": \"\"}}, \"type\": \"scatterpolar\"}], \"scatterpolargl\": [{\"marker\": {\"colorbar\": {\"outlinewidth\": 0, \"ticks\": \"\"}}, \"type\": \"scatterpolargl\"}], \"scatterternary\": [{\"marker\": {\"colorbar\": {\"outlinewidth\": 0, \"ticks\": \"\"}}, \"type\": \"scatterternary\"}], \"surface\": [{\"colorbar\": {\"outlinewidth\": 0, \"ticks\": \"\"}, \"colorscale\": [[0.0, \"#0d0887\"], [0.1111111111111111, \"#46039f\"], [0.2222222222222222, \"#7201a8\"], [0.3333333333333333, \"#9c179e\"], [0.4444444444444444, \"#bd3786\"], [0.5555555555555556, \"#d8576b\"], [0.6666666666666666, \"#ed7953\"], [0.7777777777777778, \"#fb9f3a\"], [0.8888888888888888, \"#fdca26\"], [1.0, \"#f0f921\"]], \"type\": \"surface\"}], \"table\": [{\"cells\": {\"fill\": {\"color\": \"#EBF0F8\"}, \"line\": {\"color\": \"white\"}}, \"header\": {\"fill\": {\"color\": \"#C8D4E3\"}, \"line\": {\"color\": \"white\"}}, \"type\": \"table\"}]}, \"layout\": {\"annotationdefaults\": {\"arrowcolor\": \"#2a3f5f\", \"arrowhead\": 0, \"arrowwidth\": 1}, \"coloraxis\": {\"colorbar\": {\"outlinewidth\": 0, \"ticks\": \"\"}}, \"colorscale\": {\"diverging\": [[0, \"#8e0152\"], [0.1, \"#c51b7d\"], [0.2, \"#de77ae\"], [0.3, \"#f1b6da\"], [0.4, \"#fde0ef\"], [0.5, \"#f7f7f7\"], [0.6, \"#e6f5d0\"], [0.7, \"#b8e186\"], [0.8, \"#7fbc41\"], [0.9, \"#4d9221\"], [1, \"#276419\"]], \"sequential\": [[0.0, \"#0d0887\"], [0.1111111111111111, \"#46039f\"], [0.2222222222222222, \"#7201a8\"], [0.3333333333333333, \"#9c179e\"], [0.4444444444444444, \"#bd3786\"], [0.5555555555555556, \"#d8576b\"], [0.6666666666666666, \"#ed7953\"], [0.7777777777777778, \"#fb9f3a\"], [0.8888888888888888, \"#fdca26\"], [1.0, \"#f0f921\"]], \"sequentialminus\": [[0.0, \"#0d0887\"], [0.1111111111111111, \"#46039f\"], [0.2222222222222222, \"#7201a8\"], [0.3333333333333333, \"#9c179e\"], [0.4444444444444444, \"#bd3786\"], [0.5555555555555556, \"#d8576b\"], [0.6666666666666666, \"#ed7953\"], [0.7777777777777778, \"#fb9f3a\"], [0.8888888888888888, \"#fdca26\"], [1.0, \"#f0f921\"]]}, \"colorway\": [\"#636efa\", \"#EF553B\", \"#00cc96\", \"#ab63fa\", \"#FFA15A\", \"#19d3f3\", \"#FF6692\", \"#B6E880\", \"#FF97FF\", \"#FECB52\"], \"font\": {\"color\": \"#2a3f5f\"}, \"geo\": {\"bgcolor\": \"white\", \"lakecolor\": \"white\", \"landcolor\": \"#E5ECF6\", \"showlakes\": true, \"showland\": true, \"subunitcolor\": \"white\"}, \"hoverlabel\": {\"align\": \"left\"}, \"hovermode\": \"closest\", \"mapbox\": {\"style\": \"light\"}, \"paper_bgcolor\": \"white\", \"plot_bgcolor\": \"#E5ECF6\", \"polar\": {\"angularaxis\": {\"gridcolor\": \"white\", \"linecolor\": \"white\", \"ticks\": \"\"}, \"bgcolor\": \"#E5ECF6\", \"radialaxis\": {\"gridcolor\": \"white\", \"linecolor\": \"white\", \"ticks\": \"\"}}, \"scene\": {\"xaxis\": {\"backgroundcolor\": \"#E5ECF6\", \"gridcolor\": \"white\", \"gridwidth\": 2, \"linecolor\": \"white\", \"showbackground\": true, \"ticks\": \"\", \"zerolinecolor\": \"white\"}, \"yaxis\": {\"backgroundcolor\": \"#E5ECF6\", \"gridcolor\": \"white\", \"gridwidth\": 2, \"linecolor\": \"white\", \"showbackground\": true, \"ticks\": \"\", \"zerolinecolor\": \"white\"}, \"zaxis\": {\"backgroundcolor\": \"#E5ECF6\", \"gridcolor\": \"white\", \"gridwidth\": 2, \"linecolor\": \"white\", \"showbackground\": true, \"ticks\": \"\", \"zerolinecolor\": \"white\"}}, \"shapedefaults\": {\"line\": {\"color\": \"#2a3f5f\"}}, \"ternary\": {\"aaxis\": {\"gridcolor\": \"white\", \"linecolor\": \"white\", \"ticks\": \"\"}, \"baxis\": {\"gridcolor\": \"white\", \"linecolor\": \"white\", \"ticks\": \"\"}, \"bgcolor\": \"#E5ECF6\", \"caxis\": {\"gridcolor\": \"white\", \"linecolor\": \"white\", \"ticks\": \"\"}}, \"title\": {\"x\": 0.05}, \"xaxis\": {\"automargin\": true, \"gridcolor\": \"white\", \"linecolor\": \"white\", \"ticks\": \"\", \"title\": {\"standoff\": 15}, \"zerolinecolor\": \"white\", \"zerolinewidth\": 2}, \"yaxis\": {\"automargin\": true, \"gridcolor\": \"white\", \"linecolor\": \"white\", \"ticks\": \"\", \"title\": {\"standoff\": 15}, \"zerolinecolor\": \"white\", \"zerolinewidth\": 2}}}, \"title\": {\"text\": \"Valores reais e previstos de correla\\u00e7\\u00e3o positiva de mortalidade de COVID-19\"}},\n",
              "                        {\"responsive\": true}\n",
              "                    ).then(function(){\n",
              "                            \n",
              "var gd = document.getElementById('4dc3cb22-6764-47a1-bee2-763dc56f8b90');\n",
              "var x = new MutationObserver(function (mutations, observer) {{\n",
              "        var display = window.getComputedStyle(gd).display;\n",
              "        if (!display || display === 'none') {{\n",
              "            console.log([gd, 'removed!']);\n",
              "            Plotly.purge(gd);\n",
              "            observer.disconnect();\n",
              "        }}\n",
              "}});\n",
              "\n",
              "// Listen for the removal of the full notebook cells\n",
              "var notebookContainer = gd.closest('#notebook-container');\n",
              "if (notebookContainer) {{\n",
              "    x.observe(notebookContainer, {childList: true});\n",
              "}}\n",
              "\n",
              "// Listen for the clearing of the current output cell\n",
              "var outputEl = gd.closest('.output');\n",
              "if (outputEl) {{\n",
              "    x.observe(outputEl, {childList: true});\n",
              "}}\n",
              "\n",
              "                        })\n",
              "                };\n",
              "                \n",
              "            </script>\n",
              "        </div>\n",
              "</body>\n",
              "</html>"
            ]
          },
          "metadata": {
            "tags": []
          }
        }
      ]
    },
    {
      "cell_type": "code",
      "metadata": {
        "id": "RMJTOy55IKZU",
        "colab": {
          "base_uri": "https://localhost:8080/",
          "height": 383
        },
        "outputId": "6b0810e4-da31-4da5-9cd4-72db57b5430a"
      },
      "source": [
        "df_corr_positiva = pd.DataFrame ({'Real': ytest_corr_positiva, 'Previsto': ipred_corr_positiva}) \n",
        "sns.lmplot(x=\"Real\", y=\"Previsto\", data=df_corr_positiva);"
      ],
      "execution_count": null,
      "outputs": [
        {
          "output_type": "display_data",
          "data": {
            "image/png": "[encoded data removed]",
            "text/plain": [
              "<Figure size 360x360 with 1 Axes>"
            ]
          },
          "metadata": {
            "tags": [],
            "needs_background": "light"
          }
        }
      ]
    },
    {
      "cell_type": "code",
      "metadata": {
        "id": "6LyE2EUdFJhB"
      },
      "source": [
        "correlacao_negativa = idhmcovid.corr().loc['last_available_death_rate'].sort_values().to_frame().reset_index().rename(columns = {'index': 'indicador'})[:10]\n",
        "corr_negat = correlacao_negativa.indicador.to_list()\n",
        "corr_negativa = idhmcovid[idhmcovid.columns.intersection(corr_negat)]"
      ],
      "execution_count": null,
      "outputs": []
    },
    {
      "cell_type": "code",
      "metadata": {
        "id": "7uiM_o4zIKXD"
      },
      "source": [
        "xtrain_corr_negativa, xtest_corr_negativa, ytrain_corr_negativa, ytest_corr_negativa = train_test_split(corr_negativa, mortalidade, test_size=0.4, random_state=42)"
      ],
      "execution_count": null,
      "outputs": []
    },
    {
      "cell_type": "code",
      "metadata": {
        "id": "wHpZ-_DGIKUj",
        "colab": {
          "base_uri": "https://localhost:8080/"
        },
        "outputId": "074593b9-c55a-4164-ffdf-3a4a13ec14fb"
      },
      "source": [
        "linreg_corr_negativa = LinearRegression()\n",
        "linreg_corr_negativa.fit(xtrain_corr_negativa, ytrain_corr_negativa)\n",
        "print('linear model coeff (w): {}'\n",
        ".format(linreg_corr_negativa.coef_))\n",
        "print('linear model intercept (b): {:.3f}'\n",
        ".format(linreg_corr_negativa.intercept_))\n",
        "print('R-squared score (training): {:.3f}'\n",
        ".format(linreg_corr_negativa.score(xtrain_corr_negativa, ytrain_corr_negativa)))\n",
        "print('R-squared score (test): {:.3f}'\n",
        ".format(linreg_corr_negativa.score(xtest_corr_negativa, ytest_corr_negativa)))"
      ],
      "execution_count": null,
      "outputs": [
        {
          "output_type": "stream",
          "text": [
            "linear model coeff (w): [-0.00046985 -0.00127385  0.0003551  -0.00211896 -0.00082247 -0.0045414\n",
            " -0.00170466 -0.00162927 -0.00172177  0.11861779]\n",
            "linear model intercept (b): 0.440\n",
            "R-squared score (training): 0.412\n",
            "R-squared score (test): -0.297\n"
          ],
          "name": "stdout"
        }
      ]
    },
    {
      "cell_type": "code",
      "metadata": {
        "id": "fbkuLjA6G0NP",
        "colab": {
          "base_uri": "https://localhost:8080/"
        },
        "outputId": "a2ea1a05-b68a-4362-b0c0-5963e6bf570d"
      },
      "source": [
        "ipred_corr_negativa = linreg_corr_negativa.predict(xtest_corr_negativa)\n",
        "print('Mean squared error: %.2f'\n",
        "      % mean_squared_error(ytest_corr_negativa, ipred_corr_negativa))\n",
        "print('Coefficient of determination: %.2f'\n",
        "      % r2_score(ytest_corr_negativa, ipred_corr_negativa))"
      ],
      "execution_count": null,
      "outputs": [
        {
          "output_type": "stream",
          "text": [
            "Mean squared error: 0.00\n",
            "Coefficient of determination: -0.30\n"
          ],
          "name": "stdout"
        }
      ]
    },
    {
      "cell_type": "code",
      "metadata": {
        "id": "Rs8RUuM6IqUR",
        "colab": {
          "base_uri": "https://localhost:8080/",
          "height": 542
        },
        "outputId": "95fdd245-c620-4ab0-9dc0-83ba52221e7b"
      },
      "source": [
        "fig = go.Figure(data=go.Scatter(x=ytest_corr_negativa, y=ipred_corr_negativa, mode='markers')) \n",
        "fig.update_layout(title=\"Valores reais e previstos de correlação negativa de mortalidade de COVID-19\")\n",
        "fig.show()"
      ],
      "execution_count": null,
      "outputs": [
        {
          "output_type": "display_data",
          "data": {
            "text/html": [
              "<html>\n",
              "<head><meta charset=\"utf-8\" /></head>\n",
              "<body>\n",
              "    <div>\n",
              "            <script src=\"https://cdnjs.cloudflare.com/ajax/libs/mathjax/2.7.5/MathJax.js?config=TeX-AMS-MML_SVG\"></script><script type=\"text/javascript\">if (window.MathJax) {MathJax.Hub.Config({SVG: {font: \"STIX-Web\"}});}</script>\n",
              "                <script type=\"text/javascript\">window.PlotlyConfig = {MathJaxConfig: 'local'};</script>\n",
              "        <script src=\"https://cdn.plot.ly/plotly-latest.min.js\"></script>    \n",
              "            <div id=\"8ba3e2fe-7a01-4483-8c09-23127f10210c\" class=\"plotly-graph-div\" style=\"height:525px; width:100%;\"></div>\n",
              "            <script type=\"text/javascript\">\n",
              "                \n",
              "                    window.PLOTLYENV=window.PLOTLYENV || {};\n",
              "                    \n",
              "                if (document.getElementById(\"8ba3e2fe-7a01-4483-8c09-23127f10210c\")) {\n",
              "                    Plotly.newPlot(\n",
              "                        '8ba3e2fe-7a01-4483-8c09-23127f10210c',\n",
              "                        [{\"mode\": \"markers\", \"type\": \"scatter\", \"x\": [0.0212, 0.0183, 0.0522, 0.0222, 0.0247, 0.0144, 0.0449, 0.0451, 0.0144, 0.07, 0.0389, 0.0289, 0.032, 0.0191, 0.0411, 0.0145, 0.0258, 0.0294, 0.04, 0.0518, 0.0243, 0.0143, 0.0202, 0.0188, 0.0277, 0.0306, 0.0312, 0.0253, 0.0508, 0.0241, 0.0258, 0.0292, 0.0394, 0.0317, 0.024, 0.0372, 0.0296, 0.0645, 0.0233, 0.0303, 0.0233, 0.0121, 0.0342, 0.0205, 0.0281, 0.0191, 0.0286, 0.0361, 0.0387, 0.0445, 0.0194, 0.0193, 0.0159, 0.0315, 0.0142, 0.0394, 0.0292, 0.0282, 0.0271, 0.009000000000000001, 0.0193, 0.0466, 0.0251, 0.0134, 0.03, 0.0166, 0.031, 0.0198, 0.0194, 0.0272, 0.0281, 0.0157, 0.0393, 0.0311, 0.040999999999999995, 0.0443, 0.0267, 0.0198, 0.0249, 0.0419, 0.0344, 0.0196, 0.0419, 0.0344, 0.0349, 0.0112, 0.0286, 0.0698, 0.0284, 0.0352, 0.0568, 0.0352, 0.0482, 0.0112, 0.0327, 0.0173, 0.0217, 0.0126, 0.0188, 0.0248, 0.0224, 0.0254, 0.0352, 0.0178, 0.0318, 0.044000000000000004, 0.0214, 0.017, 0.015, 0.0251, 0.0245, 0.0248, 0.0354, 0.0452, 0.0273, 0.0158, 0.0158, 0.0261, 0.0873, 0.0283, 0.0227, 0.0286, 0.0312, 0.036000000000000004, 0.0409, 0.0585, 0.0306, 0.0472, 0.019, 0.0085], \"y\": [0.004897630370938044, 0.019682330386453117, 0.03787950958432196, 0.02977575410706801, 0.031938839470668334, 0.02121380845189258, 0.03732169518973494, 0.03911905093755447, 0.004446382804197568, 0.07027564273375125, 0.032981395374319766, 0.0443570049550055, 0.040102088828095406, 0.018089047380971834, 0.04250968984994946, 0.019741039226100265, 0.034816213703987686, 0.04721443847741369, 0.020995858497062203, 0.049548803000737274, 0.020277147643271265, 0.023897996605020455, 0.02747222182498338, 0.03748336319746204, 0.006207792421528691, 0.05575280176192943, 0.04766025796996198, 0.04031016902414275, 0.04712585164431088, 0.0108924922032137, 0.0528823737648666, 0.0332260721740224, 0.023342264220005182, 0.022324407789179712, 0.023652241083292447, 0.03755248768754316, 0.024253292284218075, 0.005843763608606833, 0.030352290976071727, 0.037404624547969, 0.02963690851584977, 0.03148922212318683, 0.036451733819181875, 0.01056634872178186, 0.029536492834501882, 0.022034812290399886, 0.019514434843182826, 0.028304295367629906, 0.04916034048173512, 0.03163809080687041, 0.02963897726474235, 0.02560089230088658, 0.02697075865181453, 0.03752745546011299, 0.023454463129051695, 0.033575225752620785, 0.03179310939801655, 0.03988517602589714, 0.037401905891909615, 0.033054447851240676, 0.03427463217134352, 0.015698983203359718, 0.037905217149481585, 0.023044287584580103, 0.025978519862698446, 0.027985406343501218, 0.045220176551758695, 0.03537584718037262, -0.0005578449231160576, 0.03144676587482803, 0.03662322363774484, 0.030972404140634957, 0.025618235161364522, 0.038931078170198474, 0.03726567783014778, 0.03737059425125311, 0.026276951553344807, 0.014456087881841606, 0.02717593920533168, 0.03444634958906623, 0.027512629692471924, 0.033597586917759825, 0.04065738542223046, 0.030277324368308434, 0.04047530189021248, 0.025808229462344234, 0.07055606627236155, 0.04358461741433883, 0.007010428775919175, 0.033213007553248575, 0.03994180735571601, 0.0188463386241422, 0.029687509637937592, 0.030972055387721353, 0.01477605703559326, 0.020717379893660737, 0.02538296031385795, 0.011104811482155585, 0.030503354582545217, 0.0324417925349747, 0.054803380129223034, 0.037029092967926835, 0.02996161144970022, 0.00813768815785254, 0.06433745083009756, 0.03433058307444209, 0.011487560922760098, 0.022835285950158157, 0.0013526592788092318, 0.02517857259569667, 0.046188018881817006, 0.036094446168128624, 0.04168325396773476, 0.06236778337448795, 0.02279904358181778, 0.02943271381083079, 0.02259218486509107, 0.029629678446394636, 0.051884999649486396, 0.06470760449237367, 0.037520628981104254, 0.01636130699909244, 0.026868853178708074, 0.04271726496149436, 0.029885266124376586, 0.0646757998135255, 0.03922358079004057, 0.058600656200330836, 0.051565026619756316, -0.02388096717372823]}],\n",
              "                        {\"template\": {\"data\": {\"bar\": [{\"error_x\": {\"color\": \"#2a3f5f\"}, \"error_y\": {\"color\": \"#2a3f5f\"}, \"marker\": {\"line\": {\"color\": \"#E5ECF6\", \"width\": 0.5}}, \"type\": \"bar\"}], \"barpolar\": [{\"marker\": {\"line\": {\"color\": \"#E5ECF6\", \"width\": 0.5}}, \"type\": \"barpolar\"}], \"carpet\": [{\"aaxis\": {\"endlinecolor\": \"#2a3f5f\", \"gridcolor\": \"white\", \"linecolor\": \"white\", \"minorgridcolor\": \"white\", \"startlinecolor\": \"#2a3f5f\"}, \"baxis\": {\"endlinecolor\": \"#2a3f5f\", \"gridcolor\": \"white\", \"linecolor\": \"white\", \"minorgridcolor\": \"white\", \"startlinecolor\": \"#2a3f5f\"}, \"type\": \"carpet\"}], \"choropleth\": [{\"colorbar\": {\"outlinewidth\": 0, \"ticks\": \"\"}, \"type\": \"choropleth\"}], \"contour\": [{\"colorbar\": {\"outlinewidth\": 0, \"ticks\": \"\"}, \"colorscale\": [[0.0, \"#0d0887\"], [0.1111111111111111, \"#46039f\"], [0.2222222222222222, \"#7201a8\"], [0.3333333333333333, \"#9c179e\"], [0.4444444444444444, \"#bd3786\"], [0.5555555555555556, \"#d8576b\"], [0.6666666666666666, \"#ed7953\"], [0.7777777777777778, \"#fb9f3a\"], [0.8888888888888888, \"#fdca26\"], [1.0, \"#f0f921\"]], \"type\": \"contour\"}], \"contourcarpet\": [{\"colorbar\": {\"outlinewidth\": 0, \"ticks\": \"\"}, \"type\": \"contourcarpet\"}], \"heatmap\": [{\"colorbar\": {\"outlinewidth\": 0, \"ticks\": \"\"}, \"colorscale\": [[0.0, \"#0d0887\"], [0.1111111111111111, \"#46039f\"], [0.2222222222222222, \"#7201a8\"], [0.3333333333333333, \"#9c179e\"], [0.4444444444444444, \"#bd3786\"], [0.5555555555555556, \"#d8576b\"], [0.6666666666666666, \"#ed7953\"], [0.7777777777777778, \"#fb9f3a\"], [0.8888888888888888, \"#fdca26\"], [1.0, \"#f0f921\"]], \"type\": \"heatmap\"}], \"heatmapgl\": [{\"colorbar\": {\"outlinewidth\": 0, \"ticks\": \"\"}, \"colorscale\": [[0.0, \"#0d0887\"], [0.1111111111111111, \"#46039f\"], [0.2222222222222222, \"#7201a8\"], [0.3333333333333333, \"#9c179e\"], [0.4444444444444444, \"#bd3786\"], [0.5555555555555556, \"#d8576b\"], [0.6666666666666666, \"#ed7953\"], [0.7777777777777778, \"#fb9f3a\"], [0.8888888888888888, \"#fdca26\"], [1.0, \"#f0f921\"]], \"type\": \"heatmapgl\"}], \"histogram\": [{\"marker\": {\"colorbar\": {\"outlinewidth\": 0, \"ticks\": \"\"}}, \"type\": \"histogram\"}], \"histogram2d\": [{\"colorbar\": {\"outlinewidth\": 0, \"ticks\": \"\"}, \"colorscale\": [[0.0, \"#0d0887\"], [0.1111111111111111, \"#46039f\"], [0.2222222222222222, \"#7201a8\"], [0.3333333333333333, \"#9c179e\"], [0.4444444444444444, \"#bd3786\"], [0.5555555555555556, \"#d8576b\"], [0.6666666666666666, \"#ed7953\"], [0.7777777777777778, \"#fb9f3a\"], [0.8888888888888888, \"#fdca26\"], [1.0, \"#f0f921\"]], \"type\": \"histogram2d\"}], \"histogram2dcontour\": [{\"colorbar\": {\"outlinewidth\": 0, \"ticks\": \"\"}, \"colorscale\": [[0.0, \"#0d0887\"], [0.1111111111111111, \"#46039f\"], [0.2222222222222222, \"#7201a8\"], [0.3333333333333333, \"#9c179e\"], [0.4444444444444444, \"#bd3786\"], [0.5555555555555556, \"#d8576b\"], [0.6666666666666666, \"#ed7953\"], [0.7777777777777778, \"#fb9f3a\"], [0.8888888888888888, \"#fdca26\"], [1.0, \"#f0f921\"]], \"type\": \"histogram2dcontour\"}], \"mesh3d\": [{\"colorbar\": {\"outlinewidth\": 0, \"ticks\": \"\"}, \"type\": \"mesh3d\"}], \"parcoords\": [{\"line\": {\"colorbar\": {\"outlinewidth\": 0, \"ticks\": \"\"}}, \"type\": \"parcoords\"}], \"pie\": [{\"automargin\": true, \"type\": \"pie\"}], \"scatter\": [{\"marker\": {\"colorbar\": {\"outlinewidth\": 0, \"ticks\": \"\"}}, \"type\": \"scatter\"}], \"scatter3d\": [{\"line\": {\"colorbar\": {\"outlinewidth\": 0, \"ticks\": \"\"}}, \"marker\": {\"colorbar\": {\"outlinewidth\": 0, \"ticks\": \"\"}}, \"type\": \"scatter3d\"}], \"scattercarpet\": [{\"marker\": {\"colorbar\": {\"outlinewidth\": 0, \"ticks\": \"\"}}, \"type\": \"scattercarpet\"}], \"scattergeo\": [{\"marker\": {\"colorbar\": {\"outlinewidth\": 0, \"ticks\": \"\"}}, \"type\": \"scattergeo\"}], \"scattergl\": [{\"marker\": {\"colorbar\": {\"outlinewidth\": 0, \"ticks\": \"\"}}, \"type\": \"scattergl\"}], \"scattermapbox\": [{\"marker\": {\"colorbar\": {\"outlinewidth\": 0, \"ticks\": \"\"}}, \"type\": \"scattermapbox\"}], \"scatterpolar\": [{\"marker\": {\"colorbar\": {\"outlinewidth\": 0, \"ticks\": \"\"}}, \"type\": \"scatterpolar\"}], \"scatterpolargl\": [{\"marker\": {\"colorbar\": {\"outlinewidth\": 0, \"ticks\": \"\"}}, \"type\": \"scatterpolargl\"}], \"scatterternary\": [{\"marker\": {\"colorbar\": {\"outlinewidth\": 0, \"ticks\": \"\"}}, \"type\": \"scatterternary\"}], \"surface\": [{\"colorbar\": {\"outlinewidth\": 0, \"ticks\": \"\"}, \"colorscale\": [[0.0, \"#0d0887\"], [0.1111111111111111, \"#46039f\"], [0.2222222222222222, \"#7201a8\"], [0.3333333333333333, \"#9c179e\"], [0.4444444444444444, \"#bd3786\"], [0.5555555555555556, \"#d8576b\"], [0.6666666666666666, \"#ed7953\"], [0.7777777777777778, \"#fb9f3a\"], [0.8888888888888888, \"#fdca26\"], [1.0, \"#f0f921\"]], \"type\": \"surface\"}], \"table\": [{\"cells\": {\"fill\": {\"color\": \"#EBF0F8\"}, \"line\": {\"color\": \"white\"}}, \"header\": {\"fill\": {\"color\": \"#C8D4E3\"}, \"line\": {\"color\": \"white\"}}, \"type\": \"table\"}]}, \"layout\": {\"annotationdefaults\": {\"arrowcolor\": \"#2a3f5f\", \"arrowhead\": 0, \"arrowwidth\": 1}, \"coloraxis\": {\"colorbar\": {\"outlinewidth\": 0, \"ticks\": \"\"}}, \"colorscale\": {\"diverging\": [[0, \"#8e0152\"], [0.1, \"#c51b7d\"], [0.2, \"#de77ae\"], [0.3, \"#f1b6da\"], [0.4, \"#fde0ef\"], [0.5, \"#f7f7f7\"], [0.6, \"#e6f5d0\"], [0.7, \"#b8e186\"], [0.8, \"#7fbc41\"], [0.9, \"#4d9221\"], [1, \"#276419\"]], \"sequential\": [[0.0, \"#0d0887\"], [0.1111111111111111, \"#46039f\"], [0.2222222222222222, \"#7201a8\"], [0.3333333333333333, \"#9c179e\"], [0.4444444444444444, \"#bd3786\"], [0.5555555555555556, \"#d8576b\"], [0.6666666666666666, \"#ed7953\"], [0.7777777777777778, \"#fb9f3a\"], [0.8888888888888888, \"#fdca26\"], [1.0, \"#f0f921\"]], \"sequentialminus\": [[0.0, \"#0d0887\"], [0.1111111111111111, \"#46039f\"], [0.2222222222222222, \"#7201a8\"], [0.3333333333333333, \"#9c179e\"], [0.4444444444444444, \"#bd3786\"], [0.5555555555555556, \"#d8576b\"], [0.6666666666666666, \"#ed7953\"], [0.7777777777777778, \"#fb9f3a\"], [0.8888888888888888, \"#fdca26\"], [1.0, \"#f0f921\"]]}, \"colorway\": [\"#636efa\", \"#EF553B\", \"#00cc96\", \"#ab63fa\", \"#FFA15A\", \"#19d3f3\", \"#FF6692\", \"#B6E880\", \"#FF97FF\", \"#FECB52\"], \"font\": {\"color\": \"#2a3f5f\"}, \"geo\": {\"bgcolor\": \"white\", \"lakecolor\": \"white\", \"landcolor\": \"#E5ECF6\", \"showlakes\": true, \"showland\": true, \"subunitcolor\": \"white\"}, \"hoverlabel\": {\"align\": \"left\"}, \"hovermode\": \"closest\", \"mapbox\": {\"style\": \"light\"}, \"paper_bgcolor\": \"white\", \"plot_bgcolor\": \"#E5ECF6\", \"polar\": {\"angularaxis\": {\"gridcolor\": \"white\", \"linecolor\": \"white\", \"ticks\": \"\"}, \"bgcolor\": \"#E5ECF6\", \"radialaxis\": {\"gridcolor\": \"white\", \"linecolor\": \"white\", \"ticks\": \"\"}}, \"scene\": {\"xaxis\": {\"backgroundcolor\": \"#E5ECF6\", \"gridcolor\": \"white\", \"gridwidth\": 2, \"linecolor\": \"white\", \"showbackground\": true, \"ticks\": \"\", \"zerolinecolor\": \"white\"}, \"yaxis\": {\"backgroundcolor\": \"#E5ECF6\", \"gridcolor\": \"white\", \"gridwidth\": 2, \"linecolor\": \"white\", \"showbackground\": true, \"ticks\": \"\", \"zerolinecolor\": \"white\"}, \"zaxis\": {\"backgroundcolor\": \"#E5ECF6\", \"gridcolor\": \"white\", \"gridwidth\": 2, \"linecolor\": \"white\", \"showbackground\": true, \"ticks\": \"\", \"zerolinecolor\": \"white\"}}, \"shapedefaults\": {\"line\": {\"color\": \"#2a3f5f\"}}, \"ternary\": {\"aaxis\": {\"gridcolor\": \"white\", \"linecolor\": \"white\", \"ticks\": \"\"}, \"baxis\": {\"gridcolor\": \"white\", \"linecolor\": \"white\", \"ticks\": \"\"}, \"bgcolor\": \"#E5ECF6\", \"caxis\": {\"gridcolor\": \"white\", \"linecolor\": \"white\", \"ticks\": \"\"}}, \"title\": {\"x\": 0.05}, \"xaxis\": {\"automargin\": true, \"gridcolor\": \"white\", \"linecolor\": \"white\", \"ticks\": \"\", \"title\": {\"standoff\": 15}, \"zerolinecolor\": \"white\", \"zerolinewidth\": 2}, \"yaxis\": {\"automargin\": true, \"gridcolor\": \"white\", \"linecolor\": \"white\", \"ticks\": \"\", \"title\": {\"standoff\": 15}, \"zerolinecolor\": \"white\", \"zerolinewidth\": 2}}}, \"title\": {\"text\": \"Valores reais e previstos de correla\\u00e7\\u00e3o negativa de mortalidade de COVID-19\"}},\n",
              "                        {\"responsive\": true}\n",
              "                    ).then(function(){\n",
              "                            \n",
              "var gd = document.getElementById('8ba3e2fe-7a01-4483-8c09-23127f10210c');\n",
              "var x = new MutationObserver(function (mutations, observer) {{\n",
              "        var display = window.getComputedStyle(gd).display;\n",
              "        if (!display || display === 'none') {{\n",
              "            console.log([gd, 'removed!']);\n",
              "            Plotly.purge(gd);\n",
              "            observer.disconnect();\n",
              "        }}\n",
              "}});\n",
              "\n",
              "// Listen for the removal of the full notebook cells\n",
              "var notebookContainer = gd.closest('#notebook-container');\n",
              "if (notebookContainer) {{\n",
              "    x.observe(notebookContainer, {childList: true});\n",
              "}}\n",
              "\n",
              "// Listen for the clearing of the current output cell\n",
              "var outputEl = gd.closest('.output');\n",
              "if (outputEl) {{\n",
              "    x.observe(outputEl, {childList: true});\n",
              "}}\n",
              "\n",
              "                        })\n",
              "                };\n",
              "                \n",
              "            </script>\n",
              "        </div>\n",
              "</body>\n",
              "</html>"
            ]
          },
          "metadata": {
            "tags": []
          }
        }
      ]
    },
    {
      "cell_type": "code",
      "metadata": {
        "id": "AdVn0qKkIvmE",
        "colab": {
          "base_uri": "https://localhost:8080/",
          "height": 401
        },
        "outputId": "81b038b3-04a6-4804-ae66-e66556c18ebb"
      },
      "source": [
        "df_corr_negativa = pd.DataFrame ({'Real': ytest_corr_negativa, 'Previsto': ipred_corr_negativa}) \n",
        "sns.lmplot(x=\"Real\", y=\"Previsto\", data=df_corr_negativa)"
      ],
      "execution_count": null,
      "outputs": [
        {
          "output_type": "execute_result",
          "data": {
            "text/plain": [
              "<seaborn.axisgrid.FacetGrid at 0x7fe99c462110>"
            ]
          },
          "metadata": {
            "tags": []
          },
          "execution_count": 37
        },
        {
          "output_type": "display_data",
          "data": {
            "image/png": "[encoded data removed]",
            "text/plain": [
              "<Figure size 360x360 with 1 Axes>"
            ]
          },
          "metadata": {
            "tags": [],
            "needs_background": "light"
          }
        }
      ]
    },
    {
      "cell_type": "code",
      "metadata": {
        "id": "SCxvQ0HZ-NPw"
      },
      "source": [
        "corr_posit_negat = corr_posit + corr_negat\n",
        "corr_pos_neg = idhmcovid[idhmcovid.columns.intersection(corr_posit_negat)]"
      ],
      "execution_count": null,
      "outputs": []
    },
    {
      "cell_type": "code",
      "metadata": {
        "id": "PJsDtEVnmM1W"
      },
      "source": [
        "xtrain_corr_pos_neg, xtest_corr_pos_neg, ytrain_corr_pos_neg, ytest_corr_pos_neg = train_test_split(corr_pos_neg, mortalidade, test_size=0.4, random_state=42)"
      ],
      "execution_count": null,
      "outputs": []
    },
    {
      "cell_type": "code",
      "metadata": {
        "id": "KRBmBdtImZ10",
        "colab": {
          "base_uri": "https://localhost:8080/"
        },
        "outputId": "8e9c8ff8-3607-409a-ba26-7fc7f5c4416a"
      },
      "source": [
        "linreg_corr_pos_neg = LinearRegression()\n",
        "linreg_corr_pos_neg.fit(xtrain_corr_pos_neg, ytrain_corr_pos_neg)\n",
        "print('linear model coeff (w): {}'\n",
        ".format(linreg_corr_pos_neg.coef_))\n",
        "print('linear model intercept (b): {:.3f}'\n",
        ".format(linreg_corr_pos_neg.intercept_))\n",
        "print('R-squared score (training): {:.3f}'\n",
        ".format(linreg_corr_pos_neg.score(xtrain_corr_pos_neg, ytrain_corr_pos_neg)))\n",
        "print('R-squared score (test): {:.3f}'\n",
        ".format(linreg_corr_pos_neg.score(xtest_corr_pos_neg, ytest_corr_pos_neg)))"
      ],
      "execution_count": null,
      "outputs": [
        {
          "output_type": "stream",
          "text": [
            "linear model coeff (w): [ 7.51448454e-04  9.03577133e-05 -1.58465776e-03  7.45525267e-05\n",
            " -1.26405552e-03 -2.87878960e-03 -8.33498716e-04 -1.24243305e-03\n",
            " -3.63186798e-03  6.18326989e-04  1.47665244e-03  4.96451211e-04\n",
            " -1.62864731e-03  7.42298058e-05 -2.22032980e-03 -5.28253156e-04\n",
            "  2.37108308e-03  2.74717765e-01 -4.75133690e-10]\n",
            "linear model intercept (b): 0.304\n",
            "R-squared score (training): 0.553\n",
            "R-squared score (test): -0.521\n"
          ],
          "name": "stdout"
        }
      ]
    },
    {
      "cell_type": "code",
      "metadata": {
        "id": "f7Q6ylHQm6ow",
        "colab": {
          "base_uri": "https://localhost:8080/"
        },
        "outputId": "804e06dd-cf6b-41db-90ee-596e22d13b73"
      },
      "source": [
        "pred_corr_pos_neg = linreg_corr_pos_neg.predict(xtest_corr_pos_neg)\n",
        "print('Mean squared error: %.2f'\n",
        "      % mean_squared_error(ytest_corr_pos_neg, pred_corr_pos_neg))\n",
        "print('Coefficient of determination: %.2f'\n",
        "      % r2_score(ytest_corr_pos_neg, pred_corr_pos_neg))"
      ],
      "execution_count": null,
      "outputs": [
        {
          "output_type": "stream",
          "text": [
            "Mean squared error: 0.00\n",
            "Coefficient of determination: -0.52\n"
          ],
          "name": "stdout"
        }
      ]
    },
    {
      "cell_type": "code",
      "metadata": {
        "id": "9skuAKJAnMpi",
        "colab": {
          "base_uri": "https://localhost:8080/",
          "height": 542
        },
        "outputId": "c97425c6-14cb-47f4-d09c-1592db4a068d"
      },
      "source": [
        "fig = go.Figure(data=go.Scatter(x=ytest_corr_pos_neg, y=pred_corr_pos_neg, mode='markers')) \n",
        "fig.update_layout(title=\"Valores reais e previstos das 20 maiores correlações de mortalidade de COVID-19\")\n",
        "fig.show()"
      ],
      "execution_count": null,
      "outputs": [
        {
          "output_type": "display_data",
          "data": {
            "text/html": [
              "<html>\n",
              "<head><meta charset=\"utf-8\" /></head>\n",
              "<body>\n",
              "    <div>\n",
              "            <script src=\"https://cdnjs.cloudflare.com/ajax/libs/mathjax/2.7.5/MathJax.js?config=TeX-AMS-MML_SVG\"></script><script type=\"text/javascript\">if (window.MathJax) {MathJax.Hub.Config({SVG: {font: \"STIX-Web\"}});}</script>\n",
              "                <script type=\"text/javascript\">window.PlotlyConfig = {MathJaxConfig: 'local'};</script>\n",
              "        <script src=\"https://cdn.plot.ly/plotly-latest.min.js\"></script>    \n",
              "            <div id=\"4aa67426-ce19-4a19-bd20-98d494d1993b\" class=\"plotly-graph-div\" style=\"height:525px; width:100%;\"></div>\n",
              "            <script type=\"text/javascript\">\n",
              "                \n",
              "                    window.PLOTLYENV=window.PLOTLYENV || {};\n",
              "                    \n",
              "                if (document.getElementById(\"4aa67426-ce19-4a19-bd20-98d494d1993b\")) {\n",
              "                    Plotly.newPlot(\n",
              "                        '4aa67426-ce19-4a19-bd20-98d494d1993b',\n",
              "                        [{\"mode\": \"markers\", \"type\": \"scatter\", \"x\": [0.0212, 0.0183, 0.0522, 0.0222, 0.0247, 0.0144, 0.0449, 0.0451, 0.0144, 0.07, 0.0389, 0.0289, 0.032, 0.0191, 0.0411, 0.0145, 0.0258, 0.0294, 0.04, 0.0518, 0.0243, 0.0143, 0.0202, 0.0188, 0.0277, 0.0306, 0.0312, 0.0253, 0.0508, 0.0241, 0.0258, 0.0292, 0.0394, 0.0317, 0.024, 0.0372, 0.0296, 0.0645, 0.0233, 0.0303, 0.0233, 0.0121, 0.0342, 0.0205, 0.0281, 0.0191, 0.0286, 0.0361, 0.0387, 0.0445, 0.0194, 0.0193, 0.0159, 0.0315, 0.0142, 0.0394, 0.0292, 0.0282, 0.0271, 0.009000000000000001, 0.0193, 0.0466, 0.0251, 0.0134, 0.03, 0.0166, 0.031, 0.0198, 0.0194, 0.0272, 0.0281, 0.0157, 0.0393, 0.0311, 0.040999999999999995, 0.0443, 0.0267, 0.0198, 0.0249, 0.0419, 0.0344, 0.0196, 0.0419, 0.0344, 0.0349, 0.0112, 0.0286, 0.0698, 0.0284, 0.0352, 0.0568, 0.0352, 0.0482, 0.0112, 0.0327, 0.0173, 0.0217, 0.0126, 0.0188, 0.0248, 0.0224, 0.0254, 0.0352, 0.0178, 0.0318, 0.044000000000000004, 0.0214, 0.017, 0.015, 0.0251, 0.0245, 0.0248, 0.0354, 0.0452, 0.0273, 0.0158, 0.0158, 0.0261, 0.0873, 0.0283, 0.0227, 0.0286, 0.0312, 0.036000000000000004, 0.0409, 0.0585, 0.0306, 0.0472, 0.019, 0.0085], \"y\": [0.012004557397368554, 0.014209401093411678, 0.027571957453858265, 0.04083567024918611, 0.01367498861162264, 0.021195881962508878, 0.04692628949061661, 0.02531596094695332, -0.0007453374117989964, 0.08290221612616264, 0.03396273242254644, 0.044839933132204024, 0.03928389439564228, 0.017037452421399646, 0.04953162060921085, 0.015145137163471822, 0.036334491140913305, 0.037548685851639785, 0.002212626531901296, 0.0583721878693603, 0.012225342228821101, 0.019665022251239006, 0.02420459037317102, 0.0441356358051444, 0.012696840825498656, 0.06453093074279367, 0.04713962616331019, 0.02599070840021278, 0.06354678608023404, 0.01629245738159335, 0.06532199072909142, 0.033731202815253214, 0.021482506603549112, 0.014584504864125325, 0.023148670263758886, 0.05130645288277769, 0.02542100652120649, 0.0011599348622505223, 0.022392846668405852, 0.029685057669043113, 0.0188330867084478, 0.02259058455013674, 0.034886570524725824, 0.00830993301479771, 0.028758444367940506, 0.012544650296083648, 0.021064022257035464, 0.03434825738049707, 0.04379262057394018, 0.030552202427191644, 0.030577880341722652, 0.018337959325731568, 0.027616111641428576, 0.041087226208115946, 0.028096120621774412, 0.038573101026864676, 0.04317084334163934, 0.03763799199301593, 0.03360231348423892, 0.03306437291097286, 0.030907251448612283, 0.02410016078529803, 0.0350376608568021, 0.017807747304588728, 0.022359823699242, 0.03259369411141522, 0.05064155770653295, 0.04353081282278559, 0.016572425586486472, 0.022563514580814903, 0.033994910035766546, 0.028192230657551998, 0.019218069510846703, 0.036055198357218765, 0.040245040827545375, 0.027619210870118704, 0.019915647842935813, 0.023093454996270857, 0.02254233698318764, 0.03253087605893895, 0.03480090482526388, 0.0314320253418684, 0.05104499512888505, 0.025946113439776042, 0.04903060938350823, 0.022709518928866634, 0.087658087322915, 0.057170534497415965, 0.019756003875610995, 0.044041681207936945, 0.043270421153555505, 0.028221257606307004, 0.031146426924463566, 0.017159502019209794, 0.01623451907649226, 0.020621054813677542, 0.021816518443917632, 0.005286003745902101, 0.045902299784159606, 0.0447658650759003, 0.052008572604030634, 0.03679121720999323, 0.026440620982530916, 0.007715211198286942, 0.05818428396443642, 0.03588170309407629, 0.015317208545001848, 0.018851851669784925, 0.007444805767049922, 0.03491171854903935, 0.053475809774905236, 0.028769320954202704, 0.046274417536852075, 0.0697092286813788, 0.02958824217459327, 0.031858470465175204, 0.02489204107176446, 0.036120440897372263, 0.06409175043242973, 0.07123543347996256, 0.03593720462070976, 0.019657184683744555, 0.030709686859912655, 0.04673942495093514, 0.037871143990154066, 0.08325841229578296, 0.033924975933644186, 0.05483994454239843, 0.05803016825399085, 0.0019351619947544085]}],\n",
              "                        {\"template\": {\"data\": {\"bar\": [{\"error_x\": {\"color\": \"#2a3f5f\"}, \"error_y\": {\"color\": \"#2a3f5f\"}, \"marker\": {\"line\": {\"color\": \"#E5ECF6\", \"width\": 0.5}}, \"type\": \"bar\"}], \"barpolar\": [{\"marker\": {\"line\": {\"color\": \"#E5ECF6\", \"width\": 0.5}}, \"type\": \"barpolar\"}], \"carpet\": [{\"aaxis\": {\"endlinecolor\": \"#2a3f5f\", \"gridcolor\": \"white\", \"linecolor\": \"white\", \"minorgridcolor\": \"white\", \"startlinecolor\": \"#2a3f5f\"}, \"baxis\": {\"endlinecolor\": \"#2a3f5f\", \"gridcolor\": \"white\", \"linecolor\": \"white\", \"minorgridcolor\": \"white\", \"startlinecolor\": \"#2a3f5f\"}, \"type\": \"carpet\"}], \"choropleth\": [{\"colorbar\": {\"outlinewidth\": 0, \"ticks\": \"\"}, \"type\": \"choropleth\"}], \"contour\": [{\"colorbar\": {\"outlinewidth\": 0, \"ticks\": \"\"}, \"colorscale\": [[0.0, \"#0d0887\"], [0.1111111111111111, \"#46039f\"], [0.2222222222222222, \"#7201a8\"], [0.3333333333333333, \"#9c179e\"], [0.4444444444444444, \"#bd3786\"], [0.5555555555555556, \"#d8576b\"], [0.6666666666666666, \"#ed7953\"], [0.7777777777777778, \"#fb9f3a\"], [0.8888888888888888, \"#fdca26\"], [1.0, \"#f0f921\"]], \"type\": \"contour\"}], \"contourcarpet\": [{\"colorbar\": {\"outlinewidth\": 0, \"ticks\": \"\"}, \"type\": \"contourcarpet\"}], \"heatmap\": [{\"colorbar\": {\"outlinewidth\": 0, \"ticks\": \"\"}, \"colorscale\": [[0.0, \"#0d0887\"], [0.1111111111111111, \"#46039f\"], [0.2222222222222222, \"#7201a8\"], [0.3333333333333333, \"#9c179e\"], [0.4444444444444444, \"#bd3786\"], [0.5555555555555556, \"#d8576b\"], [0.6666666666666666, \"#ed7953\"], [0.7777777777777778, \"#fb9f3a\"], [0.8888888888888888, \"#fdca26\"], [1.0, \"#f0f921\"]], \"type\": \"heatmap\"}], \"heatmapgl\": [{\"colorbar\": {\"outlinewidth\": 0, \"ticks\": \"\"}, \"colorscale\": [[0.0, \"#0d0887\"], [0.1111111111111111, \"#46039f\"], [0.2222222222222222, \"#7201a8\"], [0.3333333333333333, \"#9c179e\"], [0.4444444444444444, \"#bd3786\"], [0.5555555555555556, \"#d8576b\"], [0.6666666666666666, \"#ed7953\"], [0.7777777777777778, \"#fb9f3a\"], [0.8888888888888888, \"#fdca26\"], [1.0, \"#f0f921\"]], \"type\": \"heatmapgl\"}], \"histogram\": [{\"marker\": {\"colorbar\": {\"outlinewidth\": 0, \"ticks\": \"\"}}, \"type\": \"histogram\"}], \"histogram2d\": [{\"colorbar\": {\"outlinewidth\": 0, \"ticks\": \"\"}, \"colorscale\": [[0.0, \"#0d0887\"], [0.1111111111111111, \"#46039f\"], [0.2222222222222222, \"#7201a8\"], [0.3333333333333333, \"#9c179e\"], [0.4444444444444444, \"#bd3786\"], [0.5555555555555556, \"#d8576b\"], [0.6666666666666666, \"#ed7953\"], [0.7777777777777778, \"#fb9f3a\"], [0.8888888888888888, \"#fdca26\"], [1.0, \"#f0f921\"]], \"type\": \"histogram2d\"}], \"histogram2dcontour\": [{\"colorbar\": {\"outlinewidth\": 0, \"ticks\": \"\"}, \"colorscale\": [[0.0, \"#0d0887\"], [0.1111111111111111, \"#46039f\"], [0.2222222222222222, \"#7201a8\"], [0.3333333333333333, \"#9c179e\"], [0.4444444444444444, \"#bd3786\"], [0.5555555555555556, \"#d8576b\"], [0.6666666666666666, \"#ed7953\"], [0.7777777777777778, \"#fb9f3a\"], [0.8888888888888888, \"#fdca26\"], [1.0, \"#f0f921\"]], \"type\": \"histogram2dcontour\"}], \"mesh3d\": [{\"colorbar\": {\"outlinewidth\": 0, \"ticks\": \"\"}, \"type\": \"mesh3d\"}], \"parcoords\": [{\"line\": {\"colorbar\": {\"outlinewidth\": 0, \"ticks\": \"\"}}, \"type\": \"parcoords\"}], \"pie\": [{\"automargin\": true, \"type\": \"pie\"}], \"scatter\": [{\"marker\": {\"colorbar\": {\"outlinewidth\": 0, \"ticks\": \"\"}}, \"type\": \"scatter\"}], \"scatter3d\": [{\"line\": {\"colorbar\": {\"outlinewidth\": 0, \"ticks\": \"\"}}, \"marker\": {\"colorbar\": {\"outlinewidth\": 0, \"ticks\": \"\"}}, \"type\": \"scatter3d\"}], \"scattercarpet\": [{\"marker\": {\"colorbar\": {\"outlinewidth\": 0, \"ticks\": \"\"}}, \"type\": \"scattercarpet\"}], \"scattergeo\": [{\"marker\": {\"colorbar\": {\"outlinewidth\": 0, \"ticks\": \"\"}}, \"type\": \"scattergeo\"}], \"scattergl\": [{\"marker\": {\"colorbar\": {\"outlinewidth\": 0, \"ticks\": \"\"}}, \"type\": \"scattergl\"}], \"scattermapbox\": [{\"marker\": {\"colorbar\": {\"outlinewidth\": 0, \"ticks\": \"\"}}, \"type\": \"scattermapbox\"}], \"scatterpolar\": [{\"marker\": {\"colorbar\": {\"outlinewidth\": 0, \"ticks\": \"\"}}, \"type\": \"scatterpolar\"}], \"scatterpolargl\": [{\"marker\": {\"colorbar\": {\"outlinewidth\": 0, \"ticks\": \"\"}}, \"type\": \"scatterpolargl\"}], \"scatterternary\": [{\"marker\": {\"colorbar\": {\"outlinewidth\": 0, \"ticks\": \"\"}}, \"type\": \"scatterternary\"}], \"surface\": [{\"colorbar\": {\"outlinewidth\": 0, \"ticks\": \"\"}, \"colorscale\": [[0.0, \"#0d0887\"], [0.1111111111111111, \"#46039f\"], [0.2222222222222222, \"#7201a8\"], [0.3333333333333333, \"#9c179e\"], [0.4444444444444444, \"#bd3786\"], [0.5555555555555556, \"#d8576b\"], [0.6666666666666666, \"#ed7953\"], [0.7777777777777778, \"#fb9f3a\"], [0.8888888888888888, \"#fdca26\"], [1.0, \"#f0f921\"]], \"type\": \"surface\"}], \"table\": [{\"cells\": {\"fill\": {\"color\": \"#EBF0F8\"}, \"line\": {\"color\": \"white\"}}, \"header\": {\"fill\": {\"color\": \"#C8D4E3\"}, \"line\": {\"color\": \"white\"}}, \"type\": \"table\"}]}, \"layout\": {\"annotationdefaults\": {\"arrowcolor\": \"#2a3f5f\", \"arrowhead\": 0, \"arrowwidth\": 1}, \"coloraxis\": {\"colorbar\": {\"outlinewidth\": 0, \"ticks\": \"\"}}, \"colorscale\": {\"diverging\": [[0, \"#8e0152\"], [0.1, \"#c51b7d\"], [0.2, \"#de77ae\"], [0.3, \"#f1b6da\"], [0.4, \"#fde0ef\"], [0.5, \"#f7f7f7\"], [0.6, \"#e6f5d0\"], [0.7, \"#b8e186\"], [0.8, \"#7fbc41\"], [0.9, \"#4d9221\"], [1, \"#276419\"]], \"sequential\": [[0.0, \"#0d0887\"], [0.1111111111111111, \"#46039f\"], [0.2222222222222222, \"#7201a8\"], [0.3333333333333333, \"#9c179e\"], [0.4444444444444444, \"#bd3786\"], [0.5555555555555556, \"#d8576b\"], [0.6666666666666666, \"#ed7953\"], [0.7777777777777778, \"#fb9f3a\"], [0.8888888888888888, \"#fdca26\"], [1.0, \"#f0f921\"]], \"sequentialminus\": [[0.0, \"#0d0887\"], [0.1111111111111111, \"#46039f\"], [0.2222222222222222, \"#7201a8\"], [0.3333333333333333, \"#9c179e\"], [0.4444444444444444, \"#bd3786\"], [0.5555555555555556, \"#d8576b\"], [0.6666666666666666, \"#ed7953\"], [0.7777777777777778, \"#fb9f3a\"], [0.8888888888888888, \"#fdca26\"], [1.0, \"#f0f921\"]]}, \"colorway\": [\"#636efa\", \"#EF553B\", \"#00cc96\", \"#ab63fa\", \"#FFA15A\", \"#19d3f3\", \"#FF6692\", \"#B6E880\", \"#FF97FF\", \"#FECB52\"], \"font\": {\"color\": \"#2a3f5f\"}, \"geo\": {\"bgcolor\": \"white\", \"lakecolor\": \"white\", \"landcolor\": \"#E5ECF6\", \"showlakes\": true, \"showland\": true, \"subunitcolor\": \"white\"}, \"hoverlabel\": {\"align\": \"left\"}, \"hovermode\": \"closest\", \"mapbox\": {\"style\": \"light\"}, \"paper_bgcolor\": \"white\", \"plot_bgcolor\": \"#E5ECF6\", \"polar\": {\"angularaxis\": {\"gridcolor\": \"white\", \"linecolor\": \"white\", \"ticks\": \"\"}, \"bgcolor\": \"#E5ECF6\", \"radialaxis\": {\"gridcolor\": \"white\", \"linecolor\": \"white\", \"ticks\": \"\"}}, \"scene\": {\"xaxis\": {\"backgroundcolor\": \"#E5ECF6\", \"gridcolor\": \"white\", \"gridwidth\": 2, \"linecolor\": \"white\", \"showbackground\": true, \"ticks\": \"\", \"zerolinecolor\": \"white\"}, \"yaxis\": {\"backgroundcolor\": \"#E5ECF6\", \"gridcolor\": \"white\", \"gridwidth\": 2, \"linecolor\": \"white\", \"showbackground\": true, \"ticks\": \"\", \"zerolinecolor\": \"white\"}, \"zaxis\": {\"backgroundcolor\": \"#E5ECF6\", \"gridcolor\": \"white\", \"gridwidth\": 2, \"linecolor\": \"white\", \"showbackground\": true, \"ticks\": \"\", \"zerolinecolor\": \"white\"}}, \"shapedefaults\": {\"line\": {\"color\": \"#2a3f5f\"}}, \"ternary\": {\"aaxis\": {\"gridcolor\": \"white\", \"linecolor\": \"white\", \"ticks\": \"\"}, \"baxis\": {\"gridcolor\": \"white\", \"linecolor\": \"white\", \"ticks\": \"\"}, \"bgcolor\": \"#E5ECF6\", \"caxis\": {\"gridcolor\": \"white\", \"linecolor\": \"white\", \"ticks\": \"\"}}, \"title\": {\"x\": 0.05}, \"xaxis\": {\"automargin\": true, \"gridcolor\": \"white\", \"linecolor\": \"white\", \"ticks\": \"\", \"title\": {\"standoff\": 15}, \"zerolinecolor\": \"white\", \"zerolinewidth\": 2}, \"yaxis\": {\"automargin\": true, \"gridcolor\": \"white\", \"linecolor\": \"white\", \"ticks\": \"\", \"title\": {\"standoff\": 15}, \"zerolinecolor\": \"white\", \"zerolinewidth\": 2}}}, \"title\": {\"text\": \"Valores reais e previstos das 20 maiores correla\\u00e7\\u00f5es de mortalidade de COVID-19\"}},\n",
              "                        {\"responsive\": true}\n",
              "                    ).then(function(){\n",
              "                            \n",
              "var gd = document.getElementById('4aa67426-ce19-4a19-bd20-98d494d1993b');\n",
              "var x = new MutationObserver(function (mutations, observer) {{\n",
              "        var display = window.getComputedStyle(gd).display;\n",
              "        if (!display || display === 'none') {{\n",
              "            console.log([gd, 'removed!']);\n",
              "            Plotly.purge(gd);\n",
              "            observer.disconnect();\n",
              "        }}\n",
              "}});\n",
              "\n",
              "// Listen for the removal of the full notebook cells\n",
              "var notebookContainer = gd.closest('#notebook-container');\n",
              "if (notebookContainer) {{\n",
              "    x.observe(notebookContainer, {childList: true});\n",
              "}}\n",
              "\n",
              "// Listen for the clearing of the current output cell\n",
              "var outputEl = gd.closest('.output');\n",
              "if (outputEl) {{\n",
              "    x.observe(outputEl, {childList: true});\n",
              "}}\n",
              "\n",
              "                        })\n",
              "                };\n",
              "                \n",
              "            </script>\n",
              "        </div>\n",
              "</body>\n",
              "</html>"
            ]
          },
          "metadata": {
            "tags": []
          }
        }
      ]
    },
    {
      "cell_type": "code",
      "metadata": {
        "id": "p36mO72qnbpN",
        "colab": {
          "base_uri": "https://localhost:8080/",
          "height": 401
        },
        "outputId": "8a665211-6365-43f8-d4ad-6ae79fd6d2f2"
      },
      "source": [
        "df_corr_pos_neg = pd.DataFrame ({'Real': ytest_corr_pos_neg, 'Previsto': pred_corr_pos_neg}) \n",
        "sns.lmplot(x=\"Real\", y=\"Previsto\", data=df_corr_pos_neg)"
      ],
      "execution_count": null,
      "outputs": [
        {
          "output_type": "execute_result",
          "data": {
            "text/plain": [
              "<seaborn.axisgrid.FacetGrid at 0x7fe994cc0b50>"
            ]
          },
          "metadata": {
            "tags": []
          },
          "execution_count": 47
        },
        {
          "output_type": "display_data",
          "data": {
            "image/png": "[encoded data removed]",
            "text/plain": [
              "<Figure size 360x360 with 1 Axes>"
            ]
          },
          "metadata": {
            "tags": [],
            "needs_background": "light"
          }
        }
      ]
    }
  ]
}