{
  "nbformat": 4,
  "nbformat_minor": 0,
  "metadata": {
    "colab": {
      "name": "regressao-linear-incidencia",
      "provenance": [],
      "collapsed_sections": [],
      "include_colab_link": true
    },
    "kernelspec": {
      "display_name": "Python 3",
      "name": "python3"
    }
  },
  "cells": [
    {
      "cell_type": "markdown",
      "metadata": {
        "id": "view-in-github",
        "colab_type": "text"
      },
      "source": [
        "<a href=\"https://colab.research.google.com/github/mirianbatista/covid-fatores/blob/master/regressao_linear_incidencia.ipynb\" target=\"_parent\"><img src=\"https://colab.research.google.com/assets/colab-badge.svg\" alt=\"Open In Colab\"/></a>"
      ]
    },
    {
      "cell_type": "code",
      "metadata": {
        "id": "TgBAYDjAcHc-"
      },
      "source": [
        "import pandas as pd\n",
        "import requests\n",
        "import io\n",
        "import gzip\n",
        "from sklearn.model_selection import train_test_split\n",
        "from sklearn.linear_model import LinearRegression\n",
        "from sklearn.metrics import mean_squared_error, r2_score\n",
        "import plotly.graph_objects as go\n",
        "import seaborn as sns"
      ],
      "execution_count": null,
      "outputs": []
    },
    {
      "cell_type": "code",
      "metadata": {
        "id": "hBxwtBwWchyy"
      },
      "source": [
        "indicadores = 'ANO', 'Codmun7', 'UF', 'Município', 'ESPVIDA', 'FECTOT', 'MORT1', 'SOBRE60', 'T_ENV', 'E_ANOSESTUDO', 'T_ANALF11A14', 'T_ANALF25M', 'T_ATRASO_0_BASICO', 'T_ATRASO_2_BASICO', 'T_FLPRE', 'T_FLSUPER', 'T_FREQSUPER1517', 'T_SUPER25M', 'T_MED25M', 'GINI', 'PIND', 'PINDCRI', 'PMPOB', 'PMPOBCRI', 'RDPC', 'CPR', 'EMP', 'P_AGRO', 'P_COM', 'P_CONSTR', 'P_EXTR', 'P_FORMAL', 'P_FUND', 'P_MED', 'P_SERV', 'P_SIUP', 'P_SUPER', 'T_DES2529', 'TRABCC', 'TRABPUB', 'TRABSC', 'T_AGUA', 'T_BANAGUA', 'T_DENS', 'T_LIXO', 'T_LUZ', 'AGUA_ESGOTO', 'PAREDE', 'T_CRIFUNDIN_TODOS', 'T_FORA4A5', 'T_FORA6A14', 'T_FUNDIN_TODOS', 'T_FUNDIN_TODOS_MMEIO', 'T_FUNDIN18MINF', 'T_M10A14CF', 'T_M15A17CF', 'T_MULCHEFEFIF014', 'T_NESTUDA_NTRAB_MMEIO', 'T_OCUPDESLOC_1', 'T_RMAXIDOSO', 'T_SLUZ', 'HOMEMTOT', 'MULHERTOT', 'pesoRUR', 'pesotot', 'pesourb', 'POP', 'IDHM', 'IDHM_E', 'IDHM_L', 'IDHM_R' \n",
        "idhm = pd.read_excel('https://github.com/mirianbatista/idhm-pb/blob/master/atlas2013_dadosbrutos_pt.xlsx?raw=true', sheet_name=1, usecols = indicadores, dtype = {'UF': str, 'Codmun7':str}) \n",
        "#idhmpb = idhm.groupby(idhm['UF']).get_group('25').loc[(idhm['ANO'] == 2010)] "
      ],
      "execution_count": null,
      "outputs": []
    },
    {
      "cell_type": "code",
      "metadata": {
        "id": "9TK3iibJd1rV",
        "colab": {
          "base_uri": "https://localhost:8080/",
          "height": 406
        },
        "outputId": "c2a368a9-db52-44a4-cba7-2ee3187a3195"
      },
      "source": [
        "url = \"https://data.brasil.io/dataset/covid19/caso_full.csv.gz\"\n",
        "cols = 'city','city_ibge_code','date','estimated_population_2019','last_available_confirmed_per_100k_inhabitants'\n",
        "response = requests.get(url)\n",
        "bytes_io = io.BytesIO(response.content)\n",
        "with gzip.open(bytes_io, 'rt') as read_file:\n",
        "    covid = pd.read_csv(read_file, usecols=cols, parse_dates=[\"date\"], dtype={\"city_ibge_code\": str})\n",
        "covid = covid[covid.date == max(covid.date)]\n",
        "covid"
      ],
      "execution_count": null,
      "outputs": [
        {
          "output_type": "execute_result",
          "data": {
            "text/html": [
              "<div>\n",
              "<style scoped>\n",
              "    .dataframe tbody tr th:only-of-type {\n",
              "        vertical-align: middle;\n",
              "    }\n",
              "\n",
              "    .dataframe tbody tr th {\n",
              "        vertical-align: top;\n",
              "    }\n",
              "\n",
              "    .dataframe thead th {\n",
              "        text-align: right;\n",
              "    }\n",
              "</style>\n",
              "<table border=\"1\" class=\"dataframe\">\n",
              "  <thead>\n",
              "    <tr style=\"text-align: right;\">\n",
              "      <th></th>\n",
              "      <th>city</th>\n",
              "      <th>city_ibge_code</th>\n",
              "      <th>date</th>\n",
              "      <th>estimated_population_2019</th>\n",
              "      <th>last_available_confirmed_per_100k_inhabitants</th>\n",
              "    </tr>\n",
              "  </thead>\n",
              "  <tbody>\n",
              "    <tr>\n",
              "      <th>8560</th>\n",
              "      <td>Acrelândia</td>\n",
              "      <td>1200013</td>\n",
              "      <td>2021-05-02</td>\n",
              "      <td>15256.0</td>\n",
              "      <td>9657.84377</td>\n",
              "    </tr>\n",
              "    <tr>\n",
              "      <th>8561</th>\n",
              "      <td>Assis Brasil</td>\n",
              "      <td>1200054</td>\n",
              "      <td>2021-05-02</td>\n",
              "      <td>7417.0</td>\n",
              "      <td>20135.38625</td>\n",
              "    </tr>\n",
              "    <tr>\n",
              "      <th>8562</th>\n",
              "      <td>Brasiléia</td>\n",
              "      <td>1200104</td>\n",
              "      <td>2021-05-02</td>\n",
              "      <td>26278.0</td>\n",
              "      <td>9227.77320</td>\n",
              "    </tr>\n",
              "    <tr>\n",
              "      <th>8563</th>\n",
              "      <td>Bujari</td>\n",
              "      <td>1200138</td>\n",
              "      <td>2021-05-02</td>\n",
              "      <td>10266.0</td>\n",
              "      <td>10239.92322</td>\n",
              "    </tr>\n",
              "    <tr>\n",
              "      <th>8564</th>\n",
              "      <td>Capixaba</td>\n",
              "      <td>1200179</td>\n",
              "      <td>2021-05-02</td>\n",
              "      <td>11733.0</td>\n",
              "      <td>4730.17988</td>\n",
              "    </tr>\n",
              "    <tr>\n",
              "      <th>...</th>\n",
              "      <td>...</td>\n",
              "      <td>...</td>\n",
              "      <td>...</td>\n",
              "      <td>...</td>\n",
              "      <td>...</td>\n",
              "    </tr>\n",
              "    <tr>\n",
              "      <th>2005979</th>\n",
              "      <td>Tupirama</td>\n",
              "      <td>1721257</td>\n",
              "      <td>2021-05-02</td>\n",
              "      <td>1891.0</td>\n",
              "      <td>7232.04995</td>\n",
              "    </tr>\n",
              "    <tr>\n",
              "      <th>2005980</th>\n",
              "      <td>Tupiratins</td>\n",
              "      <td>1721307</td>\n",
              "      <td>2021-05-02</td>\n",
              "      <td>2671.0</td>\n",
              "      <td>2345.18139</td>\n",
              "    </tr>\n",
              "    <tr>\n",
              "      <th>2005981</th>\n",
              "      <td>Wanderlândia</td>\n",
              "      <td>1722081</td>\n",
              "      <td>2021-05-02</td>\n",
              "      <td>11683.0</td>\n",
              "      <td>6084.88154</td>\n",
              "    </tr>\n",
              "    <tr>\n",
              "      <th>2005982</th>\n",
              "      <td>Xambioá</td>\n",
              "      <td>1722107</td>\n",
              "      <td>2021-05-02</td>\n",
              "      <td>11540.0</td>\n",
              "      <td>16614.58333</td>\n",
              "    </tr>\n",
              "    <tr>\n",
              "      <th>2005983</th>\n",
              "      <td>NaN</td>\n",
              "      <td>17</td>\n",
              "      <td>2021-05-02</td>\n",
              "      <td>1572866.0</td>\n",
              "      <td>10104.39881</td>\n",
              "    </tr>\n",
              "  </tbody>\n",
              "</table>\n",
              "<p>5616 rows × 5 columns</p>\n",
              "</div>"
            ],
            "text/plain": [
              "                 city  ... last_available_confirmed_per_100k_inhabitants\n",
              "8560       Acrelândia  ...                                    9657.84377\n",
              "8561     Assis Brasil  ...                                   20135.38625\n",
              "8562        Brasiléia  ...                                    9227.77320\n",
              "8563           Bujari  ...                                   10239.92322\n",
              "8564         Capixaba  ...                                    4730.17988\n",
              "...               ...  ...                                           ...\n",
              "2005979      Tupirama  ...                                    7232.04995\n",
              "2005980    Tupiratins  ...                                    2345.18139\n",
              "2005981  Wanderlândia  ...                                    6084.88154\n",
              "2005982       Xambioá  ...                                   16614.58333\n",
              "2005983           NaN  ...                                   10104.39881\n",
              "\n",
              "[5616 rows x 5 columns]"
            ]
          },
          "metadata": {
            "tags": []
          },
          "execution_count": 31
        }
      ]
    },
    {
      "cell_type": "code",
      "metadata": {
        "colab": {
          "base_uri": "https://localhost:8080/",
          "height": 301
        },
        "id": "NmeNIY4LzbGG",
        "outputId": "b080df59-d348-4da2-bb4e-333df87f5b5b"
      },
      "source": [
        "idhmcovid = pd.merge(idhm, covid, left_on=\"Codmun7\", right_on=\"city_ibge_code\", how=\"left\") \n",
        "idhmcovid = idhmcovid.loc[(idhmcovid['estimated_population_2019'] > 100000) & (idhmcovid['ANO'] == 2010)].dropna()\n",
        "idhmcovid.head()"
      ],
      "execution_count": null,
      "outputs": [
        {
          "output_type": "execute_result",
          "data": {
            "text/html": [
              "<div>\n",
              "<style scoped>\n",
              "    .dataframe tbody tr th:only-of-type {\n",
              "        vertical-align: middle;\n",
              "    }\n",
              "\n",
              "    .dataframe tbody tr th {\n",
              "        vertical-align: top;\n",
              "    }\n",
              "\n",
              "    .dataframe thead th {\n",
              "        text-align: right;\n",
              "    }\n",
              "</style>\n",
              "<table border=\"1\" class=\"dataframe\">\n",
              "  <thead>\n",
              "    <tr style=\"text-align: right;\">\n",
              "      <th></th>\n",
              "      <th>ANO</th>\n",
              "      <th>UF</th>\n",
              "      <th>Codmun7</th>\n",
              "      <th>Município</th>\n",
              "      <th>ESPVIDA</th>\n",
              "      <th>FECTOT</th>\n",
              "      <th>MORT1</th>\n",
              "      <th>SOBRE60</th>\n",
              "      <th>T_ENV</th>\n",
              "      <th>E_ANOSESTUDO</th>\n",
              "      <th>T_ANALF11A14</th>\n",
              "      <th>T_ANALF25M</th>\n",
              "      <th>T_ATRASO_0_BASICO</th>\n",
              "      <th>T_ATRASO_2_BASICO</th>\n",
              "      <th>T_FLPRE</th>\n",
              "      <th>T_FLSUPER</th>\n",
              "      <th>T_FREQSUPER1517</th>\n",
              "      <th>T_MED25M</th>\n",
              "      <th>T_SUPER25M</th>\n",
              "      <th>GINI</th>\n",
              "      <th>PIND</th>\n",
              "      <th>PINDCRI</th>\n",
              "      <th>PMPOB</th>\n",
              "      <th>PMPOBCRI</th>\n",
              "      <th>RDPC</th>\n",
              "      <th>CPR</th>\n",
              "      <th>EMP</th>\n",
              "      <th>P_AGRO</th>\n",
              "      <th>P_COM</th>\n",
              "      <th>P_CONSTR</th>\n",
              "      <th>P_EXTR</th>\n",
              "      <th>P_FORMAL</th>\n",
              "      <th>P_FUND</th>\n",
              "      <th>P_MED</th>\n",
              "      <th>P_SERV</th>\n",
              "      <th>P_SIUP</th>\n",
              "      <th>P_SUPER</th>\n",
              "      <th>T_DES2529</th>\n",
              "      <th>TRABCC</th>\n",
              "      <th>TRABPUB</th>\n",
              "      <th>TRABSC</th>\n",
              "      <th>T_AGUA</th>\n",
              "      <th>T_BANAGUA</th>\n",
              "      <th>T_DENS</th>\n",
              "      <th>T_LIXO</th>\n",
              "      <th>T_LUZ</th>\n",
              "      <th>AGUA_ESGOTO</th>\n",
              "      <th>PAREDE</th>\n",
              "      <th>T_CRIFUNDIN_TODOS</th>\n",
              "      <th>T_FORA4A5</th>\n",
              "      <th>T_FORA6A14</th>\n",
              "      <th>T_FUNDIN_TODOS</th>\n",
              "      <th>T_FUNDIN_TODOS_MMEIO</th>\n",
              "      <th>T_FUNDIN18MINF</th>\n",
              "      <th>T_M10A14CF</th>\n",
              "      <th>T_M15A17CF</th>\n",
              "      <th>T_MULCHEFEFIF014</th>\n",
              "      <th>T_NESTUDA_NTRAB_MMEIO</th>\n",
              "      <th>T_OCUPDESLOC_1</th>\n",
              "      <th>T_RMAXIDOSO</th>\n",
              "      <th>T_SLUZ</th>\n",
              "      <th>HOMEMTOT</th>\n",
              "      <th>MULHERTOT</th>\n",
              "      <th>pesoRUR</th>\n",
              "      <th>pesotot</th>\n",
              "      <th>pesourb</th>\n",
              "      <th>POP</th>\n",
              "      <th>IDHM</th>\n",
              "      <th>IDHM_E</th>\n",
              "      <th>IDHM_L</th>\n",
              "      <th>IDHM_R</th>\n",
              "      <th>city</th>\n",
              "      <th>city_ibge_code</th>\n",
              "      <th>date</th>\n",
              "      <th>estimated_population_2019</th>\n",
              "      <th>last_available_confirmed_per_100k_inhabitants</th>\n",
              "    </tr>\n",
              "  </thead>\n",
              "  <tbody>\n",
              "    <tr>\n",
              "      <th>11131</th>\n",
              "      <td>2010</td>\n",
              "      <td>11</td>\n",
              "      <td>1100023</td>\n",
              "      <td>ARIQUEMES</td>\n",
              "      <td>73.36</td>\n",
              "      <td>1.91</td>\n",
              "      <td>19.20</td>\n",
              "      <td>87.69</td>\n",
              "      <td>4.36</td>\n",
              "      <td>9.18</td>\n",
              "      <td>1.55</td>\n",
              "      <td>10.48</td>\n",
              "      <td>58.43</td>\n",
              "      <td>19.35</td>\n",
              "      <td>40.96</td>\n",
              "      <td>12.91</td>\n",
              "      <td>0.18</td>\n",
              "      <td>31.45</td>\n",
              "      <td>8.13</td>\n",
              "      <td>0.53</td>\n",
              "      <td>4.36</td>\n",
              "      <td>6.65</td>\n",
              "      <td>11.54</td>\n",
              "      <td>18.76</td>\n",
              "      <td>689.95</td>\n",
              "      <td>27.66</td>\n",
              "      <td>2.30</td>\n",
              "      <td>14.97</td>\n",
              "      <td>17.99</td>\n",
              "      <td>8.68</td>\n",
              "      <td>3.32</td>\n",
              "      <td>52.81</td>\n",
              "      <td>57.26</td>\n",
              "      <td>39.76</td>\n",
              "      <td>40.06</td>\n",
              "      <td>0.77</td>\n",
              "      <td>9.29</td>\n",
              "      <td>5.85</td>\n",
              "      <td>41.15</td>\n",
              "      <td>6.30</td>\n",
              "      <td>19.21</td>\n",
              "      <td>98.54</td>\n",
              "      <td>85.35</td>\n",
              "      <td>27.15</td>\n",
              "      <td>96.72</td>\n",
              "      <td>98.58</td>\n",
              "      <td>11.40</td>\n",
              "      <td>5.62</td>\n",
              "      <td>29.58</td>\n",
              "      <td>44.66</td>\n",
              "      <td>2.79</td>\n",
              "      <td>26.59</td>\n",
              "      <td>12.27</td>\n",
              "      <td>37.81</td>\n",
              "      <td>0.00</td>\n",
              "      <td>9.10</td>\n",
              "      <td>18.07</td>\n",
              "      <td>9.67</td>\n",
              "      <td>0.16</td>\n",
              "      <td>1.40</td>\n",
              "      <td>1.42</td>\n",
              "      <td>45543</td>\n",
              "      <td>44810</td>\n",
              "      <td>13828</td>\n",
              "      <td>90353</td>\n",
              "      <td>76525</td>\n",
              "      <td>89766</td>\n",
              "      <td>0.702</td>\n",
              "      <td>0.600</td>\n",
              "      <td>0.806</td>\n",
              "      <td>0.716</td>\n",
              "      <td>Ariquemes</td>\n",
              "      <td>1100023</td>\n",
              "      <td>2021-05-02</td>\n",
              "      <td>107863.0</td>\n",
              "      <td>16657.68834</td>\n",
              "    </tr>\n",
              "    <tr>\n",
              "      <th>11141</th>\n",
              "      <td>2010</td>\n",
              "      <td>11</td>\n",
              "      <td>1100122</td>\n",
              "      <td>JI-PARANÁ</td>\n",
              "      <td>73.60</td>\n",
              "      <td>2.26</td>\n",
              "      <td>16.20</td>\n",
              "      <td>87.67</td>\n",
              "      <td>5.05</td>\n",
              "      <td>9.95</td>\n",
              "      <td>1.35</td>\n",
              "      <td>10.18</td>\n",
              "      <td>64.76</td>\n",
              "      <td>16.43</td>\n",
              "      <td>42.60</td>\n",
              "      <td>12.65</td>\n",
              "      <td>1.22</td>\n",
              "      <td>34.01</td>\n",
              "      <td>8.73</td>\n",
              "      <td>0.53</td>\n",
              "      <td>2.67</td>\n",
              "      <td>4.34</td>\n",
              "      <td>8.56</td>\n",
              "      <td>14.72</td>\n",
              "      <td>743.35</td>\n",
              "      <td>22.12</td>\n",
              "      <td>2.38</td>\n",
              "      <td>12.17</td>\n",
              "      <td>22.98</td>\n",
              "      <td>8.49</td>\n",
              "      <td>0.19</td>\n",
              "      <td>59.07</td>\n",
              "      <td>59.71</td>\n",
              "      <td>42.09</td>\n",
              "      <td>43.14</td>\n",
              "      <td>0.68</td>\n",
              "      <td>9.88</td>\n",
              "      <td>6.54</td>\n",
              "      <td>45.57</td>\n",
              "      <td>7.09</td>\n",
              "      <td>17.60</td>\n",
              "      <td>97.81</td>\n",
              "      <td>89.31</td>\n",
              "      <td>23.30</td>\n",
              "      <td>95.36</td>\n",
              "      <td>99.35</td>\n",
              "      <td>5.87</td>\n",
              "      <td>3.48</td>\n",
              "      <td>29.43</td>\n",
              "      <td>42.81</td>\n",
              "      <td>3.44</td>\n",
              "      <td>25.07</td>\n",
              "      <td>11.28</td>\n",
              "      <td>35.01</td>\n",
              "      <td>0.25</td>\n",
              "      <td>5.00</td>\n",
              "      <td>15.55</td>\n",
              "      <td>6.73</td>\n",
              "      <td>0.41</td>\n",
              "      <td>2.12</td>\n",
              "      <td>0.65</td>\n",
              "      <td>57824</td>\n",
              "      <td>58786</td>\n",
              "      <td>11752</td>\n",
              "      <td>116610</td>\n",
              "      <td>104858</td>\n",
              "      <td>115896</td>\n",
              "      <td>0.714</td>\n",
              "      <td>0.617</td>\n",
              "      <td>0.810</td>\n",
              "      <td>0.728</td>\n",
              "      <td>Ji-Paraná</td>\n",
              "      <td>1100122</td>\n",
              "      <td>2021-05-02</td>\n",
              "      <td>128969.0</td>\n",
              "      <td>11962.24877</td>\n",
              "    </tr>\n",
              "    <tr>\n",
              "      <th>11146</th>\n",
              "      <td>2010</td>\n",
              "      <td>11</td>\n",
              "      <td>1100205</td>\n",
              "      <td>PORTO VELHO</td>\n",
              "      <td>74.14</td>\n",
              "      <td>2.13</td>\n",
              "      <td>15.52</td>\n",
              "      <td>88.56</td>\n",
              "      <td>3.52</td>\n",
              "      <td>8.99</td>\n",
              "      <td>1.85</td>\n",
              "      <td>6.62</td>\n",
              "      <td>56.08</td>\n",
              "      <td>22.43</td>\n",
              "      <td>43.16</td>\n",
              "      <td>15.84</td>\n",
              "      <td>1.48</td>\n",
              "      <td>43.12</td>\n",
              "      <td>12.21</td>\n",
              "      <td>0.56</td>\n",
              "      <td>2.64</td>\n",
              "      <td>4.30</td>\n",
              "      <td>7.95</td>\n",
              "      <td>13.61</td>\n",
              "      <td>929.19</td>\n",
              "      <td>21.60</td>\n",
              "      <td>1.20</td>\n",
              "      <td>6.27</td>\n",
              "      <td>15.38</td>\n",
              "      <td>12.82</td>\n",
              "      <td>0.54</td>\n",
              "      <td>65.48</td>\n",
              "      <td>66.77</td>\n",
              "      <td>49.95</td>\n",
              "      <td>49.35</td>\n",
              "      <td>1.84</td>\n",
              "      <td>13.47</td>\n",
              "      <td>6.39</td>\n",
              "      <td>50.22</td>\n",
              "      <td>11.07</td>\n",
              "      <td>14.04</td>\n",
              "      <td>92.87</td>\n",
              "      <td>72.14</td>\n",
              "      <td>36.73</td>\n",
              "      <td>95.67</td>\n",
              "      <td>98.20</td>\n",
              "      <td>17.76</td>\n",
              "      <td>3.41</td>\n",
              "      <td>23.82</td>\n",
              "      <td>32.74</td>\n",
              "      <td>5.48</td>\n",
              "      <td>19.05</td>\n",
              "      <td>7.93</td>\n",
              "      <td>26.48</td>\n",
              "      <td>1.05</td>\n",
              "      <td>8.04</td>\n",
              "      <td>17.06</td>\n",
              "      <td>6.99</td>\n",
              "      <td>0.76</td>\n",
              "      <td>0.75</td>\n",
              "      <td>1.80</td>\n",
              "      <td>217618</td>\n",
              "      <td>210909</td>\n",
              "      <td>37794</td>\n",
              "      <td>428527</td>\n",
              "      <td>390733</td>\n",
              "      <td>422555</td>\n",
              "      <td>0.736</td>\n",
              "      <td>0.638</td>\n",
              "      <td>0.819</td>\n",
              "      <td>0.764</td>\n",
              "      <td>Porto Velho</td>\n",
              "      <td>1100205</td>\n",
              "      <td>2021-05-02</td>\n",
              "      <td>529544.0</td>\n",
              "      <td>13523.21481</td>\n",
              "    </tr>\n",
              "    <tr>\n",
              "      <th>11196</th>\n",
              "      <td>2010</td>\n",
              "      <td>12</td>\n",
              "      <td>1200401</td>\n",
              "      <td>RIO BRANCO</td>\n",
              "      <td>72.85</td>\n",
              "      <td>2.06</td>\n",
              "      <td>20.03</td>\n",
              "      <td>86.48</td>\n",
              "      <td>4.31</td>\n",
              "      <td>9.72</td>\n",
              "      <td>2.48</td>\n",
              "      <td>11.76</td>\n",
              "      <td>66.87</td>\n",
              "      <td>14.45</td>\n",
              "      <td>51.05</td>\n",
              "      <td>15.18</td>\n",
              "      <td>1.70</td>\n",
              "      <td>41.33</td>\n",
              "      <td>12.93</td>\n",
              "      <td>0.59</td>\n",
              "      <td>4.85</td>\n",
              "      <td>7.45</td>\n",
              "      <td>14.38</td>\n",
              "      <td>22.92</td>\n",
              "      <td>744.67</td>\n",
              "      <td>19.66</td>\n",
              "      <td>1.33</td>\n",
              "      <td>5.13</td>\n",
              "      <td>17.15</td>\n",
              "      <td>9.21</td>\n",
              "      <td>0.09</td>\n",
              "      <td>59.16</td>\n",
              "      <td>66.47</td>\n",
              "      <td>49.47</td>\n",
              "      <td>55.38</td>\n",
              "      <td>1.08</td>\n",
              "      <td>14.97</td>\n",
              "      <td>10.48</td>\n",
              "      <td>48.32</td>\n",
              "      <td>7.20</td>\n",
              "      <td>21.16</td>\n",
              "      <td>94.09</td>\n",
              "      <td>62.10</td>\n",
              "      <td>39.42</td>\n",
              "      <td>97.38</td>\n",
              "      <td>99.34</td>\n",
              "      <td>18.43</td>\n",
              "      <td>5.52</td>\n",
              "      <td>24.68</td>\n",
              "      <td>27.62</td>\n",
              "      <td>4.92</td>\n",
              "      <td>19.97</td>\n",
              "      <td>11.53</td>\n",
              "      <td>30.15</td>\n",
              "      <td>0.85</td>\n",
              "      <td>9.55</td>\n",
              "      <td>23.31</td>\n",
              "      <td>12.36</td>\n",
              "      <td>0.75</td>\n",
              "      <td>1.64</td>\n",
              "      <td>0.66</td>\n",
              "      <td>163592</td>\n",
              "      <td>172446</td>\n",
              "      <td>27493</td>\n",
              "      <td>336038</td>\n",
              "      <td>308545</td>\n",
              "      <td>333052</td>\n",
              "      <td>0.727</td>\n",
              "      <td>0.661</td>\n",
              "      <td>0.798</td>\n",
              "      <td>0.729</td>\n",
              "      <td>Rio Branco</td>\n",
              "      <td>1200401</td>\n",
              "      <td>2021-05-02</td>\n",
              "      <td>407319.0</td>\n",
              "      <td>8458.99308</td>\n",
              "    </tr>\n",
              "    <tr>\n",
              "      <th>11232</th>\n",
              "      <td>2010</td>\n",
              "      <td>13</td>\n",
              "      <td>1301902</td>\n",
              "      <td>ITACOATIARA</td>\n",
              "      <td>73.66</td>\n",
              "      <td>2.84</td>\n",
              "      <td>15.31</td>\n",
              "      <td>87.71</td>\n",
              "      <td>5.03</td>\n",
              "      <td>8.76</td>\n",
              "      <td>5.66</td>\n",
              "      <td>11.96</td>\n",
              "      <td>53.75</td>\n",
              "      <td>25.49</td>\n",
              "      <td>25.48</td>\n",
              "      <td>6.75</td>\n",
              "      <td>1.38</td>\n",
              "      <td>28.55</td>\n",
              "      <td>5.88</td>\n",
              "      <td>0.59</td>\n",
              "      <td>17.45</td>\n",
              "      <td>23.24</td>\n",
              "      <td>36.60</td>\n",
              "      <td>47.38</td>\n",
              "      <td>373.71</td>\n",
              "      <td>31.61</td>\n",
              "      <td>0.53</td>\n",
              "      <td>28.31</td>\n",
              "      <td>16.30</td>\n",
              "      <td>6.70</td>\n",
              "      <td>0.00</td>\n",
              "      <td>32.14</td>\n",
              "      <td>51.63</td>\n",
              "      <td>34.41</td>\n",
              "      <td>36.85</td>\n",
              "      <td>0.79</td>\n",
              "      <td>6.96</td>\n",
              "      <td>9.34</td>\n",
              "      <td>22.12</td>\n",
              "      <td>6.35</td>\n",
              "      <td>26.83</td>\n",
              "      <td>78.88</td>\n",
              "      <td>62.11</td>\n",
              "      <td>59.14</td>\n",
              "      <td>97.62</td>\n",
              "      <td>92.63</td>\n",
              "      <td>24.77</td>\n",
              "      <td>8.24</td>\n",
              "      <td>33.31</td>\n",
              "      <td>35.39</td>\n",
              "      <td>4.93</td>\n",
              "      <td>29.28</td>\n",
              "      <td>21.70</td>\n",
              "      <td>48.84</td>\n",
              "      <td>1.05</td>\n",
              "      <td>14.01</td>\n",
              "      <td>35.04</td>\n",
              "      <td>17.93</td>\n",
              "      <td>1.08</td>\n",
              "      <td>3.78</td>\n",
              "      <td>7.37</td>\n",
              "      <td>44426</td>\n",
              "      <td>42413</td>\n",
              "      <td>28682</td>\n",
              "      <td>86839</td>\n",
              "      <td>58157</td>\n",
              "      <td>86395</td>\n",
              "      <td>0.644</td>\n",
              "      <td>0.534</td>\n",
              "      <td>0.811</td>\n",
              "      <td>0.618</td>\n",
              "      <td>Itacoatiara</td>\n",
              "      <td>1301902</td>\n",
              "      <td>2021-05-02</td>\n",
              "      <td>101337.0</td>\n",
              "      <td>8153.76676</td>\n",
              "    </tr>\n",
              "  </tbody>\n",
              "</table>\n",
              "</div>"
            ],
            "text/plain": [
              "        ANO  ... last_available_confirmed_per_100k_inhabitants\n",
              "11131  2010  ...                                   16657.68834\n",
              "11141  2010  ...                                   11962.24877\n",
              "11146  2010  ...                                   13523.21481\n",
              "11196  2010  ...                                    8458.99308\n",
              "11232  2010  ...                                    8153.76676\n",
              "\n",
              "[5 rows x 76 columns]"
            ]
          },
          "metadata": {
            "tags": []
          },
          "execution_count": 32
        }
      ]
    },
    {
      "cell_type": "code",
      "metadata": {
        "colab": {
          "base_uri": "https://localhost:8080/",
          "height": 347
        },
        "id": "fmgNEpK41SWi",
        "outputId": "f6c4ec17-09a0-4eab-8f19-8e5c69615e04"
      },
      "source": [
        "correlacao_positiva = idhmcovid.corr().loc['last_available_confirmed_per_100k_inhabitants'].sort_values(ascending=False).to_frame().reset_index().rename(columns = {'index': 'indicador'})[:11]\n",
        "correlacao_positiva.drop(correlacao_positiva.loc[(correlacao_positiva['indicador'] == \"last_available_confirmed_per_100k_inhabitants\")].index, inplace=True)\n",
        "correlacao_positiva"
      ],
      "execution_count": null,
      "outputs": [
        {
          "output_type": "execute_result",
          "data": {
            "text/html": [
              "<div>\n",
              "<style scoped>\n",
              "    .dataframe tbody tr th:only-of-type {\n",
              "        vertical-align: middle;\n",
              "    }\n",
              "\n",
              "    .dataframe tbody tr th {\n",
              "        vertical-align: top;\n",
              "    }\n",
              "\n",
              "    .dataframe thead th {\n",
              "        text-align: right;\n",
              "    }\n",
              "</style>\n",
              "<table border=\"1\" class=\"dataframe\">\n",
              "  <thead>\n",
              "    <tr style=\"text-align: right;\">\n",
              "      <th></th>\n",
              "      <th>indicador</th>\n",
              "      <th>last_available_confirmed_per_100k_inhabitants</th>\n",
              "    </tr>\n",
              "  </thead>\n",
              "  <tbody>\n",
              "    <tr>\n",
              "      <th>1</th>\n",
              "      <td>T_FREQSUPER1517</td>\n",
              "      <td>0.490920</td>\n",
              "    </tr>\n",
              "    <tr>\n",
              "      <th>2</th>\n",
              "      <td>EMP</td>\n",
              "      <td>0.457081</td>\n",
              "    </tr>\n",
              "    <tr>\n",
              "      <th>3</th>\n",
              "      <td>T_FLSUPER</td>\n",
              "      <td>0.442304</td>\n",
              "    </tr>\n",
              "    <tr>\n",
              "      <th>4</th>\n",
              "      <td>IDHM_R</td>\n",
              "      <td>0.371265</td>\n",
              "    </tr>\n",
              "    <tr>\n",
              "      <th>5</th>\n",
              "      <td>T_SUPER25M</td>\n",
              "      <td>0.357825</td>\n",
              "    </tr>\n",
              "    <tr>\n",
              "      <th>6</th>\n",
              "      <td>RDPC</td>\n",
              "      <td>0.352102</td>\n",
              "    </tr>\n",
              "    <tr>\n",
              "      <th>7</th>\n",
              "      <td>P_SUPER</td>\n",
              "      <td>0.334218</td>\n",
              "    </tr>\n",
              "    <tr>\n",
              "      <th>8</th>\n",
              "      <td>IDHM</td>\n",
              "      <td>0.313013</td>\n",
              "    </tr>\n",
              "    <tr>\n",
              "      <th>9</th>\n",
              "      <td>T_LIXO</td>\n",
              "      <td>0.298341</td>\n",
              "    </tr>\n",
              "    <tr>\n",
              "      <th>10</th>\n",
              "      <td>SOBRE60</td>\n",
              "      <td>0.263252</td>\n",
              "    </tr>\n",
              "  </tbody>\n",
              "</table>\n",
              "</div>"
            ],
            "text/plain": [
              "          indicador  last_available_confirmed_per_100k_inhabitants\n",
              "1   T_FREQSUPER1517                                       0.490920\n",
              "2               EMP                                       0.457081\n",
              "3         T_FLSUPER                                       0.442304\n",
              "4            IDHM_R                                       0.371265\n",
              "5        T_SUPER25M                                       0.357825\n",
              "6              RDPC                                       0.352102\n",
              "7           P_SUPER                                       0.334218\n",
              "8              IDHM                                       0.313013\n",
              "9            T_LIXO                                       0.298341\n",
              "10          SOBRE60                                       0.263252"
            ]
          },
          "metadata": {
            "tags": []
          },
          "execution_count": 35
        }
      ]
    },
    {
      "cell_type": "code",
      "metadata": {
        "colab": {
          "base_uri": "https://localhost:8080/"
        },
        "id": "IE1wWW-42Vq8",
        "outputId": "4c502ffe-41cb-4cf2-fce7-5b7ecea1de08"
      },
      "source": [
        "corr_posit = correlacao_positiva.indicador.to_list()\n",
        "corr_posit"
      ],
      "execution_count": null,
      "outputs": [
        {
          "output_type": "execute_result",
          "data": {
            "text/plain": [
              "['T_FREQSUPER1517',\n",
              " 'EMP',\n",
              " 'T_FLSUPER',\n",
              " 'IDHM_R',\n",
              " 'T_SUPER25M',\n",
              " 'RDPC',\n",
              " 'P_SUPER',\n",
              " 'IDHM',\n",
              " 'T_LIXO',\n",
              " 'SOBRE60']"
            ]
          },
          "metadata": {
            "tags": []
          },
          "execution_count": 53
        }
      ]
    },
    {
      "cell_type": "code",
      "metadata": {
        "colab": {
          "base_uri": "https://localhost:8080/",
          "height": 406
        },
        "id": "GOR5c2rP2Vtt",
        "outputId": "ea61d9bd-1241-4667-865c-f8d557d96ef4"
      },
      "source": [
        "corr_positiva = idhmcovid[idhmcovid.columns.intersection(corr_posit)]\n",
        "corr_positiva"
      ],
      "execution_count": null,
      "outputs": [
        {
          "output_type": "execute_result",
          "data": {
            "text/html": [
              "<div>\n",
              "<style scoped>\n",
              "    .dataframe tbody tr th:only-of-type {\n",
              "        vertical-align: middle;\n",
              "    }\n",
              "\n",
              "    .dataframe tbody tr th {\n",
              "        vertical-align: top;\n",
              "    }\n",
              "\n",
              "    .dataframe thead th {\n",
              "        text-align: right;\n",
              "    }\n",
              "</style>\n",
              "<table border=\"1\" class=\"dataframe\">\n",
              "  <thead>\n",
              "    <tr style=\"text-align: right;\">\n",
              "      <th></th>\n",
              "      <th>SOBRE60</th>\n",
              "      <th>T_FLSUPER</th>\n",
              "      <th>T_FREQSUPER1517</th>\n",
              "      <th>T_SUPER25M</th>\n",
              "      <th>RDPC</th>\n",
              "      <th>EMP</th>\n",
              "      <th>P_SUPER</th>\n",
              "      <th>T_LIXO</th>\n",
              "      <th>IDHM</th>\n",
              "      <th>IDHM_R</th>\n",
              "    </tr>\n",
              "  </thead>\n",
              "  <tbody>\n",
              "    <tr>\n",
              "      <th>11131</th>\n",
              "      <td>87.69</td>\n",
              "      <td>12.91</td>\n",
              "      <td>0.18</td>\n",
              "      <td>8.13</td>\n",
              "      <td>689.95</td>\n",
              "      <td>2.30</td>\n",
              "      <td>9.29</td>\n",
              "      <td>96.72</td>\n",
              "      <td>0.702</td>\n",
              "      <td>0.716</td>\n",
              "    </tr>\n",
              "    <tr>\n",
              "      <th>11141</th>\n",
              "      <td>87.67</td>\n",
              "      <td>12.65</td>\n",
              "      <td>1.22</td>\n",
              "      <td>8.73</td>\n",
              "      <td>743.35</td>\n",
              "      <td>2.38</td>\n",
              "      <td>9.88</td>\n",
              "      <td>95.36</td>\n",
              "      <td>0.714</td>\n",
              "      <td>0.728</td>\n",
              "    </tr>\n",
              "    <tr>\n",
              "      <th>11146</th>\n",
              "      <td>88.56</td>\n",
              "      <td>15.84</td>\n",
              "      <td>1.48</td>\n",
              "      <td>12.21</td>\n",
              "      <td>929.19</td>\n",
              "      <td>1.20</td>\n",
              "      <td>13.47</td>\n",
              "      <td>95.67</td>\n",
              "      <td>0.736</td>\n",
              "      <td>0.764</td>\n",
              "    </tr>\n",
              "    <tr>\n",
              "      <th>11196</th>\n",
              "      <td>86.48</td>\n",
              "      <td>15.18</td>\n",
              "      <td>1.70</td>\n",
              "      <td>12.93</td>\n",
              "      <td>744.67</td>\n",
              "      <td>1.33</td>\n",
              "      <td>14.97</td>\n",
              "      <td>97.38</td>\n",
              "      <td>0.727</td>\n",
              "      <td>0.729</td>\n",
              "    </tr>\n",
              "    <tr>\n",
              "      <th>11232</th>\n",
              "      <td>87.71</td>\n",
              "      <td>6.75</td>\n",
              "      <td>1.38</td>\n",
              "      <td>5.88</td>\n",
              "      <td>373.71</td>\n",
              "      <td>0.53</td>\n",
              "      <td>6.96</td>\n",
              "      <td>97.62</td>\n",
              "      <td>0.644</td>\n",
              "      <td>0.618</td>\n",
              "    </tr>\n",
              "    <tr>\n",
              "      <th>...</th>\n",
              "      <td>...</td>\n",
              "      <td>...</td>\n",
              "      <td>...</td>\n",
              "      <td>...</td>\n",
              "      <td>...</td>\n",
              "      <td>...</td>\n",
              "      <td>...</td>\n",
              "      <td>...</td>\n",
              "      <td>...</td>\n",
              "      <td>...</td>\n",
              "    </tr>\n",
              "    <tr>\n",
              "      <th>16645</th>\n",
              "      <td>85.02</td>\n",
              "      <td>15.35</td>\n",
              "      <td>2.33</td>\n",
              "      <td>10.84</td>\n",
              "      <td>936.75</td>\n",
              "      <td>2.76</td>\n",
              "      <td>12.04</td>\n",
              "      <td>99.68</td>\n",
              "      <td>0.754</td>\n",
              "      <td>0.765</td>\n",
              "    </tr>\n",
              "    <tr>\n",
              "      <th>16671</th>\n",
              "      <td>82.75</td>\n",
              "      <td>8.70</td>\n",
              "      <td>0.66</td>\n",
              "      <td>4.47</td>\n",
              "      <td>537.58</td>\n",
              "      <td>0.76</td>\n",
              "      <td>5.04</td>\n",
              "      <td>98.79</td>\n",
              "      <td>0.701</td>\n",
              "      <td>0.676</td>\n",
              "    </tr>\n",
              "    <tr>\n",
              "      <th>16680</th>\n",
              "      <td>81.24</td>\n",
              "      <td>11.26</td>\n",
              "      <td>1.20</td>\n",
              "      <td>5.00</td>\n",
              "      <td>558.61</td>\n",
              "      <td>0.94</td>\n",
              "      <td>6.38</td>\n",
              "      <td>98.84</td>\n",
              "      <td>0.699</td>\n",
              "      <td>0.682</td>\n",
              "    </tr>\n",
              "    <tr>\n",
              "      <th>16688</th>\n",
              "      <td>81.79</td>\n",
              "      <td>12.04</td>\n",
              "      <td>1.12</td>\n",
              "      <td>8.30</td>\n",
              "      <td>764.73</td>\n",
              "      <td>0.86</td>\n",
              "      <td>9.16</td>\n",
              "      <td>97.60</td>\n",
              "      <td>0.746</td>\n",
              "      <td>0.733</td>\n",
              "    </tr>\n",
              "    <tr>\n",
              "      <th>16694</th>\n",
              "      <td>86.19</td>\n",
              "      <td>24.55</td>\n",
              "      <td>1.83</td>\n",
              "      <td>23.95</td>\n",
              "      <td>1715.11</td>\n",
              "      <td>1.88</td>\n",
              "      <td>24.55</td>\n",
              "      <td>98.87</td>\n",
              "      <td>0.824</td>\n",
              "      <td>0.863</td>\n",
              "    </tr>\n",
              "  </tbody>\n",
              "</table>\n",
              "<p>324 rows × 10 columns</p>\n",
              "</div>"
            ],
            "text/plain": [
              "       SOBRE60  T_FLSUPER  T_FREQSUPER1517  ...  T_LIXO   IDHM  IDHM_R\n",
              "11131    87.69      12.91             0.18  ...   96.72  0.702   0.716\n",
              "11141    87.67      12.65             1.22  ...   95.36  0.714   0.728\n",
              "11146    88.56      15.84             1.48  ...   95.67  0.736   0.764\n",
              "11196    86.48      15.18             1.70  ...   97.38  0.727   0.729\n",
              "11232    87.71       6.75             1.38  ...   97.62  0.644   0.618\n",
              "...        ...        ...              ...  ...     ...    ...     ...\n",
              "16645    85.02      15.35             2.33  ...   99.68  0.754   0.765\n",
              "16671    82.75       8.70             0.66  ...   98.79  0.701   0.676\n",
              "16680    81.24      11.26             1.20  ...   98.84  0.699   0.682\n",
              "16688    81.79      12.04             1.12  ...   97.60  0.746   0.733\n",
              "16694    86.19      24.55             1.83  ...   98.87  0.824   0.863\n",
              "\n",
              "[324 rows x 10 columns]"
            ]
          },
          "metadata": {
            "tags": []
          },
          "execution_count": 54
        }
      ]
    },
    {
      "cell_type": "code",
      "metadata": {
        "id": "DrnFP9glckym"
      },
      "source": [
        "incidencia = idhmcovid.last_available_confirmed_per_100k_inhabitants"
      ],
      "execution_count": null,
      "outputs": []
    },
    {
      "cell_type": "code",
      "metadata": {
        "id": "FDhISMhze-4a"
      },
      "source": [
        "xtrain_corr_positiva, xtest_corr_positiva, ytrain_corr_positiva, ytest_corr_positiva = train_test_split(corr_positiva, incidencia, test_size=0.4, random_state=42)"
      ],
      "execution_count": null,
      "outputs": []
    },
    {
      "cell_type": "code",
      "metadata": {
        "colab": {
          "base_uri": "https://localhost:8080/"
        },
        "id": "dllo3GO-fG_O",
        "outputId": "16c8b391-7fc9-4532-fb96-1ab84444b50a"
      },
      "source": [
        "linreg_corr_positiva = LinearRegression()\n",
        "linreg_corr_positiva.fit(xtrain_corr_positiva, ytrain_corr_positiva)\n",
        "print('linear model coeff (w): {}'\n",
        ".format(linreg_corr_positiva.coef_))\n",
        "print('linear model intercept (b): {:.3f}'\n",
        ".format(linreg_corr_positiva.intercept_))\n",
        "print('R-squared score (training): {:.3f}'\n",
        ".format(linreg_corr_positiva.score(xtrain_corr_positiva, ytrain_corr_positiva)))\n",
        "print('R-squared score (test): {:.3f}'\n",
        ".format(linreg_corr_positiva.score(xtest_corr_positiva, ytest_corr_positiva)))"
      ],
      "execution_count": null,
      "outputs": [
        {
          "output_type": "stream",
          "text": [
            "linear model coeff (w): [ 3.80610456e+02  6.87801417e+01  8.84154651e+02  3.85652736e+02\n",
            "  1.11028562e+00  8.90638493e+02 -5.54675726e+02  1.15349861e+02\n",
            " -1.69341547e+04  1.39985086e+04]\n",
            "linear model intercept (b): -36223.751\n",
            "R-squared score (training): 0.385\n",
            "R-squared score (test): 0.244\n"
          ],
          "name": "stdout"
        }
      ]
    },
    {
      "cell_type": "code",
      "metadata": {
        "colab": {
          "base_uri": "https://localhost:8080/"
        },
        "id": "HhtAiVABfMVi",
        "outputId": "a38321b7-085f-48e0-9129-52dcc5389b1e"
      },
      "source": [
        "ipred_corr_positiva = linreg_corr_positiva.predict(xtest_corr_positiva)\n",
        "print('Mean squared error: %.2f'\n",
        "      % mean_squared_error(ytest_corr_positiva, ipred_corr_positiva))\n",
        "print('Coefficient of determination: %.2f'\n",
        "      % r2_score(ytest_corr_positiva, ipred_corr_positiva))"
      ],
      "execution_count": null,
      "outputs": [
        {
          "output_type": "stream",
          "text": [
            "Mean squared error: 6936604.56\n",
            "Coefficient of determination: 0.24\n"
          ],
          "name": "stdout"
        }
      ]
    },
    {
      "cell_type": "code",
      "metadata": {
        "colab": {
          "base_uri": "https://localhost:8080/",
          "height": 542
        },
        "id": "TOdZiD81FoHm",
        "outputId": "f26e4215-8311-4795-ca33-b8b76cb7f23c"
      },
      "source": [
        "fig = go.Figure(data=go.Scatter(x=ytest_corr_positiva, y=ipred_corr_positiva, mode='markers')) \n",
        "fig.update_layout(title=\"Valores reais e previstos de correlação positiva de  incidência de COVID-19\")\n",
        "fig.show()"
      ],
      "execution_count": null,
      "outputs": [
        {
          "output_type": "display_data",
          "data": {
            "text/html": [
              "<html>\n",
              "<head><meta charset=\"utf-8\" /></head>\n",
              "<body>\n",
              "    <div>\n",
              "            <script src=\"https://cdnjs.cloudflare.com/ajax/libs/mathjax/2.7.5/MathJax.js?config=TeX-AMS-MML_SVG\"></script><script type=\"text/javascript\">if (window.MathJax) {MathJax.Hub.Config({SVG: {font: \"STIX-Web\"}});}</script>\n",
              "                <script type=\"text/javascript\">window.PlotlyConfig = {MathJaxConfig: 'local'};</script>\n",
              "        <script src=\"https://cdn.plot.ly/plotly-latest.min.js\"></script>    \n",
              "            <div id=\"5f735113-0eee-47f5-8409-8c7fa95373d4\" class=\"plotly-graph-div\" style=\"height:525px; width:100%;\"></div>\n",
              "            <script type=\"text/javascript\">\n",
              "                \n",
              "                    window.PLOTLYENV=window.PLOTLYENV || {};\n",
              "                    \n",
              "                if (document.getElementById(\"5f735113-0eee-47f5-8409-8c7fa95373d4\")) {\n",
              "                    Plotly.newPlot(\n",
              "                        '5f735113-0eee-47f5-8409-8c7fa95373d4',\n",
              "                        [{\"mode\": \"markers\", \"type\": \"scatter\", \"x\": [7247.32739, 2600.61269, 3497.5762, 10408.81615, 9923.08877, 12691.43849, 4797.67467, 3958.21614, 12973.4656, 3362.7027, 6206.33519, 12211.78897, 7319.30655, 5647.06227, 2786.6273699999997, 11456.12985, 8436.69337, 3027.82106, 4426.630999999999, 7639.328159999999, 6029.8826, 13761.843630000001, 7688.29815, 13586.821719999998, 8695.94738, 3112.96131, 4963.85022, 6677.57688, 3548.6166399999997, 9161.221940000001, 4973.3766399999995, 8186.4087, 7642.81708, 8576.82791, 10011.235059999999, 8021.8209099999995, 9117.92013, 2015.1726800000001, 3629.66291, 9467.202940000001, 6737.6988599999995, 9560.1777, 12482.285109999999, 7515.713629999999, 5962.96892, 9794.696670000001, 8374.78528, 8157.153490000001, 4895.55803, 3582.7622, 7076.88066, 6150.858429999999, 17446.59861, 6365.9763299999995, 8024.84472, 5974.5434, 9047.546479999999, 3919.68864, 8458.99308, 6002.02617, 9164.72313, 8765.28955, 5885.654210000001, 7096.3414299999995, 5871.60926, 14151.732269999999, 5961.064829999999, 9610.92756, 4391.15712, 5890.17341, 9172.22264, 12742.37452, 4380.12, 6105.63535, 6697.27518, 5894.179, 3549.5520100000003, 6329.69995, 7412.61067, 4769.45606, 4130.1650899999995, 10269.31728, 4600.7446899999995, 7946.7139099999995, 5254.55263, 12178.91144, 3676.34735, 2784.78782, 8597.4624, 8369.2345, 3407.1903799999995, 4169.8712, 5543.91804, 12914.72791, 4914.33856, 9487.7625, 6584.73854, 6688.37524, 11142.0595, 10872.7325, 8380.08268, 8451.80542, 7335.089379999999, 13049.5531, 8266.60386, 6626.01855, 7925.90422, 7316.80562, 6476.96836, 7198.12229, 5182.65372, 9941.76699, 2639.67266, 1952.35068, 7346.443929999999, 8018.1046400000005, 7972.3067200000005, 8789.3851, 1814.88688, 6761.722709999999, 5600.45273, 4848.45441, 2554.0182, 3610.7008299999998, 3805.8736299999996, 2787.5419699999998, 4631.68639, 3678.48825, 5220.34268, 3041.5172], \"y\": [6845.704086955549, 9164.641494580275, 5921.436082004693, 7155.565999414786, 6576.954732980892, 5422.860172761197, 4701.878407873119, 5995.418100655079, 10686.29746098123, 3880.744128460261, 7208.863393461863, 8169.957742736886, 6584.8463686583855, 8074.6205486025065, 5232.801162553085, 9532.011579080994, 9422.92423145788, 4654.188007369572, 7115.338678975291, 8304.266523046324, 6929.479304634377, 10436.318447239239, 8553.74828573117, 7316.404543604651, 10954.382552796225, 3149.999760688668, 7498.568316365381, 6684.6501121943365, 7291.790866768839, 9690.588295805916, 5892.176996676826, 7803.839215956708, 9304.88792464199, 8366.881314318358, 9720.087125738857, 7789.356258996202, 9820.27745230402, 3330.8452312716763, 7204.63700280917, 5507.269619998806, 6659.856958644501, 6251.129152871508, 8826.783287165461, 9060.936229792991, 3400.059434522962, 8036.511003518157, 9675.599042972659, 10034.54281625829, 4642.905337254539, 7104.732691298857, 5801.4732441176675, 7525.378263596322, 8463.564727853249, 7117.2851605428295, 8251.393369657722, 8751.497308245343, 9770.407702823235, 6695.360623390974, 7059.478331213686, 6602.189873226387, 7814.831505916627, 10615.550979038373, 8403.16394040671, 6934.467026297345, 8992.335444396136, 9773.529864145828, 5308.862024983537, 7034.9896716432995, 5622.717084445445, 5598.217202710104, 8770.549026765184, 10571.32647661976, 7971.495117933089, 5881.774797136684, 6375.78705996136, 5490.530816626684, 7618.712795271538, 7507.688816688264, 6644.900503710436, 5542.438477962038, 3639.5787992160404, 7350.714555146864, 5282.941763054638, 7963.00288438351, 4782.057320735774, 12476.381690754715, 3054.147498719256, 7022.782769898018, 11504.200935226829, 5386.382813601034, 5122.829645691636, 6528.189468556455, 6444.007846382243, 8794.14492337138, 10599.243810545435, 9939.522339627627, 8044.665637342754, 6260.19455793572, 7296.118638075066, 6661.744306000925, 5289.940767386375, 7119.52485845003, 8852.519032621582, 11102.044283335272, 4688.932055022953, 7453.0566559694635, 9157.963988491894, 7488.268234330404, 8528.59790346989, 12083.918654156303, 6324.605464170098, 7773.0283184384025, 5567.984867197672, 4221.5564881311075, 9200.362533415748, 7835.9473299972815, 7916.32652242708, 8232.249987261494, 4087.867974337758, 7469.306729132069, 7463.5089117341195, 3305.9185523991982, 9330.462964236256, 7512.955406593777, 7480.007015600146, 3973.8721590451096, 6055.953314626218, 4826.611455881757, 10078.509920482262, 8541.609442531357]}],\n",
              "                        {\"template\": {\"data\": {\"bar\": [{\"error_x\": {\"color\": \"#2a3f5f\"}, \"error_y\": {\"color\": \"#2a3f5f\"}, \"marker\": {\"line\": {\"color\": \"#E5ECF6\", \"width\": 0.5}}, \"type\": \"bar\"}], \"barpolar\": [{\"marker\": {\"line\": {\"color\": \"#E5ECF6\", \"width\": 0.5}}, \"type\": \"barpolar\"}], \"carpet\": [{\"aaxis\": {\"endlinecolor\": \"#2a3f5f\", \"gridcolor\": \"white\", \"linecolor\": \"white\", \"minorgridcolor\": \"white\", \"startlinecolor\": \"#2a3f5f\"}, \"baxis\": {\"endlinecolor\": \"#2a3f5f\", \"gridcolor\": \"white\", \"linecolor\": \"white\", \"minorgridcolor\": \"white\", \"startlinecolor\": \"#2a3f5f\"}, \"type\": \"carpet\"}], \"choropleth\": [{\"colorbar\": {\"outlinewidth\": 0, \"ticks\": \"\"}, \"type\": \"choropleth\"}], \"contour\": [{\"colorbar\": {\"outlinewidth\": 0, \"ticks\": \"\"}, \"colorscale\": [[0.0, \"#0d0887\"], [0.1111111111111111, \"#46039f\"], [0.2222222222222222, \"#7201a8\"], [0.3333333333333333, \"#9c179e\"], [0.4444444444444444, \"#bd3786\"], [0.5555555555555556, \"#d8576b\"], [0.6666666666666666, \"#ed7953\"], [0.7777777777777778, \"#fb9f3a\"], [0.8888888888888888, \"#fdca26\"], [1.0, \"#f0f921\"]], \"type\": \"contour\"}], \"contourcarpet\": [{\"colorbar\": {\"outlinewidth\": 0, \"ticks\": \"\"}, \"type\": \"contourcarpet\"}], \"heatmap\": [{\"colorbar\": {\"outlinewidth\": 0, \"ticks\": \"\"}, \"colorscale\": [[0.0, \"#0d0887\"], [0.1111111111111111, \"#46039f\"], [0.2222222222222222, \"#7201a8\"], [0.3333333333333333, \"#9c179e\"], [0.4444444444444444, \"#bd3786\"], [0.5555555555555556, \"#d8576b\"], [0.6666666666666666, \"#ed7953\"], [0.7777777777777778, \"#fb9f3a\"], [0.8888888888888888, \"#fdca26\"], [1.0, \"#f0f921\"]], \"type\": \"heatmap\"}], \"heatmapgl\": [{\"colorbar\": {\"outlinewidth\": 0, \"ticks\": \"\"}, \"colorscale\": [[0.0, \"#0d0887\"], [0.1111111111111111, \"#46039f\"], [0.2222222222222222, \"#7201a8\"], [0.3333333333333333, \"#9c179e\"], [0.4444444444444444, \"#bd3786\"], [0.5555555555555556, \"#d8576b\"], [0.6666666666666666, \"#ed7953\"], [0.7777777777777778, \"#fb9f3a\"], [0.8888888888888888, \"#fdca26\"], [1.0, \"#f0f921\"]], \"type\": \"heatmapgl\"}], \"histogram\": [{\"marker\": {\"colorbar\": {\"outlinewidth\": 0, \"ticks\": \"\"}}, \"type\": \"histogram\"}], \"histogram2d\": [{\"colorbar\": {\"outlinewidth\": 0, \"ticks\": \"\"}, \"colorscale\": [[0.0, \"#0d0887\"], [0.1111111111111111, \"#46039f\"], [0.2222222222222222, \"#7201a8\"], [0.3333333333333333, \"#9c179e\"], [0.4444444444444444, \"#bd3786\"], [0.5555555555555556, \"#d8576b\"], [0.6666666666666666, \"#ed7953\"], [0.7777777777777778, \"#fb9f3a\"], [0.8888888888888888, \"#fdca26\"], [1.0, \"#f0f921\"]], \"type\": \"histogram2d\"}], \"histogram2dcontour\": [{\"colorbar\": {\"outlinewidth\": 0, \"ticks\": \"\"}, \"colorscale\": [[0.0, \"#0d0887\"], [0.1111111111111111, \"#46039f\"], [0.2222222222222222, \"#7201a8\"], [0.3333333333333333, \"#9c179e\"], [0.4444444444444444, \"#bd3786\"], [0.5555555555555556, \"#d8576b\"], [0.6666666666666666, \"#ed7953\"], [0.7777777777777778, \"#fb9f3a\"], [0.8888888888888888, \"#fdca26\"], [1.0, \"#f0f921\"]], \"type\": \"histogram2dcontour\"}], \"mesh3d\": [{\"colorbar\": {\"outlinewidth\": 0, \"ticks\": \"\"}, \"type\": \"mesh3d\"}], \"parcoords\": [{\"line\": {\"colorbar\": {\"outlinewidth\": 0, \"ticks\": \"\"}}, \"type\": \"parcoords\"}], \"pie\": [{\"automargin\": true, \"type\": \"pie\"}], \"scatter\": [{\"marker\": {\"colorbar\": {\"outlinewidth\": 0, \"ticks\": \"\"}}, \"type\": \"scatter\"}], \"scatter3d\": [{\"line\": {\"colorbar\": {\"outlinewidth\": 0, \"ticks\": \"\"}}, \"marker\": {\"colorbar\": {\"outlinewidth\": 0, \"ticks\": \"\"}}, \"type\": \"scatter3d\"}], \"scattercarpet\": [{\"marker\": {\"colorbar\": {\"outlinewidth\": 0, \"ticks\": \"\"}}, \"type\": \"scattercarpet\"}], \"scattergeo\": [{\"marker\": {\"colorbar\": {\"outlinewidth\": 0, \"ticks\": \"\"}}, \"type\": \"scattergeo\"}], \"scattergl\": [{\"marker\": {\"colorbar\": {\"outlinewidth\": 0, \"ticks\": \"\"}}, \"type\": \"scattergl\"}], \"scattermapbox\": [{\"marker\": {\"colorbar\": {\"outlinewidth\": 0, \"ticks\": \"\"}}, \"type\": \"scattermapbox\"}], \"scatterpolar\": [{\"marker\": {\"colorbar\": {\"outlinewidth\": 0, \"ticks\": \"\"}}, \"type\": \"scatterpolar\"}], \"scatterpolargl\": [{\"marker\": {\"colorbar\": {\"outlinewidth\": 0, \"ticks\": \"\"}}, \"type\": \"scatterpolargl\"}], \"scatterternary\": [{\"marker\": {\"colorbar\": {\"outlinewidth\": 0, \"ticks\": \"\"}}, \"type\": \"scatterternary\"}], \"surface\": [{\"colorbar\": {\"outlinewidth\": 0, \"ticks\": \"\"}, \"colorscale\": [[0.0, \"#0d0887\"], [0.1111111111111111, \"#46039f\"], [0.2222222222222222, \"#7201a8\"], [0.3333333333333333, \"#9c179e\"], [0.4444444444444444, \"#bd3786\"], [0.5555555555555556, \"#d8576b\"], [0.6666666666666666, \"#ed7953\"], [0.7777777777777778, \"#fb9f3a\"], [0.8888888888888888, \"#fdca26\"], [1.0, \"#f0f921\"]], \"type\": \"surface\"}], \"table\": [{\"cells\": {\"fill\": {\"color\": \"#EBF0F8\"}, \"line\": {\"color\": \"white\"}}, \"header\": {\"fill\": {\"color\": \"#C8D4E3\"}, \"line\": {\"color\": \"white\"}}, \"type\": \"table\"}]}, \"layout\": {\"annotationdefaults\": {\"arrowcolor\": \"#2a3f5f\", \"arrowhead\": 0, \"arrowwidth\": 1}, \"coloraxis\": {\"colorbar\": {\"outlinewidth\": 0, \"ticks\": \"\"}}, \"colorscale\": {\"diverging\": [[0, \"#8e0152\"], [0.1, \"#c51b7d\"], [0.2, \"#de77ae\"], [0.3, \"#f1b6da\"], [0.4, \"#fde0ef\"], [0.5, \"#f7f7f7\"], [0.6, \"#e6f5d0\"], [0.7, \"#b8e186\"], [0.8, \"#7fbc41\"], [0.9, \"#4d9221\"], [1, \"#276419\"]], \"sequential\": [[0.0, \"#0d0887\"], [0.1111111111111111, \"#46039f\"], [0.2222222222222222, \"#7201a8\"], [0.3333333333333333, \"#9c179e\"], [0.4444444444444444, \"#bd3786\"], [0.5555555555555556, \"#d8576b\"], [0.6666666666666666, \"#ed7953\"], [0.7777777777777778, \"#fb9f3a\"], [0.8888888888888888, \"#fdca26\"], [1.0, \"#f0f921\"]], \"sequentialminus\": [[0.0, \"#0d0887\"], [0.1111111111111111, \"#46039f\"], [0.2222222222222222, \"#7201a8\"], [0.3333333333333333, \"#9c179e\"], [0.4444444444444444, \"#bd3786\"], [0.5555555555555556, \"#d8576b\"], [0.6666666666666666, \"#ed7953\"], [0.7777777777777778, \"#fb9f3a\"], [0.8888888888888888, \"#fdca26\"], [1.0, \"#f0f921\"]]}, \"colorway\": [\"#636efa\", \"#EF553B\", \"#00cc96\", \"#ab63fa\", \"#FFA15A\", \"#19d3f3\", \"#FF6692\", \"#B6E880\", \"#FF97FF\", \"#FECB52\"], \"font\": {\"color\": \"#2a3f5f\"}, \"geo\": {\"bgcolor\": \"white\", \"lakecolor\": \"white\", \"landcolor\": \"#E5ECF6\", \"showlakes\": true, \"showland\": true, \"subunitcolor\": \"white\"}, \"hoverlabel\": {\"align\": \"left\"}, \"hovermode\": \"closest\", \"mapbox\": {\"style\": \"light\"}, \"paper_bgcolor\": \"white\", \"plot_bgcolor\": \"#E5ECF6\", \"polar\": {\"angularaxis\": {\"gridcolor\": \"white\", \"linecolor\": \"white\", \"ticks\": \"\"}, \"bgcolor\": \"#E5ECF6\", \"radialaxis\": {\"gridcolor\": \"white\", \"linecolor\": \"white\", \"ticks\": \"\"}}, \"scene\": {\"xaxis\": {\"backgroundcolor\": \"#E5ECF6\", \"gridcolor\": \"white\", \"gridwidth\": 2, \"linecolor\": \"white\", \"showbackground\": true, \"ticks\": \"\", \"zerolinecolor\": \"white\"}, \"yaxis\": {\"backgroundcolor\": \"#E5ECF6\", \"gridcolor\": \"white\", \"gridwidth\": 2, \"linecolor\": \"white\", \"showbackground\": true, \"ticks\": \"\", \"zerolinecolor\": \"white\"}, \"zaxis\": {\"backgroundcolor\": \"#E5ECF6\", \"gridcolor\": \"white\", \"gridwidth\": 2, \"linecolor\": \"white\", \"showbackground\": true, \"ticks\": \"\", \"zerolinecolor\": \"white\"}}, \"shapedefaults\": {\"line\": {\"color\": \"#2a3f5f\"}}, \"ternary\": {\"aaxis\": {\"gridcolor\": \"white\", \"linecolor\": \"white\", \"ticks\": \"\"}, \"baxis\": {\"gridcolor\": \"white\", \"linecolor\": \"white\", \"ticks\": \"\"}, \"bgcolor\": \"#E5ECF6\", \"caxis\": {\"gridcolor\": \"white\", \"linecolor\": \"white\", \"ticks\": \"\"}}, \"title\": {\"x\": 0.05}, \"xaxis\": {\"automargin\": true, \"gridcolor\": \"white\", \"linecolor\": \"white\", \"ticks\": \"\", \"title\": {\"standoff\": 15}, \"zerolinecolor\": \"white\", \"zerolinewidth\": 2}, \"yaxis\": {\"automargin\": true, \"gridcolor\": \"white\", \"linecolor\": \"white\", \"ticks\": \"\", \"title\": {\"standoff\": 15}, \"zerolinecolor\": \"white\", \"zerolinewidth\": 2}}}, \"title\": {\"text\": \"Valores reais e previstos de correla\\u00e7\\u00e3o positiva de  incid\\u00eancia de COVID-19\"}},\n",
              "                        {\"responsive\": true}\n",
              "                    ).then(function(){\n",
              "                            \n",
              "var gd = document.getElementById('5f735113-0eee-47f5-8409-8c7fa95373d4');\n",
              "var x = new MutationObserver(function (mutations, observer) {{\n",
              "        var display = window.getComputedStyle(gd).display;\n",
              "        if (!display || display === 'none') {{\n",
              "            console.log([gd, 'removed!']);\n",
              "            Plotly.purge(gd);\n",
              "            observer.disconnect();\n",
              "        }}\n",
              "}});\n",
              "\n",
              "// Listen for the removal of the full notebook cells\n",
              "var notebookContainer = gd.closest('#notebook-container');\n",
              "if (notebookContainer) {{\n",
              "    x.observe(notebookContainer, {childList: true});\n",
              "}}\n",
              "\n",
              "// Listen for the clearing of the current output cell\n",
              "var outputEl = gd.closest('.output');\n",
              "if (outputEl) {{\n",
              "    x.observe(outputEl, {childList: true});\n",
              "}}\n",
              "\n",
              "                        })\n",
              "                };\n",
              "                \n",
              "            </script>\n",
              "        </div>\n",
              "</body>\n",
              "</html>"
            ]
          },
          "metadata": {
            "tags": []
          }
        }
      ]
    },
    {
      "cell_type": "code",
      "metadata": {
        "colab": {
          "base_uri": "https://localhost:8080/",
          "height": 401
        },
        "id": "LFAMT58BqLD4",
        "outputId": "62151525-50f9-4b61-b3af-86835b631d68"
      },
      "source": [
        "df_corr_positiva = pd.DataFrame ({'Real': ytest_corr_positiva, 'Previsto': ipred_corr_positiva}) \n",
        "sns.lmplot(x=\"Real\", y=\"Previsto\", data=df_corr_positiva)"
      ],
      "execution_count": null,
      "outputs": [
        {
          "output_type": "execute_result",
          "data": {
            "text/plain": [
              "<seaborn.axisgrid.FacetGrid at 0x7f383f78a910>"
            ]
          },
          "metadata": {
            "tags": []
          },
          "execution_count": 60
        },
        {
          "output_type": "display_data",
          "data": {
            "image/png": "[encoded data removed]",
            "text/plain": [
              "<Figure size 360x360 with 1 Axes>"
            ]
          },
          "metadata": {
            "tags": [],
            "needs_background": "light"
          }
        }
      ]
    },
    {
      "cell_type": "code",
      "metadata": {
        "id": "wk5DIsBg9H66"
      },
      "source": [
        "correlacao_negativa = idhmcovid.corr().loc['last_available_confirmed_per_100k_inhabitants'].sort_values().to_frame().reset_index().rename(columns = {'index': 'indicador'})[:10]\n",
        "corr_negat = correlacao_negativa.indicador.to_list()\n",
        "corr_negativa = idhmcovid[idhmcovid.columns.intersection(corr_negat)]"
      ],
      "execution_count": null,
      "outputs": []
    },
    {
      "cell_type": "code",
      "metadata": {
        "id": "VrL33Iyi-wwB"
      },
      "source": [
        "xtrain_corr_negativa, xtest_corr_negativa, ytrain_corr_negativa, ytest_corr_negativa = train_test_split(corr_negativa, incidencia, test_size=0.4, random_state=42)"
      ],
      "execution_count": null,
      "outputs": []
    },
    {
      "cell_type": "code",
      "metadata": {
        "id": "LzDw1xgi-3et",
        "colab": {
          "base_uri": "https://localhost:8080/"
        },
        "outputId": "494bedb8-efee-4fe5-f514-8d6740ed851d"
      },
      "source": [
        "linreg_corr_negativa = LinearRegression()\n",
        "linreg_corr_negativa.fit(xtrain_corr_negativa, ytrain_corr_negativa)\n",
        "print('linear model coeff (w): {}'\n",
        ".format(linreg_corr_negativa.coef_))\n",
        "print('linear model intercept (b): {:.3f}'\n",
        ".format(linreg_corr_negativa.intercept_))\n",
        "print('R-squared score (training): {:.3f}'\n",
        ".format(linreg_corr_negativa.score(xtrain_corr_negativa, ytrain_corr_negativa)))\n",
        "print('R-squared score (test): {:.3f}'\n",
        ".format(linreg_corr_negativa.score(xtest_corr_negativa, ytest_corr_negativa)))"
      ],
      "execution_count": null,
      "outputs": [
        {
          "output_type": "stream",
          "text": [
            "linear model coeff (w): [ -93.71766011  545.03610322 -343.08207721 -368.33558356  -78.17604646\n",
            "   60.00033361 -178.95794944  308.61743069 -729.33294222 -291.99567172]\n",
            "linear model intercept (b): 18049.331\n",
            "R-squared score (training): 0.365\n",
            "R-squared score (test): 0.123\n"
          ],
          "name": "stdout"
        }
      ]
    },
    {
      "cell_type": "code",
      "metadata": {
        "id": "wFE8Fw83-8NX",
        "colab": {
          "base_uri": "https://localhost:8080/"
        },
        "outputId": "98f008f6-d896-4491-8186-ffb3af36f410"
      },
      "source": [
        "ipred_corr_negativa = linreg_corr_negativa.predict(xtest_corr_negativa)\n",
        "print('Mean squared error: %.2f'\n",
        "      % mean_squared_error(ytest_corr_negativa, ipred_corr_negativa))\n",
        "print('Coefficient of determination: %.2f'\n",
        "      % r2_score(ytest_corr_negativa, ipred_corr_negativa))"
      ],
      "execution_count": null,
      "outputs": [
        {
          "output_type": "stream",
          "text": [
            "Mean squared error: 8048112.46\n",
            "Coefficient of determination: 0.12\n"
          ],
          "name": "stdout"
        }
      ]
    },
    {
      "cell_type": "code",
      "metadata": {
        "id": "zTIPReJM_AeV",
        "colab": {
          "base_uri": "https://localhost:8080/",
          "height": 542
        },
        "outputId": "589decbc-a451-48ee-8f2c-8822dea8df37"
      },
      "source": [
        "fig = go.Figure(data=go.Scatter(x=ytest_corr_negativa, y=ipred_corr_negativa, mode='markers', text=idhmcovid['Município'])) \n",
        "fig.update_layout(title=\"Valores reais e previstos de correlação negativa de incidência de COVID-19\")\n",
        "fig.show()"
      ],
      "execution_count": null,
      "outputs": [
        {
          "output_type": "display_data",
          "data": {
            "text/html": [
              "<html>\n",
              "<head><meta charset=\"utf-8\" /></head>\n",
              "<body>\n",
              "    <div>\n",
              "            <script src=\"https://cdnjs.cloudflare.com/ajax/libs/mathjax/2.7.5/MathJax.js?config=TeX-AMS-MML_SVG\"></script><script type=\"text/javascript\">if (window.MathJax) {MathJax.Hub.Config({SVG: {font: \"STIX-Web\"}});}</script>\n",
              "                <script type=\"text/javascript\">window.PlotlyConfig = {MathJaxConfig: 'local'};</script>\n",
              "        <script src=\"https://cdn.plot.ly/plotly-latest.min.js\"></script>    \n",
              "            <div id=\"e8bea037-37aa-449b-9895-2782e1f0b47a\" class=\"plotly-graph-div\" style=\"height:525px; width:100%;\"></div>\n",
              "            <script type=\"text/javascript\">\n",
              "                \n",
              "                    window.PLOTLYENV=window.PLOTLYENV || {};\n",
              "                    \n",
              "                if (document.getElementById(\"e8bea037-37aa-449b-9895-2782e1f0b47a\")) {\n",
              "                    Plotly.newPlot(\n",
              "                        'e8bea037-37aa-449b-9895-2782e1f0b47a',\n",
              "                        [{\"mode\": \"markers\", \"text\": [\"ARIQUEMES\", \"JI-PARAN\\u00c1\", \"PORTO VELHO\", \"RIO BRANCO\", \"ITACOATIARA\", \"MANAUS\", \"PARINTINS\", \"BOA VISTA\", \"ABAETETUBA\", \"ALTAMIRA\", \"ANANINDEUA\", \"BARCARENA\", \"BEL\\u00c9M\", \"BRAGAN\\u00c7A\", \"BREVES\", \"CAMET\\u00c1\", \"CASTANHAL\", \"ITAITUBA\", \"MARAB\\u00c1\", \"MARITUBA\", \"PARAGOMINAS\", \"PARAUAPEBAS\", \"SANTAR\\u00c9M\", \"S\\u00c3O F\\u00c9LIX DO XINGU\", \"TAIL\\u00c2NDIA\", \"TUCURU\\u00cd\", \"MACAP\\u00c1\", \"SANTANA\", \"ARAGUA\\u00cdNA\", \"PALMAS\", \"A\\u00c7AIL\\u00c2NDIA\", \"BACABAL\", \"CAXIAS\", \"COD\\u00d3\", \"IMPERATRIZ\", \"PA\\u00c7O DO LUMIAR\", \"S\\u00c3O JOS\\u00c9 DE RIBAMAR\", \"S\\u00c3O LU\\u00cdS\", \"TIMON\", \"PARNA\\u00cdBA\", \"TERESINA\", \"CAUCAIA\", \"CRATO\", \"FORTALEZA\", \"IGUATU\", \"ITAPIPOCA\", \"JUAZEIRO DO NORTE\", \"MARACANA\\u00da\", \"MARANGUAPE\", \"SOBRAL\", \"PARNAMIRIM\", \"MOSSOR\\u00d3\", \"NATAL\", \"S\\u00c3O GON\\u00c7ALO DO AMARANTE\", \"CAMPINA GRANDE\", \"JO\\u00c3O PESSOA\", \"PATOS\", \"SANTA RITA\", \"CABO DE SANTO AGOSTINHO\", \"CAMARAGIBE\", \"CARUARU\", \"GARANHUNS\", \"IGARASSU\", \"JABOAT\\u00c3O DOS GUARARAPES\", \"OLINDA\", \"PAULISTA\", \"PETROLINA\", \"RECIFE\", \"SANTA CRUZ DO CAPIBARIBE\", \"S\\u00c3O LOUREN\\u00c7O DA MATA\", \"VIT\\u00d3RIA DE SANTO ANT\\u00c3O\", \"ARAPIRACA\", \"MACEI\\u00d3\", \"ARACAJU\", \"LAGARTO\", \"NOSSA SENHORA DO SOCORRO\", \"ALAGOINHAS\", \"BARREIRAS\", \"CAMA\\u00c7ARI\", \"EUN\\u00c1POLIS\", \"FEIRA DE SANTANA\", \"ILH\\u00c9US\", \"ITABUNA\", \"JEQUI\\u00c9\", \"JUAZEIRO\", \"LAURO DE FREITAS\", \"PAULO AFONSO\", \"PORTO SEGURO\", \"SALVADOR\", \"SANTO ANT\\u00d4NIO DE JESUS\", \"SIM\\u00d5ES FILHO\", \"TEIXEIRA DE FREITAS\", \"VIT\\u00d3RIA DA CONQUISTA\", \"Araguari\", \"Arax\\u00e1\", \"Barbacena\", \"Belo Horizonte\", \"Betim\", \"Conselheiro Lafaiete\", \"Contagem\", \"Coronel Fabriciano\", \"Divin\\u00f3polis\", \"Governador Valadares\", \"Ibirit\\u00e9\", \"Ipatinga\", \"Itabira\", \"Ituiutaba\", \"Juiz de Fora\", \"Lavras\", \"Montes Claros\", \"Muria\\u00e9\", \"Nova Serrana\", \"Passos\", \"Patos de Minas\", \"Po\\u00e7os de Caldas\", \"Pouso Alegre\", \"Ribeir\\u00e3o das Neves\", \"Sabar\\u00e1\", \"Santa Luzia\", \"Sete Lagoas\", \"Te\\u00f3filo Otoni\", \"Ub\\u00e1\", \"Uberaba\", \"Uberl\\u00e2ndia\", \"Varginha\", \"Vespasiano\", \"ARACRUZ\", \"CACHOEIRO DE ITAPEMIRIM\", \"CARIACICA\", \"COLATINA\", \"GUARAPARI\", \"LINHARES\", \"S\\u00c3O MATEUS\", \"SERRA\", \"VILA VELHA\", \"VIT\\u00d3RIA\", \"ANGRA DOS REIS\", \"ARARUAMA\", \"BARRA DO PIRA\\u00cd\", \"BARRA MANSA\", \"BELFORD ROXO\", \"CABO FRIO\", \"CAMPOS DOS GOYTACAZES\", \"DUQUE DE CAXIAS\", \"ITABORA\\u00cd\", \"ITAGUA\\u00cd\", \"ITAPERUNA\", \"JAPERI\", \"MACA\\u00c9\", \"MAG\\u00c9\", \"MARIC\\u00c1\", \"MESQUITA\", \"NIL\\u00d3POLIS\", \"NITER\\u00d3I\", \"NOVA FRIBURGO\", \"NOVA IGUA\\u00c7U\", \"PETR\\u00d3POLIS\", \"QUEIMADOS\", \"RESENDE\", \"RIO DAS OSTRAS\", \"RIO DE JANEIRO\", \"S\\u00c3O GON\\u00c7ALO\", \"S\\u00c3O JO\\u00c3O DE MERITI\", \"S\\u00c3O PEDRO DA ALDEIA\", \"TERES\\u00d3POLIS\", \"VOLTA REDONDA\", \"AMERICANA\", \"ARA\\u00c7ATUBA\", \"ARARAQUARA\", \"ARARAS\", \"ASSIS\", \"ATIBAIA\", \"BARRETOS\", \"BARUERI\", \"BAURU\", \"BIRIGUI\", \"BOTUCATU\", \"BRAGAN\\u00c7A PAULISTA\", \"CAIEIRAS\", \"CAMPINAS\", \"CARAGUATATUBA\", \"CARAPICU\\u00cdBA\", \"CATANDUVA\", \"COTIA\", \"CUBAT\\u00c3O\", \"DIADEMA\", \"EMBU\", \"FERRAZ DE VASCONCELOS\", \"FRANCA\", \"FRANCISCO MORATO\", \"FRANCO DA ROCHA\", \"GUARATINGUET\\u00c1\", \"GUARUJ\\u00c1\", \"GUARULHOS\", \"HORTOL\\u00c2NDIA\", \"INDAIATUBA\", \"ITANHA\\u00c9M\", \"ITAPECERICA DA SERRA\", \"ITAPETININGA\", \"ITAPEVI\", \"ITAQUAQUECETUBA\", \"ITATIBA\", \"ITU\", \"JACARE\\u00cd\", \"JANDIRA\", \"JA\\u00da\", \"JUNDIA\\u00cd\", \"LEME\", \"LIMEIRA\", \"MAIRIPOR\\u00c3\", \"MAR\\u00cdLIA\", \"MAU\\u00c1\", \"MOGI DAS CRUZES\", \"MOGI GUA\\u00c7U\", \"OSASCO\", \"OURINHOS\", \"PAUL\\u00cdNIA\", \"PINDAMONHANGABA\", \"PIRACICABA\", \"PO\\u00c1\", \"PRAIA GRANDE\", \"PRESIDENTE PRUDENTE\", \"RIBEIR\\u00c3O PIRES\", \"RIBEIR\\u00c3O PRETO\", \"RIO CLARO\", \"SALTO\", \"SANTA B\\u00c1RBARA D'OESTE\", \"SANTANA DE PARNA\\u00cdBA\", \"SANTO ANDR\\u00c9\", \"SANTOS\", \"S\\u00c3O BERNARDO DO CAMPO\", \"S\\u00c3O CAETANO DO SUL\", \"S\\u00c3O CARLOS\", \"S\\u00c3O JOS\\u00c9 DO RIO PRETO\", \"S\\u00c3O JOS\\u00c9 DOS CAMPOS\", \"S\\u00c3O PAULO\", \"S\\u00c3O VICENTE\", \"SERT\\u00c3OZINHO\", \"SOROCABA\", \"SUMAR\\u00c9\", \"SUZANO\", \"TABO\\u00c3O DA SERRA\", \"TATU\\u00cd\", \"TAUBAT\\u00c9\", \"VALINHOS\", \"V\\u00c1RZEA PAULISTA\", \"VOTORANTIM\", \"ALMIRANTE TAMANDAR\\u00c9\", \"APUCARANA\", \"ARAPONGAS\", \"ARAUC\\u00c1RIA\", \"CAMB\\u00c9\", \"CAMPO LARGO\", \"CASCAVEL\", \"COLOMBO\", \"CURITIBA\", \"FAZENDA RIO GRANDE\", \"FOZ DO IGUA\\u00c7U\", \"GUARAPUAVA\", \"LONDRINA\", \"MARING\\u00c1\", \"PARANAGU\\u00c1\", \"PINHAIS\", \"PIRAQUARA\", \"PONTA GROSSA\", \"S\\u00c3O JOS\\u00c9 DOS PINHAIS\", \"TOLEDO\", \"UMUARAMA\", \"BALNE\\u00c1RIO CAMBORI\\u00da\", \"BLUMENAU\", \"BRUSQUE\", \"CHAPEC\\u00d3\", \"CRICI\\u00daMA\", \"FLORIAN\\u00d3POLIS\", \"ITAJA\\u00cd\", \"JARAGU\\u00c1 DO SUL\", \"JOINVILLE\", \"LAGES\", \"PALHO\\u00c7A\", \"S\\u00c3O JOS\\u00c9\", \"TUBAR\\u00c3O\", \"ALVORADA\", \"BAG\\u00c9\", \"BENTO GON\\u00c7ALVES\", \"CACHOEIRINHA\", \"CANOAS\", \"CAXIAS DO SUL\", \"ERECHIM\", \"GRAVATA\\u00cd\", \"NOVO HAMBURGO\", \"PASSO FUNDO\", \"PELOTAS\", \"PORTO ALEGRE\", \"RIO GRANDE\", \"SANTA CRUZ DO SUL\", \"SANTA MARIA\", \"S\\u00c3O LEOPOLDO\", \"SAPUCAIA DO SUL\", \"URUGUAIANA\", \"VIAM\\u00c3O\", \"CAMPO GRANDE\", \"CORUMB\\u00c1\", \"DOURADOS\", \"TR\\u00caS LAGOAS\", \"CUIAB\\u00c1\", \"RONDON\\u00d3POLIS\", \"SINOP\", \"TANGAR\\u00c1 DA SERRA\", \"V\\u00c1RZEA GRANDE\", \"\\u00c1GUAS LINDAS DE GOI\\u00c1S\", \"AN\\u00c1POLIS\", \"APARECIDA DE GOI\\u00c2NIA\", \"CATAL\\u00c3O\", \"FORMOSA\", \"GOI\\u00c2NIA\", \"ITUMBIARA\", \"JATA\\u00cd\", \"LUZI\\u00c2NIA\", \"NOVO GAMA\", \"RIO VERDE\", \"SENADOR CANEDO\", \"TRINDADE\", \"VALPARA\\u00cdSO DE GOI\\u00c1S\", \"BRAS\\u00cdLIA\"], \"type\": \"scatter\", \"x\": [7247.32739, 2600.61269, 3497.5762, 10408.81615, 9923.08877, 12691.43849, 4797.67467, 3958.21614, 12973.4656, 3362.7027, 6206.33519, 12211.78897, 7319.30655, 5647.06227, 2786.6273699999997, 11456.12985, 8436.69337, 3027.82106, 4426.630999999999, 7639.328159999999, 6029.8826, 13761.843630000001, 7688.29815, 13586.821719999998, 8695.94738, 3112.96131, 4963.85022, 6677.57688, 3548.6166399999997, 9161.221940000001, 4973.3766399999995, 8186.4087, 7642.81708, 8576.82791, 10011.235059999999, 8021.8209099999995, 9117.92013, 2015.1726800000001, 3629.66291, 9467.202940000001, 6737.6988599999995, 9560.1777, 12482.285109999999, 7515.713629999999, 5962.96892, 9794.696670000001, 8374.78528, 8157.153490000001, 4895.55803, 3582.7622, 7076.88066, 6150.858429999999, 17446.59861, 6365.9763299999995, 8024.84472, 5974.5434, 9047.546479999999, 3919.68864, 8458.99308, 6002.02617, 9164.72313, 8765.28955, 5885.654210000001, 7096.3414299999995, 5871.60926, 14151.732269999999, 5961.064829999999, 9610.92756, 4391.15712, 5890.17341, 9172.22264, 12742.37452, 4380.12, 6105.63535, 6697.27518, 5894.179, 3549.5520100000003, 6329.69995, 7412.61067, 4769.45606, 4130.1650899999995, 10269.31728, 4600.7446899999995, 7946.7139099999995, 5254.55263, 12178.91144, 3676.34735, 2784.78782, 8597.4624, 8369.2345, 3407.1903799999995, 4169.8712, 5543.91804, 12914.72791, 4914.33856, 9487.7625, 6584.73854, 6688.37524, 11142.0595, 10872.7325, 8380.08268, 8451.80542, 7335.089379999999, 13049.5531, 8266.60386, 6626.01855, 7925.90422, 7316.80562, 6476.96836, 7198.12229, 5182.65372, 9941.76699, 2639.67266, 1952.35068, 7346.443929999999, 8018.1046400000005, 7972.3067200000005, 8789.3851, 1814.88688, 6761.722709999999, 5600.45273, 4848.45441, 2554.0182, 3610.7008299999998, 3805.8736299999996, 2787.5419699999998, 4631.68639, 3678.48825, 5220.34268, 3041.5172], \"y\": [6919.0464856615035, 8829.837825128725, 5357.552615271743, 8319.698259669327, 8640.940961522618, 7390.830389496927, 5457.811166007734, 4950.831942510798, 10781.286774441458, 2628.4412791082286, 9189.487653657818, 7127.374944559922, 8627.755516904386, 9496.48740211291, 4027.4162448914794, 9274.480263839012, 8908.216763041799, 3577.474523645331, 6842.579367359267, 4660.574589079257, 8947.078165505192, 10801.493181336842, 6469.23291628032, 5433.081815982598, 8071.647352068236, 862.6034437588132, 8664.566855668478, 6055.456853586566, 4663.8947534843865, 9310.268250758352, 3651.2122965530543, 9361.252025406602, 9794.014791390828, 10134.380392886002, 8336.785590705349, 5971.066731800982, 7649.924354299032, 6628.117353455795, 9565.156629584817, 7773.567574354785, 8911.647007768319, 7842.122551556686, 8285.050140543024, 9204.400390622877, 9699.268592657163, 8706.24740638222, 9790.351631413116, 9929.566533421495, 4562.3580726748805, 6128.04089635793, 5309.857067232289, 7813.716601698479, 8716.28634060951, 3705.382171170484, 9338.206580680364, 7705.177482742298, 8996.733736517523, 7217.098390995474, 7289.3476777096475, 7593.165748341293, 7716.199985598332, 9793.270730415607, 6442.49365101124, 9379.81318500446, 10461.27396984721, 6495.997508623388, 5784.409215198488, 6913.301628085583, 7797.46460678254, 7440.209944954784, 9062.695406251518, 11860.083872220368, 8886.839200416816, 6969.047928321446, 7676.928240822421, 8026.71645793242, 9502.559866384689, 7204.438400164281, 8535.082902329324, 6071.362668262884, 5668.595800543382, 8238.607754699777, 6769.678167428825, 8317.139109848347, 6905.59914958686, 12379.95178459282, 1977.6272854020208, 2738.8802914195076, 8624.717204103978, 7778.718013563812, 3330.187147421191, 6694.122835594993, 6662.700469000334, 12208.504140700607, 9383.083685873304, 6303.294222347979, 9627.446840864193, 8262.065239519634, 7889.625658527786, 5498.877322043007, 8238.560660401137, 6582.997891594128, 9714.263361480174, 9810.27501095521, 5079.116293895137, 9780.011036904782, 8909.188149786072, 8195.859374799102, 7083.868690415289, 7246.451723244567, 6673.411137751271, 7661.605864267656, 5296.181719603175, 1736.8810142505008, 6453.355652897662, 5555.431469435818, 5440.28161218594, 8093.447226723425, 2341.226405003674, 4731.308433694776, 9199.538348175369, 7109.292556090531, 9870.637120556388, 4879.478321698192, 7197.187157511133, -1355.5618331214355, 7188.3089976007195, 6301.359284772097, 5468.28309144742, 11339.74999566616]}],\n",
              "                        {\"template\": {\"data\": {\"bar\": [{\"error_x\": {\"color\": \"#2a3f5f\"}, \"error_y\": {\"color\": \"#2a3f5f\"}, \"marker\": {\"line\": {\"color\": \"#E5ECF6\", \"width\": 0.5}}, \"type\": \"bar\"}], \"barpolar\": [{\"marker\": {\"line\": {\"color\": \"#E5ECF6\", \"width\": 0.5}}, \"type\": \"barpolar\"}], \"carpet\": [{\"aaxis\": {\"endlinecolor\": \"#2a3f5f\", \"gridcolor\": \"white\", \"linecolor\": \"white\", \"minorgridcolor\": \"white\", \"startlinecolor\": \"#2a3f5f\"}, \"baxis\": {\"endlinecolor\": \"#2a3f5f\", \"gridcolor\": \"white\", \"linecolor\": \"white\", \"minorgridcolor\": \"white\", \"startlinecolor\": \"#2a3f5f\"}, \"type\": \"carpet\"}], \"choropleth\": [{\"colorbar\": {\"outlinewidth\": 0, \"ticks\": \"\"}, \"type\": \"choropleth\"}], \"contour\": [{\"colorbar\": {\"outlinewidth\": 0, \"ticks\": \"\"}, \"colorscale\": [[0.0, \"#0d0887\"], [0.1111111111111111, \"#46039f\"], [0.2222222222222222, \"#7201a8\"], [0.3333333333333333, \"#9c179e\"], [0.4444444444444444, \"#bd3786\"], [0.5555555555555556, \"#d8576b\"], [0.6666666666666666, \"#ed7953\"], [0.7777777777777778, \"#fb9f3a\"], [0.8888888888888888, \"#fdca26\"], [1.0, \"#f0f921\"]], \"type\": \"contour\"}], \"contourcarpet\": [{\"colorbar\": {\"outlinewidth\": 0, \"ticks\": \"\"}, \"type\": \"contourcarpet\"}], \"heatmap\": [{\"colorbar\": {\"outlinewidth\": 0, \"ticks\": \"\"}, \"colorscale\": [[0.0, \"#0d0887\"], [0.1111111111111111, \"#46039f\"], [0.2222222222222222, \"#7201a8\"], [0.3333333333333333, \"#9c179e\"], [0.4444444444444444, \"#bd3786\"], [0.5555555555555556, \"#d8576b\"], [0.6666666666666666, \"#ed7953\"], [0.7777777777777778, \"#fb9f3a\"], [0.8888888888888888, \"#fdca26\"], [1.0, \"#f0f921\"]], \"type\": \"heatmap\"}], \"heatmapgl\": [{\"colorbar\": {\"outlinewidth\": 0, \"ticks\": \"\"}, \"colorscale\": [[0.0, \"#0d0887\"], [0.1111111111111111, \"#46039f\"], [0.2222222222222222, \"#7201a8\"], [0.3333333333333333, \"#9c179e\"], [0.4444444444444444, \"#bd3786\"], [0.5555555555555556, \"#d8576b\"], [0.6666666666666666, \"#ed7953\"], [0.7777777777777778, \"#fb9f3a\"], [0.8888888888888888, \"#fdca26\"], [1.0, \"#f0f921\"]], \"type\": \"heatmapgl\"}], \"histogram\": [{\"marker\": {\"colorbar\": {\"outlinewidth\": 0, \"ticks\": \"\"}}, \"type\": \"histogram\"}], \"histogram2d\": [{\"colorbar\": {\"outlinewidth\": 0, \"ticks\": \"\"}, \"colorscale\": [[0.0, \"#0d0887\"], [0.1111111111111111, \"#46039f\"], [0.2222222222222222, \"#7201a8\"], [0.3333333333333333, \"#9c179e\"], [0.4444444444444444, \"#bd3786\"], [0.5555555555555556, \"#d8576b\"], [0.6666666666666666, \"#ed7953\"], [0.7777777777777778, \"#fb9f3a\"], [0.8888888888888888, \"#fdca26\"], [1.0, \"#f0f921\"]], \"type\": \"histogram2d\"}], \"histogram2dcontour\": [{\"colorbar\": {\"outlinewidth\": 0, \"ticks\": \"\"}, \"colorscale\": [[0.0, \"#0d0887\"], [0.1111111111111111, \"#46039f\"], [0.2222222222222222, \"#7201a8\"], [0.3333333333333333, \"#9c179e\"], [0.4444444444444444, \"#bd3786\"], [0.5555555555555556, \"#d8576b\"], [0.6666666666666666, \"#ed7953\"], [0.7777777777777778, \"#fb9f3a\"], [0.8888888888888888, \"#fdca26\"], [1.0, \"#f0f921\"]], \"type\": \"histogram2dcontour\"}], \"mesh3d\": [{\"colorbar\": {\"outlinewidth\": 0, \"ticks\": \"\"}, \"type\": \"mesh3d\"}], \"parcoords\": [{\"line\": {\"colorbar\": {\"outlinewidth\": 0, \"ticks\": \"\"}}, \"type\": \"parcoords\"}], \"pie\": [{\"automargin\": true, \"type\": \"pie\"}], \"scatter\": [{\"marker\": {\"colorbar\": {\"outlinewidth\": 0, \"ticks\": \"\"}}, \"type\": \"scatter\"}], \"scatter3d\": [{\"line\": {\"colorbar\": {\"outlinewidth\": 0, \"ticks\": \"\"}}, \"marker\": {\"colorbar\": {\"outlinewidth\": 0, \"ticks\": \"\"}}, \"type\": \"scatter3d\"}], \"scattercarpet\": [{\"marker\": {\"colorbar\": {\"outlinewidth\": 0, \"ticks\": \"\"}}, \"type\": \"scattercarpet\"}], \"scattergeo\": [{\"marker\": {\"colorbar\": {\"outlinewidth\": 0, \"ticks\": \"\"}}, \"type\": \"scattergeo\"}], \"scattergl\": [{\"marker\": {\"colorbar\": {\"outlinewidth\": 0, \"ticks\": \"\"}}, \"type\": \"scattergl\"}], \"scattermapbox\": [{\"marker\": {\"colorbar\": {\"outlinewidth\": 0, \"ticks\": \"\"}}, \"type\": \"scattermapbox\"}], \"scatterpolar\": [{\"marker\": {\"colorbar\": {\"outlinewidth\": 0, \"ticks\": \"\"}}, \"type\": \"scatterpolar\"}], \"scatterpolargl\": [{\"marker\": {\"colorbar\": {\"outlinewidth\": 0, \"ticks\": \"\"}}, \"type\": \"scatterpolargl\"}], \"scatterternary\": [{\"marker\": {\"colorbar\": {\"outlinewidth\": 0, \"ticks\": \"\"}}, \"type\": \"scatterternary\"}], \"surface\": [{\"colorbar\": {\"outlinewidth\": 0, \"ticks\": \"\"}, \"colorscale\": [[0.0, \"#0d0887\"], [0.1111111111111111, \"#46039f\"], [0.2222222222222222, \"#7201a8\"], [0.3333333333333333, \"#9c179e\"], [0.4444444444444444, \"#bd3786\"], [0.5555555555555556, \"#d8576b\"], [0.6666666666666666, \"#ed7953\"], [0.7777777777777778, \"#fb9f3a\"], [0.8888888888888888, \"#fdca26\"], [1.0, \"#f0f921\"]], \"type\": \"surface\"}], \"table\": [{\"cells\": {\"fill\": {\"color\": \"#EBF0F8\"}, \"line\": {\"color\": \"white\"}}, \"header\": {\"fill\": {\"color\": \"#C8D4E3\"}, \"line\": {\"color\": \"white\"}}, \"type\": \"table\"}]}, \"layout\": {\"annotationdefaults\": {\"arrowcolor\": \"#2a3f5f\", \"arrowhead\": 0, \"arrowwidth\": 1}, \"coloraxis\": {\"colorbar\": {\"outlinewidth\": 0, \"ticks\": \"\"}}, \"colorscale\": {\"diverging\": [[0, \"#8e0152\"], [0.1, \"#c51b7d\"], [0.2, \"#de77ae\"], [0.3, \"#f1b6da\"], [0.4, \"#fde0ef\"], [0.5, \"#f7f7f7\"], [0.6, \"#e6f5d0\"], [0.7, \"#b8e186\"], [0.8, \"#7fbc41\"], [0.9, \"#4d9221\"], [1, \"#276419\"]], \"sequential\": [[0.0, \"#0d0887\"], [0.1111111111111111, \"#46039f\"], [0.2222222222222222, \"#7201a8\"], [0.3333333333333333, \"#9c179e\"], [0.4444444444444444, \"#bd3786\"], [0.5555555555555556, \"#d8576b\"], [0.6666666666666666, \"#ed7953\"], [0.7777777777777778, \"#fb9f3a\"], [0.8888888888888888, \"#fdca26\"], [1.0, \"#f0f921\"]], \"sequentialminus\": [[0.0, \"#0d0887\"], [0.1111111111111111, \"#46039f\"], [0.2222222222222222, \"#7201a8\"], [0.3333333333333333, \"#9c179e\"], [0.4444444444444444, \"#bd3786\"], [0.5555555555555556, \"#d8576b\"], [0.6666666666666666, \"#ed7953\"], [0.7777777777777778, \"#fb9f3a\"], [0.8888888888888888, \"#fdca26\"], [1.0, \"#f0f921\"]]}, \"colorway\": [\"#636efa\", \"#EF553B\", \"#00cc96\", \"#ab63fa\", \"#FFA15A\", \"#19d3f3\", \"#FF6692\", \"#B6E880\", \"#FF97FF\", \"#FECB52\"], \"font\": {\"color\": \"#2a3f5f\"}, \"geo\": {\"bgcolor\": \"white\", \"lakecolor\": \"white\", \"landcolor\": \"#E5ECF6\", \"showlakes\": true, \"showland\": true, \"subunitcolor\": \"white\"}, \"hoverlabel\": {\"align\": \"left\"}, \"hovermode\": \"closest\", \"mapbox\": {\"style\": \"light\"}, \"paper_bgcolor\": \"white\", \"plot_bgcolor\": \"#E5ECF6\", \"polar\": {\"angularaxis\": {\"gridcolor\": \"white\", \"linecolor\": \"white\", \"ticks\": \"\"}, \"bgcolor\": \"#E5ECF6\", \"radialaxis\": {\"gridcolor\": \"white\", \"linecolor\": \"white\", \"ticks\": \"\"}}, \"scene\": {\"xaxis\": {\"backgroundcolor\": \"#E5ECF6\", \"gridcolor\": \"white\", \"gridwidth\": 2, \"linecolor\": \"white\", \"showbackground\": true, \"ticks\": \"\", \"zerolinecolor\": \"white\"}, \"yaxis\": {\"backgroundcolor\": \"#E5ECF6\", \"gridcolor\": \"white\", \"gridwidth\": 2, \"linecolor\": \"white\", \"showbackground\": true, \"ticks\": \"\", \"zerolinecolor\": \"white\"}, \"zaxis\": {\"backgroundcolor\": \"#E5ECF6\", \"gridcolor\": \"white\", \"gridwidth\": 2, \"linecolor\": \"white\", \"showbackground\": true, \"ticks\": \"\", \"zerolinecolor\": \"white\"}}, \"shapedefaults\": {\"line\": {\"color\": \"#2a3f5f\"}}, \"ternary\": {\"aaxis\": {\"gridcolor\": \"white\", \"linecolor\": \"white\", \"ticks\": \"\"}, \"baxis\": {\"gridcolor\": \"white\", \"linecolor\": \"white\", \"ticks\": \"\"}, \"bgcolor\": \"#E5ECF6\", \"caxis\": {\"gridcolor\": \"white\", \"linecolor\": \"white\", \"ticks\": \"\"}}, \"title\": {\"x\": 0.05}, \"xaxis\": {\"automargin\": true, \"gridcolor\": \"white\", \"linecolor\": \"white\", \"ticks\": \"\", \"title\": {\"standoff\": 15}, \"zerolinecolor\": \"white\", \"zerolinewidth\": 2}, \"yaxis\": {\"automargin\": true, \"gridcolor\": \"white\", \"linecolor\": \"white\", \"ticks\": \"\", \"title\": {\"standoff\": 15}, \"zerolinecolor\": \"white\", \"zerolinewidth\": 2}}}, \"title\": {\"text\": \"Valores reais e previstos de correla\\u00e7\\u00e3o negativa de incid\\u00eancia de COVID-19\"}},\n",
              "                        {\"responsive\": true}\n",
              "                    ).then(function(){\n",
              "                            \n",
              "var gd = document.getElementById('e8bea037-37aa-449b-9895-2782e1f0b47a');\n",
              "var x = new MutationObserver(function (mutations, observer) {{\n",
              "        var display = window.getComputedStyle(gd).display;\n",
              "        if (!display || display === 'none') {{\n",
              "            console.log([gd, 'removed!']);\n",
              "            Plotly.purge(gd);\n",
              "            observer.disconnect();\n",
              "        }}\n",
              "}});\n",
              "\n",
              "// Listen for the removal of the full notebook cells\n",
              "var notebookContainer = gd.closest('#notebook-container');\n",
              "if (notebookContainer) {{\n",
              "    x.observe(notebookContainer, {childList: true});\n",
              "}}\n",
              "\n",
              "// Listen for the clearing of the current output cell\n",
              "var outputEl = gd.closest('.output');\n",
              "if (outputEl) {{\n",
              "    x.observe(outputEl, {childList: true});\n",
              "}}\n",
              "\n",
              "                        })\n",
              "                };\n",
              "                \n",
              "            </script>\n",
              "        </div>\n",
              "</body>\n",
              "</html>"
            ]
          },
          "metadata": {
            "tags": []
          }
        }
      ]
    },
    {
      "cell_type": "code",
      "metadata": {
        "id": "QK4oM3I__J3Z",
        "colab": {
          "base_uri": "https://localhost:8080/",
          "height": 401
        },
        "outputId": "2f2b00b5-0ba6-4b25-ee8d-b1ab722f1928"
      },
      "source": [
        "df_corr_negativa = pd.DataFrame ({'Real': ytest_corr_negativa, 'Previsto': ipred_corr_negativa}) \n",
        "sns.lmplot(x=\"Real\", y=\"Previsto\", data=df_corr_negativa)"
      ],
      "execution_count": null,
      "outputs": [
        {
          "output_type": "execute_result",
          "data": {
            "text/plain": [
              "<seaborn.axisgrid.FacetGrid at 0x7f383f62b8d0>"
            ]
          },
          "metadata": {
            "tags": []
          },
          "execution_count": 50
        },
        {
          "output_type": "display_data",
          "data": {
            "image/png": "[encoded data removed]",
            "text/plain": [
              "<Figure size 360x360 with 1 Axes>"
            ]
          },
          "metadata": {
            "tags": [],
            "needs_background": "light"
          }
        }
      ]
    },
    {
      "cell_type": "code",
      "metadata": {
        "id": "bDWGqvzG_8yY"
      },
      "source": [
        "corr_posit_negat = corr_posit + corr_negat\n",
        "corr_pos_neg = idhmcovid[idhmcovid.columns.intersection(corr_posit_negat)]"
      ],
      "execution_count": null,
      "outputs": []
    },
    {
      "cell_type": "code",
      "metadata": {
        "id": "0uPMTEAgAJDz"
      },
      "source": [
        "xtrain_corr_pos_neg, xtest_corr_pos_neg, ytrain_corr_pos_neg, ytest_corr_pos_neg = train_test_split(corr_pos_neg, incidencia, test_size=0.4, random_state=42)"
      ],
      "execution_count": null,
      "outputs": []
    },
    {
      "cell_type": "code",
      "metadata": {
        "colab": {
          "base_uri": "https://localhost:8080/"
        },
        "id": "uhcJV32LAY88",
        "outputId": "1a1f7b71-dcf9-4980-a5a5-4b17abaa64e7"
      },
      "source": [
        "linreg_corr_pos_neg = LinearRegression()\n",
        "linreg_corr_pos_neg.fit(xtrain_corr_pos_neg, ytrain_corr_pos_neg)\n",
        "print('linear model coeff (w): {}'\n",
        ".format(linreg_corr_pos_neg.coef_))\n",
        "print('linear model intercept (b): {:.3f}'\n",
        ".format(linreg_corr_pos_neg.intercept_))\n",
        "print('R-squared score (training): {:.3f}'\n",
        ".format(linreg_corr_pos_neg.score(xtrain_corr_pos_neg, ytrain_corr_pos_neg)))\n",
        "print('R-squared score (test): {:.3f}'\n",
        ".format(linreg_corr_pos_neg.score(xtest_corr_pos_neg, ytest_corr_pos_neg)))"
      ],
      "execution_count": null,
      "outputs": [
        {
          "output_type": "stream",
          "text": [
            "linear model coeff (w): [ 1.89911817e+01  3.63292779e+02 -8.33671194e+00  8.20530377e+02\n",
            " -9.36751947e+01  3.61584238e+02 -2.76021734e+02  1.14258091e+00\n",
            "  5.96233723e+02  3.94729780e+01 -2.66487544e+02 -2.51608404e+01\n",
            "  9.00991950e+01 -9.59693184e+01 -1.92398168e+02  1.99944192e+02\n",
            " -6.07499444e+02 -5.15912159e+01 -5.03117518e+04  4.61947386e+03]\n",
            "linear model intercept (b): 8537.257\n",
            "R-squared score (training): 0.468\n",
            "R-squared score (test): 0.217\n"
          ],
          "name": "stdout"
        }
      ]
    },
    {
      "cell_type": "code",
      "metadata": {
        "colab": {
          "base_uri": "https://localhost:8080/"
        },
        "id": "SB6Lmj__AczZ",
        "outputId": "6f729625-d030-47b2-9ed5-3a1bfd954427"
      },
      "source": [
        "pred_corr_pos_neg = linreg_corr_pos_neg.predict(xtest_corr_pos_neg)\n",
        "print('Mean squared error: %.2f'\n",
        "      % mean_squared_error(ytest_corr_pos_neg, pred_corr_pos_neg))\n",
        "print('Coefficient of determination: %.2f'\n",
        "      % r2_score(ytest_corr_pos_neg, pred_corr_pos_neg))"
      ],
      "execution_count": null,
      "outputs": [
        {
          "output_type": "stream",
          "text": [
            "Mean squared error: 7184445.51\n",
            "Coefficient of determination: 0.22\n"
          ],
          "name": "stdout"
        }
      ]
    },
    {
      "cell_type": "code",
      "metadata": {
        "colab": {
          "base_uri": "https://localhost:8080/",
          "height": 542
        },
        "id": "fHQQhvszAfjz",
        "outputId": "b67d65fe-e49d-458d-b689-5852f79166eb"
      },
      "source": [
        "fig = go.Figure(data=go.Scatter(x=ytest_corr_pos_neg, y=pred_corr_pos_neg, mode='markers')) \n",
        "fig.update_layout(title=\"Valores reais e previstos das 20 maiores correlações de mortalidade de COVID-19\")\n",
        "fig.show()"
      ],
      "execution_count": null,
      "outputs": [
        {
          "output_type": "display_data",
          "data": {
            "text/html": [
              "<html>\n",
              "<head><meta charset=\"utf-8\" /></head>\n",
              "<body>\n",
              "    <div>\n",
              "            <script src=\"https://cdnjs.cloudflare.com/ajax/libs/mathjax/2.7.5/MathJax.js?config=TeX-AMS-MML_SVG\"></script><script type=\"text/javascript\">if (window.MathJax) {MathJax.Hub.Config({SVG: {font: \"STIX-Web\"}});}</script>\n",
              "                <script type=\"text/javascript\">window.PlotlyConfig = {MathJaxConfig: 'local'};</script>\n",
              "        <script src=\"https://cdn.plot.ly/plotly-latest.min.js\"></script>    \n",
              "            <div id=\"0597c950-10fe-45a2-b7b7-22fe9c061fc5\" class=\"plotly-graph-div\" style=\"height:525px; width:100%;\"></div>\n",
              "            <script type=\"text/javascript\">\n",
              "                \n",
              "                    window.PLOTLYENV=window.PLOTLYENV || {};\n",
              "                    \n",
              "                if (document.getElementById(\"0597c950-10fe-45a2-b7b7-22fe9c061fc5\")) {\n",
              "                    Plotly.newPlot(\n",
              "                        '0597c950-10fe-45a2-b7b7-22fe9c061fc5',\n",
              "                        [{\"mode\": \"markers\", \"type\": \"scatter\", \"x\": [7247.32739, 2600.61269, 3497.5762, 10408.81615, 9923.08877, 12691.43849, 4797.67467, 3958.21614, 12973.4656, 3362.7027, 6206.33519, 12211.78897, 7319.30655, 5647.06227, 2786.6273699999997, 11456.12985, 8436.69337, 3027.82106, 4426.630999999999, 7639.328159999999, 6029.8826, 13761.843630000001, 7688.29815, 13586.821719999998, 8695.94738, 3112.96131, 4963.85022, 6677.57688, 3548.6166399999997, 9161.221940000001, 4973.3766399999995, 8186.4087, 7642.81708, 8576.82791, 10011.235059999999, 8021.8209099999995, 9117.92013, 2015.1726800000001, 3629.66291, 9467.202940000001, 6737.6988599999995, 9560.1777, 12482.285109999999, 7515.713629999999, 5962.96892, 9794.696670000001, 8374.78528, 8157.153490000001, 4895.55803, 3582.7622, 7076.88066, 6150.858429999999, 17446.59861, 6365.9763299999995, 8024.84472, 5974.5434, 9047.546479999999, 3919.68864, 8458.99308, 6002.02617, 9164.72313, 8765.28955, 5885.654210000001, 7096.3414299999995, 5871.60926, 14151.732269999999, 5961.064829999999, 9610.92756, 4391.15712, 5890.17341, 9172.22264, 12742.37452, 4380.12, 6105.63535, 6697.27518, 5894.179, 3549.5520100000003, 6329.69995, 7412.61067, 4769.45606, 4130.1650899999995, 10269.31728, 4600.7446899999995, 7946.7139099999995, 5254.55263, 12178.91144, 3676.34735, 2784.78782, 8597.4624, 8369.2345, 3407.1903799999995, 4169.8712, 5543.91804, 12914.72791, 4914.33856, 9487.7625, 6584.73854, 6688.37524, 11142.0595, 10872.7325, 8380.08268, 8451.80542, 7335.089379999999, 13049.5531, 8266.60386, 6626.01855, 7925.90422, 7316.80562, 6476.96836, 7198.12229, 5182.65372, 9941.76699, 2639.67266, 1952.35068, 7346.443929999999, 8018.1046400000005, 7972.3067200000005, 8789.3851, 1814.88688, 6761.722709999999, 5600.45273, 4848.45441, 2554.0182, 3610.7008299999998, 3805.8736299999996, 2787.5419699999998, 4631.68639, 3678.48825, 5220.34268, 3041.5172], \"y\": [5302.404793764061, 7996.20274273412, 4484.6079726807475, 8281.639677527914, 7703.2763938849275, 5335.5511614348, 4661.950558473396, 4427.56387547592, 11676.624496295717, 1848.3860534128144, 7949.118921123689, 7071.214068638925, 7219.50723481298, 8744.157492092188, 4334.077491103217, 10424.7862812559, 9257.689109769151, 3544.6541135407824, 7634.062140726197, 7171.81319563778, 6891.857022848282, 11211.718835230113, 7958.938633975642, 6357.827560965161, 9667.559136379783, 569.417159471086, 8049.59220263323, 6736.943758842757, 5331.1384101259355, 10012.644527381704, 4460.522051067979, 8477.22985548605, 10744.088417026516, 9487.130604608301, 9235.967264680443, 6229.880906331749, 9431.35853579573, 3847.42339743891, 8256.22692040486, 6606.50616318786, 7296.20674345137, 6526.3265826559655, 8824.493041273712, 9094.011045199677, 6427.1219488604875, 9147.863847898388, 9928.327132074137, 10323.047170691385, 4109.882918828629, 7361.57880925541, 6058.0815081386645, 6479.702984141975, 10059.046433365558, 4832.473029323053, 9541.512022929233, 8419.21846334275, 10392.283244920105, 7189.562032836762, 8304.178043822325, 6097.6258293924, 7262.255321888417, 11205.560924479589, 7248.622759807404, 8663.09710882953, 11083.157653555307, 8039.172456007702, 5586.272460569609, 7901.901812050117, 8172.625337226291, 6126.489722886781, 10186.35466708853, 11466.874084523926, 8255.809358760289, 6353.210789826251, 6586.37073460512, 6837.782119239622, 8205.621074711398, 8134.758426158154, 6668.150536753263, 5774.542538469494, 4188.532170348517, 7758.363921370485, 6324.626835503088, 9003.03917945414, 5597.563298393103, 13590.231066937497, 1844.4005629740313, 5106.10234746401, 10495.914197784685, 7693.952187513503, 3431.968765419282, 6624.57126304739, 6931.81104050915, 11071.187829306738, 11324.833375841295, 8586.908115746919, 7589.879576009207, 6969.8128002506455, 7383.525743040522, 5645.325001247755, 6640.71895059368, 6662.961874536075, 9541.711522361718, 11472.654282579268, 4666.54619547652, 7832.317225065857, 8796.949505779263, 7745.032106808376, 8029.994751540788, 9437.372376749354, 6772.706140154765, 8278.586168033344, 4883.251521134051, 3817.5762322269184, 7513.247713543915, 6428.041639961793, 6988.227426645175, 8802.198548843797, 2475.520816412347, 5881.074992853562, 7063.042882430749, 5895.5154636988555, 11754.639682034722, 7359.568621554226, 7053.73335526729, -1318.1978239500968, 5880.311191885168, 5016.867416811794, 8590.782286072457, 10937.37871102714]}],\n",
              "                        {\"template\": {\"data\": {\"bar\": [{\"error_x\": {\"color\": \"#2a3f5f\"}, \"error_y\": {\"color\": \"#2a3f5f\"}, \"marker\": {\"line\": {\"color\": \"#E5ECF6\", \"width\": 0.5}}, \"type\": \"bar\"}], \"barpolar\": [{\"marker\": {\"line\": {\"color\": \"#E5ECF6\", \"width\": 0.5}}, \"type\": \"barpolar\"}], \"carpet\": [{\"aaxis\": {\"endlinecolor\": \"#2a3f5f\", \"gridcolor\": \"white\", \"linecolor\": \"white\", \"minorgridcolor\": \"white\", \"startlinecolor\": \"#2a3f5f\"}, \"baxis\": {\"endlinecolor\": \"#2a3f5f\", \"gridcolor\": \"white\", \"linecolor\": \"white\", \"minorgridcolor\": \"white\", \"startlinecolor\": \"#2a3f5f\"}, \"type\": \"carpet\"}], \"choropleth\": [{\"colorbar\": {\"outlinewidth\": 0, \"ticks\": \"\"}, \"type\": \"choropleth\"}], \"contour\": [{\"colorbar\": {\"outlinewidth\": 0, \"ticks\": \"\"}, \"colorscale\": [[0.0, \"#0d0887\"], [0.1111111111111111, \"#46039f\"], [0.2222222222222222, \"#7201a8\"], [0.3333333333333333, \"#9c179e\"], [0.4444444444444444, \"#bd3786\"], [0.5555555555555556, \"#d8576b\"], [0.6666666666666666, \"#ed7953\"], [0.7777777777777778, \"#fb9f3a\"], [0.8888888888888888, \"#fdca26\"], [1.0, \"#f0f921\"]], \"type\": \"contour\"}], \"contourcarpet\": [{\"colorbar\": {\"outlinewidth\": 0, \"ticks\": \"\"}, \"type\": \"contourcarpet\"}], \"heatmap\": [{\"colorbar\": {\"outlinewidth\": 0, \"ticks\": \"\"}, \"colorscale\": [[0.0, \"#0d0887\"], [0.1111111111111111, \"#46039f\"], [0.2222222222222222, \"#7201a8\"], [0.3333333333333333, \"#9c179e\"], [0.4444444444444444, \"#bd3786\"], [0.5555555555555556, \"#d8576b\"], [0.6666666666666666, \"#ed7953\"], [0.7777777777777778, \"#fb9f3a\"], [0.8888888888888888, \"#fdca26\"], [1.0, \"#f0f921\"]], \"type\": \"heatmap\"}], \"heatmapgl\": [{\"colorbar\": {\"outlinewidth\": 0, \"ticks\": \"\"}, \"colorscale\": [[0.0, \"#0d0887\"], [0.1111111111111111, \"#46039f\"], [0.2222222222222222, \"#7201a8\"], [0.3333333333333333, \"#9c179e\"], [0.4444444444444444, \"#bd3786\"], [0.5555555555555556, \"#d8576b\"], [0.6666666666666666, \"#ed7953\"], [0.7777777777777778, \"#fb9f3a\"], [0.8888888888888888, \"#fdca26\"], [1.0, \"#f0f921\"]], \"type\": \"heatmapgl\"}], \"histogram\": [{\"marker\": {\"colorbar\": {\"outlinewidth\": 0, \"ticks\": \"\"}}, \"type\": \"histogram\"}], \"histogram2d\": [{\"colorbar\": {\"outlinewidth\": 0, \"ticks\": \"\"}, \"colorscale\": [[0.0, \"#0d0887\"], [0.1111111111111111, \"#46039f\"], [0.2222222222222222, \"#7201a8\"], [0.3333333333333333, \"#9c179e\"], [0.4444444444444444, \"#bd3786\"], [0.5555555555555556, \"#d8576b\"], [0.6666666666666666, \"#ed7953\"], [0.7777777777777778, \"#fb9f3a\"], [0.8888888888888888, \"#fdca26\"], [1.0, \"#f0f921\"]], \"type\": \"histogram2d\"}], \"histogram2dcontour\": [{\"colorbar\": {\"outlinewidth\": 0, \"ticks\": \"\"}, \"colorscale\": [[0.0, \"#0d0887\"], [0.1111111111111111, \"#46039f\"], [0.2222222222222222, \"#7201a8\"], [0.3333333333333333, \"#9c179e\"], [0.4444444444444444, \"#bd3786\"], [0.5555555555555556, \"#d8576b\"], [0.6666666666666666, \"#ed7953\"], [0.7777777777777778, \"#fb9f3a\"], [0.8888888888888888, \"#fdca26\"], [1.0, \"#f0f921\"]], \"type\": \"histogram2dcontour\"}], \"mesh3d\": [{\"colorbar\": {\"outlinewidth\": 0, \"ticks\": \"\"}, \"type\": \"mesh3d\"}], \"parcoords\": [{\"line\": {\"colorbar\": {\"outlinewidth\": 0, \"ticks\": \"\"}}, \"type\": \"parcoords\"}], \"pie\": [{\"automargin\": true, \"type\": \"pie\"}], \"scatter\": [{\"marker\": {\"colorbar\": {\"outlinewidth\": 0, \"ticks\": \"\"}}, \"type\": \"scatter\"}], \"scatter3d\": [{\"line\": {\"colorbar\": {\"outlinewidth\": 0, \"ticks\": \"\"}}, \"marker\": {\"colorbar\": {\"outlinewidth\": 0, \"ticks\": \"\"}}, \"type\": \"scatter3d\"}], \"scattercarpet\": [{\"marker\": {\"colorbar\": {\"outlinewidth\": 0, \"ticks\": \"\"}}, \"type\": \"scattercarpet\"}], \"scattergeo\": [{\"marker\": {\"colorbar\": {\"outlinewidth\": 0, \"ticks\": \"\"}}, \"type\": \"scattergeo\"}], \"scattergl\": [{\"marker\": {\"colorbar\": {\"outlinewidth\": 0, \"ticks\": \"\"}}, \"type\": \"scattergl\"}], \"scattermapbox\": [{\"marker\": {\"colorbar\": {\"outlinewidth\": 0, \"ticks\": \"\"}}, \"type\": \"scattermapbox\"}], \"scatterpolar\": [{\"marker\": {\"colorbar\": {\"outlinewidth\": 0, \"ticks\": \"\"}}, \"type\": \"scatterpolar\"}], \"scatterpolargl\": [{\"marker\": {\"colorbar\": {\"outlinewidth\": 0, \"ticks\": \"\"}}, \"type\": \"scatterpolargl\"}], \"scatterternary\": [{\"marker\": {\"colorbar\": {\"outlinewidth\": 0, \"ticks\": \"\"}}, \"type\": \"scatterternary\"}], \"surface\": [{\"colorbar\": {\"outlinewidth\": 0, \"ticks\": \"\"}, \"colorscale\": [[0.0, \"#0d0887\"], [0.1111111111111111, \"#46039f\"], [0.2222222222222222, \"#7201a8\"], [0.3333333333333333, \"#9c179e\"], [0.4444444444444444, \"#bd3786\"], [0.5555555555555556, \"#d8576b\"], [0.6666666666666666, \"#ed7953\"], [0.7777777777777778, \"#fb9f3a\"], [0.8888888888888888, \"#fdca26\"], [1.0, \"#f0f921\"]], \"type\": \"surface\"}], \"table\": [{\"cells\": {\"fill\": {\"color\": \"#EBF0F8\"}, \"line\": {\"color\": \"white\"}}, \"header\": {\"fill\": {\"color\": \"#C8D4E3\"}, \"line\": {\"color\": \"white\"}}, \"type\": \"table\"}]}, \"layout\": {\"annotationdefaults\": {\"arrowcolor\": \"#2a3f5f\", \"arrowhead\": 0, \"arrowwidth\": 1}, \"coloraxis\": {\"colorbar\": {\"outlinewidth\": 0, \"ticks\": \"\"}}, \"colorscale\": {\"diverging\": [[0, \"#8e0152\"], [0.1, \"#c51b7d\"], [0.2, \"#de77ae\"], [0.3, \"#f1b6da\"], [0.4, \"#fde0ef\"], [0.5, \"#f7f7f7\"], [0.6, \"#e6f5d0\"], [0.7, \"#b8e186\"], [0.8, \"#7fbc41\"], [0.9, \"#4d9221\"], [1, \"#276419\"]], \"sequential\": [[0.0, \"#0d0887\"], [0.1111111111111111, \"#46039f\"], [0.2222222222222222, \"#7201a8\"], [0.3333333333333333, \"#9c179e\"], [0.4444444444444444, \"#bd3786\"], [0.5555555555555556, \"#d8576b\"], [0.6666666666666666, \"#ed7953\"], [0.7777777777777778, \"#fb9f3a\"], [0.8888888888888888, \"#fdca26\"], [1.0, \"#f0f921\"]], \"sequentialminus\": [[0.0, \"#0d0887\"], [0.1111111111111111, \"#46039f\"], [0.2222222222222222, \"#7201a8\"], [0.3333333333333333, \"#9c179e\"], [0.4444444444444444, \"#bd3786\"], [0.5555555555555556, \"#d8576b\"], [0.6666666666666666, \"#ed7953\"], [0.7777777777777778, \"#fb9f3a\"], [0.8888888888888888, \"#fdca26\"], [1.0, \"#f0f921\"]]}, \"colorway\": [\"#636efa\", \"#EF553B\", \"#00cc96\", \"#ab63fa\", \"#FFA15A\", \"#19d3f3\", \"#FF6692\", \"#B6E880\", \"#FF97FF\", \"#FECB52\"], \"font\": {\"color\": \"#2a3f5f\"}, \"geo\": {\"bgcolor\": \"white\", \"lakecolor\": \"white\", \"landcolor\": \"#E5ECF6\", \"showlakes\": true, \"showland\": true, \"subunitcolor\": \"white\"}, \"hoverlabel\": {\"align\": \"left\"}, \"hovermode\": \"closest\", \"mapbox\": {\"style\": \"light\"}, \"paper_bgcolor\": \"white\", \"plot_bgcolor\": \"#E5ECF6\", \"polar\": {\"angularaxis\": {\"gridcolor\": \"white\", \"linecolor\": \"white\", \"ticks\": \"\"}, \"bgcolor\": \"#E5ECF6\", \"radialaxis\": {\"gridcolor\": \"white\", \"linecolor\": \"white\", \"ticks\": \"\"}}, \"scene\": {\"xaxis\": {\"backgroundcolor\": \"#E5ECF6\", \"gridcolor\": \"white\", \"gridwidth\": 2, \"linecolor\": \"white\", \"showbackground\": true, \"ticks\": \"\", \"zerolinecolor\": \"white\"}, \"yaxis\": {\"backgroundcolor\": \"#E5ECF6\", \"gridcolor\": \"white\", \"gridwidth\": 2, \"linecolor\": \"white\", \"showbackground\": true, \"ticks\": \"\", \"zerolinecolor\": \"white\"}, \"zaxis\": {\"backgroundcolor\": \"#E5ECF6\", \"gridcolor\": \"white\", \"gridwidth\": 2, \"linecolor\": \"white\", \"showbackground\": true, \"ticks\": \"\", \"zerolinecolor\": \"white\"}}, \"shapedefaults\": {\"line\": {\"color\": \"#2a3f5f\"}}, \"ternary\": {\"aaxis\": {\"gridcolor\": \"white\", \"linecolor\": \"white\", \"ticks\": \"\"}, \"baxis\": {\"gridcolor\": \"white\", \"linecolor\": \"white\", \"ticks\": \"\"}, \"bgcolor\": \"#E5ECF6\", \"caxis\": {\"gridcolor\": \"white\", \"linecolor\": \"white\", \"ticks\": \"\"}}, \"title\": {\"x\": 0.05}, \"xaxis\": {\"automargin\": true, \"gridcolor\": \"white\", \"linecolor\": \"white\", \"ticks\": \"\", \"title\": {\"standoff\": 15}, \"zerolinecolor\": \"white\", \"zerolinewidth\": 2}, \"yaxis\": {\"automargin\": true, \"gridcolor\": \"white\", \"linecolor\": \"white\", \"ticks\": \"\", \"title\": {\"standoff\": 15}, \"zerolinecolor\": \"white\", \"zerolinewidth\": 2}}}, \"title\": {\"text\": \"Valores reais e previstos das 20 maiores correla\\u00e7\\u00f5es de mortalidade de COVID-19\"}},\n",
              "                        {\"responsive\": true}\n",
              "                    ).then(function(){\n",
              "                            \n",
              "var gd = document.getElementById('0597c950-10fe-45a2-b7b7-22fe9c061fc5');\n",
              "var x = new MutationObserver(function (mutations, observer) {{\n",
              "        var display = window.getComputedStyle(gd).display;\n",
              "        if (!display || display === 'none') {{\n",
              "            console.log([gd, 'removed!']);\n",
              "            Plotly.purge(gd);\n",
              "            observer.disconnect();\n",
              "        }}\n",
              "}});\n",
              "\n",
              "// Listen for the removal of the full notebook cells\n",
              "var notebookContainer = gd.closest('#notebook-container');\n",
              "if (notebookContainer) {{\n",
              "    x.observe(notebookContainer, {childList: true});\n",
              "}}\n",
              "\n",
              "// Listen for the clearing of the current output cell\n",
              "var outputEl = gd.closest('.output');\n",
              "if (outputEl) {{\n",
              "    x.observe(outputEl, {childList: true});\n",
              "}}\n",
              "\n",
              "                        })\n",
              "                };\n",
              "                \n",
              "            </script>\n",
              "        </div>\n",
              "</body>\n",
              "</html>"
            ]
          },
          "metadata": {
            "tags": []
          }
        }
      ]
    },
    {
      "cell_type": "code",
      "metadata": {
        "colab": {
          "base_uri": "https://localhost:8080/",
          "height": 401
        },
        "id": "fM9B_7NsAiHe",
        "outputId": "34b38e60-1be7-4b28-d521-36e95246ccf6"
      },
      "source": [
        "df_corr_pos_neg = pd.DataFrame ({'Real': ytest_corr_pos_neg, 'Previsto': pred_corr_pos_neg}) \n",
        "sns.lmplot(x=\"Real\", y=\"Previsto\", data=df_corr_pos_neg)"
      ],
      "execution_count": null,
      "outputs": [
        {
          "output_type": "execute_result",
          "data": {
            "text/plain": [
              "<seaborn.axisgrid.FacetGrid at 0x7f383f4342d0>"
            ]
          },
          "metadata": {
            "tags": []
          },
          "execution_count": 67
        },
        {
          "output_type": "display_data",
          "data": {
            "image/png": "[encoded data removed]",
            "text/plain": [
              "<Figure size 360x360 with 1 Axes>"
            ]
          },
          "metadata": {
            "tags": [],
            "needs_background": "light"
          }
        }
      ]
    }
  ]
}