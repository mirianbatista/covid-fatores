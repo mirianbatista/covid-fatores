{
  "nbformat": 4,
  "nbformat_minor": 0,
  "metadata": {
    "colab": {
      "name": "regressao-linear-incidencia",
      "provenance": [],
      "collapsed_sections": [],
      "include_colab_link": true
    },
    "kernelspec": {
      "display_name": "Python 3",
      "name": "python3"
    }
  },
  "cells": [
    {
      "cell_type": "markdown",
      "metadata": {
        "id": "view-in-github",
        "colab_type": "text"
      },
      "source": [
        "<a href=\"https://colab.research.google.com/github/mirianbatista/covid-fatores/blob/master/regressao_linear_incidencia.ipynb\" target=\"_parent\"><img src=\"https://colab.research.google.com/assets/colab-badge.svg\" alt=\"Open In Colab\"/></a>"
      ]
    },
    {
      "cell_type": "code",
      "metadata": {
        "id": "TgBAYDjAcHc-"
      },
      "source": [
        "import pandas as pd\n",
        "import requests\n",
        "import io\n",
        "import gzip\n",
        "from sklearn.model_selection import train_test_split\n",
        "from sklearn.linear_model import LinearRegression\n",
        "from sklearn.metrics import mean_squared_error, r2_score\n",
        "import plotly.graph_objects as go\n",
        "import seaborn as sns"
      ],
      "execution_count": null,
      "outputs": []
    },
    {
      "cell_type": "code",
      "metadata": {
        "id": "hBxwtBwWchyy"
      },
      "source": [
        "indicadores = 'ANO', 'Codmun7', 'UF', 'Município', 'ESPVIDA', 'FECTOT', 'MORT1', 'SOBRE60', 'T_ENV', 'E_ANOSESTUDO', 'T_ANALF11A14', 'T_ANALF25M', 'T_ATRASO_0_BASICO', 'T_ATRASO_2_BASICO', 'T_FLPRE', 'T_FLSUPER', 'T_FREQSUPER1517', 'T_SUPER25M', 'T_MED25M', 'GINI', 'PIND', 'PINDCRI', 'PMPOB', 'PMPOBCRI', 'RDPC', 'CPR', 'EMP', 'P_AGRO', 'P_COM', 'P_CONSTR', 'P_EXTR', 'P_FORMAL', 'P_FUND', 'P_MED', 'P_SERV', 'P_SIUP', 'P_SUPER', 'T_DES2529', 'TRABCC', 'TRABPUB', 'TRABSC', 'T_AGUA', 'T_BANAGUA', 'T_DENS', 'T_LIXO', 'T_LUZ', 'AGUA_ESGOTO', 'PAREDE', 'T_CRIFUNDIN_TODOS', 'T_FORA4A5', 'T_FORA6A14', 'T_FUNDIN_TODOS', 'T_FUNDIN_TODOS_MMEIO', 'T_FUNDIN18MINF', 'T_M10A14CF', 'T_M15A17CF', 'T_MULCHEFEFIF014', 'T_NESTUDA_NTRAB_MMEIO', 'T_OCUPDESLOC_1', 'T_RMAXIDOSO', 'T_SLUZ', 'HOMEMTOT', 'MULHERTOT', 'pesoRUR', 'pesotot', 'pesourb', 'POP', 'IDHM', 'IDHM_E', 'IDHM_L', 'IDHM_R' \n",
        "idhm = pd.read_excel('https://github.com/mirianbatista/idhm-pb/blob/master/atlas2013_dadosbrutos_pt.xlsx?raw=true', sheet_name=1, #usecols = indicadores, \n",
        "                     dtype = {'UF': str, 'Codmun7':str}) \n",
        "#idhmpb = idhm.groupby(idhm['UF']).get_group('25').loc[(idhm['ANO'] == 2010)] "
      ],
      "execution_count": null,
      "outputs": []
    },
    {
      "cell_type": "code",
      "metadata": {
        "colab": {
          "base_uri": "https://localhost:8080/"
        },
        "id": "Gc6vsAjBg7sM",
        "outputId": "f6b5a5b9-aa7b-4f11-fa68-1da690019779"
      },
      "source": [
        "idhm.info()"
      ],
      "execution_count": null,
      "outputs": [
        {
          "output_type": "stream",
          "text": [
            "<class 'pandas.core.frame.DataFrame'>\n",
            "RangeIndex: 16695 entries, 0 to 16694\n",
            "Columns: 237 entries, ANO to IDHM_R\n",
            "dtypes: float64(167), int64(67), object(3)\n",
            "memory usage: 30.2+ MB\n"
          ],
          "name": "stdout"
        }
      ]
    },
    {
      "cell_type": "code",
      "metadata": {
        "colab": {
          "base_uri": "https://localhost:8080/",
          "height": 414
        },
        "id": "9TK3iibJd1rV",
        "outputId": "f027e32d-37cd-4b09-a156-9181ca39c288"
      },
      "source": [
        "url = \"https://data.brasil.io/dataset/covid19/caso_full.csv.gz\"\n",
        "cols = 'city','city_ibge_code','date','estimated_population_2019','last_available_confirmed_per_100k_inhabitants', 'last_available_death_rate'\n",
        "response = requests.get(url)\n",
        "bytes_io = io.BytesIO(response.content)\n",
        "with gzip.open(bytes_io, 'rt') as read_file:\n",
        "    covid = pd.read_csv(read_file, usecols=cols, parse_dates=[\"date\"], dtype={\"city_ibge_code\": str})\n",
        "covid = covid[covid.date == max(covid.date)]\n",
        "covid"
      ],
      "execution_count": null,
      "outputs": [
        {
          "output_type": "execute_result",
          "data": {
            "text/html": [
              "<div>\n",
              "<style scoped>\n",
              "    .dataframe tbody tr th:only-of-type {\n",
              "        vertical-align: middle;\n",
              "    }\n",
              "\n",
              "    .dataframe tbody tr th {\n",
              "        vertical-align: top;\n",
              "    }\n",
              "\n",
              "    .dataframe thead th {\n",
              "        text-align: right;\n",
              "    }\n",
              "</style>\n",
              "<table border=\"1\" class=\"dataframe\">\n",
              "  <thead>\n",
              "    <tr style=\"text-align: right;\">\n",
              "      <th></th>\n",
              "      <th>city</th>\n",
              "      <th>city_ibge_code</th>\n",
              "      <th>date</th>\n",
              "      <th>estimated_population_2019</th>\n",
              "      <th>last_available_confirmed_per_100k_inhabitants</th>\n",
              "      <th>last_available_death_rate</th>\n",
              "    </tr>\n",
              "  </thead>\n",
              "  <tbody>\n",
              "    <tr>\n",
              "      <th>9457</th>\n",
              "      <td>Acrelândia</td>\n",
              "      <td>1200013</td>\n",
              "      <td>2021-06-10</td>\n",
              "      <td>15256.0</td>\n",
              "      <td>10348.61201</td>\n",
              "      <td>0.0212</td>\n",
              "    </tr>\n",
              "    <tr>\n",
              "      <th>9458</th>\n",
              "      <td>Assis Brasil</td>\n",
              "      <td>1200054</td>\n",
              "      <td>2021-06-10</td>\n",
              "      <td>7417.0</td>\n",
              "      <td>22086.54101</td>\n",
              "      <td>0.0144</td>\n",
              "    </tr>\n",
              "    <tr>\n",
              "      <th>9459</th>\n",
              "      <td>Brasiléia</td>\n",
              "      <td>1200104</td>\n",
              "      <td>2021-06-10</td>\n",
              "      <td>26278.0</td>\n",
              "      <td>10381.24485</td>\n",
              "      <td>0.0137</td>\n",
              "    </tr>\n",
              "    <tr>\n",
              "      <th>9460</th>\n",
              "      <td>Bujari</td>\n",
              "      <td>1200138</td>\n",
              "      <td>2021-06-10</td>\n",
              "      <td>10266.0</td>\n",
              "      <td>10758.15739</td>\n",
              "      <td>0.0152</td>\n",
              "    </tr>\n",
              "    <tr>\n",
              "      <th>9461</th>\n",
              "      <td>Capixaba</td>\n",
              "      <td>1200179</td>\n",
              "      <td>2021-06-10</td>\n",
              "      <td>11733.0</td>\n",
              "      <td>5338.10793</td>\n",
              "      <td>0.0265</td>\n",
              "    </tr>\n",
              "    <tr>\n",
              "      <th>...</th>\n",
              "      <td>...</td>\n",
              "      <td>...</td>\n",
              "      <td>...</td>\n",
              "      <td>...</td>\n",
              "      <td>...</td>\n",
              "      <td>...</td>\n",
              "    </tr>\n",
              "    <tr>\n",
              "      <th>2225003</th>\n",
              "      <td>Tupirama</td>\n",
              "      <td>1721257</td>\n",
              "      <td>2021-06-10</td>\n",
              "      <td>1891.0</td>\n",
              "      <td>7492.19563</td>\n",
              "      <td>0.0139</td>\n",
              "    </tr>\n",
              "    <tr>\n",
              "      <th>2225004</th>\n",
              "      <td>Tupiratins</td>\n",
              "      <td>1721307</td>\n",
              "      <td>2021-06-10</td>\n",
              "      <td>2671.0</td>\n",
              "      <td>3407.84170</td>\n",
              "      <td>0.0108</td>\n",
              "    </tr>\n",
              "    <tr>\n",
              "      <th>2225005</th>\n",
              "      <td>Wanderlândia</td>\n",
              "      <td>1722081</td>\n",
              "      <td>2021-06-10</td>\n",
              "      <td>11683.0</td>\n",
              "      <td>6843.36117</td>\n",
              "      <td>0.0149</td>\n",
              "    </tr>\n",
              "    <tr>\n",
              "      <th>2225006</th>\n",
              "      <td>Xambioá</td>\n",
              "      <td>1722107</td>\n",
              "      <td>2021-06-10</td>\n",
              "      <td>11540.0</td>\n",
              "      <td>18098.95833</td>\n",
              "      <td>0.0129</td>\n",
              "    </tr>\n",
              "    <tr>\n",
              "      <th>2225007</th>\n",
              "      <td>NaN</td>\n",
              "      <td>17</td>\n",
              "      <td>2021-06-10</td>\n",
              "      <td>1572866.0</td>\n",
              "      <td>11670.75827</td>\n",
              "      <td>0.0161</td>\n",
              "    </tr>\n",
              "  </tbody>\n",
              "</table>\n",
              "<p>5616 rows × 6 columns</p>\n",
              "</div>"
            ],
            "text/plain": [
              "                 city  ... last_available_death_rate\n",
              "9457       Acrelândia  ...                    0.0212\n",
              "9458     Assis Brasil  ...                    0.0144\n",
              "9459        Brasiléia  ...                    0.0137\n",
              "9460           Bujari  ...                    0.0152\n",
              "9461         Capixaba  ...                    0.0265\n",
              "...               ...  ...                       ...\n",
              "2225003      Tupirama  ...                    0.0139\n",
              "2225004    Tupiratins  ...                    0.0108\n",
              "2225005  Wanderlândia  ...                    0.0149\n",
              "2225006       Xambioá  ...                    0.0129\n",
              "2225007           NaN  ...                    0.0161\n",
              "\n",
              "[5616 rows x 6 columns]"
            ]
          },
          "metadata": {
            "tags": []
          },
          "execution_count": 4
        }
      ]
    },
    {
      "cell_type": "code",
      "metadata": {
        "colab": {
          "base_uri": "https://localhost:8080/",
          "height": 334
        },
        "id": "NmeNIY4LzbGG",
        "outputId": "3e31d593-5098-4d79-b9b3-92d6a81b5187"
      },
      "source": [
        "idhmcovid = pd.merge(idhm, covid, left_on=\"Codmun7\", right_on=\"city_ibge_code\", how=\"left\") \n",
        "idhmcovid = idhmcovid.loc[(idhmcovid['estimated_population_2019'] > 100000) & (idhmcovid['ANO'] == 2010)].dropna()\n",
        "idhmcovid.head()"
      ],
      "execution_count": null,
      "outputs": [
        {
          "output_type": "execute_result",
          "data": {
            "text/html": [
              "<div>\n",
              "<style scoped>\n",
              "    .dataframe tbody tr th:only-of-type {\n",
              "        vertical-align: middle;\n",
              "    }\n",
              "\n",
              "    .dataframe tbody tr th {\n",
              "        vertical-align: top;\n",
              "    }\n",
              "\n",
              "    .dataframe thead th {\n",
              "        text-align: right;\n",
              "    }\n",
              "</style>\n",
              "<table border=\"1\" class=\"dataframe\">\n",
              "  <thead>\n",
              "    <tr style=\"text-align: right;\">\n",
              "      <th></th>\n",
              "      <th>ANO</th>\n",
              "      <th>UF</th>\n",
              "      <th>Codmun6</th>\n",
              "      <th>Codmun7</th>\n",
              "      <th>Município</th>\n",
              "      <th>ESPVIDA</th>\n",
              "      <th>FECTOT</th>\n",
              "      <th>MORT1</th>\n",
              "      <th>MORT5</th>\n",
              "      <th>RAZDEP</th>\n",
              "      <th>SOBRE40</th>\n",
              "      <th>SOBRE60</th>\n",
              "      <th>T_ENV</th>\n",
              "      <th>E_ANOSESTUDO</th>\n",
              "      <th>T_ANALF11A14</th>\n",
              "      <th>T_ANALF15A17</th>\n",
              "      <th>T_ANALF15M</th>\n",
              "      <th>T_ANALF18A24</th>\n",
              "      <th>T_ANALF18M</th>\n",
              "      <th>T_ANALF25A29</th>\n",
              "      <th>T_ANALF25M</th>\n",
              "      <th>T_ATRASO_0_BASICO</th>\n",
              "      <th>T_ATRASO_0_FUND</th>\n",
              "      <th>T_ATRASO_0_MED</th>\n",
              "      <th>T_ATRASO_1_BASICO</th>\n",
              "      <th>T_ATRASO_1_FUND</th>\n",
              "      <th>T_ATRASO_1_MED</th>\n",
              "      <th>T_ATRASO_2_BASICO</th>\n",
              "      <th>T_ATRASO_2_FUND</th>\n",
              "      <th>T_ATRASO_2_MED</th>\n",
              "      <th>T_FBBAS</th>\n",
              "      <th>T_FBFUND</th>\n",
              "      <th>T_FBMED</th>\n",
              "      <th>T_FBPRE</th>\n",
              "      <th>T_FBSUPER</th>\n",
              "      <th>T_FLBAS</th>\n",
              "      <th>T_FLFUND</th>\n",
              "      <th>T_FLMED</th>\n",
              "      <th>T_FLPRE</th>\n",
              "      <th>T_FLSUPER</th>\n",
              "      <th>...</th>\n",
              "      <th>PESO15</th>\n",
              "      <th>peso1517</th>\n",
              "      <th>PESO1524</th>\n",
              "      <th>PESO1618</th>\n",
              "      <th>PESO18</th>\n",
              "      <th>Peso1820</th>\n",
              "      <th>PESO1824</th>\n",
              "      <th>Peso1921</th>\n",
              "      <th>PESO25</th>\n",
              "      <th>peso4</th>\n",
              "      <th>peso5</th>\n",
              "      <th>peso6</th>\n",
              "      <th>PESO610</th>\n",
              "      <th>Peso617</th>\n",
              "      <th>PESO65</th>\n",
              "      <th>PESOM1014</th>\n",
              "      <th>PESOM1517</th>\n",
              "      <th>PESOM15M</th>\n",
              "      <th>PESOM25M</th>\n",
              "      <th>pesoRUR</th>\n",
              "      <th>pesotot</th>\n",
              "      <th>pesourb</th>\n",
              "      <th>PIA</th>\n",
              "      <th>PIA1014</th>\n",
              "      <th>PIA1517</th>\n",
              "      <th>PIA18M</th>\n",
              "      <th>POP</th>\n",
              "      <th>POPT</th>\n",
              "      <th>I_ESCOLARIDADE</th>\n",
              "      <th>I_FREQ_PROP</th>\n",
              "      <th>IDHM</th>\n",
              "      <th>IDHM_E</th>\n",
              "      <th>IDHM_L</th>\n",
              "      <th>IDHM_R</th>\n",
              "      <th>city</th>\n",
              "      <th>city_ibge_code</th>\n",
              "      <th>date</th>\n",
              "      <th>estimated_population_2019</th>\n",
              "      <th>last_available_confirmed_per_100k_inhabitants</th>\n",
              "      <th>last_available_death_rate</th>\n",
              "    </tr>\n",
              "  </thead>\n",
              "  <tbody>\n",
              "    <tr>\n",
              "      <th>11131</th>\n",
              "      <td>2010</td>\n",
              "      <td>11</td>\n",
              "      <td>110002</td>\n",
              "      <td>1100023</td>\n",
              "      <td>ARIQUEMES</td>\n",
              "      <td>73.36</td>\n",
              "      <td>1.91</td>\n",
              "      <td>19.20</td>\n",
              "      <td>20.53</td>\n",
              "      <td>46.68</td>\n",
              "      <td>96.12</td>\n",
              "      <td>87.69</td>\n",
              "      <td>4.36</td>\n",
              "      <td>9.18</td>\n",
              "      <td>1.55</td>\n",
              "      <td>1.09</td>\n",
              "      <td>7.90</td>\n",
              "      <td>1.13</td>\n",
              "      <td>8.53</td>\n",
              "      <td>1.89</td>\n",
              "      <td>10.48</td>\n",
              "      <td>58.43</td>\n",
              "      <td>60.96</td>\n",
              "      <td>72.93</td>\n",
              "      <td>22.22</td>\n",
              "      <td>22.30</td>\n",
              "      <td>23.11</td>\n",
              "      <td>19.35</td>\n",
              "      <td>16.74</td>\n",
              "      <td>3.96</td>\n",
              "      <td>94.78</td>\n",
              "      <td>106.62</td>\n",
              "      <td>58.77</td>\n",
              "      <td>46.92</td>\n",
              "      <td>27.95</td>\n",
              "      <td>85.46</td>\n",
              "      <td>91.31</td>\n",
              "      <td>37.07</td>\n",
              "      <td>40.96</td>\n",
              "      <td>12.91</td>\n",
              "      <td>...</td>\n",
              "      <td>65521</td>\n",
              "      <td>5497</td>\n",
              "      <td>18019</td>\n",
              "      <td>5420</td>\n",
              "      <td>60024</td>\n",
              "      <td>5330</td>\n",
              "      <td>12522</td>\n",
              "      <td>5360</td>\n",
              "      <td>47502</td>\n",
              "      <td>1522</td>\n",
              "      <td>1565</td>\n",
              "      <td>1564</td>\n",
              "      <td>8593</td>\n",
              "      <td>19709</td>\n",
              "      <td>3943</td>\n",
              "      <td>4515</td>\n",
              "      <td>2739</td>\n",
              "      <td>32552</td>\n",
              "      <td>23467</td>\n",
              "      <td>13828</td>\n",
              "      <td>90353</td>\n",
              "      <td>76525</td>\n",
              "      <td>74725.0</td>\n",
              "      <td>9256.0</td>\n",
              "      <td>5256.0</td>\n",
              "      <td>60213.0</td>\n",
              "      <td>89766</td>\n",
              "      <td>88730</td>\n",
              "      <td>0.514</td>\n",
              "      <td>0.648</td>\n",
              "      <td>0.702</td>\n",
              "      <td>0.600</td>\n",
              "      <td>0.806</td>\n",
              "      <td>0.716</td>\n",
              "      <td>Ariquemes</td>\n",
              "      <td>1100023</td>\n",
              "      <td>2021-06-10</td>\n",
              "      <td>107863.0</td>\n",
              "      <td>18512.09335</td>\n",
              "      <td>0.0220</td>\n",
              "    </tr>\n",
              "    <tr>\n",
              "      <th>11141</th>\n",
              "      <td>2010</td>\n",
              "      <td>11</td>\n",
              "      <td>110012</td>\n",
              "      <td>1100122</td>\n",
              "      <td>JI-PARANÁ</td>\n",
              "      <td>73.60</td>\n",
              "      <td>2.26</td>\n",
              "      <td>16.20</td>\n",
              "      <td>17.43</td>\n",
              "      <td>43.98</td>\n",
              "      <td>96.11</td>\n",
              "      <td>87.67</td>\n",
              "      <td>5.05</td>\n",
              "      <td>9.95</td>\n",
              "      <td>1.35</td>\n",
              "      <td>1.00</td>\n",
              "      <td>7.79</td>\n",
              "      <td>1.20</td>\n",
              "      <td>8.38</td>\n",
              "      <td>1.57</td>\n",
              "      <td>10.18</td>\n",
              "      <td>64.76</td>\n",
              "      <td>70.99</td>\n",
              "      <td>67.15</td>\n",
              "      <td>18.81</td>\n",
              "      <td>16.60</td>\n",
              "      <td>25.40</td>\n",
              "      <td>16.43</td>\n",
              "      <td>12.41</td>\n",
              "      <td>7.45</td>\n",
              "      <td>97.29</td>\n",
              "      <td>109.08</td>\n",
              "      <td>67.27</td>\n",
              "      <td>47.06</td>\n",
              "      <td>27.38</td>\n",
              "      <td>87.51</td>\n",
              "      <td>91.15</td>\n",
              "      <td>45.02</td>\n",
              "      <td>42.60</td>\n",
              "      <td>12.65</td>\n",
              "      <td>...</td>\n",
              "      <td>86875</td>\n",
              "      <td>6976</td>\n",
              "      <td>22945</td>\n",
              "      <td>6839</td>\n",
              "      <td>79899</td>\n",
              "      <td>6734</td>\n",
              "      <td>15969</td>\n",
              "      <td>6792</td>\n",
              "      <td>63930</td>\n",
              "      <td>1909</td>\n",
              "      <td>1939</td>\n",
              "      <td>1912</td>\n",
              "      <td>9976</td>\n",
              "      <td>23290</td>\n",
              "      <td>5887</td>\n",
              "      <td>5317</td>\n",
              "      <td>3491</td>\n",
              "      <td>44200</td>\n",
              "      <td>32591</td>\n",
              "      <td>11752</td>\n",
              "      <td>116610</td>\n",
              "      <td>104858</td>\n",
              "      <td>97571.0</td>\n",
              "      <td>10727.0</td>\n",
              "      <td>7195.0</td>\n",
              "      <td>79649.0</td>\n",
              "      <td>115896</td>\n",
              "      <td>115322</td>\n",
              "      <td>0.532</td>\n",
              "      <td>0.664</td>\n",
              "      <td>0.714</td>\n",
              "      <td>0.617</td>\n",
              "      <td>0.810</td>\n",
              "      <td>0.728</td>\n",
              "      <td>Ji-Paraná</td>\n",
              "      <td>1100122</td>\n",
              "      <td>2021-06-10</td>\n",
              "      <td>128969.0</td>\n",
              "      <td>13196.77868</td>\n",
              "      <td>0.0293</td>\n",
              "    </tr>\n",
              "    <tr>\n",
              "      <th>11146</th>\n",
              "      <td>2010</td>\n",
              "      <td>11</td>\n",
              "      <td>110020</td>\n",
              "      <td>1100205</td>\n",
              "      <td>PORTO VELHO</td>\n",
              "      <td>74.14</td>\n",
              "      <td>2.13</td>\n",
              "      <td>15.52</td>\n",
              "      <td>16.60</td>\n",
              "      <td>42.97</td>\n",
              "      <td>96.42</td>\n",
              "      <td>88.56</td>\n",
              "      <td>3.52</td>\n",
              "      <td>8.99</td>\n",
              "      <td>1.85</td>\n",
              "      <td>1.28</td>\n",
              "      <td>5.10</td>\n",
              "      <td>1.20</td>\n",
              "      <td>5.43</td>\n",
              "      <td>1.66</td>\n",
              "      <td>6.62</td>\n",
              "      <td>56.08</td>\n",
              "      <td>60.78</td>\n",
              "      <td>66.98</td>\n",
              "      <td>21.49</td>\n",
              "      <td>21.56</td>\n",
              "      <td>23.51</td>\n",
              "      <td>22.43</td>\n",
              "      <td>17.66</td>\n",
              "      <td>9.51</td>\n",
              "      <td>96.90</td>\n",
              "      <td>111.14</td>\n",
              "      <td>57.31</td>\n",
              "      <td>51.70</td>\n",
              "      <td>33.41</td>\n",
              "      <td>84.89</td>\n",
              "      <td>90.61</td>\n",
              "      <td>34.79</td>\n",
              "      <td>43.16</td>\n",
              "      <td>15.84</td>\n",
              "      <td>...</td>\n",
              "      <td>314653</td>\n",
              "      <td>25250</td>\n",
              "      <td>88605</td>\n",
              "      <td>25001</td>\n",
              "      <td>289403</td>\n",
              "      <td>25816</td>\n",
              "      <td>63355</td>\n",
              "      <td>26638</td>\n",
              "      <td>226048</td>\n",
              "      <td>7011</td>\n",
              "      <td>7389</td>\n",
              "      <td>7151</td>\n",
              "      <td>38049</td>\n",
              "      <td>87846</td>\n",
              "      <td>15099</td>\n",
              "      <td>20462</td>\n",
              "      <td>12641</td>\n",
              "      <td>154878</td>\n",
              "      <td>111516</td>\n",
              "      <td>37794</td>\n",
              "      <td>428527</td>\n",
              "      <td>390733</td>\n",
              "      <td>356826.0</td>\n",
              "      <td>41256.0</td>\n",
              "      <td>25331.0</td>\n",
              "      <td>290239.0</td>\n",
              "      <td>422555</td>\n",
              "      <td>419354</td>\n",
              "      <td>0.619</td>\n",
              "      <td>0.647</td>\n",
              "      <td>0.736</td>\n",
              "      <td>0.638</td>\n",
              "      <td>0.819</td>\n",
              "      <td>0.764</td>\n",
              "      <td>Porto Velho</td>\n",
              "      <td>1100205</td>\n",
              "      <td>2021-06-10</td>\n",
              "      <td>529544.0</td>\n",
              "      <td>14519.22114</td>\n",
              "      <td>0.0303</td>\n",
              "    </tr>\n",
              "    <tr>\n",
              "      <th>11196</th>\n",
              "      <td>2010</td>\n",
              "      <td>12</td>\n",
              "      <td>120040</td>\n",
              "      <td>1200401</td>\n",
              "      <td>RIO BRANCO</td>\n",
              "      <td>72.85</td>\n",
              "      <td>2.06</td>\n",
              "      <td>20.03</td>\n",
              "      <td>21.37</td>\n",
              "      <td>50.39</td>\n",
              "      <td>95.37</td>\n",
              "      <td>86.48</td>\n",
              "      <td>4.31</td>\n",
              "      <td>9.72</td>\n",
              "      <td>2.48</td>\n",
              "      <td>1.81</td>\n",
              "      <td>9.03</td>\n",
              "      <td>2.35</td>\n",
              "      <td>9.71</td>\n",
              "      <td>3.44</td>\n",
              "      <td>11.76</td>\n",
              "      <td>66.87</td>\n",
              "      <td>69.08</td>\n",
              "      <td>74.31</td>\n",
              "      <td>18.68</td>\n",
              "      <td>17.53</td>\n",
              "      <td>21.36</td>\n",
              "      <td>14.45</td>\n",
              "      <td>13.39</td>\n",
              "      <td>4.33</td>\n",
              "      <td>94.30</td>\n",
              "      <td>102.38</td>\n",
              "      <td>70.68</td>\n",
              "      <td>57.85</td>\n",
              "      <td>36.59</td>\n",
              "      <td>84.44</td>\n",
              "      <td>89.88</td>\n",
              "      <td>45.78</td>\n",
              "      <td>51.05</td>\n",
              "      <td>15.18</td>\n",
              "      <td>...</td>\n",
              "      <td>237875</td>\n",
              "      <td>20631</td>\n",
              "      <td>67915</td>\n",
              "      <td>20163</td>\n",
              "      <td>217244</td>\n",
              "      <td>20134</td>\n",
              "      <td>47284</td>\n",
              "      <td>20168</td>\n",
              "      <td>169960</td>\n",
              "      <td>6302</td>\n",
              "      <td>6307</td>\n",
              "      <td>6248</td>\n",
              "      <td>33067</td>\n",
              "      <td>75361</td>\n",
              "      <td>14480</td>\n",
              "      <td>17760</td>\n",
              "      <td>10629</td>\n",
              "      <td>123995</td>\n",
              "      <td>88970</td>\n",
              "      <td>27493</td>\n",
              "      <td>336038</td>\n",
              "      <td>308545</td>\n",
              "      <td>273669.0</td>\n",
              "      <td>35699.0</td>\n",
              "      <td>20942.0</td>\n",
              "      <td>217028.0</td>\n",
              "      <td>333052</td>\n",
              "      <td>328655</td>\n",
              "      <td>0.607</td>\n",
              "      <td>0.690</td>\n",
              "      <td>0.727</td>\n",
              "      <td>0.661</td>\n",
              "      <td>0.798</td>\n",
              "      <td>0.729</td>\n",
              "      <td>Rio Branco</td>\n",
              "      <td>1200401</td>\n",
              "      <td>2021-06-10</td>\n",
              "      <td>407319.0</td>\n",
              "      <td>8948.57021</td>\n",
              "      <td>0.0278</td>\n",
              "    </tr>\n",
              "    <tr>\n",
              "      <th>11232</th>\n",
              "      <td>2010</td>\n",
              "      <td>13</td>\n",
              "      <td>130190</td>\n",
              "      <td>1301902</td>\n",
              "      <td>ITACOATIARA</td>\n",
              "      <td>73.66</td>\n",
              "      <td>2.84</td>\n",
              "      <td>15.31</td>\n",
              "      <td>16.39</td>\n",
              "      <td>68.47</td>\n",
              "      <td>96.19</td>\n",
              "      <td>87.71</td>\n",
              "      <td>5.03</td>\n",
              "      <td>8.76</td>\n",
              "      <td>5.66</td>\n",
              "      <td>2.37</td>\n",
              "      <td>9.12</td>\n",
              "      <td>2.68</td>\n",
              "      <td>9.94</td>\n",
              "      <td>3.41</td>\n",
              "      <td>11.96</td>\n",
              "      <td>53.75</td>\n",
              "      <td>57.56</td>\n",
              "      <td>67.03</td>\n",
              "      <td>20.76</td>\n",
              "      <td>20.51</td>\n",
              "      <td>24.04</td>\n",
              "      <td>25.49</td>\n",
              "      <td>21.93</td>\n",
              "      <td>8.93</td>\n",
              "      <td>104.53</td>\n",
              "      <td>115.77</td>\n",
              "      <td>67.74</td>\n",
              "      <td>32.20</td>\n",
              "      <td>16.99</td>\n",
              "      <td>86.25</td>\n",
              "      <td>90.63</td>\n",
              "      <td>33.19</td>\n",
              "      <td>25.48</td>\n",
              "      <td>6.75</td>\n",
              "      <td>...</td>\n",
              "      <td>55914</td>\n",
              "      <td>6046</td>\n",
              "      <td>16880</td>\n",
              "      <td>5582</td>\n",
              "      <td>49868</td>\n",
              "      <td>4754</td>\n",
              "      <td>10834</td>\n",
              "      <td>4544</td>\n",
              "      <td>39034</td>\n",
              "      <td>2030</td>\n",
              "      <td>2087</td>\n",
              "      <td>2049</td>\n",
              "      <td>10630</td>\n",
              "      <td>23316</td>\n",
              "      <td>4369</td>\n",
              "      <td>5321</td>\n",
              "      <td>2977</td>\n",
              "      <td>27247</td>\n",
              "      <td>18956</td>\n",
              "      <td>28682</td>\n",
              "      <td>86839</td>\n",
              "      <td>58157</td>\n",
              "      <td>66688.0</td>\n",
              "      <td>10748.0</td>\n",
              "      <td>5853.0</td>\n",
              "      <td>50087.0</td>\n",
              "      <td>86395</td>\n",
              "      <td>82711</td>\n",
              "      <td>0.463</td>\n",
              "      <td>0.573</td>\n",
              "      <td>0.644</td>\n",
              "      <td>0.534</td>\n",
              "      <td>0.811</td>\n",
              "      <td>0.618</td>\n",
              "      <td>Itacoatiara</td>\n",
              "      <td>1301902</td>\n",
              "      <td>2021-06-10</td>\n",
              "      <td>101337.0</td>\n",
              "      <td>8591.93192</td>\n",
              "      <td>0.0348</td>\n",
              "    </tr>\n",
              "  </tbody>\n",
              "</table>\n",
              "<p>5 rows × 243 columns</p>\n",
              "</div>"
            ],
            "text/plain": [
              "        ANO  ... last_available_death_rate\n",
              "11131  2010  ...                    0.0220\n",
              "11141  2010  ...                    0.0293\n",
              "11146  2010  ...                    0.0303\n",
              "11196  2010  ...                    0.0278\n",
              "11232  2010  ...                    0.0348\n",
              "\n",
              "[5 rows x 243 columns]"
            ]
          },
          "metadata": {
            "tags": []
          },
          "execution_count": 5
        }
      ]
    },
    {
      "cell_type": "code",
      "metadata": {
        "colab": {
          "base_uri": "https://localhost:8080/",
          "height": 355
        },
        "id": "fmgNEpK41SWi",
        "outputId": "aa10e599-3b38-4222-d9c9-cf3bdbc8332f"
      },
      "source": [
        "correlacao_positiva = idhmcovid.corr().loc['last_available_confirmed_per_100k_inhabitants'].sort_values(ascending=False).to_frame().reset_index().rename(columns = {'index': 'indicador'})[:11]\n",
        "correlacao_positiva.drop(correlacao_positiva.loc[(correlacao_positiva['indicador'] == \"last_available_confirmed_per_100k_inhabitants\")].index, inplace=True)\n",
        "correlacao_positiva"
      ],
      "execution_count": null,
      "outputs": [
        {
          "output_type": "execute_result",
          "data": {
            "text/html": [
              "<div>\n",
              "<style scoped>\n",
              "    .dataframe tbody tr th:only-of-type {\n",
              "        vertical-align: middle;\n",
              "    }\n",
              "\n",
              "    .dataframe tbody tr th {\n",
              "        vertical-align: top;\n",
              "    }\n",
              "\n",
              "    .dataframe thead th {\n",
              "        text-align: right;\n",
              "    }\n",
              "</style>\n",
              "<table border=\"1\" class=\"dataframe\">\n",
              "  <thead>\n",
              "    <tr style=\"text-align: right;\">\n",
              "      <th></th>\n",
              "      <th>indicador</th>\n",
              "      <th>last_available_confirmed_per_100k_inhabitants</th>\n",
              "    </tr>\n",
              "  </thead>\n",
              "  <tbody>\n",
              "    <tr>\n",
              "      <th>1</th>\n",
              "      <td>T_FREQSUPER1517</td>\n",
              "      <td>0.485824</td>\n",
              "    </tr>\n",
              "    <tr>\n",
              "      <th>2</th>\n",
              "      <td>EMP</td>\n",
              "      <td>0.478434</td>\n",
              "    </tr>\n",
              "    <tr>\n",
              "      <th>3</th>\n",
              "      <td>T_FLSUPER</td>\n",
              "      <td>0.465590</td>\n",
              "    </tr>\n",
              "    <tr>\n",
              "      <th>4</th>\n",
              "      <td>T_FBSUPER</td>\n",
              "      <td>0.448303</td>\n",
              "    </tr>\n",
              "    <tr>\n",
              "      <th>5</th>\n",
              "      <td>T_ATIV</td>\n",
              "      <td>0.432636</td>\n",
              "    </tr>\n",
              "    <tr>\n",
              "      <th>6</th>\n",
              "      <td>T_ATIV18M</td>\n",
              "      <td>0.415361</td>\n",
              "    </tr>\n",
              "    <tr>\n",
              "      <th>7</th>\n",
              "      <td>T_ATIV2529</td>\n",
              "      <td>0.398134</td>\n",
              "    </tr>\n",
              "    <tr>\n",
              "      <th>8</th>\n",
              "      <td>IDHM_R</td>\n",
              "      <td>0.388441</td>\n",
              "    </tr>\n",
              "    <tr>\n",
              "      <th>9</th>\n",
              "      <td>T_SUPER25M</td>\n",
              "      <td>0.373646</td>\n",
              "    </tr>\n",
              "    <tr>\n",
              "      <th>10</th>\n",
              "      <td>T_ATIV1517</td>\n",
              "      <td>0.367273</td>\n",
              "    </tr>\n",
              "  </tbody>\n",
              "</table>\n",
              "</div>"
            ],
            "text/plain": [
              "          indicador  last_available_confirmed_per_100k_inhabitants\n",
              "1   T_FREQSUPER1517                                       0.485824\n",
              "2               EMP                                       0.478434\n",
              "3         T_FLSUPER                                       0.465590\n",
              "4         T_FBSUPER                                       0.448303\n",
              "5            T_ATIV                                       0.432636\n",
              "6         T_ATIV18M                                       0.415361\n",
              "7        T_ATIV2529                                       0.398134\n",
              "8            IDHM_R                                       0.388441\n",
              "9        T_SUPER25M                                       0.373646\n",
              "10       T_ATIV1517                                       0.367273"
            ]
          },
          "metadata": {
            "tags": []
          },
          "execution_count": 6
        }
      ]
    },
    {
      "cell_type": "code",
      "metadata": {
        "colab": {
          "base_uri": "https://localhost:8080/"
        },
        "id": "IE1wWW-42Vq8",
        "outputId": "f5db0177-2234-4035-a49d-045711d905c1"
      },
      "source": [
        "corr_posit = correlacao_positiva.indicador.to_list()\n",
        "corr_posit"
      ],
      "execution_count": null,
      "outputs": [
        {
          "output_type": "execute_result",
          "data": {
            "text/plain": [
              "['T_FREQSUPER1517',\n",
              " 'EMP',\n",
              " 'T_FLSUPER',\n",
              " 'T_FBSUPER',\n",
              " 'T_ATIV',\n",
              " 'T_ATIV18M',\n",
              " 'T_ATIV2529',\n",
              " 'IDHM_R',\n",
              " 'T_SUPER25M',\n",
              " 'T_ATIV1517']"
            ]
          },
          "metadata": {
            "tags": []
          },
          "execution_count": 7
        }
      ]
    },
    {
      "cell_type": "code",
      "metadata": {
        "colab": {
          "base_uri": "https://localhost:8080/",
          "height": 414
        },
        "id": "GOR5c2rP2Vtt",
        "outputId": "131498f7-ce73-4b34-b596-d062413ac6d1"
      },
      "source": [
        "corr_positiva = idhmcovid[idhmcovid.columns.intersection(corr_posit)]\n",
        "corr_positiva"
      ],
      "execution_count": null,
      "outputs": [
        {
          "output_type": "execute_result",
          "data": {
            "text/html": [
              "<div>\n",
              "<style scoped>\n",
              "    .dataframe tbody tr th:only-of-type {\n",
              "        vertical-align: middle;\n",
              "    }\n",
              "\n",
              "    .dataframe tbody tr th {\n",
              "        vertical-align: top;\n",
              "    }\n",
              "\n",
              "    .dataframe thead th {\n",
              "        text-align: right;\n",
              "    }\n",
              "</style>\n",
              "<table border=\"1\" class=\"dataframe\">\n",
              "  <thead>\n",
              "    <tr style=\"text-align: right;\">\n",
              "      <th></th>\n",
              "      <th>T_FBSUPER</th>\n",
              "      <th>T_FLSUPER</th>\n",
              "      <th>T_FREQSUPER1517</th>\n",
              "      <th>T_SUPER25M</th>\n",
              "      <th>EMP</th>\n",
              "      <th>T_ATIV</th>\n",
              "      <th>T_ATIV1517</th>\n",
              "      <th>T_ATIV18M</th>\n",
              "      <th>T_ATIV2529</th>\n",
              "      <th>IDHM_R</th>\n",
              "    </tr>\n",
              "  </thead>\n",
              "  <tbody>\n",
              "    <tr>\n",
              "      <th>11131</th>\n",
              "      <td>27.95</td>\n",
              "      <td>12.91</td>\n",
              "      <td>0.18</td>\n",
              "      <td>8.13</td>\n",
              "      <td>2.30</td>\n",
              "      <td>60.62</td>\n",
              "      <td>33.66</td>\n",
              "      <td>71.08</td>\n",
              "      <td>77.98</td>\n",
              "      <td>0.716</td>\n",
              "    </tr>\n",
              "    <tr>\n",
              "      <th>11141</th>\n",
              "      <td>27.38</td>\n",
              "      <td>12.65</td>\n",
              "      <td>1.22</td>\n",
              "      <td>8.73</td>\n",
              "      <td>2.38</td>\n",
              "      <td>61.83</td>\n",
              "      <td>34.33</td>\n",
              "      <td>71.41</td>\n",
              "      <td>81.51</td>\n",
              "      <td>0.728</td>\n",
              "    </tr>\n",
              "    <tr>\n",
              "      <th>11146</th>\n",
              "      <td>33.41</td>\n",
              "      <td>15.84</td>\n",
              "      <td>1.48</td>\n",
              "      <td>12.21</td>\n",
              "      <td>1.20</td>\n",
              "      <td>60.49</td>\n",
              "      <td>27.94</td>\n",
              "      <td>70.84</td>\n",
              "      <td>74.28</td>\n",
              "      <td>0.764</td>\n",
              "    </tr>\n",
              "    <tr>\n",
              "      <th>11196</th>\n",
              "      <td>36.59</td>\n",
              "      <td>15.18</td>\n",
              "      <td>1.70</td>\n",
              "      <td>12.93</td>\n",
              "      <td>1.33</td>\n",
              "      <td>56.60</td>\n",
              "      <td>21.44</td>\n",
              "      <td>68.26</td>\n",
              "      <td>73.92</td>\n",
              "      <td>0.729</td>\n",
              "    </tr>\n",
              "    <tr>\n",
              "      <th>11232</th>\n",
              "      <td>16.99</td>\n",
              "      <td>6.75</td>\n",
              "      <td>1.38</td>\n",
              "      <td>5.88</td>\n",
              "      <td>0.53</td>\n",
              "      <td>52.48</td>\n",
              "      <td>24.08</td>\n",
              "      <td>65.36</td>\n",
              "      <td>70.13</td>\n",
              "      <td>0.618</td>\n",
              "    </tr>\n",
              "    <tr>\n",
              "      <th>...</th>\n",
              "      <td>...</td>\n",
              "      <td>...</td>\n",
              "      <td>...</td>\n",
              "      <td>...</td>\n",
              "      <td>...</td>\n",
              "      <td>...</td>\n",
              "      <td>...</td>\n",
              "      <td>...</td>\n",
              "      <td>...</td>\n",
              "      <td>...</td>\n",
              "    </tr>\n",
              "    <tr>\n",
              "      <th>16645</th>\n",
              "      <td>29.60</td>\n",
              "      <td>15.35</td>\n",
              "      <td>2.33</td>\n",
              "      <td>10.84</td>\n",
              "      <td>2.76</td>\n",
              "      <td>64.94</td>\n",
              "      <td>41.93</td>\n",
              "      <td>72.74</td>\n",
              "      <td>81.11</td>\n",
              "      <td>0.765</td>\n",
              "    </tr>\n",
              "    <tr>\n",
              "      <th>16671</th>\n",
              "      <td>16.52</td>\n",
              "      <td>8.70</td>\n",
              "      <td>0.66</td>\n",
              "      <td>4.47</td>\n",
              "      <td>0.76</td>\n",
              "      <td>65.86</td>\n",
              "      <td>40.88</td>\n",
              "      <td>76.53</td>\n",
              "      <td>85.31</td>\n",
              "      <td>0.676</td>\n",
              "    </tr>\n",
              "    <tr>\n",
              "      <th>16680</th>\n",
              "      <td>23.21</td>\n",
              "      <td>11.26</td>\n",
              "      <td>1.20</td>\n",
              "      <td>5.00</td>\n",
              "      <td>0.94</td>\n",
              "      <td>60.75</td>\n",
              "      <td>37.69</td>\n",
              "      <td>69.69</td>\n",
              "      <td>80.23</td>\n",
              "      <td>0.682</td>\n",
              "    </tr>\n",
              "    <tr>\n",
              "      <th>16688</th>\n",
              "      <td>30.61</td>\n",
              "      <td>12.04</td>\n",
              "      <td>1.12</td>\n",
              "      <td>8.30</td>\n",
              "      <td>0.86</td>\n",
              "      <td>62.41</td>\n",
              "      <td>26.61</td>\n",
              "      <td>73.88</td>\n",
              "      <td>80.31</td>\n",
              "      <td>0.733</td>\n",
              "    </tr>\n",
              "    <tr>\n",
              "      <th>16694</th>\n",
              "      <td>56.88</td>\n",
              "      <td>24.55</td>\n",
              "      <td>1.83</td>\n",
              "      <td>23.95</td>\n",
              "      <td>1.88</td>\n",
              "      <td>64.58</td>\n",
              "      <td>28.01</td>\n",
              "      <td>74.34</td>\n",
              "      <td>84.14</td>\n",
              "      <td>0.863</td>\n",
              "    </tr>\n",
              "  </tbody>\n",
              "</table>\n",
              "<p>324 rows × 10 columns</p>\n",
              "</div>"
            ],
            "text/plain": [
              "       T_FBSUPER  T_FLSUPER  T_FREQSUPER1517  ...  T_ATIV18M  T_ATIV2529  IDHM_R\n",
              "11131      27.95      12.91             0.18  ...      71.08       77.98   0.716\n",
              "11141      27.38      12.65             1.22  ...      71.41       81.51   0.728\n",
              "11146      33.41      15.84             1.48  ...      70.84       74.28   0.764\n",
              "11196      36.59      15.18             1.70  ...      68.26       73.92   0.729\n",
              "11232      16.99       6.75             1.38  ...      65.36       70.13   0.618\n",
              "...          ...        ...              ...  ...        ...         ...     ...\n",
              "16645      29.60      15.35             2.33  ...      72.74       81.11   0.765\n",
              "16671      16.52       8.70             0.66  ...      76.53       85.31   0.676\n",
              "16680      23.21      11.26             1.20  ...      69.69       80.23   0.682\n",
              "16688      30.61      12.04             1.12  ...      73.88       80.31   0.733\n",
              "16694      56.88      24.55             1.83  ...      74.34       84.14   0.863\n",
              "\n",
              "[324 rows x 10 columns]"
            ]
          },
          "metadata": {
            "tags": []
          },
          "execution_count": 8
        }
      ]
    },
    {
      "cell_type": "code",
      "metadata": {
        "id": "DrnFP9glckym"
      },
      "source": [
        "incidencia = idhmcovid.last_available_confirmed_per_100k_inhabitants"
      ],
      "execution_count": null,
      "outputs": []
    },
    {
      "cell_type": "code",
      "metadata": {
        "id": "FDhISMhze-4a"
      },
      "source": [
        "xtrain_corr_positiva, xtest_corr_positiva, ytrain_corr_positiva, ytest_corr_positiva = train_test_split(corr_positiva, incidencia, test_size=0.4, random_state=42)"
      ],
      "execution_count": null,
      "outputs": []
    },
    {
      "cell_type": "code",
      "metadata": {
        "colab": {
          "base_uri": "https://localhost:8080/"
        },
        "id": "dllo3GO-fG_O",
        "outputId": "ff9fb173-cecd-48ac-949e-609d77e429c4"
      },
      "source": [
        "linreg_corr_positiva = LinearRegression()\n",
        "linreg_corr_positiva.fit(xtrain_corr_positiva, ytrain_corr_positiva)\n",
        "print('linear model coeff (w): {}'\n",
        ".format(linreg_corr_positiva.coef_))\n",
        "print('linear model intercept (b): {:.3f}'\n",
        ".format(linreg_corr_positiva.intercept_))\n",
        "print('R-squared score (training): {:.3f}'\n",
        ".format(linreg_corr_positiva.score(xtrain_corr_positiva, ytrain_corr_positiva)))\n",
        "print('R-squared score (test): {:.3f}'\n",
        ".format(linreg_corr_positiva.score(xtest_corr_positiva, ytest_corr_positiva)))"
      ],
      "execution_count": null,
      "outputs": [
        {
          "output_type": "stream",
          "text": [
            "linear model coeff (w): [   17.84631651   163.3730091    288.07369475  -120.84033806\n",
            "  1511.64993986 -1114.71201074   175.15248565  1037.16745506\n",
            "   -62.92686504  7922.43871988]\n",
            "linear model intercept (b): -7256.385\n",
            "R-squared score (training): 0.418\n",
            "R-squared score (test): 0.267\n"
          ],
          "name": "stdout"
        }
      ]
    },
    {
      "cell_type": "code",
      "metadata": {
        "colab": {
          "base_uri": "https://localhost:8080/"
        },
        "id": "HhtAiVABfMVi",
        "outputId": "943c86d1-0ef8-4249-b5dc-7fe60a3cccc5"
      },
      "source": [
        "ipred_corr_positiva = linreg_corr_positiva.predict(xtest_corr_positiva)\n",
        "print('Mean squared error: %.2f'\n",
        "      % mean_squared_error(ytest_corr_positiva, ipred_corr_positiva))\n",
        "print('Coefficient of determination: %.2f'\n",
        "      % r2_score(ytest_corr_positiva, ipred_corr_positiva))"
      ],
      "execution_count": null,
      "outputs": [
        {
          "output_type": "stream",
          "text": [
            "Mean squared error: 8404950.57\n",
            "Coefficient of determination: 0.27\n"
          ],
          "name": "stdout"
        }
      ]
    },
    {
      "cell_type": "code",
      "metadata": {
        "colab": {
          "base_uri": "https://localhost:8080/",
          "height": 542
        },
        "id": "TOdZiD81FoHm",
        "outputId": "44e25b4c-00b7-4b46-8460-7dcc25693988"
      },
      "source": [
        "fig = go.Figure(data=go.Scatter(x=ytest_corr_positiva, y=ipred_corr_positiva, mode='markers')) \n",
        "fig.update_layout(title=\"Valores reais e previstos de correlação positiva de  incidência de COVID-19\")\n",
        "fig.show()"
      ],
      "execution_count": null,
      "outputs": [
        {
          "output_type": "display_data",
          "data": {
            "text/html": [
              "<html>\n",
              "<head><meta charset=\"utf-8\" /></head>\n",
              "<body>\n",
              "    <div>\n",
              "            <script src=\"https://cdnjs.cloudflare.com/ajax/libs/mathjax/2.7.5/MathJax.js?config=TeX-AMS-MML_SVG\"></script><script type=\"text/javascript\">if (window.MathJax) {MathJax.Hub.Config({SVG: {font: \"STIX-Web\"}});}</script>\n",
              "                <script type=\"text/javascript\">window.PlotlyConfig = {MathJaxConfig: 'local'};</script>\n",
              "        <script src=\"https://cdn.plot.ly/plotly-latest.min.js\"></script>    \n",
              "            <div id=\"ff70432a-0fe4-4432-930f-1c5166bff844\" class=\"plotly-graph-div\" style=\"height:525px; width:100%;\"></div>\n",
              "            <script type=\"text/javascript\">\n",
              "                \n",
              "                    window.PLOTLYENV=window.PLOTLYENV || {};\n",
              "                    \n",
              "                if (document.getElementById(\"ff70432a-0fe4-4432-930f-1c5166bff844\")) {\n",
              "                    Plotly.newPlot(\n",
              "                        'ff70432a-0fe4-4432-930f-1c5166bff844',\n",
              "                        [{\"mode\": \"markers\", \"type\": \"scatter\", \"x\": [8667.69198, 6311.13826, 4135.7330600000005, 11171.08883, 12023.76225, 14587.637369999999, 5395.90533, 4952.37726, 14367.1352, 4108.96212, 7098.6627, 13155.66652, 8646.53532, 8630.18111, 3198.51013, 14839.796890000001, 9179.62857, 4846.87919, 5237.7892, 7970.69716, 7106.82061, 15673.849919999999, 9258.89729, 14617.77851, 12233.396990000001, 3615.15842, 5645.64388, 7345.9918099999995, 4301.65788, 10001.739, 5938.15131, 9592.77173, 9040.94223, 10411.34502, 11972.2942, 9515.78081, 10913.85926, 2235.2903, 5765.19916, 10966.53868, 9000.017590000001, 11425.90825, 14307.808790000001, 10070.4102, 7510.399190000001, 13372.70139, 10383.20321, 8782.51801, 5828.9467, 3857.2996, 7940.811540000001, 8661.45731, 19165.64201, 8931.860040000001, 10692.78548, 6859.17777, 10086.1018, 5010.11611, 8948.57021, 8214.27833, 11225.3164, 9870.521190000001, 7975.843059999999, 11095.894240000001, 7573.7408, 17197.567180000002, 6898.1083, 10206.61768, 4959.2085799999995, 6465.31792, 11106.449920000001, 13227.22349, 5129.6104, 7140.186790000001, 7550.931009999999, 6639.03931, 6185.3286, 6996.17715, 9672.0562, 6852.80625, 4578.681170000001, 12365.56235, 5264.5885100000005, 9499.657959999999, 6006.00842, 13320.52894, 3913.9145399999998, 3988.06789, 9840.78773, 8552.13543, 4157.10426, 4450.98611, 5843.44819, 15319.611640000001, 5906.74868, 10840.91245, 7909.742009999999, 8416.80461, 13103.97377, 12477.25468, 9455.03076, 9740.5559, 8610.96477, 14141.296530000001, 9134.973329999999, 7411.554440000001, 9306.898459999999, 8993.34503, 7385.75908, 8418.07155, 5883.78441, 12151.48426, 3415.8335, 2063.8067100000003, 8593.194459999999, 9012.4528, 9117.451659999999, 10835.91575, 2115.14122, 7364.73044, 8624.488609999999, 5975.718260000001, 4033.35861, 4233.61535, 4717.5168, 3431.8323299999997, 6295.64013, 4241.43556, 6850.960440000001, 3068.76145], \"y\": [9108.681943952197, 9034.92709063124, 6470.600637572852, 9358.14488715783, 7495.2359899131025, 8825.668122044151, 6172.033071017931, 7305.29999981615, 14585.120485951638, 5068.670668278084, 8555.486734223849, 8301.037699348364, 7511.610630864812, 9455.48168610332, 7144.268068533127, 12696.79909539941, 9750.828559382238, 6241.390975087204, 8570.646332749626, 9034.877315264703, 9471.076824152848, 13934.194324318561, 9339.269899654, 7632.263327614974, 10017.021350086741, 4196.458483757935, 9633.019446249846, 6180.951727744696, 5477.995222841075, 10668.071876510445, 5750.00658366165, 9185.641688357837, 11703.034797332328, 10173.68584751116, 12020.13480446704, 9133.384640437094, 8235.968690860786, 5704.790137005306, 9195.186723542296, 7250.179583122517, 8028.254951193299, 7289.645875220262, 10852.121100139599, 12152.877037901335, 6027.516761966463, 9120.319759242182, 8955.478266832155, 10439.777463874847, 3350.569885593961, 7042.8208028938425, 4583.500033025717, 10133.766988697424, 11531.685682417514, 6981.3229599663755, 9894.92269718781, 8562.175295027178, 10595.880538496227, 6863.076593576838, 9397.891974856708, 8877.895778392563, 8933.452374951916, 13009.03433107291, 7904.459750469739, 7580.991339666281, 10593.72602038149, 9820.459538777943, 6368.283897503321, 9510.667911404484, 5986.8463060831255, 6293.8776690941795, 9641.063307841332, 11796.277505008818, 9322.349269942302, 7266.06240151909, 9085.716417668375, 7677.268990833092, 8546.2182343491, 7837.634966967664, 9339.316674910684, 7770.250901875244, 6176.382811229667, 8668.842238451796, 6792.721498683331, 10623.555200326306, 6278.757670309149, 13640.61160997324, 4243.4952303071295, 4251.639010075596, 13560.915887940502, 10589.311081580612, 7562.894164881642, 8959.708858053178, 8738.585861863137, 10136.122983623145, 12998.839369920317, 8216.240709581369, 9970.71888065056, 7672.696470936613, 9173.986759124246, 6775.726764624658, 6131.149871083051, 7443.604588699933, 9372.784762086905, 17004.913196417, 4937.790367279569, 9199.164770196212, 11497.511638162761, 7917.19315334609, 9413.325101246426, 16062.729407540088, 8723.256582902122, 9958.782472605699, 5773.659941512333, 4714.807346481843, 9343.550412517545, 8533.103160843542, 9865.463161722093, 9765.78011997889, 5344.9915027673105, 8517.559113961932, 8979.669333189004, 5590.334183840148, 12769.531752910154, 6682.3696152259745, 10954.848043270356, 2898.073920705845, 8429.53428008812, 6411.721174713135, 11067.85253225763, 7127.174647082618]}],\n",
              "                        {\"template\": {\"data\": {\"bar\": [{\"error_x\": {\"color\": \"#2a3f5f\"}, \"error_y\": {\"color\": \"#2a3f5f\"}, \"marker\": {\"line\": {\"color\": \"#E5ECF6\", \"width\": 0.5}}, \"type\": \"bar\"}], \"barpolar\": [{\"marker\": {\"line\": {\"color\": \"#E5ECF6\", \"width\": 0.5}}, \"type\": \"barpolar\"}], \"carpet\": [{\"aaxis\": {\"endlinecolor\": \"#2a3f5f\", \"gridcolor\": \"white\", \"linecolor\": \"white\", \"minorgridcolor\": \"white\", \"startlinecolor\": \"#2a3f5f\"}, \"baxis\": {\"endlinecolor\": \"#2a3f5f\", \"gridcolor\": \"white\", \"linecolor\": \"white\", \"minorgridcolor\": \"white\", \"startlinecolor\": \"#2a3f5f\"}, \"type\": \"carpet\"}], \"choropleth\": [{\"colorbar\": {\"outlinewidth\": 0, \"ticks\": \"\"}, \"type\": \"choropleth\"}], \"contour\": [{\"colorbar\": {\"outlinewidth\": 0, \"ticks\": \"\"}, \"colorscale\": [[0.0, \"#0d0887\"], [0.1111111111111111, \"#46039f\"], [0.2222222222222222, \"#7201a8\"], [0.3333333333333333, \"#9c179e\"], [0.4444444444444444, \"#bd3786\"], [0.5555555555555556, \"#d8576b\"], [0.6666666666666666, \"#ed7953\"], [0.7777777777777778, \"#fb9f3a\"], [0.8888888888888888, \"#fdca26\"], [1.0, \"#f0f921\"]], \"type\": \"contour\"}], \"contourcarpet\": [{\"colorbar\": {\"outlinewidth\": 0, \"ticks\": \"\"}, \"type\": \"contourcarpet\"}], \"heatmap\": [{\"colorbar\": {\"outlinewidth\": 0, \"ticks\": \"\"}, \"colorscale\": [[0.0, \"#0d0887\"], [0.1111111111111111, \"#46039f\"], [0.2222222222222222, \"#7201a8\"], [0.3333333333333333, \"#9c179e\"], [0.4444444444444444, \"#bd3786\"], [0.5555555555555556, \"#d8576b\"], [0.6666666666666666, \"#ed7953\"], [0.7777777777777778, \"#fb9f3a\"], [0.8888888888888888, \"#fdca26\"], [1.0, \"#f0f921\"]], \"type\": \"heatmap\"}], \"heatmapgl\": [{\"colorbar\": {\"outlinewidth\": 0, \"ticks\": \"\"}, \"colorscale\": [[0.0, \"#0d0887\"], [0.1111111111111111, \"#46039f\"], [0.2222222222222222, \"#7201a8\"], [0.3333333333333333, \"#9c179e\"], [0.4444444444444444, \"#bd3786\"], [0.5555555555555556, \"#d8576b\"], [0.6666666666666666, \"#ed7953\"], [0.7777777777777778, \"#fb9f3a\"], [0.8888888888888888, \"#fdca26\"], [1.0, \"#f0f921\"]], \"type\": \"heatmapgl\"}], \"histogram\": [{\"marker\": {\"colorbar\": {\"outlinewidth\": 0, \"ticks\": \"\"}}, \"type\": \"histogram\"}], \"histogram2d\": [{\"colorbar\": {\"outlinewidth\": 0, \"ticks\": \"\"}, \"colorscale\": [[0.0, \"#0d0887\"], [0.1111111111111111, \"#46039f\"], [0.2222222222222222, \"#7201a8\"], [0.3333333333333333, \"#9c179e\"], [0.4444444444444444, \"#bd3786\"], [0.5555555555555556, \"#d8576b\"], [0.6666666666666666, \"#ed7953\"], [0.7777777777777778, \"#fb9f3a\"], [0.8888888888888888, \"#fdca26\"], [1.0, \"#f0f921\"]], \"type\": \"histogram2d\"}], \"histogram2dcontour\": [{\"colorbar\": {\"outlinewidth\": 0, \"ticks\": \"\"}, \"colorscale\": [[0.0, \"#0d0887\"], [0.1111111111111111, \"#46039f\"], [0.2222222222222222, \"#7201a8\"], [0.3333333333333333, \"#9c179e\"], [0.4444444444444444, \"#bd3786\"], [0.5555555555555556, \"#d8576b\"], [0.6666666666666666, \"#ed7953\"], [0.7777777777777778, \"#fb9f3a\"], [0.8888888888888888, \"#fdca26\"], [1.0, \"#f0f921\"]], \"type\": \"histogram2dcontour\"}], \"mesh3d\": [{\"colorbar\": {\"outlinewidth\": 0, \"ticks\": \"\"}, \"type\": \"mesh3d\"}], \"parcoords\": [{\"line\": {\"colorbar\": {\"outlinewidth\": 0, \"ticks\": \"\"}}, \"type\": \"parcoords\"}], \"pie\": [{\"automargin\": true, \"type\": \"pie\"}], \"scatter\": [{\"marker\": {\"colorbar\": {\"outlinewidth\": 0, \"ticks\": \"\"}}, \"type\": \"scatter\"}], \"scatter3d\": [{\"line\": {\"colorbar\": {\"outlinewidth\": 0, \"ticks\": \"\"}}, \"marker\": {\"colorbar\": {\"outlinewidth\": 0, \"ticks\": \"\"}}, \"type\": \"scatter3d\"}], \"scattercarpet\": [{\"marker\": {\"colorbar\": {\"outlinewidth\": 0, \"ticks\": \"\"}}, \"type\": \"scattercarpet\"}], \"scattergeo\": [{\"marker\": {\"colorbar\": {\"outlinewidth\": 0, \"ticks\": \"\"}}, \"type\": \"scattergeo\"}], \"scattergl\": [{\"marker\": {\"colorbar\": {\"outlinewidth\": 0, \"ticks\": \"\"}}, \"type\": \"scattergl\"}], \"scattermapbox\": [{\"marker\": {\"colorbar\": {\"outlinewidth\": 0, \"ticks\": \"\"}}, \"type\": \"scattermapbox\"}], \"scatterpolar\": [{\"marker\": {\"colorbar\": {\"outlinewidth\": 0, \"ticks\": \"\"}}, \"type\": \"scatterpolar\"}], \"scatterpolargl\": [{\"marker\": {\"colorbar\": {\"outlinewidth\": 0, \"ticks\": \"\"}}, \"type\": \"scatterpolargl\"}], \"scatterternary\": [{\"marker\": {\"colorbar\": {\"outlinewidth\": 0, \"ticks\": \"\"}}, \"type\": \"scatterternary\"}], \"surface\": [{\"colorbar\": {\"outlinewidth\": 0, \"ticks\": \"\"}, \"colorscale\": [[0.0, \"#0d0887\"], [0.1111111111111111, \"#46039f\"], [0.2222222222222222, \"#7201a8\"], [0.3333333333333333, \"#9c179e\"], [0.4444444444444444, \"#bd3786\"], [0.5555555555555556, \"#d8576b\"], [0.6666666666666666, \"#ed7953\"], [0.7777777777777778, \"#fb9f3a\"], [0.8888888888888888, \"#fdca26\"], [1.0, \"#f0f921\"]], \"type\": \"surface\"}], \"table\": [{\"cells\": {\"fill\": {\"color\": \"#EBF0F8\"}, \"line\": {\"color\": \"white\"}}, \"header\": {\"fill\": {\"color\": \"#C8D4E3\"}, \"line\": {\"color\": \"white\"}}, \"type\": \"table\"}]}, \"layout\": {\"annotationdefaults\": {\"arrowcolor\": \"#2a3f5f\", \"arrowhead\": 0, \"arrowwidth\": 1}, \"coloraxis\": {\"colorbar\": {\"outlinewidth\": 0, \"ticks\": \"\"}}, \"colorscale\": {\"diverging\": [[0, \"#8e0152\"], [0.1, \"#c51b7d\"], [0.2, \"#de77ae\"], [0.3, \"#f1b6da\"], [0.4, \"#fde0ef\"], [0.5, \"#f7f7f7\"], [0.6, \"#e6f5d0\"], [0.7, \"#b8e186\"], [0.8, \"#7fbc41\"], [0.9, \"#4d9221\"], [1, \"#276419\"]], \"sequential\": [[0.0, \"#0d0887\"], [0.1111111111111111, \"#46039f\"], [0.2222222222222222, \"#7201a8\"], [0.3333333333333333, \"#9c179e\"], [0.4444444444444444, \"#bd3786\"], [0.5555555555555556, \"#d8576b\"], [0.6666666666666666, \"#ed7953\"], [0.7777777777777778, \"#fb9f3a\"], [0.8888888888888888, \"#fdca26\"], [1.0, \"#f0f921\"]], \"sequentialminus\": [[0.0, \"#0d0887\"], [0.1111111111111111, \"#46039f\"], [0.2222222222222222, \"#7201a8\"], [0.3333333333333333, \"#9c179e\"], [0.4444444444444444, \"#bd3786\"], [0.5555555555555556, \"#d8576b\"], [0.6666666666666666, \"#ed7953\"], [0.7777777777777778, \"#fb9f3a\"], [0.8888888888888888, \"#fdca26\"], [1.0, \"#f0f921\"]]}, \"colorway\": [\"#636efa\", \"#EF553B\", \"#00cc96\", \"#ab63fa\", \"#FFA15A\", \"#19d3f3\", \"#FF6692\", \"#B6E880\", \"#FF97FF\", \"#FECB52\"], \"font\": {\"color\": \"#2a3f5f\"}, \"geo\": {\"bgcolor\": \"white\", \"lakecolor\": \"white\", \"landcolor\": \"#E5ECF6\", \"showlakes\": true, \"showland\": true, \"subunitcolor\": \"white\"}, \"hoverlabel\": {\"align\": \"left\"}, \"hovermode\": \"closest\", \"mapbox\": {\"style\": \"light\"}, \"paper_bgcolor\": \"white\", \"plot_bgcolor\": \"#E5ECF6\", \"polar\": {\"angularaxis\": {\"gridcolor\": \"white\", \"linecolor\": \"white\", \"ticks\": \"\"}, \"bgcolor\": \"#E5ECF6\", \"radialaxis\": {\"gridcolor\": \"white\", \"linecolor\": \"white\", \"ticks\": \"\"}}, \"scene\": {\"xaxis\": {\"backgroundcolor\": \"#E5ECF6\", \"gridcolor\": \"white\", \"gridwidth\": 2, \"linecolor\": \"white\", \"showbackground\": true, \"ticks\": \"\", \"zerolinecolor\": \"white\"}, \"yaxis\": {\"backgroundcolor\": \"#E5ECF6\", \"gridcolor\": \"white\", \"gridwidth\": 2, \"linecolor\": \"white\", \"showbackground\": true, \"ticks\": \"\", \"zerolinecolor\": \"white\"}, \"zaxis\": {\"backgroundcolor\": \"#E5ECF6\", \"gridcolor\": \"white\", \"gridwidth\": 2, \"linecolor\": \"white\", \"showbackground\": true, \"ticks\": \"\", \"zerolinecolor\": \"white\"}}, \"shapedefaults\": {\"line\": {\"color\": \"#2a3f5f\"}}, \"ternary\": {\"aaxis\": {\"gridcolor\": \"white\", \"linecolor\": \"white\", \"ticks\": \"\"}, \"baxis\": {\"gridcolor\": \"white\", \"linecolor\": \"white\", \"ticks\": \"\"}, \"bgcolor\": \"#E5ECF6\", \"caxis\": {\"gridcolor\": \"white\", \"linecolor\": \"white\", \"ticks\": \"\"}}, \"title\": {\"x\": 0.05}, \"xaxis\": {\"automargin\": true, \"gridcolor\": \"white\", \"linecolor\": \"white\", \"ticks\": \"\", \"title\": {\"standoff\": 15}, \"zerolinecolor\": \"white\", \"zerolinewidth\": 2}, \"yaxis\": {\"automargin\": true, \"gridcolor\": \"white\", \"linecolor\": \"white\", \"ticks\": \"\", \"title\": {\"standoff\": 15}, \"zerolinecolor\": \"white\", \"zerolinewidth\": 2}}}, \"title\": {\"text\": \"Valores reais e previstos de correla\\u00e7\\u00e3o positiva de  incid\\u00eancia de COVID-19\"}},\n",
              "                        {\"responsive\": true}\n",
              "                    ).then(function(){\n",
              "                            \n",
              "var gd = document.getElementById('ff70432a-0fe4-4432-930f-1c5166bff844');\n",
              "var x = new MutationObserver(function (mutations, observer) {{\n",
              "        var display = window.getComputedStyle(gd).display;\n",
              "        if (!display || display === 'none') {{\n",
              "            console.log([gd, 'removed!']);\n",
              "            Plotly.purge(gd);\n",
              "            observer.disconnect();\n",
              "        }}\n",
              "}});\n",
              "\n",
              "// Listen for the removal of the full notebook cells\n",
              "var notebookContainer = gd.closest('#notebook-container');\n",
              "if (notebookContainer) {{\n",
              "    x.observe(notebookContainer, {childList: true});\n",
              "}}\n",
              "\n",
              "// Listen for the clearing of the current output cell\n",
              "var outputEl = gd.closest('.output');\n",
              "if (outputEl) {{\n",
              "    x.observe(outputEl, {childList: true});\n",
              "}}\n",
              "\n",
              "                        })\n",
              "                };\n",
              "                \n",
              "            </script>\n",
              "        </div>\n",
              "</body>\n",
              "</html>"
            ]
          },
          "metadata": {
            "tags": []
          }
        }
      ]
    },
    {
      "cell_type": "code",
      "metadata": {
        "colab": {
          "base_uri": "https://localhost:8080/",
          "height": 401
        },
        "id": "LFAMT58BqLD4",
        "outputId": "e2025c3e-2527-42e0-bb7d-ff0b1d1a79e5"
      },
      "source": [
        "df_corr_positiva = pd.DataFrame ({'Real': ytest_corr_positiva, 'Previsto': ipred_corr_positiva}) \n",
        "sns.lmplot(x=\"Real\", y=\"Previsto\", data=df_corr_positiva)"
      ],
      "execution_count": null,
      "outputs": [
        {
          "output_type": "execute_result",
          "data": {
            "text/plain": [
              "<seaborn.axisgrid.FacetGrid at 0x7f75cf2a3b50>"
            ]
          },
          "metadata": {
            "tags": []
          },
          "execution_count": 14
        },
        {
          "output_type": "display_data",
          "data": {
            "image/png": "[encoded data removed]",
            "text/plain": [
              "<Figure size 360x360 with 1 Axes>"
            ]
          },
          "metadata": {
            "tags": [],
            "needs_background": "light"
          }
        }
      ]
    },
    {
      "cell_type": "code",
      "metadata": {
        "id": "wk5DIsBg9H66"
      },
      "source": [
        "correlacao_negativa = idhmcovid.corr().loc['last_available_confirmed_per_100k_inhabitants'].sort_values().to_frame().reset_index().rename(columns = {'index': 'indicador'})[:10]\n",
        "corr_negat = correlacao_negativa.indicador.to_list()\n",
        "corr_negativa = idhmcovid[idhmcovid.columns.intersection(corr_negat)]"
      ],
      "execution_count": null,
      "outputs": []
    },
    {
      "cell_type": "code",
      "metadata": {
        "colab": {
          "base_uri": "https://localhost:8080/"
        },
        "id": "oI93dLo4mu9d",
        "outputId": "71a3e0b5-584d-4a4d-c6cd-3d004c360698"
      },
      "source": [
        "corr_posit"
      ],
      "execution_count": null,
      "outputs": [
        {
          "output_type": "execute_result",
          "data": {
            "text/plain": [
              "['T_FREQSUPER1517',\n",
              " 'EMP',\n",
              " 'T_FLSUPER',\n",
              " 'T_FBSUPER',\n",
              " 'T_ATIV',\n",
              " 'T_ATIV18M',\n",
              " 'T_ATIV2529',\n",
              " 'IDHM_R',\n",
              " 'T_SUPER25M',\n",
              " 'T_ATIV1517']"
            ]
          },
          "metadata": {
            "tags": []
          },
          "execution_count": 16
        }
      ]
    },
    {
      "cell_type": "code",
      "metadata": {
        "colab": {
          "base_uri": "https://localhost:8080/"
        },
        "id": "NWk8Lqx0mZWR",
        "outputId": "fbde6f49-ead0-4204-e435-eeff1ec37217"
      },
      "source": [
        "corr_negat"
      ],
      "execution_count": null,
      "outputs": [
        {
          "output_type": "execute_result",
          "data": {
            "text/plain": [
              "['last_available_death_rate',\n",
              " 'T_OCUPDESLOC_1',\n",
              " 'T_DES2529',\n",
              " 'T_DENS',\n",
              " 'T_DES18M',\n",
              " 'T_DES',\n",
              " 'T_DES1824',\n",
              " 'REN3',\n",
              " 'REN2',\n",
              " 'REN5']"
            ]
          },
          "metadata": {
            "tags": []
          },
          "execution_count": 17
        }
      ]
    },
    {
      "cell_type": "code",
      "metadata": {
        "id": "VrL33Iyi-wwB"
      },
      "source": [
        "xtrain_corr_negativa, xtest_corr_negativa, ytrain_corr_negativa, ytest_corr_negativa = train_test_split(corr_negativa, incidencia, test_size=0.4, random_state=42)"
      ],
      "execution_count": null,
      "outputs": []
    },
    {
      "cell_type": "code",
      "metadata": {
        "colab": {
          "base_uri": "https://localhost:8080/"
        },
        "id": "LzDw1xgi-3et",
        "outputId": "e240d7e3-ab50-44f3-f2ce-f4001d70d7c4"
      },
      "source": [
        "linreg_corr_negativa = LinearRegression()\n",
        "linreg_corr_negativa.fit(xtrain_corr_negativa, ytrain_corr_negativa)\n",
        "print('linear model coeff (w): {}'\n",
        ".format(linreg_corr_negativa.coef_))\n",
        "print('linear model intercept (b): {:.3f}'\n",
        ".format(linreg_corr_negativa.intercept_))\n",
        "print('R-squared score (training): {:.3f}'\n",
        ".format(linreg_corr_negativa.score(xtrain_corr_negativa, ytrain_corr_negativa)))\n",
        "print('R-squared score (test): {:.3f}'\n",
        ".format(linreg_corr_negativa.score(xtest_corr_negativa, ytest_corr_negativa)))"
      ],
      "execution_count": null,
      "outputs": [
        {
          "output_type": "stream",
          "text": [
            "linear model coeff (w): [ 7.23269751e+01 -2.34351655e+02  9.76947884e+01 -1.66812937e+02\n",
            " -2.10806666e+02  7.82081018e+02 -3.52914234e+02 -3.52269769e+01\n",
            " -3.01185039e+02 -8.01570533e+04]\n",
            "linear model intercept (b): 19987.139\n",
            "R-squared score (training): 0.548\n",
            "R-squared score (test): 0.402\n"
          ],
          "name": "stdout"
        }
      ]
    },
    {
      "cell_type": "code",
      "metadata": {
        "id": "wFE8Fw83-8NX",
        "colab": {
          "base_uri": "https://localhost:8080/"
        },
        "outputId": "dea1a0ee-9cfe-405f-ead7-54a61ea6e668"
      },
      "source": [
        "ipred_corr_negativa = linreg_corr_negativa.predict(xtest_corr_negativa)\n",
        "print('Mean squared error: %.2f'\n",
        "      % mean_squared_error(ytest_corr_negativa, ipred_corr_negativa))\n",
        "print('Coefficient of determination: %.2f'\n",
        "      % r2_score(ytest_corr_negativa, ipred_corr_negativa))"
      ],
      "execution_count": null,
      "outputs": [
        {
          "output_type": "stream",
          "text": [
            "Mean squared error: 6859803.14\n",
            "Coefficient of determination: 0.40\n"
          ],
          "name": "stdout"
        }
      ]
    },
    {
      "cell_type": "code",
      "metadata": {
        "id": "zTIPReJM_AeV",
        "colab": {
          "base_uri": "https://localhost:8080/",
          "height": 542
        },
        "outputId": "e6bae9af-c981-40b6-b898-04d9b1eb58c4"
      },
      "source": [
        "fig = go.Figure(data=go.Scatter(x=ytest_corr_negativa, y=ipred_corr_negativa, mode='markers')) \n",
        "fig.update_layout(title=\"Valores reais e previstos de correlação negativa de incidência de COVID-19\")\n",
        "fig.show()"
      ],
      "execution_count": null,
      "outputs": [
        {
          "output_type": "display_data",
          "data": {
            "text/html": [
              "<html>\n",
              "<head><meta charset=\"utf-8\" /></head>\n",
              "<body>\n",
              "    <div>\n",
              "            <script src=\"https://cdnjs.cloudflare.com/ajax/libs/mathjax/2.7.5/MathJax.js?config=TeX-AMS-MML_SVG\"></script><script type=\"text/javascript\">if (window.MathJax) {MathJax.Hub.Config({SVG: {font: \"STIX-Web\"}});}</script>\n",
              "                <script type=\"text/javascript\">window.PlotlyConfig = {MathJaxConfig: 'local'};</script>\n",
              "        <script src=\"https://cdn.plot.ly/plotly-latest.min.js\"></script>    \n",
              "            <div id=\"a703364b-3cab-4613-887b-86afcf04b804\" class=\"plotly-graph-div\" style=\"height:525px; width:100%;\"></div>\n",
              "            <script type=\"text/javascript\">\n",
              "                \n",
              "                    window.PLOTLYENV=window.PLOTLYENV || {};\n",
              "                    \n",
              "                if (document.getElementById(\"a703364b-3cab-4613-887b-86afcf04b804\")) {\n",
              "                    Plotly.newPlot(\n",
              "                        'a703364b-3cab-4613-887b-86afcf04b804',\n",
              "                        [{\"mode\": \"markers\", \"type\": \"scatter\", \"x\": [8667.69198, 6311.13826, 4135.7330600000005, 11171.08883, 12023.76225, 14587.637369999999, 5395.90533, 4952.37726, 14367.1352, 4108.96212, 7098.6627, 13155.66652, 8646.53532, 8630.18111, 3198.51013, 14839.796890000001, 9179.62857, 4846.87919, 5237.7892, 7970.69716, 7106.82061, 15673.849919999999, 9258.89729, 14617.77851, 12233.396990000001, 3615.15842, 5645.64388, 7345.9918099999995, 4301.65788, 10001.739, 5938.15131, 9592.77173, 9040.94223, 10411.34502, 11972.2942, 9515.78081, 10913.85926, 2235.2903, 5765.19916, 10966.53868, 9000.017590000001, 11425.90825, 14307.808790000001, 10070.4102, 7510.399190000001, 13372.70139, 10383.20321, 8782.51801, 5828.9467, 3857.2996, 7940.811540000001, 8661.45731, 19165.64201, 8931.860040000001, 10692.78548, 6859.17777, 10086.1018, 5010.11611, 8948.57021, 8214.27833, 11225.3164, 9870.521190000001, 7975.843059999999, 11095.894240000001, 7573.7408, 17197.567180000002, 6898.1083, 10206.61768, 4959.2085799999995, 6465.31792, 11106.449920000001, 13227.22349, 5129.6104, 7140.186790000001, 7550.931009999999, 6639.03931, 6185.3286, 6996.17715, 9672.0562, 6852.80625, 4578.681170000001, 12365.56235, 5264.5885100000005, 9499.657959999999, 6006.00842, 13320.52894, 3913.9145399999998, 3988.06789, 9840.78773, 8552.13543, 4157.10426, 4450.98611, 5843.44819, 15319.611640000001, 5906.74868, 10840.91245, 7909.742009999999, 8416.80461, 13103.97377, 12477.25468, 9455.03076, 9740.5559, 8610.96477, 14141.296530000001, 9134.973329999999, 7411.554440000001, 9306.898459999999, 8993.34503, 7385.75908, 8418.07155, 5883.78441, 12151.48426, 3415.8335, 2063.8067100000003, 8593.194459999999, 9012.4528, 9117.451659999999, 10835.91575, 2115.14122, 7364.73044, 8624.488609999999, 5975.718260000001, 4033.35861, 4233.61535, 4717.5168, 3431.8323299999997, 6295.64013, 4241.43556, 6850.960440000001, 3068.76145], \"y\": [10186.433718335284, 10472.97118116071, 6296.836107545048, 10207.01815563165, 10481.413762383636, 10601.416558647095, 6829.210392973258, 6978.437987624931, 11962.166416627068, 3270.4358459940413, 10189.561653125735, 8648.066895264845, 9742.680311466092, 10818.375812457578, 5978.6183414617735, 11629.392331252458, 10512.150764323516, 6619.686404721568, 7326.673828006909, 5620.049615926935, 10418.648827280727, 12714.986863683356, 9210.008965584639, 8534.903375138483, 9601.78505923532, 5189.431119599583, 9712.688230813848, 8577.68600775647, 5339.818121898117, 10654.634247216902, 6348.748028533802, 11728.849402853828, 9945.688973172184, 10661.324440706952, 10217.36744919419, 8290.907231316116, 8218.5023834657, 4269.983830676225, 10798.895182860955, 9398.292573126062, 10371.2874454166, 9709.389619145166, 9432.002501546263, 10319.291276478343, 7776.812469614142, 10967.899940157586, 9674.437249176777, 10548.52347565299, 5147.2111581030695, 6063.47299805482, 8887.18033296106, 9134.440879469828, 10560.229257309358, 4483.71348508797, 9910.336391136047, 8749.809618609466, 10541.760857647021, 9226.524419358559, 8643.827503052118, 9342.48497842373, 10577.50155338561, 11152.19312264572, 10149.671647286688, 11061.292750532482, 10481.209159581773, 9858.116199146716, 8167.075580103301, 8135.062876047901, 7774.95787112851, 9610.088471964522, 10434.45385652639, 12620.307310495176, 8949.513015819057, 9766.194510503537, 9606.733323823924, 8261.28508046392, 9911.955034529, 8790.355746082823, 9325.087911764384, 7853.732525470576, 6653.976538095985, 11337.804465402274, 7654.758115170303, 9532.052763989066, 9264.01467388832, 13392.537259280518, 4930.263183866016, 3161.159001620028, 10387.175884109614, 6113.166667366226, 4533.905401269709, 7864.1432487239745, 5569.251792462708, 12772.236957829045, 9904.796044571824, 9493.427638951194, 11093.339963203318, 10444.82005860681, 9371.901855125301, 7395.862515973009, 10380.729653040766, 6934.190665778826, 10253.4529071637, 12051.725900284506, 8351.230100352866, 9659.42138433642, 9840.373533398346, 10910.473136341017, 9615.69766640784, 10200.32490432372, 8868.609791525047, 9833.265872497777, 6019.6106330525745, 3475.607769333532, 8961.495857105863, 9758.612233937709, 8677.799154961394, 10952.750911362651, 1489.1552065633587, 7264.043801376161, 11325.805611525393, 7033.045396850637, 10573.024502412463, 5928.179243514645, 9032.707922853348, 2114.2008357829436, 8037.681923879471, 7022.392853959005, 11121.173105304691, 10032.326688618932]}],\n",
              "                        {\"template\": {\"data\": {\"bar\": [{\"error_x\": {\"color\": \"#2a3f5f\"}, \"error_y\": {\"color\": \"#2a3f5f\"}, \"marker\": {\"line\": {\"color\": \"#E5ECF6\", \"width\": 0.5}}, \"type\": \"bar\"}], \"barpolar\": [{\"marker\": {\"line\": {\"color\": \"#E5ECF6\", \"width\": 0.5}}, \"type\": \"barpolar\"}], \"carpet\": [{\"aaxis\": {\"endlinecolor\": \"#2a3f5f\", \"gridcolor\": \"white\", \"linecolor\": \"white\", \"minorgridcolor\": \"white\", \"startlinecolor\": \"#2a3f5f\"}, \"baxis\": {\"endlinecolor\": \"#2a3f5f\", \"gridcolor\": \"white\", \"linecolor\": \"white\", \"minorgridcolor\": \"white\", \"startlinecolor\": \"#2a3f5f\"}, \"type\": \"carpet\"}], \"choropleth\": [{\"colorbar\": {\"outlinewidth\": 0, \"ticks\": \"\"}, \"type\": \"choropleth\"}], \"contour\": [{\"colorbar\": {\"outlinewidth\": 0, \"ticks\": \"\"}, \"colorscale\": [[0.0, \"#0d0887\"], [0.1111111111111111, \"#46039f\"], [0.2222222222222222, \"#7201a8\"], [0.3333333333333333, \"#9c179e\"], [0.4444444444444444, \"#bd3786\"], [0.5555555555555556, \"#d8576b\"], [0.6666666666666666, \"#ed7953\"], [0.7777777777777778, \"#fb9f3a\"], [0.8888888888888888, \"#fdca26\"], [1.0, \"#f0f921\"]], \"type\": \"contour\"}], \"contourcarpet\": [{\"colorbar\": {\"outlinewidth\": 0, \"ticks\": \"\"}, \"type\": \"contourcarpet\"}], \"heatmap\": [{\"colorbar\": {\"outlinewidth\": 0, \"ticks\": \"\"}, \"colorscale\": [[0.0, \"#0d0887\"], [0.1111111111111111, \"#46039f\"], [0.2222222222222222, \"#7201a8\"], [0.3333333333333333, \"#9c179e\"], [0.4444444444444444, \"#bd3786\"], [0.5555555555555556, \"#d8576b\"], [0.6666666666666666, \"#ed7953\"], [0.7777777777777778, \"#fb9f3a\"], [0.8888888888888888, \"#fdca26\"], [1.0, \"#f0f921\"]], \"type\": \"heatmap\"}], \"heatmapgl\": [{\"colorbar\": {\"outlinewidth\": 0, \"ticks\": \"\"}, \"colorscale\": [[0.0, \"#0d0887\"], [0.1111111111111111, \"#46039f\"], [0.2222222222222222, \"#7201a8\"], [0.3333333333333333, \"#9c179e\"], [0.4444444444444444, \"#bd3786\"], [0.5555555555555556, \"#d8576b\"], [0.6666666666666666, \"#ed7953\"], [0.7777777777777778, \"#fb9f3a\"], [0.8888888888888888, \"#fdca26\"], [1.0, \"#f0f921\"]], \"type\": \"heatmapgl\"}], \"histogram\": [{\"marker\": {\"colorbar\": {\"outlinewidth\": 0, \"ticks\": \"\"}}, \"type\": \"histogram\"}], \"histogram2d\": [{\"colorbar\": {\"outlinewidth\": 0, \"ticks\": \"\"}, \"colorscale\": [[0.0, \"#0d0887\"], [0.1111111111111111, \"#46039f\"], [0.2222222222222222, \"#7201a8\"], [0.3333333333333333, \"#9c179e\"], [0.4444444444444444, \"#bd3786\"], [0.5555555555555556, \"#d8576b\"], [0.6666666666666666, \"#ed7953\"], [0.7777777777777778, \"#fb9f3a\"], [0.8888888888888888, \"#fdca26\"], [1.0, \"#f0f921\"]], \"type\": \"histogram2d\"}], \"histogram2dcontour\": [{\"colorbar\": {\"outlinewidth\": 0, \"ticks\": \"\"}, \"colorscale\": [[0.0, \"#0d0887\"], [0.1111111111111111, \"#46039f\"], [0.2222222222222222, \"#7201a8\"], [0.3333333333333333, \"#9c179e\"], [0.4444444444444444, \"#bd3786\"], [0.5555555555555556, \"#d8576b\"], [0.6666666666666666, \"#ed7953\"], [0.7777777777777778, \"#fb9f3a\"], [0.8888888888888888, \"#fdca26\"], [1.0, \"#f0f921\"]], \"type\": \"histogram2dcontour\"}], \"mesh3d\": [{\"colorbar\": {\"outlinewidth\": 0, \"ticks\": \"\"}, \"type\": \"mesh3d\"}], \"parcoords\": [{\"line\": {\"colorbar\": {\"outlinewidth\": 0, \"ticks\": \"\"}}, \"type\": \"parcoords\"}], \"pie\": [{\"automargin\": true, \"type\": \"pie\"}], \"scatter\": [{\"marker\": {\"colorbar\": {\"outlinewidth\": 0, \"ticks\": \"\"}}, \"type\": \"scatter\"}], \"scatter3d\": [{\"line\": {\"colorbar\": {\"outlinewidth\": 0, \"ticks\": \"\"}}, \"marker\": {\"colorbar\": {\"outlinewidth\": 0, \"ticks\": \"\"}}, \"type\": \"scatter3d\"}], \"scattercarpet\": [{\"marker\": {\"colorbar\": {\"outlinewidth\": 0, \"ticks\": \"\"}}, \"type\": \"scattercarpet\"}], \"scattergeo\": [{\"marker\": {\"colorbar\": {\"outlinewidth\": 0, \"ticks\": \"\"}}, \"type\": \"scattergeo\"}], \"scattergl\": [{\"marker\": {\"colorbar\": {\"outlinewidth\": 0, \"ticks\": \"\"}}, \"type\": \"scattergl\"}], \"scattermapbox\": [{\"marker\": {\"colorbar\": {\"outlinewidth\": 0, \"ticks\": \"\"}}, \"type\": \"scattermapbox\"}], \"scatterpolar\": [{\"marker\": {\"colorbar\": {\"outlinewidth\": 0, \"ticks\": \"\"}}, \"type\": \"scatterpolar\"}], \"scatterpolargl\": [{\"marker\": {\"colorbar\": {\"outlinewidth\": 0, \"ticks\": \"\"}}, \"type\": \"scatterpolargl\"}], \"scatterternary\": [{\"marker\": {\"colorbar\": {\"outlinewidth\": 0, \"ticks\": \"\"}}, \"type\": \"scatterternary\"}], \"surface\": [{\"colorbar\": {\"outlinewidth\": 0, \"ticks\": \"\"}, \"colorscale\": [[0.0, \"#0d0887\"], [0.1111111111111111, \"#46039f\"], [0.2222222222222222, \"#7201a8\"], [0.3333333333333333, \"#9c179e\"], [0.4444444444444444, \"#bd3786\"], [0.5555555555555556, \"#d8576b\"], [0.6666666666666666, \"#ed7953\"], [0.7777777777777778, \"#fb9f3a\"], [0.8888888888888888, \"#fdca26\"], [1.0, \"#f0f921\"]], \"type\": \"surface\"}], \"table\": [{\"cells\": {\"fill\": {\"color\": \"#EBF0F8\"}, \"line\": {\"color\": \"white\"}}, \"header\": {\"fill\": {\"color\": \"#C8D4E3\"}, \"line\": {\"color\": \"white\"}}, \"type\": \"table\"}]}, \"layout\": {\"annotationdefaults\": {\"arrowcolor\": \"#2a3f5f\", \"arrowhead\": 0, \"arrowwidth\": 1}, \"coloraxis\": {\"colorbar\": {\"outlinewidth\": 0, \"ticks\": \"\"}}, \"colorscale\": {\"diverging\": [[0, \"#8e0152\"], [0.1, \"#c51b7d\"], [0.2, \"#de77ae\"], [0.3, \"#f1b6da\"], [0.4, \"#fde0ef\"], [0.5, \"#f7f7f7\"], [0.6, \"#e6f5d0\"], [0.7, \"#b8e186\"], [0.8, \"#7fbc41\"], [0.9, \"#4d9221\"], [1, \"#276419\"]], \"sequential\": [[0.0, \"#0d0887\"], [0.1111111111111111, \"#46039f\"], [0.2222222222222222, \"#7201a8\"], [0.3333333333333333, \"#9c179e\"], [0.4444444444444444, \"#bd3786\"], [0.5555555555555556, \"#d8576b\"], [0.6666666666666666, \"#ed7953\"], [0.7777777777777778, \"#fb9f3a\"], [0.8888888888888888, \"#fdca26\"], [1.0, \"#f0f921\"]], \"sequentialminus\": [[0.0, \"#0d0887\"], [0.1111111111111111, \"#46039f\"], [0.2222222222222222, \"#7201a8\"], [0.3333333333333333, \"#9c179e\"], [0.4444444444444444, \"#bd3786\"], [0.5555555555555556, \"#d8576b\"], [0.6666666666666666, \"#ed7953\"], [0.7777777777777778, \"#fb9f3a\"], [0.8888888888888888, \"#fdca26\"], [1.0, \"#f0f921\"]]}, \"colorway\": [\"#636efa\", \"#EF553B\", \"#00cc96\", \"#ab63fa\", \"#FFA15A\", \"#19d3f3\", \"#FF6692\", \"#B6E880\", \"#FF97FF\", \"#FECB52\"], \"font\": {\"color\": \"#2a3f5f\"}, \"geo\": {\"bgcolor\": \"white\", \"lakecolor\": \"white\", \"landcolor\": \"#E5ECF6\", \"showlakes\": true, \"showland\": true, \"subunitcolor\": \"white\"}, \"hoverlabel\": {\"align\": \"left\"}, \"hovermode\": \"closest\", \"mapbox\": {\"style\": \"light\"}, \"paper_bgcolor\": \"white\", \"plot_bgcolor\": \"#E5ECF6\", \"polar\": {\"angularaxis\": {\"gridcolor\": \"white\", \"linecolor\": \"white\", \"ticks\": \"\"}, \"bgcolor\": \"#E5ECF6\", \"radialaxis\": {\"gridcolor\": \"white\", \"linecolor\": \"white\", \"ticks\": \"\"}}, \"scene\": {\"xaxis\": {\"backgroundcolor\": \"#E5ECF6\", \"gridcolor\": \"white\", \"gridwidth\": 2, \"linecolor\": \"white\", \"showbackground\": true, \"ticks\": \"\", \"zerolinecolor\": \"white\"}, \"yaxis\": {\"backgroundcolor\": \"#E5ECF6\", \"gridcolor\": \"white\", \"gridwidth\": 2, \"linecolor\": \"white\", \"showbackground\": true, \"ticks\": \"\", \"zerolinecolor\": \"white\"}, \"zaxis\": {\"backgroundcolor\": \"#E5ECF6\", \"gridcolor\": \"white\", \"gridwidth\": 2, \"linecolor\": \"white\", \"showbackground\": true, \"ticks\": \"\", \"zerolinecolor\": \"white\"}}, \"shapedefaults\": {\"line\": {\"color\": \"#2a3f5f\"}}, \"ternary\": {\"aaxis\": {\"gridcolor\": \"white\", \"linecolor\": \"white\", \"ticks\": \"\"}, \"baxis\": {\"gridcolor\": \"white\", \"linecolor\": \"white\", \"ticks\": \"\"}, \"bgcolor\": \"#E5ECF6\", \"caxis\": {\"gridcolor\": \"white\", \"linecolor\": \"white\", \"ticks\": \"\"}}, \"title\": {\"x\": 0.05}, \"xaxis\": {\"automargin\": true, \"gridcolor\": \"white\", \"linecolor\": \"white\", \"ticks\": \"\", \"title\": {\"standoff\": 15}, \"zerolinecolor\": \"white\", \"zerolinewidth\": 2}, \"yaxis\": {\"automargin\": true, \"gridcolor\": \"white\", \"linecolor\": \"white\", \"ticks\": \"\", \"title\": {\"standoff\": 15}, \"zerolinecolor\": \"white\", \"zerolinewidth\": 2}}}, \"title\": {\"text\": \"Valores reais e previstos de correla\\u00e7\\u00e3o negativa de incid\\u00eancia de COVID-19\"}},\n",
              "                        {\"responsive\": true}\n",
              "                    ).then(function(){\n",
              "                            \n",
              "var gd = document.getElementById('a703364b-3cab-4613-887b-86afcf04b804');\n",
              "var x = new MutationObserver(function (mutations, observer) {{\n",
              "        var display = window.getComputedStyle(gd).display;\n",
              "        if (!display || display === 'none') {{\n",
              "            console.log([gd, 'removed!']);\n",
              "            Plotly.purge(gd);\n",
              "            observer.disconnect();\n",
              "        }}\n",
              "}});\n",
              "\n",
              "// Listen for the removal of the full notebook cells\n",
              "var notebookContainer = gd.closest('#notebook-container');\n",
              "if (notebookContainer) {{\n",
              "    x.observe(notebookContainer, {childList: true});\n",
              "}}\n",
              "\n",
              "// Listen for the clearing of the current output cell\n",
              "var outputEl = gd.closest('.output');\n",
              "if (outputEl) {{\n",
              "    x.observe(outputEl, {childList: true});\n",
              "}}\n",
              "\n",
              "                        })\n",
              "                };\n",
              "                \n",
              "            </script>\n",
              "        </div>\n",
              "</body>\n",
              "</html>"
            ]
          },
          "metadata": {
            "tags": []
          }
        }
      ]
    },
    {
      "cell_type": "code",
      "metadata": {
        "id": "QK4oM3I__J3Z",
        "colab": {
          "base_uri": "https://localhost:8080/",
          "height": 401
        },
        "outputId": "f8eceed1-27d9-4851-8bf5-8145884c11f7"
      },
      "source": [
        "df_corr_negativa = pd.DataFrame ({'Real': ytest_corr_negativa, 'Previsto': ipred_corr_negativa}) \n",
        "sns.lmplot(x=\"Real\", y=\"Previsto\", data=df_corr_negativa)"
      ],
      "execution_count": null,
      "outputs": [
        {
          "output_type": "execute_result",
          "data": {
            "text/plain": [
              "<seaborn.axisgrid.FacetGrid at 0x7f75d4a678d0>"
            ]
          },
          "metadata": {
            "tags": []
          },
          "execution_count": 22
        },
        {
          "output_type": "display_data",
          "data": {
            "image/png": "[encoded data removed]",
            "text/plain": [
              "<Figure size 360x360 with 1 Axes>"
            ]
          },
          "metadata": {
            "tags": [],
            "needs_background": "light"
          }
        }
      ]
    },
    {
      "cell_type": "code",
      "metadata": {
        "id": "bDWGqvzG_8yY"
      },
      "source": [
        "corr_posit_negat = corr_posit + corr_negat\n",
        "corr_pos_neg = idhmcovid[idhmcovid.columns.intersection(corr_posit_negat)]"
      ],
      "execution_count": null,
      "outputs": []
    },
    {
      "cell_type": "code",
      "metadata": {
        "id": "0uPMTEAgAJDz"
      },
      "source": [
        "xtrain_corr_pos_neg, xtest_corr_pos_neg, ytrain_corr_pos_neg, ytest_corr_pos_neg = train_test_split(corr_pos_neg, incidencia, test_size=0.4, random_state=42)"
      ],
      "execution_count": null,
      "outputs": []
    },
    {
      "cell_type": "code",
      "metadata": {
        "id": "uhcJV32LAY88",
        "colab": {
          "base_uri": "https://localhost:8080/"
        },
        "outputId": "d9fc2d28-acfe-4ab0-b636-c7af2a9a10d7"
      },
      "source": [
        "linreg_corr_pos_neg = LinearRegression()\n",
        "linreg_corr_pos_neg.fit(xtrain_corr_pos_neg, ytrain_corr_pos_neg)\n",
        "print('linear model coeff (w): {}'\n",
        ".format(linreg_corr_pos_neg.coef_))\n",
        "print('linear model intercept (b): {:.3f}'\n",
        ".format(linreg_corr_pos_neg.intercept_))\n",
        "print('R-squared score (training): {:.3f}'\n",
        ".format(linreg_corr_pos_neg.score(xtrain_corr_pos_neg, ytrain_corr_pos_neg)))\n",
        "print('R-squared score (test): {:.3f}'\n",
        ".format(linreg_corr_pos_neg.score(xtest_corr_pos_neg, ytest_corr_pos_neg)))"
      ],
      "execution_count": null,
      "outputs": [
        {
          "output_type": "stream",
          "text": [
            "linear model coeff (w): [-1.11741266e+02  2.74976912e+02  3.51548251e+02 -1.21480199e+02\n",
            "  5.93629585e+02  7.56802937e+00 -2.31274999e+02  1.78797150e+02\n",
            " -7.55482086e+02  7.44670083e+00  8.50114593e+02 -1.81633980e+02\n",
            " -5.23839756e+02 -9.95895389e+01  9.14804242e+02 -1.98540420e+02\n",
            " -7.22214928e+01 -4.11257533e+02  5.23162772e+03 -7.11434256e+04]\n",
            "linear model intercept (b): 12788.054\n",
            "R-squared score (training): 0.619\n",
            "R-squared score (test): 0.450\n"
          ],
          "name": "stdout"
        }
      ]
    },
    {
      "cell_type": "code",
      "metadata": {
        "id": "SB6Lmj__AczZ",
        "colab": {
          "base_uri": "https://localhost:8080/"
        },
        "outputId": "4675dae1-396c-4ed9-84a2-ec0c66835835"
      },
      "source": [
        "pred_corr_pos_neg = linreg_corr_pos_neg.predict(xtest_corr_pos_neg)\n",
        "print('Mean squared error: %.2f'\n",
        "      % mean_squared_error(ytest_corr_pos_neg, pred_corr_pos_neg))\n",
        "print('Coefficient of determination: %.2f'\n",
        "      % r2_score(ytest_corr_pos_neg, pred_corr_pos_neg))"
      ],
      "execution_count": null,
      "outputs": [
        {
          "output_type": "stream",
          "text": [
            "Mean squared error: 6312974.31\n",
            "Coefficient of determination: 0.45\n"
          ],
          "name": "stdout"
        }
      ]
    },
    {
      "cell_type": "code",
      "metadata": {
        "id": "fHQQhvszAfjz",
        "colab": {
          "base_uri": "https://localhost:8080/",
          "height": 542
        },
        "outputId": "8708289e-1127-4c32-d57a-16ae677d04d9"
      },
      "source": [
        "fig = go.Figure(data=go.Scatter(x=ytest_corr_pos_neg, y=pred_corr_pos_neg, mode='markers')) \n",
        "fig.update_layout(title=\"Valores reais e previstos das 20 maiores correlações de incidência de COVID-19\")\n",
        "fig.show()"
      ],
      "execution_count": null,
      "outputs": [
        {
          "output_type": "display_data",
          "data": {
            "text/html": [
              "<html>\n",
              "<head><meta charset=\"utf-8\" /></head>\n",
              "<body>\n",
              "    <div>\n",
              "            <script src=\"https://cdnjs.cloudflare.com/ajax/libs/mathjax/2.7.5/MathJax.js?config=TeX-AMS-MML_SVG\"></script><script type=\"text/javascript\">if (window.MathJax) {MathJax.Hub.Config({SVG: {font: \"STIX-Web\"}});}</script>\n",
              "                <script type=\"text/javascript\">window.PlotlyConfig = {MathJaxConfig: 'local'};</script>\n",
              "        <script src=\"https://cdn.plot.ly/plotly-latest.min.js\"></script>    \n",
              "            <div id=\"3b8471d9-13fa-4bf6-80b4-bdf63f82ea7c\" class=\"plotly-graph-div\" style=\"height:525px; width:100%;\"></div>\n",
              "            <script type=\"text/javascript\">\n",
              "                \n",
              "                    window.PLOTLYENV=window.PLOTLYENV || {};\n",
              "                    \n",
              "                if (document.getElementById(\"3b8471d9-13fa-4bf6-80b4-bdf63f82ea7c\")) {\n",
              "                    Plotly.newPlot(\n",
              "                        '3b8471d9-13fa-4bf6-80b4-bdf63f82ea7c',\n",
              "                        [{\"mode\": \"markers\", \"type\": \"scatter\", \"x\": [8667.69198, 6311.13826, 4135.7330600000005, 11171.08883, 12023.76225, 14587.637369999999, 5395.90533, 4952.37726, 14367.1352, 4108.96212, 7098.6627, 13155.66652, 8646.53532, 8630.18111, 3198.51013, 14839.796890000001, 9179.62857, 4846.87919, 5237.7892, 7970.69716, 7106.82061, 15673.849919999999, 9258.89729, 14617.77851, 12233.396990000001, 3615.15842, 5645.64388, 7345.9918099999995, 4301.65788, 10001.739, 5938.15131, 9592.77173, 9040.94223, 10411.34502, 11972.2942, 9515.78081, 10913.85926, 2235.2903, 5765.19916, 10966.53868, 9000.017590000001, 11425.90825, 14307.808790000001, 10070.4102, 7510.399190000001, 13372.70139, 10383.20321, 8782.51801, 5828.9467, 3857.2996, 7940.811540000001, 8661.45731, 19165.64201, 8931.860040000001, 10692.78548, 6859.17777, 10086.1018, 5010.11611, 8948.57021, 8214.27833, 11225.3164, 9870.521190000001, 7975.843059999999, 11095.894240000001, 7573.7408, 17197.567180000002, 6898.1083, 10206.61768, 4959.2085799999995, 6465.31792, 11106.449920000001, 13227.22349, 5129.6104, 7140.186790000001, 7550.931009999999, 6639.03931, 6185.3286, 6996.17715, 9672.0562, 6852.80625, 4578.681170000001, 12365.56235, 5264.5885100000005, 9499.657959999999, 6006.00842, 13320.52894, 3913.9145399999998, 3988.06789, 9840.78773, 8552.13543, 4157.10426, 4450.98611, 5843.44819, 15319.611640000001, 5906.74868, 10840.91245, 7909.742009999999, 8416.80461, 13103.97377, 12477.25468, 9455.03076, 9740.5559, 8610.96477, 14141.296530000001, 9134.973329999999, 7411.554440000001, 9306.898459999999, 8993.34503, 7385.75908, 8418.07155, 5883.78441, 12151.48426, 3415.8335, 2063.8067100000003, 8593.194459999999, 9012.4528, 9117.451659999999, 10835.91575, 2115.14122, 7364.73044, 8624.488609999999, 5975.718260000001, 4033.35861, 4233.61535, 4717.5168, 3431.8323299999997, 6295.64013, 4241.43556, 6850.960440000001, 3068.76145], \"y\": [10930.884041286032, 11201.25140263297, 5271.429661963722, 10324.556257731108, 8601.277145836357, 11424.892713121144, 6178.318278055975, 5948.465453801501, 13138.73914583385, 3483.4310136770746, 8323.683030706272, 8288.450062463347, 9003.600098421926, 10573.97711106608, 5635.096102667161, 12893.777239677336, 9742.797459659869, 5806.868016583765, 9666.019845202649, 6246.834053912566, 10467.250800168596, 14112.039294507524, 8915.271134254452, 8224.993297566969, 11424.736057424821, 4397.5182540906535, 9518.56225255844, 8126.574761596844, 4753.685099724225, 11304.65543025549, 6612.688731574441, 9458.425256437136, 10311.598038688933, 8851.021045245361, 10973.758403933414, 8716.242537172482, 8695.84580870347, 4662.872381632929, 10115.448866642164, 8611.312327702493, 8997.583360509045, 8959.771051283116, 10223.823492523217, 12378.248068053443, 6849.781099123527, 10326.092532567276, 9808.995766598706, 7923.761080597544, 5341.409964714365, 7539.979032891288, 7971.033602711446, 10166.703938265277, 11628.94241674715, 6313.419946591008, 11577.289370396973, 8253.18546615212, 10691.407303615693, 8005.507445110918, 10389.46390558448, 8274.729339245785, 10539.807311354845, 9063.30938131868, 9076.463227713926, 10083.20231940785, 11140.264270375452, 10553.314881600605, 6621.240114259148, 10154.454874323224, 8255.958047208906, 8567.63501578198, 10675.832597187848, 12632.969348435883, 7900.750010000492, 9403.030067188989, 7499.2320329920185, 7387.289288358246, 8884.374907863203, 9392.344039681777, 9879.622244241, 6485.913229121398, 6393.719598287655, 10659.11478639498, 6270.394146169978, 10404.922798104948, 8497.62935623404, 13777.806689485446, 4265.417013610073, 2133.040438517919, 11974.67107291958, 7801.794492396074, 4183.433867725842, 10274.256902780027, 6803.119373453737, 12377.493701639673, 10728.165940329432, 10040.25326228264, 10681.184018562359, 9387.148145901192, 11208.445250239914, 6704.783716924833, 9479.518619926803, 8311.173278430342, 9772.117920681289, 15654.475962142682, 9011.457098396158, 8488.050265996726, 11082.707743664629, 9531.73962876363, 10886.99323510761, 12312.824894343312, 10105.904454839747, 10428.029418878938, 5093.6437215686965, 4824.173509244222, 9205.49229600991, 9725.081945356455, 9840.424318619655, 11641.173105243486, 1713.6430975374806, 7885.476418526085, 9053.60647447943, 3967.1042074752822, 9359.007708576988, 6564.321002763612, 9319.851113407252, 968.692106987708, 7672.0488247789635, 6748.181712985414, 8792.634879566496, 11236.108441929662]}],\n",
              "                        {\"template\": {\"data\": {\"bar\": [{\"error_x\": {\"color\": \"#2a3f5f\"}, \"error_y\": {\"color\": \"#2a3f5f\"}, \"marker\": {\"line\": {\"color\": \"#E5ECF6\", \"width\": 0.5}}, \"type\": \"bar\"}], \"barpolar\": [{\"marker\": {\"line\": {\"color\": \"#E5ECF6\", \"width\": 0.5}}, \"type\": \"barpolar\"}], \"carpet\": [{\"aaxis\": {\"endlinecolor\": \"#2a3f5f\", \"gridcolor\": \"white\", \"linecolor\": \"white\", \"minorgridcolor\": \"white\", \"startlinecolor\": \"#2a3f5f\"}, \"baxis\": {\"endlinecolor\": \"#2a3f5f\", \"gridcolor\": \"white\", \"linecolor\": \"white\", \"minorgridcolor\": \"white\", \"startlinecolor\": \"#2a3f5f\"}, \"type\": \"carpet\"}], \"choropleth\": [{\"colorbar\": {\"outlinewidth\": 0, \"ticks\": \"\"}, \"type\": \"choropleth\"}], \"contour\": [{\"colorbar\": {\"outlinewidth\": 0, \"ticks\": \"\"}, \"colorscale\": [[0.0, \"#0d0887\"], [0.1111111111111111, \"#46039f\"], [0.2222222222222222, \"#7201a8\"], [0.3333333333333333, \"#9c179e\"], [0.4444444444444444, \"#bd3786\"], [0.5555555555555556, \"#d8576b\"], [0.6666666666666666, \"#ed7953\"], [0.7777777777777778, \"#fb9f3a\"], [0.8888888888888888, \"#fdca26\"], [1.0, \"#f0f921\"]], \"type\": \"contour\"}], \"contourcarpet\": [{\"colorbar\": {\"outlinewidth\": 0, \"ticks\": \"\"}, \"type\": \"contourcarpet\"}], \"heatmap\": [{\"colorbar\": {\"outlinewidth\": 0, \"ticks\": \"\"}, \"colorscale\": [[0.0, \"#0d0887\"], [0.1111111111111111, \"#46039f\"], [0.2222222222222222, \"#7201a8\"], [0.3333333333333333, \"#9c179e\"], [0.4444444444444444, \"#bd3786\"], [0.5555555555555556, \"#d8576b\"], [0.6666666666666666, \"#ed7953\"], [0.7777777777777778, \"#fb9f3a\"], [0.8888888888888888, \"#fdca26\"], [1.0, \"#f0f921\"]], \"type\": \"heatmap\"}], \"heatmapgl\": [{\"colorbar\": {\"outlinewidth\": 0, \"ticks\": \"\"}, \"colorscale\": [[0.0, \"#0d0887\"], [0.1111111111111111, \"#46039f\"], [0.2222222222222222, \"#7201a8\"], [0.3333333333333333, \"#9c179e\"], [0.4444444444444444, \"#bd3786\"], [0.5555555555555556, \"#d8576b\"], [0.6666666666666666, \"#ed7953\"], [0.7777777777777778, \"#fb9f3a\"], [0.8888888888888888, \"#fdca26\"], [1.0, \"#f0f921\"]], \"type\": \"heatmapgl\"}], \"histogram\": [{\"marker\": {\"colorbar\": {\"outlinewidth\": 0, \"ticks\": \"\"}}, \"type\": \"histogram\"}], \"histogram2d\": [{\"colorbar\": {\"outlinewidth\": 0, \"ticks\": \"\"}, \"colorscale\": [[0.0, \"#0d0887\"], [0.1111111111111111, \"#46039f\"], [0.2222222222222222, \"#7201a8\"], [0.3333333333333333, \"#9c179e\"], [0.4444444444444444, \"#bd3786\"], [0.5555555555555556, \"#d8576b\"], [0.6666666666666666, \"#ed7953\"], [0.7777777777777778, \"#fb9f3a\"], [0.8888888888888888, \"#fdca26\"], [1.0, \"#f0f921\"]], \"type\": \"histogram2d\"}], \"histogram2dcontour\": [{\"colorbar\": {\"outlinewidth\": 0, \"ticks\": \"\"}, \"colorscale\": [[0.0, \"#0d0887\"], [0.1111111111111111, \"#46039f\"], [0.2222222222222222, \"#7201a8\"], [0.3333333333333333, \"#9c179e\"], [0.4444444444444444, \"#bd3786\"], [0.5555555555555556, \"#d8576b\"], [0.6666666666666666, \"#ed7953\"], [0.7777777777777778, \"#fb9f3a\"], [0.8888888888888888, \"#fdca26\"], [1.0, \"#f0f921\"]], \"type\": \"histogram2dcontour\"}], \"mesh3d\": [{\"colorbar\": {\"outlinewidth\": 0, \"ticks\": \"\"}, \"type\": \"mesh3d\"}], \"parcoords\": [{\"line\": {\"colorbar\": {\"outlinewidth\": 0, \"ticks\": \"\"}}, \"type\": \"parcoords\"}], \"pie\": [{\"automargin\": true, \"type\": \"pie\"}], \"scatter\": [{\"marker\": {\"colorbar\": {\"outlinewidth\": 0, \"ticks\": \"\"}}, \"type\": \"scatter\"}], \"scatter3d\": [{\"line\": {\"colorbar\": {\"outlinewidth\": 0, \"ticks\": \"\"}}, \"marker\": {\"colorbar\": {\"outlinewidth\": 0, \"ticks\": \"\"}}, \"type\": \"scatter3d\"}], \"scattercarpet\": [{\"marker\": {\"colorbar\": {\"outlinewidth\": 0, \"ticks\": \"\"}}, \"type\": \"scattercarpet\"}], \"scattergeo\": [{\"marker\": {\"colorbar\": {\"outlinewidth\": 0, \"ticks\": \"\"}}, \"type\": \"scattergeo\"}], \"scattergl\": [{\"marker\": {\"colorbar\": {\"outlinewidth\": 0, \"ticks\": \"\"}}, \"type\": \"scattergl\"}], \"scattermapbox\": [{\"marker\": {\"colorbar\": {\"outlinewidth\": 0, \"ticks\": \"\"}}, \"type\": \"scattermapbox\"}], \"scatterpolar\": [{\"marker\": {\"colorbar\": {\"outlinewidth\": 0, \"ticks\": \"\"}}, \"type\": \"scatterpolar\"}], \"scatterpolargl\": [{\"marker\": {\"colorbar\": {\"outlinewidth\": 0, \"ticks\": \"\"}}, \"type\": \"scatterpolargl\"}], \"scatterternary\": [{\"marker\": {\"colorbar\": {\"outlinewidth\": 0, \"ticks\": \"\"}}, \"type\": \"scatterternary\"}], \"surface\": [{\"colorbar\": {\"outlinewidth\": 0, \"ticks\": \"\"}, \"colorscale\": [[0.0, \"#0d0887\"], [0.1111111111111111, \"#46039f\"], [0.2222222222222222, \"#7201a8\"], [0.3333333333333333, \"#9c179e\"], [0.4444444444444444, \"#bd3786\"], [0.5555555555555556, \"#d8576b\"], [0.6666666666666666, \"#ed7953\"], [0.7777777777777778, \"#fb9f3a\"], [0.8888888888888888, \"#fdca26\"], [1.0, \"#f0f921\"]], \"type\": \"surface\"}], \"table\": [{\"cells\": {\"fill\": {\"color\": \"#EBF0F8\"}, \"line\": {\"color\": \"white\"}}, \"header\": {\"fill\": {\"color\": \"#C8D4E3\"}, \"line\": {\"color\": \"white\"}}, \"type\": \"table\"}]}, \"layout\": {\"annotationdefaults\": {\"arrowcolor\": \"#2a3f5f\", \"arrowhead\": 0, \"arrowwidth\": 1}, \"coloraxis\": {\"colorbar\": {\"outlinewidth\": 0, \"ticks\": \"\"}}, \"colorscale\": {\"diverging\": [[0, \"#8e0152\"], [0.1, \"#c51b7d\"], [0.2, \"#de77ae\"], [0.3, \"#f1b6da\"], [0.4, \"#fde0ef\"], [0.5, \"#f7f7f7\"], [0.6, \"#e6f5d0\"], [0.7, \"#b8e186\"], [0.8, \"#7fbc41\"], [0.9, \"#4d9221\"], [1, \"#276419\"]], \"sequential\": [[0.0, \"#0d0887\"], [0.1111111111111111, \"#46039f\"], [0.2222222222222222, \"#7201a8\"], [0.3333333333333333, \"#9c179e\"], [0.4444444444444444, \"#bd3786\"], [0.5555555555555556, \"#d8576b\"], [0.6666666666666666, \"#ed7953\"], [0.7777777777777778, \"#fb9f3a\"], [0.8888888888888888, \"#fdca26\"], [1.0, \"#f0f921\"]], \"sequentialminus\": [[0.0, \"#0d0887\"], [0.1111111111111111, \"#46039f\"], [0.2222222222222222, \"#7201a8\"], [0.3333333333333333, \"#9c179e\"], [0.4444444444444444, \"#bd3786\"], [0.5555555555555556, \"#d8576b\"], [0.6666666666666666, \"#ed7953\"], [0.7777777777777778, \"#fb9f3a\"], [0.8888888888888888, \"#fdca26\"], [1.0, \"#f0f921\"]]}, \"colorway\": [\"#636efa\", \"#EF553B\", \"#00cc96\", \"#ab63fa\", \"#FFA15A\", \"#19d3f3\", \"#FF6692\", \"#B6E880\", \"#FF97FF\", \"#FECB52\"], \"font\": {\"color\": \"#2a3f5f\"}, \"geo\": {\"bgcolor\": \"white\", \"lakecolor\": \"white\", \"landcolor\": \"#E5ECF6\", \"showlakes\": true, \"showland\": true, \"subunitcolor\": \"white\"}, \"hoverlabel\": {\"align\": \"left\"}, \"hovermode\": \"closest\", \"mapbox\": {\"style\": \"light\"}, \"paper_bgcolor\": \"white\", \"plot_bgcolor\": \"#E5ECF6\", \"polar\": {\"angularaxis\": {\"gridcolor\": \"white\", \"linecolor\": \"white\", \"ticks\": \"\"}, \"bgcolor\": \"#E5ECF6\", \"radialaxis\": {\"gridcolor\": \"white\", \"linecolor\": \"white\", \"ticks\": \"\"}}, \"scene\": {\"xaxis\": {\"backgroundcolor\": \"#E5ECF6\", \"gridcolor\": \"white\", \"gridwidth\": 2, \"linecolor\": \"white\", \"showbackground\": true, \"ticks\": \"\", \"zerolinecolor\": \"white\"}, \"yaxis\": {\"backgroundcolor\": \"#E5ECF6\", \"gridcolor\": \"white\", \"gridwidth\": 2, \"linecolor\": \"white\", \"showbackground\": true, \"ticks\": \"\", \"zerolinecolor\": \"white\"}, \"zaxis\": {\"backgroundcolor\": \"#E5ECF6\", \"gridcolor\": \"white\", \"gridwidth\": 2, \"linecolor\": \"white\", \"showbackground\": true, \"ticks\": \"\", \"zerolinecolor\": \"white\"}}, \"shapedefaults\": {\"line\": {\"color\": \"#2a3f5f\"}}, \"ternary\": {\"aaxis\": {\"gridcolor\": \"white\", \"linecolor\": \"white\", \"ticks\": \"\"}, \"baxis\": {\"gridcolor\": \"white\", \"linecolor\": \"white\", \"ticks\": \"\"}, \"bgcolor\": \"#E5ECF6\", \"caxis\": {\"gridcolor\": \"white\", \"linecolor\": \"white\", \"ticks\": \"\"}}, \"title\": {\"x\": 0.05}, \"xaxis\": {\"automargin\": true, \"gridcolor\": \"white\", \"linecolor\": \"white\", \"ticks\": \"\", \"title\": {\"standoff\": 15}, \"zerolinecolor\": \"white\", \"zerolinewidth\": 2}, \"yaxis\": {\"automargin\": true, \"gridcolor\": \"white\", \"linecolor\": \"white\", \"ticks\": \"\", \"title\": {\"standoff\": 15}, \"zerolinecolor\": \"white\", \"zerolinewidth\": 2}}}, \"title\": {\"text\": \"Valores reais e previstos das 20 maiores correla\\u00e7\\u00f5es de incid\\u00eancia de COVID-19\"}},\n",
              "                        {\"responsive\": true}\n",
              "                    ).then(function(){\n",
              "                            \n",
              "var gd = document.getElementById('3b8471d9-13fa-4bf6-80b4-bdf63f82ea7c');\n",
              "var x = new MutationObserver(function (mutations, observer) {{\n",
              "        var display = window.getComputedStyle(gd).display;\n",
              "        if (!display || display === 'none') {{\n",
              "            console.log([gd, 'removed!']);\n",
              "            Plotly.purge(gd);\n",
              "            observer.disconnect();\n",
              "        }}\n",
              "}});\n",
              "\n",
              "// Listen for the removal of the full notebook cells\n",
              "var notebookContainer = gd.closest('#notebook-container');\n",
              "if (notebookContainer) {{\n",
              "    x.observe(notebookContainer, {childList: true});\n",
              "}}\n",
              "\n",
              "// Listen for the clearing of the current output cell\n",
              "var outputEl = gd.closest('.output');\n",
              "if (outputEl) {{\n",
              "    x.observe(outputEl, {childList: true});\n",
              "}}\n",
              "\n",
              "                        })\n",
              "                };\n",
              "                \n",
              "            </script>\n",
              "        </div>\n",
              "</body>\n",
              "</html>"
            ]
          },
          "metadata": {
            "tags": []
          }
        }
      ]
    },
    {
      "cell_type": "code",
      "metadata": {
        "id": "fM9B_7NsAiHe",
        "colab": {
          "base_uri": "https://localhost:8080/",
          "height": 401
        },
        "outputId": "220bbc67-63f5-4420-ab8c-1811ea54d0c0"
      },
      "source": [
        "df_corr_pos_neg = pd.DataFrame ({'Real': ytest_corr_pos_neg, 'Previsto': pred_corr_pos_neg}) \n",
        "sns.lmplot(x=\"Real\", y=\"Previsto\", data=df_corr_pos_neg)"
      ],
      "execution_count": null,
      "outputs": [
        {
          "output_type": "execute_result",
          "data": {
            "text/plain": [
              "<seaborn.axisgrid.FacetGrid at 0x7f75ce73f7d0>"
            ]
          },
          "metadata": {
            "tags": []
          },
          "execution_count": 28
        },
        {
          "output_type": "display_data",
          "data": {
            "image/png": "[encoded data removed]",
            "text/plain": [
              "<Figure size 360x360 with 1 Axes>"
            ]
          },
          "metadata": {
            "tags": [],
            "needs_background": "light"
          }
        }
      ]
    }
  ]
}