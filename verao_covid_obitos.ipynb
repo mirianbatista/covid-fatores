{
  "nbformat": 4,
  "nbformat_minor": 0,
  "metadata": {
    "colab": {
      "name": "verao-covid-obitos.ipynb",
      "provenance": [],
      "collapsed_sections": [],
      "include_colab_link": true
    },
    "kernelspec": {
      "display_name": "Python 3",
      "name": "python3"
    },
    "language_info": {
      "name": "python"
    }
  },
  "cells": [
    {
      "cell_type": "markdown",
      "metadata": {
        "id": "view-in-github",
        "colab_type": "text"
      },
      "source": [
        "<a href=\"https://colab.research.google.com/github/mirianbatista/covid-fatores/blob/master/verao_covid_obitos.ipynb\" target=\"_parent\"><img src=\"https://colab.research.google.com/assets/colab-badge.svg\" alt=\"Open In Colab\"/></a>"
      ]
    },
    {
      "cell_type": "code",
      "metadata": {
        "id": "7iHxis_WcAOZ"
      },
      "source": [
        "import requests\n",
        "import io\n",
        "import gzip\n",
        "import pandas as pd\n",
        "import seaborn as sns; sns.set_theme(style=\"whitegrid\")"
      ],
      "execution_count": null,
      "outputs": []
    },
    {
      "cell_type": "code",
      "metadata": {
        "id": "G0IDdDMOcSI4"
      },
      "source": [
        "url = \"https://data.brasil.io/dataset/covid19/caso_full.csv.gz\"\n",
        "response = requests.get(url)\n",
        "bytes_io = io.BytesIO(response.content)\n",
        "with gzip.open(bytes_io, 'rt') as read_file:\n",
        "    covid = pd.read_csv(read_file, parse_dates=[\"date\"], dtype={\"city_ibge_code\": str})"
      ],
      "execution_count": null,
      "outputs": []
    },
    {
      "cell_type": "code",
      "metadata": {
        "id": "qpBzAepucUpV"
      },
      "source": [
        "cols = \"MUNICIPIO\",\"COD_IBGE\",\"CLUSTER\",\"UF\",\"ARRECADACAO\",\"QUANTIDADE_VISITAS_ESTIMADAS_ NACIONAL\"\n",
        "cidades_turisticas = pd.read_excel('https://github.com/mirianbatista/covid-fatores/blob/master/RELATORIO_CATEGORIZACAO_2019-Portal.xls?raw=true', usecols=cols, dtype={\"COD_IBGE\": str})\n",
        "cidades = cidades_turisticas.MUNICIPIO.to_list()"
      ],
      "execution_count": null,
      "outputs": []
    },
    {
      "cell_type": "code",
      "metadata": {
        "colab": {
          "base_uri": "https://localhost:8080/",
          "height": 48
        },
        "id": "UR6ZZUy0JX3M",
        "outputId": "4f33feb3-1d6b-4fee-a7f9-8bf7a5d23796"
      },
      "source": [
        "cidades_turisticas[cidades_turisticas.isna().any(axis=1)]"
      ],
      "execution_count": null,
      "outputs": [
        {
          "output_type": "execute_result",
          "data": {
            "text/html": [
              "<div>\n",
              "<style scoped>\n",
              "    .dataframe tbody tr th:only-of-type {\n",
              "        vertical-align: middle;\n",
              "    }\n",
              "\n",
              "    .dataframe tbody tr th {\n",
              "        vertical-align: top;\n",
              "    }\n",
              "\n",
              "    .dataframe thead th {\n",
              "        text-align: right;\n",
              "    }\n",
              "</style>\n",
              "<table border=\"1\" class=\"dataframe\">\n",
              "  <thead>\n",
              "    <tr style=\"text-align: right;\">\n",
              "      <th></th>\n",
              "      <th>UF</th>\n",
              "      <th>MUNICIPIO</th>\n",
              "      <th>COD_IBGE</th>\n",
              "      <th>QUANTIDADE_VISITAS_ESTIMADAS_ NACIONAL</th>\n",
              "      <th>ARRECADACAO</th>\n",
              "      <th>CLUSTER</th>\n",
              "    </tr>\n",
              "  </thead>\n",
              "  <tbody>\n",
              "  </tbody>\n",
              "</table>\n",
              "</div>"
            ],
            "text/plain": [
              "Empty DataFrame\n",
              "Columns: [UF, MUNICIPIO, COD_IBGE, QUANTIDADE_VISITAS_ESTIMADAS_ NACIONAL, ARRECADACAO, CLUSTER]\n",
              "Index: []"
            ]
          },
          "metadata": {
            "tags": []
          },
          "execution_count": 4
        }
      ]
    },
    {
      "cell_type": "code",
      "metadata": {
        "colab": {
          "base_uri": "https://localhost:8080/"
        },
        "id": "eGp0dc_7FvJU",
        "outputId": "e1eeff3f-5aa4-480a-8f0d-dc662e166ab9"
      },
      "source": [
        "covid_cidades_turisticas = covid.loc[covid['city'].isin(cidades)]\n",
        "covid_cidades_turisticas.info()"
      ],
      "execution_count": null,
      "outputs": [
        {
          "output_type": "stream",
          "text": [
            "<class 'pandas.core.frame.DataFrame'>\n",
            "Int64Index: 1182025 entries, 0 to 2337326\n",
            "Data columns (total 18 columns):\n",
            " #   Column                                         Non-Null Count    Dtype         \n",
            "---  ------                                         --------------    -----         \n",
            " 0   city                                           1182025 non-null  object        \n",
            " 1   city_ibge_code                                 1182025 non-null  object        \n",
            " 2   date                                           1182025 non-null  datetime64[ns]\n",
            " 3   epidemiological_week                           1182025 non-null  int64         \n",
            " 4   estimated_population                           1182025 non-null  float64       \n",
            " 5   estimated_population_2019                      1182025 non-null  float64       \n",
            " 6   is_last                                        1182025 non-null  bool          \n",
            " 7   is_repeated                                    1182025 non-null  bool          \n",
            " 8   last_available_confirmed                       1182025 non-null  int64         \n",
            " 9   last_available_confirmed_per_100k_inhabitants  1175899 non-null  float64       \n",
            " 10  last_available_date                            1182025 non-null  object        \n",
            " 11  last_available_death_rate                      1182025 non-null  float64       \n",
            " 12  last_available_deaths                          1182025 non-null  int64         \n",
            " 13  order_for_place                                1182025 non-null  int64         \n",
            " 14  place_type                                     1182025 non-null  object        \n",
            " 15  state                                          1182025 non-null  object        \n",
            " 16  new_confirmed                                  1182025 non-null  int64         \n",
            " 17  new_deaths                                     1182025 non-null  int64         \n",
            "dtypes: bool(2), datetime64[ns](1), float64(4), int64(6), object(5)\n",
            "memory usage: 155.6+ MB\n"
          ],
          "name": "stdout"
        }
      ]
    },
    {
      "cell_type": "code",
      "metadata": {
        "colab": {
          "base_uri": "https://localhost:8080/"
        },
        "id": "jcO5inF0JTPW",
        "outputId": "5fe55c23-2273-42a0-d276-d6a479403e34"
      },
      "source": [
        "covid_cidades_turisticas.fillna(0, inplace=True)"
      ],
      "execution_count": null,
      "outputs": [
        {
          "output_type": "stream",
          "text": [
            "/usr/local/lib/python3.7/dist-packages/pandas/core/frame.py:4327: SettingWithCopyWarning: \n",
            "A value is trying to be set on a copy of a slice from a DataFrame\n",
            "\n",
            "See the caveats in the documentation: https://pandas.pydata.org/pandas-docs/stable/user_guide/indexing.html#returning-a-view-versus-a-copy\n",
            "  downcast=downcast,\n"
          ],
          "name": "stderr"
        }
      ]
    },
    {
      "cell_type": "code",
      "metadata": {
        "id": "TfYW37dNcDuU"
      },
      "source": [
        "covid_tur = pd.merge(covid_cidades_turisticas, cidades_turisticas, left_on=\"city_ibge_code\", right_on=\"COD_IBGE\", how=\"left\").dropna(subset=['CLUSTER'])\n",
        "covid_tur = covid_tur[covid_tur.estimated_population >= 20000]"
      ],
      "execution_count": null,
      "outputs": []
    },
    {
      "cell_type": "code",
      "metadata": {
        "id": "OsYg5kzyC3f8"
      },
      "source": [
        "def aumento_percentual(t0, t1):\n",
        "  return (t1-t0)/t0 if t0 != 0 else 0\n",
        "\n",
        "def calcula_aumento_relativo(df, x_col, date_col, from_date, to_date):\n",
        "    from_x = int(df[df[date_col] == from_date][x_col])\n",
        "    to_x = int(df[df[date_col] == to_date][x_col])\n",
        "    abs_dif = to_x - from_x\n",
        "    relative_dif = aumento_percentual(from_x, to_x)\n",
        "    return {f'{x_col}_from': from_x, f'{x_col}_to': to_x, 'dif': abs_dif,'relative_dif': relative_dif}"
      ],
      "execution_count": null,
      "outputs": []
    },
    {
      "cell_type": "code",
      "metadata": {
        "id": "PGoYpu0rT-wX",
        "colab": {
          "base_uri": "https://localhost:8080/",
          "height": 414
        },
        "outputId": "b0457dd7-aa99-4558-9856-171c43b3c27c"
      },
      "source": [
        "covid_tur_aumento = covid_tur.groupby(['city_ibge_code', 'estimated_population']).apply(calcula_aumento_relativo, x_col='last_available_deaths', date_col='date', from_date='2020-12-17', to_date='2021-03-16').to_frame()\n",
        "covid_tur_aumento.rename(columns={0: \"explodir\"}, inplace=True)\n",
        "covid_tur_aumento = covid_tur_aumento['explodir'].apply(pd.Series)\n",
        "covid_tur_aumento.reset_index(inplace=True)\n",
        "covid_tur_aumento.sort_values(by='relative_dif', ascending=False)"
      ],
      "execution_count": null,
      "outputs": [
        {
          "output_type": "execute_result",
          "data": {
            "text/html": [
              "<div>\n",
              "<style scoped>\n",
              "    .dataframe tbody tr th:only-of-type {\n",
              "        vertical-align: middle;\n",
              "    }\n",
              "\n",
              "    .dataframe tbody tr th {\n",
              "        vertical-align: top;\n",
              "    }\n",
              "\n",
              "    .dataframe thead th {\n",
              "        text-align: right;\n",
              "    }\n",
              "</style>\n",
              "<table border=\"1\" class=\"dataframe\">\n",
              "  <thead>\n",
              "    <tr style=\"text-align: right;\">\n",
              "      <th></th>\n",
              "      <th>city_ibge_code</th>\n",
              "      <th>estimated_population</th>\n",
              "      <th>last_available_deaths_from</th>\n",
              "      <th>last_available_deaths_to</th>\n",
              "      <th>dif</th>\n",
              "      <th>relative_dif</th>\n",
              "    </tr>\n",
              "  </thead>\n",
              "  <tbody>\n",
              "    <tr>\n",
              "      <th>866</th>\n",
              "      <td>4106506</td>\n",
              "      <td>20580.0</td>\n",
              "      <td>2.0</td>\n",
              "      <td>39.0</td>\n",
              "      <td>37.0</td>\n",
              "      <td>18.500000</td>\n",
              "    </tr>\n",
              "    <tr>\n",
              "      <th>395</th>\n",
              "      <td>2923605</td>\n",
              "      <td>21695.0</td>\n",
              "      <td>1.0</td>\n",
              "      <td>12.0</td>\n",
              "      <td>11.0</td>\n",
              "      <td>11.000000</td>\n",
              "    </tr>\n",
              "    <tr>\n",
              "      <th>825</th>\n",
              "      <td>3551603</td>\n",
              "      <td>29452.0</td>\n",
              "      <td>3.0</td>\n",
              "      <td>22.0</td>\n",
              "      <td>19.0</td>\n",
              "      <td>6.333333</td>\n",
              "    </tr>\n",
              "    <tr>\n",
              "      <th>555</th>\n",
              "      <td>3171006</td>\n",
              "      <td>20642.0</td>\n",
              "      <td>5.0</td>\n",
              "      <td>32.0</td>\n",
              "      <td>27.0</td>\n",
              "      <td>5.400000</td>\n",
              "    </tr>\n",
              "    <tr>\n",
              "      <th>1018</th>\n",
              "      <td>4313201</td>\n",
              "      <td>21536.0</td>\n",
              "      <td>4.0</td>\n",
              "      <td>25.0</td>\n",
              "      <td>21.0</td>\n",
              "      <td>5.250000</td>\n",
              "    </tr>\n",
              "    <tr>\n",
              "      <th>...</th>\n",
              "      <td>...</td>\n",
              "      <td>...</td>\n",
              "      <td>...</td>\n",
              "      <td>...</td>\n",
              "      <td>...</td>\n",
              "      <td>...</td>\n",
              "    </tr>\n",
              "    <tr>\n",
              "      <th>242</th>\n",
              "      <td>2601607</td>\n",
              "      <td>20730.0</td>\n",
              "      <td>0.0</td>\n",
              "      <td>5.0</td>\n",
              "      <td>5.0</td>\n",
              "      <td>0.000000</td>\n",
              "    </tr>\n",
              "    <tr>\n",
              "      <th>210</th>\n",
              "      <td>2414407</td>\n",
              "      <td>33503.0</td>\n",
              "      <td>24.0</td>\n",
              "      <td>24.0</td>\n",
              "      <td>0.0</td>\n",
              "      <td>0.000000</td>\n",
              "    </tr>\n",
              "    <tr>\n",
              "      <th>107</th>\n",
              "      <td>2103174</td>\n",
              "      <td>21840.0</td>\n",
              "      <td>7.0</td>\n",
              "      <td>7.0</td>\n",
              "      <td>0.0</td>\n",
              "      <td>0.000000</td>\n",
              "    </tr>\n",
              "    <tr>\n",
              "      <th>118</th>\n",
              "      <td>2108306</td>\n",
              "      <td>38731.0</td>\n",
              "      <td>9.0</td>\n",
              "      <td>9.0</td>\n",
              "      <td>0.0</td>\n",
              "      <td>0.000000</td>\n",
              "    </tr>\n",
              "    <tr>\n",
              "      <th>103</th>\n",
              "      <td>2102705</td>\n",
              "      <td>22117.0</td>\n",
              "      <td>4.0</td>\n",
              "      <td>3.0</td>\n",
              "      <td>-1.0</td>\n",
              "      <td>-0.250000</td>\n",
              "    </tr>\n",
              "  </tbody>\n",
              "</table>\n",
              "<p>1155 rows × 6 columns</p>\n",
              "</div>"
            ],
            "text/plain": [
              "     city_ibge_code  estimated_population  ...   dif  relative_dif\n",
              "866         4106506               20580.0  ...  37.0     18.500000\n",
              "395         2923605               21695.0  ...  11.0     11.000000\n",
              "825         3551603               29452.0  ...  19.0      6.333333\n",
              "555         3171006               20642.0  ...  27.0      5.400000\n",
              "1018        4313201               21536.0  ...  21.0      5.250000\n",
              "...             ...                   ...  ...   ...           ...\n",
              "242         2601607               20730.0  ...   5.0      0.000000\n",
              "210         2414407               33503.0  ...   0.0      0.000000\n",
              "107         2103174               21840.0  ...   0.0      0.000000\n",
              "118         2108306               38731.0  ...   0.0      0.000000\n",
              "103         2102705               22117.0  ...  -1.0     -0.250000\n",
              "\n",
              "[1155 rows x 6 columns]"
            ]
          },
          "metadata": {
            "tags": []
          },
          "execution_count": 9
        }
      ]
    },
    {
      "cell_type": "code",
      "metadata": {
        "colab": {
          "base_uri": "https://localhost:8080/",
          "height": 517
        },
        "id": "W_ZvzKCRX082",
        "outputId": "68aef88a-c80b-46ac-adca-5e5eb05ae26f"
      },
      "source": [
        "covid_tur_aumento_categorias = pd.merge(covid_tur_aumento, cidades_turisticas, left_on=\"city_ibge_code\", right_on=\"COD_IBGE\", how=\"left\")\n",
        "covid_tur_aumento_categorias"
      ],
      "execution_count": null,
      "outputs": [
        {
          "output_type": "execute_result",
          "data": {
            "text/html": [
              "<div>\n",
              "<style scoped>\n",
              "    .dataframe tbody tr th:only-of-type {\n",
              "        vertical-align: middle;\n",
              "    }\n",
              "\n",
              "    .dataframe tbody tr th {\n",
              "        vertical-align: top;\n",
              "    }\n",
              "\n",
              "    .dataframe thead th {\n",
              "        text-align: right;\n",
              "    }\n",
              "</style>\n",
              "<table border=\"1\" class=\"dataframe\">\n",
              "  <thead>\n",
              "    <tr style=\"text-align: right;\">\n",
              "      <th></th>\n",
              "      <th>city_ibge_code</th>\n",
              "      <th>estimated_population</th>\n",
              "      <th>last_available_deaths_from</th>\n",
              "      <th>last_available_deaths_to</th>\n",
              "      <th>dif</th>\n",
              "      <th>relative_dif</th>\n",
              "      <th>UF</th>\n",
              "      <th>MUNICIPIO</th>\n",
              "      <th>COD_IBGE</th>\n",
              "      <th>QUANTIDADE_VISITAS_ESTIMADAS_ NACIONAL</th>\n",
              "      <th>ARRECADACAO</th>\n",
              "      <th>CLUSTER</th>\n",
              "    </tr>\n",
              "  </thead>\n",
              "  <tbody>\n",
              "    <tr>\n",
              "      <th>0</th>\n",
              "      <td>1100023</td>\n",
              "      <td>109523.0</td>\n",
              "      <td>120.0</td>\n",
              "      <td>255.0</td>\n",
              "      <td>135.0</td>\n",
              "      <td>1.125000</td>\n",
              "      <td>RO</td>\n",
              "      <td>Ariquemes</td>\n",
              "      <td>1100023</td>\n",
              "      <td>3371</td>\n",
              "      <td>739140</td>\n",
              "      <td>C</td>\n",
              "    </tr>\n",
              "    <tr>\n",
              "      <th>1</th>\n",
              "      <td>1100049</td>\n",
              "      <td>85893.0</td>\n",
              "      <td>51.0</td>\n",
              "      <td>125.0</td>\n",
              "      <td>74.0</td>\n",
              "      <td>1.450980</td>\n",
              "      <td>RO</td>\n",
              "      <td>Cacoal</td>\n",
              "      <td>1100049</td>\n",
              "      <td>98548</td>\n",
              "      <td>866406</td>\n",
              "      <td>B</td>\n",
              "    </tr>\n",
              "    <tr>\n",
              "      <th>2</th>\n",
              "      <td>1100106</td>\n",
              "      <td>46556.0</td>\n",
              "      <td>94.0</td>\n",
              "      <td>150.0</td>\n",
              "      <td>56.0</td>\n",
              "      <td>0.595745</td>\n",
              "      <td>RO</td>\n",
              "      <td>Guajará-Mirim</td>\n",
              "      <td>1100106</td>\n",
              "      <td>34819</td>\n",
              "      <td>72309</td>\n",
              "      <td>C</td>\n",
              "    </tr>\n",
              "    <tr>\n",
              "      <th>3</th>\n",
              "      <td>1100155</td>\n",
              "      <td>35737.0</td>\n",
              "      <td>29.0</td>\n",
              "      <td>66.0</td>\n",
              "      <td>37.0</td>\n",
              "      <td>1.275862</td>\n",
              "      <td>RO</td>\n",
              "      <td>Ouro Preto do Oeste</td>\n",
              "      <td>1100155</td>\n",
              "      <td>9645</td>\n",
              "      <td>0</td>\n",
              "      <td>C</td>\n",
              "    </tr>\n",
              "    <tr>\n",
              "      <th>4</th>\n",
              "      <td>1100189</td>\n",
              "      <td>36881.0</td>\n",
              "      <td>14.0</td>\n",
              "      <td>40.0</td>\n",
              "      <td>26.0</td>\n",
              "      <td>1.857143</td>\n",
              "      <td>RO</td>\n",
              "      <td>Pimenta Bueno</td>\n",
              "      <td>1100189</td>\n",
              "      <td>29225</td>\n",
              "      <td>0</td>\n",
              "      <td>C</td>\n",
              "    </tr>\n",
              "    <tr>\n",
              "      <th>...</th>\n",
              "      <td>...</td>\n",
              "      <td>...</td>\n",
              "      <td>...</td>\n",
              "      <td>...</td>\n",
              "      <td>...</td>\n",
              "      <td>...</td>\n",
              "      <td>...</td>\n",
              "      <td>...</td>\n",
              "      <td>...</td>\n",
              "      <td>...</td>\n",
              "      <td>...</td>\n",
              "      <td>...</td>\n",
              "    </tr>\n",
              "    <tr>\n",
              "      <th>1150</th>\n",
              "      <td>5220603</td>\n",
              "      <td>20816.0</td>\n",
              "      <td>1.0</td>\n",
              "      <td>4.0</td>\n",
              "      <td>3.0</td>\n",
              "      <td>3.000000</td>\n",
              "      <td>GO</td>\n",
              "      <td>Silvânia</td>\n",
              "      <td>5220603</td>\n",
              "      <td>12425</td>\n",
              "      <td>0</td>\n",
              "      <td>D</td>\n",
              "    </tr>\n",
              "    <tr>\n",
              "      <th>1151</th>\n",
              "      <td>5221403</td>\n",
              "      <td>129823.0</td>\n",
              "      <td>172.0</td>\n",
              "      <td>230.0</td>\n",
              "      <td>58.0</td>\n",
              "      <td>0.337209</td>\n",
              "      <td>GO</td>\n",
              "      <td>Trindade</td>\n",
              "      <td>5221403</td>\n",
              "      <td>193242</td>\n",
              "      <td>546770</td>\n",
              "      <td>B</td>\n",
              "    </tr>\n",
              "    <tr>\n",
              "      <th>1152</th>\n",
              "      <td>5221601</td>\n",
              "      <td>40840.0</td>\n",
              "      <td>30.0</td>\n",
              "      <td>47.0</td>\n",
              "      <td>17.0</td>\n",
              "      <td>0.566667</td>\n",
              "      <td>GO</td>\n",
              "      <td>Uruaçu</td>\n",
              "      <td>5221601</td>\n",
              "      <td>215680</td>\n",
              "      <td>375239</td>\n",
              "      <td>B</td>\n",
              "    </tr>\n",
              "    <tr>\n",
              "      <th>1153</th>\n",
              "      <td>5221858</td>\n",
              "      <td>172135.0</td>\n",
              "      <td>135.0</td>\n",
              "      <td>187.0</td>\n",
              "      <td>52.0</td>\n",
              "      <td>0.385185</td>\n",
              "      <td>GO</td>\n",
              "      <td>Valparaíso de Goiás</td>\n",
              "      <td>5221858</td>\n",
              "      <td>3064</td>\n",
              "      <td>746468</td>\n",
              "      <td>D</td>\n",
              "    </tr>\n",
              "    <tr>\n",
              "      <th>1154</th>\n",
              "      <td>5300108</td>\n",
              "      <td>3055149.0</td>\n",
              "      <td>3781.0</td>\n",
              "      <td>4716.0</td>\n",
              "      <td>935.0</td>\n",
              "      <td>0.247289</td>\n",
              "      <td>DF</td>\n",
              "      <td>Brasília</td>\n",
              "      <td>5300108</td>\n",
              "      <td>4332053</td>\n",
              "      <td>59764674</td>\n",
              "      <td>A</td>\n",
              "    </tr>\n",
              "  </tbody>\n",
              "</table>\n",
              "<p>1155 rows × 12 columns</p>\n",
              "</div>"
            ],
            "text/plain": [
              "     city_ibge_code  estimated_population  ...  ARRECADACAO  CLUSTER\n",
              "0           1100023              109523.0  ...       739140        C\n",
              "1           1100049               85893.0  ...       866406        B\n",
              "2           1100106               46556.0  ...        72309        C\n",
              "3           1100155               35737.0  ...            0        C\n",
              "4           1100189               36881.0  ...            0        C\n",
              "...             ...                   ...  ...          ...      ...\n",
              "1150        5220603               20816.0  ...            0        D\n",
              "1151        5221403              129823.0  ...       546770        B\n",
              "1152        5221601               40840.0  ...       375239        B\n",
              "1153        5221858              172135.0  ...       746468        D\n",
              "1154        5300108             3055149.0  ...     59764674        A\n",
              "\n",
              "[1155 rows x 12 columns]"
            ]
          },
          "metadata": {
            "tags": []
          },
          "execution_count": 10
        }
      ]
    },
    {
      "cell_type": "code",
      "metadata": {
        "colab": {
          "base_uri": "https://localhost:8080/",
          "height": 301
        },
        "id": "Dz3ifwVPSU6k",
        "outputId": "c80f1649-d2f0-4cd7-8a3e-fc66e75c7203"
      },
      "source": [
        "ax = sns.boxplot(x=\"CLUSTER\", y=\"last_available_deaths_to\", data=covid_tur_aumento_categorias, showfliers = False).set_title(\"Mortalidade em dezembro de 2020\")"
      ],
      "execution_count": null,
      "outputs": [
        {
          "output_type": "display_data",
          "data": {
            "image/png": "[encoded data removed]",
            "text/plain": [
              "<Figure size 432x288 with 1 Axes>"
            ]
          },
          "metadata": {
            "tags": [],
            "needs_background": "light"
          }
        }
      ]
    },
    {
      "cell_type": "code",
      "metadata": {
        "colab": {
          "base_uri": "https://localhost:8080/",
          "height": 301
        },
        "id": "HU8iIOXklZFd",
        "outputId": "446f0546-49a4-44f4-d5a6-fa0e825b7f1c"
      },
      "source": [
        "ax = sns.boxplot(x=\"CLUSTER\", y=\"relative_dif\", data=covid_tur_aumento_categorias, showfliers = False).set_title(\"Percentual de aumento entre dezembro/20 e março/21\")"
      ],
      "execution_count": null,
      "outputs": [
        {
          "output_type": "display_data",
          "data": {
            "image/png": "[encoded data removed]",
            "text/plain": [
              "<Figure size 432x288 with 1 Axes>"
            ]
          },
          "metadata": {
            "tags": [],
            "needs_background": "light"
          }
        }
      ]
    },
    {
      "cell_type": "code",
      "metadata": {
        "colab": {
          "base_uri": "https://localhost:8080/",
          "height": 301
        },
        "id": "AknU60tl32xW",
        "outputId": "e4552c55-6b93-4715-f856-bb0f9f08a006"
      },
      "source": [
        "ax = sns.boxplot(x=\"CLUSTER\", y=\"dif\", data=covid_tur_aumento_categorias, showfliers = False).set_title(\"Aumento absoluto entre dezembro/20 e março/21\")"
      ],
      "execution_count": null,
      "outputs": [
        {
          "output_type": "display_data",
          "data": {
            "image/png": "[encoded data removed]",
            "text/plain": [
              "<Figure size 432x288 with 1 Axes>"
            ]
          },
          "metadata": {
            "tags": [],
            "needs_background": "light"
          }
        }
      ]
    },
    {
      "cell_type": "code",
      "metadata": {
        "colab": {
          "base_uri": "https://localhost:8080/"
        },
        "id": "3sbUC9yX0IsG",
        "outputId": "6c0cc3b5-afa2-4d2e-f711-b380b7ebdad3"
      },
      "source": [
        "categorias = pd.concat([covid_tur_aumento_categorias.groupby('CLUSTER').agg(\n",
        "    n_cities=('city_ibge_code','count'),\n",
        "    population_mean=('estimated_population','mean'),\n",
        "    population_median=('estimated_population','median'),\n",
        "    last_available_deaths_from_mean=('last_available_deaths_from','mean'),\n",
        "    last_available_deaths_from_median=('last_available_deaths_from','median'),\n",
        "    last_available_deaths_to_mean=('last_available_deaths_to','mean'),\n",
        "    last_available_deaths_to_median=('last_available_deaths_to','median'),    \n",
        "    dif_mean=('dif','mean'),\n",
        "    dif_median=('dif','median'),\n",
        "    relative_dif_mean=('relative_dif','mean'),\n",
        "    relative_dif_median=('relative_dif','median')\n",
        "),(covid_tur_aumento_categorias.groupby('CLUSTER').apply(lambda x: pd.np.average(x.relative_dif, weights=x.estimated_population)).rename('relative_dif_average'))], axis=1)"
      ],
      "execution_count": null,
      "outputs": [
        {
          "output_type": "stream",
          "text": [
            "/usr/local/lib/python3.7/dist-packages/ipykernel_launcher.py:13: FutureWarning: The pandas.np module is deprecated and will be removed from pandas in a future version. Import numpy directly instead\n",
            "  del sys.path[0]\n"
          ],
          "name": "stderr"
        }
      ]
    },
    {
      "cell_type": "code",
      "metadata": {
        "colab": {
          "base_uri": "https://localhost:8080/",
          "height": 222
        },
        "id": "tmSX26_ken_4",
        "outputId": "a4518463-67c7-4dfa-e671-aff42b51bc04"
      },
      "source": [
        "categorias.reset_index(inplace=True)\n",
        "categorias"
      ],
      "execution_count": null,
      "outputs": [
        {
          "output_type": "execute_result",
          "data": {
            "text/html": [
              "<div>\n",
              "<style scoped>\n",
              "    .dataframe tbody tr th:only-of-type {\n",
              "        vertical-align: middle;\n",
              "    }\n",
              "\n",
              "    .dataframe tbody tr th {\n",
              "        vertical-align: top;\n",
              "    }\n",
              "\n",
              "    .dataframe thead th {\n",
              "        text-align: right;\n",
              "    }\n",
              "</style>\n",
              "<table border=\"1\" class=\"dataframe\">\n",
              "  <thead>\n",
              "    <tr style=\"text-align: right;\">\n",
              "      <th></th>\n",
              "      <th>CLUSTER</th>\n",
              "      <th>n_cities</th>\n",
              "      <th>population_mean</th>\n",
              "      <th>population_median</th>\n",
              "      <th>last_available_deaths_from_mean</th>\n",
              "      <th>last_available_deaths_from_median</th>\n",
              "      <th>last_available_deaths_to_mean</th>\n",
              "      <th>last_available_deaths_to_median</th>\n",
              "      <th>dif_mean</th>\n",
              "      <th>dif_median</th>\n",
              "      <th>relative_dif_mean</th>\n",
              "      <th>relative_dif_median</th>\n",
              "      <th>relative_dif_average</th>\n",
              "    </tr>\n",
              "  </thead>\n",
              "  <tbody>\n",
              "    <tr>\n",
              "      <th>0</th>\n",
              "      <td>A</td>\n",
              "      <td>59</td>\n",
              "      <td>984885.593220</td>\n",
              "      <td>419652.0</td>\n",
              "      <td>1287.881356</td>\n",
              "      <td>455.0</td>\n",
              "      <td>1865.508475</td>\n",
              "      <td>705.0</td>\n",
              "      <td>577.627119</td>\n",
              "      <td>262.0</td>\n",
              "      <td>0.592370</td>\n",
              "      <td>0.536103</td>\n",
              "      <td>0.469390</td>\n",
              "    </tr>\n",
              "    <tr>\n",
              "      <th>1</th>\n",
              "      <td>B</td>\n",
              "      <td>238</td>\n",
              "      <td>183898.054622</td>\n",
              "      <td>123057.0</td>\n",
              "      <td>159.529412</td>\n",
              "      <td>85.0</td>\n",
              "      <td>250.113445</td>\n",
              "      <td>143.0</td>\n",
              "      <td>90.584034</td>\n",
              "      <td>58.0</td>\n",
              "      <td>0.782802</td>\n",
              "      <td>0.572646</td>\n",
              "      <td>0.692379</td>\n",
              "    </tr>\n",
              "    <tr>\n",
              "      <th>2</th>\n",
              "      <td>C</td>\n",
              "      <td>397</td>\n",
              "      <td>74728.382872</td>\n",
              "      <td>51338.0</td>\n",
              "      <td>58.221662</td>\n",
              "      <td>32.0</td>\n",
              "      <td>91.327456</td>\n",
              "      <td>52.0</td>\n",
              "      <td>33.105793</td>\n",
              "      <td>20.0</td>\n",
              "      <td>0.821278</td>\n",
              "      <td>0.634146</td>\n",
              "      <td>0.709165</td>\n",
              "    </tr>\n",
              "    <tr>\n",
              "      <th>3</th>\n",
              "      <td>D</td>\n",
              "      <td>450</td>\n",
              "      <td>39418.280000</td>\n",
              "      <td>30428.5</td>\n",
              "      <td>25.397778</td>\n",
              "      <td>16.0</td>\n",
              "      <td>39.795556</td>\n",
              "      <td>28.0</td>\n",
              "      <td>14.397778</td>\n",
              "      <td>10.0</td>\n",
              "      <td>0.933492</td>\n",
              "      <td>0.666667</td>\n",
              "      <td>0.805825</td>\n",
              "    </tr>\n",
              "    <tr>\n",
              "      <th>4</th>\n",
              "      <td>E</td>\n",
              "      <td>11</td>\n",
              "      <td>39515.181818</td>\n",
              "      <td>24382.0</td>\n",
              "      <td>20.454545</td>\n",
              "      <td>14.0</td>\n",
              "      <td>35.454545</td>\n",
              "      <td>24.0</td>\n",
              "      <td>15.000000</td>\n",
              "      <td>8.0</td>\n",
              "      <td>0.729664</td>\n",
              "      <td>0.866667</td>\n",
              "      <td>0.870311</td>\n",
              "    </tr>\n",
              "  </tbody>\n",
              "</table>\n",
              "</div>"
            ],
            "text/plain": [
              "  CLUSTER  n_cities  ...  relative_dif_median  relative_dif_average\n",
              "0       A        59  ...             0.536103              0.469390\n",
              "1       B       238  ...             0.572646              0.692379\n",
              "2       C       397  ...             0.634146              0.709165\n",
              "3       D       450  ...             0.666667              0.805825\n",
              "4       E        11  ...             0.866667              0.870311\n",
              "\n",
              "[5 rows x 13 columns]"
            ]
          },
          "metadata": {
            "tags": []
          },
          "execution_count": 15
        }
      ]
    },
    {
      "cell_type": "code",
      "metadata": {
        "colab": {
          "base_uri": "https://localhost:8080/",
          "height": 301
        },
        "id": "hDERvqNAUIkq",
        "outputId": "d80d385c-25df-4588-a242-c4670a686863"
      },
      "source": [
        "ax = sns.boxplot(x=\"CLUSTER\", y=\"relative_dif_average\", data=categorias, showfliers = False).set_title(\"Aumento considerando tamanho entre dezembro/20 e março/21\")"
      ],
      "execution_count": null,
      "outputs": [
        {
          "output_type": "display_data",
          "data": {
            "image/png": "[encoded data removed]",
            "text/plain": [
              "<Figure size 432x288 with 1 Axes>"
            ]
          },
          "metadata": {
            "tags": [],
            "needs_background": "light"
          }
        }
      ]
    },
    {
      "cell_type": "markdown",
      "metadata": {
        "id": "54xU8c2-o7cO"
      },
      "source": [
        "**Métricas em ordem decrescente**"
      ]
    },
    {
      "cell_type": "code",
      "metadata": {
        "colab": {
          "base_uri": "https://localhost:8080/",
          "height": 202
        },
        "id": "Vqf_Fbj-Nc3o",
        "outputId": "98d3067d-6db2-4a9c-e7ee-f77afe9a3224"
      },
      "source": [
        "mediana_aumento_mortalidade_abs = categorias.sort_values(ascending=False, by=\"dif_median\")\n",
        "mediana_aumento_mortalidade_abs[[\"CLUSTER\",\"dif_median\"]]"
      ],
      "execution_count": null,
      "outputs": [
        {
          "output_type": "execute_result",
          "data": {
            "text/html": [
              "<div>\n",
              "<style scoped>\n",
              "    .dataframe tbody tr th:only-of-type {\n",
              "        vertical-align: middle;\n",
              "    }\n",
              "\n",
              "    .dataframe tbody tr th {\n",
              "        vertical-align: top;\n",
              "    }\n",
              "\n",
              "    .dataframe thead th {\n",
              "        text-align: right;\n",
              "    }\n",
              "</style>\n",
              "<table border=\"1\" class=\"dataframe\">\n",
              "  <thead>\n",
              "    <tr style=\"text-align: right;\">\n",
              "      <th></th>\n",
              "      <th>CLUSTER</th>\n",
              "      <th>dif_median</th>\n",
              "    </tr>\n",
              "  </thead>\n",
              "  <tbody>\n",
              "    <tr>\n",
              "      <th>0</th>\n",
              "      <td>A</td>\n",
              "      <td>262.0</td>\n",
              "    </tr>\n",
              "    <tr>\n",
              "      <th>1</th>\n",
              "      <td>B</td>\n",
              "      <td>58.0</td>\n",
              "    </tr>\n",
              "    <tr>\n",
              "      <th>2</th>\n",
              "      <td>C</td>\n",
              "      <td>20.0</td>\n",
              "    </tr>\n",
              "    <tr>\n",
              "      <th>3</th>\n",
              "      <td>D</td>\n",
              "      <td>10.0</td>\n",
              "    </tr>\n",
              "    <tr>\n",
              "      <th>4</th>\n",
              "      <td>E</td>\n",
              "      <td>8.0</td>\n",
              "    </tr>\n",
              "  </tbody>\n",
              "</table>\n",
              "</div>"
            ],
            "text/plain": [
              "  CLUSTER  dif_median\n",
              "0       A       262.0\n",
              "1       B        58.0\n",
              "2       C        20.0\n",
              "3       D        10.0\n",
              "4       E         8.0"
            ]
          },
          "metadata": {
            "tags": []
          },
          "execution_count": 17
        }
      ]
    },
    {
      "cell_type": "code",
      "metadata": {
        "colab": {
          "base_uri": "https://localhost:8080/",
          "height": 202
        },
        "id": "HAnPZn_5tfFH",
        "outputId": "696e2bf0-dbd5-4664-b033-5f9321d1898f"
      },
      "source": [
        "mediana_aumento_mortalidade_rel = categorias.sort_values(ascending=False, by=\"relative_dif_median\")\n",
        "mediana_aumento_mortalidade_rel[[\"CLUSTER\",\"relative_dif_median\"]]"
      ],
      "execution_count": null,
      "outputs": [
        {
          "output_type": "execute_result",
          "data": {
            "text/html": [
              "<div>\n",
              "<style scoped>\n",
              "    .dataframe tbody tr th:only-of-type {\n",
              "        vertical-align: middle;\n",
              "    }\n",
              "\n",
              "    .dataframe tbody tr th {\n",
              "        vertical-align: top;\n",
              "    }\n",
              "\n",
              "    .dataframe thead th {\n",
              "        text-align: right;\n",
              "    }\n",
              "</style>\n",
              "<table border=\"1\" class=\"dataframe\">\n",
              "  <thead>\n",
              "    <tr style=\"text-align: right;\">\n",
              "      <th></th>\n",
              "      <th>CLUSTER</th>\n",
              "      <th>relative_dif_median</th>\n",
              "    </tr>\n",
              "  </thead>\n",
              "  <tbody>\n",
              "    <tr>\n",
              "      <th>4</th>\n",
              "      <td>E</td>\n",
              "      <td>0.866667</td>\n",
              "    </tr>\n",
              "    <tr>\n",
              "      <th>3</th>\n",
              "      <td>D</td>\n",
              "      <td>0.666667</td>\n",
              "    </tr>\n",
              "    <tr>\n",
              "      <th>2</th>\n",
              "      <td>C</td>\n",
              "      <td>0.634146</td>\n",
              "    </tr>\n",
              "    <tr>\n",
              "      <th>1</th>\n",
              "      <td>B</td>\n",
              "      <td>0.572646</td>\n",
              "    </tr>\n",
              "    <tr>\n",
              "      <th>0</th>\n",
              "      <td>A</td>\n",
              "      <td>0.536103</td>\n",
              "    </tr>\n",
              "  </tbody>\n",
              "</table>\n",
              "</div>"
            ],
            "text/plain": [
              "  CLUSTER  relative_dif_median\n",
              "4       E             0.866667\n",
              "3       D             0.666667\n",
              "2       C             0.634146\n",
              "1       B             0.572646\n",
              "0       A             0.536103"
            ]
          },
          "metadata": {
            "tags": []
          },
          "execution_count": 18
        }
      ]
    },
    {
      "cell_type": "code",
      "metadata": {
        "colab": {
          "base_uri": "https://localhost:8080/",
          "height": 202
        },
        "id": "6qEmLZRiet3V",
        "outputId": "35f53b19-0915-4606-9779-9c9470d09133"
      },
      "source": [
        "aumento_considerando_populacao = categorias.sort_values(ascending=False, by=\"relative_dif_average\")\n",
        "aumento_considerando_populacao[[\"CLUSTER\",\"relative_dif_average\"]]"
      ],
      "execution_count": null,
      "outputs": [
        {
          "output_type": "execute_result",
          "data": {
            "text/html": [
              "<div>\n",
              "<style scoped>\n",
              "    .dataframe tbody tr th:only-of-type {\n",
              "        vertical-align: middle;\n",
              "    }\n",
              "\n",
              "    .dataframe tbody tr th {\n",
              "        vertical-align: top;\n",
              "    }\n",
              "\n",
              "    .dataframe thead th {\n",
              "        text-align: right;\n",
              "    }\n",
              "</style>\n",
              "<table border=\"1\" class=\"dataframe\">\n",
              "  <thead>\n",
              "    <tr style=\"text-align: right;\">\n",
              "      <th></th>\n",
              "      <th>CLUSTER</th>\n",
              "      <th>relative_dif_average</th>\n",
              "    </tr>\n",
              "  </thead>\n",
              "  <tbody>\n",
              "    <tr>\n",
              "      <th>4</th>\n",
              "      <td>E</td>\n",
              "      <td>0.870311</td>\n",
              "    </tr>\n",
              "    <tr>\n",
              "      <th>3</th>\n",
              "      <td>D</td>\n",
              "      <td>0.805825</td>\n",
              "    </tr>\n",
              "    <tr>\n",
              "      <th>2</th>\n",
              "      <td>C</td>\n",
              "      <td>0.709165</td>\n",
              "    </tr>\n",
              "    <tr>\n",
              "      <th>1</th>\n",
              "      <td>B</td>\n",
              "      <td>0.692379</td>\n",
              "    </tr>\n",
              "    <tr>\n",
              "      <th>0</th>\n",
              "      <td>A</td>\n",
              "      <td>0.469390</td>\n",
              "    </tr>\n",
              "  </tbody>\n",
              "</table>\n",
              "</div>"
            ],
            "text/plain": [
              "  CLUSTER  relative_dif_average\n",
              "4       E              0.870311\n",
              "3       D              0.805825\n",
              "2       C              0.709165\n",
              "1       B              0.692379\n",
              "0       A              0.469390"
            ]
          },
          "metadata": {
            "tags": []
          },
          "execution_count": 19
        }
      ]
    },
    {
      "cell_type": "code",
      "metadata": {
        "colab": {
          "base_uri": "https://localhost:8080/",
          "height": 263
        },
        "id": "iEUlySprHgKh",
        "outputId": "9244336f-a4dd-4b3b-a0bc-4c48b28f1895"
      },
      "source": [
        "covid_tur_aumento_categorias.groupby('CLUSTER')['UF'].value_counts().to_frame().unstack()"
      ],
      "execution_count": null,
      "outputs": [
        {
          "output_type": "execute_result",
          "data": {
            "text/html": [
              "<div>\n",
              "<style scoped>\n",
              "    .dataframe tbody tr th:only-of-type {\n",
              "        vertical-align: middle;\n",
              "    }\n",
              "\n",
              "    .dataframe tbody tr th {\n",
              "        vertical-align: top;\n",
              "    }\n",
              "\n",
              "    .dataframe thead tr th {\n",
              "        text-align: left;\n",
              "    }\n",
              "\n",
              "    .dataframe thead tr:last-of-type th {\n",
              "        text-align: right;\n",
              "    }\n",
              "</style>\n",
              "<table border=\"1\" class=\"dataframe\">\n",
              "  <thead>\n",
              "    <tr>\n",
              "      <th></th>\n",
              "      <th colspan=\"27\" halign=\"left\">UF</th>\n",
              "    </tr>\n",
              "    <tr>\n",
              "      <th>UF</th>\n",
              "      <th>AC</th>\n",
              "      <th>AL</th>\n",
              "      <th>AM</th>\n",
              "      <th>AP</th>\n",
              "      <th>BA</th>\n",
              "      <th>CE</th>\n",
              "      <th>DF</th>\n",
              "      <th>ES</th>\n",
              "      <th>GO</th>\n",
              "      <th>MA</th>\n",
              "      <th>MG</th>\n",
              "      <th>MS</th>\n",
              "      <th>MT</th>\n",
              "      <th>PA</th>\n",
              "      <th>PB</th>\n",
              "      <th>PE</th>\n",
              "      <th>PI</th>\n",
              "      <th>PR</th>\n",
              "      <th>RJ</th>\n",
              "      <th>RN</th>\n",
              "      <th>RO</th>\n",
              "      <th>RR</th>\n",
              "      <th>RS</th>\n",
              "      <th>SC</th>\n",
              "      <th>SE</th>\n",
              "      <th>SP</th>\n",
              "      <th>TO</th>\n",
              "    </tr>\n",
              "    <tr>\n",
              "      <th>CLUSTER</th>\n",
              "      <th></th>\n",
              "      <th></th>\n",
              "      <th></th>\n",
              "      <th></th>\n",
              "      <th></th>\n",
              "      <th></th>\n",
              "      <th></th>\n",
              "      <th></th>\n",
              "      <th></th>\n",
              "      <th></th>\n",
              "      <th></th>\n",
              "      <th></th>\n",
              "      <th></th>\n",
              "      <th></th>\n",
              "      <th></th>\n",
              "      <th></th>\n",
              "      <th></th>\n",
              "      <th></th>\n",
              "      <th></th>\n",
              "      <th></th>\n",
              "      <th></th>\n",
              "      <th></th>\n",
              "      <th></th>\n",
              "      <th></th>\n",
              "      <th></th>\n",
              "      <th></th>\n",
              "      <th></th>\n",
              "    </tr>\n",
              "  </thead>\n",
              "  <tbody>\n",
              "    <tr>\n",
              "      <th>A</th>\n",
              "      <td>1.0</td>\n",
              "      <td>2.0</td>\n",
              "      <td>1.0</td>\n",
              "      <td>1.0</td>\n",
              "      <td>4.0</td>\n",
              "      <td>2.0</td>\n",
              "      <td>1.0</td>\n",
              "      <td>1.0</td>\n",
              "      <td>2.0</td>\n",
              "      <td>1.0</td>\n",
              "      <td>3.0</td>\n",
              "      <td>1.0</td>\n",
              "      <td>1.0</td>\n",
              "      <td>1.0</td>\n",
              "      <td>1.0</td>\n",
              "      <td>2.0</td>\n",
              "      <td>1.0</td>\n",
              "      <td>3.0</td>\n",
              "      <td>7.0</td>\n",
              "      <td>1.0</td>\n",
              "      <td>1.0</td>\n",
              "      <td>1.0</td>\n",
              "      <td>2.0</td>\n",
              "      <td>5.0</td>\n",
              "      <td>1.0</td>\n",
              "      <td>11.0</td>\n",
              "      <td>1.0</td>\n",
              "    </tr>\n",
              "    <tr>\n",
              "      <th>B</th>\n",
              "      <td>NaN</td>\n",
              "      <td>1.0</td>\n",
              "      <td>NaN</td>\n",
              "      <td>NaN</td>\n",
              "      <td>19.0</td>\n",
              "      <td>12.0</td>\n",
              "      <td>NaN</td>\n",
              "      <td>11.0</td>\n",
              "      <td>12.0</td>\n",
              "      <td>4.0</td>\n",
              "      <td>27.0</td>\n",
              "      <td>5.0</td>\n",
              "      <td>8.0</td>\n",
              "      <td>6.0</td>\n",
              "      <td>2.0</td>\n",
              "      <td>10.0</td>\n",
              "      <td>2.0</td>\n",
              "      <td>14.0</td>\n",
              "      <td>17.0</td>\n",
              "      <td>2.0</td>\n",
              "      <td>2.0</td>\n",
              "      <td>NaN</td>\n",
              "      <td>21.0</td>\n",
              "      <td>15.0</td>\n",
              "      <td>NaN</td>\n",
              "      <td>46.0</td>\n",
              "      <td>2.0</td>\n",
              "    </tr>\n",
              "    <tr>\n",
              "      <th>C</th>\n",
              "      <td>2.0</td>\n",
              "      <td>6.0</td>\n",
              "      <td>9.0</td>\n",
              "      <td>2.0</td>\n",
              "      <td>25.0</td>\n",
              "      <td>23.0</td>\n",
              "      <td>NaN</td>\n",
              "      <td>9.0</td>\n",
              "      <td>14.0</td>\n",
              "      <td>8.0</td>\n",
              "      <td>50.0</td>\n",
              "      <td>10.0</td>\n",
              "      <td>14.0</td>\n",
              "      <td>16.0</td>\n",
              "      <td>4.0</td>\n",
              "      <td>10.0</td>\n",
              "      <td>4.0</td>\n",
              "      <td>26.0</td>\n",
              "      <td>20.0</td>\n",
              "      <td>10.0</td>\n",
              "      <td>4.0</td>\n",
              "      <td>NaN</td>\n",
              "      <td>29.0</td>\n",
              "      <td>18.0</td>\n",
              "      <td>6.0</td>\n",
              "      <td>73.0</td>\n",
              "      <td>5.0</td>\n",
              "    </tr>\n",
              "    <tr>\n",
              "      <th>D</th>\n",
              "      <td>3.0</td>\n",
              "      <td>16.0</td>\n",
              "      <td>9.0</td>\n",
              "      <td>1.0</td>\n",
              "      <td>30.0</td>\n",
              "      <td>15.0</td>\n",
              "      <td>NaN</td>\n",
              "      <td>9.0</td>\n",
              "      <td>6.0</td>\n",
              "      <td>19.0</td>\n",
              "      <td>52.0</td>\n",
              "      <td>5.0</td>\n",
              "      <td>7.0</td>\n",
              "      <td>21.0</td>\n",
              "      <td>16.0</td>\n",
              "      <td>38.0</td>\n",
              "      <td>3.0</td>\n",
              "      <td>32.0</td>\n",
              "      <td>16.0</td>\n",
              "      <td>9.0</td>\n",
              "      <td>3.0</td>\n",
              "      <td>1.0</td>\n",
              "      <td>41.0</td>\n",
              "      <td>17.0</td>\n",
              "      <td>13.0</td>\n",
              "      <td>67.0</td>\n",
              "      <td>1.0</td>\n",
              "    </tr>\n",
              "    <tr>\n",
              "      <th>E</th>\n",
              "      <td>NaN</td>\n",
              "      <td>2.0</td>\n",
              "      <td>NaN</td>\n",
              "      <td>NaN</td>\n",
              "      <td>3.0</td>\n",
              "      <td>1.0</td>\n",
              "      <td>NaN</td>\n",
              "      <td>NaN</td>\n",
              "      <td>NaN</td>\n",
              "      <td>NaN</td>\n",
              "      <td>2.0</td>\n",
              "      <td>NaN</td>\n",
              "      <td>NaN</td>\n",
              "      <td>NaN</td>\n",
              "      <td>NaN</td>\n",
              "      <td>1.0</td>\n",
              "      <td>NaN</td>\n",
              "      <td>NaN</td>\n",
              "      <td>NaN</td>\n",
              "      <td>NaN</td>\n",
              "      <td>NaN</td>\n",
              "      <td>NaN</td>\n",
              "      <td>NaN</td>\n",
              "      <td>1.0</td>\n",
              "      <td>NaN</td>\n",
              "      <td>1.0</td>\n",
              "      <td>NaN</td>\n",
              "    </tr>\n",
              "  </tbody>\n",
              "</table>\n",
              "</div>"
            ],
            "text/plain": [
              "          UF                              ...                                  \n",
              "UF        AC    AL   AM   AP    BA    CE  ...   RR    RS    SC    SE    SP   TO\n",
              "CLUSTER                                   ...                                  \n",
              "A        1.0   2.0  1.0  1.0   4.0   2.0  ...  1.0   2.0   5.0   1.0  11.0  1.0\n",
              "B        NaN   1.0  NaN  NaN  19.0  12.0  ...  NaN  21.0  15.0   NaN  46.0  2.0\n",
              "C        2.0   6.0  9.0  2.0  25.0  23.0  ...  NaN  29.0  18.0   6.0  73.0  5.0\n",
              "D        3.0  16.0  9.0  1.0  30.0  15.0  ...  1.0  41.0  17.0  13.0  67.0  1.0\n",
              "E        NaN   2.0  NaN  NaN   3.0   1.0  ...  NaN   NaN   1.0   NaN   1.0  NaN\n",
              "\n",
              "[5 rows x 27 columns]"
            ]
          },
          "metadata": {
            "tags": []
          },
          "execution_count": 20
        }
      ]
    },
    {
      "cell_type": "markdown",
      "metadata": {
        "id": "vZXgMpmoS6JN"
      },
      "source": [
        "http://dados.turismo.gov.br/categorizacao\n"
      ]
    },
    {
      "cell_type": "code",
      "metadata": {
        "id": "uF5Eqe44KHfB"
      },
      "source": [
        ""
      ],
      "execution_count": null,
      "outputs": []
    },
    {
      "cell_type": "code",
      "metadata": {
        "id": "0Wr0qdLdKHW6"
      },
      "source": [
        ""
      ],
      "execution_count": null,
      "outputs": []
    },
    {
      "cell_type": "code",
      "metadata": {
        "id": "uIGRaoefKHKs"
      },
      "source": [
        ""
      ],
      "execution_count": null,
      "outputs": []
    },
    {
      "cell_type": "code",
      "metadata": {
        "id": "INXHkn77KHHh"
      },
      "source": [
        ""
      ],
      "execution_count": null,
      "outputs": []
    },
    {
      "cell_type": "markdown",
      "metadata": {
        "id": "_AnBbksoMokz"
      },
      "source": [
        "# **Entre 17 de dezembro de 2020 e 16 de janeiro de 2021**"
      ]
    },
    {
      "cell_type": "code",
      "metadata": {
        "colab": {
          "base_uri": "https://localhost:8080/",
          "height": 414
        },
        "id": "7ORnLKDCO6R3",
        "outputId": "c78ac9ef-ba73-446f-9a59-a3f2a87b6f52"
      },
      "source": [
        "covid_tur_aumento = covid_tur.groupby(['city_ibge_code', 'estimated_population']).apply(calcula_aumento_relativo, x_col='last_available_deaths', date_col='date', from_date='2020-12-17', to_date='2021-01-16').to_frame()\n",
        "covid_tur_aumento.rename(columns={0: \"explodir\"}, inplace=True)\n",
        "covid_tur_aumento = covid_tur_aumento['explodir'].apply(pd.Series)\n",
        "covid_tur_aumento.reset_index(inplace=True)\n",
        "covid_tur_aumento.sort_values(by='relative_dif', ascending=False)"
      ],
      "execution_count": null,
      "outputs": [
        {
          "output_type": "execute_result",
          "data": {
            "text/html": [
              "<div>\n",
              "<style scoped>\n",
              "    .dataframe tbody tr th:only-of-type {\n",
              "        vertical-align: middle;\n",
              "    }\n",
              "\n",
              "    .dataframe tbody tr th {\n",
              "        vertical-align: top;\n",
              "    }\n",
              "\n",
              "    .dataframe thead th {\n",
              "        text-align: right;\n",
              "    }\n",
              "</style>\n",
              "<table border=\"1\" class=\"dataframe\">\n",
              "  <thead>\n",
              "    <tr style=\"text-align: right;\">\n",
              "      <th></th>\n",
              "      <th>city_ibge_code</th>\n",
              "      <th>estimated_population</th>\n",
              "      <th>last_available_deaths_from</th>\n",
              "      <th>last_available_deaths_to</th>\n",
              "      <th>dif</th>\n",
              "      <th>relative_dif</th>\n",
              "    </tr>\n",
              "  </thead>\n",
              "  <tbody>\n",
              "    <tr>\n",
              "      <th>395</th>\n",
              "      <td>2923605</td>\n",
              "      <td>21695.0</td>\n",
              "      <td>1.0</td>\n",
              "      <td>6.0</td>\n",
              "      <td>5.0</td>\n",
              "      <td>5.000000</td>\n",
              "    </tr>\n",
              "    <tr>\n",
              "      <th>866</th>\n",
              "      <td>4106506</td>\n",
              "      <td>20580.0</td>\n",
              "      <td>2.0</td>\n",
              "      <td>8.0</td>\n",
              "      <td>6.0</td>\n",
              "      <td>3.000000</td>\n",
              "    </tr>\n",
              "    <tr>\n",
              "      <th>985</th>\n",
              "      <td>4304200</td>\n",
              "      <td>31421.0</td>\n",
              "      <td>5.0</td>\n",
              "      <td>16.0</td>\n",
              "      <td>11.0</td>\n",
              "      <td>2.200000</td>\n",
              "    </tr>\n",
              "    <tr>\n",
              "      <th>527</th>\n",
              "      <td>3154002</td>\n",
              "      <td>23711.0</td>\n",
              "      <td>4.0</td>\n",
              "      <td>12.0</td>\n",
              "      <td>8.0</td>\n",
              "      <td>2.000000</td>\n",
              "    </tr>\n",
              "    <tr>\n",
              "      <th>496</th>\n",
              "      <td>3141801</td>\n",
              "      <td>31497.0</td>\n",
              "      <td>2.0</td>\n",
              "      <td>5.0</td>\n",
              "      <td>3.0</td>\n",
              "      <td>1.500000</td>\n",
              "    </tr>\n",
              "    <tr>\n",
              "      <th>...</th>\n",
              "      <td>...</td>\n",
              "      <td>...</td>\n",
              "      <td>...</td>\n",
              "      <td>...</td>\n",
              "      <td>...</td>\n",
              "      <td>...</td>\n",
              "    </tr>\n",
              "    <tr>\n",
              "      <th>50</th>\n",
              "      <td>1502707</td>\n",
              "      <td>47991.0</td>\n",
              "      <td>28.0</td>\n",
              "      <td>28.0</td>\n",
              "      <td>0.0</td>\n",
              "      <td>0.000000</td>\n",
              "    </tr>\n",
              "    <tr>\n",
              "      <th>266</th>\n",
              "      <td>2609501</td>\n",
              "      <td>32573.0</td>\n",
              "      <td>30.0</td>\n",
              "      <td>30.0</td>\n",
              "      <td>0.0</td>\n",
              "      <td>0.000000</td>\n",
              "    </tr>\n",
              "    <tr>\n",
              "      <th>210</th>\n",
              "      <td>2414407</td>\n",
              "      <td>33503.0</td>\n",
              "      <td>24.0</td>\n",
              "      <td>23.0</td>\n",
              "      <td>-1.0</td>\n",
              "      <td>-0.041667</td>\n",
              "    </tr>\n",
              "    <tr>\n",
              "      <th>802</th>\n",
              "      <td>3546306</td>\n",
              "      <td>34737.0</td>\n",
              "      <td>24.0</td>\n",
              "      <td>23.0</td>\n",
              "      <td>-1.0</td>\n",
              "      <td>-0.041667</td>\n",
              "    </tr>\n",
              "    <tr>\n",
              "      <th>197</th>\n",
              "      <td>2403103</td>\n",
              "      <td>44905.0</td>\n",
              "      <td>22.0</td>\n",
              "      <td>21.0</td>\n",
              "      <td>-1.0</td>\n",
              "      <td>-0.045455</td>\n",
              "    </tr>\n",
              "  </tbody>\n",
              "</table>\n",
              "<p>1155 rows × 6 columns</p>\n",
              "</div>"
            ],
            "text/plain": [
              "    city_ibge_code  estimated_population  ...   dif  relative_dif\n",
              "395        2923605               21695.0  ...   5.0      5.000000\n",
              "866        4106506               20580.0  ...   6.0      3.000000\n",
              "985        4304200               31421.0  ...  11.0      2.200000\n",
              "527        3154002               23711.0  ...   8.0      2.000000\n",
              "496        3141801               31497.0  ...   3.0      1.500000\n",
              "..             ...                   ...  ...   ...           ...\n",
              "50         1502707               47991.0  ...   0.0      0.000000\n",
              "266        2609501               32573.0  ...   0.0      0.000000\n",
              "210        2414407               33503.0  ...  -1.0     -0.041667\n",
              "802        3546306               34737.0  ...  -1.0     -0.041667\n",
              "197        2403103               44905.0  ...  -1.0     -0.045455\n",
              "\n",
              "[1155 rows x 6 columns]"
            ]
          },
          "metadata": {
            "tags": []
          },
          "execution_count": 21
        }
      ]
    },
    {
      "cell_type": "code",
      "metadata": {
        "colab": {
          "base_uri": "https://localhost:8080/",
          "height": 517
        },
        "id": "qdrsWNbhO6SS",
        "outputId": "3ae25c23-abd5-4369-95a9-279b01096784"
      },
      "source": [
        "covid_tur_aumento_categorias = pd.merge(covid_tur_aumento, cidades_turisticas, left_on=\"city_ibge_code\", right_on=\"COD_IBGE\", how=\"left\")\n",
        "covid_tur_aumento_categorias"
      ],
      "execution_count": null,
      "outputs": [
        {
          "output_type": "execute_result",
          "data": {
            "text/html": [
              "<div>\n",
              "<style scoped>\n",
              "    .dataframe tbody tr th:only-of-type {\n",
              "        vertical-align: middle;\n",
              "    }\n",
              "\n",
              "    .dataframe tbody tr th {\n",
              "        vertical-align: top;\n",
              "    }\n",
              "\n",
              "    .dataframe thead th {\n",
              "        text-align: right;\n",
              "    }\n",
              "</style>\n",
              "<table border=\"1\" class=\"dataframe\">\n",
              "  <thead>\n",
              "    <tr style=\"text-align: right;\">\n",
              "      <th></th>\n",
              "      <th>city_ibge_code</th>\n",
              "      <th>estimated_population</th>\n",
              "      <th>last_available_deaths_from</th>\n",
              "      <th>last_available_deaths_to</th>\n",
              "      <th>dif</th>\n",
              "      <th>relative_dif</th>\n",
              "      <th>UF</th>\n",
              "      <th>MUNICIPIO</th>\n",
              "      <th>COD_IBGE</th>\n",
              "      <th>QUANTIDADE_VISITAS_ESTIMADAS_ NACIONAL</th>\n",
              "      <th>ARRECADACAO</th>\n",
              "      <th>CLUSTER</th>\n",
              "    </tr>\n",
              "  </thead>\n",
              "  <tbody>\n",
              "    <tr>\n",
              "      <th>0</th>\n",
              "      <td>1100023</td>\n",
              "      <td>109523.0</td>\n",
              "      <td>120.0</td>\n",
              "      <td>159.0</td>\n",
              "      <td>39.0</td>\n",
              "      <td>0.325000</td>\n",
              "      <td>RO</td>\n",
              "      <td>Ariquemes</td>\n",
              "      <td>1100023</td>\n",
              "      <td>3371</td>\n",
              "      <td>739140</td>\n",
              "      <td>C</td>\n",
              "    </tr>\n",
              "    <tr>\n",
              "      <th>1</th>\n",
              "      <td>1100049</td>\n",
              "      <td>85893.0</td>\n",
              "      <td>51.0</td>\n",
              "      <td>73.0</td>\n",
              "      <td>22.0</td>\n",
              "      <td>0.431373</td>\n",
              "      <td>RO</td>\n",
              "      <td>Cacoal</td>\n",
              "      <td>1100049</td>\n",
              "      <td>98548</td>\n",
              "      <td>866406</td>\n",
              "      <td>B</td>\n",
              "    </tr>\n",
              "    <tr>\n",
              "      <th>2</th>\n",
              "      <td>1100106</td>\n",
              "      <td>46556.0</td>\n",
              "      <td>94.0</td>\n",
              "      <td>95.0</td>\n",
              "      <td>1.0</td>\n",
              "      <td>0.010638</td>\n",
              "      <td>RO</td>\n",
              "      <td>Guajará-Mirim</td>\n",
              "      <td>1100106</td>\n",
              "      <td>34819</td>\n",
              "      <td>72309</td>\n",
              "      <td>C</td>\n",
              "    </tr>\n",
              "    <tr>\n",
              "      <th>3</th>\n",
              "      <td>1100155</td>\n",
              "      <td>35737.0</td>\n",
              "      <td>29.0</td>\n",
              "      <td>37.0</td>\n",
              "      <td>8.0</td>\n",
              "      <td>0.275862</td>\n",
              "      <td>RO</td>\n",
              "      <td>Ouro Preto do Oeste</td>\n",
              "      <td>1100155</td>\n",
              "      <td>9645</td>\n",
              "      <td>0</td>\n",
              "      <td>C</td>\n",
              "    </tr>\n",
              "    <tr>\n",
              "      <th>4</th>\n",
              "      <td>1100189</td>\n",
              "      <td>36881.0</td>\n",
              "      <td>14.0</td>\n",
              "      <td>20.0</td>\n",
              "      <td>6.0</td>\n",
              "      <td>0.428571</td>\n",
              "      <td>RO</td>\n",
              "      <td>Pimenta Bueno</td>\n",
              "      <td>1100189</td>\n",
              "      <td>29225</td>\n",
              "      <td>0</td>\n",
              "      <td>C</td>\n",
              "    </tr>\n",
              "    <tr>\n",
              "      <th>...</th>\n",
              "      <td>...</td>\n",
              "      <td>...</td>\n",
              "      <td>...</td>\n",
              "      <td>...</td>\n",
              "      <td>...</td>\n",
              "      <td>...</td>\n",
              "      <td>...</td>\n",
              "      <td>...</td>\n",
              "      <td>...</td>\n",
              "      <td>...</td>\n",
              "      <td>...</td>\n",
              "      <td>...</td>\n",
              "    </tr>\n",
              "    <tr>\n",
              "      <th>1150</th>\n",
              "      <td>5220603</td>\n",
              "      <td>20816.0</td>\n",
              "      <td>1.0</td>\n",
              "      <td>2.0</td>\n",
              "      <td>1.0</td>\n",
              "      <td>1.000000</td>\n",
              "      <td>GO</td>\n",
              "      <td>Silvânia</td>\n",
              "      <td>5220603</td>\n",
              "      <td>12425</td>\n",
              "      <td>0</td>\n",
              "      <td>D</td>\n",
              "    </tr>\n",
              "    <tr>\n",
              "      <th>1151</th>\n",
              "      <td>5221403</td>\n",
              "      <td>129823.0</td>\n",
              "      <td>172.0</td>\n",
              "      <td>181.0</td>\n",
              "      <td>9.0</td>\n",
              "      <td>0.052326</td>\n",
              "      <td>GO</td>\n",
              "      <td>Trindade</td>\n",
              "      <td>5221403</td>\n",
              "      <td>193242</td>\n",
              "      <td>546770</td>\n",
              "      <td>B</td>\n",
              "    </tr>\n",
              "    <tr>\n",
              "      <th>1152</th>\n",
              "      <td>5221601</td>\n",
              "      <td>40840.0</td>\n",
              "      <td>30.0</td>\n",
              "      <td>30.0</td>\n",
              "      <td>0.0</td>\n",
              "      <td>0.000000</td>\n",
              "      <td>GO</td>\n",
              "      <td>Uruaçu</td>\n",
              "      <td>5221601</td>\n",
              "      <td>215680</td>\n",
              "      <td>375239</td>\n",
              "      <td>B</td>\n",
              "    </tr>\n",
              "    <tr>\n",
              "      <th>1153</th>\n",
              "      <td>5221858</td>\n",
              "      <td>172135.0</td>\n",
              "      <td>135.0</td>\n",
              "      <td>149.0</td>\n",
              "      <td>14.0</td>\n",
              "      <td>0.103704</td>\n",
              "      <td>GO</td>\n",
              "      <td>Valparaíso de Goiás</td>\n",
              "      <td>5221858</td>\n",
              "      <td>3064</td>\n",
              "      <td>746468</td>\n",
              "      <td>D</td>\n",
              "    </tr>\n",
              "    <tr>\n",
              "      <th>1154</th>\n",
              "      <td>5300108</td>\n",
              "      <td>3055149.0</td>\n",
              "      <td>3781.0</td>\n",
              "      <td>4038.0</td>\n",
              "      <td>257.0</td>\n",
              "      <td>0.067971</td>\n",
              "      <td>DF</td>\n",
              "      <td>Brasília</td>\n",
              "      <td>5300108</td>\n",
              "      <td>4332053</td>\n",
              "      <td>59764674</td>\n",
              "      <td>A</td>\n",
              "    </tr>\n",
              "  </tbody>\n",
              "</table>\n",
              "<p>1155 rows × 12 columns</p>\n",
              "</div>"
            ],
            "text/plain": [
              "     city_ibge_code  estimated_population  ...  ARRECADACAO  CLUSTER\n",
              "0           1100023              109523.0  ...       739140        C\n",
              "1           1100049               85893.0  ...       866406        B\n",
              "2           1100106               46556.0  ...        72309        C\n",
              "3           1100155               35737.0  ...            0        C\n",
              "4           1100189               36881.0  ...            0        C\n",
              "...             ...                   ...  ...          ...      ...\n",
              "1150        5220603               20816.0  ...            0        D\n",
              "1151        5221403              129823.0  ...       546770        B\n",
              "1152        5221601               40840.0  ...       375239        B\n",
              "1153        5221858              172135.0  ...       746468        D\n",
              "1154        5300108             3055149.0  ...     59764674        A\n",
              "\n",
              "[1155 rows x 12 columns]"
            ]
          },
          "metadata": {
            "tags": []
          },
          "execution_count": 22
        }
      ]
    },
    {
      "cell_type": "code",
      "metadata": {
        "colab": {
          "base_uri": "https://localhost:8080/",
          "height": 301
        },
        "id": "tBnt6Hw2O6ST",
        "outputId": "f569dbc3-c951-45ac-ed1b-e1fdda1af33f"
      },
      "source": [
        "ax = sns.boxplot(x=\"CLUSTER\", y=\"last_available_deaths_to\", data=covid_tur_aumento_categorias, showfliers = False).set_title(\"Mortalidade em 17 de dezembro de 2020\")"
      ],
      "execution_count": null,
      "outputs": [
        {
          "output_type": "display_data",
          "data": {
            "image/png": "[encoded data removed]",
            "text/plain": [
              "<Figure size 432x288 with 1 Axes>"
            ]
          },
          "metadata": {
            "tags": [],
            "needs_background": "light"
          }
        }
      ]
    },
    {
      "cell_type": "code",
      "metadata": {
        "colab": {
          "base_uri": "https://localhost:8080/",
          "height": 301
        },
        "id": "5ZKVso-mO6SV",
        "outputId": "820bbc55-f7be-4e9b-8145-b22904071e6b"
      },
      "source": [
        "ax = sns.boxplot(x=\"CLUSTER\", y=\"relative_dif\", data=covid_tur_aumento_categorias, showfliers = False).set_title(\"Percentual de aumento entre 17 de dezembro de 2020 e 16 de janeiro de 2021\")"
      ],
      "execution_count": null,
      "outputs": [
        {
          "output_type": "display_data",
          "data": {
            "image/png": "[encoded data removed]",
            "text/plain": [
              "<Figure size 432x288 with 1 Axes>"
            ]
          },
          "metadata": {
            "tags": [],
            "needs_background": "light"
          }
        }
      ]
    },
    {
      "cell_type": "code",
      "metadata": {
        "colab": {
          "base_uri": "https://localhost:8080/",
          "height": 301
        },
        "id": "uxgoL4P8O6SW",
        "outputId": "7c3926cf-ca48-4529-8fa8-136ebc4a14f2"
      },
      "source": [
        "ax = sns.boxplot(x=\"CLUSTER\", y=\"dif\", data=covid_tur_aumento_categorias, showfliers = False).set_title(\"Aumento absoluto entre 17 de dezembro de 2020 e 16 de janeiro de 2021\")"
      ],
      "execution_count": null,
      "outputs": [
        {
          "output_type": "display_data",
          "data": {
            "image/png": "[encoded data removed]",
            "text/plain": [
              "<Figure size 432x288 with 1 Axes>"
            ]
          },
          "metadata": {
            "tags": [],
            "needs_background": "light"
          }
        }
      ]
    },
    {
      "cell_type": "code",
      "metadata": {
        "colab": {
          "base_uri": "https://localhost:8080/"
        },
        "id": "i30U0erAO6SX",
        "outputId": "e50e687e-e790-4ae5-a585-84f3c04589bf"
      },
      "source": [
        "categorias = pd.concat([covid_tur_aumento_categorias.groupby('CLUSTER').agg(\n",
        "    n_cities=('city_ibge_code','count'),\n",
        "    population_mean=('estimated_population','mean'),\n",
        "    population_median=('estimated_population','median'),\n",
        "    last_available_deaths_from_mean=('last_available_deaths_from','mean'),\n",
        "    last_available_deaths_from_median=('last_available_deaths_from','median'),\n",
        "    last_available_deaths_to_mean=('last_available_deaths_to','mean'),\n",
        "    last_available_deaths_to_median=('last_available_deaths_to','median'),    \n",
        "    dif_mean=('dif','mean'),\n",
        "    dif_median=('dif','median'),\n",
        "    relative_dif_mean=('relative_dif','mean'),\n",
        "    relative_dif_median=('relative_dif','median')\n",
        "),(covid_tur_aumento_categorias.groupby('CLUSTER').apply(lambda x: pd.np.average(x.relative_dif, weights=x.estimated_population)).rename('relative_dif_average'))], axis=1)"
      ],
      "execution_count": null,
      "outputs": [
        {
          "output_type": "stream",
          "text": [
            "/usr/local/lib/python3.7/dist-packages/ipykernel_launcher.py:13: FutureWarning: The pandas.np module is deprecated and will be removed from pandas in a future version. Import numpy directly instead\n",
            "  del sys.path[0]\n"
          ],
          "name": "stderr"
        }
      ]
    },
    {
      "cell_type": "code",
      "metadata": {
        "colab": {
          "base_uri": "https://localhost:8080/",
          "height": 222
        },
        "id": "GqdjL-hzO6SY",
        "outputId": "eeaa27f6-2509-467f-9d3f-e755533b1f19"
      },
      "source": [
        "categorias.reset_index(inplace=True)\n",
        "categorias"
      ],
      "execution_count": null,
      "outputs": [
        {
          "output_type": "execute_result",
          "data": {
            "text/html": [
              "<div>\n",
              "<style scoped>\n",
              "    .dataframe tbody tr th:only-of-type {\n",
              "        vertical-align: middle;\n",
              "    }\n",
              "\n",
              "    .dataframe tbody tr th {\n",
              "        vertical-align: top;\n",
              "    }\n",
              "\n",
              "    .dataframe thead th {\n",
              "        text-align: right;\n",
              "    }\n",
              "</style>\n",
              "<table border=\"1\" class=\"dataframe\">\n",
              "  <thead>\n",
              "    <tr style=\"text-align: right;\">\n",
              "      <th></th>\n",
              "      <th>CLUSTER</th>\n",
              "      <th>n_cities</th>\n",
              "      <th>population_mean</th>\n",
              "      <th>population_median</th>\n",
              "      <th>last_available_deaths_from_mean</th>\n",
              "      <th>last_available_deaths_from_median</th>\n",
              "      <th>last_available_deaths_to_mean</th>\n",
              "      <th>last_available_deaths_to_median</th>\n",
              "      <th>dif_mean</th>\n",
              "      <th>dif_median</th>\n",
              "      <th>relative_dif_mean</th>\n",
              "      <th>relative_dif_median</th>\n",
              "      <th>relative_dif_average</th>\n",
              "    </tr>\n",
              "  </thead>\n",
              "  <tbody>\n",
              "    <tr>\n",
              "      <th>0</th>\n",
              "      <td>A</td>\n",
              "      <td>59</td>\n",
              "      <td>984885.593220</td>\n",
              "      <td>419652.0</td>\n",
              "      <td>1287.881356</td>\n",
              "      <td>455.0</td>\n",
              "      <td>1430.593220</td>\n",
              "      <td>526.0</td>\n",
              "      <td>142.711864</td>\n",
              "      <td>62.0</td>\n",
              "      <td>0.138631</td>\n",
              "      <td>0.107368</td>\n",
              "      <td>0.113569</td>\n",
              "    </tr>\n",
              "    <tr>\n",
              "      <th>1</th>\n",
              "      <td>B</td>\n",
              "      <td>238</td>\n",
              "      <td>183898.054622</td>\n",
              "      <td>123057.0</td>\n",
              "      <td>159.529412</td>\n",
              "      <td>85.0</td>\n",
              "      <td>182.243697</td>\n",
              "      <td>102.0</td>\n",
              "      <td>22.714286</td>\n",
              "      <td>12.0</td>\n",
              "      <td>0.181226</td>\n",
              "      <td>0.142857</td>\n",
              "      <td>0.165877</td>\n",
              "    </tr>\n",
              "    <tr>\n",
              "      <th>2</th>\n",
              "      <td>C</td>\n",
              "      <td>397</td>\n",
              "      <td>74728.382872</td>\n",
              "      <td>51338.0</td>\n",
              "      <td>58.221662</td>\n",
              "      <td>32.0</td>\n",
              "      <td>66.690176</td>\n",
              "      <td>36.0</td>\n",
              "      <td>8.468514</td>\n",
              "      <td>4.0</td>\n",
              "      <td>0.199456</td>\n",
              "      <td>0.128713</td>\n",
              "      <td>0.177411</td>\n",
              "    </tr>\n",
              "    <tr>\n",
              "      <th>3</th>\n",
              "      <td>D</td>\n",
              "      <td>450</td>\n",
              "      <td>39418.280000</td>\n",
              "      <td>30428.5</td>\n",
              "      <td>25.397778</td>\n",
              "      <td>16.0</td>\n",
              "      <td>28.931111</td>\n",
              "      <td>19.0</td>\n",
              "      <td>3.533333</td>\n",
              "      <td>2.0</td>\n",
              "      <td>0.218234</td>\n",
              "      <td>0.126500</td>\n",
              "      <td>0.190813</td>\n",
              "    </tr>\n",
              "    <tr>\n",
              "      <th>4</th>\n",
              "      <td>E</td>\n",
              "      <td>11</td>\n",
              "      <td>39515.181818</td>\n",
              "      <td>24382.0</td>\n",
              "      <td>20.454545</td>\n",
              "      <td>14.0</td>\n",
              "      <td>25.000000</td>\n",
              "      <td>18.0</td>\n",
              "      <td>4.545455</td>\n",
              "      <td>1.0</td>\n",
              "      <td>0.223691</td>\n",
              "      <td>0.142857</td>\n",
              "      <td>0.258725</td>\n",
              "    </tr>\n",
              "  </tbody>\n",
              "</table>\n",
              "</div>"
            ],
            "text/plain": [
              "  CLUSTER  n_cities  ...  relative_dif_median  relative_dif_average\n",
              "0       A        59  ...             0.107368              0.113569\n",
              "1       B       238  ...             0.142857              0.165877\n",
              "2       C       397  ...             0.128713              0.177411\n",
              "3       D       450  ...             0.126500              0.190813\n",
              "4       E        11  ...             0.142857              0.258725\n",
              "\n",
              "[5 rows x 13 columns]"
            ]
          },
          "metadata": {
            "tags": []
          },
          "execution_count": 27
        }
      ]
    },
    {
      "cell_type": "code",
      "metadata": {
        "colab": {
          "base_uri": "https://localhost:8080/",
          "height": 301
        },
        "id": "f-MpA33JUsp-",
        "outputId": "636bde3a-0ace-4dc7-df80-3f0809fe6e28"
      },
      "source": [
        "ax = sns.boxplot(x=\"CLUSTER\", y=\"relative_dif_average\", data=categorias, showfliers = False).set_title(\"Aumento considerando tamanho entre 17 de dezembro de 2020 e 16 de janeiro de 2021\")"
      ],
      "execution_count": null,
      "outputs": [
        {
          "output_type": "display_data",
          "data": {
            "image/png": "[encoded data removed]",
            "text/plain": [
              "<Figure size 432x288 with 1 Axes>"
            ]
          },
          "metadata": {
            "tags": [],
            "needs_background": "light"
          }
        }
      ]
    },
    {
      "cell_type": "markdown",
      "metadata": {
        "id": "nLJtSZmvO6SZ"
      },
      "source": [
        "**Métricas em ordem decrescente**"
      ]
    },
    {
      "cell_type": "code",
      "metadata": {
        "colab": {
          "base_uri": "https://localhost:8080/",
          "height": 202
        },
        "id": "jth0B26tO6SZ",
        "outputId": "782edd94-9d27-421e-d305-60c18ca30fdf"
      },
      "source": [
        "mediana_aumento_mortalidade_abs = categorias.sort_values(ascending=False, by=\"dif_median\")\n",
        "mediana_aumento_mortalidade_abs[[\"CLUSTER\",\"dif_median\"]]"
      ],
      "execution_count": null,
      "outputs": [
        {
          "output_type": "execute_result",
          "data": {
            "text/html": [
              "<div>\n",
              "<style scoped>\n",
              "    .dataframe tbody tr th:only-of-type {\n",
              "        vertical-align: middle;\n",
              "    }\n",
              "\n",
              "    .dataframe tbody tr th {\n",
              "        vertical-align: top;\n",
              "    }\n",
              "\n",
              "    .dataframe thead th {\n",
              "        text-align: right;\n",
              "    }\n",
              "</style>\n",
              "<table border=\"1\" class=\"dataframe\">\n",
              "  <thead>\n",
              "    <tr style=\"text-align: right;\">\n",
              "      <th></th>\n",
              "      <th>CLUSTER</th>\n",
              "      <th>dif_median</th>\n",
              "    </tr>\n",
              "  </thead>\n",
              "  <tbody>\n",
              "    <tr>\n",
              "      <th>0</th>\n",
              "      <td>A</td>\n",
              "      <td>62.0</td>\n",
              "    </tr>\n",
              "    <tr>\n",
              "      <th>1</th>\n",
              "      <td>B</td>\n",
              "      <td>12.0</td>\n",
              "    </tr>\n",
              "    <tr>\n",
              "      <th>2</th>\n",
              "      <td>C</td>\n",
              "      <td>4.0</td>\n",
              "    </tr>\n",
              "    <tr>\n",
              "      <th>3</th>\n",
              "      <td>D</td>\n",
              "      <td>2.0</td>\n",
              "    </tr>\n",
              "    <tr>\n",
              "      <th>4</th>\n",
              "      <td>E</td>\n",
              "      <td>1.0</td>\n",
              "    </tr>\n",
              "  </tbody>\n",
              "</table>\n",
              "</div>"
            ],
            "text/plain": [
              "  CLUSTER  dif_median\n",
              "0       A        62.0\n",
              "1       B        12.0\n",
              "2       C         4.0\n",
              "3       D         2.0\n",
              "4       E         1.0"
            ]
          },
          "metadata": {
            "tags": []
          },
          "execution_count": 29
        }
      ]
    },
    {
      "cell_type": "code",
      "metadata": {
        "colab": {
          "base_uri": "https://localhost:8080/",
          "height": 202
        },
        "id": "62Xc_NA8O6Sa",
        "outputId": "aa9640fd-5304-4df0-b920-772a36fcbd9d"
      },
      "source": [
        "mediana_aumento_mortalidade_rel = categorias.sort_values(ascending=False, by=\"relative_dif_median\")\n",
        "mediana_aumento_mortalidade_rel[[\"CLUSTER\",\"relative_dif_median\"]]"
      ],
      "execution_count": null,
      "outputs": [
        {
          "output_type": "execute_result",
          "data": {
            "text/html": [
              "<div>\n",
              "<style scoped>\n",
              "    .dataframe tbody tr th:only-of-type {\n",
              "        vertical-align: middle;\n",
              "    }\n",
              "\n",
              "    .dataframe tbody tr th {\n",
              "        vertical-align: top;\n",
              "    }\n",
              "\n",
              "    .dataframe thead th {\n",
              "        text-align: right;\n",
              "    }\n",
              "</style>\n",
              "<table border=\"1\" class=\"dataframe\">\n",
              "  <thead>\n",
              "    <tr style=\"text-align: right;\">\n",
              "      <th></th>\n",
              "      <th>CLUSTER</th>\n",
              "      <th>relative_dif_median</th>\n",
              "    </tr>\n",
              "  </thead>\n",
              "  <tbody>\n",
              "    <tr>\n",
              "      <th>1</th>\n",
              "      <td>B</td>\n",
              "      <td>0.142857</td>\n",
              "    </tr>\n",
              "    <tr>\n",
              "      <th>4</th>\n",
              "      <td>E</td>\n",
              "      <td>0.142857</td>\n",
              "    </tr>\n",
              "    <tr>\n",
              "      <th>2</th>\n",
              "      <td>C</td>\n",
              "      <td>0.128713</td>\n",
              "    </tr>\n",
              "    <tr>\n",
              "      <th>3</th>\n",
              "      <td>D</td>\n",
              "      <td>0.126500</td>\n",
              "    </tr>\n",
              "    <tr>\n",
              "      <th>0</th>\n",
              "      <td>A</td>\n",
              "      <td>0.107368</td>\n",
              "    </tr>\n",
              "  </tbody>\n",
              "</table>\n",
              "</div>"
            ],
            "text/plain": [
              "  CLUSTER  relative_dif_median\n",
              "1       B             0.142857\n",
              "4       E             0.142857\n",
              "2       C             0.128713\n",
              "3       D             0.126500\n",
              "0       A             0.107368"
            ]
          },
          "metadata": {
            "tags": []
          },
          "execution_count": 30
        }
      ]
    },
    {
      "cell_type": "code",
      "metadata": {
        "colab": {
          "base_uri": "https://localhost:8080/",
          "height": 202
        },
        "id": "ltOmQIpDO6Sa",
        "outputId": "0249eeb6-6a4a-4a36-d542-6c735f553a3e"
      },
      "source": [
        "aumento_considerando_populacao = categorias.sort_values(ascending=False, by=\"relative_dif_average\")\n",
        "aumento_considerando_populacao[[\"CLUSTER\",\"relative_dif_average\"]]"
      ],
      "execution_count": null,
      "outputs": [
        {
          "output_type": "execute_result",
          "data": {
            "text/html": [
              "<div>\n",
              "<style scoped>\n",
              "    .dataframe tbody tr th:only-of-type {\n",
              "        vertical-align: middle;\n",
              "    }\n",
              "\n",
              "    .dataframe tbody tr th {\n",
              "        vertical-align: top;\n",
              "    }\n",
              "\n",
              "    .dataframe thead th {\n",
              "        text-align: right;\n",
              "    }\n",
              "</style>\n",
              "<table border=\"1\" class=\"dataframe\">\n",
              "  <thead>\n",
              "    <tr style=\"text-align: right;\">\n",
              "      <th></th>\n",
              "      <th>CLUSTER</th>\n",
              "      <th>relative_dif_average</th>\n",
              "    </tr>\n",
              "  </thead>\n",
              "  <tbody>\n",
              "    <tr>\n",
              "      <th>4</th>\n",
              "      <td>E</td>\n",
              "      <td>0.258725</td>\n",
              "    </tr>\n",
              "    <tr>\n",
              "      <th>3</th>\n",
              "      <td>D</td>\n",
              "      <td>0.190813</td>\n",
              "    </tr>\n",
              "    <tr>\n",
              "      <th>2</th>\n",
              "      <td>C</td>\n",
              "      <td>0.177411</td>\n",
              "    </tr>\n",
              "    <tr>\n",
              "      <th>1</th>\n",
              "      <td>B</td>\n",
              "      <td>0.165877</td>\n",
              "    </tr>\n",
              "    <tr>\n",
              "      <th>0</th>\n",
              "      <td>A</td>\n",
              "      <td>0.113569</td>\n",
              "    </tr>\n",
              "  </tbody>\n",
              "</table>\n",
              "</div>"
            ],
            "text/plain": [
              "  CLUSTER  relative_dif_average\n",
              "4       E              0.258725\n",
              "3       D              0.190813\n",
              "2       C              0.177411\n",
              "1       B              0.165877\n",
              "0       A              0.113569"
            ]
          },
          "metadata": {
            "tags": []
          },
          "execution_count": 31
        }
      ]
    },
    {
      "cell_type": "code",
      "metadata": {
        "id": "trj4NpBrO7bI"
      },
      "source": [
        ""
      ],
      "execution_count": null,
      "outputs": []
    },
    {
      "cell_type": "code",
      "metadata": {
        "id": "G9mzVrYDO7e6"
      },
      "source": [
        ""
      ],
      "execution_count": null,
      "outputs": []
    },
    {
      "cell_type": "code",
      "metadata": {
        "id": "4_3PI-q9O7h7"
      },
      "source": [
        ""
      ],
      "execution_count": null,
      "outputs": []
    },
    {
      "cell_type": "code",
      "metadata": {
        "id": "EgTgU14lO7l9"
      },
      "source": [
        ""
      ],
      "execution_count": null,
      "outputs": []
    },
    {
      "cell_type": "markdown",
      "metadata": {
        "id": "t_DbDxbHO8Eh"
      },
      "source": [
        "# **Entre 17 de janeiro de 2021 e 16 de fevereiro de 2021**"
      ]
    },
    {
      "cell_type": "code",
      "metadata": {
        "colab": {
          "base_uri": "https://localhost:8080/",
          "height": 414
        },
        "id": "FkhzaqW1O_ts",
        "outputId": "667627df-c130-4a63-e95a-93a0493f9ca5"
      },
      "source": [
        "covid_tur_aumento = covid_tur.groupby(['city_ibge_code', 'estimated_population']).apply(calcula_aumento_relativo, x_col='last_available_deaths', date_col='date', from_date='2021-01-17', to_date='2021-02-16').to_frame()\n",
        "covid_tur_aumento.rename(columns={0: \"explodir\"}, inplace=True)\n",
        "covid_tur_aumento = covid_tur_aumento['explodir'].apply(pd.Series)\n",
        "covid_tur_aumento.reset_index(inplace=True)\n",
        "covid_tur_aumento.sort_values(by='relative_dif', ascending=False)"
      ],
      "execution_count": null,
      "outputs": [
        {
          "output_type": "execute_result",
          "data": {
            "text/html": [
              "<div>\n",
              "<style scoped>\n",
              "    .dataframe tbody tr th:only-of-type {\n",
              "        vertical-align: middle;\n",
              "    }\n",
              "\n",
              "    .dataframe tbody tr th {\n",
              "        vertical-align: top;\n",
              "    }\n",
              "\n",
              "    .dataframe thead th {\n",
              "        text-align: right;\n",
              "    }\n",
              "</style>\n",
              "<table border=\"1\" class=\"dataframe\">\n",
              "  <thead>\n",
              "    <tr style=\"text-align: right;\">\n",
              "      <th></th>\n",
              "      <th>city_ibge_code</th>\n",
              "      <th>estimated_population</th>\n",
              "      <th>last_available_deaths_from</th>\n",
              "      <th>last_available_deaths_to</th>\n",
              "      <th>dif</th>\n",
              "      <th>relative_dif</th>\n",
              "    </tr>\n",
              "  </thead>\n",
              "  <tbody>\n",
              "    <tr>\n",
              "      <th>884</th>\n",
              "      <td>4113304</td>\n",
              "      <td>32139.0</td>\n",
              "      <td>3.0</td>\n",
              "      <td>8.0</td>\n",
              "      <td>5.0</td>\n",
              "      <td>1.666667</td>\n",
              "    </tr>\n",
              "    <tr>\n",
              "      <th>508</th>\n",
              "      <td>3146008</td>\n",
              "      <td>33791.0</td>\n",
              "      <td>10.0</td>\n",
              "      <td>26.0</td>\n",
              "      <td>16.0</td>\n",
              "      <td>1.600000</td>\n",
              "    </tr>\n",
              "    <tr>\n",
              "      <th>510</th>\n",
              "      <td>3146305</td>\n",
              "      <td>20252.0</td>\n",
              "      <td>4.0</td>\n",
              "      <td>10.0</td>\n",
              "      <td>6.0</td>\n",
              "      <td>1.500000</td>\n",
              "    </tr>\n",
              "    <tr>\n",
              "      <th>523</th>\n",
              "      <td>3152006</td>\n",
              "      <td>32035.0</td>\n",
              "      <td>6.0</td>\n",
              "      <td>15.0</td>\n",
              "      <td>9.0</td>\n",
              "      <td>1.500000</td>\n",
              "    </tr>\n",
              "    <tr>\n",
              "      <th>20</th>\n",
              "      <td>1301100</td>\n",
              "      <td>38348.0</td>\n",
              "      <td>29.0</td>\n",
              "      <td>72.0</td>\n",
              "      <td>43.0</td>\n",
              "      <td>1.482759</td>\n",
              "    </tr>\n",
              "    <tr>\n",
              "      <th>...</th>\n",
              "      <td>...</td>\n",
              "      <td>...</td>\n",
              "      <td>...</td>\n",
              "      <td>...</td>\n",
              "      <td>...</td>\n",
              "      <td>...</td>\n",
              "    </tr>\n",
              "    <tr>\n",
              "      <th>178</th>\n",
              "      <td>2311603</td>\n",
              "      <td>29146.0</td>\n",
              "      <td>47.0</td>\n",
              "      <td>46.0</td>\n",
              "      <td>-1.0</td>\n",
              "      <td>-0.021277</td>\n",
              "    </tr>\n",
              "    <tr>\n",
              "      <th>645</th>\n",
              "      <td>3306206</td>\n",
              "      <td>37083.0</td>\n",
              "      <td>30.0</td>\n",
              "      <td>29.0</td>\n",
              "      <td>-1.0</td>\n",
              "      <td>-0.033333</td>\n",
              "    </tr>\n",
              "    <tr>\n",
              "      <th>163</th>\n",
              "      <td>2306553</td>\n",
              "      <td>42215.0</td>\n",
              "      <td>29.0</td>\n",
              "      <td>28.0</td>\n",
              "      <td>-1.0</td>\n",
              "      <td>-0.034483</td>\n",
              "    </tr>\n",
              "    <tr>\n",
              "      <th>210</th>\n",
              "      <td>2414407</td>\n",
              "      <td>33503.0</td>\n",
              "      <td>23.0</td>\n",
              "      <td>22.0</td>\n",
              "      <td>-1.0</td>\n",
              "      <td>-0.043478</td>\n",
              "    </tr>\n",
              "    <tr>\n",
              "      <th>891</th>\n",
              "      <td>4117305</td>\n",
              "      <td>21960.0</td>\n",
              "      <td>14.0</td>\n",
              "      <td>13.0</td>\n",
              "      <td>-1.0</td>\n",
              "      <td>-0.071429</td>\n",
              "    </tr>\n",
              "  </tbody>\n",
              "</table>\n",
              "<p>1155 rows × 6 columns</p>\n",
              "</div>"
            ],
            "text/plain": [
              "    city_ibge_code  estimated_population  ...   dif  relative_dif\n",
              "884        4113304               32139.0  ...   5.0      1.666667\n",
              "508        3146008               33791.0  ...  16.0      1.600000\n",
              "510        3146305               20252.0  ...   6.0      1.500000\n",
              "523        3152006               32035.0  ...   9.0      1.500000\n",
              "20         1301100               38348.0  ...  43.0      1.482759\n",
              "..             ...                   ...  ...   ...           ...\n",
              "178        2311603               29146.0  ...  -1.0     -0.021277\n",
              "645        3306206               37083.0  ...  -1.0     -0.033333\n",
              "163        2306553               42215.0  ...  -1.0     -0.034483\n",
              "210        2414407               33503.0  ...  -1.0     -0.043478\n",
              "891        4117305               21960.0  ...  -1.0     -0.071429\n",
              "\n",
              "[1155 rows x 6 columns]"
            ]
          },
          "metadata": {
            "tags": []
          },
          "execution_count": 32
        }
      ]
    },
    {
      "cell_type": "code",
      "metadata": {
        "colab": {
          "base_uri": "https://localhost:8080/",
          "height": 517
        },
        "id": "0NIf47aZO_tt",
        "outputId": "0dd93d12-656d-4dc8-8f45-d79885d45c6e"
      },
      "source": [
        "covid_tur_aumento_categorias = pd.merge(covid_tur_aumento, cidades_turisticas, left_on=\"city_ibge_code\", right_on=\"COD_IBGE\", how=\"left\")\n",
        "covid_tur_aumento_categorias"
      ],
      "execution_count": null,
      "outputs": [
        {
          "output_type": "execute_result",
          "data": {
            "text/html": [
              "<div>\n",
              "<style scoped>\n",
              "    .dataframe tbody tr th:only-of-type {\n",
              "        vertical-align: middle;\n",
              "    }\n",
              "\n",
              "    .dataframe tbody tr th {\n",
              "        vertical-align: top;\n",
              "    }\n",
              "\n",
              "    .dataframe thead th {\n",
              "        text-align: right;\n",
              "    }\n",
              "</style>\n",
              "<table border=\"1\" class=\"dataframe\">\n",
              "  <thead>\n",
              "    <tr style=\"text-align: right;\">\n",
              "      <th></th>\n",
              "      <th>city_ibge_code</th>\n",
              "      <th>estimated_population</th>\n",
              "      <th>last_available_deaths_from</th>\n",
              "      <th>last_available_deaths_to</th>\n",
              "      <th>dif</th>\n",
              "      <th>relative_dif</th>\n",
              "      <th>UF</th>\n",
              "      <th>MUNICIPIO</th>\n",
              "      <th>COD_IBGE</th>\n",
              "      <th>QUANTIDADE_VISITAS_ESTIMADAS_ NACIONAL</th>\n",
              "      <th>ARRECADACAO</th>\n",
              "      <th>CLUSTER</th>\n",
              "    </tr>\n",
              "  </thead>\n",
              "  <tbody>\n",
              "    <tr>\n",
              "      <th>0</th>\n",
              "      <td>1100023</td>\n",
              "      <td>109523.0</td>\n",
              "      <td>160.0</td>\n",
              "      <td>200.0</td>\n",
              "      <td>40.0</td>\n",
              "      <td>0.250000</td>\n",
              "      <td>RO</td>\n",
              "      <td>Ariquemes</td>\n",
              "      <td>1100023</td>\n",
              "      <td>3371</td>\n",
              "      <td>739140</td>\n",
              "      <td>C</td>\n",
              "    </tr>\n",
              "    <tr>\n",
              "      <th>1</th>\n",
              "      <td>1100049</td>\n",
              "      <td>85893.0</td>\n",
              "      <td>75.0</td>\n",
              "      <td>97.0</td>\n",
              "      <td>22.0</td>\n",
              "      <td>0.293333</td>\n",
              "      <td>RO</td>\n",
              "      <td>Cacoal</td>\n",
              "      <td>1100049</td>\n",
              "      <td>98548</td>\n",
              "      <td>866406</td>\n",
              "      <td>B</td>\n",
              "    </tr>\n",
              "    <tr>\n",
              "      <th>2</th>\n",
              "      <td>1100106</td>\n",
              "      <td>46556.0</td>\n",
              "      <td>96.0</td>\n",
              "      <td>126.0</td>\n",
              "      <td>30.0</td>\n",
              "      <td>0.312500</td>\n",
              "      <td>RO</td>\n",
              "      <td>Guajará-Mirim</td>\n",
              "      <td>1100106</td>\n",
              "      <td>34819</td>\n",
              "      <td>72309</td>\n",
              "      <td>C</td>\n",
              "    </tr>\n",
              "    <tr>\n",
              "      <th>3</th>\n",
              "      <td>1100155</td>\n",
              "      <td>35737.0</td>\n",
              "      <td>37.0</td>\n",
              "      <td>46.0</td>\n",
              "      <td>9.0</td>\n",
              "      <td>0.243243</td>\n",
              "      <td>RO</td>\n",
              "      <td>Ouro Preto do Oeste</td>\n",
              "      <td>1100155</td>\n",
              "      <td>9645</td>\n",
              "      <td>0</td>\n",
              "      <td>C</td>\n",
              "    </tr>\n",
              "    <tr>\n",
              "      <th>4</th>\n",
              "      <td>1100189</td>\n",
              "      <td>36881.0</td>\n",
              "      <td>20.0</td>\n",
              "      <td>32.0</td>\n",
              "      <td>12.0</td>\n",
              "      <td>0.600000</td>\n",
              "      <td>RO</td>\n",
              "      <td>Pimenta Bueno</td>\n",
              "      <td>1100189</td>\n",
              "      <td>29225</td>\n",
              "      <td>0</td>\n",
              "      <td>C</td>\n",
              "    </tr>\n",
              "    <tr>\n",
              "      <th>...</th>\n",
              "      <td>...</td>\n",
              "      <td>...</td>\n",
              "      <td>...</td>\n",
              "      <td>...</td>\n",
              "      <td>...</td>\n",
              "      <td>...</td>\n",
              "      <td>...</td>\n",
              "      <td>...</td>\n",
              "      <td>...</td>\n",
              "      <td>...</td>\n",
              "      <td>...</td>\n",
              "      <td>...</td>\n",
              "    </tr>\n",
              "    <tr>\n",
              "      <th>1150</th>\n",
              "      <td>5220603</td>\n",
              "      <td>20816.0</td>\n",
              "      <td>2.0</td>\n",
              "      <td>2.0</td>\n",
              "      <td>0.0</td>\n",
              "      <td>0.000000</td>\n",
              "      <td>GO</td>\n",
              "      <td>Silvânia</td>\n",
              "      <td>5220603</td>\n",
              "      <td>12425</td>\n",
              "      <td>0</td>\n",
              "      <td>D</td>\n",
              "    </tr>\n",
              "    <tr>\n",
              "      <th>1151</th>\n",
              "      <td>5221403</td>\n",
              "      <td>129823.0</td>\n",
              "      <td>181.0</td>\n",
              "      <td>195.0</td>\n",
              "      <td>14.0</td>\n",
              "      <td>0.077348</td>\n",
              "      <td>GO</td>\n",
              "      <td>Trindade</td>\n",
              "      <td>5221403</td>\n",
              "      <td>193242</td>\n",
              "      <td>546770</td>\n",
              "      <td>B</td>\n",
              "    </tr>\n",
              "    <tr>\n",
              "      <th>1152</th>\n",
              "      <td>5221601</td>\n",
              "      <td>40840.0</td>\n",
              "      <td>30.0</td>\n",
              "      <td>36.0</td>\n",
              "      <td>6.0</td>\n",
              "      <td>0.200000</td>\n",
              "      <td>GO</td>\n",
              "      <td>Uruaçu</td>\n",
              "      <td>5221601</td>\n",
              "      <td>215680</td>\n",
              "      <td>375239</td>\n",
              "      <td>B</td>\n",
              "    </tr>\n",
              "    <tr>\n",
              "      <th>1153</th>\n",
              "      <td>5221858</td>\n",
              "      <td>172135.0</td>\n",
              "      <td>149.0</td>\n",
              "      <td>158.0</td>\n",
              "      <td>9.0</td>\n",
              "      <td>0.060403</td>\n",
              "      <td>GO</td>\n",
              "      <td>Valparaíso de Goiás</td>\n",
              "      <td>5221858</td>\n",
              "      <td>3064</td>\n",
              "      <td>746468</td>\n",
              "      <td>D</td>\n",
              "    </tr>\n",
              "    <tr>\n",
              "      <th>1154</th>\n",
              "      <td>5300108</td>\n",
              "      <td>3055149.0</td>\n",
              "      <td>4045.0</td>\n",
              "      <td>4294.0</td>\n",
              "      <td>249.0</td>\n",
              "      <td>0.061557</td>\n",
              "      <td>DF</td>\n",
              "      <td>Brasília</td>\n",
              "      <td>5300108</td>\n",
              "      <td>4332053</td>\n",
              "      <td>59764674</td>\n",
              "      <td>A</td>\n",
              "    </tr>\n",
              "  </tbody>\n",
              "</table>\n",
              "<p>1155 rows × 12 columns</p>\n",
              "</div>"
            ],
            "text/plain": [
              "     city_ibge_code  estimated_population  ...  ARRECADACAO  CLUSTER\n",
              "0           1100023              109523.0  ...       739140        C\n",
              "1           1100049               85893.0  ...       866406        B\n",
              "2           1100106               46556.0  ...        72309        C\n",
              "3           1100155               35737.0  ...            0        C\n",
              "4           1100189               36881.0  ...            0        C\n",
              "...             ...                   ...  ...          ...      ...\n",
              "1150        5220603               20816.0  ...            0        D\n",
              "1151        5221403              129823.0  ...       546770        B\n",
              "1152        5221601               40840.0  ...       375239        B\n",
              "1153        5221858              172135.0  ...       746468        D\n",
              "1154        5300108             3055149.0  ...     59764674        A\n",
              "\n",
              "[1155 rows x 12 columns]"
            ]
          },
          "metadata": {
            "tags": []
          },
          "execution_count": 33
        }
      ]
    },
    {
      "cell_type": "code",
      "metadata": {
        "colab": {
          "base_uri": "https://localhost:8080/",
          "height": 301
        },
        "id": "emuBq18KO_tu",
        "outputId": "7dea2101-101e-4328-c754-a3fad5998d63"
      },
      "source": [
        "ax = sns.boxplot(x=\"CLUSTER\", y=\"last_available_deaths_to\", data=covid_tur_aumento_categorias, showfliers = False).set_title(\"Mortalidade em janeiro de 2021\")"
      ],
      "execution_count": null,
      "outputs": [
        {
          "output_type": "display_data",
          "data": {
            "image/png": "[encoded data removed]",
            "text/plain": [
              "<Figure size 432x288 with 1 Axes>"
            ]
          },
          "metadata": {
            "tags": [],
            "needs_background": "light"
          }
        }
      ]
    },
    {
      "cell_type": "code",
      "metadata": {
        "colab": {
          "base_uri": "https://localhost:8080/",
          "height": 301
        },
        "id": "wVlhg9ZoO_tv",
        "outputId": "72287883-9d1f-435b-f517-4c796f191582"
      },
      "source": [
        "ax = sns.boxplot(x=\"CLUSTER\", y=\"relative_dif\", data=covid_tur_aumento_categorias, showfliers = False).set_title(\"Percentual de aumento entre 17 de janeiro de 2021 e 16 de fevereiro de 2021\")"
      ],
      "execution_count": null,
      "outputs": [
        {
          "output_type": "display_data",
          "data": {
            "image/png": "[encoded data removed]",
            "text/plain": [
              "<Figure size 432x288 with 1 Axes>"
            ]
          },
          "metadata": {
            "tags": [],
            "needs_background": "light"
          }
        }
      ]
    },
    {
      "cell_type": "code",
      "metadata": {
        "colab": {
          "base_uri": "https://localhost:8080/",
          "height": 301
        },
        "id": "V3e4SWv-O_tw",
        "outputId": "4e797928-2f55-4a68-8acc-217026cf99e7"
      },
      "source": [
        "ax = sns.boxplot(x=\"CLUSTER\", y=\"dif\", data=covid_tur_aumento_categorias, showfliers = False).set_title(\"Aumento absoluto entre 17 de janeiro de 2021 e 16 de fevereiro de 2021\")"
      ],
      "execution_count": null,
      "outputs": [
        {
          "output_type": "display_data",
          "data": {
            "image/png": "[encoded data removed]",
            "text/plain": [
              "<Figure size 432x288 with 1 Axes>"
            ]
          },
          "metadata": {
            "tags": [],
            "needs_background": "light"
          }
        }
      ]
    },
    {
      "cell_type": "code",
      "metadata": {
        "colab": {
          "base_uri": "https://localhost:8080/"
        },
        "id": "Eap8QqOUO_tw",
        "outputId": "579ae367-8de0-45eb-ac38-70f0606cc6da"
      },
      "source": [
        "categorias = pd.concat([covid_tur_aumento_categorias.groupby('CLUSTER').agg(\n",
        "    n_cities=('city_ibge_code','count'),\n",
        "    population_mean=('estimated_population','mean'),\n",
        "    population_median=('estimated_population','median'),\n",
        "    last_available_deaths_from_mean=('last_available_deaths_from','mean'),\n",
        "    last_available_deaths_from_median=('last_available_deaths_from','median'),\n",
        "    last_available_deaths_to_mean=('last_available_deaths_to','mean'),\n",
        "    last_available_deaths_to_median=('last_available_deaths_to','median'),    \n",
        "    dif_mean=('dif','mean'),\n",
        "    dif_median=('dif','median'),\n",
        "    relative_dif_mean=('relative_dif','mean'),\n",
        "    relative_dif_median=('relative_dif','median')\n",
        "),(covid_tur_aumento_categorias.groupby('CLUSTER').apply(lambda x: pd.np.average(x.relative_dif, weights=x.estimated_population)).rename('relative_dif_average'))], axis=1)"
      ],
      "execution_count": null,
      "outputs": [
        {
          "output_type": "stream",
          "text": [
            "/usr/local/lib/python3.7/dist-packages/ipykernel_launcher.py:13: FutureWarning: The pandas.np module is deprecated and will be removed from pandas in a future version. Import numpy directly instead\n",
            "  del sys.path[0]\n"
          ],
          "name": "stderr"
        }
      ]
    },
    {
      "cell_type": "code",
      "metadata": {
        "colab": {
          "base_uri": "https://localhost:8080/",
          "height": 222
        },
        "id": "-l_KUJtuO_tx",
        "outputId": "531faf66-b0b7-4eb7-ba2b-5688eb2346b1"
      },
      "source": [
        "categorias.reset_index(inplace=True)\n",
        "categorias"
      ],
      "execution_count": null,
      "outputs": [
        {
          "output_type": "execute_result",
          "data": {
            "text/html": [
              "<div>\n",
              "<style scoped>\n",
              "    .dataframe tbody tr th:only-of-type {\n",
              "        vertical-align: middle;\n",
              "    }\n",
              "\n",
              "    .dataframe tbody tr th {\n",
              "        vertical-align: top;\n",
              "    }\n",
              "\n",
              "    .dataframe thead th {\n",
              "        text-align: right;\n",
              "    }\n",
              "</style>\n",
              "<table border=\"1\" class=\"dataframe\">\n",
              "  <thead>\n",
              "    <tr style=\"text-align: right;\">\n",
              "      <th></th>\n",
              "      <th>CLUSTER</th>\n",
              "      <th>n_cities</th>\n",
              "      <th>population_mean</th>\n",
              "      <th>population_median</th>\n",
              "      <th>last_available_deaths_from_mean</th>\n",
              "      <th>last_available_deaths_from_median</th>\n",
              "      <th>last_available_deaths_to_mean</th>\n",
              "      <th>last_available_deaths_to_median</th>\n",
              "      <th>dif_mean</th>\n",
              "      <th>dif_median</th>\n",
              "      <th>relative_dif_mean</th>\n",
              "      <th>relative_dif_median</th>\n",
              "      <th>relative_dif_average</th>\n",
              "    </tr>\n",
              "  </thead>\n",
              "  <tbody>\n",
              "    <tr>\n",
              "      <th>0</th>\n",
              "      <td>A</td>\n",
              "      <td>59</td>\n",
              "      <td>984885.593220</td>\n",
              "      <td>419652.0</td>\n",
              "      <td>1433.610169</td>\n",
              "      <td>526.0</td>\n",
              "      <td>1637.101695</td>\n",
              "      <td>575.0</td>\n",
              "      <td>203.491525</td>\n",
              "      <td>63.0</td>\n",
              "      <td>0.160324</td>\n",
              "      <td>0.137602</td>\n",
              "      <td>0.140029</td>\n",
              "    </tr>\n",
              "    <tr>\n",
              "      <th>1</th>\n",
              "      <td>B</td>\n",
              "      <td>238</td>\n",
              "      <td>183898.054622</td>\n",
              "      <td>123057.0</td>\n",
              "      <td>182.600840</td>\n",
              "      <td>102.0</td>\n",
              "      <td>210.819328</td>\n",
              "      <td>118.0</td>\n",
              "      <td>28.218487</td>\n",
              "      <td>18.0</td>\n",
              "      <td>0.194312</td>\n",
              "      <td>0.156363</td>\n",
              "      <td>0.176176</td>\n",
              "    </tr>\n",
              "    <tr>\n",
              "      <th>2</th>\n",
              "      <td>C</td>\n",
              "      <td>397</td>\n",
              "      <td>74728.382872</td>\n",
              "      <td>51338.0</td>\n",
              "      <td>66.869018</td>\n",
              "      <td>36.0</td>\n",
              "      <td>77.365239</td>\n",
              "      <td>46.0</td>\n",
              "      <td>10.496222</td>\n",
              "      <td>5.0</td>\n",
              "      <td>0.208995</td>\n",
              "      <td>0.144444</td>\n",
              "      <td>0.181939</td>\n",
              "    </tr>\n",
              "    <tr>\n",
              "      <th>3</th>\n",
              "      <td>D</td>\n",
              "      <td>450</td>\n",
              "      <td>39418.280000</td>\n",
              "      <td>30428.5</td>\n",
              "      <td>29.013333</td>\n",
              "      <td>19.0</td>\n",
              "      <td>33.184444</td>\n",
              "      <td>23.0</td>\n",
              "      <td>4.171111</td>\n",
              "      <td>3.0</td>\n",
              "      <td>0.216091</td>\n",
              "      <td>0.136364</td>\n",
              "      <td>0.189546</td>\n",
              "    </tr>\n",
              "    <tr>\n",
              "      <th>4</th>\n",
              "      <td>E</td>\n",
              "      <td>11</td>\n",
              "      <td>39515.181818</td>\n",
              "      <td>24382.0</td>\n",
              "      <td>25.181818</td>\n",
              "      <td>18.0</td>\n",
              "      <td>30.636364</td>\n",
              "      <td>20.0</td>\n",
              "      <td>5.454545</td>\n",
              "      <td>2.0</td>\n",
              "      <td>0.159309</td>\n",
              "      <td>0.090909</td>\n",
              "      <td>0.241147</td>\n",
              "    </tr>\n",
              "  </tbody>\n",
              "</table>\n",
              "</div>"
            ],
            "text/plain": [
              "  CLUSTER  n_cities  ...  relative_dif_median  relative_dif_average\n",
              "0       A        59  ...             0.137602              0.140029\n",
              "1       B       238  ...             0.156363              0.176176\n",
              "2       C       397  ...             0.144444              0.181939\n",
              "3       D       450  ...             0.136364              0.189546\n",
              "4       E        11  ...             0.090909              0.241147\n",
              "\n",
              "[5 rows x 13 columns]"
            ]
          },
          "metadata": {
            "tags": []
          },
          "execution_count": 38
        }
      ]
    },
    {
      "cell_type": "code",
      "metadata": {
        "colab": {
          "base_uri": "https://localhost:8080/",
          "height": 301
        },
        "id": "6AUbHvjtUwE1",
        "outputId": "bd11427a-9d3d-4709-9ff8-a686d8a2ff43"
      },
      "source": [
        "ax = sns.boxplot(x=\"CLUSTER\", y=\"relative_dif_average\", data=categorias, showfliers = False).set_title(\"Aumento considerando tamanho entre 17 de janeiro de 2021 e 16 de fevereiro de 2021\")"
      ],
      "execution_count": null,
      "outputs": [
        {
          "output_type": "display_data",
          "data": {
            "image/png": "[encoded data removed]",
            "text/plain": [
              "<Figure size 432x288 with 1 Axes>"
            ]
          },
          "metadata": {
            "tags": [],
            "needs_background": "light"
          }
        }
      ]
    },
    {
      "cell_type": "markdown",
      "metadata": {
        "id": "vfiOLcewO_ty"
      },
      "source": [
        "**Métricas em ordem decrescente**"
      ]
    },
    {
      "cell_type": "code",
      "metadata": {
        "colab": {
          "base_uri": "https://localhost:8080/",
          "height": 202
        },
        "id": "wjfzpEEeO_tz",
        "outputId": "1f6fe840-6296-4172-f739-094282958dd8"
      },
      "source": [
        "mediana_aumento_mortalidade_abs = categorias.sort_values(ascending=False, by=\"dif_median\")\n",
        "mediana_aumento_mortalidade_abs[[\"CLUSTER\",\"dif_median\"]]"
      ],
      "execution_count": null,
      "outputs": [
        {
          "output_type": "execute_result",
          "data": {
            "text/html": [
              "<div>\n",
              "<style scoped>\n",
              "    .dataframe tbody tr th:only-of-type {\n",
              "        vertical-align: middle;\n",
              "    }\n",
              "\n",
              "    .dataframe tbody tr th {\n",
              "        vertical-align: top;\n",
              "    }\n",
              "\n",
              "    .dataframe thead th {\n",
              "        text-align: right;\n",
              "    }\n",
              "</style>\n",
              "<table border=\"1\" class=\"dataframe\">\n",
              "  <thead>\n",
              "    <tr style=\"text-align: right;\">\n",
              "      <th></th>\n",
              "      <th>CLUSTER</th>\n",
              "      <th>dif_median</th>\n",
              "    </tr>\n",
              "  </thead>\n",
              "  <tbody>\n",
              "    <tr>\n",
              "      <th>0</th>\n",
              "      <td>A</td>\n",
              "      <td>63.0</td>\n",
              "    </tr>\n",
              "    <tr>\n",
              "      <th>1</th>\n",
              "      <td>B</td>\n",
              "      <td>18.0</td>\n",
              "    </tr>\n",
              "    <tr>\n",
              "      <th>2</th>\n",
              "      <td>C</td>\n",
              "      <td>5.0</td>\n",
              "    </tr>\n",
              "    <tr>\n",
              "      <th>3</th>\n",
              "      <td>D</td>\n",
              "      <td>3.0</td>\n",
              "    </tr>\n",
              "    <tr>\n",
              "      <th>4</th>\n",
              "      <td>E</td>\n",
              "      <td>2.0</td>\n",
              "    </tr>\n",
              "  </tbody>\n",
              "</table>\n",
              "</div>"
            ],
            "text/plain": [
              "  CLUSTER  dif_median\n",
              "0       A        63.0\n",
              "1       B        18.0\n",
              "2       C         5.0\n",
              "3       D         3.0\n",
              "4       E         2.0"
            ]
          },
          "metadata": {
            "tags": []
          },
          "execution_count": 40
        }
      ]
    },
    {
      "cell_type": "code",
      "metadata": {
        "colab": {
          "base_uri": "https://localhost:8080/",
          "height": 202
        },
        "id": "AVWs0umLO_t0",
        "outputId": "7c29ffac-56c3-478e-9110-c449e5de469e"
      },
      "source": [
        "mediana_aumento_mortalidade_rel = categorias.sort_values(ascending=False, by=\"relative_dif_median\")\n",
        "mediana_aumento_mortalidade_rel[[\"CLUSTER\",\"relative_dif_median\"]]"
      ],
      "execution_count": null,
      "outputs": [
        {
          "output_type": "execute_result",
          "data": {
            "text/html": [
              "<div>\n",
              "<style scoped>\n",
              "    .dataframe tbody tr th:only-of-type {\n",
              "        vertical-align: middle;\n",
              "    }\n",
              "\n",
              "    .dataframe tbody tr th {\n",
              "        vertical-align: top;\n",
              "    }\n",
              "\n",
              "    .dataframe thead th {\n",
              "        text-align: right;\n",
              "    }\n",
              "</style>\n",
              "<table border=\"1\" class=\"dataframe\">\n",
              "  <thead>\n",
              "    <tr style=\"text-align: right;\">\n",
              "      <th></th>\n",
              "      <th>CLUSTER</th>\n",
              "      <th>relative_dif_median</th>\n",
              "    </tr>\n",
              "  </thead>\n",
              "  <tbody>\n",
              "    <tr>\n",
              "      <th>1</th>\n",
              "      <td>B</td>\n",
              "      <td>0.156363</td>\n",
              "    </tr>\n",
              "    <tr>\n",
              "      <th>2</th>\n",
              "      <td>C</td>\n",
              "      <td>0.144444</td>\n",
              "    </tr>\n",
              "    <tr>\n",
              "      <th>0</th>\n",
              "      <td>A</td>\n",
              "      <td>0.137602</td>\n",
              "    </tr>\n",
              "    <tr>\n",
              "      <th>3</th>\n",
              "      <td>D</td>\n",
              "      <td>0.136364</td>\n",
              "    </tr>\n",
              "    <tr>\n",
              "      <th>4</th>\n",
              "      <td>E</td>\n",
              "      <td>0.090909</td>\n",
              "    </tr>\n",
              "  </tbody>\n",
              "</table>\n",
              "</div>"
            ],
            "text/plain": [
              "  CLUSTER  relative_dif_median\n",
              "1       B             0.156363\n",
              "2       C             0.144444\n",
              "0       A             0.137602\n",
              "3       D             0.136364\n",
              "4       E             0.090909"
            ]
          },
          "metadata": {
            "tags": []
          },
          "execution_count": 41
        }
      ]
    },
    {
      "cell_type": "code",
      "metadata": {
        "colab": {
          "base_uri": "https://localhost:8080/",
          "height": 202
        },
        "id": "JgghFredO_t1",
        "outputId": "29109500-146c-46d2-f25b-83bcdce67e99"
      },
      "source": [
        "aumento_considerando_populacao = categorias.sort_values(ascending=False, by=\"relative_dif_average\")\n",
        "aumento_considerando_populacao[[\"CLUSTER\",\"relative_dif_average\"]]"
      ],
      "execution_count": null,
      "outputs": [
        {
          "output_type": "execute_result",
          "data": {
            "text/html": [
              "<div>\n",
              "<style scoped>\n",
              "    .dataframe tbody tr th:only-of-type {\n",
              "        vertical-align: middle;\n",
              "    }\n",
              "\n",
              "    .dataframe tbody tr th {\n",
              "        vertical-align: top;\n",
              "    }\n",
              "\n",
              "    .dataframe thead th {\n",
              "        text-align: right;\n",
              "    }\n",
              "</style>\n",
              "<table border=\"1\" class=\"dataframe\">\n",
              "  <thead>\n",
              "    <tr style=\"text-align: right;\">\n",
              "      <th></th>\n",
              "      <th>CLUSTER</th>\n",
              "      <th>relative_dif_average</th>\n",
              "    </tr>\n",
              "  </thead>\n",
              "  <tbody>\n",
              "    <tr>\n",
              "      <th>4</th>\n",
              "      <td>E</td>\n",
              "      <td>0.241147</td>\n",
              "    </tr>\n",
              "    <tr>\n",
              "      <th>3</th>\n",
              "      <td>D</td>\n",
              "      <td>0.189546</td>\n",
              "    </tr>\n",
              "    <tr>\n",
              "      <th>2</th>\n",
              "      <td>C</td>\n",
              "      <td>0.181939</td>\n",
              "    </tr>\n",
              "    <tr>\n",
              "      <th>1</th>\n",
              "      <td>B</td>\n",
              "      <td>0.176176</td>\n",
              "    </tr>\n",
              "    <tr>\n",
              "      <th>0</th>\n",
              "      <td>A</td>\n",
              "      <td>0.140029</td>\n",
              "    </tr>\n",
              "  </tbody>\n",
              "</table>\n",
              "</div>"
            ],
            "text/plain": [
              "  CLUSTER  relative_dif_average\n",
              "4       E              0.241147\n",
              "3       D              0.189546\n",
              "2       C              0.181939\n",
              "1       B              0.176176\n",
              "0       A              0.140029"
            ]
          },
          "metadata": {
            "tags": []
          },
          "execution_count": 42
        }
      ]
    },
    {
      "cell_type": "code",
      "metadata": {
        "id": "tuelq-EZPAp3"
      },
      "source": [
        ""
      ],
      "execution_count": null,
      "outputs": []
    },
    {
      "cell_type": "code",
      "metadata": {
        "id": "raFvS06RPAxw"
      },
      "source": [
        ""
      ],
      "execution_count": null,
      "outputs": []
    },
    {
      "cell_type": "code",
      "metadata": {
        "id": "i6AG4ci8PA63"
      },
      "source": [
        ""
      ],
      "execution_count": null,
      "outputs": []
    },
    {
      "cell_type": "code",
      "metadata": {
        "id": "VTUTrmfoPBEV"
      },
      "source": [
        ""
      ],
      "execution_count": null,
      "outputs": []
    },
    {
      "cell_type": "markdown",
      "metadata": {
        "id": "NeEbXUlMPBV2"
      },
      "source": [
        "# **Entre 17 de fevereiro de 2021 e 16 de março de 2021**"
      ]
    },
    {
      "cell_type": "code",
      "metadata": {
        "colab": {
          "base_uri": "https://localhost:8080/",
          "height": 414
        },
        "id": "bz76Q4EBPErB",
        "outputId": "b33d4d95-ef5a-498d-d3fa-d559ae2aa926"
      },
      "source": [
        "covid_tur_aumento = covid_tur.groupby(['city_ibge_code', 'estimated_population']).apply(calcula_aumento_relativo, x_col='last_available_deaths', date_col='date', from_date='2021-02-17', to_date='2021-03-16').to_frame()\n",
        "covid_tur_aumento.rename(columns={0: \"explodir\"}, inplace=True)\n",
        "covid_tur_aumento = covid_tur_aumento['explodir'].apply(pd.Series)\n",
        "covid_tur_aumento.reset_index(inplace=True)\n",
        "covid_tur_aumento.sort_values(by='relative_dif', ascending=False)"
      ],
      "execution_count": null,
      "outputs": [
        {
          "output_type": "execute_result",
          "data": {
            "text/html": [
              "<div>\n",
              "<style scoped>\n",
              "    .dataframe tbody tr th:only-of-type {\n",
              "        vertical-align: middle;\n",
              "    }\n",
              "\n",
              "    .dataframe tbody tr th {\n",
              "        vertical-align: top;\n",
              "    }\n",
              "\n",
              "    .dataframe thead th {\n",
              "        text-align: right;\n",
              "    }\n",
              "</style>\n",
              "<table border=\"1\" class=\"dataframe\">\n",
              "  <thead>\n",
              "    <tr style=\"text-align: right;\">\n",
              "      <th></th>\n",
              "      <th>city_ibge_code</th>\n",
              "      <th>estimated_population</th>\n",
              "      <th>last_available_deaths_from</th>\n",
              "      <th>last_available_deaths_to</th>\n",
              "      <th>dif</th>\n",
              "      <th>relative_dif</th>\n",
              "    </tr>\n",
              "  </thead>\n",
              "  <tbody>\n",
              "    <tr>\n",
              "      <th>555</th>\n",
              "      <td>3171006</td>\n",
              "      <td>20642.0</td>\n",
              "      <td>10.0</td>\n",
              "      <td>32.0</td>\n",
              "      <td>22.0</td>\n",
              "      <td>2.200000</td>\n",
              "    </tr>\n",
              "    <tr>\n",
              "      <th>1014</th>\n",
              "      <td>4311007</td>\n",
              "      <td>26500.0</td>\n",
              "      <td>6.0</td>\n",
              "      <td>17.0</td>\n",
              "      <td>11.0</td>\n",
              "      <td>1.833333</td>\n",
              "    </tr>\n",
              "    <tr>\n",
              "      <th>893</th>\n",
              "      <td>4117701</td>\n",
              "      <td>33994.0</td>\n",
              "      <td>10.0</td>\n",
              "      <td>28.0</td>\n",
              "      <td>18.0</td>\n",
              "      <td>1.800000</td>\n",
              "    </tr>\n",
              "    <tr>\n",
              "      <th>866</th>\n",
              "      <td>4106506</td>\n",
              "      <td>20580.0</td>\n",
              "      <td>14.0</td>\n",
              "      <td>39.0</td>\n",
              "      <td>25.0</td>\n",
              "      <td>1.785714</td>\n",
              "    </tr>\n",
              "    <tr>\n",
              "      <th>372</th>\n",
              "      <td>2914406</td>\n",
              "      <td>25478.0</td>\n",
              "      <td>3.0</td>\n",
              "      <td>8.0</td>\n",
              "      <td>5.0</td>\n",
              "      <td>1.666667</td>\n",
              "    </tr>\n",
              "    <tr>\n",
              "      <th>...</th>\n",
              "      <td>...</td>\n",
              "      <td>...</td>\n",
              "      <td>...</td>\n",
              "      <td>...</td>\n",
              "      <td>...</td>\n",
              "      <td>...</td>\n",
              "    </tr>\n",
              "    <tr>\n",
              "      <th>74</th>\n",
              "      <td>1507458</td>\n",
              "      <td>24705.0</td>\n",
              "      <td>20.0</td>\n",
              "      <td>20.0</td>\n",
              "      <td>0.0</td>\n",
              "      <td>0.000000</td>\n",
              "    </tr>\n",
              "    <tr>\n",
              "      <th>246</th>\n",
              "      <td>2602308</td>\n",
              "      <td>38117.0</td>\n",
              "      <td>28.0</td>\n",
              "      <td>28.0</td>\n",
              "      <td>0.0</td>\n",
              "      <td>0.000000</td>\n",
              "    </tr>\n",
              "    <tr>\n",
              "      <th>188</th>\n",
              "      <td>2314102</td>\n",
              "      <td>61410.0</td>\n",
              "      <td>63.0</td>\n",
              "      <td>63.0</td>\n",
              "      <td>0.0</td>\n",
              "      <td>0.000000</td>\n",
              "    </tr>\n",
              "    <tr>\n",
              "      <th>440</th>\n",
              "      <td>3109402</td>\n",
              "      <td>28121.0</td>\n",
              "      <td>16.0</td>\n",
              "      <td>15.0</td>\n",
              "      <td>-1.0</td>\n",
              "      <td>-0.062500</td>\n",
              "    </tr>\n",
              "    <tr>\n",
              "      <th>103</th>\n",
              "      <td>2102705</td>\n",
              "      <td>22117.0</td>\n",
              "      <td>4.0</td>\n",
              "      <td>3.0</td>\n",
              "      <td>-1.0</td>\n",
              "      <td>-0.250000</td>\n",
              "    </tr>\n",
              "  </tbody>\n",
              "</table>\n",
              "<p>1155 rows × 6 columns</p>\n",
              "</div>"
            ],
            "text/plain": [
              "     city_ibge_code  estimated_population  ...   dif  relative_dif\n",
              "555         3171006               20642.0  ...  22.0      2.200000\n",
              "1014        4311007               26500.0  ...  11.0      1.833333\n",
              "893         4117701               33994.0  ...  18.0      1.800000\n",
              "866         4106506               20580.0  ...  25.0      1.785714\n",
              "372         2914406               25478.0  ...   5.0      1.666667\n",
              "...             ...                   ...  ...   ...           ...\n",
              "74          1507458               24705.0  ...   0.0      0.000000\n",
              "246         2602308               38117.0  ...   0.0      0.000000\n",
              "188         2314102               61410.0  ...   0.0      0.000000\n",
              "440         3109402               28121.0  ...  -1.0     -0.062500\n",
              "103         2102705               22117.0  ...  -1.0     -0.250000\n",
              "\n",
              "[1155 rows x 6 columns]"
            ]
          },
          "metadata": {
            "tags": []
          },
          "execution_count": 43
        }
      ]
    },
    {
      "cell_type": "code",
      "metadata": {
        "colab": {
          "base_uri": "https://localhost:8080/",
          "height": 517
        },
        "id": "J-4V_kloPErB",
        "outputId": "22ea9fd0-5778-42de-8cb0-4d86a9cb7f74"
      },
      "source": [
        "covid_tur_aumento_categorias = pd.merge(covid_tur_aumento, cidades_turisticas, left_on=\"city_ibge_code\", right_on=\"COD_IBGE\", how=\"left\")\n",
        "covid_tur_aumento_categorias"
      ],
      "execution_count": null,
      "outputs": [
        {
          "output_type": "execute_result",
          "data": {
            "text/html": [
              "<div>\n",
              "<style scoped>\n",
              "    .dataframe tbody tr th:only-of-type {\n",
              "        vertical-align: middle;\n",
              "    }\n",
              "\n",
              "    .dataframe tbody tr th {\n",
              "        vertical-align: top;\n",
              "    }\n",
              "\n",
              "    .dataframe thead th {\n",
              "        text-align: right;\n",
              "    }\n",
              "</style>\n",
              "<table border=\"1\" class=\"dataframe\">\n",
              "  <thead>\n",
              "    <tr style=\"text-align: right;\">\n",
              "      <th></th>\n",
              "      <th>city_ibge_code</th>\n",
              "      <th>estimated_population</th>\n",
              "      <th>last_available_deaths_from</th>\n",
              "      <th>last_available_deaths_to</th>\n",
              "      <th>dif</th>\n",
              "      <th>relative_dif</th>\n",
              "      <th>UF</th>\n",
              "      <th>MUNICIPIO</th>\n",
              "      <th>COD_IBGE</th>\n",
              "      <th>QUANTIDADE_VISITAS_ESTIMADAS_ NACIONAL</th>\n",
              "      <th>ARRECADACAO</th>\n",
              "      <th>CLUSTER</th>\n",
              "    </tr>\n",
              "  </thead>\n",
              "  <tbody>\n",
              "    <tr>\n",
              "      <th>0</th>\n",
              "      <td>1100023</td>\n",
              "      <td>109523.0</td>\n",
              "      <td>204.0</td>\n",
              "      <td>255.0</td>\n",
              "      <td>51.0</td>\n",
              "      <td>0.250000</td>\n",
              "      <td>RO</td>\n",
              "      <td>Ariquemes</td>\n",
              "      <td>1100023</td>\n",
              "      <td>3371</td>\n",
              "      <td>739140</td>\n",
              "      <td>C</td>\n",
              "    </tr>\n",
              "    <tr>\n",
              "      <th>1</th>\n",
              "      <td>1100049</td>\n",
              "      <td>85893.0</td>\n",
              "      <td>97.0</td>\n",
              "      <td>125.0</td>\n",
              "      <td>28.0</td>\n",
              "      <td>0.288660</td>\n",
              "      <td>RO</td>\n",
              "      <td>Cacoal</td>\n",
              "      <td>1100049</td>\n",
              "      <td>98548</td>\n",
              "      <td>866406</td>\n",
              "      <td>B</td>\n",
              "    </tr>\n",
              "    <tr>\n",
              "      <th>2</th>\n",
              "      <td>1100106</td>\n",
              "      <td>46556.0</td>\n",
              "      <td>131.0</td>\n",
              "      <td>150.0</td>\n",
              "      <td>19.0</td>\n",
              "      <td>0.145038</td>\n",
              "      <td>RO</td>\n",
              "      <td>Guajará-Mirim</td>\n",
              "      <td>1100106</td>\n",
              "      <td>34819</td>\n",
              "      <td>72309</td>\n",
              "      <td>C</td>\n",
              "    </tr>\n",
              "    <tr>\n",
              "      <th>3</th>\n",
              "      <td>1100155</td>\n",
              "      <td>35737.0</td>\n",
              "      <td>46.0</td>\n",
              "      <td>66.0</td>\n",
              "      <td>20.0</td>\n",
              "      <td>0.434783</td>\n",
              "      <td>RO</td>\n",
              "      <td>Ouro Preto do Oeste</td>\n",
              "      <td>1100155</td>\n",
              "      <td>9645</td>\n",
              "      <td>0</td>\n",
              "      <td>C</td>\n",
              "    </tr>\n",
              "    <tr>\n",
              "      <th>4</th>\n",
              "      <td>1100189</td>\n",
              "      <td>36881.0</td>\n",
              "      <td>32.0</td>\n",
              "      <td>40.0</td>\n",
              "      <td>8.0</td>\n",
              "      <td>0.250000</td>\n",
              "      <td>RO</td>\n",
              "      <td>Pimenta Bueno</td>\n",
              "      <td>1100189</td>\n",
              "      <td>29225</td>\n",
              "      <td>0</td>\n",
              "      <td>C</td>\n",
              "    </tr>\n",
              "    <tr>\n",
              "      <th>...</th>\n",
              "      <td>...</td>\n",
              "      <td>...</td>\n",
              "      <td>...</td>\n",
              "      <td>...</td>\n",
              "      <td>...</td>\n",
              "      <td>...</td>\n",
              "      <td>...</td>\n",
              "      <td>...</td>\n",
              "      <td>...</td>\n",
              "      <td>...</td>\n",
              "      <td>...</td>\n",
              "      <td>...</td>\n",
              "    </tr>\n",
              "    <tr>\n",
              "      <th>1150</th>\n",
              "      <td>5220603</td>\n",
              "      <td>20816.0</td>\n",
              "      <td>2.0</td>\n",
              "      <td>4.0</td>\n",
              "      <td>2.0</td>\n",
              "      <td>1.000000</td>\n",
              "      <td>GO</td>\n",
              "      <td>Silvânia</td>\n",
              "      <td>5220603</td>\n",
              "      <td>12425</td>\n",
              "      <td>0</td>\n",
              "      <td>D</td>\n",
              "    </tr>\n",
              "    <tr>\n",
              "      <th>1151</th>\n",
              "      <td>5221403</td>\n",
              "      <td>129823.0</td>\n",
              "      <td>196.0</td>\n",
              "      <td>230.0</td>\n",
              "      <td>34.0</td>\n",
              "      <td>0.173469</td>\n",
              "      <td>GO</td>\n",
              "      <td>Trindade</td>\n",
              "      <td>5221403</td>\n",
              "      <td>193242</td>\n",
              "      <td>546770</td>\n",
              "      <td>B</td>\n",
              "    </tr>\n",
              "    <tr>\n",
              "      <th>1152</th>\n",
              "      <td>5221601</td>\n",
              "      <td>40840.0</td>\n",
              "      <td>36.0</td>\n",
              "      <td>47.0</td>\n",
              "      <td>11.0</td>\n",
              "      <td>0.305556</td>\n",
              "      <td>GO</td>\n",
              "      <td>Uruaçu</td>\n",
              "      <td>5221601</td>\n",
              "      <td>215680</td>\n",
              "      <td>375239</td>\n",
              "      <td>B</td>\n",
              "    </tr>\n",
              "    <tr>\n",
              "      <th>1153</th>\n",
              "      <td>5221858</td>\n",
              "      <td>172135.0</td>\n",
              "      <td>159.0</td>\n",
              "      <td>187.0</td>\n",
              "      <td>28.0</td>\n",
              "      <td>0.176101</td>\n",
              "      <td>GO</td>\n",
              "      <td>Valparaíso de Goiás</td>\n",
              "      <td>5221858</td>\n",
              "      <td>3064</td>\n",
              "      <td>746468</td>\n",
              "      <td>D</td>\n",
              "    </tr>\n",
              "    <tr>\n",
              "      <th>1154</th>\n",
              "      <td>5300108</td>\n",
              "      <td>3055149.0</td>\n",
              "      <td>4304.0</td>\n",
              "      <td>4716.0</td>\n",
              "      <td>412.0</td>\n",
              "      <td>0.095725</td>\n",
              "      <td>DF</td>\n",
              "      <td>Brasília</td>\n",
              "      <td>5300108</td>\n",
              "      <td>4332053</td>\n",
              "      <td>59764674</td>\n",
              "      <td>A</td>\n",
              "    </tr>\n",
              "  </tbody>\n",
              "</table>\n",
              "<p>1155 rows × 12 columns</p>\n",
              "</div>"
            ],
            "text/plain": [
              "     city_ibge_code  estimated_population  ...  ARRECADACAO  CLUSTER\n",
              "0           1100023              109523.0  ...       739140        C\n",
              "1           1100049               85893.0  ...       866406        B\n",
              "2           1100106               46556.0  ...        72309        C\n",
              "3           1100155               35737.0  ...            0        C\n",
              "4           1100189               36881.0  ...            0        C\n",
              "...             ...                   ...  ...          ...      ...\n",
              "1150        5220603               20816.0  ...            0        D\n",
              "1151        5221403              129823.0  ...       546770        B\n",
              "1152        5221601               40840.0  ...       375239        B\n",
              "1153        5221858              172135.0  ...       746468        D\n",
              "1154        5300108             3055149.0  ...     59764674        A\n",
              "\n",
              "[1155 rows x 12 columns]"
            ]
          },
          "metadata": {
            "tags": []
          },
          "execution_count": 44
        }
      ]
    },
    {
      "cell_type": "code",
      "metadata": {
        "colab": {
          "base_uri": "https://localhost:8080/",
          "height": 301
        },
        "id": "rewvMAR1PErC",
        "outputId": "32f9015c-f716-42de-f637-79938b381763"
      },
      "source": [
        "ax = sns.boxplot(x=\"CLUSTER\", y=\"last_available_deaths_to\", data=covid_tur_aumento_categorias, showfliers = False).set_title(\"Mortalidade em fevereiro de 2021\")"
      ],
      "execution_count": null,
      "outputs": [
        {
          "output_type": "display_data",
          "data": {
            "image/png": "[encoded data removed]",
            "text/plain": [
              "<Figure size 432x288 with 1 Axes>"
            ]
          },
          "metadata": {
            "tags": [],
            "needs_background": "light"
          }
        }
      ]
    },
    {
      "cell_type": "code",
      "metadata": {
        "colab": {
          "base_uri": "https://localhost:8080/",
          "height": 301
        },
        "id": "VkZVGJedPErC",
        "outputId": "4c28892b-7718-4d37-b777-aca9d81cf57d"
      },
      "source": [
        "ax = sns.boxplot(x=\"CLUSTER\", y=\"relative_dif\", data=covid_tur_aumento_categorias, showfliers = False).set_title(\"Percentual de aumento entre 17 de fevereiro de 2021 e 16 de março de 2021\")"
      ],
      "execution_count": null,
      "outputs": [
        {
          "output_type": "display_data",
          "data": {
            "image/png": "[encoded data removed]",
            "text/plain": [
              "<Figure size 432x288 with 1 Axes>"
            ]
          },
          "metadata": {
            "tags": [],
            "needs_background": "light"
          }
        }
      ]
    },
    {
      "cell_type": "code",
      "metadata": {
        "colab": {
          "base_uri": "https://localhost:8080/",
          "height": 301
        },
        "id": "n21JJs-tPErD",
        "outputId": "c3871623-d025-46c4-cf31-40124eeff909"
      },
      "source": [
        "ax = sns.boxplot(x=\"CLUSTER\", y=\"dif\", data=covid_tur_aumento_categorias, showfliers = False).set_title(\"Aumento absoluto entre 17 de fevereiro de 2021 e 16 de março de 2021\")"
      ],
      "execution_count": null,
      "outputs": [
        {
          "output_type": "display_data",
          "data": {
            "image/png": "[encoded data removed]",
            "text/plain": [
              "<Figure size 432x288 with 1 Axes>"
            ]
          },
          "metadata": {
            "tags": [],
            "needs_background": "light"
          }
        }
      ]
    },
    {
      "cell_type": "code",
      "metadata": {
        "colab": {
          "base_uri": "https://localhost:8080/"
        },
        "id": "-LXKNVuNPErD",
        "outputId": "50f2fd4b-c4fd-4436-ecb9-60cb2350e20e"
      },
      "source": [
        "categorias = pd.concat([covid_tur_aumento_categorias.groupby('CLUSTER').agg(\n",
        "    n_cities=('city_ibge_code','count'),\n",
        "    population_mean=('estimated_population','mean'),\n",
        "    population_median=('estimated_population','median'),\n",
        "    last_available_deaths_from_mean=('last_available_deaths_from','mean'),\n",
        "    last_available_deaths_from_median=('last_available_deaths_from','median'),\n",
        "    last_available_deaths_to_mean=('last_available_deaths_to','mean'),\n",
        "    last_available_deaths_to_median=('last_available_deaths_to','median'),    \n",
        "    dif_mean=('dif','mean'),\n",
        "    dif_median=('dif','median'),\n",
        "    relative_dif_mean=('relative_dif','mean'),\n",
        "    relative_dif_median=('relative_dif','median')\n",
        "),(covid_tur_aumento_categorias.groupby('CLUSTER').apply(lambda x: pd.np.average(x.relative_dif, weights=x.estimated_population)).rename('relative_dif_average'))], axis=1)"
      ],
      "execution_count": null,
      "outputs": [
        {
          "output_type": "stream",
          "text": [
            "/usr/local/lib/python3.7/dist-packages/ipykernel_launcher.py:13: FutureWarning: The pandas.np module is deprecated and will be removed from pandas in a future version. Import numpy directly instead\n",
            "  del sys.path[0]\n"
          ],
          "name": "stderr"
        }
      ]
    },
    {
      "cell_type": "code",
      "metadata": {
        "colab": {
          "base_uri": "https://localhost:8080/",
          "height": 222
        },
        "id": "Wyu-q0blPErE",
        "outputId": "b64f3733-e7a4-4317-94ff-4e43be95dcf9"
      },
      "source": [
        "categorias.reset_index(inplace=True)\n",
        "categorias"
      ],
      "execution_count": null,
      "outputs": [
        {
          "output_type": "execute_result",
          "data": {
            "text/html": [
              "<div>\n",
              "<style scoped>\n",
              "    .dataframe tbody tr th:only-of-type {\n",
              "        vertical-align: middle;\n",
              "    }\n",
              "\n",
              "    .dataframe tbody tr th {\n",
              "        vertical-align: top;\n",
              "    }\n",
              "\n",
              "    .dataframe thead th {\n",
              "        text-align: right;\n",
              "    }\n",
              "</style>\n",
              "<table border=\"1\" class=\"dataframe\">\n",
              "  <thead>\n",
              "    <tr style=\"text-align: right;\">\n",
              "      <th></th>\n",
              "      <th>CLUSTER</th>\n",
              "      <th>n_cities</th>\n",
              "      <th>population_mean</th>\n",
              "      <th>population_median</th>\n",
              "      <th>last_available_deaths_from_mean</th>\n",
              "      <th>last_available_deaths_from_median</th>\n",
              "      <th>last_available_deaths_to_mean</th>\n",
              "      <th>last_available_deaths_to_median</th>\n",
              "      <th>dif_mean</th>\n",
              "      <th>dif_median</th>\n",
              "      <th>relative_dif_mean</th>\n",
              "      <th>relative_dif_median</th>\n",
              "      <th>relative_dif_average</th>\n",
              "    </tr>\n",
              "  </thead>\n",
              "  <tbody>\n",
              "    <tr>\n",
              "      <th>0</th>\n",
              "      <td>A</td>\n",
              "      <td>59</td>\n",
              "      <td>984885.593220</td>\n",
              "      <td>419652.0</td>\n",
              "      <td>1645.033898</td>\n",
              "      <td>580.0</td>\n",
              "      <td>1865.508475</td>\n",
              "      <td>705.0</td>\n",
              "      <td>220.474576</td>\n",
              "      <td>114.0</td>\n",
              "      <td>0.189079</td>\n",
              "      <td>0.159794</td>\n",
              "      <td>0.142200</td>\n",
              "    </tr>\n",
              "    <tr>\n",
              "      <th>1</th>\n",
              "      <td>B</td>\n",
              "      <td>238</td>\n",
              "      <td>183898.054622</td>\n",
              "      <td>123057.0</td>\n",
              "      <td>211.857143</td>\n",
              "      <td>118.0</td>\n",
              "      <td>250.113445</td>\n",
              "      <td>143.0</td>\n",
              "      <td>38.256303</td>\n",
              "      <td>22.0</td>\n",
              "      <td>0.226293</td>\n",
              "      <td>0.171786</td>\n",
              "      <td>0.204690</td>\n",
              "    </tr>\n",
              "    <tr>\n",
              "      <th>2</th>\n",
              "      <td>C</td>\n",
              "      <td>397</td>\n",
              "      <td>74728.382872</td>\n",
              "      <td>51338.0</td>\n",
              "      <td>77.725441</td>\n",
              "      <td>46.0</td>\n",
              "      <td>91.327456</td>\n",
              "      <td>52.0</td>\n",
              "      <td>13.602015</td>\n",
              "      <td>7.0</td>\n",
              "      <td>0.217472</td>\n",
              "      <td>0.157895</td>\n",
              "      <td>0.195683</td>\n",
              "    </tr>\n",
              "    <tr>\n",
              "      <th>3</th>\n",
              "      <td>D</td>\n",
              "      <td>450</td>\n",
              "      <td>39418.280000</td>\n",
              "      <td>30428.5</td>\n",
              "      <td>33.353333</td>\n",
              "      <td>23.0</td>\n",
              "      <td>39.795556</td>\n",
              "      <td>28.0</td>\n",
              "      <td>6.442222</td>\n",
              "      <td>4.0</td>\n",
              "      <td>0.246462</td>\n",
              "      <td>0.166667</td>\n",
              "      <td>0.224332</td>\n",
              "    </tr>\n",
              "    <tr>\n",
              "      <th>4</th>\n",
              "      <td>E</td>\n",
              "      <td>11</td>\n",
              "      <td>39515.181818</td>\n",
              "      <td>24382.0</td>\n",
              "      <td>30.636364</td>\n",
              "      <td>20.0</td>\n",
              "      <td>35.454545</td>\n",
              "      <td>24.0</td>\n",
              "      <td>4.818182</td>\n",
              "      <td>4.0</td>\n",
              "      <td>0.202046</td>\n",
              "      <td>0.166667</td>\n",
              "      <td>0.190595</td>\n",
              "    </tr>\n",
              "  </tbody>\n",
              "</table>\n",
              "</div>"
            ],
            "text/plain": [
              "  CLUSTER  n_cities  ...  relative_dif_median  relative_dif_average\n",
              "0       A        59  ...             0.159794              0.142200\n",
              "1       B       238  ...             0.171786              0.204690\n",
              "2       C       397  ...             0.157895              0.195683\n",
              "3       D       450  ...             0.166667              0.224332\n",
              "4       E        11  ...             0.166667              0.190595\n",
              "\n",
              "[5 rows x 13 columns]"
            ]
          },
          "metadata": {
            "tags": []
          },
          "execution_count": 49
        }
      ]
    },
    {
      "cell_type": "code",
      "metadata": {
        "colab": {
          "base_uri": "https://localhost:8080/",
          "height": 301
        },
        "id": "n7nDQuc8UzsU",
        "outputId": "4385d00d-f671-441c-f741-33c76b216ac7"
      },
      "source": [
        "ax = sns.boxplot(x=\"CLUSTER\", y=\"relative_dif_average\", data=categorias, showfliers = False).set_title(\"Aumento considerando tamanho entre 17 de fevereiro de 2021 e 16 de março de 2021\")"
      ],
      "execution_count": null,
      "outputs": [
        {
          "output_type": "display_data",
          "data": {
            "image/png": "[encoded data removed]",
            "text/plain": [
              "<Figure size 432x288 with 1 Axes>"
            ]
          },
          "metadata": {
            "tags": [],
            "needs_background": "light"
          }
        }
      ]
    },
    {
      "cell_type": "markdown",
      "metadata": {
        "id": "LMD9QRdOPErE"
      },
      "source": [
        "**Métricas em ordem decrescente**"
      ]
    },
    {
      "cell_type": "code",
      "metadata": {
        "colab": {
          "base_uri": "https://localhost:8080/",
          "height": 202
        },
        "id": "vxvIFmSFPErE",
        "outputId": "11fabd1c-587f-4af8-a748-e911b94c7ebd"
      },
      "source": [
        "mediana_aumento_mortalidade_abs = categorias.sort_values(ascending=False, by=\"dif_median\")\n",
        "mediana_aumento_mortalidade_abs[[\"CLUSTER\",\"dif_median\"]]"
      ],
      "execution_count": null,
      "outputs": [
        {
          "output_type": "execute_result",
          "data": {
            "text/html": [
              "<div>\n",
              "<style scoped>\n",
              "    .dataframe tbody tr th:only-of-type {\n",
              "        vertical-align: middle;\n",
              "    }\n",
              "\n",
              "    .dataframe tbody tr th {\n",
              "        vertical-align: top;\n",
              "    }\n",
              "\n",
              "    .dataframe thead th {\n",
              "        text-align: right;\n",
              "    }\n",
              "</style>\n",
              "<table border=\"1\" class=\"dataframe\">\n",
              "  <thead>\n",
              "    <tr style=\"text-align: right;\">\n",
              "      <th></th>\n",
              "      <th>CLUSTER</th>\n",
              "      <th>dif_median</th>\n",
              "    </tr>\n",
              "  </thead>\n",
              "  <tbody>\n",
              "    <tr>\n",
              "      <th>0</th>\n",
              "      <td>A</td>\n",
              "      <td>114.0</td>\n",
              "    </tr>\n",
              "    <tr>\n",
              "      <th>1</th>\n",
              "      <td>B</td>\n",
              "      <td>22.0</td>\n",
              "    </tr>\n",
              "    <tr>\n",
              "      <th>2</th>\n",
              "      <td>C</td>\n",
              "      <td>7.0</td>\n",
              "    </tr>\n",
              "    <tr>\n",
              "      <th>3</th>\n",
              "      <td>D</td>\n",
              "      <td>4.0</td>\n",
              "    </tr>\n",
              "    <tr>\n",
              "      <th>4</th>\n",
              "      <td>E</td>\n",
              "      <td>4.0</td>\n",
              "    </tr>\n",
              "  </tbody>\n",
              "</table>\n",
              "</div>"
            ],
            "text/plain": [
              "  CLUSTER  dif_median\n",
              "0       A       114.0\n",
              "1       B        22.0\n",
              "2       C         7.0\n",
              "3       D         4.0\n",
              "4       E         4.0"
            ]
          },
          "metadata": {
            "tags": []
          },
          "execution_count": 51
        }
      ]
    },
    {
      "cell_type": "code",
      "metadata": {
        "colab": {
          "base_uri": "https://localhost:8080/",
          "height": 202
        },
        "id": "h1vHzTI6PErF",
        "outputId": "fbaba64b-3123-4608-cd79-a5195f2c3c65"
      },
      "source": [
        "mediana_aumento_mortalidade_rel = categorias.sort_values(ascending=False, by=\"relative_dif_median\")\n",
        "mediana_aumento_mortalidade_rel[[\"CLUSTER\",\"relative_dif_median\"]]"
      ],
      "execution_count": null,
      "outputs": [
        {
          "output_type": "execute_result",
          "data": {
            "text/html": [
              "<div>\n",
              "<style scoped>\n",
              "    .dataframe tbody tr th:only-of-type {\n",
              "        vertical-align: middle;\n",
              "    }\n",
              "\n",
              "    .dataframe tbody tr th {\n",
              "        vertical-align: top;\n",
              "    }\n",
              "\n",
              "    .dataframe thead th {\n",
              "        text-align: right;\n",
              "    }\n",
              "</style>\n",
              "<table border=\"1\" class=\"dataframe\">\n",
              "  <thead>\n",
              "    <tr style=\"text-align: right;\">\n",
              "      <th></th>\n",
              "      <th>CLUSTER</th>\n",
              "      <th>relative_dif_median</th>\n",
              "    </tr>\n",
              "  </thead>\n",
              "  <tbody>\n",
              "    <tr>\n",
              "      <th>1</th>\n",
              "      <td>B</td>\n",
              "      <td>0.171786</td>\n",
              "    </tr>\n",
              "    <tr>\n",
              "      <th>3</th>\n",
              "      <td>D</td>\n",
              "      <td>0.166667</td>\n",
              "    </tr>\n",
              "    <tr>\n",
              "      <th>4</th>\n",
              "      <td>E</td>\n",
              "      <td>0.166667</td>\n",
              "    </tr>\n",
              "    <tr>\n",
              "      <th>0</th>\n",
              "      <td>A</td>\n",
              "      <td>0.159794</td>\n",
              "    </tr>\n",
              "    <tr>\n",
              "      <th>2</th>\n",
              "      <td>C</td>\n",
              "      <td>0.157895</td>\n",
              "    </tr>\n",
              "  </tbody>\n",
              "</table>\n",
              "</div>"
            ],
            "text/plain": [
              "  CLUSTER  relative_dif_median\n",
              "1       B             0.171786\n",
              "3       D             0.166667\n",
              "4       E             0.166667\n",
              "0       A             0.159794\n",
              "2       C             0.157895"
            ]
          },
          "metadata": {
            "tags": []
          },
          "execution_count": 52
        }
      ]
    },
    {
      "cell_type": "code",
      "metadata": {
        "colab": {
          "base_uri": "https://localhost:8080/",
          "height": 202
        },
        "id": "f7H1-YUTPErG",
        "outputId": "aaa8fa6e-a686-4cb2-f76c-846186a639ca"
      },
      "source": [
        "aumento_considerando_populacao = categorias.sort_values(ascending=False, by=\"relative_dif_average\")\n",
        "aumento_considerando_populacao[[\"CLUSTER\",\"relative_dif_average\"]]"
      ],
      "execution_count": null,
      "outputs": [
        {
          "output_type": "execute_result",
          "data": {
            "text/html": [
              "<div>\n",
              "<style scoped>\n",
              "    .dataframe tbody tr th:only-of-type {\n",
              "        vertical-align: middle;\n",
              "    }\n",
              "\n",
              "    .dataframe tbody tr th {\n",
              "        vertical-align: top;\n",
              "    }\n",
              "\n",
              "    .dataframe thead th {\n",
              "        text-align: right;\n",
              "    }\n",
              "</style>\n",
              "<table border=\"1\" class=\"dataframe\">\n",
              "  <thead>\n",
              "    <tr style=\"text-align: right;\">\n",
              "      <th></th>\n",
              "      <th>CLUSTER</th>\n",
              "      <th>relative_dif_average</th>\n",
              "    </tr>\n",
              "  </thead>\n",
              "  <tbody>\n",
              "    <tr>\n",
              "      <th>3</th>\n",
              "      <td>D</td>\n",
              "      <td>0.224332</td>\n",
              "    </tr>\n",
              "    <tr>\n",
              "      <th>1</th>\n",
              "      <td>B</td>\n",
              "      <td>0.204690</td>\n",
              "    </tr>\n",
              "    <tr>\n",
              "      <th>2</th>\n",
              "      <td>C</td>\n",
              "      <td>0.195683</td>\n",
              "    </tr>\n",
              "    <tr>\n",
              "      <th>4</th>\n",
              "      <td>E</td>\n",
              "      <td>0.190595</td>\n",
              "    </tr>\n",
              "    <tr>\n",
              "      <th>0</th>\n",
              "      <td>A</td>\n",
              "      <td>0.142200</td>\n",
              "    </tr>\n",
              "  </tbody>\n",
              "</table>\n",
              "</div>"
            ],
            "text/plain": [
              "  CLUSTER  relative_dif_average\n",
              "3       D              0.224332\n",
              "1       B              0.204690\n",
              "2       C              0.195683\n",
              "4       E              0.190595\n",
              "0       A              0.142200"
            ]
          },
          "metadata": {
            "tags": []
          },
          "execution_count": 53
        }
      ]
    }
  ]
}